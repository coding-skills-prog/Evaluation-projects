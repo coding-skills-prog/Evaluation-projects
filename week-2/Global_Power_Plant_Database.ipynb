{
  "nbformat": 4,
  "nbformat_minor": 0,
  "metadata": {
    "colab": {
      "name": "Global_Power_Plant_Database.ipynb",
      "provenance": [],
      "collapsed_sections": []
    },
    "kernelspec": {
      "name": "python3",
      "display_name": "Python 3"
    },
    "language_info": {
      "name": "python"
    }
  },
  "cells": [
    {
      "cell_type": "markdown",
      "source": [
        "## The Global Power Plant Database is a comprehensive, open source database of power plants around the world. It centralizes power plant data to make it easier to navigate, compare and draw insights for one’s own analysis. The database covers approximately 35,000 power plants from 167 countries and includes thermal plants (e.g. coal, gas, oil, nuclear, biomass, waste, geothermal) and renewables (e.g. hydro, wind, solar). Each power plant is geolocated and entries contain information on plant capacity, generation, ownership, and fuel type. It will be continuously updated as data becomes available."
      ],
      "metadata": {
        "id": "3PkpjNDc0KDu"
      }
    },
    {
      "cell_type": "markdown",
      "source": [
        "### But,In this project we are considering only database_IND to build a model."
      ],
      "metadata": {
        "id": "xaQ1K8ZP2-0O"
      }
    },
    {
      "cell_type": "code",
      "source": [
        "# Importing packages\n",
        "import pandas as pd\n",
        "import numpy as np\n",
        "import matplotlib.pyplot as plt\n",
        "import seaborn as sns"
      ],
      "metadata": {
        "id": "K8LinlVi0P4R"
      },
      "execution_count": 255,
      "outputs": []
    },
    {
      "cell_type": "code",
      "source": [
        "import warnings\n",
        "warnings.filterwarnings('ignore') #to remove warning messages"
      ],
      "metadata": {
        "id": "z8f5XQLa5KnY"
      },
      "execution_count": 256,
      "outputs": []
    },
    {
      "cell_type": "code",
      "source": [
        "#reading a dataset\n",
        "df = pd.read_csv(\"database_IND.csv\")\n",
        "df.head()"
      ],
      "metadata": {
        "colab": {
          "base_uri": "https://localhost:8080/",
          "height": 461
        },
        "id": "cGCPRjLq2uZ5",
        "outputId": "8970f306-9611-4a90-98d8-4e5bb5649d15"
      },
      "execution_count": 550,
      "outputs": [
        {
          "output_type": "execute_result",
          "data": {
            "text/html": [
              "\n",
              "  <div id=\"df-03a0fba5-0bfa-4d35-bec8-cc114beddbef\">\n",
              "    <div class=\"colab-df-container\">\n",
              "      <div>\n",
              "<style scoped>\n",
              "    .dataframe tbody tr th:only-of-type {\n",
              "        vertical-align: middle;\n",
              "    }\n",
              "\n",
              "    .dataframe tbody tr th {\n",
              "        vertical-align: top;\n",
              "    }\n",
              "\n",
              "    .dataframe thead th {\n",
              "        text-align: right;\n",
              "    }\n",
              "</style>\n",
              "<table border=\"1\" class=\"dataframe\">\n",
              "  <thead>\n",
              "    <tr style=\"text-align: right;\">\n",
              "      <th></th>\n",
              "      <th>country</th>\n",
              "      <th>country_long</th>\n",
              "      <th>name</th>\n",
              "      <th>gppd_idnr</th>\n",
              "      <th>capacity_mw</th>\n",
              "      <th>latitude</th>\n",
              "      <th>longitude</th>\n",
              "      <th>primary_fuel</th>\n",
              "      <th>other_fuel1</th>\n",
              "      <th>other_fuel2</th>\n",
              "      <th>other_fuel3</th>\n",
              "      <th>commissioning_year</th>\n",
              "      <th>owner</th>\n",
              "      <th>source</th>\n",
              "      <th>url</th>\n",
              "      <th>geolocation_source</th>\n",
              "      <th>wepp_id</th>\n",
              "      <th>year_of_capacity_data</th>\n",
              "      <th>generation_gwh_2013</th>\n",
              "      <th>generation_gwh_2014</th>\n",
              "      <th>generation_gwh_2015</th>\n",
              "      <th>generation_gwh_2016</th>\n",
              "      <th>generation_gwh_2017</th>\n",
              "      <th>generation_gwh_2018</th>\n",
              "      <th>generation_gwh_2019</th>\n",
              "      <th>generation_data_source</th>\n",
              "      <th>estimated_generation_gwh</th>\n",
              "    </tr>\n",
              "  </thead>\n",
              "  <tbody>\n",
              "    <tr>\n",
              "      <th>0</th>\n",
              "      <td>IND</td>\n",
              "      <td>India</td>\n",
              "      <td>ACME Solar Tower</td>\n",
              "      <td>WRI1020239</td>\n",
              "      <td>2.5</td>\n",
              "      <td>28.1839</td>\n",
              "      <td>73.2407</td>\n",
              "      <td>Solar</td>\n",
              "      <td>NaN</td>\n",
              "      <td>NaN</td>\n",
              "      <td>NaN</td>\n",
              "      <td>2011.0</td>\n",
              "      <td>Solar Paces</td>\n",
              "      <td>National Renewable Energy Laboratory</td>\n",
              "      <td>http://www.nrel.gov/csp/solarpaces/project_det...</td>\n",
              "      <td>National Renewable Energy Laboratory</td>\n",
              "      <td>NaN</td>\n",
              "      <td>NaN</td>\n",
              "      <td>NaN</td>\n",
              "      <td>NaN</td>\n",
              "      <td>NaN</td>\n",
              "      <td>NaN</td>\n",
              "      <td>NaN</td>\n",
              "      <td>NaN</td>\n",
              "      <td>NaN</td>\n",
              "      <td>NaN</td>\n",
              "      <td>NaN</td>\n",
              "    </tr>\n",
              "    <tr>\n",
              "      <th>1</th>\n",
              "      <td>IND</td>\n",
              "      <td>India</td>\n",
              "      <td>ADITYA CEMENT WORKS</td>\n",
              "      <td>WRI1019881</td>\n",
              "      <td>98.0</td>\n",
              "      <td>24.7663</td>\n",
              "      <td>74.6090</td>\n",
              "      <td>Coal</td>\n",
              "      <td>NaN</td>\n",
              "      <td>NaN</td>\n",
              "      <td>NaN</td>\n",
              "      <td>NaN</td>\n",
              "      <td>Ultratech Cement ltd</td>\n",
              "      <td>Ultratech Cement ltd</td>\n",
              "      <td>http://www.ultratechcement.com/</td>\n",
              "      <td>WRI</td>\n",
              "      <td>NaN</td>\n",
              "      <td>NaN</td>\n",
              "      <td>NaN</td>\n",
              "      <td>NaN</td>\n",
              "      <td>NaN</td>\n",
              "      <td>NaN</td>\n",
              "      <td>NaN</td>\n",
              "      <td>NaN</td>\n",
              "      <td>NaN</td>\n",
              "      <td>NaN</td>\n",
              "      <td>NaN</td>\n",
              "    </tr>\n",
              "    <tr>\n",
              "      <th>2</th>\n",
              "      <td>IND</td>\n",
              "      <td>India</td>\n",
              "      <td>AES Saurashtra Windfarms</td>\n",
              "      <td>WRI1026669</td>\n",
              "      <td>39.2</td>\n",
              "      <td>21.9038</td>\n",
              "      <td>69.3732</td>\n",
              "      <td>Wind</td>\n",
              "      <td>NaN</td>\n",
              "      <td>NaN</td>\n",
              "      <td>NaN</td>\n",
              "      <td>NaN</td>\n",
              "      <td>AES</td>\n",
              "      <td>CDM</td>\n",
              "      <td>https://cdm.unfccc.int/Projects/DB/DNV-CUK1328...</td>\n",
              "      <td>WRI</td>\n",
              "      <td>NaN</td>\n",
              "      <td>NaN</td>\n",
              "      <td>NaN</td>\n",
              "      <td>NaN</td>\n",
              "      <td>NaN</td>\n",
              "      <td>NaN</td>\n",
              "      <td>NaN</td>\n",
              "      <td>NaN</td>\n",
              "      <td>NaN</td>\n",
              "      <td>NaN</td>\n",
              "      <td>NaN</td>\n",
              "    </tr>\n",
              "    <tr>\n",
              "      <th>3</th>\n",
              "      <td>IND</td>\n",
              "      <td>India</td>\n",
              "      <td>AGARTALA GT</td>\n",
              "      <td>IND0000001</td>\n",
              "      <td>135.0</td>\n",
              "      <td>23.8712</td>\n",
              "      <td>91.3602</td>\n",
              "      <td>Gas</td>\n",
              "      <td>NaN</td>\n",
              "      <td>NaN</td>\n",
              "      <td>NaN</td>\n",
              "      <td>2004.0</td>\n",
              "      <td>NaN</td>\n",
              "      <td>Central Electricity Authority</td>\n",
              "      <td>http://www.cea.nic.in/</td>\n",
              "      <td>WRI</td>\n",
              "      <td>NaN</td>\n",
              "      <td>2019.0</td>\n",
              "      <td>NaN</td>\n",
              "      <td>617.789264</td>\n",
              "      <td>843.747</td>\n",
              "      <td>886.004428</td>\n",
              "      <td>663.774500</td>\n",
              "      <td>626.239128</td>\n",
              "      <td>NaN</td>\n",
              "      <td>Central Electricity Authority</td>\n",
              "      <td>NaN</td>\n",
              "    </tr>\n",
              "    <tr>\n",
              "      <th>4</th>\n",
              "      <td>IND</td>\n",
              "      <td>India</td>\n",
              "      <td>AKALTARA TPP</td>\n",
              "      <td>IND0000002</td>\n",
              "      <td>1800.0</td>\n",
              "      <td>21.9603</td>\n",
              "      <td>82.4091</td>\n",
              "      <td>Coal</td>\n",
              "      <td>Oil</td>\n",
              "      <td>NaN</td>\n",
              "      <td>NaN</td>\n",
              "      <td>2015.0</td>\n",
              "      <td>NaN</td>\n",
              "      <td>Central Electricity Authority</td>\n",
              "      <td>http://www.cea.nic.in/</td>\n",
              "      <td>WRI</td>\n",
              "      <td>NaN</td>\n",
              "      <td>2019.0</td>\n",
              "      <td>NaN</td>\n",
              "      <td>3035.550000</td>\n",
              "      <td>5916.370</td>\n",
              "      <td>6243.000000</td>\n",
              "      <td>5385.579736</td>\n",
              "      <td>7279.000000</td>\n",
              "      <td>NaN</td>\n",
              "      <td>Central Electricity Authority</td>\n",
              "      <td>NaN</td>\n",
              "    </tr>\n",
              "  </tbody>\n",
              "</table>\n",
              "</div>\n",
              "      <button class=\"colab-df-convert\" onclick=\"convertToInteractive('df-03a0fba5-0bfa-4d35-bec8-cc114beddbef')\"\n",
              "              title=\"Convert this dataframe to an interactive table.\"\n",
              "              style=\"display:none;\">\n",
              "        \n",
              "  <svg xmlns=\"http://www.w3.org/2000/svg\" height=\"24px\"viewBox=\"0 0 24 24\"\n",
              "       width=\"24px\">\n",
              "    <path d=\"M0 0h24v24H0V0z\" fill=\"none\"/>\n",
              "    <path d=\"M18.56 5.44l.94 2.06.94-2.06 2.06-.94-2.06-.94-.94-2.06-.94 2.06-2.06.94zm-11 1L8.5 8.5l.94-2.06 2.06-.94-2.06-.94L8.5 2.5l-.94 2.06-2.06.94zm10 10l.94 2.06.94-2.06 2.06-.94-2.06-.94-.94-2.06-.94 2.06-2.06.94z\"/><path d=\"M17.41 7.96l-1.37-1.37c-.4-.4-.92-.59-1.43-.59-.52 0-1.04.2-1.43.59L10.3 9.45l-7.72 7.72c-.78.78-.78 2.05 0 2.83L4 21.41c.39.39.9.59 1.41.59.51 0 1.02-.2 1.41-.59l7.78-7.78 2.81-2.81c.8-.78.8-2.07 0-2.86zM5.41 20L4 18.59l7.72-7.72 1.47 1.35L5.41 20z\"/>\n",
              "  </svg>\n",
              "      </button>\n",
              "      \n",
              "  <style>\n",
              "    .colab-df-container {\n",
              "      display:flex;\n",
              "      flex-wrap:wrap;\n",
              "      gap: 12px;\n",
              "    }\n",
              "\n",
              "    .colab-df-convert {\n",
              "      background-color: #E8F0FE;\n",
              "      border: none;\n",
              "      border-radius: 50%;\n",
              "      cursor: pointer;\n",
              "      display: none;\n",
              "      fill: #1967D2;\n",
              "      height: 32px;\n",
              "      padding: 0 0 0 0;\n",
              "      width: 32px;\n",
              "    }\n",
              "\n",
              "    .colab-df-convert:hover {\n",
              "      background-color: #E2EBFA;\n",
              "      box-shadow: 0px 1px 2px rgba(60, 64, 67, 0.3), 0px 1px 3px 1px rgba(60, 64, 67, 0.15);\n",
              "      fill: #174EA6;\n",
              "    }\n",
              "\n",
              "    [theme=dark] .colab-df-convert {\n",
              "      background-color: #3B4455;\n",
              "      fill: #D2E3FC;\n",
              "    }\n",
              "\n",
              "    [theme=dark] .colab-df-convert:hover {\n",
              "      background-color: #434B5C;\n",
              "      box-shadow: 0px 1px 3px 1px rgba(0, 0, 0, 0.15);\n",
              "      filter: drop-shadow(0px 1px 2px rgba(0, 0, 0, 0.3));\n",
              "      fill: #FFFFFF;\n",
              "    }\n",
              "  </style>\n",
              "\n",
              "      <script>\n",
              "        const buttonEl =\n",
              "          document.querySelector('#df-03a0fba5-0bfa-4d35-bec8-cc114beddbef button.colab-df-convert');\n",
              "        buttonEl.style.display =\n",
              "          google.colab.kernel.accessAllowed ? 'block' : 'none';\n",
              "\n",
              "        async function convertToInteractive(key) {\n",
              "          const element = document.querySelector('#df-03a0fba5-0bfa-4d35-bec8-cc114beddbef');\n",
              "          const dataTable =\n",
              "            await google.colab.kernel.invokeFunction('convertToInteractive',\n",
              "                                                     [key], {});\n",
              "          if (!dataTable) return;\n",
              "\n",
              "          const docLinkHtml = 'Like what you see? Visit the ' +\n",
              "            '<a target=\"_blank\" href=https://colab.research.google.com/notebooks/data_table.ipynb>data table notebook</a>'\n",
              "            + ' to learn more about interactive tables.';\n",
              "          element.innerHTML = '';\n",
              "          dataTable['output_type'] = 'display_data';\n",
              "          await google.colab.output.renderOutput(dataTable, element);\n",
              "          const docLink = document.createElement('div');\n",
              "          docLink.innerHTML = docLinkHtml;\n",
              "          element.appendChild(docLink);\n",
              "        }\n",
              "      </script>\n",
              "    </div>\n",
              "  </div>\n",
              "  "
            ],
            "text/plain": [
              "  country country_long  ...         generation_data_source estimated_generation_gwh\n",
              "0     IND        India  ...                            NaN                      NaN\n",
              "1     IND        India  ...                            NaN                      NaN\n",
              "2     IND        India  ...                            NaN                      NaN\n",
              "3     IND        India  ...  Central Electricity Authority                      NaN\n",
              "4     IND        India  ...  Central Electricity Authority                      NaN\n",
              "\n",
              "[5 rows x 27 columns]"
            ]
          },
          "metadata": {},
          "execution_count": 550
        }
      ]
    },
    {
      "cell_type": "markdown",
      "source": [
        "## a)Predicting the primary_fuel"
      ],
      "metadata": {
        "id": "r-4o8xBV5jY5"
      }
    },
    {
      "cell_type": "code",
      "source": [
        "df['primary_fuel'].value_counts()"
      ],
      "metadata": {
        "colab": {
          "base_uri": "https://localhost:8080/"
        },
        "id": "N0V86zQU207h",
        "outputId": "1c2b26b1-012c-4935-9f58-1fb2ded013a2"
      },
      "execution_count": 551,
      "outputs": [
        {
          "output_type": "execute_result",
          "data": {
            "text/plain": [
              "Coal       258\n",
              "Hydro      251\n",
              "Solar      127\n",
              "Wind       123\n",
              "Gas         69\n",
              "Biomass     50\n",
              "Oil         20\n",
              "Nuclear      9\n",
              "Name: primary_fuel, dtype: int64"
            ]
          },
          "metadata": {},
          "execution_count": 551
        }
      ]
    },
    {
      "cell_type": "code",
      "source": [
        "a = sns.factorplot('primary_fuel', data=df, kind=\"count\")\n",
        "a.set_xticklabels(rotation=30)"
      ],
      "metadata": {
        "colab": {
          "base_uri": "https://localhost:8080/",
          "height": 407
        },
        "id": "O-oeuy3I33QK",
        "outputId": "a6698b20-c663-417c-98ea-38a89dfd8c82"
      },
      "execution_count": 552,
      "outputs": [
        {
          "output_type": "execute_result",
          "data": {
            "text/plain": [
              "<seaborn.axisgrid.FacetGrid at 0x7f001e1a2b10>"
            ]
          },
          "metadata": {},
          "execution_count": 552
        },
        {
          "output_type": "display_data",
          "data": {
            "image/png": "[encoded data removed]",
            "text/plain": [
              "<Figure size 360x360 with 1 Axes>"
            ]
          },
          "metadata": {
            "needs_background": "light"
          }
        }
      ]
    },
    {
      "cell_type": "markdown",
      "source": [
        "with this,we can say that there are more records on \"Coal\" and \"Hydro\" compared to other types of fuel."
      ],
      "metadata": {
        "id": "wW3m-Cn95Y1P"
      }
    },
    {
      "cell_type": "code",
      "source": [
        "df.duplicated().sum() #checking for duplicate records"
      ],
      "metadata": {
        "colab": {
          "base_uri": "https://localhost:8080/"
        },
        "id": "ZwXSLljD46dP",
        "outputId": "15ca4495-bd5e-4494-a06a-97c4fd6ca0cf"
      },
      "execution_count": 553,
      "outputs": [
        {
          "output_type": "execute_result",
          "data": {
            "text/plain": [
              "0"
            ]
          },
          "metadata": {},
          "execution_count": 553
        }
      ]
    },
    {
      "cell_type": "code",
      "source": [
        "#to check how many rows and columns in dataframe\n",
        "df.shape"
      ],
      "metadata": {
        "colab": {
          "base_uri": "https://localhost:8080/"
        },
        "id": "C4Zx7gbq7W3Z",
        "outputId": "b2819a63-1e95-4c16-d8b3-29210375d2de"
      },
      "execution_count": 554,
      "outputs": [
        {
          "output_type": "execute_result",
          "data": {
            "text/plain": [
              "(907, 27)"
            ]
          },
          "metadata": {},
          "execution_count": 554
        }
      ]
    },
    {
      "cell_type": "markdown",
      "source": [
        "there are like 907 records with 27 columns"
      ],
      "metadata": {
        "id": "kmjgLWDy7et_"
      }
    },
    {
      "cell_type": "code",
      "source": [
        "#to get the info of this dataframe\n",
        "df.info()"
      ],
      "metadata": {
        "colab": {
          "base_uri": "https://localhost:8080/"
        },
        "id": "eMCcOthY7lD3",
        "outputId": "6d8c7f8d-55df-46b7-dca4-f004d87e218f"
      },
      "execution_count": 555,
      "outputs": [
        {
          "output_type": "stream",
          "name": "stdout",
          "text": [
            "<class 'pandas.core.frame.DataFrame'>\n",
            "RangeIndex: 907 entries, 0 to 906\n",
            "Data columns (total 27 columns):\n",
            " #   Column                    Non-Null Count  Dtype  \n",
            "---  ------                    --------------  -----  \n",
            " 0   country                   907 non-null    object \n",
            " 1   country_long              907 non-null    object \n",
            " 2   name                      907 non-null    object \n",
            " 3   gppd_idnr                 907 non-null    object \n",
            " 4   capacity_mw               907 non-null    float64\n",
            " 5   latitude                  861 non-null    float64\n",
            " 6   longitude                 861 non-null    float64\n",
            " 7   primary_fuel              907 non-null    object \n",
            " 8   other_fuel1               198 non-null    object \n",
            " 9   other_fuel2               1 non-null      object \n",
            " 10  other_fuel3               0 non-null      float64\n",
            " 11  commissioning_year        527 non-null    float64\n",
            " 12  owner                     342 non-null    object \n",
            " 13  source                    907 non-null    object \n",
            " 14  url                       907 non-null    object \n",
            " 15  geolocation_source        888 non-null    object \n",
            " 16  wepp_id                   0 non-null      float64\n",
            " 17  year_of_capacity_data     519 non-null    float64\n",
            " 18  generation_gwh_2013       0 non-null      float64\n",
            " 19  generation_gwh_2014       398 non-null    float64\n",
            " 20  generation_gwh_2015       422 non-null    float64\n",
            " 21  generation_gwh_2016       434 non-null    float64\n",
            " 22  generation_gwh_2017       440 non-null    float64\n",
            " 23  generation_gwh_2018       448 non-null    float64\n",
            " 24  generation_gwh_2019       0 non-null      float64\n",
            " 25  generation_data_source    449 non-null    object \n",
            " 26  estimated_generation_gwh  0 non-null      float64\n",
            "dtypes: float64(15), object(12)\n",
            "memory usage: 191.4+ KB\n"
          ]
        }
      ]
    },
    {
      "cell_type": "markdown",
      "source": [
        "with above details,we can observe all the datatypes of each column along with memory consumption of dataset along with some missng values nifo as well"
      ],
      "metadata": {
        "id": "Dx5lP-ZJ7upb"
      }
    },
    {
      "cell_type": "code",
      "source": [
        "#to check whether any null values present in dataframe\n",
        "df.isnull().sum()"
      ],
      "metadata": {
        "colab": {
          "base_uri": "https://localhost:8080/"
        },
        "id": "T764YpK9638C",
        "outputId": "05e645c2-dab9-4070-e707-a37f2d0e342a"
      },
      "execution_count": 556,
      "outputs": [
        {
          "output_type": "execute_result",
          "data": {
            "text/plain": [
              "country                       0\n",
              "country_long                  0\n",
              "name                          0\n",
              "gppd_idnr                     0\n",
              "capacity_mw                   0\n",
              "latitude                     46\n",
              "longitude                    46\n",
              "primary_fuel                  0\n",
              "other_fuel1                 709\n",
              "other_fuel2                 906\n",
              "other_fuel3                 907\n",
              "commissioning_year          380\n",
              "owner                       565\n",
              "source                        0\n",
              "url                           0\n",
              "geolocation_source           19\n",
              "wepp_id                     907\n",
              "year_of_capacity_data       388\n",
              "generation_gwh_2013         907\n",
              "generation_gwh_2014         509\n",
              "generation_gwh_2015         485\n",
              "generation_gwh_2016         473\n",
              "generation_gwh_2017         467\n",
              "generation_gwh_2018         459\n",
              "generation_gwh_2019         907\n",
              "generation_data_source      458\n",
              "estimated_generation_gwh    907\n",
              "dtype: int64"
            ]
          },
          "metadata": {},
          "execution_count": 556
        }
      ]
    },
    {
      "cell_type": "markdown",
      "source": [
        "So,with this we clearly have many missing values in several columns"
      ],
      "metadata": {
        "id": "V148iySN737B"
      }
    },
    {
      "cell_type": "code",
      "source": [
        "#will drop the columns which are having the missing values more then 510\n",
        "\n",
        "df = df.drop([\"generation_gwh_2013\",\"generation_gwh_2019\",\"estimated_generation_gwh\",\"wepp_id\",\"owner\",\"other_fuel1\",\"other_fuel2\",\n",
        "              \"other_fuel1\",\"other_fuel3\"],axis=1)"
      ],
      "metadata": {
        "id": "uNA205uN7TE2"
      },
      "execution_count": 557,
      "outputs": []
    },
    {
      "cell_type": "code",
      "source": [
        "\n",
        "#we can also drop columns like country and country_log which are basically containing the same name for all records\n",
        "df = df.drop([\"country\",\"country_long\"],axis=1)"
      ],
      "metadata": {
        "id": "7Qq8hoYR97FM"
      },
      "execution_count": 558,
      "outputs": []
    },
    {
      "cell_type": "code",
      "source": [
        "#also we don't require the \"url\" column\n",
        "df = df.drop([\"url\"],axis=1)"
      ],
      "metadata": {
        "id": "YBjFI1Ii998b"
      },
      "execution_count": 559,
      "outputs": []
    },
    {
      "cell_type": "code",
      "source": [
        "#also we don't require the \"year_of_capacity_data\" column\n",
        "df = df.drop([\"year_of_capacity_data\"],axis=1)"
      ],
      "metadata": {
        "id": "b09J6Us1oAMy"
      },
      "execution_count": 560,
      "outputs": []
    },
    {
      "cell_type": "code",
      "source": [
        "df.info()"
      ],
      "metadata": {
        "colab": {
          "base_uri": "https://localhost:8080/"
        },
        "id": "ZO6R8521CZrj",
        "outputId": "6d77d023-85ac-4803-b550-9aaccafabc68"
      },
      "execution_count": 561,
      "outputs": [
        {
          "output_type": "stream",
          "name": "stdout",
          "text": [
            "<class 'pandas.core.frame.DataFrame'>\n",
            "RangeIndex: 907 entries, 0 to 906\n",
            "Data columns (total 15 columns):\n",
            " #   Column                  Non-Null Count  Dtype  \n",
            "---  ------                  --------------  -----  \n",
            " 0   name                    907 non-null    object \n",
            " 1   gppd_idnr               907 non-null    object \n",
            " 2   capacity_mw             907 non-null    float64\n",
            " 3   latitude                861 non-null    float64\n",
            " 4   longitude               861 non-null    float64\n",
            " 5   primary_fuel            907 non-null    object \n",
            " 6   commissioning_year      527 non-null    float64\n",
            " 7   source                  907 non-null    object \n",
            " 8   geolocation_source      888 non-null    object \n",
            " 9   generation_gwh_2014     398 non-null    float64\n",
            " 10  generation_gwh_2015     422 non-null    float64\n",
            " 11  generation_gwh_2016     434 non-null    float64\n",
            " 12  generation_gwh_2017     440 non-null    float64\n",
            " 13  generation_gwh_2018     448 non-null    float64\n",
            " 14  generation_data_source  449 non-null    object \n",
            "dtypes: float64(9), object(6)\n",
            "memory usage: 106.4+ KB\n"
          ]
        }
      ]
    },
    {
      "cell_type": "code",
      "source": [
        "\n",
        "df.isnull().sum()"
      ],
      "metadata": {
        "colab": {
          "base_uri": "https://localhost:8080/"
        },
        "id": "qNE_quXd-W6O",
        "outputId": "d720acf2-63db-4f88-e237-011cf9cdd815"
      },
      "execution_count": 562,
      "outputs": [
        {
          "output_type": "execute_result",
          "data": {
            "text/plain": [
              "name                        0\n",
              "gppd_idnr                   0\n",
              "capacity_mw                 0\n",
              "latitude                   46\n",
              "longitude                  46\n",
              "primary_fuel                0\n",
              "commissioning_year        380\n",
              "source                      0\n",
              "geolocation_source         19\n",
              "generation_gwh_2014       509\n",
              "generation_gwh_2015       485\n",
              "generation_gwh_2016       473\n",
              "generation_gwh_2017       467\n",
              "generation_gwh_2018       459\n",
              "generation_data_source    458\n",
              "dtype: int64"
            ]
          },
          "metadata": {},
          "execution_count": 562
        }
      ]
    },
    {
      "cell_type": "markdown",
      "source": [
        "## Dealing with missing values"
      ],
      "metadata": {
        "id": "1wl392c8ph9X"
      }
    },
    {
      "cell_type": "code",
      "source": [
        "#Now,checking for unique values\n",
        "\n",
        "df['generation_data_source'].unique()"
      ],
      "metadata": {
        "colab": {
          "base_uri": "https://localhost:8080/"
        },
        "id": "UCGIj8hW_MJr",
        "outputId": "da2925b7-b94b-4107-8f5c-bcbec73a2576"
      },
      "execution_count": 563,
      "outputs": [
        {
          "output_type": "execute_result",
          "data": {
            "text/plain": [
              "array([nan, 'Central Electricity Authority'], dtype=object)"
            ]
          },
          "metadata": {},
          "execution_count": 563
        }
      ]
    },
    {
      "cell_type": "code",
      "source": [
        "#Since \"generation_data_source\" column has only two unique values of \"nan\" and \"Central Electricity Authority\"\n",
        "#so now we can replace those \"nan\" values as \"Unknown\"\n",
        "\n",
        "df['generation_data_source'].fillna(\"Unknown\", inplace=True)"
      ],
      "metadata": {
        "id": "9CWkZ6EqDZOC"
      },
      "execution_count": 564,
      "outputs": []
    },
    {
      "cell_type": "code",
      "source": [
        "#Now,checking for unique values\n",
        "\n",
        "df['geolocation_source'].unique()"
      ],
      "metadata": {
        "colab": {
          "base_uri": "https://localhost:8080/"
        },
        "id": "yAIyxW1lTQQO",
        "outputId": "78180594-3d8b-417b-b08c-0666fa8a2d02"
      },
      "execution_count": 565,
      "outputs": [
        {
          "output_type": "execute_result",
          "data": {
            "text/plain": [
              "array(['National Renewable Energy Laboratory', 'WRI', nan,\n",
              "       'Industry About'], dtype=object)"
            ]
          },
          "metadata": {},
          "execution_count": 565
        }
      ]
    },
    {
      "cell_type": "code",
      "source": [
        "#So,we can impute missing categorical values with mode(most frequent value)\n",
        "\n",
        "df['geolocation_source'].fillna(df['geolocation_source'].mode()[0], inplace=True)"
      ],
      "metadata": {
        "id": "TxCxaaCnTd74"
      },
      "execution_count": 566,
      "outputs": []
    },
    {
      "cell_type": "code",
      "source": [
        "#Since both longitude and latitude constitute for particular location,so we can just combne these two together first by replaceing \"nan\" to 0 \n",
        "\n",
        "df['latitude'] = df['latitude'].fillna(0)\n",
        "df['longitude'] = df['longitude'].fillna(0)\n",
        "l = []\n",
        "for i,j in zip(df['latitude'],df['longitude']):\n",
        "  if i != 0 and j != 0:\n",
        "    l.append(str(i)+'~'+str(j))\n",
        "  else:\n",
        "    l.append(0)"
      ],
      "metadata": {
        "id": "Wo48sGZuZdRG"
      },
      "execution_count": 567,
      "outputs": []
    },
    {
      "cell_type": "code",
      "source": [
        "#creating a new column\n",
        "\n",
        "df['lat_long'] = l"
      ],
      "metadata": {
        "id": "XFCSIk6gaY2K"
      },
      "execution_count": 568,
      "outputs": []
    },
    {
      "cell_type": "code",
      "source": [
        "\n",
        "#now again converting back to 'nan' values from 0\n",
        "df[\"lat_long\"] = df[\"lat_long\"].apply(lambda x:np.nan if x == 0 else x)"
      ],
      "metadata": {
        "id": "67VvxqQOahVm"
      },
      "execution_count": 569,
      "outputs": []
    },
    {
      "cell_type": "code",
      "source": [
        "#So,we can impute missing categorical values with mode(most frequent value)\n",
        "\n",
        "df['lat_long'].fillna(df['lat_long'].mode()[0], inplace=True)"
      ],
      "metadata": {
        "id": "FnSyQAgEfQWd"
      },
      "execution_count": 570,
      "outputs": []
    },
    {
      "cell_type": "code",
      "source": [
        "#now we can drop latitude and longitude columns\n",
        "df = df.drop(['latitude','longitude'],axis=1)"
      ],
      "metadata": {
        "id": "QJcyHIR_hCsn"
      },
      "execution_count": 571,
      "outputs": []
    },
    {
      "cell_type": "code",
      "source": [
        "#now,padding for missed values\n",
        "df['commissioning_year'] = df['commissioning_year'].fillna(method = 'pad')"
      ],
      "metadata": {
        "id": "zh0wWCnltCBO"
      },
      "execution_count": 572,
      "outputs": []
    },
    {
      "cell_type": "code",
      "source": [
        "#also we can impute missing continuous values with mean(Average of all values)\n",
        "\n",
        "df['generation_gwh_2014'].fillna(df['generation_gwh_2014'].mean(), inplace=True)\n",
        "df['generation_gwh_2015'].fillna(df['generation_gwh_2015'].mean(), inplace=True)\n",
        "df['generation_gwh_2016'].fillna(df['generation_gwh_2016'].mean(), inplace=True)\n",
        "df['generation_gwh_2017'].fillna(df['generation_gwh_2017'].mean(), inplace=True)\n",
        "df['generation_gwh_2018'].fillna(df['generation_gwh_2018'].mean(), inplace=True)"
      ],
      "metadata": {
        "id": "7xvzAslJP0v0"
      },
      "execution_count": 573,
      "outputs": []
    },
    {
      "cell_type": "code",
      "source": [
        "df.head()"
      ],
      "metadata": {
        "colab": {
          "base_uri": "https://localhost:8080/",
          "height": 461
        },
        "id": "yTD0yJbhlR0r",
        "outputId": "5c7a2c51-9777-42d7-9b7d-6eaa9cf0d068"
      },
      "execution_count": 574,
      "outputs": [
        {
          "output_type": "execute_result",
          "data": {
            "text/html": [
              "\n",
              "  <div id=\"df-7e6ca3a5-de46-4fa7-90f9-805685ea5c93\">\n",
              "    <div class=\"colab-df-container\">\n",
              "      <div>\n",
              "<style scoped>\n",
              "    .dataframe tbody tr th:only-of-type {\n",
              "        vertical-align: middle;\n",
              "    }\n",
              "\n",
              "    .dataframe tbody tr th {\n",
              "        vertical-align: top;\n",
              "    }\n",
              "\n",
              "    .dataframe thead th {\n",
              "        text-align: right;\n",
              "    }\n",
              "</style>\n",
              "<table border=\"1\" class=\"dataframe\">\n",
              "  <thead>\n",
              "    <tr style=\"text-align: right;\">\n",
              "      <th></th>\n",
              "      <th>name</th>\n",
              "      <th>gppd_idnr</th>\n",
              "      <th>capacity_mw</th>\n",
              "      <th>primary_fuel</th>\n",
              "      <th>commissioning_year</th>\n",
              "      <th>source</th>\n",
              "      <th>geolocation_source</th>\n",
              "      <th>generation_gwh_2014</th>\n",
              "      <th>generation_gwh_2015</th>\n",
              "      <th>generation_gwh_2016</th>\n",
              "      <th>generation_gwh_2017</th>\n",
              "      <th>generation_gwh_2018</th>\n",
              "      <th>generation_data_source</th>\n",
              "      <th>lat_long</th>\n",
              "    </tr>\n",
              "  </thead>\n",
              "  <tbody>\n",
              "    <tr>\n",
              "      <th>0</th>\n",
              "      <td>ACME Solar Tower</td>\n",
              "      <td>WRI1020239</td>\n",
              "      <td>2.5</td>\n",
              "      <td>Solar</td>\n",
              "      <td>2011.0</td>\n",
              "      <td>National Renewable Energy Laboratory</td>\n",
              "      <td>National Renewable Energy Laboratory</td>\n",
              "      <td>2431.823590</td>\n",
              "      <td>2428.226946</td>\n",
              "      <td>2467.936859</td>\n",
              "      <td>2547.759305</td>\n",
              "      <td>2600.804099</td>\n",
              "      <td>Unknown</td>\n",
              "      <td>28.1839~73.2407</td>\n",
              "    </tr>\n",
              "    <tr>\n",
              "      <th>1</th>\n",
              "      <td>ADITYA CEMENT WORKS</td>\n",
              "      <td>WRI1019881</td>\n",
              "      <td>98.0</td>\n",
              "      <td>Coal</td>\n",
              "      <td>2011.0</td>\n",
              "      <td>Ultratech Cement ltd</td>\n",
              "      <td>WRI</td>\n",
              "      <td>2431.823590</td>\n",
              "      <td>2428.226946</td>\n",
              "      <td>2467.936859</td>\n",
              "      <td>2547.759305</td>\n",
              "      <td>2600.804099</td>\n",
              "      <td>Unknown</td>\n",
              "      <td>24.7663~74.609</td>\n",
              "    </tr>\n",
              "    <tr>\n",
              "      <th>2</th>\n",
              "      <td>AES Saurashtra Windfarms</td>\n",
              "      <td>WRI1026669</td>\n",
              "      <td>39.2</td>\n",
              "      <td>Wind</td>\n",
              "      <td>2011.0</td>\n",
              "      <td>CDM</td>\n",
              "      <td>WRI</td>\n",
              "      <td>2431.823590</td>\n",
              "      <td>2428.226946</td>\n",
              "      <td>2467.936859</td>\n",
              "      <td>2547.759305</td>\n",
              "      <td>2600.804099</td>\n",
              "      <td>Unknown</td>\n",
              "      <td>21.9038~69.3732</td>\n",
              "    </tr>\n",
              "    <tr>\n",
              "      <th>3</th>\n",
              "      <td>AGARTALA GT</td>\n",
              "      <td>IND0000001</td>\n",
              "      <td>135.0</td>\n",
              "      <td>Gas</td>\n",
              "      <td>2004.0</td>\n",
              "      <td>Central Electricity Authority</td>\n",
              "      <td>WRI</td>\n",
              "      <td>617.789264</td>\n",
              "      <td>843.747000</td>\n",
              "      <td>886.004428</td>\n",
              "      <td>663.774500</td>\n",
              "      <td>626.239128</td>\n",
              "      <td>Central Electricity Authority</td>\n",
              "      <td>23.8712~91.3602</td>\n",
              "    </tr>\n",
              "    <tr>\n",
              "      <th>4</th>\n",
              "      <td>AKALTARA TPP</td>\n",
              "      <td>IND0000002</td>\n",
              "      <td>1800.0</td>\n",
              "      <td>Coal</td>\n",
              "      <td>2015.0</td>\n",
              "      <td>Central Electricity Authority</td>\n",
              "      <td>WRI</td>\n",
              "      <td>3035.550000</td>\n",
              "      <td>5916.370000</td>\n",
              "      <td>6243.000000</td>\n",
              "      <td>5385.579736</td>\n",
              "      <td>7279.000000</td>\n",
              "      <td>Central Electricity Authority</td>\n",
              "      <td>21.9603~82.4091</td>\n",
              "    </tr>\n",
              "  </tbody>\n",
              "</table>\n",
              "</div>\n",
              "      <button class=\"colab-df-convert\" onclick=\"convertToInteractive('df-7e6ca3a5-de46-4fa7-90f9-805685ea5c93')\"\n",
              "              title=\"Convert this dataframe to an interactive table.\"\n",
              "              style=\"display:none;\">\n",
              "        \n",
              "  <svg xmlns=\"http://www.w3.org/2000/svg\" height=\"24px\"viewBox=\"0 0 24 24\"\n",
              "       width=\"24px\">\n",
              "    <path d=\"M0 0h24v24H0V0z\" fill=\"none\"/>\n",
              "    <path d=\"M18.56 5.44l.94 2.06.94-2.06 2.06-.94-2.06-.94-.94-2.06-.94 2.06-2.06.94zm-11 1L8.5 8.5l.94-2.06 2.06-.94-2.06-.94L8.5 2.5l-.94 2.06-2.06.94zm10 10l.94 2.06.94-2.06 2.06-.94-2.06-.94-.94-2.06-.94 2.06-2.06.94z\"/><path d=\"M17.41 7.96l-1.37-1.37c-.4-.4-.92-.59-1.43-.59-.52 0-1.04.2-1.43.59L10.3 9.45l-7.72 7.72c-.78.78-.78 2.05 0 2.83L4 21.41c.39.39.9.59 1.41.59.51 0 1.02-.2 1.41-.59l7.78-7.78 2.81-2.81c.8-.78.8-2.07 0-2.86zM5.41 20L4 18.59l7.72-7.72 1.47 1.35L5.41 20z\"/>\n",
              "  </svg>\n",
              "      </button>\n",
              "      \n",
              "  <style>\n",
              "    .colab-df-container {\n",
              "      display:flex;\n",
              "      flex-wrap:wrap;\n",
              "      gap: 12px;\n",
              "    }\n",
              "\n",
              "    .colab-df-convert {\n",
              "      background-color: #E8F0FE;\n",
              "      border: none;\n",
              "      border-radius: 50%;\n",
              "      cursor: pointer;\n",
              "      display: none;\n",
              "      fill: #1967D2;\n",
              "      height: 32px;\n",
              "      padding: 0 0 0 0;\n",
              "      width: 32px;\n",
              "    }\n",
              "\n",
              "    .colab-df-convert:hover {\n",
              "      background-color: #E2EBFA;\n",
              "      box-shadow: 0px 1px 2px rgba(60, 64, 67, 0.3), 0px 1px 3px 1px rgba(60, 64, 67, 0.15);\n",
              "      fill: #174EA6;\n",
              "    }\n",
              "\n",
              "    [theme=dark] .colab-df-convert {\n",
              "      background-color: #3B4455;\n",
              "      fill: #D2E3FC;\n",
              "    }\n",
              "\n",
              "    [theme=dark] .colab-df-convert:hover {\n",
              "      background-color: #434B5C;\n",
              "      box-shadow: 0px 1px 3px 1px rgba(0, 0, 0, 0.15);\n",
              "      filter: drop-shadow(0px 1px 2px rgba(0, 0, 0, 0.3));\n",
              "      fill: #FFFFFF;\n",
              "    }\n",
              "  </style>\n",
              "\n",
              "      <script>\n",
              "        const buttonEl =\n",
              "          document.querySelector('#df-7e6ca3a5-de46-4fa7-90f9-805685ea5c93 button.colab-df-convert');\n",
              "        buttonEl.style.display =\n",
              "          google.colab.kernel.accessAllowed ? 'block' : 'none';\n",
              "\n",
              "        async function convertToInteractive(key) {\n",
              "          const element = document.querySelector('#df-7e6ca3a5-de46-4fa7-90f9-805685ea5c93');\n",
              "          const dataTable =\n",
              "            await google.colab.kernel.invokeFunction('convertToInteractive',\n",
              "                                                     [key], {});\n",
              "          if (!dataTable) return;\n",
              "\n",
              "          const docLinkHtml = 'Like what you see? Visit the ' +\n",
              "            '<a target=\"_blank\" href=https://colab.research.google.com/notebooks/data_table.ipynb>data table notebook</a>'\n",
              "            + ' to learn more about interactive tables.';\n",
              "          element.innerHTML = '';\n",
              "          dataTable['output_type'] = 'display_data';\n",
              "          await google.colab.output.renderOutput(dataTable, element);\n",
              "          const docLink = document.createElement('div');\n",
              "          docLink.innerHTML = docLinkHtml;\n",
              "          element.appendChild(docLink);\n",
              "        }\n",
              "      </script>\n",
              "    </div>\n",
              "  </div>\n",
              "  "
            ],
            "text/plain": [
              "                       name  ...         lat_long\n",
              "0          ACME Solar Tower  ...  28.1839~73.2407\n",
              "1       ADITYA CEMENT WORKS  ...   24.7663~74.609\n",
              "2  AES Saurashtra Windfarms  ...  21.9038~69.3732\n",
              "3               AGARTALA GT  ...  23.8712~91.3602\n",
              "4              AKALTARA TPP  ...  21.9603~82.4091\n",
              "\n",
              "[5 rows x 14 columns]"
            ]
          },
          "metadata": {},
          "execution_count": 574
        }
      ]
    },
    {
      "cell_type": "code",
      "source": [
        "df.isnull().sum() #recheck with null values"
      ],
      "metadata": {
        "colab": {
          "base_uri": "https://localhost:8080/"
        },
        "id": "4k5ZvBLU0wcv",
        "outputId": "e35c3ff3-b871-481e-9d76-4f06152b0e2b"
      },
      "execution_count": 575,
      "outputs": [
        {
          "output_type": "execute_result",
          "data": {
            "text/plain": [
              "name                      0\n",
              "gppd_idnr                 0\n",
              "capacity_mw               0\n",
              "primary_fuel              0\n",
              "commissioning_year        0\n",
              "source                    0\n",
              "geolocation_source        0\n",
              "generation_gwh_2014       0\n",
              "generation_gwh_2015       0\n",
              "generation_gwh_2016       0\n",
              "generation_gwh_2017       0\n",
              "generation_gwh_2018       0\n",
              "generation_data_source    0\n",
              "lat_long                  0\n",
              "dtype: int64"
            ]
          },
          "metadata": {},
          "execution_count": 575
        }
      ]
    },
    {
      "cell_type": "markdown",
      "source": [
        "So,we don't have any null values now"
      ],
      "metadata": {
        "id": "MKW0BsqrQXXm"
      }
    },
    {
      "cell_type": "markdown",
      "source": [
        "## Visualization"
      ],
      "metadata": {
        "id": "2ibzsQza1Ij9"
      }
    },
    {
      "cell_type": "code",
      "source": [
        "sns.factorplot('primary_fuel', data=df, kind=\"count\") ## Let's check source"
      ],
      "metadata": {
        "id": "cZWKj9FB06J5",
        "colab": {
          "base_uri": "https://localhost:8080/",
          "height": 387
        },
        "outputId": "c9681857-5c9d-47e3-bf75-fb9f05268a21"
      },
      "execution_count": 576,
      "outputs": [
        {
          "output_type": "execute_result",
          "data": {
            "text/plain": [
              "<seaborn.axisgrid.FacetGrid at 0x7f001dd14810>"
            ]
          },
          "metadata": {},
          "execution_count": 576
        },
        {
          "output_type": "display_data",
          "data": {
            "image/png": "[encoded data removed]",
            "text/plain": [
              "<Figure size 360x360 with 1 Axes>"
            ]
          },
          "metadata": {
            "needs_background": "light"
          }
        }
      ]
    },
    {
      "cell_type": "markdown",
      "source": [
        "with this,we can say that there is clearly a class imbalance exist \n",
        "in dataset.so,we can use F1_score as our evaluation metric while training model. "
      ],
      "metadata": {
        "id": "_TjsAJXihVXr"
      }
    },
    {
      "cell_type": "code",
      "source": [
        "a = sns.factorplot('geolocation_source', data=df, kind=\"count\")\n",
        "a.set_xticklabels(rotation=90)"
      ],
      "metadata": {
        "colab": {
          "base_uri": "https://localhost:8080/",
          "height": 572
        },
        "id": "FhbQaThmQhyo",
        "outputId": "bcaf0cde-3fe3-41b8-b7cc-bb93a5b42847"
      },
      "execution_count": 577,
      "outputs": [
        {
          "output_type": "execute_result",
          "data": {
            "text/plain": [
              "<seaborn.axisgrid.FacetGrid at 0x7f001dc75a50>"
            ]
          },
          "metadata": {},
          "execution_count": 577
        },
        {
          "output_type": "display_data",
          "data": {
            "image/png": "[encoded data removed]",
            "text/plain": [
              "<Figure size 360x360 with 1 Axes>"
            ]
          },
          "metadata": {
            "needs_background": "light"
          }
        }
      ]
    },
    {
      "cell_type": "markdown",
      "source": [
        "So,clearly mostly occured geolocation_source is \"WRI\"."
      ],
      "metadata": {
        "id": "QWyy7H5UignX"
      }
    },
    {
      "cell_type": "code",
      "source": [
        "# Now let's seperate the geolocation_source by primary_fuel  using 'hue' arguement \n",
        "\n",
        "a = sns.factorplot('primary_fuel', data=df, kind=\"count\", hue='geolocation_source')\n",
        "a.set_xticklabels(rotation=45)"
      ],
      "metadata": {
        "colab": {
          "base_uri": "https://localhost:8080/",
          "height": 414
        },
        "id": "0tJC3oBaQh1j",
        "outputId": "333397e1-2cce-46f0-c5b7-e062f80e5553"
      },
      "execution_count": 578,
      "outputs": [
        {
          "output_type": "execute_result",
          "data": {
            "text/plain": [
              "<seaborn.axisgrid.FacetGrid at 0x7f001dbb2b90>"
            ]
          },
          "metadata": {},
          "execution_count": 578
        },
        {
          "output_type": "display_data",
          "data": {
            "image/png": "[encoded data removed]",
            "text/plain": [
              "<Figure size 590.625x360 with 1 Axes>"
            ]
          },
          "metadata": {
            "needs_background": "light"
          }
        }
      ]
    },
    {
      "cell_type": "markdown",
      "source": [
        "So,all fuel's have a geolocaton_source as WRI except for solar which conssts mainly of Industry About."
      ],
      "metadata": {
        "id": "QEWuxCmHi_yN"
      }
    },
    {
      "cell_type": "code",
      "source": [
        "#Since there are objective type columns,so we can use Label encoder method\n",
        "\n",
        "from sklearn.preprocessing import LabelEncoder\n",
        "\n",
        "df['name'] = LabelEncoder().fit_transform(df['name'])\n",
        "df['primary_fuel'] = LabelEncoder().fit_transform(df['primary_fuel'])\n",
        "df['source'] = LabelEncoder().fit_transform(df['source'])\n",
        "df['geolocation_source'] = LabelEncoder().fit_transform(df['geolocation_source'])\n",
        "df['gppd_idnr'] = LabelEncoder().fit_transform(df['gppd_idnr'])\n",
        "df['generation_data_source'] = LabelEncoder().fit_transform(df['generation_data_source'])\n",
        "df['lat_long'] = LabelEncoder().fit_transform(df['lat_long'])"
      ],
      "metadata": {
        "id": "KltV4N2ZQh79"
      },
      "execution_count": 579,
      "outputs": []
    },
    {
      "cell_type": "code",
      "source": [
        "df.head()"
      ],
      "metadata": {
        "colab": {
          "base_uri": "https://localhost:8080/",
          "height": 270
        },
        "id": "LPf8W-EISB6p",
        "outputId": "e7d41444-760d-47cc-dbe0-fa5318d5756b"
      },
      "execution_count": 580,
      "outputs": [
        {
          "output_type": "execute_result",
          "data": {
            "text/html": [
              "\n",
              "  <div id=\"df-2da64284-e7ab-4d18-8c08-39c85ac68c2a\">\n",
              "    <div class=\"colab-df-container\">\n",
              "      <div>\n",
              "<style scoped>\n",
              "    .dataframe tbody tr th:only-of-type {\n",
              "        vertical-align: middle;\n",
              "    }\n",
              "\n",
              "    .dataframe tbody tr th {\n",
              "        vertical-align: top;\n",
              "    }\n",
              "\n",
              "    .dataframe thead th {\n",
              "        text-align: right;\n",
              "    }\n",
              "</style>\n",
              "<table border=\"1\" class=\"dataframe\">\n",
              "  <thead>\n",
              "    <tr style=\"text-align: right;\">\n",
              "      <th></th>\n",
              "      <th>name</th>\n",
              "      <th>gppd_idnr</th>\n",
              "      <th>capacity_mw</th>\n",
              "      <th>primary_fuel</th>\n",
              "      <th>commissioning_year</th>\n",
              "      <th>source</th>\n",
              "      <th>geolocation_source</th>\n",
              "      <th>generation_gwh_2014</th>\n",
              "      <th>generation_gwh_2015</th>\n",
              "      <th>generation_gwh_2016</th>\n",
              "      <th>generation_gwh_2017</th>\n",
              "      <th>generation_gwh_2018</th>\n",
              "      <th>generation_data_source</th>\n",
              "      <th>lat_long</th>\n",
              "    </tr>\n",
              "  </thead>\n",
              "  <tbody>\n",
              "    <tr>\n",
              "      <th>0</th>\n",
              "      <td>0</td>\n",
              "      <td>657</td>\n",
              "      <td>2.5</td>\n",
              "      <td>6</td>\n",
              "      <td>2011.0</td>\n",
              "      <td>109</td>\n",
              "      <td>1</td>\n",
              "      <td>2431.823590</td>\n",
              "      <td>2428.226946</td>\n",
              "      <td>2467.936859</td>\n",
              "      <td>2547.759305</td>\n",
              "      <td>2600.804099</td>\n",
              "      <td>1</td>\n",
              "      <td>687</td>\n",
              "    </tr>\n",
              "    <tr>\n",
              "      <th>1</th>\n",
              "      <td>1</td>\n",
              "      <td>519</td>\n",
              "      <td>98.0</td>\n",
              "      <td>1</td>\n",
              "      <td>2011.0</td>\n",
              "      <td>174</td>\n",
              "      <td>2</td>\n",
              "      <td>2431.823590</td>\n",
              "      <td>2428.226946</td>\n",
              "      <td>2467.936859</td>\n",
              "      <td>2547.759305</td>\n",
              "      <td>2600.804099</td>\n",
              "      <td>1</td>\n",
              "      <td>550</td>\n",
              "    </tr>\n",
              "    <tr>\n",
              "      <th>2</th>\n",
              "      <td>2</td>\n",
              "      <td>853</td>\n",
              "      <td>39.2</td>\n",
              "      <td>7</td>\n",
              "      <td>2011.0</td>\n",
              "      <td>21</td>\n",
              "      <td>2</td>\n",
              "      <td>2431.823590</td>\n",
              "      <td>2428.226946</td>\n",
              "      <td>2467.936859</td>\n",
              "      <td>2547.759305</td>\n",
              "      <td>2600.804099</td>\n",
              "      <td>1</td>\n",
              "      <td>376</td>\n",
              "    </tr>\n",
              "    <tr>\n",
              "      <th>3</th>\n",
              "      <td>3</td>\n",
              "      <td>0</td>\n",
              "      <td>135.0</td>\n",
              "      <td>2</td>\n",
              "      <td>2004.0</td>\n",
              "      <td>22</td>\n",
              "      <td>2</td>\n",
              "      <td>617.789264</td>\n",
              "      <td>843.747000</td>\n",
              "      <td>886.004428</td>\n",
              "      <td>663.774500</td>\n",
              "      <td>626.239128</td>\n",
              "      <td>0</td>\n",
              "      <td>503</td>\n",
              "    </tr>\n",
              "    <tr>\n",
              "      <th>4</th>\n",
              "      <td>4</td>\n",
              "      <td>1</td>\n",
              "      <td>1800.0</td>\n",
              "      <td>1</td>\n",
              "      <td>2015.0</td>\n",
              "      <td>22</td>\n",
              "      <td>2</td>\n",
              "      <td>3035.550000</td>\n",
              "      <td>5916.370000</td>\n",
              "      <td>6243.000000</td>\n",
              "      <td>5385.579736</td>\n",
              "      <td>7279.000000</td>\n",
              "      <td>0</td>\n",
              "      <td>379</td>\n",
              "    </tr>\n",
              "  </tbody>\n",
              "</table>\n",
              "</div>\n",
              "      <button class=\"colab-df-convert\" onclick=\"convertToInteractive('df-2da64284-e7ab-4d18-8c08-39c85ac68c2a')\"\n",
              "              title=\"Convert this dataframe to an interactive table.\"\n",
              "              style=\"display:none;\">\n",
              "        \n",
              "  <svg xmlns=\"http://www.w3.org/2000/svg\" height=\"24px\"viewBox=\"0 0 24 24\"\n",
              "       width=\"24px\">\n",
              "    <path d=\"M0 0h24v24H0V0z\" fill=\"none\"/>\n",
              "    <path d=\"M18.56 5.44l.94 2.06.94-2.06 2.06-.94-2.06-.94-.94-2.06-.94 2.06-2.06.94zm-11 1L8.5 8.5l.94-2.06 2.06-.94-2.06-.94L8.5 2.5l-.94 2.06-2.06.94zm10 10l.94 2.06.94-2.06 2.06-.94-2.06-.94-.94-2.06-.94 2.06-2.06.94z\"/><path d=\"M17.41 7.96l-1.37-1.37c-.4-.4-.92-.59-1.43-.59-.52 0-1.04.2-1.43.59L10.3 9.45l-7.72 7.72c-.78.78-.78 2.05 0 2.83L4 21.41c.39.39.9.59 1.41.59.51 0 1.02-.2 1.41-.59l7.78-7.78 2.81-2.81c.8-.78.8-2.07 0-2.86zM5.41 20L4 18.59l7.72-7.72 1.47 1.35L5.41 20z\"/>\n",
              "  </svg>\n",
              "      </button>\n",
              "      \n",
              "  <style>\n",
              "    .colab-df-container {\n",
              "      display:flex;\n",
              "      flex-wrap:wrap;\n",
              "      gap: 12px;\n",
              "    }\n",
              "\n",
              "    .colab-df-convert {\n",
              "      background-color: #E8F0FE;\n",
              "      border: none;\n",
              "      border-radius: 50%;\n",
              "      cursor: pointer;\n",
              "      display: none;\n",
              "      fill: #1967D2;\n",
              "      height: 32px;\n",
              "      padding: 0 0 0 0;\n",
              "      width: 32px;\n",
              "    }\n",
              "\n",
              "    .colab-df-convert:hover {\n",
              "      background-color: #E2EBFA;\n",
              "      box-shadow: 0px 1px 2px rgba(60, 64, 67, 0.3), 0px 1px 3px 1px rgba(60, 64, 67, 0.15);\n",
              "      fill: #174EA6;\n",
              "    }\n",
              "\n",
              "    [theme=dark] .colab-df-convert {\n",
              "      background-color: #3B4455;\n",
              "      fill: #D2E3FC;\n",
              "    }\n",
              "\n",
              "    [theme=dark] .colab-df-convert:hover {\n",
              "      background-color: #434B5C;\n",
              "      box-shadow: 0px 1px 3px 1px rgba(0, 0, 0, 0.15);\n",
              "      filter: drop-shadow(0px 1px 2px rgba(0, 0, 0, 0.3));\n",
              "      fill: #FFFFFF;\n",
              "    }\n",
              "  </style>\n",
              "\n",
              "      <script>\n",
              "        const buttonEl =\n",
              "          document.querySelector('#df-2da64284-e7ab-4d18-8c08-39c85ac68c2a button.colab-df-convert');\n",
              "        buttonEl.style.display =\n",
              "          google.colab.kernel.accessAllowed ? 'block' : 'none';\n",
              "\n",
              "        async function convertToInteractive(key) {\n",
              "          const element = document.querySelector('#df-2da64284-e7ab-4d18-8c08-39c85ac68c2a');\n",
              "          const dataTable =\n",
              "            await google.colab.kernel.invokeFunction('convertToInteractive',\n",
              "                                                     [key], {});\n",
              "          if (!dataTable) return;\n",
              "\n",
              "          const docLinkHtml = 'Like what you see? Visit the ' +\n",
              "            '<a target=\"_blank\" href=https://colab.research.google.com/notebooks/data_table.ipynb>data table notebook</a>'\n",
              "            + ' to learn more about interactive tables.';\n",
              "          element.innerHTML = '';\n",
              "          dataTable['output_type'] = 'display_data';\n",
              "          await google.colab.output.renderOutput(dataTable, element);\n",
              "          const docLink = document.createElement('div');\n",
              "          docLink.innerHTML = docLinkHtml;\n",
              "          element.appendChild(docLink);\n",
              "        }\n",
              "      </script>\n",
              "    </div>\n",
              "  </div>\n",
              "  "
            ],
            "text/plain": [
              "   name  gppd_idnr  ...  generation_data_source  lat_long\n",
              "0     0        657  ...                       1       687\n",
              "1     1        519  ...                       1       550\n",
              "2     2        853  ...                       1       376\n",
              "3     3          0  ...                       0       503\n",
              "4     4          1  ...                       0       379\n",
              "\n",
              "[5 rows x 14 columns]"
            ]
          },
          "metadata": {},
          "execution_count": 580
        }
      ]
    },
    {
      "cell_type": "markdown",
      "source": [
        "## Correlation"
      ],
      "metadata": {
        "id": "kvC949mmRCMi"
      }
    },
    {
      "cell_type": "code",
      "source": [
        "df.corr()"
      ],
      "metadata": {
        "colab": {
          "base_uri": "https://localhost:8080/",
          "height": 673
        },
        "id": "u5sTEmMwRDAZ",
        "outputId": "4b104fbd-f174-4b7e-bbb1-74266e532db6"
      },
      "execution_count": 581,
      "outputs": [
        {
          "output_type": "execute_result",
          "data": {
            "text/html": [
              "\n",
              "  <div id=\"df-b308f04c-cec6-4d44-9dba-35d1c36cd5c3\">\n",
              "    <div class=\"colab-df-container\">\n",
              "      <div>\n",
              "<style scoped>\n",
              "    .dataframe tbody tr th:only-of-type {\n",
              "        vertical-align: middle;\n",
              "    }\n",
              "\n",
              "    .dataframe tbody tr th {\n",
              "        vertical-align: top;\n",
              "    }\n",
              "\n",
              "    .dataframe thead th {\n",
              "        text-align: right;\n",
              "    }\n",
              "</style>\n",
              "<table border=\"1\" class=\"dataframe\">\n",
              "  <thead>\n",
              "    <tr style=\"text-align: right;\">\n",
              "      <th></th>\n",
              "      <th>name</th>\n",
              "      <th>gppd_idnr</th>\n",
              "      <th>capacity_mw</th>\n",
              "      <th>primary_fuel</th>\n",
              "      <th>commissioning_year</th>\n",
              "      <th>source</th>\n",
              "      <th>geolocation_source</th>\n",
              "      <th>generation_gwh_2014</th>\n",
              "      <th>generation_gwh_2015</th>\n",
              "      <th>generation_gwh_2016</th>\n",
              "      <th>generation_gwh_2017</th>\n",
              "      <th>generation_gwh_2018</th>\n",
              "      <th>generation_data_source</th>\n",
              "      <th>lat_long</th>\n",
              "    </tr>\n",
              "  </thead>\n",
              "  <tbody>\n",
              "    <tr>\n",
              "      <th>name</th>\n",
              "      <td>1.000000</td>\n",
              "      <td>0.332205</td>\n",
              "      <td>0.060240</td>\n",
              "      <td>0.040753</td>\n",
              "      <td>-0.028008</td>\n",
              "      <td>-1.463951e-02</td>\n",
              "      <td>3.622452e-02</td>\n",
              "      <td>8.375890e-02</td>\n",
              "      <td>7.366460e-02</td>\n",
              "      <td>6.617668e-02</td>\n",
              "      <td>7.363387e-02</td>\n",
              "      <td>6.663814e-02</td>\n",
              "      <td>-5.861880e-03</td>\n",
              "      <td>-0.050925</td>\n",
              "    </tr>\n",
              "    <tr>\n",
              "      <th>gppd_idnr</th>\n",
              "      <td>0.332205</td>\n",
              "      <td>1.000000</td>\n",
              "      <td>-0.335742</td>\n",
              "      <td>0.609180</td>\n",
              "      <td>0.175809</td>\n",
              "      <td>4.163838e-01</td>\n",
              "      <td>-4.641741e-01</td>\n",
              "      <td>4.451808e-02</td>\n",
              "      <td>3.895798e-02</td>\n",
              "      <td>2.683096e-02</td>\n",
              "      <td>2.285274e-02</td>\n",
              "      <td>1.926543e-02</td>\n",
              "      <td>7.348321e-01</td>\n",
              "      <td>-0.050218</td>\n",
              "    </tr>\n",
              "    <tr>\n",
              "      <th>capacity_mw</th>\n",
              "      <td>0.060240</td>\n",
              "      <td>-0.335742</td>\n",
              "      <td>1.000000</td>\n",
              "      <td>-0.380395</td>\n",
              "      <td>0.147044</td>\n",
              "      <td>-2.421218e-01</td>\n",
              "      <td>2.048653e-01</td>\n",
              "      <td>6.943503e-01</td>\n",
              "      <td>7.111899e-01</td>\n",
              "      <td>7.422211e-01</td>\n",
              "      <td>7.575852e-01</td>\n",
              "      <td>7.734556e-01</td>\n",
              "      <td>-4.958331e-01</td>\n",
              "      <td>0.037568</td>\n",
              "    </tr>\n",
              "    <tr>\n",
              "      <th>primary_fuel</th>\n",
              "      <td>0.040753</td>\n",
              "      <td>0.609180</td>\n",
              "      <td>-0.380395</td>\n",
              "      <td>1.000000</td>\n",
              "      <td>0.044777</td>\n",
              "      <td>5.361263e-02</td>\n",
              "      <td>-4.832168e-01</td>\n",
              "      <td>-1.247688e-01</td>\n",
              "      <td>-1.248280e-01</td>\n",
              "      <td>-1.310514e-01</td>\n",
              "      <td>-1.320034e-01</td>\n",
              "      <td>-1.369831e-01</td>\n",
              "      <td>4.823393e-01</td>\n",
              "      <td>0.096074</td>\n",
              "    </tr>\n",
              "    <tr>\n",
              "      <th>commissioning_year</th>\n",
              "      <td>-0.028008</td>\n",
              "      <td>0.175809</td>\n",
              "      <td>0.147044</td>\n",
              "      <td>0.044777</td>\n",
              "      <td>1.000000</td>\n",
              "      <td>5.680223e-02</td>\n",
              "      <td>-1.630668e-01</td>\n",
              "      <td>1.034371e-01</td>\n",
              "      <td>1.145442e-01</td>\n",
              "      <td>1.326633e-01</td>\n",
              "      <td>1.328336e-01</td>\n",
              "      <td>1.355651e-01</td>\n",
              "      <td>4.536648e-02</td>\n",
              "      <td>0.033972</td>\n",
              "    </tr>\n",
              "    <tr>\n",
              "      <th>source</th>\n",
              "      <td>-0.014640</td>\n",
              "      <td>0.416384</td>\n",
              "      <td>-0.242122</td>\n",
              "      <td>0.053613</td>\n",
              "      <td>0.056802</td>\n",
              "      <td>1.000000e+00</td>\n",
              "      <td>-5.057202e-01</td>\n",
              "      <td>1.917854e-18</td>\n",
              "      <td>-2.160931e-17</td>\n",
              "      <td>-4.925637e-17</td>\n",
              "      <td>-1.284552e-16</td>\n",
              "      <td>1.092118e-17</td>\n",
              "      <td>4.848273e-01</td>\n",
              "      <td>-0.016481</td>\n",
              "    </tr>\n",
              "    <tr>\n",
              "      <th>geolocation_source</th>\n",
              "      <td>0.036225</td>\n",
              "      <td>-0.464174</td>\n",
              "      <td>0.204865</td>\n",
              "      <td>-0.483217</td>\n",
              "      <td>-0.163067</td>\n",
              "      <td>-5.057202e-01</td>\n",
              "      <td>1.000000e+00</td>\n",
              "      <td>-2.966463e-17</td>\n",
              "      <td>-6.339264e-18</td>\n",
              "      <td>2.904016e-17</td>\n",
              "      <td>8.066490e-17</td>\n",
              "      <td>-1.048582e-17</td>\n",
              "      <td>-3.903486e-01</td>\n",
              "      <td>-0.171710</td>\n",
              "    </tr>\n",
              "    <tr>\n",
              "      <th>generation_gwh_2014</th>\n",
              "      <td>0.083759</td>\n",
              "      <td>0.044518</td>\n",
              "      <td>0.694350</td>\n",
              "      <td>-0.124769</td>\n",
              "      <td>0.103437</td>\n",
              "      <td>1.917854e-18</td>\n",
              "      <td>-2.966463e-17</td>\n",
              "      <td>1.000000e+00</td>\n",
              "      <td>9.535943e-01</td>\n",
              "      <td>9.258738e-01</td>\n",
              "      <td>8.916868e-01</td>\n",
              "      <td>8.849556e-01</td>\n",
              "      <td>2.744429e-16</td>\n",
              "      <td>0.001790</td>\n",
              "    </tr>\n",
              "    <tr>\n",
              "      <th>generation_gwh_2015</th>\n",
              "      <td>0.073665</td>\n",
              "      <td>0.038958</td>\n",
              "      <td>0.711190</td>\n",
              "      <td>-0.124828</td>\n",
              "      <td>0.114544</td>\n",
              "      <td>-2.160931e-17</td>\n",
              "      <td>-6.339264e-18</td>\n",
              "      <td>9.535943e-01</td>\n",
              "      <td>1.000000e+00</td>\n",
              "      <td>9.688877e-01</td>\n",
              "      <td>9.282425e-01</td>\n",
              "      <td>9.234611e-01</td>\n",
              "      <td>5.686366e-17</td>\n",
              "      <td>-0.002195</td>\n",
              "    </tr>\n",
              "    <tr>\n",
              "      <th>generation_gwh_2016</th>\n",
              "      <td>0.066177</td>\n",
              "      <td>0.026831</td>\n",
              "      <td>0.742221</td>\n",
              "      <td>-0.131051</td>\n",
              "      <td>0.132663</td>\n",
              "      <td>-4.925637e-17</td>\n",
              "      <td>2.904016e-17</td>\n",
              "      <td>9.258738e-01</td>\n",
              "      <td>9.688877e-01</td>\n",
              "      <td>1.000000e+00</td>\n",
              "      <td>9.646488e-01</td>\n",
              "      <td>9.571589e-01</td>\n",
              "      <td>4.706666e-17</td>\n",
              "      <td>-0.002182</td>\n",
              "    </tr>\n",
              "    <tr>\n",
              "      <th>generation_gwh_2017</th>\n",
              "      <td>0.073634</td>\n",
              "      <td>0.022853</td>\n",
              "      <td>0.757585</td>\n",
              "      <td>-0.132003</td>\n",
              "      <td>0.132834</td>\n",
              "      <td>-1.284552e-16</td>\n",
              "      <td>8.066490e-17</td>\n",
              "      <td>8.916868e-01</td>\n",
              "      <td>9.282425e-01</td>\n",
              "      <td>9.646488e-01</td>\n",
              "      <td>1.000000e+00</td>\n",
              "      <td>9.826888e-01</td>\n",
              "      <td>-1.236318e-16</td>\n",
              "      <td>0.005828</td>\n",
              "    </tr>\n",
              "    <tr>\n",
              "      <th>generation_gwh_2018</th>\n",
              "      <td>0.066638</td>\n",
              "      <td>0.019265</td>\n",
              "      <td>0.773456</td>\n",
              "      <td>-0.136983</td>\n",
              "      <td>0.135565</td>\n",
              "      <td>1.092118e-17</td>\n",
              "      <td>-1.048582e-17</td>\n",
              "      <td>8.849556e-01</td>\n",
              "      <td>9.234611e-01</td>\n",
              "      <td>9.571589e-01</td>\n",
              "      <td>9.826888e-01</td>\n",
              "      <td>1.000000e+00</td>\n",
              "      <td>7.763154e-17</td>\n",
              "      <td>0.001777</td>\n",
              "    </tr>\n",
              "    <tr>\n",
              "      <th>generation_data_source</th>\n",
              "      <td>-0.005862</td>\n",
              "      <td>0.734832</td>\n",
              "      <td>-0.495833</td>\n",
              "      <td>0.482339</td>\n",
              "      <td>0.045366</td>\n",
              "      <td>4.848273e-01</td>\n",
              "      <td>-3.903486e-01</td>\n",
              "      <td>2.744429e-16</td>\n",
              "      <td>5.686366e-17</td>\n",
              "      <td>4.706666e-17</td>\n",
              "      <td>-1.236318e-16</td>\n",
              "      <td>7.763154e-17</td>\n",
              "      <td>1.000000e+00</td>\n",
              "      <td>-0.093955</td>\n",
              "    </tr>\n",
              "    <tr>\n",
              "      <th>lat_long</th>\n",
              "      <td>-0.050925</td>\n",
              "      <td>-0.050218</td>\n",
              "      <td>0.037568</td>\n",
              "      <td>0.096074</td>\n",
              "      <td>0.033972</td>\n",
              "      <td>-1.648141e-02</td>\n",
              "      <td>-1.717101e-01</td>\n",
              "      <td>1.790138e-03</td>\n",
              "      <td>-2.194963e-03</td>\n",
              "      <td>-2.182477e-03</td>\n",
              "      <td>5.827695e-03</td>\n",
              "      <td>1.777317e-03</td>\n",
              "      <td>-9.395506e-02</td>\n",
              "      <td>1.000000</td>\n",
              "    </tr>\n",
              "  </tbody>\n",
              "</table>\n",
              "</div>\n",
              "      <button class=\"colab-df-convert\" onclick=\"convertToInteractive('df-b308f04c-cec6-4d44-9dba-35d1c36cd5c3')\"\n",
              "              title=\"Convert this dataframe to an interactive table.\"\n",
              "              style=\"display:none;\">\n",
              "        \n",
              "  <svg xmlns=\"http://www.w3.org/2000/svg\" height=\"24px\"viewBox=\"0 0 24 24\"\n",
              "       width=\"24px\">\n",
              "    <path d=\"M0 0h24v24H0V0z\" fill=\"none\"/>\n",
              "    <path d=\"M18.56 5.44l.94 2.06.94-2.06 2.06-.94-2.06-.94-.94-2.06-.94 2.06-2.06.94zm-11 1L8.5 8.5l.94-2.06 2.06-.94-2.06-.94L8.5 2.5l-.94 2.06-2.06.94zm10 10l.94 2.06.94-2.06 2.06-.94-2.06-.94-.94-2.06-.94 2.06-2.06.94z\"/><path d=\"M17.41 7.96l-1.37-1.37c-.4-.4-.92-.59-1.43-.59-.52 0-1.04.2-1.43.59L10.3 9.45l-7.72 7.72c-.78.78-.78 2.05 0 2.83L4 21.41c.39.39.9.59 1.41.59.51 0 1.02-.2 1.41-.59l7.78-7.78 2.81-2.81c.8-.78.8-2.07 0-2.86zM5.41 20L4 18.59l7.72-7.72 1.47 1.35L5.41 20z\"/>\n",
              "  </svg>\n",
              "      </button>\n",
              "      \n",
              "  <style>\n",
              "    .colab-df-container {\n",
              "      display:flex;\n",
              "      flex-wrap:wrap;\n",
              "      gap: 12px;\n",
              "    }\n",
              "\n",
              "    .colab-df-convert {\n",
              "      background-color: #E8F0FE;\n",
              "      border: none;\n",
              "      border-radius: 50%;\n",
              "      cursor: pointer;\n",
              "      display: none;\n",
              "      fill: #1967D2;\n",
              "      height: 32px;\n",
              "      padding: 0 0 0 0;\n",
              "      width: 32px;\n",
              "    }\n",
              "\n",
              "    .colab-df-convert:hover {\n",
              "      background-color: #E2EBFA;\n",
              "      box-shadow: 0px 1px 2px rgba(60, 64, 67, 0.3), 0px 1px 3px 1px rgba(60, 64, 67, 0.15);\n",
              "      fill: #174EA6;\n",
              "    }\n",
              "\n",
              "    [theme=dark] .colab-df-convert {\n",
              "      background-color: #3B4455;\n",
              "      fill: #D2E3FC;\n",
              "    }\n",
              "\n",
              "    [theme=dark] .colab-df-convert:hover {\n",
              "      background-color: #434B5C;\n",
              "      box-shadow: 0px 1px 3px 1px rgba(0, 0, 0, 0.15);\n",
              "      filter: drop-shadow(0px 1px 2px rgba(0, 0, 0, 0.3));\n",
              "      fill: #FFFFFF;\n",
              "    }\n",
              "  </style>\n",
              "\n",
              "      <script>\n",
              "        const buttonEl =\n",
              "          document.querySelector('#df-b308f04c-cec6-4d44-9dba-35d1c36cd5c3 button.colab-df-convert');\n",
              "        buttonEl.style.display =\n",
              "          google.colab.kernel.accessAllowed ? 'block' : 'none';\n",
              "\n",
              "        async function convertToInteractive(key) {\n",
              "          const element = document.querySelector('#df-b308f04c-cec6-4d44-9dba-35d1c36cd5c3');\n",
              "          const dataTable =\n",
              "            await google.colab.kernel.invokeFunction('convertToInteractive',\n",
              "                                                     [key], {});\n",
              "          if (!dataTable) return;\n",
              "\n",
              "          const docLinkHtml = 'Like what you see? Visit the ' +\n",
              "            '<a target=\"_blank\" href=https://colab.research.google.com/notebooks/data_table.ipynb>data table notebook</a>'\n",
              "            + ' to learn more about interactive tables.';\n",
              "          element.innerHTML = '';\n",
              "          dataTable['output_type'] = 'display_data';\n",
              "          await google.colab.output.renderOutput(dataTable, element);\n",
              "          const docLink = document.createElement('div');\n",
              "          docLink.innerHTML = docLinkHtml;\n",
              "          element.appendChild(docLink);\n",
              "        }\n",
              "      </script>\n",
              "    </div>\n",
              "  </div>\n",
              "  "
            ],
            "text/plain": [
              "                            name  gppd_idnr  ...  generation_data_source  lat_long\n",
              "name                    1.000000   0.332205  ...           -5.861880e-03 -0.050925\n",
              "gppd_idnr               0.332205   1.000000  ...            7.348321e-01 -0.050218\n",
              "capacity_mw             0.060240  -0.335742  ...           -4.958331e-01  0.037568\n",
              "primary_fuel            0.040753   0.609180  ...            4.823393e-01  0.096074\n",
              "commissioning_year     -0.028008   0.175809  ...            4.536648e-02  0.033972\n",
              "source                 -0.014640   0.416384  ...            4.848273e-01 -0.016481\n",
              "geolocation_source      0.036225  -0.464174  ...           -3.903486e-01 -0.171710\n",
              "generation_gwh_2014     0.083759   0.044518  ...            2.744429e-16  0.001790\n",
              "generation_gwh_2015     0.073665   0.038958  ...            5.686366e-17 -0.002195\n",
              "generation_gwh_2016     0.066177   0.026831  ...            4.706666e-17 -0.002182\n",
              "generation_gwh_2017     0.073634   0.022853  ...           -1.236318e-16  0.005828\n",
              "generation_gwh_2018     0.066638   0.019265  ...            7.763154e-17  0.001777\n",
              "generation_data_source -0.005862   0.734832  ...            1.000000e+00 -0.093955\n",
              "lat_long               -0.050925  -0.050218  ...           -9.395506e-02  1.000000\n",
              "\n",
              "[14 rows x 14 columns]"
            ]
          },
          "metadata": {},
          "execution_count": 581
        }
      ]
    },
    {
      "cell_type": "code",
      "source": [
        "#w.r.t \"primary_fuel\"\n",
        "\n",
        "df.corr()['primary_fuel'].sort_values()"
      ],
      "metadata": {
        "colab": {
          "base_uri": "https://localhost:8080/"
        },
        "id": "VKsWShrBREhH",
        "outputId": "0b14cf4f-7c06-41a6-e5d2-f7d8178769f2"
      },
      "execution_count": 582,
      "outputs": [
        {
          "output_type": "execute_result",
          "data": {
            "text/plain": [
              "geolocation_source       -0.483217\n",
              "capacity_mw              -0.380395\n",
              "generation_gwh_2018      -0.136983\n",
              "generation_gwh_2017      -0.132003\n",
              "generation_gwh_2016      -0.131051\n",
              "generation_gwh_2015      -0.124828\n",
              "generation_gwh_2014      -0.124769\n",
              "name                      0.040753\n",
              "commissioning_year        0.044777\n",
              "source                    0.053613\n",
              "lat_long                  0.096074\n",
              "generation_data_source    0.482339\n",
              "gppd_idnr                 0.609180\n",
              "primary_fuel              1.000000\n",
              "Name: primary_fuel, dtype: float64"
            ]
          },
          "metadata": {},
          "execution_count": 582
        }
      ]
    },
    {
      "cell_type": "code",
      "source": [
        "#plotting the correlation matrix using heatmap\n",
        "\n",
        "corr_matrix = df.corr()\n",
        "plt.figure(figsize=[18,8])\n",
        "sns.heatmap(corr_matrix,annot=True)\n",
        "plt.title(\"Correlation matrix\")\n",
        "plt.show()"
      ],
      "metadata": {
        "colab": {
          "base_uri": "https://localhost:8080/",
          "height": 608
        },
        "id": "A02Vs98YRL2Y",
        "outputId": "edfb0bd4-9d79-4c93-c8cf-243e70ed962b"
      },
      "execution_count": 583,
      "outputs": [
        {
          "output_type": "display_data",
          "data": {
            "image/png": "[encoded data removed]",
            "text/plain": [
              "<Figure size 1296x576 with 2 Axes>"
            ]
          },
          "metadata": {
            "needs_background": "light"
          }
        }
      ]
    },
    {
      "cell_type": "markdown",
      "source": [
        "### With above observation,we can see that there are positive and negative correlation with target variable\n",
        "#### \"geolocation_source\" has highest negative correlation(48%) with target variable.\n",
        "#### \"commissioning_year\" has least negative correlation(5%) with target variable.\n",
        "#### \"gppd_idnr\" has highest positive correlation(61%).\n",
        "#### \"name\" has least positive correlation(4%) with target variable."
      ],
      "metadata": {
        "id": "r_Art9XcSWAx"
      }
    },
    {
      "cell_type": "markdown",
      "source": [
        "## Checking with outliers"
      ],
      "metadata": {
        "id": "54C_ZfPaTmbj"
      }
    },
    {
      "cell_type": "code",
      "source": [
        "df1 = df.iloc[:,:8]\n",
        "df2 = df.iloc[:,8:]"
      ],
      "metadata": {
        "id": "0fMWRUc-STHY"
      },
      "execution_count": 584,
      "outputs": []
    },
    {
      "cell_type": "code",
      "source": [
        "column_list = df1.columns.values\n",
        "n_col = 31\n",
        "n_row = 25\n",
        "plt.figure(figsize = (2*n_col,4*n_col))\n",
        "for i in range(len(column_list)):\n",
        "  plt.subplot(n_row,n_col,i+1)\n",
        "  sns.boxplot(df[column_list[i]],color='orange',orient='h')\n",
        "  plt.tight_layout()"
      ],
      "metadata": {
        "colab": {
          "base_uri": "https://localhost:8080/",
          "height": 360
        },
        "id": "toQoZsdSTrxH",
        "outputId": "455e20fe-f2ab-4c2f-8372-b669f9da2da8"
      },
      "execution_count": 585,
      "outputs": [
        {
          "output_type": "display_data",
          "data": {
            "image/png": "[encoded data removed]",
            "text/plain": [
              "<Figure size 4464x8928 with 8 Axes>"
            ]
          },
          "metadata": {
            "needs_background": "light"
          }
        }
      ]
    },
    {
      "cell_type": "markdown",
      "source": [
        "we can see that there are more outliers in \"capacity_mw\",\"commissioning_year\",\"source\",\"generaton_gwh_2014\" with few being in \"geolocation_source\"."
      ],
      "metadata": {
        "id": "FASCnvbWT2mE"
      }
    },
    {
      "cell_type": "code",
      "source": [
        "column_list = df2.columns.values\n",
        "n_col = 31\n",
        "n_row = 25\n",
        "plt.figure(figsize = (2*n_col,4*n_col))\n",
        "for i in range(len(column_list)):\n",
        "  plt.subplot(n_row,n_col,i+1)\n",
        "  sns.boxplot(df[column_list[i]],color='orange',orient='h')\n",
        "  plt.tight_layout()"
      ],
      "metadata": {
        "colab": {
          "base_uri": "https://localhost:8080/",
          "height": 377
        },
        "id": "fSSWSmFeTt7Y",
        "outputId": "9ee59012-f659-4227-ccb1-61b6bdbae40f"
      },
      "execution_count": 586,
      "outputs": [
        {
          "output_type": "display_data",
          "data": {
            "image/png": "[encoded data removed]",
            "text/plain": [
              "<Figure size 4464x8928 with 6 Axes>"
            ]
          },
          "metadata": {
            "needs_background": "light"
          }
        }
      ]
    },
    {
      "cell_type": "markdown",
      "source": [
        "So,there are more outliers in \"gwh_2015\",\"gwh_2016\",\"gwh_2017\",\"gwh_2018\""
      ],
      "metadata": {
        "id": "2jK0lkyiUTt6"
      }
    },
    {
      "cell_type": "markdown",
      "source": [
        "## checking with Skewness"
      ],
      "metadata": {
        "id": "fjrC89SSUly7"
      }
    },
    {
      "cell_type": "code",
      "source": [
        "df.skew().sort_values()"
      ],
      "metadata": {
        "colab": {
          "base_uri": "https://localhost:8080/"
        },
        "id": "wuTBXrxGTwn5",
        "outputId": "ab29275c-accf-4ebe-9f37-764791f9b110"
      },
      "execution_count": 587,
      "outputs": [
        {
          "output_type": "execute_result",
          "data": {
            "text/plain": [
              "geolocation_source       -2.159841\n",
              "commissioning_year       -1.197957\n",
              "generation_data_source   -0.019880\n",
              "name                      0.000000\n",
              "gppd_idnr                 0.000000\n",
              "lat_long                  0.100208\n",
              "primary_fuel              0.472251\n",
              "source                    1.827373\n",
              "capacity_mw               3.123576\n",
              "generation_gwh_2018       4.937907\n",
              "generation_gwh_2014       5.035446\n",
              "generation_gwh_2016       5.068427\n",
              "generation_gwh_2017       5.110952\n",
              "generation_gwh_2015       5.364134\n",
              "dtype: float64"
            ]
          },
          "metadata": {},
          "execution_count": 587
        }
      ]
    },
    {
      "cell_type": "markdown",
      "source": [
        "## Removing the outliers"
      ],
      "metadata": {
        "id": "Pns4CM8BUvb-"
      }
    },
    {
      "cell_type": "code",
      "source": [
        "#with z-score technique\n",
        "\n",
        "from scipy.stats import zscore\n",
        "import numpy as np\n",
        "z_n = np.abs(zscore(df))\n",
        "z_n.shape"
      ],
      "metadata": {
        "colab": {
          "base_uri": "https://localhost:8080/"
        },
        "id": "zItCwgGcUqd2",
        "outputId": "5a278854-6287-46c1-cce4-29ae4e479d24"
      },
      "execution_count": 588,
      "outputs": [
        {
          "output_type": "execute_result",
          "data": {
            "text/plain": [
              "(907, 14)"
            ]
          },
          "metadata": {},
          "execution_count": 588
        }
      ]
    },
    {
      "cell_type": "code",
      "source": [
        "threshold = 3\n",
        "\n",
        "df_new = df[(z_n<threshold).all(axis=1)]\n",
        "print(df.shape)\n",
        "print(df_new.shape)\n",
        "\n",
        "#printing the total number of dropped rows\n",
        "print(df.shape[0]-df_new.shape[0])"
      ],
      "metadata": {
        "colab": {
          "base_uri": "https://localhost:8080/"
        },
        "id": "K6PJ9O6JUx4U",
        "outputId": "7e0aa683-342d-42f1-eb8f-eef37698099e"
      },
      "execution_count": 589,
      "outputs": [
        {
          "output_type": "stream",
          "name": "stdout",
          "text": [
            "(907, 14)\n",
            "(862, 14)\n",
            "45\n"
          ]
        }
      ]
    },
    {
      "cell_type": "markdown",
      "source": [
        "## calcuating the percentage of data loss"
      ],
      "metadata": {
        "id": "N4yXDqlDU3bv"
      }
    },
    {
      "cell_type": "code",
      "source": [
        "loss_perc = (df.shape[0]-df_new.shape[0])/df.shape[0]*100\n",
        "print(\"data loss percentage:{:.2f}%\".format(loss_perc))"
      ],
      "metadata": {
        "colab": {
          "base_uri": "https://localhost:8080/"
        },
        "id": "oQApgZxAU4Oh",
        "outputId": "5321dd44-ba19-4e36-80e3-255df9a629ba"
      },
      "execution_count": 590,
      "outputs": [
        {
          "output_type": "stream",
          "name": "stdout",
          "text": [
            "data loss percentage:4.96%\n"
          ]
        }
      ]
    },
    {
      "cell_type": "markdown",
      "source": [
        "there is a 4.96% data loss which is good to proceed for further"
      ],
      "metadata": {
        "id": "x-XP5RFJU8N6"
      }
    },
    {
      "cell_type": "markdown",
      "source": [
        "## Dividing the data into features and vectors"
      ],
      "metadata": {
        "id": "-FLIPjYbVAQe"
      }
    },
    {
      "cell_type": "code",
      "source": [
        "y = df_new[[\"primary_fuel\"]]\n",
        "x = df_new.drop([\"primary_fuel\"],axis=1)"
      ],
      "metadata": {
        "id": "NctAuLwoU50B"
      },
      "execution_count": 591,
      "outputs": []
    },
    {
      "cell_type": "markdown",
      "source": [
        "## Checking with multicollinearity"
      ],
      "metadata": {
        "id": "-CbmyfXrVKKD"
      }
    },
    {
      "cell_type": "code",
      "source": [
        "from statsmodels.stats.outliers_influence import variance_inflation_factor\n",
        "def calc_vif_value(X):\n",
        "\n",
        "    # Calculating VIF\n",
        "    vif = pd.DataFrame()\n",
        "    vif[\"variables\"] = X.columns\n",
        "    vif[\"VIF\"] = [variance_inflation_factor(X.values, i) for i in range(X.shape[1])]\n",
        "\n",
        "    return(vif)"
      ],
      "metadata": {
        "id": "73_ZGffGVHse"
      },
      "execution_count": 592,
      "outputs": []
    },
    {
      "cell_type": "code",
      "source": [
        "calc_vif_value(x)"
      ],
      "metadata": {
        "colab": {
          "base_uri": "https://localhost:8080/",
          "height": 456
        },
        "id": "Uio-_JzTVMbx",
        "outputId": "a363e24e-3b86-4a27-be70-8afff8a67325"
      },
      "execution_count": 593,
      "outputs": [
        {
          "output_type": "execute_result",
          "data": {
            "text/html": [
              "\n",
              "  <div id=\"df-b658a1be-164a-453a-bfa1-23e0986933a0\">\n",
              "    <div class=\"colab-df-container\">\n",
              "      <div>\n",
              "<style scoped>\n",
              "    .dataframe tbody tr th:only-of-type {\n",
              "        vertical-align: middle;\n",
              "    }\n",
              "\n",
              "    .dataframe tbody tr th {\n",
              "        vertical-align: top;\n",
              "    }\n",
              "\n",
              "    .dataframe thead th {\n",
              "        text-align: right;\n",
              "    }\n",
              "</style>\n",
              "<table border=\"1\" class=\"dataframe\">\n",
              "  <thead>\n",
              "    <tr style=\"text-align: right;\">\n",
              "      <th></th>\n",
              "      <th>variables</th>\n",
              "      <th>VIF</th>\n",
              "    </tr>\n",
              "  </thead>\n",
              "  <tbody>\n",
              "    <tr>\n",
              "      <th>0</th>\n",
              "      <td>name</td>\n",
              "      <td>5.519589</td>\n",
              "    </tr>\n",
              "    <tr>\n",
              "      <th>1</th>\n",
              "      <td>gppd_idnr</td>\n",
              "      <td>13.129065</td>\n",
              "    </tr>\n",
              "    <tr>\n",
              "      <th>2</th>\n",
              "      <td>capacity_mw</td>\n",
              "      <td>5.899314</td>\n",
              "    </tr>\n",
              "    <tr>\n",
              "      <th>3</th>\n",
              "      <td>commissioning_year</td>\n",
              "      <td>32.692826</td>\n",
              "    </tr>\n",
              "    <tr>\n",
              "      <th>4</th>\n",
              "      <td>source</td>\n",
              "      <td>3.192516</td>\n",
              "    </tr>\n",
              "    <tr>\n",
              "      <th>5</th>\n",
              "      <td>geolocation_source</td>\n",
              "      <td>12.554088</td>\n",
              "    </tr>\n",
              "    <tr>\n",
              "      <th>6</th>\n",
              "      <td>generation_gwh_2014</td>\n",
              "      <td>16.000787</td>\n",
              "    </tr>\n",
              "    <tr>\n",
              "      <th>7</th>\n",
              "      <td>generation_gwh_2015</td>\n",
              "      <td>30.006234</td>\n",
              "    </tr>\n",
              "    <tr>\n",
              "      <th>8</th>\n",
              "      <td>generation_gwh_2016</td>\n",
              "      <td>34.892292</td>\n",
              "    </tr>\n",
              "    <tr>\n",
              "      <th>9</th>\n",
              "      <td>generation_gwh_2017</td>\n",
              "      <td>39.976532</td>\n",
              "    </tr>\n",
              "    <tr>\n",
              "      <th>10</th>\n",
              "      <td>generation_gwh_2018</td>\n",
              "      <td>39.371301</td>\n",
              "    </tr>\n",
              "    <tr>\n",
              "      <th>11</th>\n",
              "      <td>generation_data_source</td>\n",
              "      <td>10.364817</td>\n",
              "    </tr>\n",
              "    <tr>\n",
              "      <th>12</th>\n",
              "      <td>lat_long</td>\n",
              "      <td>4.112772</td>\n",
              "    </tr>\n",
              "  </tbody>\n",
              "</table>\n",
              "</div>\n",
              "      <button class=\"colab-df-convert\" onclick=\"convertToInteractive('df-b658a1be-164a-453a-bfa1-23e0986933a0')\"\n",
              "              title=\"Convert this dataframe to an interactive table.\"\n",
              "              style=\"display:none;\">\n",
              "        \n",
              "  <svg xmlns=\"http://www.w3.org/2000/svg\" height=\"24px\"viewBox=\"0 0 24 24\"\n",
              "       width=\"24px\">\n",
              "    <path d=\"M0 0h24v24H0V0z\" fill=\"none\"/>\n",
              "    <path d=\"M18.56 5.44l.94 2.06.94-2.06 2.06-.94-2.06-.94-.94-2.06-.94 2.06-2.06.94zm-11 1L8.5 8.5l.94-2.06 2.06-.94-2.06-.94L8.5 2.5l-.94 2.06-2.06.94zm10 10l.94 2.06.94-2.06 2.06-.94-2.06-.94-.94-2.06-.94 2.06-2.06.94z\"/><path d=\"M17.41 7.96l-1.37-1.37c-.4-.4-.92-.59-1.43-.59-.52 0-1.04.2-1.43.59L10.3 9.45l-7.72 7.72c-.78.78-.78 2.05 0 2.83L4 21.41c.39.39.9.59 1.41.59.51 0 1.02-.2 1.41-.59l7.78-7.78 2.81-2.81c.8-.78.8-2.07 0-2.86zM5.41 20L4 18.59l7.72-7.72 1.47 1.35L5.41 20z\"/>\n",
              "  </svg>\n",
              "      </button>\n",
              "      \n",
              "  <style>\n",
              "    .colab-df-container {\n",
              "      display:flex;\n",
              "      flex-wrap:wrap;\n",
              "      gap: 12px;\n",
              "    }\n",
              "\n",
              "    .colab-df-convert {\n",
              "      background-color: #E8F0FE;\n",
              "      border: none;\n",
              "      border-radius: 50%;\n",
              "      cursor: pointer;\n",
              "      display: none;\n",
              "      fill: #1967D2;\n",
              "      height: 32px;\n",
              "      padding: 0 0 0 0;\n",
              "      width: 32px;\n",
              "    }\n",
              "\n",
              "    .colab-df-convert:hover {\n",
              "      background-color: #E2EBFA;\n",
              "      box-shadow: 0px 1px 2px rgba(60, 64, 67, 0.3), 0px 1px 3px 1px rgba(60, 64, 67, 0.15);\n",
              "      fill: #174EA6;\n",
              "    }\n",
              "\n",
              "    [theme=dark] .colab-df-convert {\n",
              "      background-color: #3B4455;\n",
              "      fill: #D2E3FC;\n",
              "    }\n",
              "\n",
              "    [theme=dark] .colab-df-convert:hover {\n",
              "      background-color: #434B5C;\n",
              "      box-shadow: 0px 1px 3px 1px rgba(0, 0, 0, 0.15);\n",
              "      filter: drop-shadow(0px 1px 2px rgba(0, 0, 0, 0.3));\n",
              "      fill: #FFFFFF;\n",
              "    }\n",
              "  </style>\n",
              "\n",
              "      <script>\n",
              "        const buttonEl =\n",
              "          document.querySelector('#df-b658a1be-164a-453a-bfa1-23e0986933a0 button.colab-df-convert');\n",
              "        buttonEl.style.display =\n",
              "          google.colab.kernel.accessAllowed ? 'block' : 'none';\n",
              "\n",
              "        async function convertToInteractive(key) {\n",
              "          const element = document.querySelector('#df-b658a1be-164a-453a-bfa1-23e0986933a0');\n",
              "          const dataTable =\n",
              "            await google.colab.kernel.invokeFunction('convertToInteractive',\n",
              "                                                     [key], {});\n",
              "          if (!dataTable) return;\n",
              "\n",
              "          const docLinkHtml = 'Like what you see? Visit the ' +\n",
              "            '<a target=\"_blank\" href=https://colab.research.google.com/notebooks/data_table.ipynb>data table notebook</a>'\n",
              "            + ' to learn more about interactive tables.';\n",
              "          element.innerHTML = '';\n",
              "          dataTable['output_type'] = 'display_data';\n",
              "          await google.colab.output.renderOutput(dataTable, element);\n",
              "          const docLink = document.createElement('div');\n",
              "          docLink.innerHTML = docLinkHtml;\n",
              "          element.appendChild(docLink);\n",
              "        }\n",
              "      </script>\n",
              "    </div>\n",
              "  </div>\n",
              "  "
            ],
            "text/plain": [
              "                 variables        VIF\n",
              "0                     name   5.519589\n",
              "1                gppd_idnr  13.129065\n",
              "2              capacity_mw   5.899314\n",
              "3       commissioning_year  32.692826\n",
              "4                   source   3.192516\n",
              "5       geolocation_source  12.554088\n",
              "6      generation_gwh_2014  16.000787\n",
              "7      generation_gwh_2015  30.006234\n",
              "8      generation_gwh_2016  34.892292\n",
              "9      generation_gwh_2017  39.976532\n",
              "10     generation_gwh_2018  39.371301\n",
              "11  generation_data_source  10.364817\n",
              "12                lat_long   4.112772"
            ]
          },
          "metadata": {},
          "execution_count": 593
        }
      ]
    },
    {
      "cell_type": "markdown",
      "source": [
        "## Reducing the multicollinearity"
      ],
      "metadata": {
        "id": "ioTZJGgMVV6p"
      }
    },
    {
      "cell_type": "code",
      "source": [
        "x[\"generation_gwh_2017_generation_gwh_2018\"] = df.apply(lambda x_1: x_1['generation_gwh_2017'] - x_1['generation_gwh_2018'],axis=1)\n"
      ],
      "metadata": {
        "id": "wR6wGCm4VOBw"
      },
      "execution_count": 594,
      "outputs": []
    },
    {
      "cell_type": "code",
      "source": [
        "x= x.drop([\"generation_gwh_2017\",\"generation_gwh_2018\"],axis=1)"
      ],
      "metadata": {
        "id": "f78vvwbnVkF0"
      },
      "execution_count": 595,
      "outputs": []
    },
    {
      "cell_type": "code",
      "source": [
        "x[\"commissioning_year_generation_gwh_2015\"] = df.apply(lambda x_1: x_1['commissioning_year'] - x_1['generation_gwh_2015'],axis=1)"
      ],
      "metadata": {
        "id": "p0U2WFHMWGmN"
      },
      "execution_count": 597,
      "outputs": []
    },
    {
      "cell_type": "code",
      "source": [
        "x= x.drop([\"commissioning_year\",\"generation_gwh_2015\"],axis=1)"
      ],
      "metadata": {
        "id": "XeKh9zxUWL50"
      },
      "execution_count": 598,
      "outputs": []
    },
    {
      "cell_type": "code",
      "source": [
        "calc_vif_value(x)"
      ],
      "metadata": {
        "colab": {
          "base_uri": "https://localhost:8080/",
          "height": 394
        },
        "id": "pSh3ZYslVpLB",
        "outputId": "e4e7ee6f-ecbe-4b19-b9c0-bf3a9f4286aa"
      },
      "execution_count": 599,
      "outputs": [
        {
          "output_type": "execute_result",
          "data": {
            "text/html": [
              "\n",
              "  <div id=\"df-3ed72dbe-545e-48b1-8910-f51513c7c76a\">\n",
              "    <div class=\"colab-df-container\">\n",
              "      <div>\n",
              "<style scoped>\n",
              "    .dataframe tbody tr th:only-of-type {\n",
              "        vertical-align: middle;\n",
              "    }\n",
              "\n",
              "    .dataframe tbody tr th {\n",
              "        vertical-align: top;\n",
              "    }\n",
              "\n",
              "    .dataframe thead th {\n",
              "        text-align: right;\n",
              "    }\n",
              "</style>\n",
              "<table border=\"1\" class=\"dataframe\">\n",
              "  <thead>\n",
              "    <tr style=\"text-align: right;\">\n",
              "      <th></th>\n",
              "      <th>variables</th>\n",
              "      <th>VIF</th>\n",
              "    </tr>\n",
              "  </thead>\n",
              "  <tbody>\n",
              "    <tr>\n",
              "      <th>0</th>\n",
              "      <td>name</td>\n",
              "      <td>5.492420</td>\n",
              "    </tr>\n",
              "    <tr>\n",
              "      <th>1</th>\n",
              "      <td>gppd_idnr</td>\n",
              "      <td>11.901010</td>\n",
              "    </tr>\n",
              "    <tr>\n",
              "      <th>2</th>\n",
              "      <td>capacity_mw</td>\n",
              "      <td>5.111467</td>\n",
              "    </tr>\n",
              "    <tr>\n",
              "      <th>3</th>\n",
              "      <td>source</td>\n",
              "      <td>2.824694</td>\n",
              "    </tr>\n",
              "    <tr>\n",
              "      <th>4</th>\n",
              "      <td>geolocation_source</td>\n",
              "      <td>6.940857</td>\n",
              "    </tr>\n",
              "    <tr>\n",
              "      <th>5</th>\n",
              "      <td>generation_gwh_2014</td>\n",
              "      <td>13.141815</td>\n",
              "    </tr>\n",
              "    <tr>\n",
              "      <th>6</th>\n",
              "      <td>generation_gwh_2016</td>\n",
              "      <td>17.257312</td>\n",
              "    </tr>\n",
              "    <tr>\n",
              "      <th>7</th>\n",
              "      <td>generation_data_source</td>\n",
              "      <td>9.328291</td>\n",
              "    </tr>\n",
              "    <tr>\n",
              "      <th>8</th>\n",
              "      <td>lat_long</td>\n",
              "      <td>3.473166</td>\n",
              "    </tr>\n",
              "    <tr>\n",
              "      <th>9</th>\n",
              "      <td>generation_gwh_2017_generation_gwh_2018</td>\n",
              "      <td>1.024605</td>\n",
              "    </tr>\n",
              "    <tr>\n",
              "      <th>10</th>\n",
              "      <td>commissioning_year_generation_gwh_2015</td>\n",
              "      <td>6.827057</td>\n",
              "    </tr>\n",
              "  </tbody>\n",
              "</table>\n",
              "</div>\n",
              "      <button class=\"colab-df-convert\" onclick=\"convertToInteractive('df-3ed72dbe-545e-48b1-8910-f51513c7c76a')\"\n",
              "              title=\"Convert this dataframe to an interactive table.\"\n",
              "              style=\"display:none;\">\n",
              "        \n",
              "  <svg xmlns=\"http://www.w3.org/2000/svg\" height=\"24px\"viewBox=\"0 0 24 24\"\n",
              "       width=\"24px\">\n",
              "    <path d=\"M0 0h24v24H0V0z\" fill=\"none\"/>\n",
              "    <path d=\"M18.56 5.44l.94 2.06.94-2.06 2.06-.94-2.06-.94-.94-2.06-.94 2.06-2.06.94zm-11 1L8.5 8.5l.94-2.06 2.06-.94-2.06-.94L8.5 2.5l-.94 2.06-2.06.94zm10 10l.94 2.06.94-2.06 2.06-.94-2.06-.94-.94-2.06-.94 2.06-2.06.94z\"/><path d=\"M17.41 7.96l-1.37-1.37c-.4-.4-.92-.59-1.43-.59-.52 0-1.04.2-1.43.59L10.3 9.45l-7.72 7.72c-.78.78-.78 2.05 0 2.83L4 21.41c.39.39.9.59 1.41.59.51 0 1.02-.2 1.41-.59l7.78-7.78 2.81-2.81c.8-.78.8-2.07 0-2.86zM5.41 20L4 18.59l7.72-7.72 1.47 1.35L5.41 20z\"/>\n",
              "  </svg>\n",
              "      </button>\n",
              "      \n",
              "  <style>\n",
              "    .colab-df-container {\n",
              "      display:flex;\n",
              "      flex-wrap:wrap;\n",
              "      gap: 12px;\n",
              "    }\n",
              "\n",
              "    .colab-df-convert {\n",
              "      background-color: #E8F0FE;\n",
              "      border: none;\n",
              "      border-radius: 50%;\n",
              "      cursor: pointer;\n",
              "      display: none;\n",
              "      fill: #1967D2;\n",
              "      height: 32px;\n",
              "      padding: 0 0 0 0;\n",
              "      width: 32px;\n",
              "    }\n",
              "\n",
              "    .colab-df-convert:hover {\n",
              "      background-color: #E2EBFA;\n",
              "      box-shadow: 0px 1px 2px rgba(60, 64, 67, 0.3), 0px 1px 3px 1px rgba(60, 64, 67, 0.15);\n",
              "      fill: #174EA6;\n",
              "    }\n",
              "\n",
              "    [theme=dark] .colab-df-convert {\n",
              "      background-color: #3B4455;\n",
              "      fill: #D2E3FC;\n",
              "    }\n",
              "\n",
              "    [theme=dark] .colab-df-convert:hover {\n",
              "      background-color: #434B5C;\n",
              "      box-shadow: 0px 1px 3px 1px rgba(0, 0, 0, 0.15);\n",
              "      filter: drop-shadow(0px 1px 2px rgba(0, 0, 0, 0.3));\n",
              "      fill: #FFFFFF;\n",
              "    }\n",
              "  </style>\n",
              "\n",
              "      <script>\n",
              "        const buttonEl =\n",
              "          document.querySelector('#df-3ed72dbe-545e-48b1-8910-f51513c7c76a button.colab-df-convert');\n",
              "        buttonEl.style.display =\n",
              "          google.colab.kernel.accessAllowed ? 'block' : 'none';\n",
              "\n",
              "        async function convertToInteractive(key) {\n",
              "          const element = document.querySelector('#df-3ed72dbe-545e-48b1-8910-f51513c7c76a');\n",
              "          const dataTable =\n",
              "            await google.colab.kernel.invokeFunction('convertToInteractive',\n",
              "                                                     [key], {});\n",
              "          if (!dataTable) return;\n",
              "\n",
              "          const docLinkHtml = 'Like what you see? Visit the ' +\n",
              "            '<a target=\"_blank\" href=https://colab.research.google.com/notebooks/data_table.ipynb>data table notebook</a>'\n",
              "            + ' to learn more about interactive tables.';\n",
              "          element.innerHTML = '';\n",
              "          dataTable['output_type'] = 'display_data';\n",
              "          await google.colab.output.renderOutput(dataTable, element);\n",
              "          const docLink = document.createElement('div');\n",
              "          docLink.innerHTML = docLinkHtml;\n",
              "          element.appendChild(docLink);\n",
              "        }\n",
              "      </script>\n",
              "    </div>\n",
              "  </div>\n",
              "  "
            ],
            "text/plain": [
              "                                  variables        VIF\n",
              "0                                      name   5.492420\n",
              "1                                 gppd_idnr  11.901010\n",
              "2                               capacity_mw   5.111467\n",
              "3                                    source   2.824694\n",
              "4                        geolocation_source   6.940857\n",
              "5                       generation_gwh_2014  13.141815\n",
              "6                       generation_gwh_2016  17.257312\n",
              "7                    generation_data_source   9.328291\n",
              "8                                  lat_long   3.473166\n",
              "9   generation_gwh_2017_generation_gwh_2018   1.024605\n",
              "10   commissioning_year_generation_gwh_2015   6.827057"
            ]
          },
          "metadata": {},
          "execution_count": 599
        }
      ]
    },
    {
      "cell_type": "markdown",
      "source": [
        "Now,its much better with the previous values\n"
      ],
      "metadata": {
        "id": "BHBQzL2OWpiy"
      }
    },
    {
      "cell_type": "markdown",
      "source": [
        "## Transforming data to eliminate skewness"
      ],
      "metadata": {
        "id": "BNO68VohWvYe"
      }
    },
    {
      "cell_type": "code",
      "source": [
        "from sklearn.preprocessing import power_transform\n",
        "x = power_transform(x)\n",
        "x[:5]"
      ],
      "metadata": {
        "colab": {
          "base_uri": "https://localhost:8080/"
        },
        "id": "zbfWm28rVr3J",
        "outputId": "2f1dc09b-be05-49a1-b2bb-90d049ab1a47"
      },
      "execution_count": 600,
      "outputs": [
        {
          "output_type": "execute_result",
          "data": {
            "text/plain": [
              "array([[-2.17255242,  0.78197717, -1.6811849 ,  1.64600029, -2.32822892,\n",
              "         0.35827819,  0.38861457,  0.98160763,  1.10306031,  0.02027178,\n",
              "        -0.21367123],\n",
              "       [-2.15234003,  0.32771638,  0.21698217,  2.12047361,  0.39821698,\n",
              "         0.35827819,  0.38861457,  0.98160763,  0.64115878,  0.02027178,\n",
              "        -0.21367123],\n",
              "       [-2.13509979,  1.38144048, -0.28253878, -0.45903294,  0.39821698,\n",
              "         0.35827819,  0.38861457,  0.98160763, -0.00656716,  0.02027178,\n",
              "        -0.21367123],\n",
              "       [-2.11954432, -2.15917481,  0.39086261, -0.38968009,  0.39821698,\n",
              "        -0.99656849, -0.64187419, -1.01873699,  0.47401357,  0.21027149,\n",
              "         0.83375809],\n",
              "       [-2.10513251, -2.13985059,  1.76561763, -0.38968009,  0.39821698,\n",
              "         0.68901504,  1.92322131, -1.01873699,  0.00536115, -4.88442344,\n",
              "        -2.43542439]])"
            ]
          },
          "metadata": {},
          "execution_count": 600
        }
      ]
    },
    {
      "cell_type": "code",
      "source": [
        "from sklearn.preprocessing import StandardScaler\n",
        "sc = StandardScaler()\n",
        "x = sc.fit_transform(x)\n",
        "x[:5]"
      ],
      "metadata": {
        "colab": {
          "base_uri": "https://localhost:8080/"
        },
        "id": "Q_kZsrbDWynp",
        "outputId": "e927be63-cd72-4c3f-d776-7df9fc60cc97"
      },
      "execution_count": 601,
      "outputs": [
        {
          "output_type": "execute_result",
          "data": {
            "text/plain": [
              "array([[-2.17255242,  0.78197717, -1.6811849 ,  1.64600029, -2.32822892,\n",
              "         0.35827819,  0.38861457,  0.98160763,  1.10306031,  0.02027178,\n",
              "        -0.21367123],\n",
              "       [-2.15234003,  0.32771638,  0.21698217,  2.12047361,  0.39821698,\n",
              "         0.35827819,  0.38861457,  0.98160763,  0.64115878,  0.02027178,\n",
              "        -0.21367123],\n",
              "       [-2.13509979,  1.38144048, -0.28253878, -0.45903294,  0.39821698,\n",
              "         0.35827819,  0.38861457,  0.98160763, -0.00656716,  0.02027178,\n",
              "        -0.21367123],\n",
              "       [-2.11954432, -2.15917481,  0.39086261, -0.38968009,  0.39821698,\n",
              "        -0.99656849, -0.64187419, -1.01873699,  0.47401357,  0.21027149,\n",
              "         0.83375809],\n",
              "       [-2.10513251, -2.13985059,  1.76561763, -0.38968009,  0.39821698,\n",
              "         0.68901504,  1.92322131, -1.01873699,  0.00536115, -4.88442344,\n",
              "        -2.43542439]])"
            ]
          },
          "metadata": {},
          "execution_count": 601
        }
      ]
    },
    {
      "cell_type": "code",
      "source": [
        "x_n1 = pd.DataFrame(x)   #rechecking with skewness\n",
        "x_n1.skew()"
      ],
      "metadata": {
        "colab": {
          "base_uri": "https://localhost:8080/"
        },
        "id": "w7LlKhCiA9dm",
        "outputId": "c87b8310-6c88-4090-8684-1af2718c9ee5"
      },
      "execution_count": 617,
      "outputs": [
        {
          "output_type": "execute_result",
          "data": {
            "text/plain": [
              "0    -0.282086\n",
              "1    -0.292401\n",
              "2     0.011582\n",
              "3    -0.200769\n",
              "4    -2.117100\n",
              "5    -0.254392\n",
              "6    -0.307859\n",
              "7    -0.037194\n",
              "8    -0.251130\n",
              "9    -2.108915\n",
              "10   -1.286293\n",
              "dtype: float64"
            ]
          },
          "metadata": {},
          "execution_count": 617
        }
      ]
    },
    {
      "cell_type": "markdown",
      "source": [
        "Skewness values has been reduced significantly compared to previous values"
      ],
      "metadata": {
        "id": "dxTLZBbZBIL3"
      }
    },
    {
      "cell_type": "markdown",
      "source": [
        "## Selecting a best random state"
      ],
      "metadata": {
        "id": "5Q9aMXb2Zc83"
      }
    },
    {
      "cell_type": "code",
      "source": [
        "#importing a necessary libraries\n",
        "from sklearn.tree import DecisionTreeClassifier \n",
        "from sklearn.metrics import f1_score\n",
        "from sklearn.metrics import accuracy_score\n",
        "\n",
        "from sklearn.model_selection import train_test_split\n",
        "\n",
        "#Evaluating model performance\n",
        "# Now data is preprocessed and we can go for selecting best random state\n",
        "Max_score = 0\n",
        "maxRS = 0 #best random state value for max r2_score\n",
        "for i in range(1,200):\n",
        "  x_train,x_test,y_train,y_test = train_test_split(x,y,test_size =.30,random_state = i)\n",
        "  DT = DecisionTreeClassifier()\n",
        "  DT.fit(x_train,y_train)\n",
        "  predic = DT.predict(x_test)\n",
        "  acc = f1_score(y_test,predic,pos_label='positive',average='micro')\n",
        "  if acc > Max_score:\n",
        "    Max_score = acc\n",
        "    maxRS = i\n",
        "print(\"Best f1_score is \",Max_score,\" on Random state \",maxRS)"
      ],
      "metadata": {
        "colab": {
          "base_uri": "https://localhost:8080/"
        },
        "id": "23xRm3BYZkAj",
        "outputId": "df397fb1-efd4-42bc-ba5d-ced5c14f49dd"
      },
      "execution_count": 602,
      "outputs": [
        {
          "output_type": "stream",
          "name": "stdout",
          "text": [
            "Best f1_score is  0.8416988416988417  on Random state  91\n"
          ]
        }
      ]
    },
    {
      "cell_type": "code",
      "source": [
        "x_train, x_test, y_train, y_test = train_test_split(x, y,test_size =.30,random_state=91)"
      ],
      "metadata": {
        "id": "H5O_Ly_EaNfS"
      },
      "execution_count": 603,
      "outputs": []
    },
    {
      "cell_type": "code",
      "source": [
        "print(x_train.shape,y_train.shape)"
      ],
      "metadata": {
        "colab": {
          "base_uri": "https://localhost:8080/"
        },
        "id": "PXISmBUfa5eD",
        "outputId": "289f1b8b-2b80-4348-d69a-522657875f83"
      },
      "execution_count": 604,
      "outputs": [
        {
          "output_type": "stream",
          "name": "stdout",
          "text": [
            "(603, 11) (603, 1)\n"
          ]
        }
      ]
    },
    {
      "cell_type": "code",
      "source": [
        "print(x_test.shape,y_test.shape)"
      ],
      "metadata": {
        "colab": {
          "base_uri": "https://localhost:8080/"
        },
        "id": "qvNvG3Qta9ED",
        "outputId": "3778224e-91a6-4998-a977-03274a78b378"
      },
      "execution_count": 605,
      "outputs": [
        {
          "output_type": "stream",
          "name": "stdout",
          "text": [
            "(259, 11) (259, 1)\n"
          ]
        }
      ]
    },
    {
      "cell_type": "code",
      "source": [
        "#using DecisionTree classifier\n",
        "from sklearn.metrics import confusion_matrix,classification_report # importing metrics\n",
        "from sklearn.tree import DecisionTreeClassifier\n",
        "\n",
        "DT = DecisionTreeClassifier()\n",
        "DT.fit(x_train,y_train)\n",
        "predic_2 = DT.predict(x_test)\n",
        "\n",
        "#Since the class imbalance exists so, we can use F1-score as evaluation metrics\n",
        "from sklearn.metrics import f1_score\n",
        "print(\"f1_score is {:0.3f}\".format(f1_score(y_test,predic_2,pos_label='positive',average='micro')))\n",
        "\n",
        "#confusion matrix and classification report\n",
        "\n",
        "print(confusion_matrix(y_test,predic_2))\n",
        "print(classification_report(y_test,predic_2))"
      ],
      "metadata": {
        "colab": {
          "base_uri": "https://localhost:8080/"
        },
        "id": "q2gYNcB5a_Bi",
        "outputId": "490c8718-af3b-4848-a03d-3987599cc9b5"
      },
      "execution_count": 606,
      "outputs": [
        {
          "output_type": "stream",
          "name": "stdout",
          "text": [
            "f1_score is 0.834\n",
            "[[ 9  5  1  0  0  0  0  0]\n",
            " [ 1 61  4  7  0  2  0  0]\n",
            " [ 0  4  3  6  0  2  0  0]\n",
            " [ 0  5  3 59  1  1  0  0]\n",
            " [ 0  0  0  0  0  0  0  0]\n",
            " [ 0  1  0  0  0  0  0  0]\n",
            " [ 0  0  0  0  0  0 48  0]\n",
            " [ 0  0  0  0  0  0  0 36]]\n",
            "              precision    recall  f1-score   support\n",
            "\n",
            "           0       0.90      0.60      0.72        15\n",
            "           1       0.80      0.81      0.81        75\n",
            "           2       0.27      0.20      0.23        15\n",
            "           3       0.82      0.86      0.84        69\n",
            "           4       0.00      0.00      0.00         0\n",
            "           5       0.00      0.00      0.00         1\n",
            "           6       1.00      1.00      1.00        48\n",
            "           7       1.00      1.00      1.00        36\n",
            "\n",
            "    accuracy                           0.83       259\n",
            "   macro avg       0.60      0.56      0.57       259\n",
            "weighted avg       0.84      0.83      0.84       259\n",
            "\n"
          ]
        }
      ]
    },
    {
      "cell_type": "code",
      "source": [
        "#Using KNN Classifier\n",
        "from sklearn.neighbors import KNeighborsClassifier\n",
        "\n",
        "KN = KNeighborsClassifier()\n",
        "KN.fit(x_train,y_train)\n",
        "predic_3 = KN.predict(x_test)\n",
        "\n",
        "#Since the class imbalance exists so, we can use F1-score as evaluation metrics\n",
        "from sklearn.metrics import f1_score\n",
        "print(\"f1_score is {:0.3f}\".format(f1_score(y_test,predic_3,pos_label='positive',average='micro')))\n",
        "\n",
        "#confusion matrix and classification report\n",
        "\n",
        "print(confusion_matrix(y_test,predic_3))\n",
        "print(classification_report(y_test,predic_3))"
      ],
      "metadata": {
        "colab": {
          "base_uri": "https://localhost:8080/"
        },
        "id": "LJcgVRKabR6o",
        "outputId": "8fabcb0b-b1db-45df-a48b-ba2f3f8681bb"
      },
      "execution_count": 607,
      "outputs": [
        {
          "output_type": "stream",
          "name": "stdout",
          "text": [
            "f1_score is 0.811\n",
            "[[10  3  0  0  0  0  2]\n",
            " [ 6 53  3  9  0  0  4]\n",
            " [ 0  1  4 10  0  0  0]\n",
            " [ 0  7  2 60  0  0  0]\n",
            " [ 0  1  0  0  0  0  0]\n",
            " [ 0  0  1  0  0 47  0]\n",
            " [ 0  0  0  0  0  0 36]]\n",
            "              precision    recall  f1-score   support\n",
            "\n",
            "           0       0.62      0.67      0.65        15\n",
            "           1       0.82      0.71      0.76        75\n",
            "           2       0.40      0.27      0.32        15\n",
            "           3       0.76      0.87      0.81        69\n",
            "           5       0.00      0.00      0.00         1\n",
            "           6       1.00      0.98      0.99        48\n",
            "           7       0.86      1.00      0.92        36\n",
            "\n",
            "    accuracy                           0.81       259\n",
            "   macro avg       0.64      0.64      0.64       259\n",
            "weighted avg       0.80      0.81      0.80       259\n",
            "\n"
          ]
        }
      ]
    },
    {
      "cell_type": "code",
      "source": [
        "#Using Random forest Classifer\n",
        "from sklearn.ensemble import RandomForestClassifier\n",
        "\n",
        "RF = RandomForestClassifier()\n",
        "RF.fit(x_train,y_train)\n",
        "predic_4 = RF.predict(x_test)\n",
        "\n",
        "#Since the class imbalance exists so, we can use F1-score as evaluation metrics\n",
        "from sklearn.metrics import f1_score\n",
        "print(\"f1_score is {:0.3f}\".format(f1_score(y_test,predic_4,pos_label='positive',average='micro')))\n",
        "\n",
        "#confusion matrix and classification report\n",
        "\n",
        "print(confusion_matrix(y_test,predic_4))\n",
        "print(classification_report(y_test,predic_4))"
      ],
      "metadata": {
        "colab": {
          "base_uri": "https://localhost:8080/"
        },
        "id": "tnbn0AK8cITc",
        "outputId": "a15bb4a9-4ad2-4bfb-bc40-ef612bf0b3cd"
      },
      "execution_count": 608,
      "outputs": [
        {
          "output_type": "stream",
          "name": "stdout",
          "text": [
            "f1_score is 0.869\n",
            "[[12  2  1  0  0  0  0]\n",
            " [ 1 67  0  7  0  0  0]\n",
            " [ 0  5  3  7  0  0  0]\n",
            " [ 0  8  2 59  0  0  0]\n",
            " [ 0  1  0  0  0  0  0]\n",
            " [ 0  0  0  0  0 48  0]\n",
            " [ 0  0  0  0  0  0 36]]\n",
            "              precision    recall  f1-score   support\n",
            "\n",
            "           0       0.92      0.80      0.86        15\n",
            "           1       0.81      0.89      0.85        75\n",
            "           2       0.50      0.20      0.29        15\n",
            "           3       0.81      0.86      0.83        69\n",
            "           5       0.00      0.00      0.00         1\n",
            "           6       1.00      1.00      1.00        48\n",
            "           7       1.00      1.00      1.00        36\n",
            "\n",
            "    accuracy                           0.87       259\n",
            "   macro avg       0.72      0.68      0.69       259\n",
            "weighted avg       0.86      0.87      0.86       259\n",
            "\n"
          ]
        }
      ]
    },
    {
      "cell_type": "code",
      "source": [
        "#Using Random forest Classifer\n",
        "from sklearn.linear_model import RidgeClassifier\n",
        "\n",
        "RC = RidgeClassifier()\n",
        "RC.fit(x_train,y_train)\n",
        "predic_4 = RC.predict(x_test)\n",
        "\n",
        "#Since the class imbalance exists so, we can use F1-score as evaluation metrics\n",
        "from sklearn.metrics import f1_score\n",
        "print(\"f1_score is {:0.3f}\".format(f1_score(y_test,predic_4,pos_label='positive',average='micro')))\n",
        "\n",
        "#confusion matrix and classification report\n",
        "\n",
        "print(confusion_matrix(y_test,predic_4))\n",
        "print(classification_report(y_test,predic_4))"
      ],
      "metadata": {
        "colab": {
          "base_uri": "https://localhost:8080/"
        },
        "id": "6qxiwjU9cZvs",
        "outputId": "99ca58de-1237-40a4-aae1-d263da06838b"
      },
      "execution_count": 609,
      "outputs": [
        {
          "output_type": "stream",
          "name": "stdout",
          "text": [
            "f1_score is 0.768\n",
            "[[ 7  1  0  1  0  0  6]\n",
            " [ 0 49  0 12  0  0 14]\n",
            " [ 0  7  0  8  0  0  0]\n",
            " [ 0  9  0 60  0  0  0]\n",
            " [ 0  1  0  0  0  0  0]\n",
            " [ 0  1  0  0  0 47  0]\n",
            " [ 0  0  0  0  0  0 36]]\n",
            "              precision    recall  f1-score   support\n",
            "\n",
            "           0       1.00      0.47      0.64        15\n",
            "           1       0.72      0.65      0.69        75\n",
            "           2       0.00      0.00      0.00        15\n",
            "           3       0.74      0.87      0.80        69\n",
            "           5       0.00      0.00      0.00         1\n",
            "           6       1.00      0.98      0.99        48\n",
            "           7       0.64      1.00      0.78        36\n",
            "\n",
            "    accuracy                           0.77       259\n",
            "   macro avg       0.59      0.57      0.56       259\n",
            "weighted avg       0.74      0.77      0.74       259\n",
            "\n"
          ]
        }
      ]
    },
    {
      "cell_type": "markdown",
      "source": [
        "f1_score is high for RandomForestClassifier model"
      ],
      "metadata": {
        "id": "rQaln4hAdEbv"
      }
    },
    {
      "cell_type": "markdown",
      "source": [
        "## Cross Validation to check with overfitting"
      ],
      "metadata": {
        "id": "6m0dKtBCdL9V"
      }
    },
    {
      "cell_type": "code",
      "source": [
        "from sklearn.model_selection import cross_val_score\n",
        "\n",
        "L_cr = cross_val_score(KN,x,y,cv=5)\n",
        "print(\"cross validation for KNN classifier model : \",L_cr.mean())"
      ],
      "metadata": {
        "colab": {
          "base_uri": "https://localhost:8080/"
        },
        "id": "Sw_jmev2c3ux",
        "outputId": "b2903a57-0f25-43e5-bcd4-8dd9d4f47d55"
      },
      "execution_count": 610,
      "outputs": [
        {
          "output_type": "stream",
          "name": "stdout",
          "text": [
            "cross validation for KNN classifier model :  0.7541134561096922\n"
          ]
        }
      ]
    },
    {
      "cell_type": "code",
      "source": [
        "L_cr = cross_val_score(DT,x,y,cv=5)\n",
        "print(\"cross validation for Decision tree model : \",L_cr.mean())"
      ],
      "metadata": {
        "colab": {
          "base_uri": "https://localhost:8080/"
        },
        "id": "92iDr_vLdVF9",
        "outputId": "6fed781e-7cb0-4b33-8021-fbb3d689b9ec"
      },
      "execution_count": 611,
      "outputs": [
        {
          "output_type": "stream",
          "name": "stdout",
          "text": [
            "cross validation for Decision tree model :  0.7424317784648474\n"
          ]
        }
      ]
    },
    {
      "cell_type": "code",
      "source": [
        "L_cr = cross_val_score(RF,x,y,cv=5)\n",
        "print(\"cross validation for Random forest model : \",L_cr.mean())"
      ],
      "metadata": {
        "colab": {
          "base_uri": "https://localhost:8080/"
        },
        "id": "AAlzHB2IdY_u",
        "outputId": "7fd8cfc0-c3df-4b6e-8bbd-69297d651cfa"
      },
      "execution_count": 612,
      "outputs": [
        {
          "output_type": "stream",
          "name": "stdout",
          "text": [
            "cross validation for Random forest model :  0.7935004704933459\n"
          ]
        }
      ]
    },
    {
      "cell_type": "code",
      "source": [
        "L_cr = cross_val_score(RC,x,y,cv=5)\n",
        "print(\"cross validation for RidgeClassifier model : \",L_cr.mean())"
      ],
      "metadata": {
        "colab": {
          "base_uri": "https://localhost:8080/"
        },
        "id": "e1Q0Jwy8dbJF",
        "outputId": "0c9da777-9b94-40fd-8a27-b2fbe44c6387"
      },
      "execution_count": 613,
      "outputs": [
        {
          "output_type": "stream",
          "name": "stdout",
          "text": [
            "cross validation for RidgeClassifier model :  0.707749697539992\n"
          ]
        }
      ]
    },
    {
      "cell_type": "markdown",
      "source": [
        "here also,the CV score is more for RandomForestClassifier model. So, I will take my final model as RandomForestClassifier model"
      ],
      "metadata": {
        "id": "lKGGPQD-douo"
      }
    },
    {
      "cell_type": "markdown",
      "source": [
        "## Hyper parameter tuning"
      ],
      "metadata": {
        "id": "_rzWv9Gpdxl-"
      }
    },
    {
      "cell_type": "code",
      "source": [
        "from sklearn.model_selection import GridSearchCV\n",
        "\n",
        "params_list = {'criterion':['gini','entropy'],\n",
        "               'max_features':['auto','sqrt','log2'],\n",
        "               'bootstrap':[True,False],\n",
        "               'max_depth':[None,2,3,4]}\n",
        "GCV = GridSearchCV(RandomForestClassifier(),params_list,cv=5,scoring=\"f1\")\n",
        "GCV.fit(x_train,y_train)\n",
        "\n",
        "#printing the best parameter\n",
        "GCV.best_params_"
      ],
      "metadata": {
        "colab": {
          "base_uri": "https://localhost:8080/"
        },
        "id": "bvTSZQDFdlK4",
        "outputId": "14f02810-8794-4f3f-b6c2-81b91a4772dd"
      },
      "execution_count": 614,
      "outputs": [
        {
          "output_type": "execute_result",
          "data": {
            "text/plain": [
              "{'bootstrap': True,\n",
              " 'criterion': 'gini',\n",
              " 'max_depth': None,\n",
              " 'max_features': 'auto'}"
            ]
          },
          "metadata": {},
          "execution_count": 614
        }
      ]
    },
    {
      "cell_type": "code",
      "source": [
        "#now predicting with best parameters\n",
        "\n",
        "GCV_predic = GCV.best_estimator_.predict(x_test)\n",
        "\n",
        "#getting the final score\n",
        "print(\"f1_score is\",f1_score(y_test,GCV_predic,pos_label='positive',average='micro'))"
      ],
      "metadata": {
        "colab": {
          "base_uri": "https://localhost:8080/"
        },
        "id": "uOxDh8uIeHh0",
        "outputId": "de6d1293-e289-40e9-d937-a1b2a4a83077"
      },
      "execution_count": 615,
      "outputs": [
        {
          "output_type": "stream",
          "name": "stdout",
          "text": [
            "f1_score is 0.8687258687258688\n"
          ]
        }
      ]
    },
    {
      "cell_type": "code",
      "source": [
        "import joblib\n",
        "joblib.dump(GCV.best_estimator_,\"Global_Power_Plant_Database.pkl\")"
      ],
      "metadata": {
        "colab": {
          "base_uri": "https://localhost:8080/"
        },
        "id": "djDyC9yXeQlO",
        "outputId": "1ad380da-82d1-4957-f2c2-65caab193338"
      },
      "execution_count": 616,
      "outputs": [
        {
          "output_type": "execute_result",
          "data": {
            "text/plain": [
              "['Global_Power_Plant_Database.pkl']"
            ]
          },
          "metadata": {},
          "execution_count": 616
        }
      ]
    },
    {
      "cell_type": "markdown",
      "source": [
        "\n",
        "\n",
        "---\n",
        "\n",
        "\n",
        "\n",
        "---\n",
        "\n",
        "\n",
        "\n",
        "---\n",
        "\n"
      ],
      "metadata": {
        "id": "vUZ85QDGpKFg"
      }
    },
    {
      "cell_type": "markdown",
      "source": [
        "# b)Making the prediction on \"capacity_mw\" based on given features"
      ],
      "metadata": {
        "id": "3kO0G67ep5H6"
      }
    },
    {
      "cell_type": "code",
      "source": [
        "#reading a dataset\n",
        "df = pd.read_csv('database_IND.csv')\n",
        "df.head()"
      ],
      "metadata": {
        "colab": {
          "base_uri": "https://localhost:8080/",
          "height": 461
        },
        "id": "CpEE9CIupMwc",
        "outputId": "97509345-354d-4d0b-8c16-d9e876dc94bb"
      },
      "execution_count": 394,
      "outputs": [
        {
          "output_type": "execute_result",
          "data": {
            "text/html": [
              "\n",
              "  <div id=\"df-0dd2245f-b15f-467a-b168-c256457c6e3a\">\n",
              "    <div class=\"colab-df-container\">\n",
              "      <div>\n",
              "<style scoped>\n",
              "    .dataframe tbody tr th:only-of-type {\n",
              "        vertical-align: middle;\n",
              "    }\n",
              "\n",
              "    .dataframe tbody tr th {\n",
              "        vertical-align: top;\n",
              "    }\n",
              "\n",
              "    .dataframe thead th {\n",
              "        text-align: right;\n",
              "    }\n",
              "</style>\n",
              "<table border=\"1\" class=\"dataframe\">\n",
              "  <thead>\n",
              "    <tr style=\"text-align: right;\">\n",
              "      <th></th>\n",
              "      <th>country</th>\n",
              "      <th>country_long</th>\n",
              "      <th>name</th>\n",
              "      <th>gppd_idnr</th>\n",
              "      <th>capacity_mw</th>\n",
              "      <th>latitude</th>\n",
              "      <th>longitude</th>\n",
              "      <th>primary_fuel</th>\n",
              "      <th>other_fuel1</th>\n",
              "      <th>other_fuel2</th>\n",
              "      <th>other_fuel3</th>\n",
              "      <th>commissioning_year</th>\n",
              "      <th>owner</th>\n",
              "      <th>source</th>\n",
              "      <th>url</th>\n",
              "      <th>geolocation_source</th>\n",
              "      <th>wepp_id</th>\n",
              "      <th>year_of_capacity_data</th>\n",
              "      <th>generation_gwh_2013</th>\n",
              "      <th>generation_gwh_2014</th>\n",
              "      <th>generation_gwh_2015</th>\n",
              "      <th>generation_gwh_2016</th>\n",
              "      <th>generation_gwh_2017</th>\n",
              "      <th>generation_gwh_2018</th>\n",
              "      <th>generation_gwh_2019</th>\n",
              "      <th>generation_data_source</th>\n",
              "      <th>estimated_generation_gwh</th>\n",
              "    </tr>\n",
              "  </thead>\n",
              "  <tbody>\n",
              "    <tr>\n",
              "      <th>0</th>\n",
              "      <td>IND</td>\n",
              "      <td>India</td>\n",
              "      <td>ACME Solar Tower</td>\n",
              "      <td>WRI1020239</td>\n",
              "      <td>2.5</td>\n",
              "      <td>28.1839</td>\n",
              "      <td>73.2407</td>\n",
              "      <td>Solar</td>\n",
              "      <td>NaN</td>\n",
              "      <td>NaN</td>\n",
              "      <td>NaN</td>\n",
              "      <td>2011.0</td>\n",
              "      <td>Solar Paces</td>\n",
              "      <td>National Renewable Energy Laboratory</td>\n",
              "      <td>http://www.nrel.gov/csp/solarpaces/project_det...</td>\n",
              "      <td>National Renewable Energy Laboratory</td>\n",
              "      <td>NaN</td>\n",
              "      <td>NaN</td>\n",
              "      <td>NaN</td>\n",
              "      <td>NaN</td>\n",
              "      <td>NaN</td>\n",
              "      <td>NaN</td>\n",
              "      <td>NaN</td>\n",
              "      <td>NaN</td>\n",
              "      <td>NaN</td>\n",
              "      <td>NaN</td>\n",
              "      <td>NaN</td>\n",
              "    </tr>\n",
              "    <tr>\n",
              "      <th>1</th>\n",
              "      <td>IND</td>\n",
              "      <td>India</td>\n",
              "      <td>ADITYA CEMENT WORKS</td>\n",
              "      <td>WRI1019881</td>\n",
              "      <td>98.0</td>\n",
              "      <td>24.7663</td>\n",
              "      <td>74.6090</td>\n",
              "      <td>Coal</td>\n",
              "      <td>NaN</td>\n",
              "      <td>NaN</td>\n",
              "      <td>NaN</td>\n",
              "      <td>NaN</td>\n",
              "      <td>Ultratech Cement ltd</td>\n",
              "      <td>Ultratech Cement ltd</td>\n",
              "      <td>http://www.ultratechcement.com/</td>\n",
              "      <td>WRI</td>\n",
              "      <td>NaN</td>\n",
              "      <td>NaN</td>\n",
              "      <td>NaN</td>\n",
              "      <td>NaN</td>\n",
              "      <td>NaN</td>\n",
              "      <td>NaN</td>\n",
              "      <td>NaN</td>\n",
              "      <td>NaN</td>\n",
              "      <td>NaN</td>\n",
              "      <td>NaN</td>\n",
              "      <td>NaN</td>\n",
              "    </tr>\n",
              "    <tr>\n",
              "      <th>2</th>\n",
              "      <td>IND</td>\n",
              "      <td>India</td>\n",
              "      <td>AES Saurashtra Windfarms</td>\n",
              "      <td>WRI1026669</td>\n",
              "      <td>39.2</td>\n",
              "      <td>21.9038</td>\n",
              "      <td>69.3732</td>\n",
              "      <td>Wind</td>\n",
              "      <td>NaN</td>\n",
              "      <td>NaN</td>\n",
              "      <td>NaN</td>\n",
              "      <td>NaN</td>\n",
              "      <td>AES</td>\n",
              "      <td>CDM</td>\n",
              "      <td>https://cdm.unfccc.int/Projects/DB/DNV-CUK1328...</td>\n",
              "      <td>WRI</td>\n",
              "      <td>NaN</td>\n",
              "      <td>NaN</td>\n",
              "      <td>NaN</td>\n",
              "      <td>NaN</td>\n",
              "      <td>NaN</td>\n",
              "      <td>NaN</td>\n",
              "      <td>NaN</td>\n",
              "      <td>NaN</td>\n",
              "      <td>NaN</td>\n",
              "      <td>NaN</td>\n",
              "      <td>NaN</td>\n",
              "    </tr>\n",
              "    <tr>\n",
              "      <th>3</th>\n",
              "      <td>IND</td>\n",
              "      <td>India</td>\n",
              "      <td>AGARTALA GT</td>\n",
              "      <td>IND0000001</td>\n",
              "      <td>135.0</td>\n",
              "      <td>23.8712</td>\n",
              "      <td>91.3602</td>\n",
              "      <td>Gas</td>\n",
              "      <td>NaN</td>\n",
              "      <td>NaN</td>\n",
              "      <td>NaN</td>\n",
              "      <td>2004.0</td>\n",
              "      <td>NaN</td>\n",
              "      <td>Central Electricity Authority</td>\n",
              "      <td>http://www.cea.nic.in/</td>\n",
              "      <td>WRI</td>\n",
              "      <td>NaN</td>\n",
              "      <td>2019.0</td>\n",
              "      <td>NaN</td>\n",
              "      <td>617.789264</td>\n",
              "      <td>843.747</td>\n",
              "      <td>886.004428</td>\n",
              "      <td>663.774500</td>\n",
              "      <td>626.239128</td>\n",
              "      <td>NaN</td>\n",
              "      <td>Central Electricity Authority</td>\n",
              "      <td>NaN</td>\n",
              "    </tr>\n",
              "    <tr>\n",
              "      <th>4</th>\n",
              "      <td>IND</td>\n",
              "      <td>India</td>\n",
              "      <td>AKALTARA TPP</td>\n",
              "      <td>IND0000002</td>\n",
              "      <td>1800.0</td>\n",
              "      <td>21.9603</td>\n",
              "      <td>82.4091</td>\n",
              "      <td>Coal</td>\n",
              "      <td>Oil</td>\n",
              "      <td>NaN</td>\n",
              "      <td>NaN</td>\n",
              "      <td>2015.0</td>\n",
              "      <td>NaN</td>\n",
              "      <td>Central Electricity Authority</td>\n",
              "      <td>http://www.cea.nic.in/</td>\n",
              "      <td>WRI</td>\n",
              "      <td>NaN</td>\n",
              "      <td>2019.0</td>\n",
              "      <td>NaN</td>\n",
              "      <td>3035.550000</td>\n",
              "      <td>5916.370</td>\n",
              "      <td>6243.000000</td>\n",
              "      <td>5385.579736</td>\n",
              "      <td>7279.000000</td>\n",
              "      <td>NaN</td>\n",
              "      <td>Central Electricity Authority</td>\n",
              "      <td>NaN</td>\n",
              "    </tr>\n",
              "  </tbody>\n",
              "</table>\n",
              "</div>\n",
              "      <button class=\"colab-df-convert\" onclick=\"convertToInteractive('df-0dd2245f-b15f-467a-b168-c256457c6e3a')\"\n",
              "              title=\"Convert this dataframe to an interactive table.\"\n",
              "              style=\"display:none;\">\n",
              "        \n",
              "  <svg xmlns=\"http://www.w3.org/2000/svg\" height=\"24px\"viewBox=\"0 0 24 24\"\n",
              "       width=\"24px\">\n",
              "    <path d=\"M0 0h24v24H0V0z\" fill=\"none\"/>\n",
              "    <path d=\"M18.56 5.44l.94 2.06.94-2.06 2.06-.94-2.06-.94-.94-2.06-.94 2.06-2.06.94zm-11 1L8.5 8.5l.94-2.06 2.06-.94-2.06-.94L8.5 2.5l-.94 2.06-2.06.94zm10 10l.94 2.06.94-2.06 2.06-.94-2.06-.94-.94-2.06-.94 2.06-2.06.94z\"/><path d=\"M17.41 7.96l-1.37-1.37c-.4-.4-.92-.59-1.43-.59-.52 0-1.04.2-1.43.59L10.3 9.45l-7.72 7.72c-.78.78-.78 2.05 0 2.83L4 21.41c.39.39.9.59 1.41.59.51 0 1.02-.2 1.41-.59l7.78-7.78 2.81-2.81c.8-.78.8-2.07 0-2.86zM5.41 20L4 18.59l7.72-7.72 1.47 1.35L5.41 20z\"/>\n",
              "  </svg>\n",
              "      </button>\n",
              "      \n",
              "  <style>\n",
              "    .colab-df-container {\n",
              "      display:flex;\n",
              "      flex-wrap:wrap;\n",
              "      gap: 12px;\n",
              "    }\n",
              "\n",
              "    .colab-df-convert {\n",
              "      background-color: #E8F0FE;\n",
              "      border: none;\n",
              "      border-radius: 50%;\n",
              "      cursor: pointer;\n",
              "      display: none;\n",
              "      fill: #1967D2;\n",
              "      height: 32px;\n",
              "      padding: 0 0 0 0;\n",
              "      width: 32px;\n",
              "    }\n",
              "\n",
              "    .colab-df-convert:hover {\n",
              "      background-color: #E2EBFA;\n",
              "      box-shadow: 0px 1px 2px rgba(60, 64, 67, 0.3), 0px 1px 3px 1px rgba(60, 64, 67, 0.15);\n",
              "      fill: #174EA6;\n",
              "    }\n",
              "\n",
              "    [theme=dark] .colab-df-convert {\n",
              "      background-color: #3B4455;\n",
              "      fill: #D2E3FC;\n",
              "    }\n",
              "\n",
              "    [theme=dark] .colab-df-convert:hover {\n",
              "      background-color: #434B5C;\n",
              "      box-shadow: 0px 1px 3px 1px rgba(0, 0, 0, 0.15);\n",
              "      filter: drop-shadow(0px 1px 2px rgba(0, 0, 0, 0.3));\n",
              "      fill: #FFFFFF;\n",
              "    }\n",
              "  </style>\n",
              "\n",
              "      <script>\n",
              "        const buttonEl =\n",
              "          document.querySelector('#df-0dd2245f-b15f-467a-b168-c256457c6e3a button.colab-df-convert');\n",
              "        buttonEl.style.display =\n",
              "          google.colab.kernel.accessAllowed ? 'block' : 'none';\n",
              "\n",
              "        async function convertToInteractive(key) {\n",
              "          const element = document.querySelector('#df-0dd2245f-b15f-467a-b168-c256457c6e3a');\n",
              "          const dataTable =\n",
              "            await google.colab.kernel.invokeFunction('convertToInteractive',\n",
              "                                                     [key], {});\n",
              "          if (!dataTable) return;\n",
              "\n",
              "          const docLinkHtml = 'Like what you see? Visit the ' +\n",
              "            '<a target=\"_blank\" href=https://colab.research.google.com/notebooks/data_table.ipynb>data table notebook</a>'\n",
              "            + ' to learn more about interactive tables.';\n",
              "          element.innerHTML = '';\n",
              "          dataTable['output_type'] = 'display_data';\n",
              "          await google.colab.output.renderOutput(dataTable, element);\n",
              "          const docLink = document.createElement('div');\n",
              "          docLink.innerHTML = docLinkHtml;\n",
              "          element.appendChild(docLink);\n",
              "        }\n",
              "      </script>\n",
              "    </div>\n",
              "  </div>\n",
              "  "
            ],
            "text/plain": [
              "  country country_long  ...         generation_data_source estimated_generation_gwh\n",
              "0     IND        India  ...                            NaN                      NaN\n",
              "1     IND        India  ...                            NaN                      NaN\n",
              "2     IND        India  ...                            NaN                      NaN\n",
              "3     IND        India  ...  Central Electricity Authority                      NaN\n",
              "4     IND        India  ...  Central Electricity Authority                      NaN\n",
              "\n",
              "[5 rows x 27 columns]"
            ]
          },
          "metadata": {},
          "execution_count": 394
        }
      ]
    },
    {
      "cell_type": "code",
      "source": [
        "df['capacity_mw'].value_counts()"
      ],
      "metadata": {
        "colab": {
          "base_uri": "https://localhost:8080/"
        },
        "id": "EMN7py2NqPNh",
        "outputId": "38f95128-3bcb-4034-f433-1601780b36ad"
      },
      "execution_count": 395,
      "outputs": [
        {
          "output_type": "execute_result",
          "data": {
            "text/plain": [
              "5.0       39\n",
              "10.0      22\n",
              "600.0     20\n",
              "15.0      20\n",
              "1200.0    19\n",
              "          ..\n",
              "291.0      1\n",
              "645.0      1\n",
              "41.4       1\n",
              "17.5       1\n",
              "106.6      1\n",
              "Name: capacity_mw, Length: 361, dtype: int64"
            ]
          },
          "metadata": {},
          "execution_count": 395
        }
      ]
    },
    {
      "cell_type": "code",
      "source": [
        "#will drop the columns which are having the missing values more then 510\n",
        "\n",
        "df = df.drop([\"generation_gwh_2013\",\"generation_gwh_2019\",\"estimated_generation_gwh\",\"wepp_id\",\"owner\",\"other_fuel1\",\"other_fuel2\",\n",
        "              \"other_fuel1\",\"other_fuel3\"],axis=1)"
      ],
      "metadata": {
        "id": "AXp-04GFqnQa"
      },
      "execution_count": 396,
      "outputs": []
    },
    {
      "cell_type": "code",
      "source": [
        "#also we don't require the \"year_of_capacity_data\" column\n",
        "df = df.drop([\"year_of_capacity_data\"],axis=1)\n",
        "\n",
        "#also we don't require the \"url\" column\n",
        "df = df.drop([\"url\"],axis=1)\n",
        "\n",
        "#we can also drop columns like country and country_log which are basically containing the same name for all records\n",
        "df = df.drop([\"country\",\"country_long\"],axis=1)"
      ],
      "metadata": {
        "id": "Kl-ibWoKqxgK"
      },
      "execution_count": 397,
      "outputs": []
    },
    {
      "cell_type": "code",
      "source": [
        "#Since \"generation_data_source\" column has only two unique values of \"nan\" and \"Central Electricity Authority\"\n",
        "#so now we can replace those \"nan\" values as \"Unknown\"\n",
        "\n",
        "df['generation_data_source'].fillna(\"Unknown\", inplace=True)\n",
        "\n",
        "#So,we can impute missing categorical values with mode(most frequent value)\n",
        "\n",
        "df['geolocation_source'].fillna(df['geolocation_source'].mode()[0], inplace=True)\n",
        "\n",
        "#Since both longitude and latitude constitute for particular location,so we can just combne these two together first by replaceing \"nan\" to 0 \n",
        "\n",
        "df['latitude'] = df['latitude'].fillna(0)\n",
        "df['longitude'] = df['longitude'].fillna(0)\n",
        "l = []\n",
        "for i,j in zip(df['latitude'],df['longitude']):\n",
        "  if i != 0 and j != 0:\n",
        "    l.append(str(i)+'~'+str(j))\n",
        "  else:\n",
        "    l.append(0)\n",
        "\n",
        "#creating a new column\n",
        "\n",
        "df['lat_long'] = l\n",
        "\n",
        "\n",
        "#now again converting back to 'nan' values from 0\n",
        "df[\"lat_long\"] = df[\"lat_long\"].apply(lambda x:np.nan if x == 0 else x)\n",
        "\n",
        "#So,we can impute missing categorical values with mode(most frequent value)\n",
        "\n",
        "df['lat_long'].fillna(df['lat_long'].mode()[0], inplace=True)\n",
        "\n",
        "#now we can drop latitude and longitude columns\n",
        "df = df.drop(['latitude','longitude'],axis=1)"
      ],
      "metadata": {
        "id": "eBYBR8a_rBjR"
      },
      "execution_count": 398,
      "outputs": []
    },
    {
      "cell_type": "code",
      "source": [
        "#now,padding for missed values\n",
        "df['commissioning_year'] = df['commissioning_year'].fillna(method = 'pad')"
      ],
      "metadata": {
        "id": "_pkQNlSirv-x"
      },
      "execution_count": 399,
      "outputs": []
    },
    {
      "cell_type": "code",
      "source": [
        "#also we can impute missing continuous values with mean(Average of all values)\n",
        "\n",
        "df['generation_gwh_2014'].fillna(df['generation_gwh_2014'].mean(), inplace=True)\n",
        "df['generation_gwh_2015'].fillna(df['generation_gwh_2015'].mean(), inplace=True)\n",
        "df['generation_gwh_2016'].fillna(df['generation_gwh_2016'].mean(), inplace=True)\n",
        "df['generation_gwh_2017'].fillna(df['generation_gwh_2017'].mean(), inplace=True)\n",
        "df['generation_gwh_2018'].fillna(df['generation_gwh_2018'].mean(), inplace=True)"
      ],
      "metadata": {
        "id": "3aRo2zDmrwlA"
      },
      "execution_count": 400,
      "outputs": []
    },
    {
      "cell_type": "code",
      "source": [
        "df.head()"
      ],
      "metadata": {
        "colab": {
          "base_uri": "https://localhost:8080/",
          "height": 461
        },
        "id": "FfsBNE44rxlo",
        "outputId": "70f18b11-992a-429d-e2bb-fa702df0c5b8"
      },
      "execution_count": 401,
      "outputs": [
        {
          "output_type": "execute_result",
          "data": {
            "text/html": [
              "\n",
              "  <div id=\"df-22e6a64a-b2e0-420e-b2c0-6cf47500e192\">\n",
              "    <div class=\"colab-df-container\">\n",
              "      <div>\n",
              "<style scoped>\n",
              "    .dataframe tbody tr th:only-of-type {\n",
              "        vertical-align: middle;\n",
              "    }\n",
              "\n",
              "    .dataframe tbody tr th {\n",
              "        vertical-align: top;\n",
              "    }\n",
              "\n",
              "    .dataframe thead th {\n",
              "        text-align: right;\n",
              "    }\n",
              "</style>\n",
              "<table border=\"1\" class=\"dataframe\">\n",
              "  <thead>\n",
              "    <tr style=\"text-align: right;\">\n",
              "      <th></th>\n",
              "      <th>name</th>\n",
              "      <th>gppd_idnr</th>\n",
              "      <th>capacity_mw</th>\n",
              "      <th>primary_fuel</th>\n",
              "      <th>commissioning_year</th>\n",
              "      <th>source</th>\n",
              "      <th>geolocation_source</th>\n",
              "      <th>generation_gwh_2014</th>\n",
              "      <th>generation_gwh_2015</th>\n",
              "      <th>generation_gwh_2016</th>\n",
              "      <th>generation_gwh_2017</th>\n",
              "      <th>generation_gwh_2018</th>\n",
              "      <th>generation_data_source</th>\n",
              "      <th>lat_long</th>\n",
              "    </tr>\n",
              "  </thead>\n",
              "  <tbody>\n",
              "    <tr>\n",
              "      <th>0</th>\n",
              "      <td>ACME Solar Tower</td>\n",
              "      <td>WRI1020239</td>\n",
              "      <td>2.5</td>\n",
              "      <td>Solar</td>\n",
              "      <td>2011.0</td>\n",
              "      <td>National Renewable Energy Laboratory</td>\n",
              "      <td>National Renewable Energy Laboratory</td>\n",
              "      <td>2431.823590</td>\n",
              "      <td>2428.226946</td>\n",
              "      <td>2467.936859</td>\n",
              "      <td>2547.759305</td>\n",
              "      <td>2600.804099</td>\n",
              "      <td>Unknown</td>\n",
              "      <td>28.1839~73.2407</td>\n",
              "    </tr>\n",
              "    <tr>\n",
              "      <th>1</th>\n",
              "      <td>ADITYA CEMENT WORKS</td>\n",
              "      <td>WRI1019881</td>\n",
              "      <td>98.0</td>\n",
              "      <td>Coal</td>\n",
              "      <td>2011.0</td>\n",
              "      <td>Ultratech Cement ltd</td>\n",
              "      <td>WRI</td>\n",
              "      <td>2431.823590</td>\n",
              "      <td>2428.226946</td>\n",
              "      <td>2467.936859</td>\n",
              "      <td>2547.759305</td>\n",
              "      <td>2600.804099</td>\n",
              "      <td>Unknown</td>\n",
              "      <td>24.7663~74.609</td>\n",
              "    </tr>\n",
              "    <tr>\n",
              "      <th>2</th>\n",
              "      <td>AES Saurashtra Windfarms</td>\n",
              "      <td>WRI1026669</td>\n",
              "      <td>39.2</td>\n",
              "      <td>Wind</td>\n",
              "      <td>2011.0</td>\n",
              "      <td>CDM</td>\n",
              "      <td>WRI</td>\n",
              "      <td>2431.823590</td>\n",
              "      <td>2428.226946</td>\n",
              "      <td>2467.936859</td>\n",
              "      <td>2547.759305</td>\n",
              "      <td>2600.804099</td>\n",
              "      <td>Unknown</td>\n",
              "      <td>21.9038~69.3732</td>\n",
              "    </tr>\n",
              "    <tr>\n",
              "      <th>3</th>\n",
              "      <td>AGARTALA GT</td>\n",
              "      <td>IND0000001</td>\n",
              "      <td>135.0</td>\n",
              "      <td>Gas</td>\n",
              "      <td>2004.0</td>\n",
              "      <td>Central Electricity Authority</td>\n",
              "      <td>WRI</td>\n",
              "      <td>617.789264</td>\n",
              "      <td>843.747000</td>\n",
              "      <td>886.004428</td>\n",
              "      <td>663.774500</td>\n",
              "      <td>626.239128</td>\n",
              "      <td>Central Electricity Authority</td>\n",
              "      <td>23.8712~91.3602</td>\n",
              "    </tr>\n",
              "    <tr>\n",
              "      <th>4</th>\n",
              "      <td>AKALTARA TPP</td>\n",
              "      <td>IND0000002</td>\n",
              "      <td>1800.0</td>\n",
              "      <td>Coal</td>\n",
              "      <td>2015.0</td>\n",
              "      <td>Central Electricity Authority</td>\n",
              "      <td>WRI</td>\n",
              "      <td>3035.550000</td>\n",
              "      <td>5916.370000</td>\n",
              "      <td>6243.000000</td>\n",
              "      <td>5385.579736</td>\n",
              "      <td>7279.000000</td>\n",
              "      <td>Central Electricity Authority</td>\n",
              "      <td>21.9603~82.4091</td>\n",
              "    </tr>\n",
              "  </tbody>\n",
              "</table>\n",
              "</div>\n",
              "      <button class=\"colab-df-convert\" onclick=\"convertToInteractive('df-22e6a64a-b2e0-420e-b2c0-6cf47500e192')\"\n",
              "              title=\"Convert this dataframe to an interactive table.\"\n",
              "              style=\"display:none;\">\n",
              "        \n",
              "  <svg xmlns=\"http://www.w3.org/2000/svg\" height=\"24px\"viewBox=\"0 0 24 24\"\n",
              "       width=\"24px\">\n",
              "    <path d=\"M0 0h24v24H0V0z\" fill=\"none\"/>\n",
              "    <path d=\"M18.56 5.44l.94 2.06.94-2.06 2.06-.94-2.06-.94-.94-2.06-.94 2.06-2.06.94zm-11 1L8.5 8.5l.94-2.06 2.06-.94-2.06-.94L8.5 2.5l-.94 2.06-2.06.94zm10 10l.94 2.06.94-2.06 2.06-.94-2.06-.94-.94-2.06-.94 2.06-2.06.94z\"/><path d=\"M17.41 7.96l-1.37-1.37c-.4-.4-.92-.59-1.43-.59-.52 0-1.04.2-1.43.59L10.3 9.45l-7.72 7.72c-.78.78-.78 2.05 0 2.83L4 21.41c.39.39.9.59 1.41.59.51 0 1.02-.2 1.41-.59l7.78-7.78 2.81-2.81c.8-.78.8-2.07 0-2.86zM5.41 20L4 18.59l7.72-7.72 1.47 1.35L5.41 20z\"/>\n",
              "  </svg>\n",
              "      </button>\n",
              "      \n",
              "  <style>\n",
              "    .colab-df-container {\n",
              "      display:flex;\n",
              "      flex-wrap:wrap;\n",
              "      gap: 12px;\n",
              "    }\n",
              "\n",
              "    .colab-df-convert {\n",
              "      background-color: #E8F0FE;\n",
              "      border: none;\n",
              "      border-radius: 50%;\n",
              "      cursor: pointer;\n",
              "      display: none;\n",
              "      fill: #1967D2;\n",
              "      height: 32px;\n",
              "      padding: 0 0 0 0;\n",
              "      width: 32px;\n",
              "    }\n",
              "\n",
              "    .colab-df-convert:hover {\n",
              "      background-color: #E2EBFA;\n",
              "      box-shadow: 0px 1px 2px rgba(60, 64, 67, 0.3), 0px 1px 3px 1px rgba(60, 64, 67, 0.15);\n",
              "      fill: #174EA6;\n",
              "    }\n",
              "\n",
              "    [theme=dark] .colab-df-convert {\n",
              "      background-color: #3B4455;\n",
              "      fill: #D2E3FC;\n",
              "    }\n",
              "\n",
              "    [theme=dark] .colab-df-convert:hover {\n",
              "      background-color: #434B5C;\n",
              "      box-shadow: 0px 1px 3px 1px rgba(0, 0, 0, 0.15);\n",
              "      filter: drop-shadow(0px 1px 2px rgba(0, 0, 0, 0.3));\n",
              "      fill: #FFFFFF;\n",
              "    }\n",
              "  </style>\n",
              "\n",
              "      <script>\n",
              "        const buttonEl =\n",
              "          document.querySelector('#df-22e6a64a-b2e0-420e-b2c0-6cf47500e192 button.colab-df-convert');\n",
              "        buttonEl.style.display =\n",
              "          google.colab.kernel.accessAllowed ? 'block' : 'none';\n",
              "\n",
              "        async function convertToInteractive(key) {\n",
              "          const element = document.querySelector('#df-22e6a64a-b2e0-420e-b2c0-6cf47500e192');\n",
              "          const dataTable =\n",
              "            await google.colab.kernel.invokeFunction('convertToInteractive',\n",
              "                                                     [key], {});\n",
              "          if (!dataTable) return;\n",
              "\n",
              "          const docLinkHtml = 'Like what you see? Visit the ' +\n",
              "            '<a target=\"_blank\" href=https://colab.research.google.com/notebooks/data_table.ipynb>data table notebook</a>'\n",
              "            + ' to learn more about interactive tables.';\n",
              "          element.innerHTML = '';\n",
              "          dataTable['output_type'] = 'display_data';\n",
              "          await google.colab.output.renderOutput(dataTable, element);\n",
              "          const docLink = document.createElement('div');\n",
              "          docLink.innerHTML = docLinkHtml;\n",
              "          element.appendChild(docLink);\n",
              "        }\n",
              "      </script>\n",
              "    </div>\n",
              "  </div>\n",
              "  "
            ],
            "text/plain": [
              "                       name  ...         lat_long\n",
              "0          ACME Solar Tower  ...  28.1839~73.2407\n",
              "1       ADITYA CEMENT WORKS  ...   24.7663~74.609\n",
              "2  AES Saurashtra Windfarms  ...  21.9038~69.3732\n",
              "3               AGARTALA GT  ...  23.8712~91.3602\n",
              "4              AKALTARA TPP  ...  21.9603~82.4091\n",
              "\n",
              "[5 rows x 14 columns]"
            ]
          },
          "metadata": {},
          "execution_count": 401
        }
      ]
    },
    {
      "cell_type": "markdown",
      "source": [
        "## Visualization"
      ],
      "metadata": {
        "id": "5UZDN9plsBPg"
      }
    },
    {
      "cell_type": "code",
      "source": [
        "#Since the data is continuous for multiple columns so we use Pairplot\n",
        "\n",
        "sns.pairplot(df, x_vars=['generation_gwh_2014', 'generation_gwh_2015', 'generation_gwh_2016','generation_gwh_2017','generation_gwh_2018'], y_vars='capacity_mw', height=6, aspect=0.6, kind='reg');"
      ],
      "metadata": {
        "colab": {
          "base_uri": "https://localhost:8080/",
          "height": 384
        },
        "id": "cHgY8pbGrzOV",
        "outputId": "6534ea6f-1871-42ff-b8a7-df71b113b9b8"
      },
      "execution_count": 402,
      "outputs": [
        {
          "output_type": "display_data",
          "data": {
            "image/png": "[encoded data removed]",
            "text/plain": [
              "<Figure size 1296x432 with 5 Axes>"
            ]
          },
          "metadata": {
            "needs_background": "light"
          }
        }
      ]
    },
    {
      "cell_type": "markdown",
      "source": [
        "clearly the capacity_ws is linear with all these above columns."
      ],
      "metadata": {
        "id": "c7-BIzifwdD-"
      }
    },
    {
      "cell_type": "code",
      "source": [
        "#using lineplot\n",
        "plt.figure(figsize=(14,8))\n",
        "sns.lineplot(x=\"generation_gwh_2014\", y=\"capacity_mw\", hue='primary_fuel', data=df)\n",
        "plt.show()"
      ],
      "metadata": {
        "colab": {
          "base_uri": "https://localhost:8080/",
          "height": 497
        },
        "id": "e3lSS5o0v7r0",
        "outputId": "0aad146c-56ee-4659-abc3-78ded7ffb4e1"
      },
      "execution_count": 403,
      "outputs": [
        {
          "output_type": "display_data",
          "data": {
            "image/png": "[encoded data removed]",
            "text/plain": [
              "<Figure size 1008x576 with 1 Axes>"
            ]
          },
          "metadata": {
            "needs_background": "light"
          }
        }
      ]
    },
    {
      "cell_type": "markdown",
      "source": [
        "clearly,the capacity is increasing with generation for \"Coal\" compared to other fuel types."
      ],
      "metadata": {
        "id": "JyxF16xWxdpC"
      }
    },
    {
      "cell_type": "code",
      "source": [
        "#Since there are objective type columns,so we can use Label encoder method\n",
        "\n",
        "from sklearn.preprocessing import LabelEncoder\n",
        "\n",
        "df['name'] = LabelEncoder().fit_transform(df['name'])\n",
        "df['primary_fuel'] = LabelEncoder().fit_transform(df['primary_fuel'])\n",
        "df['source'] = LabelEncoder().fit_transform(df['source'])\n",
        "df['geolocation_source'] = LabelEncoder().fit_transform(df['geolocation_source'])\n",
        "df['gppd_idnr'] = LabelEncoder().fit_transform(df['gppd_idnr'])\n",
        "df['generation_data_source'] = LabelEncoder().fit_transform(df['generation_data_source'])\n",
        "df['lat_long'] = LabelEncoder().fit_transform(df['lat_long'])"
      ],
      "metadata": {
        "id": "lsaXskmOx0_t"
      },
      "execution_count": 404,
      "outputs": []
    },
    {
      "cell_type": "markdown",
      "source": [
        "## Correlation"
      ],
      "metadata": {
        "id": "yiDQVf8WyNFO"
      }
    },
    {
      "cell_type": "code",
      "source": [
        "#w.r.t \"capacity_mw\"\n",
        "\n",
        "df.corr()['capacity_mw'].sort_values()"
      ],
      "metadata": {
        "colab": {
          "base_uri": "https://localhost:8080/"
        },
        "id": "TDCql1QeyFlb",
        "outputId": "95e57a66-1512-41ec-f2ac-b1a9f40fda7c"
      },
      "execution_count": 405,
      "outputs": [
        {
          "output_type": "execute_result",
          "data": {
            "text/plain": [
              "generation_data_source   -0.495833\n",
              "primary_fuel             -0.380395\n",
              "gppd_idnr                -0.335742\n",
              "source                   -0.242122\n",
              "lat_long                  0.037568\n",
              "name                      0.060240\n",
              "commissioning_year        0.147044\n",
              "geolocation_source        0.204865\n",
              "generation_gwh_2014       0.694350\n",
              "generation_gwh_2015       0.711190\n",
              "generation_gwh_2016       0.742221\n",
              "generation_gwh_2017       0.757585\n",
              "generation_gwh_2018       0.773456\n",
              "capacity_mw               1.000000\n",
              "Name: capacity_mw, dtype: float64"
            ]
          },
          "metadata": {},
          "execution_count": 405
        }
      ]
    },
    {
      "cell_type": "code",
      "source": [
        "#plotting the correlation matrix using heatmap\n",
        "\n",
        "corr_matrix = df.corr()\n",
        "plt.figure(figsize=[18,8])\n",
        "sns.heatmap(corr_matrix,annot=True)\n",
        "plt.title(\"Correlation matrix\")\n",
        "plt.show()"
      ],
      "metadata": {
        "colab": {
          "base_uri": "https://localhost:8080/",
          "height": 608
        },
        "id": "z9L6pTdtyWMb",
        "outputId": "fef6dd52-216a-4edf-e795-00c5942787f3"
      },
      "execution_count": 406,
      "outputs": [
        {
          "output_type": "display_data",
          "data": {
            "image/png": "[encoded data removed]",
            "text/plain": [
              "<Figure size 1296x576 with 2 Axes>"
            ]
          },
          "metadata": {
            "needs_background": "light"
          }
        }
      ]
    },
    {
      "cell_type": "markdown",
      "source": [
        "#### 1)columns like \"generation_gwh_2014\",\"generation_gwh_2015\",\"generation_gwh_2016\",\"generation_gwh_2017\",\"generation_gwh_2018\" have highest postive correlation(>=70%) with target variable.\n",
        "#### 2)lat_long has least positive correlation(4%).\n",
        "#### 3)generation_data_source has highest negative correlation(50%) with target variable.\n",
        "#### 4)source ahs least negative correlation(24%).\n"
      ],
      "metadata": {
        "id": "YC8NOclZyyWe"
      }
    },
    {
      "cell_type": "markdown",
      "source": [
        "## Since we know that outliers present in dataset"
      ],
      "metadata": {
        "id": "WJxBgraj0ZYz"
      }
    },
    {
      "cell_type": "markdown",
      "source": [
        "## Removing the outliers"
      ],
      "metadata": {
        "id": "wS-0p_9T0f1p"
      }
    },
    {
      "cell_type": "code",
      "source": [
        "#with z-score technique\n",
        "\n",
        "from scipy.stats import zscore\n",
        "import numpy as np\n",
        "z_n = np.abs(zscore(df))\n",
        "z_n.shape"
      ],
      "metadata": {
        "colab": {
          "base_uri": "https://localhost:8080/"
        },
        "id": "PZQo_7fL0DA8",
        "outputId": "1285207d-ef58-419e-85e2-f4ccc4e2d895"
      },
      "execution_count": 407,
      "outputs": [
        {
          "output_type": "execute_result",
          "data": {
            "text/plain": [
              "(907, 14)"
            ]
          },
          "metadata": {},
          "execution_count": 407
        }
      ]
    },
    {
      "cell_type": "code",
      "source": [
        "threshold = 3\n",
        "\n",
        "df_new = df[(z_n<threshold).all(axis=1)]\n",
        "print(df.shape)\n",
        "print(df_new.shape)\n",
        "\n",
        "#printing the total number of dropped rows\n",
        "print(df.shape[0]-df_new.shape[0])"
      ],
      "metadata": {
        "colab": {
          "base_uri": "https://localhost:8080/"
        },
        "id": "arCtGRm30j0n",
        "outputId": "03cc28b6-2c7a-44ef-a645-c62598966f8e"
      },
      "execution_count": 408,
      "outputs": [
        {
          "output_type": "stream",
          "name": "stdout",
          "text": [
            "(907, 14)\n",
            "(862, 14)\n",
            "45\n"
          ]
        }
      ]
    },
    {
      "cell_type": "markdown",
      "source": [
        "###percentage of data loss"
      ],
      "metadata": {
        "id": "pymSOW_40nKQ"
      }
    },
    {
      "cell_type": "code",
      "source": [
        "loss_perc = (df.shape[0]-df_new.shape[0])/df.shape[0]*100\n",
        "print(\"data loss percentage:{:.2f}%\".format(loss_perc))"
      ],
      "metadata": {
        "colab": {
          "base_uri": "https://localhost:8080/"
        },
        "id": "_HXYR9FS0lTB",
        "outputId": "15a7f038-c9cd-44cd-c940-38a09e6e0383"
      },
      "execution_count": 409,
      "outputs": [
        {
          "output_type": "stream",
          "name": "stdout",
          "text": [
            "data loss percentage:4.96%\n"
          ]
        }
      ]
    },
    {
      "cell_type": "markdown",
      "source": [
        "there is a 4.96% data loss which is good to proceed for further"
      ],
      "metadata": {
        "id": "h99Lb29F1H_P"
      }
    },
    {
      "cell_type": "markdown",
      "source": [
        "## Dividing the data into features and vectors"
      ],
      "metadata": {
        "id": "bWeXhzOr1LEV"
      }
    },
    {
      "cell_type": "code",
      "source": [
        "y = df_new[[\"capacity_mw\"]]\n",
        "x = df_new.drop([\"capacity_mw\"],axis=1)"
      ],
      "metadata": {
        "id": "GzeiP5uD0smm"
      },
      "execution_count": 520,
      "outputs": []
    },
    {
      "cell_type": "markdown",
      "source": [
        "## Checking with multicollinearity"
      ],
      "metadata": {
        "id": "wR84yASZ1bMT"
      }
    },
    {
      "cell_type": "code",
      "source": [
        "from statsmodels.stats.outliers_influence import variance_inflation_factor\n",
        "def calc_vif_value(X):\n",
        "\n",
        "    # Calculating VIF\n",
        "    vif = pd.DataFrame()\n",
        "    vif[\"variables\"] = X.columns\n",
        "    vif[\"VIF\"] = [variance_inflation_factor(X.values, i) for i in range(X.shape[1])]\n",
        "\n",
        "    return(vif)"
      ],
      "metadata": {
        "id": "2U-oQXpq1POl"
      },
      "execution_count": 521,
      "outputs": []
    },
    {
      "cell_type": "code",
      "source": [
        "calc_vif_value(x)"
      ],
      "metadata": {
        "colab": {
          "base_uri": "https://localhost:8080/",
          "height": 456
        },
        "id": "VwRrpU6Z1gyo",
        "outputId": "93abeb6f-70eb-4f0d-ee93-394be6015630"
      },
      "execution_count": 522,
      "outputs": [
        {
          "output_type": "execute_result",
          "data": {
            "text/html": [
              "\n",
              "  <div id=\"df-26cef63e-d20c-49c6-bb49-38ebb2245e05\">\n",
              "    <div class=\"colab-df-container\">\n",
              "      <div>\n",
              "<style scoped>\n",
              "    .dataframe tbody tr th:only-of-type {\n",
              "        vertical-align: middle;\n",
              "    }\n",
              "\n",
              "    .dataframe tbody tr th {\n",
              "        vertical-align: top;\n",
              "    }\n",
              "\n",
              "    .dataframe thead th {\n",
              "        text-align: right;\n",
              "    }\n",
              "</style>\n",
              "<table border=\"1\" class=\"dataframe\">\n",
              "  <thead>\n",
              "    <tr style=\"text-align: right;\">\n",
              "      <th></th>\n",
              "      <th>variables</th>\n",
              "      <th>VIF</th>\n",
              "    </tr>\n",
              "  </thead>\n",
              "  <tbody>\n",
              "    <tr>\n",
              "      <th>0</th>\n",
              "      <td>name</td>\n",
              "      <td>5.670589</td>\n",
              "    </tr>\n",
              "    <tr>\n",
              "      <th>1</th>\n",
              "      <td>gppd_idnr</td>\n",
              "      <td>16.298247</td>\n",
              "    </tr>\n",
              "    <tr>\n",
              "      <th>2</th>\n",
              "      <td>primary_fuel</td>\n",
              "      <td>7.433177</td>\n",
              "    </tr>\n",
              "    <tr>\n",
              "      <th>3</th>\n",
              "      <td>commissioning_year</td>\n",
              "      <td>41.818068</td>\n",
              "    </tr>\n",
              "    <tr>\n",
              "      <th>4</th>\n",
              "      <td>source</td>\n",
              "      <td>4.058689</td>\n",
              "    </tr>\n",
              "    <tr>\n",
              "      <th>5</th>\n",
              "      <td>geolocation_source</td>\n",
              "      <td>14.848073</td>\n",
              "    </tr>\n",
              "    <tr>\n",
              "      <th>6</th>\n",
              "      <td>generation_gwh_2014</td>\n",
              "      <td>15.676753</td>\n",
              "    </tr>\n",
              "    <tr>\n",
              "      <th>7</th>\n",
              "      <td>generation_gwh_2015</td>\n",
              "      <td>29.552658</td>\n",
              "    </tr>\n",
              "    <tr>\n",
              "      <th>8</th>\n",
              "      <td>generation_gwh_2016</td>\n",
              "      <td>34.358769</td>\n",
              "    </tr>\n",
              "    <tr>\n",
              "      <th>9</th>\n",
              "      <td>generation_gwh_2017</td>\n",
              "      <td>39.793024</td>\n",
              "    </tr>\n",
              "    <tr>\n",
              "      <th>10</th>\n",
              "      <td>generation_gwh_2018</td>\n",
              "      <td>37.646771</td>\n",
              "    </tr>\n",
              "    <tr>\n",
              "      <th>11</th>\n",
              "      <td>generation_data_source</td>\n",
              "      <td>5.874983</td>\n",
              "    </tr>\n",
              "    <tr>\n",
              "      <th>12</th>\n",
              "      <td>lat_long</td>\n",
              "      <td>4.143274</td>\n",
              "    </tr>\n",
              "  </tbody>\n",
              "</table>\n",
              "</div>\n",
              "      <button class=\"colab-df-convert\" onclick=\"convertToInteractive('df-26cef63e-d20c-49c6-bb49-38ebb2245e05')\"\n",
              "              title=\"Convert this dataframe to an interactive table.\"\n",
              "              style=\"display:none;\">\n",
              "        \n",
              "  <svg xmlns=\"http://www.w3.org/2000/svg\" height=\"24px\"viewBox=\"0 0 24 24\"\n",
              "       width=\"24px\">\n",
              "    <path d=\"M0 0h24v24H0V0z\" fill=\"none\"/>\n",
              "    <path d=\"M18.56 5.44l.94 2.06.94-2.06 2.06-.94-2.06-.94-.94-2.06-.94 2.06-2.06.94zm-11 1L8.5 8.5l.94-2.06 2.06-.94-2.06-.94L8.5 2.5l-.94 2.06-2.06.94zm10 10l.94 2.06.94-2.06 2.06-.94-2.06-.94-.94-2.06-.94 2.06-2.06.94z\"/><path d=\"M17.41 7.96l-1.37-1.37c-.4-.4-.92-.59-1.43-.59-.52 0-1.04.2-1.43.59L10.3 9.45l-7.72 7.72c-.78.78-.78 2.05 0 2.83L4 21.41c.39.39.9.59 1.41.59.51 0 1.02-.2 1.41-.59l7.78-7.78 2.81-2.81c.8-.78.8-2.07 0-2.86zM5.41 20L4 18.59l7.72-7.72 1.47 1.35L5.41 20z\"/>\n",
              "  </svg>\n",
              "      </button>\n",
              "      \n",
              "  <style>\n",
              "    .colab-df-container {\n",
              "      display:flex;\n",
              "      flex-wrap:wrap;\n",
              "      gap: 12px;\n",
              "    }\n",
              "\n",
              "    .colab-df-convert {\n",
              "      background-color: #E8F0FE;\n",
              "      border: none;\n",
              "      border-radius: 50%;\n",
              "      cursor: pointer;\n",
              "      display: none;\n",
              "      fill: #1967D2;\n",
              "      height: 32px;\n",
              "      padding: 0 0 0 0;\n",
              "      width: 32px;\n",
              "    }\n",
              "\n",
              "    .colab-df-convert:hover {\n",
              "      background-color: #E2EBFA;\n",
              "      box-shadow: 0px 1px 2px rgba(60, 64, 67, 0.3), 0px 1px 3px 1px rgba(60, 64, 67, 0.15);\n",
              "      fill: #174EA6;\n",
              "    }\n",
              "\n",
              "    [theme=dark] .colab-df-convert {\n",
              "      background-color: #3B4455;\n",
              "      fill: #D2E3FC;\n",
              "    }\n",
              "\n",
              "    [theme=dark] .colab-df-convert:hover {\n",
              "      background-color: #434B5C;\n",
              "      box-shadow: 0px 1px 3px 1px rgba(0, 0, 0, 0.15);\n",
              "      filter: drop-shadow(0px 1px 2px rgba(0, 0, 0, 0.3));\n",
              "      fill: #FFFFFF;\n",
              "    }\n",
              "  </style>\n",
              "\n",
              "      <script>\n",
              "        const buttonEl =\n",
              "          document.querySelector('#df-26cef63e-d20c-49c6-bb49-38ebb2245e05 button.colab-df-convert');\n",
              "        buttonEl.style.display =\n",
              "          google.colab.kernel.accessAllowed ? 'block' : 'none';\n",
              "\n",
              "        async function convertToInteractive(key) {\n",
              "          const element = document.querySelector('#df-26cef63e-d20c-49c6-bb49-38ebb2245e05');\n",
              "          const dataTable =\n",
              "            await google.colab.kernel.invokeFunction('convertToInteractive',\n",
              "                                                     [key], {});\n",
              "          if (!dataTable) return;\n",
              "\n",
              "          const docLinkHtml = 'Like what you see? Visit the ' +\n",
              "            '<a target=\"_blank\" href=https://colab.research.google.com/notebooks/data_table.ipynb>data table notebook</a>'\n",
              "            + ' to learn more about interactive tables.';\n",
              "          element.innerHTML = '';\n",
              "          dataTable['output_type'] = 'display_data';\n",
              "          await google.colab.output.renderOutput(dataTable, element);\n",
              "          const docLink = document.createElement('div');\n",
              "          docLink.innerHTML = docLinkHtml;\n",
              "          element.appendChild(docLink);\n",
              "        }\n",
              "      </script>\n",
              "    </div>\n",
              "  </div>\n",
              "  "
            ],
            "text/plain": [
              "                 variables        VIF\n",
              "0                     name   5.670589\n",
              "1                gppd_idnr  16.298247\n",
              "2             primary_fuel   7.433177\n",
              "3       commissioning_year  41.818068\n",
              "4                   source   4.058689\n",
              "5       geolocation_source  14.848073\n",
              "6      generation_gwh_2014  15.676753\n",
              "7      generation_gwh_2015  29.552658\n",
              "8      generation_gwh_2016  34.358769\n",
              "9      generation_gwh_2017  39.793024\n",
              "10     generation_gwh_2018  37.646771\n",
              "11  generation_data_source   5.874983\n",
              "12                lat_long   4.143274"
            ]
          },
          "metadata": {},
          "execution_count": 522
        }
      ]
    },
    {
      "cell_type": "markdown",
      "source": [
        "## Reducing the multicollinearity"
      ],
      "metadata": {
        "id": "NWT5kkKF1lOA"
      }
    },
    {
      "cell_type": "code",
      "source": [
        "x[\"generation_gwh_2017_generation_gwh_2018\"] = df.apply(lambda x_1: x_1['generation_gwh_2017'] - x_1['generation_gwh_2018'],axis=1)\n",
        "x[\"commissioning_year_generation_gwh_2015\"] = df.apply(lambda x_1: x_1['commissioning_year'] - x_1['generation_gwh_2015'],axis=1)\n",
        "# x[\"generation_gwh_2016_generation_gwh_2014\"] = df.apply(lambda x_1: x_1['generation_gwh_2016'] - x_1['generation_gwh_2014'],axis=1)\n",
        "# x= x.drop([\"generation_gwh_2016\",\"generation_gwh_2014\"],axis=1)\n",
        "x= x.drop([\"commissioning_year\",\"generation_gwh_2015\"],axis=1)\n",
        "x= x.drop([\"generation_gwh_2017\",\"generation_gwh_2018\"],axis=1)"
      ],
      "metadata": {
        "id": "-JSFI_VA1jCs"
      },
      "execution_count": 523,
      "outputs": []
    },
    {
      "cell_type": "code",
      "source": [
        "calc_vif_value(x)"
      ],
      "metadata": {
        "colab": {
          "base_uri": "https://localhost:8080/",
          "height": 394
        },
        "id": "BRQg2LVr9VnZ",
        "outputId": "4bc72b80-d179-434e-cdf8-a40c9920c797"
      },
      "execution_count": 524,
      "outputs": [
        {
          "output_type": "execute_result",
          "data": {
            "text/html": [
              "\n",
              "  <div id=\"df-984bf30b-59e7-46a6-ae77-54c5c85a38b6\">\n",
              "    <div class=\"colab-df-container\">\n",
              "      <div>\n",
              "<style scoped>\n",
              "    .dataframe tbody tr th:only-of-type {\n",
              "        vertical-align: middle;\n",
              "    }\n",
              "\n",
              "    .dataframe tbody tr th {\n",
              "        vertical-align: top;\n",
              "    }\n",
              "\n",
              "    .dataframe thead th {\n",
              "        text-align: right;\n",
              "    }\n",
              "</style>\n",
              "<table border=\"1\" class=\"dataframe\">\n",
              "  <thead>\n",
              "    <tr style=\"text-align: right;\">\n",
              "      <th></th>\n",
              "      <th>variables</th>\n",
              "      <th>VIF</th>\n",
              "    </tr>\n",
              "  </thead>\n",
              "  <tbody>\n",
              "    <tr>\n",
              "      <th>0</th>\n",
              "      <td>name</td>\n",
              "      <td>5.603949</td>\n",
              "    </tr>\n",
              "    <tr>\n",
              "      <th>1</th>\n",
              "      <td>gppd_idnr</td>\n",
              "      <td>16.176681</td>\n",
              "    </tr>\n",
              "    <tr>\n",
              "      <th>2</th>\n",
              "      <td>primary_fuel</td>\n",
              "      <td>6.235453</td>\n",
              "    </tr>\n",
              "    <tr>\n",
              "      <th>3</th>\n",
              "      <td>source</td>\n",
              "      <td>3.196057</td>\n",
              "    </tr>\n",
              "    <tr>\n",
              "      <th>4</th>\n",
              "      <td>geolocation_source</td>\n",
              "      <td>7.130556</td>\n",
              "    </tr>\n",
              "    <tr>\n",
              "      <th>5</th>\n",
              "      <td>generation_gwh_2014</td>\n",
              "      <td>12.669407</td>\n",
              "    </tr>\n",
              "    <tr>\n",
              "      <th>6</th>\n",
              "      <td>generation_gwh_2016</td>\n",
              "      <td>12.526586</td>\n",
              "    </tr>\n",
              "    <tr>\n",
              "      <th>7</th>\n",
              "      <td>generation_data_source</td>\n",
              "      <td>5.747565</td>\n",
              "    </tr>\n",
              "    <tr>\n",
              "      <th>8</th>\n",
              "      <td>lat_long</td>\n",
              "      <td>3.703555</td>\n",
              "    </tr>\n",
              "    <tr>\n",
              "      <th>9</th>\n",
              "      <td>generation_gwh_2017_generation_gwh_2018</td>\n",
              "      <td>1.015632</td>\n",
              "    </tr>\n",
              "    <tr>\n",
              "      <th>10</th>\n",
              "      <td>commissioning_year_generation_gwh_2015</td>\n",
              "      <td>7.086390</td>\n",
              "    </tr>\n",
              "  </tbody>\n",
              "</table>\n",
              "</div>\n",
              "      <button class=\"colab-df-convert\" onclick=\"convertToInteractive('df-984bf30b-59e7-46a6-ae77-54c5c85a38b6')\"\n",
              "              title=\"Convert this dataframe to an interactive table.\"\n",
              "              style=\"display:none;\">\n",
              "        \n",
              "  <svg xmlns=\"http://www.w3.org/2000/svg\" height=\"24px\"viewBox=\"0 0 24 24\"\n",
              "       width=\"24px\">\n",
              "    <path d=\"M0 0h24v24H0V0z\" fill=\"none\"/>\n",
              "    <path d=\"M18.56 5.44l.94 2.06.94-2.06 2.06-.94-2.06-.94-.94-2.06-.94 2.06-2.06.94zm-11 1L8.5 8.5l.94-2.06 2.06-.94-2.06-.94L8.5 2.5l-.94 2.06-2.06.94zm10 10l.94 2.06.94-2.06 2.06-.94-2.06-.94-.94-2.06-.94 2.06-2.06.94z\"/><path d=\"M17.41 7.96l-1.37-1.37c-.4-.4-.92-.59-1.43-.59-.52 0-1.04.2-1.43.59L10.3 9.45l-7.72 7.72c-.78.78-.78 2.05 0 2.83L4 21.41c.39.39.9.59 1.41.59.51 0 1.02-.2 1.41-.59l7.78-7.78 2.81-2.81c.8-.78.8-2.07 0-2.86zM5.41 20L4 18.59l7.72-7.72 1.47 1.35L5.41 20z\"/>\n",
              "  </svg>\n",
              "      </button>\n",
              "      \n",
              "  <style>\n",
              "    .colab-df-container {\n",
              "      display:flex;\n",
              "      flex-wrap:wrap;\n",
              "      gap: 12px;\n",
              "    }\n",
              "\n",
              "    .colab-df-convert {\n",
              "      background-color: #E8F0FE;\n",
              "      border: none;\n",
              "      border-radius: 50%;\n",
              "      cursor: pointer;\n",
              "      display: none;\n",
              "      fill: #1967D2;\n",
              "      height: 32px;\n",
              "      padding: 0 0 0 0;\n",
              "      width: 32px;\n",
              "    }\n",
              "\n",
              "    .colab-df-convert:hover {\n",
              "      background-color: #E2EBFA;\n",
              "      box-shadow: 0px 1px 2px rgba(60, 64, 67, 0.3), 0px 1px 3px 1px rgba(60, 64, 67, 0.15);\n",
              "      fill: #174EA6;\n",
              "    }\n",
              "\n",
              "    [theme=dark] .colab-df-convert {\n",
              "      background-color: #3B4455;\n",
              "      fill: #D2E3FC;\n",
              "    }\n",
              "\n",
              "    [theme=dark] .colab-df-convert:hover {\n",
              "      background-color: #434B5C;\n",
              "      box-shadow: 0px 1px 3px 1px rgba(0, 0, 0, 0.15);\n",
              "      filter: drop-shadow(0px 1px 2px rgba(0, 0, 0, 0.3));\n",
              "      fill: #FFFFFF;\n",
              "    }\n",
              "  </style>\n",
              "\n",
              "      <script>\n",
              "        const buttonEl =\n",
              "          document.querySelector('#df-984bf30b-59e7-46a6-ae77-54c5c85a38b6 button.colab-df-convert');\n",
              "        buttonEl.style.display =\n",
              "          google.colab.kernel.accessAllowed ? 'block' : 'none';\n",
              "\n",
              "        async function convertToInteractive(key) {\n",
              "          const element = document.querySelector('#df-984bf30b-59e7-46a6-ae77-54c5c85a38b6');\n",
              "          const dataTable =\n",
              "            await google.colab.kernel.invokeFunction('convertToInteractive',\n",
              "                                                     [key], {});\n",
              "          if (!dataTable) return;\n",
              "\n",
              "          const docLinkHtml = 'Like what you see? Visit the ' +\n",
              "            '<a target=\"_blank\" href=https://colab.research.google.com/notebooks/data_table.ipynb>data table notebook</a>'\n",
              "            + ' to learn more about interactive tables.';\n",
              "          element.innerHTML = '';\n",
              "          dataTable['output_type'] = 'display_data';\n",
              "          await google.colab.output.renderOutput(dataTable, element);\n",
              "          const docLink = document.createElement('div');\n",
              "          docLink.innerHTML = docLinkHtml;\n",
              "          element.appendChild(docLink);\n",
              "        }\n",
              "      </script>\n",
              "    </div>\n",
              "  </div>\n",
              "  "
            ],
            "text/plain": [
              "                                  variables        VIF\n",
              "0                                      name   5.603949\n",
              "1                                 gppd_idnr  16.176681\n",
              "2                              primary_fuel   6.235453\n",
              "3                                    source   3.196057\n",
              "4                        geolocation_source   7.130556\n",
              "5                       generation_gwh_2014  12.669407\n",
              "6                       generation_gwh_2016  12.526586\n",
              "7                    generation_data_source   5.747565\n",
              "8                                  lat_long   3.703555\n",
              "9   generation_gwh_2017_generation_gwh_2018   1.015632\n",
              "10   commissioning_year_generation_gwh_2015   7.086390"
            ]
          },
          "metadata": {},
          "execution_count": 524
        }
      ]
    },
    {
      "cell_type": "markdown",
      "source": [
        "Now,its much better with the previous values"
      ],
      "metadata": {
        "id": "LZJjB3uh15Gy"
      }
    },
    {
      "cell_type": "markdown",
      "source": [
        "## Transforming data to eliminate skewness"
      ],
      "metadata": {
        "id": "x49Kap752IXN"
      }
    },
    {
      "cell_type": "code",
      "source": [
        "from sklearn.preprocessing import power_transform\n",
        "x = power_transform(x)\n",
        "x[:5]"
      ],
      "metadata": {
        "colab": {
          "base_uri": "https://localhost:8080/"
        },
        "id": "FivbZER312ov",
        "outputId": "ae550026-df34-4d1e-8be3-795303e76cd8"
      },
      "execution_count": 525,
      "outputs": [
        {
          "output_type": "execute_result",
          "data": {
            "text/plain": [
              "array([[-2.17255242,  0.78197717,  1.14706093,  1.64600029, -2.32822892,\n",
              "         0.35827819,  0.38861457,  0.98160763,  1.10306031,  0.02027178,\n",
              "        -0.21367123],\n",
              "       [-2.15234003,  0.32771638, -1.044165  ,  2.12047361,  0.39821698,\n",
              "         0.35827819,  0.38861457,  0.98160763,  0.64115878,  0.02027178,\n",
              "        -0.21367123],\n",
              "       [-2.13509979,  1.38144048,  1.42813524, -0.45903294,  0.39821698,\n",
              "         0.35827819,  0.38861457,  0.98160763, -0.00656716,  0.02027178,\n",
              "        -0.21367123],\n",
              "       [-2.11954432, -2.15917481, -0.41549557, -0.38968009,  0.39821698,\n",
              "        -0.99656849, -0.64187419, -1.01873699,  0.47401357,  0.21027149,\n",
              "         0.83375809],\n",
              "       [-2.10513251, -2.13985059, -1.044165  , -0.38968009,  0.39821698,\n",
              "         0.68901504,  1.92322131, -1.01873699,  0.00536115, -4.88442344,\n",
              "        -2.43542439]])"
            ]
          },
          "metadata": {},
          "execution_count": 525
        }
      ]
    },
    {
      "cell_type": "code",
      "source": [
        "from sklearn.preprocessing import StandardScaler\n",
        "sc = StandardScaler()\n",
        "x = sc.fit_transform(x)\n",
        "x[:5]"
      ],
      "metadata": {
        "colab": {
          "base_uri": "https://localhost:8080/"
        },
        "id": "LbvbjzGL2Mw9",
        "outputId": "1bfbffbf-f952-4fae-de14-1218eb3d215a"
      },
      "execution_count": 526,
      "outputs": [
        {
          "output_type": "execute_result",
          "data": {
            "text/plain": [
              "array([[-2.17255242,  0.78197717,  1.14706093,  1.64600029, -2.32822892,\n",
              "         0.35827819,  0.38861457,  0.98160763,  1.10306031,  0.02027178,\n",
              "        -0.21367123],\n",
              "       [-2.15234003,  0.32771638, -1.044165  ,  2.12047361,  0.39821698,\n",
              "         0.35827819,  0.38861457,  0.98160763,  0.64115878,  0.02027178,\n",
              "        -0.21367123],\n",
              "       [-2.13509979,  1.38144048,  1.42813524, -0.45903294,  0.39821698,\n",
              "         0.35827819,  0.38861457,  0.98160763, -0.00656716,  0.02027178,\n",
              "        -0.21367123],\n",
              "       [-2.11954432, -2.15917481, -0.41549557, -0.38968009,  0.39821698,\n",
              "        -0.99656849, -0.64187419, -1.01873699,  0.47401357,  0.21027149,\n",
              "         0.83375809],\n",
              "       [-2.10513251, -2.13985059, -1.044165  , -0.38968009,  0.39821698,\n",
              "         0.68901504,  1.92322131, -1.01873699,  0.00536115, -4.88442344,\n",
              "        -2.43542439]])"
            ]
          },
          "metadata": {},
          "execution_count": 526
        }
      ]
    },
    {
      "cell_type": "code",
      "source": [
        "x_n1 = pd.DataFrame(x)   #rechecking with skewness\n",
        "x_n1.skew()"
      ],
      "metadata": {
        "colab": {
          "base_uri": "https://localhost:8080/"
        },
        "id": "oaIGnBzZ545B",
        "outputId": "f0c51fe0-d356-434f-a324-598d407f3225"
      },
      "execution_count": 527,
      "outputs": [
        {
          "output_type": "execute_result",
          "data": {
            "text/plain": [
              "0    -0.282086\n",
              "1    -0.292401\n",
              "2    -0.055454\n",
              "3    -0.200769\n",
              "4    -2.117100\n",
              "5    -0.254392\n",
              "6    -0.307859\n",
              "7    -0.037194\n",
              "8    -0.251130\n",
              "9    -2.108915\n",
              "10   -1.286293\n",
              "dtype: float64"
            ]
          },
          "metadata": {},
          "execution_count": 527
        }
      ]
    },
    {
      "cell_type": "markdown",
      "source": [
        "So,skew values have been reduced\n"
      ],
      "metadata": {
        "id": "3RCpdQe9_uyy"
      }
    },
    {
      "cell_type": "code",
      "source": [
        "from sklearn.preprocessing import power_transform\n",
        "y = power_transform(y)\n",
        "y[:5]"
      ],
      "metadata": {
        "colab": {
          "base_uri": "https://localhost:8080/"
        },
        "id": "A_No9CYU2Nzb",
        "outputId": "91019cd9-12cc-4f1d-ccc6-91c38b6ca611"
      },
      "execution_count": 547,
      "outputs": [
        {
          "output_type": "execute_result",
          "data": {
            "text/plain": [
              "array([[-1.70147868],\n",
              "       [ 0.22826053],\n",
              "       [-0.27176585],\n",
              "       [ 0.40063181],\n",
              "       [ 1.74343674]])"
            ]
          },
          "metadata": {},
          "execution_count": 547
        }
      ]
    },
    {
      "cell_type": "code",
      "source": [
        "from sklearn.preprocessing import StandardScaler\n",
        "sc = StandardScaler()\n",
        "y = sc.fit_transform(y)\n",
        "y[:5]"
      ],
      "metadata": {
        "colab": {
          "base_uri": "https://localhost:8080/"
        },
        "id": "I4gUhiXw2bCD",
        "outputId": "6a1d6471-e2ca-4298-9601-d73de0efd883"
      },
      "execution_count": 529,
      "outputs": [
        {
          "output_type": "execute_result",
          "data": {
            "text/plain": [
              "array([[-1.6811849 ],\n",
              "       [ 0.21698217],\n",
              "       [-0.28253878],\n",
              "       [ 0.39086261],\n",
              "       [ 1.76561763]])"
            ]
          },
          "metadata": {},
          "execution_count": 529
        }
      ]
    },
    {
      "cell_type": "code",
      "source": [
        "#importing a necessary libraries\n",
        "from sklearn.linear_model import BayesianRidge \n",
        "from sklearn.metrics import r2_score\n",
        "from sklearn.model_selection import train_test_split\n",
        "\n",
        "#Evaluating model performance\n",
        "# Now data is preprocessed and we can go for selecting best random state\n",
        "Max_score = 0\n",
        "maxRS = 0 #best random state value for max r2_score\n",
        "for i in range(1,200):\n",
        "  x_train,x_test,y_train,y_test = train_test_split(x,y,test_size =.20,random_state = i)\n",
        "  Bay = BayesianRidge()\n",
        "  Bay.fit(x_train,y_train)\n",
        "  predic = Bay.predict(x_test)\n",
        "  acc = r2_score(y_test,predic)\n",
        "  if acc > Max_score:\n",
        "    Max_score = acc\n",
        "    maxRS = i\n",
        "print(\"Best R2_score is \",Max_score,\" on Random state \",maxRS)"
      ],
      "metadata": {
        "colab": {
          "base_uri": "https://localhost:8080/"
        },
        "id": "X9rKmlCd2hSc",
        "outputId": "2e88a51b-36e5-4313-a31e-330893e23fad"
      },
      "execution_count": 530,
      "outputs": [
        {
          "output_type": "stream",
          "name": "stdout",
          "text": [
            "Best R2_score is  0.8052628871898508  on Random state  46\n"
          ]
        }
      ]
    },
    {
      "cell_type": "code",
      "source": [
        "x_train, x_test, y_train, y_test = train_test_split(x, y,test_size =.20,random_state=46)"
      ],
      "metadata": {
        "id": "IWam94Go2w2v"
      },
      "execution_count": 531,
      "outputs": []
    },
    {
      "cell_type": "code",
      "source": [
        "print(x_train.shape,y_train.shape)"
      ],
      "metadata": {
        "colab": {
          "base_uri": "https://localhost:8080/"
        },
        "id": "VE2A5tLX214W",
        "outputId": "e9a2e4ef-c343-4fdf-f940-56eb2ec5b894"
      },
      "execution_count": 532,
      "outputs": [
        {
          "output_type": "stream",
          "name": "stdout",
          "text": [
            "(689, 11) (689, 1)\n"
          ]
        }
      ]
    },
    {
      "cell_type": "code",
      "source": [
        "print(x_test.shape,y_test.shape)"
      ],
      "metadata": {
        "colab": {
          "base_uri": "https://localhost:8080/"
        },
        "id": "MhpxxHr024CM",
        "outputId": "d5b06a09-5420-4200-c952-13a7ab4584e7"
      },
      "execution_count": 533,
      "outputs": [
        {
          "output_type": "stream",
          "name": "stdout",
          "text": [
            "(173, 11) (173, 1)\n"
          ]
        }
      ]
    },
    {
      "cell_type": "code",
      "source": [
        "#importing metrics\n",
        "from sklearn.metrics import mean_squared_error,mean_absolute_error"
      ],
      "metadata": {
        "id": "FSC2jjgU26EE"
      },
      "execution_count": 534,
      "outputs": []
    },
    {
      "cell_type": "code",
      "source": [
        "#to predict the capacity we can consider Linearregression model\n",
        "\n",
        "from sklearn.linear_model import LinearRegression \n",
        "LR = LinearRegression()\n",
        "LR.fit(x_train,y_train)\n",
        "predic_1 = LR.predict(x_test)\n",
        "print(\"r2_score is {:0.3f}\".format(r2_score(y_test,predic_1)))\n",
        "print(\"mse is {:0.3f}\".format(mean_squared_error(y_test,predic_1)))\n",
        "print(\"rmse is {:0.3f}\".format(mean_squared_error(y_test,predic_1,squared=False)))\n",
        "print(\"mae is {:0.3f}\".format(mean_absolute_error(y_test,predic_1)))"
      ],
      "metadata": {
        "colab": {
          "base_uri": "https://localhost:8080/"
        },
        "id": "2VwH0b6f276M",
        "outputId": "705e7d2f-836d-4a66-89ad-43fb3abd5a3c"
      },
      "execution_count": 535,
      "outputs": [
        {
          "output_type": "stream",
          "name": "stdout",
          "text": [
            "r2_score is 0.805\n",
            "mse is 0.201\n",
            "rmse is 0.448\n",
            "mae is 0.356\n"
          ]
        }
      ]
    },
    {
      "cell_type": "code",
      "source": [
        "from sklearn.model_selection import cross_val_score"
      ],
      "metadata": {
        "id": "mPekbGyv3CwW"
      },
      "execution_count": 536,
      "outputs": []
    },
    {
      "cell_type": "code",
      "source": [
        "#funtion to check accuracy of model using cross validation score\n",
        "\n",
        "def model_accuracy(model,X_train=x_train,y_train=y_train):\n",
        "    accuracies = cross_val_score(estimator = model, X = x_train, y = y_train, cv = 10) #CVS\n",
        "    print(\"Accuracy: {:.2f} %\".format(accuracies.mean()*100))\n",
        "    #print(\"Standard Deviation: {:.2f} %\".format(accuracies.std()*100))"
      ],
      "metadata": {
        "id": "smC04dyi3HlW"
      },
      "execution_count": 537,
      "outputs": []
    },
    {
      "cell_type": "code",
      "source": [
        "model_accuracy(LR)"
      ],
      "metadata": {
        "colab": {
          "base_uri": "https://localhost:8080/"
        },
        "id": "lqVB8WDL3KGV",
        "outputId": "7b117f1a-2c53-49a9-9b62-0d7d95002e9b"
      },
      "execution_count": 538,
      "outputs": [
        {
          "output_type": "stream",
          "name": "stdout",
          "text": [
            "Accuracy: 72.44 %\n"
          ]
        }
      ]
    },
    {
      "cell_type": "code",
      "source": [
        "#using BayesianRidge model \n",
        "from sklearn.linear_model import BayesianRidge \n",
        "Bay = BayesianRidge()\n",
        "Bay.fit(x_train,y_train)\n",
        "predic_2 = Bay.predict(x_test)\n",
        "print(\"r2_score is {:0.3f}\".format(r2_score(y_test,predic_2)))\n",
        "print(\"mse is {:0.3f}\".format(mean_squared_error(y_test,predic_2)))\n",
        "print(\"rmse is {:0.3f}\".format(mean_squared_error(y_test,predic_2,squared=False)))\n",
        "print(\"mae is {:0.3f}\".format(mean_absolute_error(y_test,predic_2)))"
      ],
      "metadata": {
        "colab": {
          "base_uri": "https://localhost:8080/"
        },
        "id": "AFBvkaX73MWf",
        "outputId": "e00b7a79-3773-46af-83ef-a86c796896d7"
      },
      "execution_count": 539,
      "outputs": [
        {
          "output_type": "stream",
          "name": "stdout",
          "text": [
            "r2_score is 0.805\n",
            "mse is 0.201\n",
            "rmse is 0.448\n",
            "mae is 0.356\n"
          ]
        }
      ]
    },
    {
      "cell_type": "code",
      "source": [
        "model_accuracy(Bay)"
      ],
      "metadata": {
        "colab": {
          "base_uri": "https://localhost:8080/"
        },
        "id": "4oINdCeH3Ufv",
        "outputId": "c6dc5f1e-c975-4f43-c6d7-b0d186180d73"
      },
      "execution_count": 540,
      "outputs": [
        {
          "output_type": "stream",
          "name": "stdout",
          "text": [
            "Accuracy: 72.44 %\n"
          ]
        }
      ]
    },
    {
      "cell_type": "code",
      "source": [
        "from sklearn.ensemble import RandomForestRegressor\n",
        "RF = RandomForestRegressor()\n",
        "RF.fit(x_train,y_train)\n",
        "predic_3 = RF.predict(x_test)\n",
        "print(\"r2_score is {:0.3f}\".format(r2_score(y_test,predic_3)))\n",
        "print(\"mse is {:0.3f}\".format(mean_squared_error(y_test,predic_3)))\n",
        "print(\"rmse is {:0.3f}\".format(mean_squared_error(y_test,predic_3,squared=False)))\n",
        "print(\"mae is {:0.3f}\".format(mean_absolute_error(y_test,predic_3)))"
      ],
      "metadata": {
        "colab": {
          "base_uri": "https://localhost:8080/"
        },
        "id": "EjZVKf_e3XKO",
        "outputId": "f68503b4-c87e-48a1-d2a9-dc59f201ed37"
      },
      "execution_count": 541,
      "outputs": [
        {
          "output_type": "stream",
          "name": "stdout",
          "text": [
            "r2_score is 0.798\n",
            "mse is 0.208\n",
            "rmse is 0.456\n",
            "mae is 0.313\n"
          ]
        }
      ]
    },
    {
      "cell_type": "code",
      "source": [
        "model_accuracy(RF)"
      ],
      "metadata": {
        "colab": {
          "base_uri": "https://localhost:8080/"
        },
        "id": "sDB_YgQK3ZSD",
        "outputId": "49783110-7830-432c-d9ee-267bbb74b02e"
      },
      "execution_count": 542,
      "outputs": [
        {
          "output_type": "stream",
          "name": "stdout",
          "text": [
            "Accuracy: 78.46 %\n"
          ]
        }
      ]
    },
    {
      "cell_type": "code",
      "source": [
        "#using Decisiontree regressor\n",
        "from sklearn.tree import DecisionTreeRegressor\n",
        "DT = DecisionTreeRegressor()\n",
        "DT.fit(x_train,y_train)\n",
        "predic_4 = DT.predict(x_test)\n",
        "print(\"r2_score is {:0.3f}\".format(r2_score(y_test,predic_4)))\n",
        "print(\"mse is {:0.3f}\".format(mean_squared_error(y_test,predic_4)))\n",
        "print(\"rmse is {:0.3f}\".format(mean_squared_error(y_test,predic_4,squared=False)))\n",
        "print(\"mae is {:0.3f}\".format(mean_absolute_error(y_test,predic_4)))"
      ],
      "metadata": {
        "colab": {
          "base_uri": "https://localhost:8080/"
        },
        "id": "Hduxkbcm3bOH",
        "outputId": "50e7d1b5-a16b-4542-94df-283168976e34"
      },
      "execution_count": 543,
      "outputs": [
        {
          "output_type": "stream",
          "name": "stdout",
          "text": [
            "r2_score is 0.653\n",
            "mse is 0.358\n",
            "rmse is 0.598\n",
            "mae is 0.397\n"
          ]
        }
      ]
    },
    {
      "cell_type": "code",
      "source": [
        "model_accuracy(DT)"
      ],
      "metadata": {
        "colab": {
          "base_uri": "https://localhost:8080/"
        },
        "id": "a_Uy0BO23egm",
        "outputId": "a963521a-5710-4804-ad50-68a50bede4a8"
      },
      "execution_count": 544,
      "outputs": [
        {
          "output_type": "stream",
          "name": "stdout",
          "text": [
            "Accuracy: 60.44 %\n"
          ]
        }
      ]
    },
    {
      "cell_type": "markdown",
      "source": [
        "So,out of all these models RandomForestRegressor model has more accuracy(even after checking with CVS) and least rmse value. So, I will take my final model as RandomForestRegressor."
      ],
      "metadata": {
        "id": "bFdMFRuG3i4z"
      }
    },
    {
      "cell_type": "markdown",
      "source": [
        "## Hyper Paramter tuning"
      ],
      "metadata": {
        "id": "Q1zLrAZQ31WR"
      }
    },
    {
      "cell_type": "code",
      "source": [
        "from sklearn.model_selection import GridSearchCV\n",
        "\n",
        "params_list = {'bootstrap':[True,False],\n",
        "               'criterion':[\"squared_error\",\"absolute_error\",\"poisson\"],\n",
        "               'max_features' :['auto','sqrt','log2'],\n",
        "               'max_leaf_nodes':[2,3,4,None]\n",
        "              }\n",
        "GCV = GridSearchCV(RandomForestRegressor(),params_list,cv=5,scoring=\"neg_root_mean_squared_error\")\n",
        "GCV.fit(x_train,y_train)\n",
        "\n",
        "#printing the best parameter\n",
        "GCV.best_params_"
      ],
      "metadata": {
        "colab": {
          "base_uri": "https://localhost:8080/"
        },
        "id": "eK6jfWEA3gh9",
        "outputId": "295ada9c-f31a-41b7-9c96-837846c97236"
      },
      "execution_count": 545,
      "outputs": [
        {
          "output_type": "execute_result",
          "data": {
            "text/plain": [
              "{'bootstrap': True,\n",
              " 'criterion': 'squared_error',\n",
              " 'max_features': 'sqrt',\n",
              " 'max_leaf_nodes': None}"
            ]
          },
          "metadata": {},
          "execution_count": 545
        }
      ]
    },
    {
      "cell_type": "code",
      "source": [
        "#now predicting with best parameters\n",
        "GCV_predic = GCV.best_estimator_.predict(x_test)\n",
        "\n",
        "#getting the r2_score\n",
        "r2_score(y_test,GCV_predic)\n",
        "# model_accuracy(GCV.best_estimator_)"
      ],
      "metadata": {
        "colab": {
          "base_uri": "https://localhost:8080/"
        },
        "id": "zJHCx7JI35Bf",
        "outputId": "250ab39d-3061-4582-8f84-9708c47d84ac"
      },
      "execution_count": 549,
      "outputs": [
        {
          "output_type": "execute_result",
          "data": {
            "text/plain": [
              "0.8132288781402395"
            ]
          },
          "metadata": {},
          "execution_count": 549
        }
      ]
    },
    {
      "cell_type": "code",
      "source": [
        "import joblib\n",
        "joblib.dump(GCV.best_estimator_,\"Global_Power_Plant_Database2.pkl\")"
      ],
      "metadata": {
        "colab": {
          "base_uri": "https://localhost:8080/"
        },
        "id": "yp5IO-RJ4NWr",
        "outputId": "1c9034b7-c97f-4bcf-c432-5ff0523535aa"
      },
      "execution_count": 548,
      "outputs": [
        {
          "output_type": "execute_result",
          "data": {
            "text/plain": [
              "['Global_Power_Plant_Database2.pkl']"
            ]
          },
          "metadata": {},
          "execution_count": 548
        }
      ]
    }
  ]
}