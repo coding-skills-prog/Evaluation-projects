{
  "nbformat": 4,
  "nbformat_minor": 0,
  "metadata": {
    "colab": {
      "name": "Census_Income_Project.ipynb",
      "provenance": [],
      "collapsed_sections": []
    },
    "kernelspec": {
      "name": "python3",
      "display_name": "Python 3"
    },
    "language_info": {
      "name": "python"
    }
  },
  "cells": [
    {
      "cell_type": "markdown",
      "source": [
        "The weights on the Current Population Survey (CPS) files are controlled to independent estimates of the civilian non-institutional population of the US. These are prepared monthly for us by Population Division here at the Census Bureau. We use 3 sets of controls. These are:\n",
        "\n",
        "1)A single cell estimate of the population 16+ for each state.\n",
        "\n",
        "2)Controls for Hispanic Origin by age and sex.\n",
        "\n",
        "3)Controls by Race, age and sex.\n",
        "\n",
        "We use all three sets of controls in our weighting program and \"rake\" through them 6 times so that by the end we come back to all the controls we used. The term estimate refers to population totals derived from CPS by creating \"weighted tallies\" of any specified socio-economic characteristics of the population. People with similar demographic characteristics should have similar weights. There is one important caveat to remember about this statement. That is that since the CPS sample is actually a collection of 51 state samples, each with its own probability of selection, the statement only applies within state.\n",
        "\n"
      ],
      "metadata": {
        "id": "N0fDPpFaGCTZ"
      }
    },
    {
      "cell_type": "code",
      "source": [
        "# Importing packages\n",
        "import pandas as pd\n",
        "import numpy as np\n",
        "import matplotlib.pyplot as plt\n",
        "import seaborn as sns"
      ],
      "metadata": {
        "id": "fuFJWy5zGMLS"
      },
      "execution_count": null,
      "outputs": []
    },
    {
      "cell_type": "code",
      "source": [
        "#reading a dataset\n",
        "df = pd.read_csv('census_income.csv')\n",
        "df.head()"
      ],
      "metadata": {
        "colab": {
          "base_uri": "https://localhost:8080/",
          "height": 356
        },
        "id": "TRxt8uVjG29x",
        "outputId": "40e415e3-a437-48eb-a834-14d2508745a4"
      },
      "execution_count": null,
      "outputs": [
        {
          "output_type": "execute_result",
          "data": {
            "text/html": [
              "\n",
              "  <div id=\"df-18987c40-d4e3-43e5-9470-8f285848a609\">\n",
              "    <div class=\"colab-df-container\">\n",
              "      <div>\n",
              "<style scoped>\n",
              "    .dataframe tbody tr th:only-of-type {\n",
              "        vertical-align: middle;\n",
              "    }\n",
              "\n",
              "    .dataframe tbody tr th {\n",
              "        vertical-align: top;\n",
              "    }\n",
              "\n",
              "    .dataframe thead th {\n",
              "        text-align: right;\n",
              "    }\n",
              "</style>\n",
              "<table border=\"1\" class=\"dataframe\">\n",
              "  <thead>\n",
              "    <tr style=\"text-align: right;\">\n",
              "      <th></th>\n",
              "      <th>Age</th>\n",
              "      <th>Workclass</th>\n",
              "      <th>Fnlwgt</th>\n",
              "      <th>Education</th>\n",
              "      <th>Education_num</th>\n",
              "      <th>Marital_status</th>\n",
              "      <th>Occupation</th>\n",
              "      <th>Relationship</th>\n",
              "      <th>Race</th>\n",
              "      <th>Sex</th>\n",
              "      <th>Capital_gain</th>\n",
              "      <th>Capital_loss</th>\n",
              "      <th>Hours_per_week</th>\n",
              "      <th>Native_country</th>\n",
              "      <th>Income</th>\n",
              "    </tr>\n",
              "  </thead>\n",
              "  <tbody>\n",
              "    <tr>\n",
              "      <th>0</th>\n",
              "      <td>50</td>\n",
              "      <td>Self-emp-not-inc</td>\n",
              "      <td>83311</td>\n",
              "      <td>Bachelors</td>\n",
              "      <td>13</td>\n",
              "      <td>Married-civ-spouse</td>\n",
              "      <td>Exec-managerial</td>\n",
              "      <td>Husband</td>\n",
              "      <td>White</td>\n",
              "      <td>Male</td>\n",
              "      <td>0</td>\n",
              "      <td>0</td>\n",
              "      <td>13</td>\n",
              "      <td>United-States</td>\n",
              "      <td>&lt;=50K</td>\n",
              "    </tr>\n",
              "    <tr>\n",
              "      <th>1</th>\n",
              "      <td>38</td>\n",
              "      <td>Private</td>\n",
              "      <td>215646</td>\n",
              "      <td>HS-grad</td>\n",
              "      <td>9</td>\n",
              "      <td>Divorced</td>\n",
              "      <td>Handlers-cleaners</td>\n",
              "      <td>Not-in-family</td>\n",
              "      <td>White</td>\n",
              "      <td>Male</td>\n",
              "      <td>0</td>\n",
              "      <td>0</td>\n",
              "      <td>40</td>\n",
              "      <td>United-States</td>\n",
              "      <td>&lt;=50K</td>\n",
              "    </tr>\n",
              "    <tr>\n",
              "      <th>2</th>\n",
              "      <td>53</td>\n",
              "      <td>Private</td>\n",
              "      <td>234721</td>\n",
              "      <td>11th</td>\n",
              "      <td>7</td>\n",
              "      <td>Married-civ-spouse</td>\n",
              "      <td>Handlers-cleaners</td>\n",
              "      <td>Husband</td>\n",
              "      <td>Black</td>\n",
              "      <td>Male</td>\n",
              "      <td>0</td>\n",
              "      <td>0</td>\n",
              "      <td>40</td>\n",
              "      <td>United-States</td>\n",
              "      <td>&lt;=50K</td>\n",
              "    </tr>\n",
              "    <tr>\n",
              "      <th>3</th>\n",
              "      <td>28</td>\n",
              "      <td>Private</td>\n",
              "      <td>338409</td>\n",
              "      <td>Bachelors</td>\n",
              "      <td>13</td>\n",
              "      <td>Married-civ-spouse</td>\n",
              "      <td>Prof-specialty</td>\n",
              "      <td>Wife</td>\n",
              "      <td>Black</td>\n",
              "      <td>Female</td>\n",
              "      <td>0</td>\n",
              "      <td>0</td>\n",
              "      <td>40</td>\n",
              "      <td>Cuba</td>\n",
              "      <td>&lt;=50K</td>\n",
              "    </tr>\n",
              "    <tr>\n",
              "      <th>4</th>\n",
              "      <td>37</td>\n",
              "      <td>Private</td>\n",
              "      <td>284582</td>\n",
              "      <td>Masters</td>\n",
              "      <td>14</td>\n",
              "      <td>Married-civ-spouse</td>\n",
              "      <td>Exec-managerial</td>\n",
              "      <td>Wife</td>\n",
              "      <td>White</td>\n",
              "      <td>Female</td>\n",
              "      <td>0</td>\n",
              "      <td>0</td>\n",
              "      <td>40</td>\n",
              "      <td>United-States</td>\n",
              "      <td>&lt;=50K</td>\n",
              "    </tr>\n",
              "  </tbody>\n",
              "</table>\n",
              "</div>\n",
              "      <button class=\"colab-df-convert\" onclick=\"convertToInteractive('df-18987c40-d4e3-43e5-9470-8f285848a609')\"\n",
              "              title=\"Convert this dataframe to an interactive table.\"\n",
              "              style=\"display:none;\">\n",
              "        \n",
              "  <svg xmlns=\"http://www.w3.org/2000/svg\" height=\"24px\"viewBox=\"0 0 24 24\"\n",
              "       width=\"24px\">\n",
              "    <path d=\"M0 0h24v24H0V0z\" fill=\"none\"/>\n",
              "    <path d=\"M18.56 5.44l.94 2.06.94-2.06 2.06-.94-2.06-.94-.94-2.06-.94 2.06-2.06.94zm-11 1L8.5 8.5l.94-2.06 2.06-.94-2.06-.94L8.5 2.5l-.94 2.06-2.06.94zm10 10l.94 2.06.94-2.06 2.06-.94-2.06-.94-.94-2.06-.94 2.06-2.06.94z\"/><path d=\"M17.41 7.96l-1.37-1.37c-.4-.4-.92-.59-1.43-.59-.52 0-1.04.2-1.43.59L10.3 9.45l-7.72 7.72c-.78.78-.78 2.05 0 2.83L4 21.41c.39.39.9.59 1.41.59.51 0 1.02-.2 1.41-.59l7.78-7.78 2.81-2.81c.8-.78.8-2.07 0-2.86zM5.41 20L4 18.59l7.72-7.72 1.47 1.35L5.41 20z\"/>\n",
              "  </svg>\n",
              "      </button>\n",
              "      \n",
              "  <style>\n",
              "    .colab-df-container {\n",
              "      display:flex;\n",
              "      flex-wrap:wrap;\n",
              "      gap: 12px;\n",
              "    }\n",
              "\n",
              "    .colab-df-convert {\n",
              "      background-color: #E8F0FE;\n",
              "      border: none;\n",
              "      border-radius: 50%;\n",
              "      cursor: pointer;\n",
              "      display: none;\n",
              "      fill: #1967D2;\n",
              "      height: 32px;\n",
              "      padding: 0 0 0 0;\n",
              "      width: 32px;\n",
              "    }\n",
              "\n",
              "    .colab-df-convert:hover {\n",
              "      background-color: #E2EBFA;\n",
              "      box-shadow: 0px 1px 2px rgba(60, 64, 67, 0.3), 0px 1px 3px 1px rgba(60, 64, 67, 0.15);\n",
              "      fill: #174EA6;\n",
              "    }\n",
              "\n",
              "    [theme=dark] .colab-df-convert {\n",
              "      background-color: #3B4455;\n",
              "      fill: #D2E3FC;\n",
              "    }\n",
              "\n",
              "    [theme=dark] .colab-df-convert:hover {\n",
              "      background-color: #434B5C;\n",
              "      box-shadow: 0px 1px 3px 1px rgba(0, 0, 0, 0.15);\n",
              "      filter: drop-shadow(0px 1px 2px rgba(0, 0, 0, 0.3));\n",
              "      fill: #FFFFFF;\n",
              "    }\n",
              "  </style>\n",
              "\n",
              "      <script>\n",
              "        const buttonEl =\n",
              "          document.querySelector('#df-18987c40-d4e3-43e5-9470-8f285848a609 button.colab-df-convert');\n",
              "        buttonEl.style.display =\n",
              "          google.colab.kernel.accessAllowed ? 'block' : 'none';\n",
              "\n",
              "        async function convertToInteractive(key) {\n",
              "          const element = document.querySelector('#df-18987c40-d4e3-43e5-9470-8f285848a609');\n",
              "          const dataTable =\n",
              "            await google.colab.kernel.invokeFunction('convertToInteractive',\n",
              "                                                     [key], {});\n",
              "          if (!dataTable) return;\n",
              "\n",
              "          const docLinkHtml = 'Like what you see? Visit the ' +\n",
              "            '<a target=\"_blank\" href=https://colab.research.google.com/notebooks/data_table.ipynb>data table notebook</a>'\n",
              "            + ' to learn more about interactive tables.';\n",
              "          element.innerHTML = '';\n",
              "          dataTable['output_type'] = 'display_data';\n",
              "          await google.colab.output.renderOutput(dataTable, element);\n",
              "          const docLink = document.createElement('div');\n",
              "          docLink.innerHTML = docLinkHtml;\n",
              "          element.appendChild(docLink);\n",
              "        }\n",
              "      </script>\n",
              "    </div>\n",
              "  </div>\n",
              "  "
            ],
            "text/plain": [
              "   Age          Workclass  Fnlwgt  ... Hours_per_week  Native_country  Income\n",
              "0   50   Self-emp-not-inc   83311  ...             13   United-States   <=50K\n",
              "1   38            Private  215646  ...             40   United-States   <=50K\n",
              "2   53            Private  234721  ...             40   United-States   <=50K\n",
              "3   28            Private  338409  ...             40            Cuba   <=50K\n",
              "4   37            Private  284582  ...             40   United-States   <=50K\n",
              "\n",
              "[5 rows x 15 columns]"
            ]
          },
          "metadata": {},
          "execution_count": 9
        }
      ]
    },
    {
      "cell_type": "code",
      "source": [
        "#to check how many rows and columns in dataframe\n",
        "df.shape"
      ],
      "metadata": {
        "colab": {
          "base_uri": "https://localhost:8080/"
        },
        "id": "CJoZHC5WHAXP",
        "outputId": "0818861e-2fd9-49c3-98f2-507da397482e"
      },
      "execution_count": null,
      "outputs": [
        {
          "output_type": "execute_result",
          "data": {
            "text/plain": [
              "(32560, 15)"
            ]
          },
          "metadata": {},
          "execution_count": 10
        }
      ]
    },
    {
      "cell_type": "markdown",
      "source": [
        "Seems like this dataset is huge contaning a more then 32k records in it"
      ],
      "metadata": {
        "id": "V64sGT4RIWou"
      }
    },
    {
      "cell_type": "code",
      "source": [
        "#to get the info of this dataframe\n",
        "df.info()"
      ],
      "metadata": {
        "colab": {
          "base_uri": "https://localhost:8080/"
        },
        "id": "R6ZVxDpPITfO",
        "outputId": "73f509e5-0e99-440e-dc78-c92c15b41ec3"
      },
      "execution_count": null,
      "outputs": [
        {
          "output_type": "stream",
          "name": "stdout",
          "text": [
            "<class 'pandas.core.frame.DataFrame'>\n",
            "RangeIndex: 32560 entries, 0 to 32559\n",
            "Data columns (total 15 columns):\n",
            " #   Column          Non-Null Count  Dtype \n",
            "---  ------          --------------  ----- \n",
            " 0   Age             32560 non-null  int64 \n",
            " 1   Workclass       32560 non-null  object\n",
            " 2   Fnlwgt          32560 non-null  int64 \n",
            " 3   Education       32560 non-null  object\n",
            " 4   Education_num   32560 non-null  int64 \n",
            " 5   Marital_status  32560 non-null  object\n",
            " 6   Occupation      32560 non-null  object\n",
            " 7   Relationship    32560 non-null  object\n",
            " 8   Race            32560 non-null  object\n",
            " 9   Sex             32560 non-null  object\n",
            " 10  Capital_gain    32560 non-null  int64 \n",
            " 11  Capital_loss    32560 non-null  int64 \n",
            " 12  Hours_per_week  32560 non-null  int64 \n",
            " 13  Native_country  32560 non-null  object\n",
            " 14  Income          32560 non-null  object\n",
            "dtypes: int64(6), object(9)\n",
            "memory usage: 3.7+ MB\n"
          ]
        }
      ]
    },
    {
      "cell_type": "markdown",
      "source": [
        "with above details,we can observe all the datatypes of each column along with memory consumption of dataset"
      ],
      "metadata": {
        "id": "lDjMiP7dIr_w"
      }
    },
    {
      "cell_type": "code",
      "source": [
        "df.duplicated().sum()  #to check with duplicate records"
      ],
      "metadata": {
        "colab": {
          "base_uri": "https://localhost:8080/"
        },
        "id": "AxXvQukQIobP",
        "outputId": "355569e9-29aa-45b9-dbca-53169871cb43"
      },
      "execution_count": null,
      "outputs": [
        {
          "output_type": "execute_result",
          "data": {
            "text/plain": [
              "24"
            ]
          },
          "metadata": {},
          "execution_count": 12
        }
      ]
    },
    {
      "cell_type": "markdown",
      "source": [
        "so,we do have some duplicate records "
      ],
      "metadata": {
        "id": "eKRJOl_OJHW_"
      }
    },
    {
      "cell_type": "code",
      "source": [
        "#to remove these duplicated records\n",
        "df.drop_duplicates(inplace = True)"
      ],
      "metadata": {
        "id": "g4XG53UlIvjW"
      },
      "execution_count": null,
      "outputs": []
    },
    {
      "cell_type": "code",
      "source": [
        "df.duplicated().sum() "
      ],
      "metadata": {
        "colab": {
          "base_uri": "https://localhost:8080/"
        },
        "id": "K11dBQrpSvsI",
        "outputId": "a4ac0869-7192-4ae1-fbbf-eb02d2c8df30"
      },
      "execution_count": null,
      "outputs": [
        {
          "output_type": "execute_result",
          "data": {
            "text/plain": [
              "0"
            ]
          },
          "metadata": {},
          "execution_count": 14
        }
      ]
    },
    {
      "cell_type": "code",
      "source": [
        "df['Income'].value_counts()"
      ],
      "metadata": {
        "colab": {
          "base_uri": "https://localhost:8080/"
        },
        "id": "xiNSkBGASycf",
        "outputId": "515cdd67-821e-4d11-faa2-ba45190c3a97"
      },
      "execution_count": null,
      "outputs": [
        {
          "output_type": "execute_result",
          "data": {
            "text/plain": [
              " <=50K    24697\n",
              " >50K      7839\n",
              "Name: Income, dtype: int64"
            ]
          },
          "metadata": {},
          "execution_count": 15
        }
      ]
    },
    {
      "cell_type": "markdown",
      "source": [
        "there are more records on <=50K. "
      ],
      "metadata": {
        "id": "8Ghymo5yT3aq"
      }
    },
    {
      "cell_type": "code",
      "source": [
        "#to get statistics information\n",
        "df.describe()"
      ],
      "metadata": {
        "colab": {
          "base_uri": "https://localhost:8080/",
          "height": 300
        },
        "id": "Pr-b-vFFTVdS",
        "outputId": "d68ea96f-9cd7-4901-a565-b84a3d0a4330"
      },
      "execution_count": null,
      "outputs": [
        {
          "output_type": "execute_result",
          "data": {
            "text/html": [
              "\n",
              "  <div id=\"df-d4d4c6af-e2c4-4fee-ad12-01e1cfec49ec\">\n",
              "    <div class=\"colab-df-container\">\n",
              "      <div>\n",
              "<style scoped>\n",
              "    .dataframe tbody tr th:only-of-type {\n",
              "        vertical-align: middle;\n",
              "    }\n",
              "\n",
              "    .dataframe tbody tr th {\n",
              "        vertical-align: top;\n",
              "    }\n",
              "\n",
              "    .dataframe thead th {\n",
              "        text-align: right;\n",
              "    }\n",
              "</style>\n",
              "<table border=\"1\" class=\"dataframe\">\n",
              "  <thead>\n",
              "    <tr style=\"text-align: right;\">\n",
              "      <th></th>\n",
              "      <th>Age</th>\n",
              "      <th>Fnlwgt</th>\n",
              "      <th>Education_num</th>\n",
              "      <th>Capital_gain</th>\n",
              "      <th>Capital_loss</th>\n",
              "      <th>Hours_per_week</th>\n",
              "    </tr>\n",
              "  </thead>\n",
              "  <tbody>\n",
              "    <tr>\n",
              "      <th>count</th>\n",
              "      <td>32536.000000</td>\n",
              "      <td>3.253600e+04</td>\n",
              "      <td>32536.000000</td>\n",
              "      <td>32536.000000</td>\n",
              "      <td>32536.000000</td>\n",
              "      <td>32536.000000</td>\n",
              "    </tr>\n",
              "    <tr>\n",
              "      <th>mean</th>\n",
              "      <td>38.585536</td>\n",
              "      <td>1.897843e+05</td>\n",
              "      <td>10.081725</td>\n",
              "      <td>1078.410069</td>\n",
              "      <td>87.370912</td>\n",
              "      <td>40.440343</td>\n",
              "    </tr>\n",
              "    <tr>\n",
              "      <th>std</th>\n",
              "      <td>13.638193</td>\n",
              "      <td>1.055563e+05</td>\n",
              "      <td>2.571622</td>\n",
              "      <td>7388.068465</td>\n",
              "      <td>403.107737</td>\n",
              "      <td>12.347079</td>\n",
              "    </tr>\n",
              "    <tr>\n",
              "      <th>min</th>\n",
              "      <td>17.000000</td>\n",
              "      <td>1.228500e+04</td>\n",
              "      <td>1.000000</td>\n",
              "      <td>0.000000</td>\n",
              "      <td>0.000000</td>\n",
              "      <td>1.000000</td>\n",
              "    </tr>\n",
              "    <tr>\n",
              "      <th>25%</th>\n",
              "      <td>28.000000</td>\n",
              "      <td>1.178315e+05</td>\n",
              "      <td>9.000000</td>\n",
              "      <td>0.000000</td>\n",
              "      <td>0.000000</td>\n",
              "      <td>40.000000</td>\n",
              "    </tr>\n",
              "    <tr>\n",
              "      <th>50%</th>\n",
              "      <td>37.000000</td>\n",
              "      <td>1.783560e+05</td>\n",
              "      <td>10.000000</td>\n",
              "      <td>0.000000</td>\n",
              "      <td>0.000000</td>\n",
              "      <td>40.000000</td>\n",
              "    </tr>\n",
              "    <tr>\n",
              "      <th>75%</th>\n",
              "      <td>48.000000</td>\n",
              "      <td>2.369932e+05</td>\n",
              "      <td>12.000000</td>\n",
              "      <td>0.000000</td>\n",
              "      <td>0.000000</td>\n",
              "      <td>45.000000</td>\n",
              "    </tr>\n",
              "    <tr>\n",
              "      <th>max</th>\n",
              "      <td>90.000000</td>\n",
              "      <td>1.484705e+06</td>\n",
              "      <td>16.000000</td>\n",
              "      <td>99999.000000</td>\n",
              "      <td>4356.000000</td>\n",
              "      <td>99.000000</td>\n",
              "    </tr>\n",
              "  </tbody>\n",
              "</table>\n",
              "</div>\n",
              "      <button class=\"colab-df-convert\" onclick=\"convertToInteractive('df-d4d4c6af-e2c4-4fee-ad12-01e1cfec49ec')\"\n",
              "              title=\"Convert this dataframe to an interactive table.\"\n",
              "              style=\"display:none;\">\n",
              "        \n",
              "  <svg xmlns=\"http://www.w3.org/2000/svg\" height=\"24px\"viewBox=\"0 0 24 24\"\n",
              "       width=\"24px\">\n",
              "    <path d=\"M0 0h24v24H0V0z\" fill=\"none\"/>\n",
              "    <path d=\"M18.56 5.44l.94 2.06.94-2.06 2.06-.94-2.06-.94-.94-2.06-.94 2.06-2.06.94zm-11 1L8.5 8.5l.94-2.06 2.06-.94-2.06-.94L8.5 2.5l-.94 2.06-2.06.94zm10 10l.94 2.06.94-2.06 2.06-.94-2.06-.94-.94-2.06-.94 2.06-2.06.94z\"/><path d=\"M17.41 7.96l-1.37-1.37c-.4-.4-.92-.59-1.43-.59-.52 0-1.04.2-1.43.59L10.3 9.45l-7.72 7.72c-.78.78-.78 2.05 0 2.83L4 21.41c.39.39.9.59 1.41.59.51 0 1.02-.2 1.41-.59l7.78-7.78 2.81-2.81c.8-.78.8-2.07 0-2.86zM5.41 20L4 18.59l7.72-7.72 1.47 1.35L5.41 20z\"/>\n",
              "  </svg>\n",
              "      </button>\n",
              "      \n",
              "  <style>\n",
              "    .colab-df-container {\n",
              "      display:flex;\n",
              "      flex-wrap:wrap;\n",
              "      gap: 12px;\n",
              "    }\n",
              "\n",
              "    .colab-df-convert {\n",
              "      background-color: #E8F0FE;\n",
              "      border: none;\n",
              "      border-radius: 50%;\n",
              "      cursor: pointer;\n",
              "      display: none;\n",
              "      fill: #1967D2;\n",
              "      height: 32px;\n",
              "      padding: 0 0 0 0;\n",
              "      width: 32px;\n",
              "    }\n",
              "\n",
              "    .colab-df-convert:hover {\n",
              "      background-color: #E2EBFA;\n",
              "      box-shadow: 0px 1px 2px rgba(60, 64, 67, 0.3), 0px 1px 3px 1px rgba(60, 64, 67, 0.15);\n",
              "      fill: #174EA6;\n",
              "    }\n",
              "\n",
              "    [theme=dark] .colab-df-convert {\n",
              "      background-color: #3B4455;\n",
              "      fill: #D2E3FC;\n",
              "    }\n",
              "\n",
              "    [theme=dark] .colab-df-convert:hover {\n",
              "      background-color: #434B5C;\n",
              "      box-shadow: 0px 1px 3px 1px rgba(0, 0, 0, 0.15);\n",
              "      filter: drop-shadow(0px 1px 2px rgba(0, 0, 0, 0.3));\n",
              "      fill: #FFFFFF;\n",
              "    }\n",
              "  </style>\n",
              "\n",
              "      <script>\n",
              "        const buttonEl =\n",
              "          document.querySelector('#df-d4d4c6af-e2c4-4fee-ad12-01e1cfec49ec button.colab-df-convert');\n",
              "        buttonEl.style.display =\n",
              "          google.colab.kernel.accessAllowed ? 'block' : 'none';\n",
              "\n",
              "        async function convertToInteractive(key) {\n",
              "          const element = document.querySelector('#df-d4d4c6af-e2c4-4fee-ad12-01e1cfec49ec');\n",
              "          const dataTable =\n",
              "            await google.colab.kernel.invokeFunction('convertToInteractive',\n",
              "                                                     [key], {});\n",
              "          if (!dataTable) return;\n",
              "\n",
              "          const docLinkHtml = 'Like what you see? Visit the ' +\n",
              "            '<a target=\"_blank\" href=https://colab.research.google.com/notebooks/data_table.ipynb>data table notebook</a>'\n",
              "            + ' to learn more about interactive tables.';\n",
              "          element.innerHTML = '';\n",
              "          dataTable['output_type'] = 'display_data';\n",
              "          await google.colab.output.renderOutput(dataTable, element);\n",
              "          const docLink = document.createElement('div');\n",
              "          docLink.innerHTML = docLinkHtml;\n",
              "          element.appendChild(docLink);\n",
              "        }\n",
              "      </script>\n",
              "    </div>\n",
              "  </div>\n",
              "  "
            ],
            "text/plain": [
              "                Age        Fnlwgt  ...  Capital_loss  Hours_per_week\n",
              "count  32536.000000  3.253600e+04  ...  32536.000000    32536.000000\n",
              "mean      38.585536  1.897843e+05  ...     87.370912       40.440343\n",
              "std       13.638193  1.055563e+05  ...    403.107737       12.347079\n",
              "min       17.000000  1.228500e+04  ...      0.000000        1.000000\n",
              "25%       28.000000  1.178315e+05  ...      0.000000       40.000000\n",
              "50%       37.000000  1.783560e+05  ...      0.000000       40.000000\n",
              "75%       48.000000  2.369932e+05  ...      0.000000       45.000000\n",
              "max       90.000000  1.484705e+06  ...   4356.000000       99.000000\n",
              "\n",
              "[8 rows x 6 columns]"
            ]
          },
          "metadata": {},
          "execution_count": 16
        }
      ]
    },
    {
      "cell_type": "markdown",
      "source": [
        "with above information,we can see there no missing values in any column and we can also observe the fact that many columns contains a minimum value of even 0 value,which means the value can even go with zero amount as well."
      ],
      "metadata": {
        "id": "mlqzSNAIUblq"
      }
    },
    {
      "cell_type": "code",
      "source": [
        "#to check whether any null values present in dataframe\n",
        "df.isnull().sum()"
      ],
      "metadata": {
        "colab": {
          "base_uri": "https://localhost:8080/"
        },
        "id": "8Hmtu5TgUUGI",
        "outputId": "ddea59ee-4b48-4af1-cad2-13d676c5e662"
      },
      "execution_count": null,
      "outputs": [
        {
          "output_type": "execute_result",
          "data": {
            "text/plain": [
              "Age               0\n",
              "Workclass         0\n",
              "Fnlwgt            0\n",
              "Education         0\n",
              "Education_num     0\n",
              "Marital_status    0\n",
              "Occupation        0\n",
              "Relationship      0\n",
              "Race              0\n",
              "Sex               0\n",
              "Capital_gain      0\n",
              "Capital_loss      0\n",
              "Hours_per_week    0\n",
              "Native_country    0\n",
              "Income            0\n",
              "dtype: int64"
            ]
          },
          "metadata": {},
          "execution_count": 17
        }
      ]
    },
    {
      "cell_type": "markdown",
      "source": [
        "So,there are no null values in it."
      ],
      "metadata": {
        "id": "U1lP20vAUmsJ"
      }
    },
    {
      "cell_type": "code",
      "source": [
        "#Now,checking for unique values\n",
        "\n",
        "df['Occupation'].unique()"
      ],
      "metadata": {
        "colab": {
          "base_uri": "https://localhost:8080/"
        },
        "id": "04j0_rB8UklI",
        "outputId": "c94d6453-00b1-428e-bab4-4493cd19afb6"
      },
      "execution_count": null,
      "outputs": [
        {
          "output_type": "execute_result",
          "data": {
            "text/plain": [
              "array([' Exec-managerial', ' Handlers-cleaners', ' Prof-specialty',\n",
              "       ' Other-service', ' Adm-clerical', ' Sales', ' Craft-repair',\n",
              "       ' Transport-moving', ' Farming-fishing', ' Machine-op-inspct',\n",
              "       ' Tech-support', ' ?', ' Protective-serv', ' Armed-Forces',\n",
              "       ' Priv-house-serv'], dtype=object)"
            ]
          },
          "metadata": {},
          "execution_count": 18
        }
      ]
    },
    {
      "cell_type": "markdown",
      "source": [
        "Although we do have \" ?\" as a value present in dataset"
      ],
      "metadata": {
        "id": "VDLl2TEqVQfY"
      }
    },
    {
      "cell_type": "code",
      "source": [
        "#to check how many missing values are present\n",
        "df.loc[df.Occupation == ' ?']"
      ],
      "metadata": {
        "colab": {
          "base_uri": "https://localhost:8080/",
          "height": 641
        },
        "id": "6YK-zPByYMpV",
        "outputId": "33b5228a-f2d2-4976-fe48-d2fde9e6605e"
      },
      "execution_count": 27,
      "outputs": [
        {
          "output_type": "execute_result",
          "data": {
            "text/html": [
              "\n",
              "  <div id=\"df-fbe9807f-31e3-4be4-b3e9-a701880575e9\">\n",
              "    <div class=\"colab-df-container\">\n",
              "      <div>\n",
              "<style scoped>\n",
              "    .dataframe tbody tr th:only-of-type {\n",
              "        vertical-align: middle;\n",
              "    }\n",
              "\n",
              "    .dataframe tbody tr th {\n",
              "        vertical-align: top;\n",
              "    }\n",
              "\n",
              "    .dataframe thead th {\n",
              "        text-align: right;\n",
              "    }\n",
              "</style>\n",
              "<table border=\"1\" class=\"dataframe\">\n",
              "  <thead>\n",
              "    <tr style=\"text-align: right;\">\n",
              "      <th></th>\n",
              "      <th>Age</th>\n",
              "      <th>Workclass</th>\n",
              "      <th>Fnlwgt</th>\n",
              "      <th>Education</th>\n",
              "      <th>Education_num</th>\n",
              "      <th>Marital_status</th>\n",
              "      <th>Occupation</th>\n",
              "      <th>Relationship</th>\n",
              "      <th>Race</th>\n",
              "      <th>Sex</th>\n",
              "      <th>Capital_gain</th>\n",
              "      <th>Capital_loss</th>\n",
              "      <th>Hours_per_week</th>\n",
              "      <th>Native_country</th>\n",
              "      <th>Income</th>\n",
              "    </tr>\n",
              "  </thead>\n",
              "  <tbody>\n",
              "    <tr>\n",
              "      <th>26</th>\n",
              "      <td>54</td>\n",
              "      <td>?</td>\n",
              "      <td>180211</td>\n",
              "      <td>Some-college</td>\n",
              "      <td>10</td>\n",
              "      <td>Married-civ-spouse</td>\n",
              "      <td>?</td>\n",
              "      <td>Husband</td>\n",
              "      <td>Asian-Pac-Islander</td>\n",
              "      <td>Male</td>\n",
              "      <td>0</td>\n",
              "      <td>0</td>\n",
              "      <td>60</td>\n",
              "      <td>South</td>\n",
              "      <td>&gt;50K</td>\n",
              "    </tr>\n",
              "    <tr>\n",
              "      <th>60</th>\n",
              "      <td>32</td>\n",
              "      <td>?</td>\n",
              "      <td>293936</td>\n",
              "      <td>7th-8th</td>\n",
              "      <td>4</td>\n",
              "      <td>Married-spouse-absent</td>\n",
              "      <td>?</td>\n",
              "      <td>Not-in-family</td>\n",
              "      <td>White</td>\n",
              "      <td>Male</td>\n",
              "      <td>0</td>\n",
              "      <td>0</td>\n",
              "      <td>40</td>\n",
              "      <td>?</td>\n",
              "      <td>&lt;=50K</td>\n",
              "    </tr>\n",
              "    <tr>\n",
              "      <th>68</th>\n",
              "      <td>25</td>\n",
              "      <td>?</td>\n",
              "      <td>200681</td>\n",
              "      <td>Some-college</td>\n",
              "      <td>10</td>\n",
              "      <td>Never-married</td>\n",
              "      <td>?</td>\n",
              "      <td>Own-child</td>\n",
              "      <td>White</td>\n",
              "      <td>Male</td>\n",
              "      <td>0</td>\n",
              "      <td>0</td>\n",
              "      <td>40</td>\n",
              "      <td>United-States</td>\n",
              "      <td>&lt;=50K</td>\n",
              "    </tr>\n",
              "    <tr>\n",
              "      <th>76</th>\n",
              "      <td>67</td>\n",
              "      <td>?</td>\n",
              "      <td>212759</td>\n",
              "      <td>10th</td>\n",
              "      <td>6</td>\n",
              "      <td>Married-civ-spouse</td>\n",
              "      <td>?</td>\n",
              "      <td>Husband</td>\n",
              "      <td>White</td>\n",
              "      <td>Male</td>\n",
              "      <td>0</td>\n",
              "      <td>0</td>\n",
              "      <td>2</td>\n",
              "      <td>United-States</td>\n",
              "      <td>&lt;=50K</td>\n",
              "    </tr>\n",
              "    <tr>\n",
              "      <th>105</th>\n",
              "      <td>17</td>\n",
              "      <td>?</td>\n",
              "      <td>304873</td>\n",
              "      <td>10th</td>\n",
              "      <td>6</td>\n",
              "      <td>Never-married</td>\n",
              "      <td>?</td>\n",
              "      <td>Own-child</td>\n",
              "      <td>White</td>\n",
              "      <td>Female</td>\n",
              "      <td>34095</td>\n",
              "      <td>0</td>\n",
              "      <td>32</td>\n",
              "      <td>United-States</td>\n",
              "      <td>&lt;=50K</td>\n",
              "    </tr>\n",
              "    <tr>\n",
              "      <th>...</th>\n",
              "      <td>...</td>\n",
              "      <td>...</td>\n",
              "      <td>...</td>\n",
              "      <td>...</td>\n",
              "      <td>...</td>\n",
              "      <td>...</td>\n",
              "      <td>...</td>\n",
              "      <td>...</td>\n",
              "      <td>...</td>\n",
              "      <td>...</td>\n",
              "      <td>...</td>\n",
              "      <td>...</td>\n",
              "      <td>...</td>\n",
              "      <td>...</td>\n",
              "      <td>...</td>\n",
              "    </tr>\n",
              "    <tr>\n",
              "      <th>32529</th>\n",
              "      <td>35</td>\n",
              "      <td>?</td>\n",
              "      <td>320084</td>\n",
              "      <td>Bachelors</td>\n",
              "      <td>13</td>\n",
              "      <td>Married-civ-spouse</td>\n",
              "      <td>?</td>\n",
              "      <td>Wife</td>\n",
              "      <td>White</td>\n",
              "      <td>Female</td>\n",
              "      <td>0</td>\n",
              "      <td>0</td>\n",
              "      <td>55</td>\n",
              "      <td>United-States</td>\n",
              "      <td>&gt;50K</td>\n",
              "    </tr>\n",
              "    <tr>\n",
              "      <th>32530</th>\n",
              "      <td>30</td>\n",
              "      <td>?</td>\n",
              "      <td>33811</td>\n",
              "      <td>Bachelors</td>\n",
              "      <td>13</td>\n",
              "      <td>Never-married</td>\n",
              "      <td>?</td>\n",
              "      <td>Not-in-family</td>\n",
              "      <td>Asian-Pac-Islander</td>\n",
              "      <td>Female</td>\n",
              "      <td>0</td>\n",
              "      <td>0</td>\n",
              "      <td>99</td>\n",
              "      <td>United-States</td>\n",
              "      <td>&lt;=50K</td>\n",
              "    </tr>\n",
              "    <tr>\n",
              "      <th>32538</th>\n",
              "      <td>71</td>\n",
              "      <td>?</td>\n",
              "      <td>287372</td>\n",
              "      <td>Doctorate</td>\n",
              "      <td>16</td>\n",
              "      <td>Married-civ-spouse</td>\n",
              "      <td>?</td>\n",
              "      <td>Husband</td>\n",
              "      <td>White</td>\n",
              "      <td>Male</td>\n",
              "      <td>0</td>\n",
              "      <td>0</td>\n",
              "      <td>10</td>\n",
              "      <td>United-States</td>\n",
              "      <td>&gt;50K</td>\n",
              "    </tr>\n",
              "    <tr>\n",
              "      <th>32540</th>\n",
              "      <td>41</td>\n",
              "      <td>?</td>\n",
              "      <td>202822</td>\n",
              "      <td>HS-grad</td>\n",
              "      <td>9</td>\n",
              "      <td>Separated</td>\n",
              "      <td>?</td>\n",
              "      <td>Not-in-family</td>\n",
              "      <td>Black</td>\n",
              "      <td>Female</td>\n",
              "      <td>0</td>\n",
              "      <td>0</td>\n",
              "      <td>32</td>\n",
              "      <td>United-States</td>\n",
              "      <td>&lt;=50K</td>\n",
              "    </tr>\n",
              "    <tr>\n",
              "      <th>32541</th>\n",
              "      <td>72</td>\n",
              "      <td>?</td>\n",
              "      <td>129912</td>\n",
              "      <td>HS-grad</td>\n",
              "      <td>9</td>\n",
              "      <td>Married-civ-spouse</td>\n",
              "      <td>?</td>\n",
              "      <td>Husband</td>\n",
              "      <td>White</td>\n",
              "      <td>Male</td>\n",
              "      <td>0</td>\n",
              "      <td>0</td>\n",
              "      <td>25</td>\n",
              "      <td>United-States</td>\n",
              "      <td>&lt;=50K</td>\n",
              "    </tr>\n",
              "  </tbody>\n",
              "</table>\n",
              "<p>1843 rows × 15 columns</p>\n",
              "</div>\n",
              "      <button class=\"colab-df-convert\" onclick=\"convertToInteractive('df-fbe9807f-31e3-4be4-b3e9-a701880575e9')\"\n",
              "              title=\"Convert this dataframe to an interactive table.\"\n",
              "              style=\"display:none;\">\n",
              "        \n",
              "  <svg xmlns=\"http://www.w3.org/2000/svg\" height=\"24px\"viewBox=\"0 0 24 24\"\n",
              "       width=\"24px\">\n",
              "    <path d=\"M0 0h24v24H0V0z\" fill=\"none\"/>\n",
              "    <path d=\"M18.56 5.44l.94 2.06.94-2.06 2.06-.94-2.06-.94-.94-2.06-.94 2.06-2.06.94zm-11 1L8.5 8.5l.94-2.06 2.06-.94-2.06-.94L8.5 2.5l-.94 2.06-2.06.94zm10 10l.94 2.06.94-2.06 2.06-.94-2.06-.94-.94-2.06-.94 2.06-2.06.94z\"/><path d=\"M17.41 7.96l-1.37-1.37c-.4-.4-.92-.59-1.43-.59-.52 0-1.04.2-1.43.59L10.3 9.45l-7.72 7.72c-.78.78-.78 2.05 0 2.83L4 21.41c.39.39.9.59 1.41.59.51 0 1.02-.2 1.41-.59l7.78-7.78 2.81-2.81c.8-.78.8-2.07 0-2.86zM5.41 20L4 18.59l7.72-7.72 1.47 1.35L5.41 20z\"/>\n",
              "  </svg>\n",
              "      </button>\n",
              "      \n",
              "  <style>\n",
              "    .colab-df-container {\n",
              "      display:flex;\n",
              "      flex-wrap:wrap;\n",
              "      gap: 12px;\n",
              "    }\n",
              "\n",
              "    .colab-df-convert {\n",
              "      background-color: #E8F0FE;\n",
              "      border: none;\n",
              "      border-radius: 50%;\n",
              "      cursor: pointer;\n",
              "      display: none;\n",
              "      fill: #1967D2;\n",
              "      height: 32px;\n",
              "      padding: 0 0 0 0;\n",
              "      width: 32px;\n",
              "    }\n",
              "\n",
              "    .colab-df-convert:hover {\n",
              "      background-color: #E2EBFA;\n",
              "      box-shadow: 0px 1px 2px rgba(60, 64, 67, 0.3), 0px 1px 3px 1px rgba(60, 64, 67, 0.15);\n",
              "      fill: #174EA6;\n",
              "    }\n",
              "\n",
              "    [theme=dark] .colab-df-convert {\n",
              "      background-color: #3B4455;\n",
              "      fill: #D2E3FC;\n",
              "    }\n",
              "\n",
              "    [theme=dark] .colab-df-convert:hover {\n",
              "      background-color: #434B5C;\n",
              "      box-shadow: 0px 1px 3px 1px rgba(0, 0, 0, 0.15);\n",
              "      filter: drop-shadow(0px 1px 2px rgba(0, 0, 0, 0.3));\n",
              "      fill: #FFFFFF;\n",
              "    }\n",
              "  </style>\n",
              "\n",
              "      <script>\n",
              "        const buttonEl =\n",
              "          document.querySelector('#df-fbe9807f-31e3-4be4-b3e9-a701880575e9 button.colab-df-convert');\n",
              "        buttonEl.style.display =\n",
              "          google.colab.kernel.accessAllowed ? 'block' : 'none';\n",
              "\n",
              "        async function convertToInteractive(key) {\n",
              "          const element = document.querySelector('#df-fbe9807f-31e3-4be4-b3e9-a701880575e9');\n",
              "          const dataTable =\n",
              "            await google.colab.kernel.invokeFunction('convertToInteractive',\n",
              "                                                     [key], {});\n",
              "          if (!dataTable) return;\n",
              "\n",
              "          const docLinkHtml = 'Like what you see? Visit the ' +\n",
              "            '<a target=\"_blank\" href=https://colab.research.google.com/notebooks/data_table.ipynb>data table notebook</a>'\n",
              "            + ' to learn more about interactive tables.';\n",
              "          element.innerHTML = '';\n",
              "          dataTable['output_type'] = 'display_data';\n",
              "          await google.colab.output.renderOutput(dataTable, element);\n",
              "          const docLink = document.createElement('div');\n",
              "          docLink.innerHTML = docLinkHtml;\n",
              "          element.appendChild(docLink);\n",
              "        }\n",
              "      </script>\n",
              "    </div>\n",
              "  </div>\n",
              "  "
            ],
            "text/plain": [
              "       Age Workclass  Fnlwgt  ... Hours_per_week  Native_country  Income\n",
              "26      54         ?  180211  ...             60           South    >50K\n",
              "60      32         ?  293936  ...             40               ?   <=50K\n",
              "68      25         ?  200681  ...             40   United-States   <=50K\n",
              "76      67         ?  212759  ...              2   United-States   <=50K\n",
              "105     17         ?  304873  ...             32   United-States   <=50K\n",
              "...    ...       ...     ...  ...            ...             ...     ...\n",
              "32529   35         ?  320084  ...             55   United-States    >50K\n",
              "32530   30         ?   33811  ...             99   United-States   <=50K\n",
              "32538   71         ?  287372  ...             10   United-States    >50K\n",
              "32540   41         ?  202822  ...             32   United-States   <=50K\n",
              "32541   72         ?  129912  ...             25   United-States   <=50K\n",
              "\n",
              "[1843 rows x 15 columns]"
            ]
          },
          "metadata": {},
          "execution_count": 27
        }
      ]
    },
    {
      "cell_type": "markdown",
      "source": [
        "So,there are like 1843 records which consists of \" ?\" in Occupation column"
      ],
      "metadata": {
        "id": "gErenQekZRg-"
      }
    },
    {
      "cell_type": "code",
      "source": [
        "#Since we have big dataset so,we can drop all these records which are having \" ?\" in it.\n",
        "\n",
        "df.drop(df[df['Occupation'] == ' ?'].index,inplace=True)"
      ],
      "metadata": {
        "id": "lqkO68aOZi-W"
      },
      "execution_count": 28,
      "outputs": []
    },
    {
      "cell_type": "code",
      "source": [
        "#Now,checking for unique values for other column\n",
        "\n",
        "df['Native_country'].unique()"
      ],
      "metadata": {
        "colab": {
          "base_uri": "https://localhost:8080/"
        },
        "id": "pDv3nkryVN3o",
        "outputId": "30663a6b-77a2-4418-e7b5-fd891ff541c3"
      },
      "execution_count": 30,
      "outputs": [
        {
          "output_type": "execute_result",
          "data": {
            "text/plain": [
              "array([' United-States', ' Cuba', ' Jamaica', ' India', ' ?', ' Mexico',\n",
              "       ' Puerto-Rico', ' Honduras', ' England', ' Canada', ' Germany',\n",
              "       ' Iran', ' Philippines', ' Poland', ' Columbia', ' Cambodia',\n",
              "       ' Thailand', ' Ecuador', ' Laos', ' Taiwan', ' Haiti', ' Portugal',\n",
              "       ' Dominican-Republic', ' El-Salvador', ' France', ' Guatemala',\n",
              "       ' Italy', ' China', ' South', ' Japan', ' Yugoslavia', ' Peru',\n",
              "       ' Outlying-US(Guam-USVI-etc)', ' Scotland', ' Trinadad&Tobago',\n",
              "       ' Greece', ' Nicaragua', ' Vietnam', ' Hong', ' Ireland',\n",
              "       ' Hungary', ' Holand-Netherlands'], dtype=object)"
            ]
          },
          "metadata": {},
          "execution_count": 30
        }
      ]
    },
    {
      "cell_type": "markdown",
      "source": [
        "here also we have \" ?\" as a value present in dataset"
      ],
      "metadata": {
        "id": "GdtkBNSBVjIQ"
      }
    },
    {
      "cell_type": "code",
      "source": [
        "#to check how many missing values are present\n",
        "df.loc[df.Native_country == ' ?']"
      ],
      "metadata": {
        "id": "mkaPgUj6Vg2O",
        "colab": {
          "base_uri": "https://localhost:8080/",
          "height": 675
        },
        "outputId": "6d547a1a-5582-49b6-e6ce-b29f1031a819"
      },
      "execution_count": 31,
      "outputs": [
        {
          "output_type": "execute_result",
          "data": {
            "text/html": [
              "\n",
              "  <div id=\"df-e34d78cf-48a2-4af6-8241-a900ed855807\">\n",
              "    <div class=\"colab-df-container\">\n",
              "      <div>\n",
              "<style scoped>\n",
              "    .dataframe tbody tr th:only-of-type {\n",
              "        vertical-align: middle;\n",
              "    }\n",
              "\n",
              "    .dataframe tbody tr th {\n",
              "        vertical-align: top;\n",
              "    }\n",
              "\n",
              "    .dataframe thead th {\n",
              "        text-align: right;\n",
              "    }\n",
              "</style>\n",
              "<table border=\"1\" class=\"dataframe\">\n",
              "  <thead>\n",
              "    <tr style=\"text-align: right;\">\n",
              "      <th></th>\n",
              "      <th>Age</th>\n",
              "      <th>Workclass</th>\n",
              "      <th>Fnlwgt</th>\n",
              "      <th>Education</th>\n",
              "      <th>Education_num</th>\n",
              "      <th>Marital_status</th>\n",
              "      <th>Occupation</th>\n",
              "      <th>Relationship</th>\n",
              "      <th>Race</th>\n",
              "      <th>Sex</th>\n",
              "      <th>Capital_gain</th>\n",
              "      <th>Capital_loss</th>\n",
              "      <th>Hours_per_week</th>\n",
              "      <th>Native_country</th>\n",
              "      <th>Income</th>\n",
              "    </tr>\n",
              "  </thead>\n",
              "  <tbody>\n",
              "    <tr>\n",
              "      <th>13</th>\n",
              "      <td>40</td>\n",
              "      <td>Private</td>\n",
              "      <td>121772</td>\n",
              "      <td>Assoc-voc</td>\n",
              "      <td>11</td>\n",
              "      <td>Married-civ-spouse</td>\n",
              "      <td>Craft-repair</td>\n",
              "      <td>Husband</td>\n",
              "      <td>Asian-Pac-Islander</td>\n",
              "      <td>Male</td>\n",
              "      <td>0</td>\n",
              "      <td>0</td>\n",
              "      <td>40</td>\n",
              "      <td>?</td>\n",
              "      <td>&gt;50K</td>\n",
              "    </tr>\n",
              "    <tr>\n",
              "      <th>37</th>\n",
              "      <td>31</td>\n",
              "      <td>Private</td>\n",
              "      <td>84154</td>\n",
              "      <td>Some-college</td>\n",
              "      <td>10</td>\n",
              "      <td>Married-civ-spouse</td>\n",
              "      <td>Sales</td>\n",
              "      <td>Husband</td>\n",
              "      <td>White</td>\n",
              "      <td>Male</td>\n",
              "      <td>0</td>\n",
              "      <td>0</td>\n",
              "      <td>38</td>\n",
              "      <td>?</td>\n",
              "      <td>&gt;50K</td>\n",
              "    </tr>\n",
              "    <tr>\n",
              "      <th>50</th>\n",
              "      <td>18</td>\n",
              "      <td>Private</td>\n",
              "      <td>226956</td>\n",
              "      <td>HS-grad</td>\n",
              "      <td>9</td>\n",
              "      <td>Never-married</td>\n",
              "      <td>Other-service</td>\n",
              "      <td>Own-child</td>\n",
              "      <td>White</td>\n",
              "      <td>Female</td>\n",
              "      <td>0</td>\n",
              "      <td>0</td>\n",
              "      <td>30</td>\n",
              "      <td>?</td>\n",
              "      <td>&lt;=50K</td>\n",
              "    </tr>\n",
              "    <tr>\n",
              "      <th>92</th>\n",
              "      <td>30</td>\n",
              "      <td>Private</td>\n",
              "      <td>117747</td>\n",
              "      <td>HS-grad</td>\n",
              "      <td>9</td>\n",
              "      <td>Married-civ-spouse</td>\n",
              "      <td>Sales</td>\n",
              "      <td>Wife</td>\n",
              "      <td>Asian-Pac-Islander</td>\n",
              "      <td>Female</td>\n",
              "      <td>0</td>\n",
              "      <td>1573</td>\n",
              "      <td>35</td>\n",
              "      <td>?</td>\n",
              "      <td>&lt;=50K</td>\n",
              "    </tr>\n",
              "    <tr>\n",
              "      <th>244</th>\n",
              "      <td>56</td>\n",
              "      <td>Private</td>\n",
              "      <td>203580</td>\n",
              "      <td>HS-grad</td>\n",
              "      <td>9</td>\n",
              "      <td>Married-civ-spouse</td>\n",
              "      <td>Adm-clerical</td>\n",
              "      <td>Husband</td>\n",
              "      <td>White</td>\n",
              "      <td>Male</td>\n",
              "      <td>0</td>\n",
              "      <td>0</td>\n",
              "      <td>35</td>\n",
              "      <td>?</td>\n",
              "      <td>&lt;=50K</td>\n",
              "    </tr>\n",
              "    <tr>\n",
              "      <th>...</th>\n",
              "      <td>...</td>\n",
              "      <td>...</td>\n",
              "      <td>...</td>\n",
              "      <td>...</td>\n",
              "      <td>...</td>\n",
              "      <td>...</td>\n",
              "      <td>...</td>\n",
              "      <td>...</td>\n",
              "      <td>...</td>\n",
              "      <td>...</td>\n",
              "      <td>...</td>\n",
              "      <td>...</td>\n",
              "      <td>...</td>\n",
              "      <td>...</td>\n",
              "      <td>...</td>\n",
              "    </tr>\n",
              "    <tr>\n",
              "      <th>32412</th>\n",
              "      <td>45</td>\n",
              "      <td>Private</td>\n",
              "      <td>199590</td>\n",
              "      <td>5th-6th</td>\n",
              "      <td>3</td>\n",
              "      <td>Married-civ-spouse</td>\n",
              "      <td>Machine-op-inspct</td>\n",
              "      <td>Husband</td>\n",
              "      <td>White</td>\n",
              "      <td>Male</td>\n",
              "      <td>0</td>\n",
              "      <td>0</td>\n",
              "      <td>40</td>\n",
              "      <td>?</td>\n",
              "      <td>&lt;=50K</td>\n",
              "    </tr>\n",
              "    <tr>\n",
              "      <th>32448</th>\n",
              "      <td>44</td>\n",
              "      <td>Self-emp-inc</td>\n",
              "      <td>71556</td>\n",
              "      <td>Masters</td>\n",
              "      <td>14</td>\n",
              "      <td>Married-civ-spouse</td>\n",
              "      <td>Sales</td>\n",
              "      <td>Husband</td>\n",
              "      <td>White</td>\n",
              "      <td>Male</td>\n",
              "      <td>0</td>\n",
              "      <td>0</td>\n",
              "      <td>50</td>\n",
              "      <td>?</td>\n",
              "      <td>&gt;50K</td>\n",
              "    </tr>\n",
              "    <tr>\n",
              "      <th>32468</th>\n",
              "      <td>58</td>\n",
              "      <td>Self-emp-inc</td>\n",
              "      <td>181974</td>\n",
              "      <td>Doctorate</td>\n",
              "      <td>16</td>\n",
              "      <td>Never-married</td>\n",
              "      <td>Prof-specialty</td>\n",
              "      <td>Not-in-family</td>\n",
              "      <td>White</td>\n",
              "      <td>Female</td>\n",
              "      <td>0</td>\n",
              "      <td>0</td>\n",
              "      <td>99</td>\n",
              "      <td>?</td>\n",
              "      <td>&lt;=50K</td>\n",
              "    </tr>\n",
              "    <tr>\n",
              "      <th>32491</th>\n",
              "      <td>42</td>\n",
              "      <td>Self-emp-not-inc</td>\n",
              "      <td>217597</td>\n",
              "      <td>HS-grad</td>\n",
              "      <td>9</td>\n",
              "      <td>Divorced</td>\n",
              "      <td>Sales</td>\n",
              "      <td>Own-child</td>\n",
              "      <td>White</td>\n",
              "      <td>Male</td>\n",
              "      <td>0</td>\n",
              "      <td>0</td>\n",
              "      <td>50</td>\n",
              "      <td>?</td>\n",
              "      <td>&lt;=50K</td>\n",
              "    </tr>\n",
              "    <tr>\n",
              "      <th>32509</th>\n",
              "      <td>39</td>\n",
              "      <td>Private</td>\n",
              "      <td>107302</td>\n",
              "      <td>HS-grad</td>\n",
              "      <td>9</td>\n",
              "      <td>Married-civ-spouse</td>\n",
              "      <td>Prof-specialty</td>\n",
              "      <td>Husband</td>\n",
              "      <td>White</td>\n",
              "      <td>Male</td>\n",
              "      <td>0</td>\n",
              "      <td>0</td>\n",
              "      <td>45</td>\n",
              "      <td>?</td>\n",
              "      <td>&gt;50K</td>\n",
              "    </tr>\n",
              "  </tbody>\n",
              "</table>\n",
              "<p>555 rows × 15 columns</p>\n",
              "</div>\n",
              "      <button class=\"colab-df-convert\" onclick=\"convertToInteractive('df-e34d78cf-48a2-4af6-8241-a900ed855807')\"\n",
              "              title=\"Convert this dataframe to an interactive table.\"\n",
              "              style=\"display:none;\">\n",
              "        \n",
              "  <svg xmlns=\"http://www.w3.org/2000/svg\" height=\"24px\"viewBox=\"0 0 24 24\"\n",
              "       width=\"24px\">\n",
              "    <path d=\"M0 0h24v24H0V0z\" fill=\"none\"/>\n",
              "    <path d=\"M18.56 5.44l.94 2.06.94-2.06 2.06-.94-2.06-.94-.94-2.06-.94 2.06-2.06.94zm-11 1L8.5 8.5l.94-2.06 2.06-.94-2.06-.94L8.5 2.5l-.94 2.06-2.06.94zm10 10l.94 2.06.94-2.06 2.06-.94-2.06-.94-.94-2.06-.94 2.06-2.06.94z\"/><path d=\"M17.41 7.96l-1.37-1.37c-.4-.4-.92-.59-1.43-.59-.52 0-1.04.2-1.43.59L10.3 9.45l-7.72 7.72c-.78.78-.78 2.05 0 2.83L4 21.41c.39.39.9.59 1.41.59.51 0 1.02-.2 1.41-.59l7.78-7.78 2.81-2.81c.8-.78.8-2.07 0-2.86zM5.41 20L4 18.59l7.72-7.72 1.47 1.35L5.41 20z\"/>\n",
              "  </svg>\n",
              "      </button>\n",
              "      \n",
              "  <style>\n",
              "    .colab-df-container {\n",
              "      display:flex;\n",
              "      flex-wrap:wrap;\n",
              "      gap: 12px;\n",
              "    }\n",
              "\n",
              "    .colab-df-convert {\n",
              "      background-color: #E8F0FE;\n",
              "      border: none;\n",
              "      border-radius: 50%;\n",
              "      cursor: pointer;\n",
              "      display: none;\n",
              "      fill: #1967D2;\n",
              "      height: 32px;\n",
              "      padding: 0 0 0 0;\n",
              "      width: 32px;\n",
              "    }\n",
              "\n",
              "    .colab-df-convert:hover {\n",
              "      background-color: #E2EBFA;\n",
              "      box-shadow: 0px 1px 2px rgba(60, 64, 67, 0.3), 0px 1px 3px 1px rgba(60, 64, 67, 0.15);\n",
              "      fill: #174EA6;\n",
              "    }\n",
              "\n",
              "    [theme=dark] .colab-df-convert {\n",
              "      background-color: #3B4455;\n",
              "      fill: #D2E3FC;\n",
              "    }\n",
              "\n",
              "    [theme=dark] .colab-df-convert:hover {\n",
              "      background-color: #434B5C;\n",
              "      box-shadow: 0px 1px 3px 1px rgba(0, 0, 0, 0.15);\n",
              "      filter: drop-shadow(0px 1px 2px rgba(0, 0, 0, 0.3));\n",
              "      fill: #FFFFFF;\n",
              "    }\n",
              "  </style>\n",
              "\n",
              "      <script>\n",
              "        const buttonEl =\n",
              "          document.querySelector('#df-e34d78cf-48a2-4af6-8241-a900ed855807 button.colab-df-convert');\n",
              "        buttonEl.style.display =\n",
              "          google.colab.kernel.accessAllowed ? 'block' : 'none';\n",
              "\n",
              "        async function convertToInteractive(key) {\n",
              "          const element = document.querySelector('#df-e34d78cf-48a2-4af6-8241-a900ed855807');\n",
              "          const dataTable =\n",
              "            await google.colab.kernel.invokeFunction('convertToInteractive',\n",
              "                                                     [key], {});\n",
              "          if (!dataTable) return;\n",
              "\n",
              "          const docLinkHtml = 'Like what you see? Visit the ' +\n",
              "            '<a target=\"_blank\" href=https://colab.research.google.com/notebooks/data_table.ipynb>data table notebook</a>'\n",
              "            + ' to learn more about interactive tables.';\n",
              "          element.innerHTML = '';\n",
              "          dataTable['output_type'] = 'display_data';\n",
              "          await google.colab.output.renderOutput(dataTable, element);\n",
              "          const docLink = document.createElement('div');\n",
              "          docLink.innerHTML = docLinkHtml;\n",
              "          element.appendChild(docLink);\n",
              "        }\n",
              "      </script>\n",
              "    </div>\n",
              "  </div>\n",
              "  "
            ],
            "text/plain": [
              "       Age          Workclass  Fnlwgt  ... Hours_per_week  Native_country  Income\n",
              "13      40            Private  121772  ...             40               ?    >50K\n",
              "37      31            Private   84154  ...             38               ?    >50K\n",
              "50      18            Private  226956  ...             30               ?   <=50K\n",
              "92      30            Private  117747  ...             35               ?   <=50K\n",
              "244     56            Private  203580  ...             35               ?   <=50K\n",
              "...    ...                ...     ...  ...            ...             ...     ...\n",
              "32412   45            Private  199590  ...             40               ?   <=50K\n",
              "32448   44       Self-emp-inc   71556  ...             50               ?    >50K\n",
              "32468   58       Self-emp-inc  181974  ...             99               ?   <=50K\n",
              "32491   42   Self-emp-not-inc  217597  ...             50               ?   <=50K\n",
              "32509   39            Private  107302  ...             45               ?    >50K\n",
              "\n",
              "[555 rows x 15 columns]"
            ]
          },
          "metadata": {},
          "execution_count": 31
        }
      ]
    },
    {
      "cell_type": "markdown",
      "source": [
        "So,there are like 555 records which consists of \" ?\" in Native_country column"
      ],
      "metadata": {
        "id": "fevZbLa3aE-v"
      }
    },
    {
      "cell_type": "code",
      "source": [
        "#Since we have big dataset so,we can drop all these records which are having \" ?\" in it.\n",
        "\n",
        "df.drop(df[df['Native_country'] == ' ?'].index,inplace=True)"
      ],
      "metadata": {
        "id": "BeqVXcqwaB4z"
      },
      "execution_count": 32,
      "outputs": []
    },
    {
      "cell_type": "markdown",
      "source": [
        "with that all missing data has been handled"
      ],
      "metadata": {
        "id": "WAEE2W-sacVE"
      }
    },
    {
      "cell_type": "markdown",
      "source": [
        "## Visualization"
      ],
      "metadata": {
        "id": "qheG3UBsayGF"
      }
    },
    {
      "cell_type": "code",
      "source": [
        "#visualize the histogram of Income\n",
        "\n",
        "plt.hist(df['Income'])\n",
        "plt.xlabel('Income')\n",
        "plt.title('histogram of Income')"
      ],
      "metadata": {
        "colab": {
          "base_uri": "https://localhost:8080/",
          "height": 313
        },
        "id": "Xyr7o8MWaRWD",
        "outputId": "764d4226-9d7e-4abe-ed34-1075dad16448"
      },
      "execution_count": 34,
      "outputs": [
        {
          "output_type": "execute_result",
          "data": {
            "text/plain": [
              "Text(0.5, 1.0, 'histogram of Income')"
            ]
          },
          "metadata": {},
          "execution_count": 34
        },
        {
          "output_type": "display_data",
          "data": {
            "image/png": "[encoded data removed]",
            "text/plain": [
              "<Figure size 432x288 with 1 Axes>"
            ]
          },
          "metadata": {
            "needs_background": "light"
          }
        }
      ]
    },
    {
      "cell_type": "markdown",
      "source": [
        "we can clearly see that \"<=50K\" values are more occuring then \">50K\" values. SO,we can deal with this kind of imbalanced data by using a F1-score as our metrics evaluation method while training the model"
      ],
      "metadata": {
        "id": "Bs5byd6ma6gm"
      }
    },
    {
      "cell_type": "code",
      "source": [
        "import warnings\n",
        "warnings.filterwarnings('ignore') #to remove warning messages"
      ],
      "metadata": {
        "id": "fsdtAdbBa5Hd"
      },
      "execution_count": 35,
      "outputs": []
    },
    {
      "cell_type": "code",
      "source": [
        "sns.factorplot('Sex', data=df, kind=\"count\") ## Let's check Sex"
      ],
      "metadata": {
        "colab": {
          "base_uri": "https://localhost:8080/",
          "height": 387
        },
        "id": "-S7xqGn6bLhr",
        "outputId": "439c9ca7-aa28-4d07-d617-1122c5baf11b"
      },
      "execution_count": 38,
      "outputs": [
        {
          "output_type": "execute_result",
          "data": {
            "text/plain": [
              "<seaborn.axisgrid.FacetGrid at 0x7f4e4011ab10>"
            ]
          },
          "metadata": {},
          "execution_count": 38
        },
        {
          "output_type": "display_data",
          "data": {
            "image/png": "[encoded data removed]",
            "text/plain": [
              "<Figure size 360x360 with 1 Axes>"
            ]
          },
          "metadata": {
            "needs_background": "light"
          }
        }
      ]
    },
    {
      "cell_type": "markdown",
      "source": [
        "So,there are more records on male then female"
      ],
      "metadata": {
        "id": "L-iD63_2bc_2"
      }
    },
    {
      "cell_type": "code",
      "source": [
        "# Now let's seperate the genders by MaritalStatus  using 'hue' arguement \n",
        "\n",
        "sns.factorplot('Sex', data=df, kind=\"count\", hue='Marital_status')"
      ],
      "metadata": {
        "colab": {
          "base_uri": "https://localhost:8080/",
          "height": 387
        },
        "id": "erz-ma3QbPBz",
        "outputId": "000a4e4e-a014-4a3a-c7ee-b9990c460ce7"
      },
      "execution_count": 39,
      "outputs": [
        {
          "output_type": "execute_result",
          "data": {
            "text/plain": [
              "<seaborn.axisgrid.FacetGrid at 0x7f4e3ffea2d0>"
            ]
          },
          "metadata": {},
          "execution_count": 39
        },
        {
          "output_type": "display_data",
          "data": {
            "image/png": "[encoded data removed]",
            "text/plain": [
              "<Figure size 513.875x360 with 1 Axes>"
            ]
          },
          "metadata": {
            "needs_background": "light"
          }
        }
      ]
    },
    {
      "cell_type": "markdown",
      "source": [
        "So,we can say that there are majority number of records on of \"male\" person who are \"married-clv-spouse\".\n",
        "And there are more records on \"female\" who are \"Never-married\"."
      ],
      "metadata": {
        "id": "Cm2z8It-bya0"
      }
    },
    {
      "cell_type": "code",
      "source": [
        "a = sns.factorplot('Education', data=df, kind=\"count\")\n",
        "a.set_xticklabels(rotation=90)"
      ],
      "metadata": {
        "colab": {
          "base_uri": "https://localhost:8080/",
          "height": 448
        },
        "id": "iMDlwICsc9rz",
        "outputId": "53764dae-34dd-48d0-fea3-a95b807c92a9"
      },
      "execution_count": 53,
      "outputs": [
        {
          "output_type": "execute_result",
          "data": {
            "text/plain": [
              "<seaborn.axisgrid.FacetGrid at 0x7f4e359b0490>"
            ]
          },
          "metadata": {},
          "execution_count": 53
        },
        {
          "output_type": "display_data",
          "data": {
            "image/png": "[encoded data removed]",
            "text/plain": [
              "<Figure size 360x360 with 1 Axes>"
            ]
          },
          "metadata": {
            "needs_background": "light"
          }
        }
      ]
    },
    {
      "cell_type": "markdown",
      "source": [
        "So,there are more people who had a education at a \"HS-grad\" level"
      ],
      "metadata": {
        "id": "nnyH6QVme99a"
      }
    },
    {
      "cell_type": "code",
      "source": [
        "a = sns.factorplot('Occupation', data=df, kind=\"count\")\n",
        "a.set_xticklabels(rotation=90)"
      ],
      "metadata": {
        "colab": {
          "base_uri": "https://localhost:8080/",
          "height": 472
        },
        "id": "vsTeTtBTdBui",
        "outputId": "58289150-a30f-48af-b0f5-dca5bbe5da37"
      },
      "execution_count": 58,
      "outputs": [
        {
          "output_type": "execute_result",
          "data": {
            "text/plain": [
              "<seaborn.axisgrid.FacetGrid at 0x7f4e354ca490>"
            ]
          },
          "metadata": {},
          "execution_count": 58
        },
        {
          "output_type": "display_data",
          "data": {
            "image/png": "[encoded data removed]",
            "text/plain": [
              "<Figure size 360x360 with 1 Axes>"
            ]
          },
          "metadata": {
            "needs_background": "light"
          }
        }
      ]
    },
    {
      "cell_type": "markdown",
      "source": [
        "SO,most of them are workng as a craft repair,Exec-managerial and Prof-speciality."
      ],
      "metadata": {
        "id": "RsTVxgOXf2RE"
      }
    },
    {
      "cell_type": "code",
      "source": [
        "df.columns"
      ],
      "metadata": {
        "colab": {
          "base_uri": "https://localhost:8080/"
        },
        "id": "qz9weOCwfRCa",
        "outputId": "ab18d972-f7fc-4bb0-930d-06a480f4928b"
      },
      "execution_count": 59,
      "outputs": [
        {
          "output_type": "execute_result",
          "data": {
            "text/plain": [
              "Index(['Age', 'Workclass', 'Fnlwgt', 'Education', 'Education_num',\n",
              "       'Marital_status', 'Occupation', 'Relationship', 'Race', 'Sex',\n",
              "       'Capital_gain', 'Capital_loss', 'Hours_per_week', 'Native_country',\n",
              "       'Income'],\n",
              "      dtype='object')"
            ]
          },
          "metadata": {},
          "execution_count": 59
        }
      ]
    },
    {
      "cell_type": "code",
      "source": [
        "a = sns.factorplot('Workclass', data=df, kind=\"count\", hue='Relationship')\n",
        "a.set_xticklabels(rotation=60)"
      ],
      "metadata": {
        "colab": {
          "base_uri": "https://localhost:8080/",
          "height": 456
        },
        "id": "x21m-6MTgJ1B",
        "outputId": "3c33469d-1939-4f5a-a9fa-98f8400e4084"
      },
      "execution_count": 64,
      "outputs": [
        {
          "output_type": "execute_result",
          "data": {
            "text/plain": [
              "<seaborn.axisgrid.FacetGrid at 0x7f4e34cb8990>"
            ]
          },
          "metadata": {},
          "execution_count": 64
        },
        {
          "output_type": "display_data",
          "data": {
            "image/png": "[encoded data removed]",
            "text/plain": [
              "<Figure size 468.125x360 with 1 Axes>"
            ]
          },
          "metadata": {
            "needs_background": "light"
          }
        }
      ]
    },
    {
      "cell_type": "markdown",
      "source": [
        "So,clearly most people are working in Private sector in which the there are more records on person who is in a relationship as Husband and also 2nd most people who are working in private sector are not-in-family at all. "
      ],
      "metadata": {
        "id": "PbYB_pcbguL6"
      }
    },
    {
      "cell_type": "code",
      "source": [
        "#Since there are objective type columns,so we can use Label encoder method\n",
        "\n",
        "from sklearn.preprocessing import LabelEncoder\n",
        "\n",
        "df['Workclass'] = LabelEncoder().fit_transform(df['Workclass'])\n",
        "df['Education'] = LabelEncoder().fit_transform(df['Education'])\n",
        "df['Marital_status'] = LabelEncoder().fit_transform(df['Marital_status'])\n",
        "df['Occupation'] = LabelEncoder().fit_transform(df['Occupation'])\n",
        "df['Relationship'] = LabelEncoder().fit_transform(df['Relationship'])\n",
        "df['Race'] = LabelEncoder().fit_transform(df['Race'])\n",
        "df['Sex'] = LabelEncoder().fit_transform(df['Sex'])\n",
        "df['Native_country'] = LabelEncoder().fit_transform(df['Native_country'])\n",
        "df['Income'] = LabelEncoder().fit_transform(df['Income'])"
      ],
      "metadata": {
        "id": "XhxbCjBdgOHI"
      },
      "execution_count": 69,
      "outputs": []
    },
    {
      "cell_type": "code",
      "source": [
        "df.head()"
      ],
      "metadata": {
        "colab": {
          "base_uri": "https://localhost:8080/",
          "height": 206
        },
        "id": "zwBseh22iHDH",
        "outputId": "9154a446-cae4-430b-e666-9c9943c6b398"
      },
      "execution_count": 70,
      "outputs": [
        {
          "output_type": "execute_result",
          "data": {
            "text/html": [
              "\n",
              "  <div id=\"df-ac668702-b90d-43a1-94ba-9f0a55a64de4\">\n",
              "    <div class=\"colab-df-container\">\n",
              "      <div>\n",
              "<style scoped>\n",
              "    .dataframe tbody tr th:only-of-type {\n",
              "        vertical-align: middle;\n",
              "    }\n",
              "\n",
              "    .dataframe tbody tr th {\n",
              "        vertical-align: top;\n",
              "    }\n",
              "\n",
              "    .dataframe thead th {\n",
              "        text-align: right;\n",
              "    }\n",
              "</style>\n",
              "<table border=\"1\" class=\"dataframe\">\n",
              "  <thead>\n",
              "    <tr style=\"text-align: right;\">\n",
              "      <th></th>\n",
              "      <th>Age</th>\n",
              "      <th>Workclass</th>\n",
              "      <th>Fnlwgt</th>\n",
              "      <th>Education</th>\n",
              "      <th>Education_num</th>\n",
              "      <th>Marital_status</th>\n",
              "      <th>Occupation</th>\n",
              "      <th>Relationship</th>\n",
              "      <th>Race</th>\n",
              "      <th>Sex</th>\n",
              "      <th>Capital_gain</th>\n",
              "      <th>Capital_loss</th>\n",
              "      <th>Hours_per_week</th>\n",
              "      <th>Native_country</th>\n",
              "      <th>Income</th>\n",
              "    </tr>\n",
              "  </thead>\n",
              "  <tbody>\n",
              "    <tr>\n",
              "      <th>0</th>\n",
              "      <td>50</td>\n",
              "      <td>4</td>\n",
              "      <td>83311</td>\n",
              "      <td>9</td>\n",
              "      <td>13</td>\n",
              "      <td>2</td>\n",
              "      <td>3</td>\n",
              "      <td>0</td>\n",
              "      <td>4</td>\n",
              "      <td>1</td>\n",
              "      <td>0</td>\n",
              "      <td>0</td>\n",
              "      <td>13</td>\n",
              "      <td>38</td>\n",
              "      <td>0</td>\n",
              "    </tr>\n",
              "    <tr>\n",
              "      <th>1</th>\n",
              "      <td>38</td>\n",
              "      <td>2</td>\n",
              "      <td>215646</td>\n",
              "      <td>11</td>\n",
              "      <td>9</td>\n",
              "      <td>0</td>\n",
              "      <td>5</td>\n",
              "      <td>1</td>\n",
              "      <td>4</td>\n",
              "      <td>1</td>\n",
              "      <td>0</td>\n",
              "      <td>0</td>\n",
              "      <td>40</td>\n",
              "      <td>38</td>\n",
              "      <td>0</td>\n",
              "    </tr>\n",
              "    <tr>\n",
              "      <th>2</th>\n",
              "      <td>53</td>\n",
              "      <td>2</td>\n",
              "      <td>234721</td>\n",
              "      <td>1</td>\n",
              "      <td>7</td>\n",
              "      <td>2</td>\n",
              "      <td>5</td>\n",
              "      <td>0</td>\n",
              "      <td>2</td>\n",
              "      <td>1</td>\n",
              "      <td>0</td>\n",
              "      <td>0</td>\n",
              "      <td>40</td>\n",
              "      <td>38</td>\n",
              "      <td>0</td>\n",
              "    </tr>\n",
              "    <tr>\n",
              "      <th>3</th>\n",
              "      <td>28</td>\n",
              "      <td>2</td>\n",
              "      <td>338409</td>\n",
              "      <td>9</td>\n",
              "      <td>13</td>\n",
              "      <td>2</td>\n",
              "      <td>9</td>\n",
              "      <td>5</td>\n",
              "      <td>2</td>\n",
              "      <td>0</td>\n",
              "      <td>0</td>\n",
              "      <td>0</td>\n",
              "      <td>40</td>\n",
              "      <td>4</td>\n",
              "      <td>0</td>\n",
              "    </tr>\n",
              "    <tr>\n",
              "      <th>4</th>\n",
              "      <td>37</td>\n",
              "      <td>2</td>\n",
              "      <td>284582</td>\n",
              "      <td>12</td>\n",
              "      <td>14</td>\n",
              "      <td>2</td>\n",
              "      <td>3</td>\n",
              "      <td>5</td>\n",
              "      <td>4</td>\n",
              "      <td>0</td>\n",
              "      <td>0</td>\n",
              "      <td>0</td>\n",
              "      <td>40</td>\n",
              "      <td>38</td>\n",
              "      <td>0</td>\n",
              "    </tr>\n",
              "  </tbody>\n",
              "</table>\n",
              "</div>\n",
              "      <button class=\"colab-df-convert\" onclick=\"convertToInteractive('df-ac668702-b90d-43a1-94ba-9f0a55a64de4')\"\n",
              "              title=\"Convert this dataframe to an interactive table.\"\n",
              "              style=\"display:none;\">\n",
              "        \n",
              "  <svg xmlns=\"http://www.w3.org/2000/svg\" height=\"24px\"viewBox=\"0 0 24 24\"\n",
              "       width=\"24px\">\n",
              "    <path d=\"M0 0h24v24H0V0z\" fill=\"none\"/>\n",
              "    <path d=\"M18.56 5.44l.94 2.06.94-2.06 2.06-.94-2.06-.94-.94-2.06-.94 2.06-2.06.94zm-11 1L8.5 8.5l.94-2.06 2.06-.94-2.06-.94L8.5 2.5l-.94 2.06-2.06.94zm10 10l.94 2.06.94-2.06 2.06-.94-2.06-.94-.94-2.06-.94 2.06-2.06.94z\"/><path d=\"M17.41 7.96l-1.37-1.37c-.4-.4-.92-.59-1.43-.59-.52 0-1.04.2-1.43.59L10.3 9.45l-7.72 7.72c-.78.78-.78 2.05 0 2.83L4 21.41c.39.39.9.59 1.41.59.51 0 1.02-.2 1.41-.59l7.78-7.78 2.81-2.81c.8-.78.8-2.07 0-2.86zM5.41 20L4 18.59l7.72-7.72 1.47 1.35L5.41 20z\"/>\n",
              "  </svg>\n",
              "      </button>\n",
              "      \n",
              "  <style>\n",
              "    .colab-df-container {\n",
              "      display:flex;\n",
              "      flex-wrap:wrap;\n",
              "      gap: 12px;\n",
              "    }\n",
              "\n",
              "    .colab-df-convert {\n",
              "      background-color: #E8F0FE;\n",
              "      border: none;\n",
              "      border-radius: 50%;\n",
              "      cursor: pointer;\n",
              "      display: none;\n",
              "      fill: #1967D2;\n",
              "      height: 32px;\n",
              "      padding: 0 0 0 0;\n",
              "      width: 32px;\n",
              "    }\n",
              "\n",
              "    .colab-df-convert:hover {\n",
              "      background-color: #E2EBFA;\n",
              "      box-shadow: 0px 1px 2px rgba(60, 64, 67, 0.3), 0px 1px 3px 1px rgba(60, 64, 67, 0.15);\n",
              "      fill: #174EA6;\n",
              "    }\n",
              "\n",
              "    [theme=dark] .colab-df-convert {\n",
              "      background-color: #3B4455;\n",
              "      fill: #D2E3FC;\n",
              "    }\n",
              "\n",
              "    [theme=dark] .colab-df-convert:hover {\n",
              "      background-color: #434B5C;\n",
              "      box-shadow: 0px 1px 3px 1px rgba(0, 0, 0, 0.15);\n",
              "      filter: drop-shadow(0px 1px 2px rgba(0, 0, 0, 0.3));\n",
              "      fill: #FFFFFF;\n",
              "    }\n",
              "  </style>\n",
              "\n",
              "      <script>\n",
              "        const buttonEl =\n",
              "          document.querySelector('#df-ac668702-b90d-43a1-94ba-9f0a55a64de4 button.colab-df-convert');\n",
              "        buttonEl.style.display =\n",
              "          google.colab.kernel.accessAllowed ? 'block' : 'none';\n",
              "\n",
              "        async function convertToInteractive(key) {\n",
              "          const element = document.querySelector('#df-ac668702-b90d-43a1-94ba-9f0a55a64de4');\n",
              "          const dataTable =\n",
              "            await google.colab.kernel.invokeFunction('convertToInteractive',\n",
              "                                                     [key], {});\n",
              "          if (!dataTable) return;\n",
              "\n",
              "          const docLinkHtml = 'Like what you see? Visit the ' +\n",
              "            '<a target=\"_blank\" href=https://colab.research.google.com/notebooks/data_table.ipynb>data table notebook</a>'\n",
              "            + ' to learn more about interactive tables.';\n",
              "          element.innerHTML = '';\n",
              "          dataTable['output_type'] = 'display_data';\n",
              "          await google.colab.output.renderOutput(dataTable, element);\n",
              "          const docLink = document.createElement('div');\n",
              "          docLink.innerHTML = docLinkHtml;\n",
              "          element.appendChild(docLink);\n",
              "        }\n",
              "      </script>\n",
              "    </div>\n",
              "  </div>\n",
              "  "
            ],
            "text/plain": [
              "   Age  Workclass  Fnlwgt  ...  Hours_per_week  Native_country  Income\n",
              "0   50          4   83311  ...              13              38       0\n",
              "1   38          2  215646  ...              40              38       0\n",
              "2   53          2  234721  ...              40              38       0\n",
              "3   28          2  338409  ...              40               4       0\n",
              "4   37          2  284582  ...              40              38       0\n",
              "\n",
              "[5 rows x 15 columns]"
            ]
          },
          "metadata": {},
          "execution_count": 70
        }
      ]
    },
    {
      "cell_type": "markdown",
      "source": [
        "## Correlation"
      ],
      "metadata": {
        "id": "T0nQLum5iNMx"
      }
    },
    {
      "cell_type": "code",
      "source": [
        "df.corr()"
      ],
      "metadata": {
        "colab": {
          "base_uri": "https://localhost:8080/",
          "height": 583
        },
        "id": "q9WLoCLqiJan",
        "outputId": "10aa7a0c-b17e-43c0-d88b-6682f923a3a9"
      },
      "execution_count": 71,
      "outputs": [
        {
          "output_type": "execute_result",
          "data": {
            "text/html": [
              "\n",
              "  <div id=\"df-a28c7b5a-ac3a-47ab-b570-0f5b44237d60\">\n",
              "    <div class=\"colab-df-container\">\n",
              "      <div>\n",
              "<style scoped>\n",
              "    .dataframe tbody tr th:only-of-type {\n",
              "        vertical-align: middle;\n",
              "    }\n",
              "\n",
              "    .dataframe tbody tr th {\n",
              "        vertical-align: top;\n",
              "    }\n",
              "\n",
              "    .dataframe thead th {\n",
              "        text-align: right;\n",
              "    }\n",
              "</style>\n",
              "<table border=\"1\" class=\"dataframe\">\n",
              "  <thead>\n",
              "    <tr style=\"text-align: right;\">\n",
              "      <th></th>\n",
              "      <th>Age</th>\n",
              "      <th>Workclass</th>\n",
              "      <th>Fnlwgt</th>\n",
              "      <th>Education</th>\n",
              "      <th>Education_num</th>\n",
              "      <th>Marital_status</th>\n",
              "      <th>Occupation</th>\n",
              "      <th>Relationship</th>\n",
              "      <th>Race</th>\n",
              "      <th>Sex</th>\n",
              "      <th>Capital_gain</th>\n",
              "      <th>Capital_loss</th>\n",
              "      <th>Hours_per_week</th>\n",
              "      <th>Native_country</th>\n",
              "      <th>Income</th>\n",
              "    </tr>\n",
              "  </thead>\n",
              "  <tbody>\n",
              "    <tr>\n",
              "      <th>Age</th>\n",
              "      <td>1.000000</td>\n",
              "      <td>0.080488</td>\n",
              "      <td>-0.076279</td>\n",
              "      <td>-0.001158</td>\n",
              "      <td>0.043202</td>\n",
              "      <td>-0.276233</td>\n",
              "      <td>-0.005660</td>\n",
              "      <td>-0.246482</td>\n",
              "      <td>0.023857</td>\n",
              "      <td>0.081827</td>\n",
              "      <td>0.080162</td>\n",
              "      <td>0.060141</td>\n",
              "      <td>0.101349</td>\n",
              "      <td>-0.002340</td>\n",
              "      <td>0.242019</td>\n",
              "    </tr>\n",
              "    <tr>\n",
              "      <th>Workclass</th>\n",
              "      <td>0.080488</td>\n",
              "      <td>1.000000</td>\n",
              "      <td>-0.032314</td>\n",
              "      <td>0.017854</td>\n",
              "      <td>0.037668</td>\n",
              "      <td>-0.034267</td>\n",
              "      <td>0.015768</td>\n",
              "      <td>-0.067378</td>\n",
              "      <td>0.044709</td>\n",
              "      <td>0.074883</td>\n",
              "      <td>0.035330</td>\n",
              "      <td>0.007207</td>\n",
              "      <td>0.050712</td>\n",
              "      <td>0.007556</td>\n",
              "      <td>0.018088</td>\n",
              "    </tr>\n",
              "    <tr>\n",
              "      <th>Fnlwgt</th>\n",
              "      <td>-0.076279</td>\n",
              "      <td>-0.032314</td>\n",
              "      <td>1.000000</td>\n",
              "      <td>-0.027016</td>\n",
              "      <td>-0.045161</td>\n",
              "      <td>0.032154</td>\n",
              "      <td>-0.000075</td>\n",
              "      <td>0.009225</td>\n",
              "      <td>-0.024080</td>\n",
              "      <td>0.025627</td>\n",
              "      <td>0.000425</td>\n",
              "      <td>-0.009763</td>\n",
              "      <td>-0.023037</td>\n",
              "      <td>-0.066495</td>\n",
              "      <td>-0.009012</td>\n",
              "    </tr>\n",
              "    <tr>\n",
              "      <th>Education</th>\n",
              "      <td>-0.001158</td>\n",
              "      <td>0.017854</td>\n",
              "      <td>-0.027016</td>\n",
              "      <td>1.000000</td>\n",
              "      <td>0.345334</td>\n",
              "      <td>-0.040668</td>\n",
              "      <td>-0.038195</td>\n",
              "      <td>-0.012926</td>\n",
              "      <td>0.011338</td>\n",
              "      <td>-0.027959</td>\n",
              "      <td>0.030618</td>\n",
              "      <td>0.015073</td>\n",
              "      <td>0.060439</td>\n",
              "      <td>0.078180</td>\n",
              "      <td>0.079033</td>\n",
              "    </tr>\n",
              "    <tr>\n",
              "      <th>Education_num</th>\n",
              "      <td>0.043202</td>\n",
              "      <td>0.037668</td>\n",
              "      <td>-0.045161</td>\n",
              "      <td>0.345334</td>\n",
              "      <td>1.000000</td>\n",
              "      <td>-0.063292</td>\n",
              "      <td>0.087763</td>\n",
              "      <td>-0.092220</td>\n",
              "      <td>0.033004</td>\n",
              "      <td>0.006023</td>\n",
              "      <td>0.124452</td>\n",
              "      <td>0.079623</td>\n",
              "      <td>0.152848</td>\n",
              "      <td>0.090634</td>\n",
              "      <td>0.335444</td>\n",
              "    </tr>\n",
              "    <tr>\n",
              "      <th>Marital_status</th>\n",
              "      <td>-0.276233</td>\n",
              "      <td>-0.034267</td>\n",
              "      <td>0.032154</td>\n",
              "      <td>-0.040668</td>\n",
              "      <td>-0.063292</td>\n",
              "      <td>1.000000</td>\n",
              "      <td>0.022577</td>\n",
              "      <td>0.178045</td>\n",
              "      <td>-0.068603</td>\n",
              "      <td>-0.119897</td>\n",
              "      <td>-0.042397</td>\n",
              "      <td>-0.035148</td>\n",
              "      <td>-0.188889</td>\n",
              "      <td>-0.025478</td>\n",
              "      <td>-0.193390</td>\n",
              "    </tr>\n",
              "    <tr>\n",
              "      <th>Occupation</th>\n",
              "      <td>-0.005660</td>\n",
              "      <td>0.015768</td>\n",
              "      <td>-0.000075</td>\n",
              "      <td>-0.038195</td>\n",
              "      <td>0.087763</td>\n",
              "      <td>0.022577</td>\n",
              "      <td>1.000000</td>\n",
              "      <td>-0.053721</td>\n",
              "      <td>0.000754</td>\n",
              "      <td>0.062567</td>\n",
              "      <td>0.022159</td>\n",
              "      <td>0.014575</td>\n",
              "      <td>0.018425</td>\n",
              "      <td>-0.003368</td>\n",
              "      <td>0.051450</td>\n",
              "    </tr>\n",
              "    <tr>\n",
              "      <th>Relationship</th>\n",
              "      <td>-0.246482</td>\n",
              "      <td>-0.067378</td>\n",
              "      <td>0.009225</td>\n",
              "      <td>-0.012926</td>\n",
              "      <td>-0.092220</td>\n",
              "      <td>0.178045</td>\n",
              "      <td>-0.053721</td>\n",
              "      <td>1.000000</td>\n",
              "      <td>-0.117113</td>\n",
              "      <td>-0.585030</td>\n",
              "      <td>-0.058284</td>\n",
              "      <td>-0.063603</td>\n",
              "      <td>-0.257749</td>\n",
              "      <td>-0.010939</td>\n",
              "      <td>-0.251033</td>\n",
              "    </tr>\n",
              "    <tr>\n",
              "      <th>Race</th>\n",
              "      <td>0.023857</td>\n",
              "      <td>0.044709</td>\n",
              "      <td>-0.024080</td>\n",
              "      <td>0.011338</td>\n",
              "      <td>0.033004</td>\n",
              "      <td>-0.068603</td>\n",
              "      <td>0.000754</td>\n",
              "      <td>-0.117113</td>\n",
              "      <td>1.000000</td>\n",
              "      <td>0.089421</td>\n",
              "      <td>0.014370</td>\n",
              "      <td>0.023548</td>\n",
              "      <td>0.048550</td>\n",
              "      <td>0.124837</td>\n",
              "      <td>0.071697</td>\n",
              "    </tr>\n",
              "    <tr>\n",
              "      <th>Sex</th>\n",
              "      <td>0.081827</td>\n",
              "      <td>0.074883</td>\n",
              "      <td>0.025627</td>\n",
              "      <td>-0.027959</td>\n",
              "      <td>0.006023</td>\n",
              "      <td>-0.119897</td>\n",
              "      <td>0.062567</td>\n",
              "      <td>-0.585030</td>\n",
              "      <td>0.089421</td>\n",
              "      <td>1.000000</td>\n",
              "      <td>0.048816</td>\n",
              "      <td>0.047014</td>\n",
              "      <td>0.231129</td>\n",
              "      <td>0.000278</td>\n",
              "      <td>0.216684</td>\n",
              "    </tr>\n",
              "    <tr>\n",
              "      <th>Capital_gain</th>\n",
              "      <td>0.080162</td>\n",
              "      <td>0.035330</td>\n",
              "      <td>0.000425</td>\n",
              "      <td>0.030618</td>\n",
              "      <td>0.124452</td>\n",
              "      <td>-0.042397</td>\n",
              "      <td>0.022159</td>\n",
              "      <td>-0.058284</td>\n",
              "      <td>0.014370</td>\n",
              "      <td>0.048816</td>\n",
              "      <td>1.000000</td>\n",
              "      <td>-0.032254</td>\n",
              "      <td>0.080429</td>\n",
              "      <td>0.008482</td>\n",
              "      <td>0.221208</td>\n",
              "    </tr>\n",
              "    <tr>\n",
              "      <th>Capital_loss</th>\n",
              "      <td>0.060141</td>\n",
              "      <td>0.007207</td>\n",
              "      <td>-0.009763</td>\n",
              "      <td>0.015073</td>\n",
              "      <td>0.079623</td>\n",
              "      <td>-0.035148</td>\n",
              "      <td>0.014575</td>\n",
              "      <td>-0.063603</td>\n",
              "      <td>0.023548</td>\n",
              "      <td>0.047014</td>\n",
              "      <td>-0.032254</td>\n",
              "      <td>1.000000</td>\n",
              "      <td>0.052380</td>\n",
              "      <td>0.009316</td>\n",
              "      <td>0.150023</td>\n",
              "    </tr>\n",
              "    <tr>\n",
              "      <th>Hours_per_week</th>\n",
              "      <td>0.101349</td>\n",
              "      <td>0.050712</td>\n",
              "      <td>-0.023037</td>\n",
              "      <td>0.060439</td>\n",
              "      <td>0.152848</td>\n",
              "      <td>-0.188889</td>\n",
              "      <td>0.018425</td>\n",
              "      <td>-0.257749</td>\n",
              "      <td>0.048550</td>\n",
              "      <td>0.231129</td>\n",
              "      <td>0.080429</td>\n",
              "      <td>0.052380</td>\n",
              "      <td>1.000000</td>\n",
              "      <td>0.008628</td>\n",
              "      <td>0.229435</td>\n",
              "    </tr>\n",
              "    <tr>\n",
              "      <th>Native_country</th>\n",
              "      <td>-0.002340</td>\n",
              "      <td>0.007556</td>\n",
              "      <td>-0.066495</td>\n",
              "      <td>0.078180</td>\n",
              "      <td>0.090634</td>\n",
              "      <td>-0.025478</td>\n",
              "      <td>-0.003368</td>\n",
              "      <td>-0.010939</td>\n",
              "      <td>0.124837</td>\n",
              "      <td>0.000278</td>\n",
              "      <td>0.008482</td>\n",
              "      <td>0.009316</td>\n",
              "      <td>0.008628</td>\n",
              "      <td>1.000000</td>\n",
              "      <td>0.023047</td>\n",
              "    </tr>\n",
              "    <tr>\n",
              "      <th>Income</th>\n",
              "      <td>0.242019</td>\n",
              "      <td>0.018088</td>\n",
              "      <td>-0.009012</td>\n",
              "      <td>0.079033</td>\n",
              "      <td>0.335444</td>\n",
              "      <td>-0.193390</td>\n",
              "      <td>0.051450</td>\n",
              "      <td>-0.251033</td>\n",
              "      <td>0.071697</td>\n",
              "      <td>0.216684</td>\n",
              "      <td>0.221208</td>\n",
              "      <td>0.150023</td>\n",
              "      <td>0.229435</td>\n",
              "      <td>0.023047</td>\n",
              "      <td>1.000000</td>\n",
              "    </tr>\n",
              "  </tbody>\n",
              "</table>\n",
              "</div>\n",
              "      <button class=\"colab-df-convert\" onclick=\"convertToInteractive('df-a28c7b5a-ac3a-47ab-b570-0f5b44237d60')\"\n",
              "              title=\"Convert this dataframe to an interactive table.\"\n",
              "              style=\"display:none;\">\n",
              "        \n",
              "  <svg xmlns=\"http://www.w3.org/2000/svg\" height=\"24px\"viewBox=\"0 0 24 24\"\n",
              "       width=\"24px\">\n",
              "    <path d=\"M0 0h24v24H0V0z\" fill=\"none\"/>\n",
              "    <path d=\"M18.56 5.44l.94 2.06.94-2.06 2.06-.94-2.06-.94-.94-2.06-.94 2.06-2.06.94zm-11 1L8.5 8.5l.94-2.06 2.06-.94-2.06-.94L8.5 2.5l-.94 2.06-2.06.94zm10 10l.94 2.06.94-2.06 2.06-.94-2.06-.94-.94-2.06-.94 2.06-2.06.94z\"/><path d=\"M17.41 7.96l-1.37-1.37c-.4-.4-.92-.59-1.43-.59-.52 0-1.04.2-1.43.59L10.3 9.45l-7.72 7.72c-.78.78-.78 2.05 0 2.83L4 21.41c.39.39.9.59 1.41.59.51 0 1.02-.2 1.41-.59l7.78-7.78 2.81-2.81c.8-.78.8-2.07 0-2.86zM5.41 20L4 18.59l7.72-7.72 1.47 1.35L5.41 20z\"/>\n",
              "  </svg>\n",
              "      </button>\n",
              "      \n",
              "  <style>\n",
              "    .colab-df-container {\n",
              "      display:flex;\n",
              "      flex-wrap:wrap;\n",
              "      gap: 12px;\n",
              "    }\n",
              "\n",
              "    .colab-df-convert {\n",
              "      background-color: #E8F0FE;\n",
              "      border: none;\n",
              "      border-radius: 50%;\n",
              "      cursor: pointer;\n",
              "      display: none;\n",
              "      fill: #1967D2;\n",
              "      height: 32px;\n",
              "      padding: 0 0 0 0;\n",
              "      width: 32px;\n",
              "    }\n",
              "\n",
              "    .colab-df-convert:hover {\n",
              "      background-color: #E2EBFA;\n",
              "      box-shadow: 0px 1px 2px rgba(60, 64, 67, 0.3), 0px 1px 3px 1px rgba(60, 64, 67, 0.15);\n",
              "      fill: #174EA6;\n",
              "    }\n",
              "\n",
              "    [theme=dark] .colab-df-convert {\n",
              "      background-color: #3B4455;\n",
              "      fill: #D2E3FC;\n",
              "    }\n",
              "\n",
              "    [theme=dark] .colab-df-convert:hover {\n",
              "      background-color: #434B5C;\n",
              "      box-shadow: 0px 1px 3px 1px rgba(0, 0, 0, 0.15);\n",
              "      filter: drop-shadow(0px 1px 2px rgba(0, 0, 0, 0.3));\n",
              "      fill: #FFFFFF;\n",
              "    }\n",
              "  </style>\n",
              "\n",
              "      <script>\n",
              "        const buttonEl =\n",
              "          document.querySelector('#df-a28c7b5a-ac3a-47ab-b570-0f5b44237d60 button.colab-df-convert');\n",
              "        buttonEl.style.display =\n",
              "          google.colab.kernel.accessAllowed ? 'block' : 'none';\n",
              "\n",
              "        async function convertToInteractive(key) {\n",
              "          const element = document.querySelector('#df-a28c7b5a-ac3a-47ab-b570-0f5b44237d60');\n",
              "          const dataTable =\n",
              "            await google.colab.kernel.invokeFunction('convertToInteractive',\n",
              "                                                     [key], {});\n",
              "          if (!dataTable) return;\n",
              "\n",
              "          const docLinkHtml = 'Like what you see? Visit the ' +\n",
              "            '<a target=\"_blank\" href=https://colab.research.google.com/notebooks/data_table.ipynb>data table notebook</a>'\n",
              "            + ' to learn more about interactive tables.';\n",
              "          element.innerHTML = '';\n",
              "          dataTable['output_type'] = 'display_data';\n",
              "          await google.colab.output.renderOutput(dataTable, element);\n",
              "          const docLink = document.createElement('div');\n",
              "          docLink.innerHTML = docLinkHtml;\n",
              "          element.appendChild(docLink);\n",
              "        }\n",
              "      </script>\n",
              "    </div>\n",
              "  </div>\n",
              "  "
            ],
            "text/plain": [
              "                     Age  Workclass  ...  Native_country    Income\n",
              "Age             1.000000   0.080488  ...       -0.002340  0.242019\n",
              "Workclass       0.080488   1.000000  ...        0.007556  0.018088\n",
              "Fnlwgt         -0.076279  -0.032314  ...       -0.066495 -0.009012\n",
              "Education      -0.001158   0.017854  ...        0.078180  0.079033\n",
              "Education_num   0.043202   0.037668  ...        0.090634  0.335444\n",
              "Marital_status -0.276233  -0.034267  ...       -0.025478 -0.193390\n",
              "Occupation     -0.005660   0.015768  ...       -0.003368  0.051450\n",
              "Relationship   -0.246482  -0.067378  ...       -0.010939 -0.251033\n",
              "Race            0.023857   0.044709  ...        0.124837  0.071697\n",
              "Sex             0.081827   0.074883  ...        0.000278  0.216684\n",
              "Capital_gain    0.080162   0.035330  ...        0.008482  0.221208\n",
              "Capital_loss    0.060141   0.007207  ...        0.009316  0.150023\n",
              "Hours_per_week  0.101349   0.050712  ...        0.008628  0.229435\n",
              "Native_country -0.002340   0.007556  ...        1.000000  0.023047\n",
              "Income          0.242019   0.018088  ...        0.023047  1.000000\n",
              "\n",
              "[15 rows x 15 columns]"
            ]
          },
          "metadata": {},
          "execution_count": 71
        }
      ]
    },
    {
      "cell_type": "code",
      "source": [
        "#with target variable\n",
        "df.corr()['Income'].sort_values()"
      ],
      "metadata": {
        "colab": {
          "base_uri": "https://localhost:8080/"
        },
        "id": "iPaA29R4iQT3",
        "outputId": "debd358f-a629-4e3a-c3fa-55dd2a8a8afe"
      },
      "execution_count": 72,
      "outputs": [
        {
          "output_type": "execute_result",
          "data": {
            "text/plain": [
              "Relationship     -0.251033\n",
              "Marital_status   -0.193390\n",
              "Fnlwgt           -0.009012\n",
              "Workclass         0.018088\n",
              "Native_country    0.023047\n",
              "Occupation        0.051450\n",
              "Race              0.071697\n",
              "Education         0.079033\n",
              "Capital_loss      0.150023\n",
              "Sex               0.216684\n",
              "Capital_gain      0.221208\n",
              "Hours_per_week    0.229435\n",
              "Age               0.242019\n",
              "Education_num     0.335444\n",
              "Income            1.000000\n",
              "Name: Income, dtype: float64"
            ]
          },
          "metadata": {},
          "execution_count": 72
        }
      ]
    },
    {
      "cell_type": "code",
      "source": [
        "#plotting the correlation matrix using heatmap\n",
        "\n",
        "corr_matrix = df.corr()\n",
        "plt.figure(figsize=[20,13])\n",
        "sns.heatmap(corr_matrix,annot=True)\n",
        "plt.title(\"Correlation matrix\")\n",
        "plt.show()"
      ],
      "metadata": {
        "colab": {
          "base_uri": "https://localhost:8080/",
          "height": 842
        },
        "id": "lfUH3T_fiVeW",
        "outputId": "36b4a657-ff1d-4c38-e057-cf8a98a12983"
      },
      "execution_count": 73,
      "outputs": [
        {
          "output_type": "display_data",
          "data": {
            "image/png": "[encoded data removed]",
            "text/plain": [
              "<Figure size 1440x936 with 2 Axes>"
            ]
          },
          "metadata": {
            "needs_background": "light"
          }
        }
      ]
    },
    {
      "cell_type": "markdown",
      "source": [
        "### with this,there are both positive and negativs correlations with target variable\n",
        "#### 1)\"Relationship\" column has highest negative correlation(25%) with \"Income\".\n",
        "#### 2) \"Fnlwgt\" column has least neagtive correlation(<1%) with \"Income\".\n",
        "#### 3) \"Education_num\" has highest postive correlation(34%) with \"Income\"\n",
        "#### 4) \"Workclass\" has least postive correlation(2%) with \"Income\""
      ],
      "metadata": {
        "id": "AC1BRAI7iiOr"
      }
    },
    {
      "cell_type": "markdown",
      "source": [
        "## Checking with outliers"
      ],
      "metadata": {
        "id": "22EUT7DdkGE5"
      }
    },
    {
      "cell_type": "code",
      "source": [
        "df1 = df.iloc[:,:8]\n",
        "df2 = df.iloc[:,8:]"
      ],
      "metadata": {
        "id": "ySTzUinekYBZ"
      },
      "execution_count": 77,
      "outputs": []
    },
    {
      "cell_type": "code",
      "source": [
        "column_list = df1.columns.values\n",
        "n_col = 31\n",
        "n_row = 25\n",
        "plt.figure(figsize = (2*n_col,4*n_col))\n",
        "for i in range(len(column_list)):\n",
        "  plt.subplot(n_row,n_col,i+1)\n",
        "  sns.boxplot(df[column_list[i]],color='orange',orient='h')\n",
        "  plt.tight_layout()"
      ],
      "metadata": {
        "colab": {
          "base_uri": "https://localhost:8080/",
          "height": 377
        },
        "id": "Gv1LldXXiZmu",
        "outputId": "a2c56566-9e37-4914-e765-024c206c3c0a"
      },
      "execution_count": 78,
      "outputs": [
        {
          "output_type": "display_data",
          "data": {
            "image/png": "[encoded data removed]",
            "text/plain": [
              "<Figure size 4464x8928 with 8 Axes>"
            ]
          },
          "metadata": {
            "needs_background": "light"
          }
        }
      ]
    },
    {
      "cell_type": "markdown",
      "source": [
        "So,clearly there are more outliers in \"Fnlwgt\" with few being in other columns like \"Age\",\"Workclass\" and \"Education\""
      ],
      "metadata": {
        "id": "52lKbtT-kpIz"
      }
    },
    {
      "cell_type": "code",
      "source": [
        "column_list = df2.columns.values\n",
        "n_col = 31\n",
        "n_row = 25\n",
        "plt.figure(figsize = (2*n_col,4*n_col))\n",
        "for i in range(len(column_list)):\n",
        "  plt.subplot(n_row,n_col,i+1)\n",
        "  sns.boxplot(df[column_list[i]],color='orange',orient='h')\n",
        "  plt.tight_layout()"
      ],
      "metadata": {
        "colab": {
          "base_uri": "https://localhost:8080/",
          "height": 377
        },
        "id": "11JP-6PckJXP",
        "outputId": "a1fa3a4c-6f3a-43be-a8f8-b3bde832c2c6"
      },
      "execution_count": 79,
      "outputs": [
        {
          "output_type": "display_data",
          "data": {
            "image/png": "[encoded data removed]",
            "text/plain": [
              "<Figure size 4464x8928 with 7 Axes>"
            ]
          },
          "metadata": {
            "needs_background": "light"
          }
        }
      ]
    },
    {
      "cell_type": "markdown",
      "source": [
        "So,there are more number of outliers in \"Native_country\",\"Hours_per_week\",\n",
        "\"capital_loss\",\"capital_gain\" with few being in \"Race\" column."
      ],
      "metadata": {
        "id": "VcAwGsRvk7WA"
      }
    },
    {
      "cell_type": "markdown",
      "source": [
        "## checking with Skewness"
      ],
      "metadata": {
        "id": "NcCqp23OlZop"
      }
    },
    {
      "cell_type": "code",
      "source": [
        "df.skew().sort_values()"
      ],
      "metadata": {
        "colab": {
          "base_uri": "https://localhost:8080/"
        },
        "id": "i2s9d6AXklTI",
        "outputId": "5060b1d2-c1f9-4620-f4a3-b7a66e706cff"
      },
      "execution_count": 80,
      "outputs": [
        {
          "output_type": "execute_result",
          "data": {
            "text/plain": [
              "Native_country    -4.183022\n",
              "Race              -2.506586\n",
              "Education         -0.945155\n",
              "Sex               -0.750833\n",
              "Education_num     -0.302794\n",
              "Marital_status    -0.008625\n",
              "Occupation         0.110330\n",
              "Hours_per_week     0.332373\n",
              "Age                0.528967\n",
              "Relationship       0.820044\n",
              "Workclass          1.154120\n",
              "Income             1.160593\n",
              "Fnlwgt             1.460047\n",
              "Capital_loss       4.524323\n",
              "Capital_gain      11.897934\n",
              "dtype: float64"
            ]
          },
          "metadata": {},
          "execution_count": 80
        }
      ]
    },
    {
      "cell_type": "markdown",
      "source": [
        "By setting up threshold of -1.5 to 1.5.\n",
        "we can remove columns like \"Capital_gain\",\"Capital_loss\",\"Native_country\",\"Race\".Also these columns have more numbers of outliers as well as less correlation with target variable \"Income\""
      ],
      "metadata": {
        "id": "PS8QgnGfl_b4"
      }
    },
    {
      "cell_type": "code",
      "source": [
        "df = df.drop([\"Capital_gain\",\"Capital_loss\",\"Native_country\",\"Race\"],axis=1)\n",
        "df"
      ],
      "metadata": {
        "colab": {
          "base_uri": "https://localhost:8080/",
          "height": 423
        },
        "id": "la9_Wl4FnybI",
        "outputId": "82f65d0f-873d-467f-fe10-e5a2a94e236c"
      },
      "execution_count": 84,
      "outputs": [
        {
          "output_type": "execute_result",
          "data": {
            "text/html": [
              "\n",
              "  <div id=\"df-47a2332e-2c69-4b1c-9d97-e421696522b7\">\n",
              "    <div class=\"colab-df-container\">\n",
              "      <div>\n",
              "<style scoped>\n",
              "    .dataframe tbody tr th:only-of-type {\n",
              "        vertical-align: middle;\n",
              "    }\n",
              "\n",
              "    .dataframe tbody tr th {\n",
              "        vertical-align: top;\n",
              "    }\n",
              "\n",
              "    .dataframe thead th {\n",
              "        text-align: right;\n",
              "    }\n",
              "</style>\n",
              "<table border=\"1\" class=\"dataframe\">\n",
              "  <thead>\n",
              "    <tr style=\"text-align: right;\">\n",
              "      <th></th>\n",
              "      <th>Age</th>\n",
              "      <th>Workclass</th>\n",
              "      <th>Fnlwgt</th>\n",
              "      <th>Education</th>\n",
              "      <th>Education_num</th>\n",
              "      <th>Marital_status</th>\n",
              "      <th>Occupation</th>\n",
              "      <th>Relationship</th>\n",
              "      <th>Sex</th>\n",
              "      <th>Hours_per_week</th>\n",
              "      <th>Income</th>\n",
              "    </tr>\n",
              "  </thead>\n",
              "  <tbody>\n",
              "    <tr>\n",
              "      <th>0</th>\n",
              "      <td>50</td>\n",
              "      <td>4</td>\n",
              "      <td>83311</td>\n",
              "      <td>9</td>\n",
              "      <td>13</td>\n",
              "      <td>2</td>\n",
              "      <td>3</td>\n",
              "      <td>0</td>\n",
              "      <td>1</td>\n",
              "      <td>13</td>\n",
              "      <td>0</td>\n",
              "    </tr>\n",
              "    <tr>\n",
              "      <th>1</th>\n",
              "      <td>38</td>\n",
              "      <td>2</td>\n",
              "      <td>215646</td>\n",
              "      <td>11</td>\n",
              "      <td>9</td>\n",
              "      <td>0</td>\n",
              "      <td>5</td>\n",
              "      <td>1</td>\n",
              "      <td>1</td>\n",
              "      <td>40</td>\n",
              "      <td>0</td>\n",
              "    </tr>\n",
              "    <tr>\n",
              "      <th>2</th>\n",
              "      <td>53</td>\n",
              "      <td>2</td>\n",
              "      <td>234721</td>\n",
              "      <td>1</td>\n",
              "      <td>7</td>\n",
              "      <td>2</td>\n",
              "      <td>5</td>\n",
              "      <td>0</td>\n",
              "      <td>1</td>\n",
              "      <td>40</td>\n",
              "      <td>0</td>\n",
              "    </tr>\n",
              "    <tr>\n",
              "      <th>3</th>\n",
              "      <td>28</td>\n",
              "      <td>2</td>\n",
              "      <td>338409</td>\n",
              "      <td>9</td>\n",
              "      <td>13</td>\n",
              "      <td>2</td>\n",
              "      <td>9</td>\n",
              "      <td>5</td>\n",
              "      <td>0</td>\n",
              "      <td>40</td>\n",
              "      <td>0</td>\n",
              "    </tr>\n",
              "    <tr>\n",
              "      <th>4</th>\n",
              "      <td>37</td>\n",
              "      <td>2</td>\n",
              "      <td>284582</td>\n",
              "      <td>12</td>\n",
              "      <td>14</td>\n",
              "      <td>2</td>\n",
              "      <td>3</td>\n",
              "      <td>5</td>\n",
              "      <td>0</td>\n",
              "      <td>40</td>\n",
              "      <td>0</td>\n",
              "    </tr>\n",
              "    <tr>\n",
              "      <th>...</th>\n",
              "      <td>...</td>\n",
              "      <td>...</td>\n",
              "      <td>...</td>\n",
              "      <td>...</td>\n",
              "      <td>...</td>\n",
              "      <td>...</td>\n",
              "      <td>...</td>\n",
              "      <td>...</td>\n",
              "      <td>...</td>\n",
              "      <td>...</td>\n",
              "      <td>...</td>\n",
              "    </tr>\n",
              "    <tr>\n",
              "      <th>32555</th>\n",
              "      <td>27</td>\n",
              "      <td>2</td>\n",
              "      <td>257302</td>\n",
              "      <td>7</td>\n",
              "      <td>12</td>\n",
              "      <td>2</td>\n",
              "      <td>12</td>\n",
              "      <td>5</td>\n",
              "      <td>0</td>\n",
              "      <td>38</td>\n",
              "      <td>0</td>\n",
              "    </tr>\n",
              "    <tr>\n",
              "      <th>32556</th>\n",
              "      <td>40</td>\n",
              "      <td>2</td>\n",
              "      <td>154374</td>\n",
              "      <td>11</td>\n",
              "      <td>9</td>\n",
              "      <td>2</td>\n",
              "      <td>6</td>\n",
              "      <td>0</td>\n",
              "      <td>1</td>\n",
              "      <td>40</td>\n",
              "      <td>1</td>\n",
              "    </tr>\n",
              "    <tr>\n",
              "      <th>32557</th>\n",
              "      <td>58</td>\n",
              "      <td>2</td>\n",
              "      <td>151910</td>\n",
              "      <td>11</td>\n",
              "      <td>9</td>\n",
              "      <td>6</td>\n",
              "      <td>0</td>\n",
              "      <td>4</td>\n",
              "      <td>0</td>\n",
              "      <td>40</td>\n",
              "      <td>0</td>\n",
              "    </tr>\n",
              "    <tr>\n",
              "      <th>32558</th>\n",
              "      <td>22</td>\n",
              "      <td>2</td>\n",
              "      <td>201490</td>\n",
              "      <td>11</td>\n",
              "      <td>9</td>\n",
              "      <td>4</td>\n",
              "      <td>0</td>\n",
              "      <td>3</td>\n",
              "      <td>1</td>\n",
              "      <td>20</td>\n",
              "      <td>0</td>\n",
              "    </tr>\n",
              "    <tr>\n",
              "      <th>32559</th>\n",
              "      <td>52</td>\n",
              "      <td>3</td>\n",
              "      <td>287927</td>\n",
              "      <td>11</td>\n",
              "      <td>9</td>\n",
              "      <td>2</td>\n",
              "      <td>3</td>\n",
              "      <td>5</td>\n",
              "      <td>0</td>\n",
              "      <td>40</td>\n",
              "      <td>1</td>\n",
              "    </tr>\n",
              "  </tbody>\n",
              "</table>\n",
              "<p>30138 rows × 11 columns</p>\n",
              "</div>\n",
              "      <button class=\"colab-df-convert\" onclick=\"convertToInteractive('df-47a2332e-2c69-4b1c-9d97-e421696522b7')\"\n",
              "              title=\"Convert this dataframe to an interactive table.\"\n",
              "              style=\"display:none;\">\n",
              "        \n",
              "  <svg xmlns=\"http://www.w3.org/2000/svg\" height=\"24px\"viewBox=\"0 0 24 24\"\n",
              "       width=\"24px\">\n",
              "    <path d=\"M0 0h24v24H0V0z\" fill=\"none\"/>\n",
              "    <path d=\"M18.56 5.44l.94 2.06.94-2.06 2.06-.94-2.06-.94-.94-2.06-.94 2.06-2.06.94zm-11 1L8.5 8.5l.94-2.06 2.06-.94-2.06-.94L8.5 2.5l-.94 2.06-2.06.94zm10 10l.94 2.06.94-2.06 2.06-.94-2.06-.94-.94-2.06-.94 2.06-2.06.94z\"/><path d=\"M17.41 7.96l-1.37-1.37c-.4-.4-.92-.59-1.43-.59-.52 0-1.04.2-1.43.59L10.3 9.45l-7.72 7.72c-.78.78-.78 2.05 0 2.83L4 21.41c.39.39.9.59 1.41.59.51 0 1.02-.2 1.41-.59l7.78-7.78 2.81-2.81c.8-.78.8-2.07 0-2.86zM5.41 20L4 18.59l7.72-7.72 1.47 1.35L5.41 20z\"/>\n",
              "  </svg>\n",
              "      </button>\n",
              "      \n",
              "  <style>\n",
              "    .colab-df-container {\n",
              "      display:flex;\n",
              "      flex-wrap:wrap;\n",
              "      gap: 12px;\n",
              "    }\n",
              "\n",
              "    .colab-df-convert {\n",
              "      background-color: #E8F0FE;\n",
              "      border: none;\n",
              "      border-radius: 50%;\n",
              "      cursor: pointer;\n",
              "      display: none;\n",
              "      fill: #1967D2;\n",
              "      height: 32px;\n",
              "      padding: 0 0 0 0;\n",
              "      width: 32px;\n",
              "    }\n",
              "\n",
              "    .colab-df-convert:hover {\n",
              "      background-color: #E2EBFA;\n",
              "      box-shadow: 0px 1px 2px rgba(60, 64, 67, 0.3), 0px 1px 3px 1px rgba(60, 64, 67, 0.15);\n",
              "      fill: #174EA6;\n",
              "    }\n",
              "\n",
              "    [theme=dark] .colab-df-convert {\n",
              "      background-color: #3B4455;\n",
              "      fill: #D2E3FC;\n",
              "    }\n",
              "\n",
              "    [theme=dark] .colab-df-convert:hover {\n",
              "      background-color: #434B5C;\n",
              "      box-shadow: 0px 1px 3px 1px rgba(0, 0, 0, 0.15);\n",
              "      filter: drop-shadow(0px 1px 2px rgba(0, 0, 0, 0.3));\n",
              "      fill: #FFFFFF;\n",
              "    }\n",
              "  </style>\n",
              "\n",
              "      <script>\n",
              "        const buttonEl =\n",
              "          document.querySelector('#df-47a2332e-2c69-4b1c-9d97-e421696522b7 button.colab-df-convert');\n",
              "        buttonEl.style.display =\n",
              "          google.colab.kernel.accessAllowed ? 'block' : 'none';\n",
              "\n",
              "        async function convertToInteractive(key) {\n",
              "          const element = document.querySelector('#df-47a2332e-2c69-4b1c-9d97-e421696522b7');\n",
              "          const dataTable =\n",
              "            await google.colab.kernel.invokeFunction('convertToInteractive',\n",
              "                                                     [key], {});\n",
              "          if (!dataTable) return;\n",
              "\n",
              "          const docLinkHtml = 'Like what you see? Visit the ' +\n",
              "            '<a target=\"_blank\" href=https://colab.research.google.com/notebooks/data_table.ipynb>data table notebook</a>'\n",
              "            + ' to learn more about interactive tables.';\n",
              "          element.innerHTML = '';\n",
              "          dataTable['output_type'] = 'display_data';\n",
              "          await google.colab.output.renderOutput(dataTable, element);\n",
              "          const docLink = document.createElement('div');\n",
              "          docLink.innerHTML = docLinkHtml;\n",
              "          element.appendChild(docLink);\n",
              "        }\n",
              "      </script>\n",
              "    </div>\n",
              "  </div>\n",
              "  "
            ],
            "text/plain": [
              "       Age  Workclass  Fnlwgt  ...  Sex  Hours_per_week  Income\n",
              "0       50          4   83311  ...    1              13       0\n",
              "1       38          2  215646  ...    1              40       0\n",
              "2       53          2  234721  ...    1              40       0\n",
              "3       28          2  338409  ...    0              40       0\n",
              "4       37          2  284582  ...    0              40       0\n",
              "...    ...        ...     ...  ...  ...             ...     ...\n",
              "32555   27          2  257302  ...    0              38       0\n",
              "32556   40          2  154374  ...    1              40       1\n",
              "32557   58          2  151910  ...    0              40       0\n",
              "32558   22          2  201490  ...    1              20       0\n",
              "32559   52          3  287927  ...    0              40       1\n",
              "\n",
              "[30138 rows x 11 columns]"
            ]
          },
          "metadata": {},
          "execution_count": 84
        }
      ]
    },
    {
      "cell_type": "markdown",
      "source": [
        "## Removing the outliers\n"
      ],
      "metadata": {
        "id": "lIIVLMLbnWMg"
      }
    },
    {
      "cell_type": "code",
      "source": [
        "#with z-score technique\n",
        "\n",
        "from scipy.stats import zscore\n",
        "import numpy as np\n",
        "z_n = np.abs(zscore(df))\n",
        "z_n.shape"
      ],
      "metadata": {
        "colab": {
          "base_uri": "https://localhost:8080/"
        },
        "id": "AuwXFl7Jlb4W",
        "outputId": "5ce38858-cd6c-4056-82b2-07bb998ae7e0"
      },
      "execution_count": 85,
      "outputs": [
        {
          "output_type": "execute_result",
          "data": {
            "text/plain": [
              "(30138, 11)"
            ]
          },
          "metadata": {},
          "execution_count": 85
        }
      ]
    },
    {
      "cell_type": "code",
      "source": [
        "threshold = 3\n",
        "\n",
        "df_new = df[(z_n<threshold).all(axis=1)]\n",
        "print(df.shape)\n",
        "print(df_new.shape)\n",
        "\n",
        "#printing the total number of dropped rows\n",
        "print(df.shape[0]-df_new.shape[0])"
      ],
      "metadata": {
        "colab": {
          "base_uri": "https://localhost:8080/"
        },
        "id": "K1PM5xkYnZwV",
        "outputId": "025af5a2-8268-4d4f-85bc-c08d3031f249"
      },
      "execution_count": 86,
      "outputs": [
        {
          "output_type": "stream",
          "name": "stdout",
          "text": [
            "(30138, 11)\n",
            "(29114, 11)\n",
            "1024\n"
          ]
        }
      ]
    },
    {
      "cell_type": "markdown",
      "source": [
        "## calcuating the percentage of data loss"
      ],
      "metadata": {
        "id": "Phwv1dxXnfvF"
      }
    },
    {
      "cell_type": "code",
      "source": [
        "loss_perc = (df.shape[0]-df_new.shape[0])/df.shape[0]*100\n",
        "print(\"data loss percentage:{:.2f}%\".format(loss_perc))"
      ],
      "metadata": {
        "colab": {
          "base_uri": "https://localhost:8080/"
        },
        "id": "lQpVU9WDncW0",
        "outputId": "2d0ffe66-d527-451f-9520-0211ab762e20"
      },
      "execution_count": 87,
      "outputs": [
        {
          "output_type": "stream",
          "name": "stdout",
          "text": [
            "data loss percentage:3.40%\n"
          ]
        }
      ]
    },
    {
      "cell_type": "markdown",
      "source": [
        "there is a 3.40% data loss which is good to proceed for further"
      ],
      "metadata": {
        "id": "Uh8eQRzvodFn"
      }
    },
    {
      "cell_type": "markdown",
      "source": [
        "## Dividing the data into features and vectors"
      ],
      "metadata": {
        "id": "aB-HR7PioiLG"
      }
    },
    {
      "cell_type": "code",
      "source": [
        "y = df_new[[\"Income\"]]\n",
        "x = df_new.drop([\"Income\"],axis=1)"
      ],
      "metadata": {
        "id": "uO-oSCHCnkJU"
      },
      "execution_count": 88,
      "outputs": []
    },
    {
      "cell_type": "markdown",
      "source": [
        "## Checking with multicollinearity"
      ],
      "metadata": {
        "id": "RJxjI9aTootO"
      }
    },
    {
      "cell_type": "code",
      "source": [
        "from statsmodels.stats.outliers_influence import variance_inflation_factor\n",
        "def calc_vif_value(X):\n",
        "\n",
        "    # Calculating VIF\n",
        "    vif = pd.DataFrame()\n",
        "    vif[\"variables\"] = X.columns\n",
        "    vif[\"VIF\"] = [variance_inflation_factor(X.values, i) for i in range(X.shape[1])]\n",
        "\n",
        "    return(vif)"
      ],
      "metadata": {
        "id": "bsgJ22z6omft"
      },
      "execution_count": 89,
      "outputs": []
    },
    {
      "cell_type": "code",
      "source": [
        "calc_vif_value(x)"
      ],
      "metadata": {
        "colab": {
          "base_uri": "https://localhost:8080/",
          "height": 363
        },
        "id": "yUvXqhBBor18",
        "outputId": "8f4be896-7737-4161-9333-b3893d130991"
      },
      "execution_count": 90,
      "outputs": [
        {
          "output_type": "execute_result",
          "data": {
            "text/html": [
              "\n",
              "  <div id=\"df-05930319-7e89-4e8f-8b62-ccdb99e30c9c\">\n",
              "    <div class=\"colab-df-container\">\n",
              "      <div>\n",
              "<style scoped>\n",
              "    .dataframe tbody tr th:only-of-type {\n",
              "        vertical-align: middle;\n",
              "    }\n",
              "\n",
              "    .dataframe tbody tr th {\n",
              "        vertical-align: top;\n",
              "    }\n",
              "\n",
              "    .dataframe thead th {\n",
              "        text-align: right;\n",
              "    }\n",
              "</style>\n",
              "<table border=\"1\" class=\"dataframe\">\n",
              "  <thead>\n",
              "    <tr style=\"text-align: right;\">\n",
              "      <th></th>\n",
              "      <th>variables</th>\n",
              "      <th>VIF</th>\n",
              "    </tr>\n",
              "  </thead>\n",
              "  <tbody>\n",
              "    <tr>\n",
              "      <th>0</th>\n",
              "      <td>Age</td>\n",
              "      <td>8.993327</td>\n",
              "    </tr>\n",
              "    <tr>\n",
              "      <th>1</th>\n",
              "      <td>Workclass</td>\n",
              "      <td>6.077742</td>\n",
              "    </tr>\n",
              "    <tr>\n",
              "      <th>2</th>\n",
              "      <td>Fnlwgt</td>\n",
              "      <td>4.517442</td>\n",
              "    </tr>\n",
              "    <tr>\n",
              "      <th>3</th>\n",
              "      <td>Education</td>\n",
              "      <td>9.247056</td>\n",
              "    </tr>\n",
              "    <tr>\n",
              "      <th>4</th>\n",
              "      <td>Education_num</td>\n",
              "      <td>18.671274</td>\n",
              "    </tr>\n",
              "    <tr>\n",
              "      <th>5</th>\n",
              "      <td>Marital_status</td>\n",
              "      <td>3.823284</td>\n",
              "    </tr>\n",
              "    <tr>\n",
              "      <th>6</th>\n",
              "      <td>Occupation</td>\n",
              "      <td>3.169309</td>\n",
              "    </tr>\n",
              "    <tr>\n",
              "      <th>7</th>\n",
              "      <td>Relationship</td>\n",
              "      <td>2.441422</td>\n",
              "    </tr>\n",
              "    <tr>\n",
              "      <th>8</th>\n",
              "      <td>Sex</td>\n",
              "      <td>4.400155</td>\n",
              "    </tr>\n",
              "    <tr>\n",
              "      <th>9</th>\n",
              "      <td>Hours_per_week</td>\n",
              "      <td>14.324831</td>\n",
              "    </tr>\n",
              "  </tbody>\n",
              "</table>\n",
              "</div>\n",
              "      <button class=\"colab-df-convert\" onclick=\"convertToInteractive('df-05930319-7e89-4e8f-8b62-ccdb99e30c9c')\"\n",
              "              title=\"Convert this dataframe to an interactive table.\"\n",
              "              style=\"display:none;\">\n",
              "        \n",
              "  <svg xmlns=\"http://www.w3.org/2000/svg\" height=\"24px\"viewBox=\"0 0 24 24\"\n",
              "       width=\"24px\">\n",
              "    <path d=\"M0 0h24v24H0V0z\" fill=\"none\"/>\n",
              "    <path d=\"M18.56 5.44l.94 2.06.94-2.06 2.06-.94-2.06-.94-.94-2.06-.94 2.06-2.06.94zm-11 1L8.5 8.5l.94-2.06 2.06-.94-2.06-.94L8.5 2.5l-.94 2.06-2.06.94zm10 10l.94 2.06.94-2.06 2.06-.94-2.06-.94-.94-2.06-.94 2.06-2.06.94z\"/><path d=\"M17.41 7.96l-1.37-1.37c-.4-.4-.92-.59-1.43-.59-.52 0-1.04.2-1.43.59L10.3 9.45l-7.72 7.72c-.78.78-.78 2.05 0 2.83L4 21.41c.39.39.9.59 1.41.59.51 0 1.02-.2 1.41-.59l7.78-7.78 2.81-2.81c.8-.78.8-2.07 0-2.86zM5.41 20L4 18.59l7.72-7.72 1.47 1.35L5.41 20z\"/>\n",
              "  </svg>\n",
              "      </button>\n",
              "      \n",
              "  <style>\n",
              "    .colab-df-container {\n",
              "      display:flex;\n",
              "      flex-wrap:wrap;\n",
              "      gap: 12px;\n",
              "    }\n",
              "\n",
              "    .colab-df-convert {\n",
              "      background-color: #E8F0FE;\n",
              "      border: none;\n",
              "      border-radius: 50%;\n",
              "      cursor: pointer;\n",
              "      display: none;\n",
              "      fill: #1967D2;\n",
              "      height: 32px;\n",
              "      padding: 0 0 0 0;\n",
              "      width: 32px;\n",
              "    }\n",
              "\n",
              "    .colab-df-convert:hover {\n",
              "      background-color: #E2EBFA;\n",
              "      box-shadow: 0px 1px 2px rgba(60, 64, 67, 0.3), 0px 1px 3px 1px rgba(60, 64, 67, 0.15);\n",
              "      fill: #174EA6;\n",
              "    }\n",
              "\n",
              "    [theme=dark] .colab-df-convert {\n",
              "      background-color: #3B4455;\n",
              "      fill: #D2E3FC;\n",
              "    }\n",
              "\n",
              "    [theme=dark] .colab-df-convert:hover {\n",
              "      background-color: #434B5C;\n",
              "      box-shadow: 0px 1px 3px 1px rgba(0, 0, 0, 0.15);\n",
              "      filter: drop-shadow(0px 1px 2px rgba(0, 0, 0, 0.3));\n",
              "      fill: #FFFFFF;\n",
              "    }\n",
              "  </style>\n",
              "\n",
              "      <script>\n",
              "        const buttonEl =\n",
              "          document.querySelector('#df-05930319-7e89-4e8f-8b62-ccdb99e30c9c button.colab-df-convert');\n",
              "        buttonEl.style.display =\n",
              "          google.colab.kernel.accessAllowed ? 'block' : 'none';\n",
              "\n",
              "        async function convertToInteractive(key) {\n",
              "          const element = document.querySelector('#df-05930319-7e89-4e8f-8b62-ccdb99e30c9c');\n",
              "          const dataTable =\n",
              "            await google.colab.kernel.invokeFunction('convertToInteractive',\n",
              "                                                     [key], {});\n",
              "          if (!dataTable) return;\n",
              "\n",
              "          const docLinkHtml = 'Like what you see? Visit the ' +\n",
              "            '<a target=\"_blank\" href=https://colab.research.google.com/notebooks/data_table.ipynb>data table notebook</a>'\n",
              "            + ' to learn more about interactive tables.';\n",
              "          element.innerHTML = '';\n",
              "          dataTable['output_type'] = 'display_data';\n",
              "          await google.colab.output.renderOutput(dataTable, element);\n",
              "          const docLink = document.createElement('div');\n",
              "          docLink.innerHTML = docLinkHtml;\n",
              "          element.appendChild(docLink);\n",
              "        }\n",
              "      </script>\n",
              "    </div>\n",
              "  </div>\n",
              "  "
            ],
            "text/plain": [
              "        variables        VIF\n",
              "0             Age   8.993327\n",
              "1       Workclass   6.077742\n",
              "2          Fnlwgt   4.517442\n",
              "3       Education   9.247056\n",
              "4   Education_num  18.671274\n",
              "5  Marital_status   3.823284\n",
              "6      Occupation   3.169309\n",
              "7    Relationship   2.441422\n",
              "8             Sex   4.400155\n",
              "9  Hours_per_week  14.324831"
            ]
          },
          "metadata": {},
          "execution_count": 90
        }
      ]
    },
    {
      "cell_type": "markdown",
      "source": [
        "## Reducing the multicollinearity"
      ],
      "metadata": {
        "id": "laJH6D0AoxC3"
      }
    },
    {
      "cell_type": "code",
      "source": [
        "x[\"Education_num_Hours_per_week\"] = df.apply(lambda x_1: x_1['Education_num'] - x_1['Hours_per_week'],axis=1)"
      ],
      "metadata": {
        "id": "TxZUqJE7otqk"
      },
      "execution_count": 91,
      "outputs": []
    },
    {
      "cell_type": "code",
      "source": [
        "x= x.drop([\"Education_num\",\"Hours_per_week\"],axis=1)"
      ],
      "metadata": {
        "id": "KLZK-5n5pD_l"
      },
      "execution_count": 92,
      "outputs": []
    },
    {
      "cell_type": "code",
      "source": [
        "calc_vif_value(x)"
      ],
      "metadata": {
        "colab": {
          "base_uri": "https://localhost:8080/",
          "height": 331
        },
        "id": "0vS7hdeUpI-7",
        "outputId": "01c6896c-14fd-4798-e8af-4ba4e01e5af9"
      },
      "execution_count": 93,
      "outputs": [
        {
          "output_type": "execute_result",
          "data": {
            "text/html": [
              "\n",
              "  <div id=\"df-befc96cb-5a15-4266-ae96-7658b8364eaa\">\n",
              "    <div class=\"colab-df-container\">\n",
              "      <div>\n",
              "<style scoped>\n",
              "    .dataframe tbody tr th:only-of-type {\n",
              "        vertical-align: middle;\n",
              "    }\n",
              "\n",
              "    .dataframe tbody tr th {\n",
              "        vertical-align: top;\n",
              "    }\n",
              "\n",
              "    .dataframe thead th {\n",
              "        text-align: right;\n",
              "    }\n",
              "</style>\n",
              "<table border=\"1\" class=\"dataframe\">\n",
              "  <thead>\n",
              "    <tr style=\"text-align: right;\">\n",
              "      <th></th>\n",
              "      <th>variables</th>\n",
              "      <th>VIF</th>\n",
              "    </tr>\n",
              "  </thead>\n",
              "  <tbody>\n",
              "    <tr>\n",
              "      <th>0</th>\n",
              "      <td>Age</td>\n",
              "      <td>8.198065</td>\n",
              "    </tr>\n",
              "    <tr>\n",
              "      <th>1</th>\n",
              "      <td>Workclass</td>\n",
              "      <td>5.942534</td>\n",
              "    </tr>\n",
              "    <tr>\n",
              "      <th>2</th>\n",
              "      <td>Fnlwgt</td>\n",
              "      <td>4.461317</td>\n",
              "    </tr>\n",
              "    <tr>\n",
              "      <th>3</th>\n",
              "      <td>Education</td>\n",
              "      <td>7.125486</td>\n",
              "    </tr>\n",
              "    <tr>\n",
              "      <th>4</th>\n",
              "      <td>Marital_status</td>\n",
              "      <td>3.723096</td>\n",
              "    </tr>\n",
              "    <tr>\n",
              "      <th>5</th>\n",
              "      <td>Occupation</td>\n",
              "      <td>3.055909</td>\n",
              "    </tr>\n",
              "    <tr>\n",
              "      <th>6</th>\n",
              "      <td>Relationship</td>\n",
              "      <td>2.411769</td>\n",
              "    </tr>\n",
              "    <tr>\n",
              "      <th>7</th>\n",
              "      <td>Sex</td>\n",
              "      <td>4.352991</td>\n",
              "    </tr>\n",
              "    <tr>\n",
              "      <th>8</th>\n",
              "      <td>Education_num_Hours_per_week</td>\n",
              "      <td>8.314470</td>\n",
              "    </tr>\n",
              "  </tbody>\n",
              "</table>\n",
              "</div>\n",
              "      <button class=\"colab-df-convert\" onclick=\"convertToInteractive('df-befc96cb-5a15-4266-ae96-7658b8364eaa')\"\n",
              "              title=\"Convert this dataframe to an interactive table.\"\n",
              "              style=\"display:none;\">\n",
              "        \n",
              "  <svg xmlns=\"http://www.w3.org/2000/svg\" height=\"24px\"viewBox=\"0 0 24 24\"\n",
              "       width=\"24px\">\n",
              "    <path d=\"M0 0h24v24H0V0z\" fill=\"none\"/>\n",
              "    <path d=\"M18.56 5.44l.94 2.06.94-2.06 2.06-.94-2.06-.94-.94-2.06-.94 2.06-2.06.94zm-11 1L8.5 8.5l.94-2.06 2.06-.94-2.06-.94L8.5 2.5l-.94 2.06-2.06.94zm10 10l.94 2.06.94-2.06 2.06-.94-2.06-.94-.94-2.06-.94 2.06-2.06.94z\"/><path d=\"M17.41 7.96l-1.37-1.37c-.4-.4-.92-.59-1.43-.59-.52 0-1.04.2-1.43.59L10.3 9.45l-7.72 7.72c-.78.78-.78 2.05 0 2.83L4 21.41c.39.39.9.59 1.41.59.51 0 1.02-.2 1.41-.59l7.78-7.78 2.81-2.81c.8-.78.8-2.07 0-2.86zM5.41 20L4 18.59l7.72-7.72 1.47 1.35L5.41 20z\"/>\n",
              "  </svg>\n",
              "      </button>\n",
              "      \n",
              "  <style>\n",
              "    .colab-df-container {\n",
              "      display:flex;\n",
              "      flex-wrap:wrap;\n",
              "      gap: 12px;\n",
              "    }\n",
              "\n",
              "    .colab-df-convert {\n",
              "      background-color: #E8F0FE;\n",
              "      border: none;\n",
              "      border-radius: 50%;\n",
              "      cursor: pointer;\n",
              "      display: none;\n",
              "      fill: #1967D2;\n",
              "      height: 32px;\n",
              "      padding: 0 0 0 0;\n",
              "      width: 32px;\n",
              "    }\n",
              "\n",
              "    .colab-df-convert:hover {\n",
              "      background-color: #E2EBFA;\n",
              "      box-shadow: 0px 1px 2px rgba(60, 64, 67, 0.3), 0px 1px 3px 1px rgba(60, 64, 67, 0.15);\n",
              "      fill: #174EA6;\n",
              "    }\n",
              "\n",
              "    [theme=dark] .colab-df-convert {\n",
              "      background-color: #3B4455;\n",
              "      fill: #D2E3FC;\n",
              "    }\n",
              "\n",
              "    [theme=dark] .colab-df-convert:hover {\n",
              "      background-color: #434B5C;\n",
              "      box-shadow: 0px 1px 3px 1px rgba(0, 0, 0, 0.15);\n",
              "      filter: drop-shadow(0px 1px 2px rgba(0, 0, 0, 0.3));\n",
              "      fill: #FFFFFF;\n",
              "    }\n",
              "  </style>\n",
              "\n",
              "      <script>\n",
              "        const buttonEl =\n",
              "          document.querySelector('#df-befc96cb-5a15-4266-ae96-7658b8364eaa button.colab-df-convert');\n",
              "        buttonEl.style.display =\n",
              "          google.colab.kernel.accessAllowed ? 'block' : 'none';\n",
              "\n",
              "        async function convertToInteractive(key) {\n",
              "          const element = document.querySelector('#df-befc96cb-5a15-4266-ae96-7658b8364eaa');\n",
              "          const dataTable =\n",
              "            await google.colab.kernel.invokeFunction('convertToInteractive',\n",
              "                                                     [key], {});\n",
              "          if (!dataTable) return;\n",
              "\n",
              "          const docLinkHtml = 'Like what you see? Visit the ' +\n",
              "            '<a target=\"_blank\" href=https://colab.research.google.com/notebooks/data_table.ipynb>data table notebook</a>'\n",
              "            + ' to learn more about interactive tables.';\n",
              "          element.innerHTML = '';\n",
              "          dataTable['output_type'] = 'display_data';\n",
              "          await google.colab.output.renderOutput(dataTable, element);\n",
              "          const docLink = document.createElement('div');\n",
              "          docLink.innerHTML = docLinkHtml;\n",
              "          element.appendChild(docLink);\n",
              "        }\n",
              "      </script>\n",
              "    </div>\n",
              "  </div>\n",
              "  "
            ],
            "text/plain": [
              "                      variables       VIF\n",
              "0                           Age  8.198065\n",
              "1                     Workclass  5.942534\n",
              "2                        Fnlwgt  4.461317\n",
              "3                     Education  7.125486\n",
              "4                Marital_status  3.723096\n",
              "5                    Occupation  3.055909\n",
              "6                  Relationship  2.411769\n",
              "7                           Sex  4.352991\n",
              "8  Education_num_Hours_per_week  8.314470"
            ]
          },
          "metadata": {},
          "execution_count": 93
        }
      ]
    },
    {
      "cell_type": "markdown",
      "source": [
        "Now,its much better with the previous values"
      ],
      "metadata": {
        "id": "MBOO_U7GpS6g"
      }
    },
    {
      "cell_type": "markdown",
      "source": [
        "## Transforming data to eliminate skewness"
      ],
      "metadata": {
        "id": "J54EEuczpViI"
      }
    },
    {
      "cell_type": "code",
      "source": [
        "from sklearn.preprocessing import power_transform\n",
        "x = power_transform(x)\n",
        "x[:5]"
      ],
      "metadata": {
        "colab": {
          "base_uri": "https://localhost:8080/"
        },
        "id": "xag6ryDdpLG8",
        "outputId": "b631d7d2-3b27-4492-ac1f-39a1a6eae1cd"
      },
      "execution_count": 94,
      "outputs": [
        {
          "output_type": "execute_result",
          "data": {
            "text/plain": [
              "array([[ 0.94580759,  1.77774497, -1.11431136, -0.50536833, -0.36060145,\n",
              "        -0.63130138, -1.08371522,  0.69622295,  2.59863981],\n",
              "       [ 0.10548425, -0.12557493,  0.42729606,  0.0733318 , -1.7659107 ,\n",
              "        -0.10264814,  0.16064634,  0.69622295, -0.02781943],\n",
              "       [ 1.13235323, -0.12557493,  0.6073857 , -2.10916765, -0.36060145,\n",
              "        -0.10264814, -1.08371522,  0.69622295, -0.22088726],\n",
              "       [-0.7585493 , -0.12557493,  1.48743433, -0.50536833, -0.36060145,\n",
              "         0.78370144,  1.55017992, -1.4363215 ,  0.35284478],\n",
              "       [ 0.02710889, -0.12557493,  1.04888382,  0.38475417, -0.36060145,\n",
              "        -0.63130138,  1.55017992, -1.4363215 ,  0.44679357]])"
            ]
          },
          "metadata": {},
          "execution_count": 94
        }
      ]
    },
    {
      "cell_type": "code",
      "source": [
        "x_n1 = pd.DataFrame(x) #to check with skewness again\n",
        "x_n1.skew()"
      ],
      "metadata": {
        "colab": {
          "base_uri": "https://localhost:8080/"
        },
        "id": "AXQetFuOpYAV",
        "outputId": "bb57b900-1378-4a97-bfc9-138230a8bca3"
      },
      "execution_count": 96,
      "outputs": [
        {
          "output_type": "execute_result",
          "data": {
            "text/plain": [
              "0   -0.022980\n",
              "1    0.122925\n",
              "2   -0.035077\n",
              "3   -0.287058\n",
              "4   -0.118544\n",
              "5   -0.206020\n",
              "6    0.135101\n",
              "7   -0.740137\n",
              "8   -0.072180\n",
              "dtype: float64"
            ]
          },
          "metadata": {},
          "execution_count": 96
        }
      ]
    },
    {
      "cell_type": "markdown",
      "source": [
        "Its much better with skewness values compared to previous values"
      ],
      "metadata": {
        "id": "dgRsJp96pkCf"
      }
    },
    {
      "cell_type": "markdown",
      "source": [
        "## Selecting a best random state"
      ],
      "metadata": {
        "id": "suSHRZsNptwf"
      }
    },
    {
      "cell_type": "code",
      "source": [
        "#importing a necessary libraries\n",
        "from sklearn.linear_model import LogisticRegression\n",
        "from sklearn.metrics import accuracy_score\n",
        "from sklearn.metrics import confusion_matrix,classification_report\n",
        "from sklearn.model_selection import train_test_split\n",
        "\n",
        "accu_score = 0\n",
        "maxRS = 0 #best random state value for max accuracy_score\n",
        "for i in range(1,200):\n",
        "  x_train,x_test,y_train,y_test = train_test_split(x,y,test_size =.20,random_state = i)\n",
        "  LR = LogisticRegression()\n",
        "  LR.fit(x_train,y_train)\n",
        "  predic = LR.predict(x_test)\n",
        "  acc = accuracy_score(y_test,predic)\n",
        "  if acc > accu_score:\n",
        "    accu_score = acc\n",
        "    maxRS = i\n",
        "print(\"Best accuracy_score is \",accu_score,\" on Random state \",maxRS)"
      ],
      "metadata": {
        "colab": {
          "base_uri": "https://localhost:8080/"
        },
        "id": "wr9Xq4UmpckU",
        "outputId": "986856a7-11a3-4ac9-dadc-fa09e93b70ec"
      },
      "execution_count": 99,
      "outputs": [
        {
          "output_type": "stream",
          "name": "stdout",
          "text": [
            "Best accuracy_score is  0.7741713893182208  on Random state  85\n"
          ]
        }
      ]
    },
    {
      "cell_type": "code",
      "source": [
        "x_train,x_test,y_train,y_test = train_test_split(x,y,test_size =.20,random_state = 85)"
      ],
      "metadata": {
        "id": "6vKZtTjopxRb"
      },
      "execution_count": 100,
      "outputs": []
    },
    {
      "cell_type": "code",
      "source": [
        "print(x_train.shape,y_train.shape)"
      ],
      "metadata": {
        "colab": {
          "base_uri": "https://localhost:8080/"
        },
        "id": "23v4tQ9wqrou",
        "outputId": "87df7fc2-0daa-4df1-f840-d508ed8c11bc"
      },
      "execution_count": 101,
      "outputs": [
        {
          "output_type": "stream",
          "name": "stdout",
          "text": [
            "(23291, 9) (23291, 1)\n"
          ]
        }
      ]
    },
    {
      "cell_type": "code",
      "source": [
        "print(x_test.shape,y_test.shape)"
      ],
      "metadata": {
        "colab": {
          "base_uri": "https://localhost:8080/"
        },
        "id": "Cgf8L2ipqtpX",
        "outputId": "f55c043e-10f2-4a21-8ab2-e4e5575c0eb8"
      },
      "execution_count": 102,
      "outputs": [
        {
          "output_type": "stream",
          "name": "stdout",
          "text": [
            "(5823, 9) (5823, 1)\n"
          ]
        }
      ]
    },
    {
      "cell_type": "code",
      "source": [
        "# To predict the Income,we can consider Logistic regressiom model\n",
        "LR = LogisticRegression()\n",
        "LR.fit(x_train,y_train)\n",
        "predic_1 = LR.predict(x_test)\n",
        "print(\"accuracy_score is {:0.3f}\".format(accuracy_score(y_test,predic_1)))\n",
        "\n",
        "#Since the class imbalance exists so, we can use F1-score as evaluation metrics\n",
        "from sklearn.metrics import f1_score\n",
        "print(\"f1_score is {:0.3f}\".format(f1_score(y_test,predic_1)))\n",
        "\n",
        "#confusion matrix and classification report\n",
        "\n",
        "print(confusion_matrix(y_test,predic_1))\n",
        "print(classification_report(y_test,predic_1))"
      ],
      "metadata": {
        "colab": {
          "base_uri": "https://localhost:8080/"
        },
        "id": "CNgHUKOsqw_j",
        "outputId": "daeab4c8-59bd-4204-d083-65b5aafdc4e9"
      },
      "execution_count": 103,
      "outputs": [
        {
          "output_type": "stream",
          "name": "stdout",
          "text": [
            "accuracy_score is 0.774\n",
            "f1_score is 0.360\n",
            "[[4138  260]\n",
            " [1055  370]]\n",
            "              precision    recall  f1-score   support\n",
            "\n",
            "           0       0.80      0.94      0.86      4398\n",
            "           1       0.59      0.26      0.36      1425\n",
            "\n",
            "    accuracy                           0.77      5823\n",
            "   macro avg       0.69      0.60      0.61      5823\n",
            "weighted avg       0.75      0.77      0.74      5823\n",
            "\n"
          ]
        }
      ]
    },
    {
      "cell_type": "code",
      "source": [
        "#using DecisionTree classifier\n",
        "from sklearn.tree import DecisionTreeClassifier\n",
        "\n",
        "DT = DecisionTreeClassifier()\n",
        "DT.fit(x_train,y_train)\n",
        "predic_2 = DT.predict(x_test)\n",
        "print(\"accuracy_score is {:0.3f}\".format(accuracy_score(y_test,predic_2)))\n",
        "\n",
        "#Since the class imbalance exists so, we can use F1-score as evaluation metrics\n",
        "from sklearn.metrics import f1_score\n",
        "print(\"f1_score is {:0.3f}\".format(f1_score(y_test,predic_2)))\n",
        "\n",
        "#confusion matrix and classification report\n",
        "\n",
        "print(confusion_matrix(y_test,predic_2))\n",
        "print(classification_report(y_test,predic_2))"
      ],
      "metadata": {
        "colab": {
          "base_uri": "https://localhost:8080/"
        },
        "id": "y-fkTebqq9Jc",
        "outputId": "2d98e3b8-bc38-4d18-fff9-32d65f503bcc"
      },
      "execution_count": 104,
      "outputs": [
        {
          "output_type": "stream",
          "name": "stdout",
          "text": [
            "accuracy_score is 0.777\n",
            "f1_score is 0.553\n",
            "[[3721  677]\n",
            " [ 622  803]]\n",
            "              precision    recall  f1-score   support\n",
            "\n",
            "           0       0.86      0.85      0.85      4398\n",
            "           1       0.54      0.56      0.55      1425\n",
            "\n",
            "    accuracy                           0.78      5823\n",
            "   macro avg       0.70      0.70      0.70      5823\n",
            "weighted avg       0.78      0.78      0.78      5823\n",
            "\n"
          ]
        }
      ]
    },
    {
      "cell_type": "code",
      "source": [
        "#Using KNN Classifier\n",
        "from sklearn.neighbors import KNeighborsClassifier\n",
        "\n",
        "KN = KNeighborsClassifier()\n",
        "KN.fit(x_train,y_train)\n",
        "predic_3 = KN.predict(x_test)\n",
        "print(\"accuracy_score is {:0.3f}\".format(accuracy_score(y_test,predic_3)))\n",
        "\n",
        "#Since the class imbalance exists so, we can use F1-score as evaluation metrics\n",
        "from sklearn.metrics import f1_score\n",
        "print(\"f1_score is {:0.3f}\".format(f1_score(y_test,predic_3)))\n",
        "\n",
        "#confusion matrix and classification report\n",
        "\n",
        "print(confusion_matrix(y_test,predic_3))\n",
        "print(classification_report(y_test,predic_3))"
      ],
      "metadata": {
        "colab": {
          "base_uri": "https://localhost:8080/"
        },
        "id": "B-Jd5i13rB_C",
        "outputId": "77f909e7-0042-4c31-c6f4-fe9b4941f69b"
      },
      "execution_count": 105,
      "outputs": [
        {
          "output_type": "stream",
          "name": "stdout",
          "text": [
            "accuracy_score is 0.801\n",
            "f1_score is 0.573\n",
            "[[3891  507]\n",
            " [ 649  776]]\n",
            "              precision    recall  f1-score   support\n",
            "\n",
            "           0       0.86      0.88      0.87      4398\n",
            "           1       0.60      0.54      0.57      1425\n",
            "\n",
            "    accuracy                           0.80      5823\n",
            "   macro avg       0.73      0.71      0.72      5823\n",
            "weighted avg       0.80      0.80      0.80      5823\n",
            "\n"
          ]
        }
      ]
    },
    {
      "cell_type": "code",
      "source": [
        "#Using Random forest Classifer\n",
        "from sklearn.ensemble import RandomForestClassifier\n",
        "\n",
        "RF = RandomForestClassifier()\n",
        "RF.fit(x_train,y_train)\n",
        "predic_4 = RF.predict(x_test)\n",
        "print(\"accuracy_score is {:0.3f}\".format(accuracy_score(y_test,predic_4)))\n",
        "\n",
        "#Since the class imbalance exists so, we can use F1-score as evaluation metrics\n",
        "from sklearn.metrics import f1_score\n",
        "print(\"f1_score is {:0.3f}\".format(f1_score(y_test,predic_4)))\n",
        "\n",
        "#confusion matrix and classification report\n",
        "\n",
        "print(confusion_matrix(y_test,predic_4))\n",
        "print(classification_report(y_test,predic_4))"
      ],
      "metadata": {
        "colab": {
          "base_uri": "https://localhost:8080/"
        },
        "id": "3AezVvXzrG56",
        "outputId": "83236bc3-5947-41da-ec65-3d506c07b206"
      },
      "execution_count": 106,
      "outputs": [
        {
          "output_type": "stream",
          "name": "stdout",
          "text": [
            "accuracy_score is 0.822\n",
            "f1_score is 0.606\n",
            "[[3989  409]\n",
            " [ 627  798]]\n",
            "              precision    recall  f1-score   support\n",
            "\n",
            "           0       0.86      0.91      0.89      4398\n",
            "           1       0.66      0.56      0.61      1425\n",
            "\n",
            "    accuracy                           0.82      5823\n",
            "   macro avg       0.76      0.73      0.75      5823\n",
            "weighted avg       0.81      0.82      0.82      5823\n",
            "\n"
          ]
        }
      ]
    },
    {
      "cell_type": "markdown",
      "source": [
        "f1_score and accuracy is high for RandomForestClassifier model"
      ],
      "metadata": {
        "id": "l7JPK81HrUAX"
      }
    },
    {
      "cell_type": "markdown",
      "source": [
        "## Cross Validation to check with overfitting"
      ],
      "metadata": {
        "id": "CKatgKE3raXn"
      }
    },
    {
      "cell_type": "code",
      "source": [
        "from sklearn.model_selection import cross_val_score\n",
        "\n",
        "#for Logistic regression model\n",
        "L_cr = cross_val_score(LR,x,y,cv=5)\n",
        "print(\"cross validation for Logistics regression model : \",L_cr.mean())"
      ],
      "metadata": {
        "colab": {
          "base_uri": "https://localhost:8080/"
        },
        "id": "G6hurDZPrJ3j",
        "outputId": "feca75a8-d109-4d47-e8e7-d4842f2a887e"
      },
      "execution_count": 107,
      "outputs": [
        {
          "output_type": "stream",
          "name": "stdout",
          "text": [
            "cross validation for Logistics regression model :  0.7618671512705071\n"
          ]
        }
      ]
    },
    {
      "cell_type": "code",
      "source": [
        "L_cr = cross_val_score(KN,x,y,cv=5)\n",
        "print(\"cross validation for KNN classifier model : \",L_cr.mean())"
      ],
      "metadata": {
        "colab": {
          "base_uri": "https://localhost:8080/"
        },
        "id": "UVb7LmSLrfR8",
        "outputId": "7d5b7570-45cc-48ec-89a8-fe22911a7223"
      },
      "execution_count": 108,
      "outputs": [
        {
          "output_type": "stream",
          "name": "stdout",
          "text": [
            "cross validation for KNN classifier model :  0.799168744892926\n"
          ]
        }
      ]
    },
    {
      "cell_type": "code",
      "source": [
        "L_cr = cross_val_score(DT,x,y,cv=5)\n",
        "print(\"cross validation for Decision tree model : \",L_cr.mean())"
      ],
      "metadata": {
        "colab": {
          "base_uri": "https://localhost:8080/"
        },
        "id": "rR96-ZoBrhsx",
        "outputId": "18401248-4370-43ef-aa16-22dc433ed1a2"
      },
      "execution_count": 109,
      "outputs": [
        {
          "output_type": "stream",
          "name": "stdout",
          "text": [
            "cross validation for Decision tree model :  0.769526681204074\n"
          ]
        }
      ]
    },
    {
      "cell_type": "code",
      "source": [
        "L_cr = cross_val_score(RF,x,y,cv=5)\n",
        "print(\"cross validation for Random forest model : \",L_cr.mean())"
      ],
      "metadata": {
        "colab": {
          "base_uri": "https://localhost:8080/"
        },
        "id": "OJiBkTaIrk2i",
        "outputId": "fa3e8404-6cbc-4fc4-a44b-86916c584c0a"
      },
      "execution_count": 110,
      "outputs": [
        {
          "output_type": "stream",
          "name": "stdout",
          "text": [
            "cross validation for Random forest model :  0.8198460033014463\n"
          ]
        }
      ]
    },
    {
      "cell_type": "markdown",
      "source": [
        "here also,the CV score is more for RandomForestClassifier  model. So, I will take my final model as RandomForestClassifier  model"
      ],
      "metadata": {
        "id": "SyQkdFcersVO"
      }
    },
    {
      "cell_type": "markdown",
      "source": [
        "## Hyper parameter tuning"
      ],
      "metadata": {
        "id": "l6JjFn1Zr5FN"
      }
    },
    {
      "cell_type": "code",
      "source": [
        "from sklearn.model_selection import GridSearchCV\n",
        "\n",
        "params_list = {'criterion':['gini','entropy'],\n",
        "               'max_features':['auto','sqrt','log2'],\n",
        "               'bootstrap':[True,False],\n",
        "               'max_depth':[None,2,3,4]}\n",
        "GCV = GridSearchCV(RandomForestClassifier(),params_list,cv=5,scoring=\"f1\")\n",
        "GCV.fit(x_train,y_train)\n",
        "\n",
        "#printing the best parameter\n",
        "GCV.best_params_"
      ],
      "metadata": {
        "colab": {
          "base_uri": "https://localhost:8080/"
        },
        "id": "_o5Pl8FhrnG6",
        "outputId": "b9685347-4260-4091-8756-b10b08388464"
      },
      "execution_count": 113,
      "outputs": [
        {
          "output_type": "execute_result",
          "data": {
            "text/plain": [
              "{'bootstrap': True,\n",
              " 'criterion': 'entropy',\n",
              " 'max_depth': None,\n",
              " 'max_features': 'log2'}"
            ]
          },
          "metadata": {},
          "execution_count": 113
        }
      ]
    },
    {
      "cell_type": "code",
      "source": [
        "#now predicting with best parameters\n",
        "\n",
        "GCV_predic = GCV.best_estimator_.predict(x_test)\n",
        "\n",
        "#getting the final accuracy\n",
        "print(\"accuarcy_score is\",accuracy_score(y_test,GCV_predic))\n",
        "print(\"f1_score is\",f1_score(y_test,GCV_predic))"
      ],
      "metadata": {
        "colab": {
          "base_uri": "https://localhost:8080/"
        },
        "id": "eLVyBcdCsBRS",
        "outputId": "c63e3a23-9a4a-4baa-a272-5eec21859a07"
      },
      "execution_count": 117,
      "outputs": [
        {
          "output_type": "stream",
          "name": "stdout",
          "text": [
            "accuarcy_score is 0.8236304310492873\n",
            "f1_score is 0.6128910667169242\n"
          ]
        }
      ]
    },
    {
      "cell_type": "code",
      "source": [
        "from sklearn.metrics import plot_roc_curve\n",
        "plot_roc_curve(GCV.best_estimator_,x_test,y_test)\n",
        "plt.title(\"ROC AUC plot\")\n",
        "plt.show()"
      ],
      "metadata": {
        "colab": {
          "base_uri": "https://localhost:8080/",
          "height": 294
        },
        "id": "yaOVDzp6sL6C",
        "outputId": "7c1a7713-8ac8-48ea-c71c-4b619149ed28"
      },
      "execution_count": 118,
      "outputs": [
        {
          "output_type": "display_data",
          "data": {
            "image/png": "[encoded data removed]",
            "text/plain": [
              "<Figure size 432x288 with 1 Axes>"
            ]
          },
          "metadata": {
            "needs_background": "light"
          }
        }
      ]
    },
    {
      "cell_type": "markdown",
      "source": [
        "from the above graph we got AUC score is 87%"
      ],
      "metadata": {
        "id": "qZlNhUY3zjwj"
      }
    },
    {
      "cell_type": "code",
      "source": [
        "import joblib\n",
        "joblib.dump(GCV.best_estimator_,\"Census_Income_Project.pkl\")"
      ],
      "metadata": {
        "colab": {
          "base_uri": "https://localhost:8080/"
        },
        "id": "8pmjPJszzd7O",
        "outputId": "a93bf49f-c8ca-4766-defb-084668a3eb4a"
      },
      "execution_count": 120,
      "outputs": [
        {
          "output_type": "execute_result",
          "data": {
            "text/plain": [
              "['Census_Income_Project.pkl']"
            ]
          },
          "metadata": {},
          "execution_count": 120
        }
      ]
    }
  ]
}