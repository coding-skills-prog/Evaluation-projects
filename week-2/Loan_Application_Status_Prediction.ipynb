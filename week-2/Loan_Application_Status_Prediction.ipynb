{
  "nbformat": 4,
  "nbformat_minor": 0,
  "metadata": {
    "colab": {
      "name": "Loan_Application_Status_Prediction.ipynb",
      "provenance": [],
      "collapsed_sections": []
    },
    "kernelspec": {
      "name": "python3",
      "display_name": "Python 3"
    },
    "language_info": {
      "name": "python"
    }
  },
  "cells": [
    {
      "cell_type": "markdown",
      "source": [
        "This dataset includes details of applicants who have applied for loan. The dataset includes details like credit history, loan amount, their income, dependents etc. \n",
        "\n",
        "#### Now,we have to build a model that can predict whether the loan of the applicant will be approved or not on the basis of the details provided in the dataset. "
      ],
      "metadata": {
        "id": "1g59BEYa1k__"
      }
    },
    {
      "cell_type": "code",
      "execution_count": 22,
      "metadata": {
        "id": "cnVXowCB1VWY"
      },
      "outputs": [],
      "source": [
        "# Importing packages\n",
        "import pandas as pd\n",
        "import numpy as np\n",
        "import matplotlib.pyplot as plt\n",
        "import seaborn as sns"
      ]
    },
    {
      "cell_type": "code",
      "source": [
        "#reading a dataset\n",
        "df = pd.read_csv('loan_prediction.csv')\n",
        "df.head()"
      ],
      "metadata": {
        "colab": {
          "base_uri": "https://localhost:8080/",
          "height": 250
        },
        "id": "kpVKzXuj2V8O",
        "outputId": "2950198c-6927-469f-8206-7241913f8375"
      },
      "execution_count": 23,
      "outputs": [
        {
          "output_type": "execute_result",
          "data": {
            "text/html": [
              "\n",
              "  <div id=\"df-2054dc69-1368-4bfe-89a8-9e12bd2a26f3\">\n",
              "    <div class=\"colab-df-container\">\n",
              "      <div>\n",
              "<style scoped>\n",
              "    .dataframe tbody tr th:only-of-type {\n",
              "        vertical-align: middle;\n",
              "    }\n",
              "\n",
              "    .dataframe tbody tr th {\n",
              "        vertical-align: top;\n",
              "    }\n",
              "\n",
              "    .dataframe thead th {\n",
              "        text-align: right;\n",
              "    }\n",
              "</style>\n",
              "<table border=\"1\" class=\"dataframe\">\n",
              "  <thead>\n",
              "    <tr style=\"text-align: right;\">\n",
              "      <th></th>\n",
              "      <th>Loan_ID</th>\n",
              "      <th>Gender</th>\n",
              "      <th>Married</th>\n",
              "      <th>Dependents</th>\n",
              "      <th>Education</th>\n",
              "      <th>Self_Employed</th>\n",
              "      <th>ApplicantIncome</th>\n",
              "      <th>CoapplicantIncome</th>\n",
              "      <th>LoanAmount</th>\n",
              "      <th>Loan_Amount_Term</th>\n",
              "      <th>Credit_History</th>\n",
              "      <th>Property_Area</th>\n",
              "      <th>Loan_Status</th>\n",
              "    </tr>\n",
              "  </thead>\n",
              "  <tbody>\n",
              "    <tr>\n",
              "      <th>0</th>\n",
              "      <td>LP001002</td>\n",
              "      <td>Male</td>\n",
              "      <td>No</td>\n",
              "      <td>0</td>\n",
              "      <td>Graduate</td>\n",
              "      <td>No</td>\n",
              "      <td>5849</td>\n",
              "      <td>0.0</td>\n",
              "      <td>NaN</td>\n",
              "      <td>360.0</td>\n",
              "      <td>1.0</td>\n",
              "      <td>Urban</td>\n",
              "      <td>Y</td>\n",
              "    </tr>\n",
              "    <tr>\n",
              "      <th>1</th>\n",
              "      <td>LP001003</td>\n",
              "      <td>Male</td>\n",
              "      <td>Yes</td>\n",
              "      <td>1</td>\n",
              "      <td>Graduate</td>\n",
              "      <td>No</td>\n",
              "      <td>4583</td>\n",
              "      <td>1508.0</td>\n",
              "      <td>128.0</td>\n",
              "      <td>360.0</td>\n",
              "      <td>1.0</td>\n",
              "      <td>Rural</td>\n",
              "      <td>N</td>\n",
              "    </tr>\n",
              "    <tr>\n",
              "      <th>2</th>\n",
              "      <td>LP001005</td>\n",
              "      <td>Male</td>\n",
              "      <td>Yes</td>\n",
              "      <td>0</td>\n",
              "      <td>Graduate</td>\n",
              "      <td>Yes</td>\n",
              "      <td>3000</td>\n",
              "      <td>0.0</td>\n",
              "      <td>66.0</td>\n",
              "      <td>360.0</td>\n",
              "      <td>1.0</td>\n",
              "      <td>Urban</td>\n",
              "      <td>Y</td>\n",
              "    </tr>\n",
              "    <tr>\n",
              "      <th>3</th>\n",
              "      <td>LP001006</td>\n",
              "      <td>Male</td>\n",
              "      <td>Yes</td>\n",
              "      <td>0</td>\n",
              "      <td>Not Graduate</td>\n",
              "      <td>No</td>\n",
              "      <td>2583</td>\n",
              "      <td>2358.0</td>\n",
              "      <td>120.0</td>\n",
              "      <td>360.0</td>\n",
              "      <td>1.0</td>\n",
              "      <td>Urban</td>\n",
              "      <td>Y</td>\n",
              "    </tr>\n",
              "    <tr>\n",
              "      <th>4</th>\n",
              "      <td>LP001008</td>\n",
              "      <td>Male</td>\n",
              "      <td>No</td>\n",
              "      <td>0</td>\n",
              "      <td>Graduate</td>\n",
              "      <td>No</td>\n",
              "      <td>6000</td>\n",
              "      <td>0.0</td>\n",
              "      <td>141.0</td>\n",
              "      <td>360.0</td>\n",
              "      <td>1.0</td>\n",
              "      <td>Urban</td>\n",
              "      <td>Y</td>\n",
              "    </tr>\n",
              "  </tbody>\n",
              "</table>\n",
              "</div>\n",
              "      <button class=\"colab-df-convert\" onclick=\"convertToInteractive('df-2054dc69-1368-4bfe-89a8-9e12bd2a26f3')\"\n",
              "              title=\"Convert this dataframe to an interactive table.\"\n",
              "              style=\"display:none;\">\n",
              "        \n",
              "  <svg xmlns=\"http://www.w3.org/2000/svg\" height=\"24px\"viewBox=\"0 0 24 24\"\n",
              "       width=\"24px\">\n",
              "    <path d=\"M0 0h24v24H0V0z\" fill=\"none\"/>\n",
              "    <path d=\"M18.56 5.44l.94 2.06.94-2.06 2.06-.94-2.06-.94-.94-2.06-.94 2.06-2.06.94zm-11 1L8.5 8.5l.94-2.06 2.06-.94-2.06-.94L8.5 2.5l-.94 2.06-2.06.94zm10 10l.94 2.06.94-2.06 2.06-.94-2.06-.94-.94-2.06-.94 2.06-2.06.94z\"/><path d=\"M17.41 7.96l-1.37-1.37c-.4-.4-.92-.59-1.43-.59-.52 0-1.04.2-1.43.59L10.3 9.45l-7.72 7.72c-.78.78-.78 2.05 0 2.83L4 21.41c.39.39.9.59 1.41.59.51 0 1.02-.2 1.41-.59l7.78-7.78 2.81-2.81c.8-.78.8-2.07 0-2.86zM5.41 20L4 18.59l7.72-7.72 1.47 1.35L5.41 20z\"/>\n",
              "  </svg>\n",
              "      </button>\n",
              "      \n",
              "  <style>\n",
              "    .colab-df-container {\n",
              "      display:flex;\n",
              "      flex-wrap:wrap;\n",
              "      gap: 12px;\n",
              "    }\n",
              "\n",
              "    .colab-df-convert {\n",
              "      background-color: #E8F0FE;\n",
              "      border: none;\n",
              "      border-radius: 50%;\n",
              "      cursor: pointer;\n",
              "      display: none;\n",
              "      fill: #1967D2;\n",
              "      height: 32px;\n",
              "      padding: 0 0 0 0;\n",
              "      width: 32px;\n",
              "    }\n",
              "\n",
              "    .colab-df-convert:hover {\n",
              "      background-color: #E2EBFA;\n",
              "      box-shadow: 0px 1px 2px rgba(60, 64, 67, 0.3), 0px 1px 3px 1px rgba(60, 64, 67, 0.15);\n",
              "      fill: #174EA6;\n",
              "    }\n",
              "\n",
              "    [theme=dark] .colab-df-convert {\n",
              "      background-color: #3B4455;\n",
              "      fill: #D2E3FC;\n",
              "    }\n",
              "\n",
              "    [theme=dark] .colab-df-convert:hover {\n",
              "      background-color: #434B5C;\n",
              "      box-shadow: 0px 1px 3px 1px rgba(0, 0, 0, 0.15);\n",
              "      filter: drop-shadow(0px 1px 2px rgba(0, 0, 0, 0.3));\n",
              "      fill: #FFFFFF;\n",
              "    }\n",
              "  </style>\n",
              "\n",
              "      <script>\n",
              "        const buttonEl =\n",
              "          document.querySelector('#df-2054dc69-1368-4bfe-89a8-9e12bd2a26f3 button.colab-df-convert');\n",
              "        buttonEl.style.display =\n",
              "          google.colab.kernel.accessAllowed ? 'block' : 'none';\n",
              "\n",
              "        async function convertToInteractive(key) {\n",
              "          const element = document.querySelector('#df-2054dc69-1368-4bfe-89a8-9e12bd2a26f3');\n",
              "          const dataTable =\n",
              "            await google.colab.kernel.invokeFunction('convertToInteractive',\n",
              "                                                     [key], {});\n",
              "          if (!dataTable) return;\n",
              "\n",
              "          const docLinkHtml = 'Like what you see? Visit the ' +\n",
              "            '<a target=\"_blank\" href=https://colab.research.google.com/notebooks/data_table.ipynb>data table notebook</a>'\n",
              "            + ' to learn more about interactive tables.';\n",
              "          element.innerHTML = '';\n",
              "          dataTable['output_type'] = 'display_data';\n",
              "          await google.colab.output.renderOutput(dataTable, element);\n",
              "          const docLink = document.createElement('div');\n",
              "          docLink.innerHTML = docLinkHtml;\n",
              "          element.appendChild(docLink);\n",
              "        }\n",
              "      </script>\n",
              "    </div>\n",
              "  </div>\n",
              "  "
            ],
            "text/plain": [
              "    Loan_ID Gender Married  ... Credit_History Property_Area Loan_Status\n",
              "0  LP001002   Male      No  ...            1.0         Urban           Y\n",
              "1  LP001003   Male     Yes  ...            1.0         Rural           N\n",
              "2  LP001005   Male     Yes  ...            1.0         Urban           Y\n",
              "3  LP001006   Male     Yes  ...            1.0         Urban           Y\n",
              "4  LP001008   Male      No  ...            1.0         Urban           Y\n",
              "\n",
              "[5 rows x 13 columns]"
            ]
          },
          "metadata": {},
          "execution_count": 23
        }
      ]
    },
    {
      "cell_type": "markdown",
      "source": [
        "Here,we got dependent variable as \"Loan_status\" column which consists of \"Y\" or \"N\" values."
      ],
      "metadata": {
        "id": "IEww9deF2gHO"
      }
    },
    {
      "cell_type": "code",
      "source": [
        "#to check how many rows and columns in dataframe\n",
        "df.shape"
      ],
      "metadata": {
        "colab": {
          "base_uri": "https://localhost:8080/"
        },
        "id": "PbJQBgJr2am1",
        "outputId": "ef1e841f-81ed-48ee-e70b-dd8f35f7d1f6"
      },
      "execution_count": 24,
      "outputs": [
        {
          "output_type": "execute_result",
          "data": {
            "text/plain": [
              "(614, 13)"
            ]
          },
          "metadata": {},
          "execution_count": 24
        }
      ]
    },
    {
      "cell_type": "markdown",
      "source": [
        "This dataset has 614 records with 13 columns"
      ],
      "metadata": {
        "id": "e8PxluNM220e"
      }
    },
    {
      "cell_type": "code",
      "source": [
        "#to get the info of this dataframe\n",
        "df.info()"
      ],
      "metadata": {
        "colab": {
          "base_uri": "https://localhost:8080/"
        },
        "id": "gec2Av2U20f-",
        "outputId": "e8bcacd4-563a-46ef-893a-9d77a953c44d"
      },
      "execution_count": 25,
      "outputs": [
        {
          "output_type": "stream",
          "name": "stdout",
          "text": [
            "<class 'pandas.core.frame.DataFrame'>\n",
            "RangeIndex: 614 entries, 0 to 613\n",
            "Data columns (total 13 columns):\n",
            " #   Column             Non-Null Count  Dtype  \n",
            "---  ------             --------------  -----  \n",
            " 0   Loan_ID            614 non-null    object \n",
            " 1   Gender             601 non-null    object \n",
            " 2   Married            611 non-null    object \n",
            " 3   Dependents         599 non-null    object \n",
            " 4   Education          614 non-null    object \n",
            " 5   Self_Employed      582 non-null    object \n",
            " 6   ApplicantIncome    614 non-null    int64  \n",
            " 7   CoapplicantIncome  614 non-null    float64\n",
            " 8   LoanAmount         592 non-null    float64\n",
            " 9   Loan_Amount_Term   600 non-null    float64\n",
            " 10  Credit_History     564 non-null    float64\n",
            " 11  Property_Area      614 non-null    object \n",
            " 12  Loan_Status        614 non-null    object \n",
            "dtypes: float64(4), int64(1), object(8)\n",
            "memory usage: 62.5+ KB\n"
          ]
        }
      ]
    },
    {
      "cell_type": "markdown",
      "source": [
        "with above details,we can observe all the datatypes of each column along with memory consumption of dataset"
      ],
      "metadata": {
        "id": "F1qKlLYb3CX-"
      }
    },
    {
      "cell_type": "code",
      "source": [
        "df.duplicated().sum()  #to check with duplicate records"
      ],
      "metadata": {
        "colab": {
          "base_uri": "https://localhost:8080/"
        },
        "id": "-xZU-VPQ2_mc",
        "outputId": "8ddb999e-1ab0-4f8b-afd4-638bdd874284"
      },
      "execution_count": 26,
      "outputs": [
        {
          "output_type": "execute_result",
          "data": {
            "text/plain": [
              "0"
            ]
          },
          "metadata": {},
          "execution_count": 26
        }
      ]
    },
    {
      "cell_type": "code",
      "source": [
        "df['Loan_Status'].value_counts()"
      ],
      "metadata": {
        "colab": {
          "base_uri": "https://localhost:8080/"
        },
        "id": "bZ3SJOx_3HJk",
        "outputId": "7156ec49-1ba1-463d-afcc-f755b63fd66b"
      },
      "execution_count": 27,
      "outputs": [
        {
          "output_type": "execute_result",
          "data": {
            "text/plain": [
              "Y    422\n",
              "N    192\n",
              "Name: Loan_Status, dtype: int64"
            ]
          },
          "metadata": {},
          "execution_count": 27
        }
      ]
    },
    {
      "cell_type": "markdown",
      "source": [
        "there are more records on \"Y\""
      ],
      "metadata": {
        "id": "fLCXFjO0_-0y"
      }
    },
    {
      "cell_type": "code",
      "source": [
        "#to get statistics information\n",
        "df.describe()"
      ],
      "metadata": {
        "colab": {
          "base_uri": "https://localhost:8080/",
          "height": 300
        },
        "id": "MPJ-jmij3L7c",
        "outputId": "20fff226-6827-4f16-b7a6-596395861413"
      },
      "execution_count": 28,
      "outputs": [
        {
          "output_type": "execute_result",
          "data": {
            "text/html": [
              "\n",
              "  <div id=\"df-d24f6d19-0b36-4742-8353-65d1a2f49685\">\n",
              "    <div class=\"colab-df-container\">\n",
              "      <div>\n",
              "<style scoped>\n",
              "    .dataframe tbody tr th:only-of-type {\n",
              "        vertical-align: middle;\n",
              "    }\n",
              "\n",
              "    .dataframe tbody tr th {\n",
              "        vertical-align: top;\n",
              "    }\n",
              "\n",
              "    .dataframe thead th {\n",
              "        text-align: right;\n",
              "    }\n",
              "</style>\n",
              "<table border=\"1\" class=\"dataframe\">\n",
              "  <thead>\n",
              "    <tr style=\"text-align: right;\">\n",
              "      <th></th>\n",
              "      <th>ApplicantIncome</th>\n",
              "      <th>CoapplicantIncome</th>\n",
              "      <th>LoanAmount</th>\n",
              "      <th>Loan_Amount_Term</th>\n",
              "      <th>Credit_History</th>\n",
              "    </tr>\n",
              "  </thead>\n",
              "  <tbody>\n",
              "    <tr>\n",
              "      <th>count</th>\n",
              "      <td>614.000000</td>\n",
              "      <td>614.000000</td>\n",
              "      <td>592.000000</td>\n",
              "      <td>600.00000</td>\n",
              "      <td>564.000000</td>\n",
              "    </tr>\n",
              "    <tr>\n",
              "      <th>mean</th>\n",
              "      <td>5403.459283</td>\n",
              "      <td>1621.245798</td>\n",
              "      <td>146.412162</td>\n",
              "      <td>342.00000</td>\n",
              "      <td>0.842199</td>\n",
              "    </tr>\n",
              "    <tr>\n",
              "      <th>std</th>\n",
              "      <td>6109.041673</td>\n",
              "      <td>2926.248369</td>\n",
              "      <td>85.587325</td>\n",
              "      <td>65.12041</td>\n",
              "      <td>0.364878</td>\n",
              "    </tr>\n",
              "    <tr>\n",
              "      <th>min</th>\n",
              "      <td>150.000000</td>\n",
              "      <td>0.000000</td>\n",
              "      <td>9.000000</td>\n",
              "      <td>12.00000</td>\n",
              "      <td>0.000000</td>\n",
              "    </tr>\n",
              "    <tr>\n",
              "      <th>25%</th>\n",
              "      <td>2877.500000</td>\n",
              "      <td>0.000000</td>\n",
              "      <td>100.000000</td>\n",
              "      <td>360.00000</td>\n",
              "      <td>1.000000</td>\n",
              "    </tr>\n",
              "    <tr>\n",
              "      <th>50%</th>\n",
              "      <td>3812.500000</td>\n",
              "      <td>1188.500000</td>\n",
              "      <td>128.000000</td>\n",
              "      <td>360.00000</td>\n",
              "      <td>1.000000</td>\n",
              "    </tr>\n",
              "    <tr>\n",
              "      <th>75%</th>\n",
              "      <td>5795.000000</td>\n",
              "      <td>2297.250000</td>\n",
              "      <td>168.000000</td>\n",
              "      <td>360.00000</td>\n",
              "      <td>1.000000</td>\n",
              "    </tr>\n",
              "    <tr>\n",
              "      <th>max</th>\n",
              "      <td>81000.000000</td>\n",
              "      <td>41667.000000</td>\n",
              "      <td>700.000000</td>\n",
              "      <td>480.00000</td>\n",
              "      <td>1.000000</td>\n",
              "    </tr>\n",
              "  </tbody>\n",
              "</table>\n",
              "</div>\n",
              "      <button class=\"colab-df-convert\" onclick=\"convertToInteractive('df-d24f6d19-0b36-4742-8353-65d1a2f49685')\"\n",
              "              title=\"Convert this dataframe to an interactive table.\"\n",
              "              style=\"display:none;\">\n",
              "        \n",
              "  <svg xmlns=\"http://www.w3.org/2000/svg\" height=\"24px\"viewBox=\"0 0 24 24\"\n",
              "       width=\"24px\">\n",
              "    <path d=\"M0 0h24v24H0V0z\" fill=\"none\"/>\n",
              "    <path d=\"M18.56 5.44l.94 2.06.94-2.06 2.06-.94-2.06-.94-.94-2.06-.94 2.06-2.06.94zm-11 1L8.5 8.5l.94-2.06 2.06-.94-2.06-.94L8.5 2.5l-.94 2.06-2.06.94zm10 10l.94 2.06.94-2.06 2.06-.94-2.06-.94-.94-2.06-.94 2.06-2.06.94z\"/><path d=\"M17.41 7.96l-1.37-1.37c-.4-.4-.92-.59-1.43-.59-.52 0-1.04.2-1.43.59L10.3 9.45l-7.72 7.72c-.78.78-.78 2.05 0 2.83L4 21.41c.39.39.9.59 1.41.59.51 0 1.02-.2 1.41-.59l7.78-7.78 2.81-2.81c.8-.78.8-2.07 0-2.86zM5.41 20L4 18.59l7.72-7.72 1.47 1.35L5.41 20z\"/>\n",
              "  </svg>\n",
              "      </button>\n",
              "      \n",
              "  <style>\n",
              "    .colab-df-container {\n",
              "      display:flex;\n",
              "      flex-wrap:wrap;\n",
              "      gap: 12px;\n",
              "    }\n",
              "\n",
              "    .colab-df-convert {\n",
              "      background-color: #E8F0FE;\n",
              "      border: none;\n",
              "      border-radius: 50%;\n",
              "      cursor: pointer;\n",
              "      display: none;\n",
              "      fill: #1967D2;\n",
              "      height: 32px;\n",
              "      padding: 0 0 0 0;\n",
              "      width: 32px;\n",
              "    }\n",
              "\n",
              "    .colab-df-convert:hover {\n",
              "      background-color: #E2EBFA;\n",
              "      box-shadow: 0px 1px 2px rgba(60, 64, 67, 0.3), 0px 1px 3px 1px rgba(60, 64, 67, 0.15);\n",
              "      fill: #174EA6;\n",
              "    }\n",
              "\n",
              "    [theme=dark] .colab-df-convert {\n",
              "      background-color: #3B4455;\n",
              "      fill: #D2E3FC;\n",
              "    }\n",
              "\n",
              "    [theme=dark] .colab-df-convert:hover {\n",
              "      background-color: #434B5C;\n",
              "      box-shadow: 0px 1px 3px 1px rgba(0, 0, 0, 0.15);\n",
              "      filter: drop-shadow(0px 1px 2px rgba(0, 0, 0, 0.3));\n",
              "      fill: #FFFFFF;\n",
              "    }\n",
              "  </style>\n",
              "\n",
              "      <script>\n",
              "        const buttonEl =\n",
              "          document.querySelector('#df-d24f6d19-0b36-4742-8353-65d1a2f49685 button.colab-df-convert');\n",
              "        buttonEl.style.display =\n",
              "          google.colab.kernel.accessAllowed ? 'block' : 'none';\n",
              "\n",
              "        async function convertToInteractive(key) {\n",
              "          const element = document.querySelector('#df-d24f6d19-0b36-4742-8353-65d1a2f49685');\n",
              "          const dataTable =\n",
              "            await google.colab.kernel.invokeFunction('convertToInteractive',\n",
              "                                                     [key], {});\n",
              "          if (!dataTable) return;\n",
              "\n",
              "          const docLinkHtml = 'Like what you see? Visit the ' +\n",
              "            '<a target=\"_blank\" href=https://colab.research.google.com/notebooks/data_table.ipynb>data table notebook</a>'\n",
              "            + ' to learn more about interactive tables.';\n",
              "          element.innerHTML = '';\n",
              "          dataTable['output_type'] = 'display_data';\n",
              "          await google.colab.output.renderOutput(dataTable, element);\n",
              "          const docLink = document.createElement('div');\n",
              "          docLink.innerHTML = docLinkHtml;\n",
              "          element.appendChild(docLink);\n",
              "        }\n",
              "      </script>\n",
              "    </div>\n",
              "  </div>\n",
              "  "
            ],
            "text/plain": [
              "       ApplicantIncome  CoapplicantIncome  ...  Loan_Amount_Term  Credit_History\n",
              "count       614.000000         614.000000  ...         600.00000      564.000000\n",
              "mean       5403.459283        1621.245798  ...         342.00000        0.842199\n",
              "std        6109.041673        2926.248369  ...          65.12041        0.364878\n",
              "min         150.000000           0.000000  ...          12.00000        0.000000\n",
              "25%        2877.500000           0.000000  ...         360.00000        1.000000\n",
              "50%        3812.500000        1188.500000  ...         360.00000        1.000000\n",
              "75%        5795.000000        2297.250000  ...         360.00000        1.000000\n",
              "max       81000.000000       41667.000000  ...         480.00000        1.000000\n",
              "\n",
              "[8 rows x 5 columns]"
            ]
          },
          "metadata": {},
          "execution_count": 28
        }
      ]
    },
    {
      "cell_type": "markdown",
      "source": [
        "with above information,we can see there no missing values in any column and we can also observe the fact that many columns contains a minimum value of even 0 value,which means the value can even go with zero amount as well."
      ],
      "metadata": {
        "id": "mHl3Y85CAIVR"
      }
    },
    {
      "cell_type": "code",
      "source": [
        "#to check whether any null values present in dataframe\n",
        "df.isnull().sum()"
      ],
      "metadata": {
        "colab": {
          "base_uri": "https://localhost:8080/"
        },
        "id": "6XKAq1jqAFnY",
        "outputId": "ade1c522-ab57-4f3d-85e1-2ee759bbe075"
      },
      "execution_count": 30,
      "outputs": [
        {
          "output_type": "execute_result",
          "data": {
            "text/plain": [
              "Loan_ID               0\n",
              "Gender               13\n",
              "Married               3\n",
              "Dependents           15\n",
              "Education             0\n",
              "Self_Employed        32\n",
              "ApplicantIncome       0\n",
              "CoapplicantIncome     0\n",
              "LoanAmount           22\n",
              "Loan_Amount_Term     14\n",
              "Credit_History       50\n",
              "Property_Area         0\n",
              "Loan_Status           0\n",
              "dtype: int64"
            ]
          },
          "metadata": {},
          "execution_count": 30
        }
      ]
    },
    {
      "cell_type": "markdown",
      "source": [
        "Clearly there are many missing values in dataset"
      ],
      "metadata": {
        "id": "ZH0aAuQeDRL4"
      }
    },
    {
      "cell_type": "code",
      "source": [
        "#So,we can impute missing categorical values with mode(most frequent value)\n",
        "\n",
        "df['Gender'].fillna(df['Gender'].mode()[0], inplace=True)\n",
        "df['Married'].fillna(df['Married'].mode()[0], inplace=True)\n",
        "df['Dependents'].fillna(df['Dependents'].mode()[0], inplace=True)\n",
        "df['Credit_History'].fillna(df['Credit_History'].mode()[0], inplace=True)\n",
        "df['Self_Employed'].fillna(df['Self_Employed'].mode()[0], inplace=True)"
      ],
      "metadata": {
        "id": "BExrBzBsA6zH"
      },
      "execution_count": 31,
      "outputs": []
    },
    {
      "cell_type": "code",
      "source": [
        "#also we can impute missing continuous values with mean(Average of all values)\n",
        "\n",
        "df['LoanAmount'].fillna(df['LoanAmount'].mean(), inplace=True)\n",
        "df['Loan_Amount_Term'].fillna(df['Loan_Amount_Term'].mean(), inplace=True)"
      ],
      "metadata": {
        "id": "XqUHw9jbFS19"
      },
      "execution_count": 32,
      "outputs": []
    },
    {
      "cell_type": "code",
      "source": [
        "df.isnull().sum()"
      ],
      "metadata": {
        "colab": {
          "base_uri": "https://localhost:8080/"
        },
        "id": "ivDdhH_VFfbN",
        "outputId": "df97036c-f0e5-428d-c826-cd6056185517"
      },
      "execution_count": 33,
      "outputs": [
        {
          "output_type": "execute_result",
          "data": {
            "text/plain": [
              "Loan_ID              0\n",
              "Gender               0\n",
              "Married              0\n",
              "Dependents           0\n",
              "Education            0\n",
              "Self_Employed        0\n",
              "ApplicantIncome      0\n",
              "CoapplicantIncome    0\n",
              "LoanAmount           0\n",
              "Loan_Amount_Term     0\n",
              "Credit_History       0\n",
              "Property_Area        0\n",
              "Loan_Status          0\n",
              "dtype: int64"
            ]
          },
          "metadata": {},
          "execution_count": 33
        }
      ]
    },
    {
      "cell_type": "markdown",
      "source": [
        "So,there are no null values in it."
      ],
      "metadata": {
        "id": "1NtoJ8h3HK5N"
      }
    },
    {
      "cell_type": "code",
      "source": [
        "#now,we can drop \"Loan_ID\" column which consists of unique values for all records.\n",
        "\n",
        "df.drop([\"Loan_ID\"],axis=1,inplace=True)"
      ],
      "metadata": {
        "id": "0d4p1_vEGl60"
      },
      "execution_count": 36,
      "outputs": []
    },
    {
      "cell_type": "code",
      "source": [
        "df"
      ],
      "metadata": {
        "colab": {
          "base_uri": "https://localhost:8080/",
          "height": 423
        },
        "id": "APMgqsMmHX5U",
        "outputId": "9ba85381-67a0-45d6-ee5a-2a9a91d02514"
      },
      "execution_count": 37,
      "outputs": [
        {
          "output_type": "execute_result",
          "data": {
            "text/html": [
              "\n",
              "  <div id=\"df-28574a5c-555d-459f-ad0c-d3bdca486d74\">\n",
              "    <div class=\"colab-df-container\">\n",
              "      <div>\n",
              "<style scoped>\n",
              "    .dataframe tbody tr th:only-of-type {\n",
              "        vertical-align: middle;\n",
              "    }\n",
              "\n",
              "    .dataframe tbody tr th {\n",
              "        vertical-align: top;\n",
              "    }\n",
              "\n",
              "    .dataframe thead th {\n",
              "        text-align: right;\n",
              "    }\n",
              "</style>\n",
              "<table border=\"1\" class=\"dataframe\">\n",
              "  <thead>\n",
              "    <tr style=\"text-align: right;\">\n",
              "      <th></th>\n",
              "      <th>Gender</th>\n",
              "      <th>Married</th>\n",
              "      <th>Dependents</th>\n",
              "      <th>Education</th>\n",
              "      <th>Self_Employed</th>\n",
              "      <th>ApplicantIncome</th>\n",
              "      <th>CoapplicantIncome</th>\n",
              "      <th>LoanAmount</th>\n",
              "      <th>Loan_Amount_Term</th>\n",
              "      <th>Credit_History</th>\n",
              "      <th>Property_Area</th>\n",
              "      <th>Loan_Status</th>\n",
              "    </tr>\n",
              "  </thead>\n",
              "  <tbody>\n",
              "    <tr>\n",
              "      <th>0</th>\n",
              "      <td>Male</td>\n",
              "      <td>No</td>\n",
              "      <td>0</td>\n",
              "      <td>Graduate</td>\n",
              "      <td>No</td>\n",
              "      <td>5849</td>\n",
              "      <td>0.0</td>\n",
              "      <td>146.412162</td>\n",
              "      <td>360.0</td>\n",
              "      <td>1.0</td>\n",
              "      <td>Urban</td>\n",
              "      <td>Y</td>\n",
              "    </tr>\n",
              "    <tr>\n",
              "      <th>1</th>\n",
              "      <td>Male</td>\n",
              "      <td>Yes</td>\n",
              "      <td>1</td>\n",
              "      <td>Graduate</td>\n",
              "      <td>No</td>\n",
              "      <td>4583</td>\n",
              "      <td>1508.0</td>\n",
              "      <td>128.000000</td>\n",
              "      <td>360.0</td>\n",
              "      <td>1.0</td>\n",
              "      <td>Rural</td>\n",
              "      <td>N</td>\n",
              "    </tr>\n",
              "    <tr>\n",
              "      <th>2</th>\n",
              "      <td>Male</td>\n",
              "      <td>Yes</td>\n",
              "      <td>0</td>\n",
              "      <td>Graduate</td>\n",
              "      <td>Yes</td>\n",
              "      <td>3000</td>\n",
              "      <td>0.0</td>\n",
              "      <td>66.000000</td>\n",
              "      <td>360.0</td>\n",
              "      <td>1.0</td>\n",
              "      <td>Urban</td>\n",
              "      <td>Y</td>\n",
              "    </tr>\n",
              "    <tr>\n",
              "      <th>3</th>\n",
              "      <td>Male</td>\n",
              "      <td>Yes</td>\n",
              "      <td>0</td>\n",
              "      <td>Not Graduate</td>\n",
              "      <td>No</td>\n",
              "      <td>2583</td>\n",
              "      <td>2358.0</td>\n",
              "      <td>120.000000</td>\n",
              "      <td>360.0</td>\n",
              "      <td>1.0</td>\n",
              "      <td>Urban</td>\n",
              "      <td>Y</td>\n",
              "    </tr>\n",
              "    <tr>\n",
              "      <th>4</th>\n",
              "      <td>Male</td>\n",
              "      <td>No</td>\n",
              "      <td>0</td>\n",
              "      <td>Graduate</td>\n",
              "      <td>No</td>\n",
              "      <td>6000</td>\n",
              "      <td>0.0</td>\n",
              "      <td>141.000000</td>\n",
              "      <td>360.0</td>\n",
              "      <td>1.0</td>\n",
              "      <td>Urban</td>\n",
              "      <td>Y</td>\n",
              "    </tr>\n",
              "    <tr>\n",
              "      <th>...</th>\n",
              "      <td>...</td>\n",
              "      <td>...</td>\n",
              "      <td>...</td>\n",
              "      <td>...</td>\n",
              "      <td>...</td>\n",
              "      <td>...</td>\n",
              "      <td>...</td>\n",
              "      <td>...</td>\n",
              "      <td>...</td>\n",
              "      <td>...</td>\n",
              "      <td>...</td>\n",
              "      <td>...</td>\n",
              "    </tr>\n",
              "    <tr>\n",
              "      <th>609</th>\n",
              "      <td>Female</td>\n",
              "      <td>No</td>\n",
              "      <td>0</td>\n",
              "      <td>Graduate</td>\n",
              "      <td>No</td>\n",
              "      <td>2900</td>\n",
              "      <td>0.0</td>\n",
              "      <td>71.000000</td>\n",
              "      <td>360.0</td>\n",
              "      <td>1.0</td>\n",
              "      <td>Rural</td>\n",
              "      <td>Y</td>\n",
              "    </tr>\n",
              "    <tr>\n",
              "      <th>610</th>\n",
              "      <td>Male</td>\n",
              "      <td>Yes</td>\n",
              "      <td>3+</td>\n",
              "      <td>Graduate</td>\n",
              "      <td>No</td>\n",
              "      <td>4106</td>\n",
              "      <td>0.0</td>\n",
              "      <td>40.000000</td>\n",
              "      <td>180.0</td>\n",
              "      <td>1.0</td>\n",
              "      <td>Rural</td>\n",
              "      <td>Y</td>\n",
              "    </tr>\n",
              "    <tr>\n",
              "      <th>611</th>\n",
              "      <td>Male</td>\n",
              "      <td>Yes</td>\n",
              "      <td>1</td>\n",
              "      <td>Graduate</td>\n",
              "      <td>No</td>\n",
              "      <td>8072</td>\n",
              "      <td>240.0</td>\n",
              "      <td>253.000000</td>\n",
              "      <td>360.0</td>\n",
              "      <td>1.0</td>\n",
              "      <td>Urban</td>\n",
              "      <td>Y</td>\n",
              "    </tr>\n",
              "    <tr>\n",
              "      <th>612</th>\n",
              "      <td>Male</td>\n",
              "      <td>Yes</td>\n",
              "      <td>2</td>\n",
              "      <td>Graduate</td>\n",
              "      <td>No</td>\n",
              "      <td>7583</td>\n",
              "      <td>0.0</td>\n",
              "      <td>187.000000</td>\n",
              "      <td>360.0</td>\n",
              "      <td>1.0</td>\n",
              "      <td>Urban</td>\n",
              "      <td>Y</td>\n",
              "    </tr>\n",
              "    <tr>\n",
              "      <th>613</th>\n",
              "      <td>Female</td>\n",
              "      <td>No</td>\n",
              "      <td>0</td>\n",
              "      <td>Graduate</td>\n",
              "      <td>Yes</td>\n",
              "      <td>4583</td>\n",
              "      <td>0.0</td>\n",
              "      <td>133.000000</td>\n",
              "      <td>360.0</td>\n",
              "      <td>0.0</td>\n",
              "      <td>Semiurban</td>\n",
              "      <td>N</td>\n",
              "    </tr>\n",
              "  </tbody>\n",
              "</table>\n",
              "<p>614 rows × 12 columns</p>\n",
              "</div>\n",
              "      <button class=\"colab-df-convert\" onclick=\"convertToInteractive('df-28574a5c-555d-459f-ad0c-d3bdca486d74')\"\n",
              "              title=\"Convert this dataframe to an interactive table.\"\n",
              "              style=\"display:none;\">\n",
              "        \n",
              "  <svg xmlns=\"http://www.w3.org/2000/svg\" height=\"24px\"viewBox=\"0 0 24 24\"\n",
              "       width=\"24px\">\n",
              "    <path d=\"M0 0h24v24H0V0z\" fill=\"none\"/>\n",
              "    <path d=\"M18.56 5.44l.94 2.06.94-2.06 2.06-.94-2.06-.94-.94-2.06-.94 2.06-2.06.94zm-11 1L8.5 8.5l.94-2.06 2.06-.94-2.06-.94L8.5 2.5l-.94 2.06-2.06.94zm10 10l.94 2.06.94-2.06 2.06-.94-2.06-.94-.94-2.06-.94 2.06-2.06.94z\"/><path d=\"M17.41 7.96l-1.37-1.37c-.4-.4-.92-.59-1.43-.59-.52 0-1.04.2-1.43.59L10.3 9.45l-7.72 7.72c-.78.78-.78 2.05 0 2.83L4 21.41c.39.39.9.59 1.41.59.51 0 1.02-.2 1.41-.59l7.78-7.78 2.81-2.81c.8-.78.8-2.07 0-2.86zM5.41 20L4 18.59l7.72-7.72 1.47 1.35L5.41 20z\"/>\n",
              "  </svg>\n",
              "      </button>\n",
              "      \n",
              "  <style>\n",
              "    .colab-df-container {\n",
              "      display:flex;\n",
              "      flex-wrap:wrap;\n",
              "      gap: 12px;\n",
              "    }\n",
              "\n",
              "    .colab-df-convert {\n",
              "      background-color: #E8F0FE;\n",
              "      border: none;\n",
              "      border-radius: 50%;\n",
              "      cursor: pointer;\n",
              "      display: none;\n",
              "      fill: #1967D2;\n",
              "      height: 32px;\n",
              "      padding: 0 0 0 0;\n",
              "      width: 32px;\n",
              "    }\n",
              "\n",
              "    .colab-df-convert:hover {\n",
              "      background-color: #E2EBFA;\n",
              "      box-shadow: 0px 1px 2px rgba(60, 64, 67, 0.3), 0px 1px 3px 1px rgba(60, 64, 67, 0.15);\n",
              "      fill: #174EA6;\n",
              "    }\n",
              "\n",
              "    [theme=dark] .colab-df-convert {\n",
              "      background-color: #3B4455;\n",
              "      fill: #D2E3FC;\n",
              "    }\n",
              "\n",
              "    [theme=dark] .colab-df-convert:hover {\n",
              "      background-color: #434B5C;\n",
              "      box-shadow: 0px 1px 3px 1px rgba(0, 0, 0, 0.15);\n",
              "      filter: drop-shadow(0px 1px 2px rgba(0, 0, 0, 0.3));\n",
              "      fill: #FFFFFF;\n",
              "    }\n",
              "  </style>\n",
              "\n",
              "      <script>\n",
              "        const buttonEl =\n",
              "          document.querySelector('#df-28574a5c-555d-459f-ad0c-d3bdca486d74 button.colab-df-convert');\n",
              "        buttonEl.style.display =\n",
              "          google.colab.kernel.accessAllowed ? 'block' : 'none';\n",
              "\n",
              "        async function convertToInteractive(key) {\n",
              "          const element = document.querySelector('#df-28574a5c-555d-459f-ad0c-d3bdca486d74');\n",
              "          const dataTable =\n",
              "            await google.colab.kernel.invokeFunction('convertToInteractive',\n",
              "                                                     [key], {});\n",
              "          if (!dataTable) return;\n",
              "\n",
              "          const docLinkHtml = 'Like what you see? Visit the ' +\n",
              "            '<a target=\"_blank\" href=https://colab.research.google.com/notebooks/data_table.ipynb>data table notebook</a>'\n",
              "            + ' to learn more about interactive tables.';\n",
              "          element.innerHTML = '';\n",
              "          dataTable['output_type'] = 'display_data';\n",
              "          await google.colab.output.renderOutput(dataTable, element);\n",
              "          const docLink = document.createElement('div');\n",
              "          docLink.innerHTML = docLinkHtml;\n",
              "          element.appendChild(docLink);\n",
              "        }\n",
              "      </script>\n",
              "    </div>\n",
              "  </div>\n",
              "  "
            ],
            "text/plain": [
              "     Gender Married Dependents  ... Credit_History Property_Area  Loan_Status\n",
              "0      Male      No          0  ...            1.0         Urban            Y\n",
              "1      Male     Yes          1  ...            1.0         Rural            N\n",
              "2      Male     Yes          0  ...            1.0         Urban            Y\n",
              "3      Male     Yes          0  ...            1.0         Urban            Y\n",
              "4      Male      No          0  ...            1.0         Urban            Y\n",
              "..      ...     ...        ...  ...            ...           ...          ...\n",
              "609  Female      No          0  ...            1.0         Rural            Y\n",
              "610    Male     Yes         3+  ...            1.0         Rural            Y\n",
              "611    Male     Yes          1  ...            1.0         Urban            Y\n",
              "612    Male     Yes          2  ...            1.0         Urban            Y\n",
              "613  Female      No          0  ...            0.0     Semiurban            N\n",
              "\n",
              "[614 rows x 12 columns]"
            ]
          },
          "metadata": {},
          "execution_count": 37
        }
      ]
    },
    {
      "cell_type": "markdown",
      "source": [
        "## Visualization"
      ],
      "metadata": {
        "id": "r0ZReeptIE4F"
      }
    },
    {
      "cell_type": "code",
      "source": [
        "#visualize the histogram of Loan_Status\n",
        "\n",
        "plt.hist(df['Loan_Status'])\n",
        "plt.xlabel('Loan_Status')\n",
        "plt.title('histogram of Loan_Status')"
      ],
      "metadata": {
        "colab": {
          "base_uri": "https://localhost:8080/",
          "height": 314
        },
        "id": "Jn904fOLH30c",
        "outputId": "c65620a0-0b4a-4d8a-dd46-f1293a1d7c43"
      },
      "execution_count": 38,
      "outputs": [
        {
          "output_type": "execute_result",
          "data": {
            "text/plain": [
              "Text(0.5, 1.0, 'histogram of Loan_Status')"
            ]
          },
          "metadata": {},
          "execution_count": 38
        },
        {
          "output_type": "display_data",
          "data": {
            "image/png": "[encoded data removed]",
            "text/plain": [
              "<Figure size 432x288 with 1 Axes>"
            ]
          },
          "metadata": {
            "needs_background": "light"
          }
        }
      ]
    },
    {
      "cell_type": "markdown",
      "source": [
        "we can clearly see that \"Y\" values are more occuring then \"N\" values. SO,we can deal with this kind of imbalanced data by using a F1-score as our metrics evaluation method while training the model"
      ],
      "metadata": {
        "id": "a93kV3RQIPpU"
      }
    },
    {
      "cell_type": "code",
      "source": [
        "import warnings\n",
        "warnings.filterwarnings('ignore') #to remove warning messages"
      ],
      "metadata": {
        "id": "pCFKCnU2IMaz"
      },
      "execution_count": 61,
      "outputs": []
    },
    {
      "cell_type": "code",
      "source": [
        "sns.factorplot('Gender', data=df, kind=\"count\") ## Let's check Gender"
      ],
      "metadata": {
        "colab": {
          "base_uri": "https://localhost:8080/",
          "height": 387
        },
        "id": "I83mURFEIdTs",
        "outputId": "228beeac-d274-434d-afc9-634a244f43a4"
      },
      "execution_count": 41,
      "outputs": [
        {
          "output_type": "execute_result",
          "data": {
            "text/plain": [
              "<seaborn.axisgrid.FacetGrid at 0x7fb7c8aac4d0>"
            ]
          },
          "metadata": {},
          "execution_count": 41
        },
        {
          "output_type": "display_data",
          "data": {
            "image/png": "[encoded data removed]",
            "text/plain": [
              "<Figure size 360x360 with 1 Axes>"
            ]
          },
          "metadata": {
            "needs_background": "light"
          }
        }
      ]
    },
    {
      "cell_type": "markdown",
      "source": [
        "clearly there are more records based of male person compared to female"
      ],
      "metadata": {
        "id": "ES8n3FVAIifF"
      }
    },
    {
      "cell_type": "code",
      "source": [
        "# Now let's seperate the genders by MaritalStatus  using 'hue' arguement \n",
        "\n",
        "sns.factorplot('Gender', data=df, kind=\"count\", hue='Married')"
      ],
      "metadata": {
        "colab": {
          "base_uri": "https://localhost:8080/",
          "height": 387
        },
        "id": "soE0fYMMIgqy",
        "outputId": "af4a66a9-7e17-4b4a-d146-e5435577c899"
      },
      "execution_count": 44,
      "outputs": [
        {
          "output_type": "execute_result",
          "data": {
            "text/plain": [
              "<seaborn.axisgrid.FacetGrid at 0x7fb7bfcd2a90>"
            ]
          },
          "metadata": {},
          "execution_count": 44
        },
        {
          "output_type": "display_data",
          "data": {
            "image/png": "[encoded data removed]",
            "text/plain": [
              "<Figure size 412x360 with 1 Axes>"
            ]
          },
          "metadata": {
            "needs_background": "light"
          }
        }
      ]
    },
    {
      "cell_type": "markdown",
      "source": [
        "with above observation,in case of male most of are married wheras in female case most of them were unmarried."
      ],
      "metadata": {
        "id": "DHE_5b6XI3PE"
      }
    },
    {
      "cell_type": "code",
      "source": [
        "\n",
        "sns.factorplot('Education', data=df, kind=\"count\", hue='Loan_Status')"
      ],
      "metadata": {
        "colab": {
          "base_uri": "https://localhost:8080/",
          "height": 387
        },
        "id": "1Mqg6LoBIxfL",
        "outputId": "ad780a42-fb25-4949-98c7-2644972891f0"
      },
      "execution_count": 47,
      "outputs": [
        {
          "output_type": "execute_result",
          "data": {
            "text/plain": [
              "<seaborn.axisgrid.FacetGrid at 0x7fb7bfb25890>"
            ]
          },
          "metadata": {},
          "execution_count": 47
        },
        {
          "output_type": "display_data",
          "data": {
            "image/png": "[encoded data removed]",
            "text/plain": [
              "<Figure size 428.625x360 with 1 Axes>"
            ]
          },
          "metadata": {
            "needs_background": "light"
          }
        }
      ]
    },
    {
      "cell_type": "markdown",
      "source": [
        "So,most of them who are graduated gone for loan approval."
      ],
      "metadata": {
        "id": "pTdvGrJiKpp2"
      }
    },
    {
      "cell_type": "code",
      "source": [
        "sns.factorplot('Property_Area', data=df, kind=\"count\", hue='Loan_Status')"
      ],
      "metadata": {
        "colab": {
          "base_uri": "https://localhost:8080/",
          "height": 387
        },
        "id": "S6K0VticKX6p",
        "outputId": "a960b6c0-9eb3-40b7-84db-802d5129e4e1"
      },
      "execution_count": 48,
      "outputs": [
        {
          "output_type": "execute_result",
          "data": {
            "text/plain": [
              "<seaborn.axisgrid.FacetGrid at 0x7fb7bfb81150>"
            ]
          },
          "metadata": {},
          "execution_count": 48
        },
        {
          "output_type": "display_data",
          "data": {
            "image/png": "[encoded data removed]",
            "text/plain": [
              "<Figure size 428.625x360 with 1 Axes>"
            ]
          },
          "metadata": {
            "needs_background": "light"
          }
        }
      ]
    },
    {
      "cell_type": "markdown",
      "source": [
        "so,those who are living in Semiurban went for Loan."
      ],
      "metadata": {
        "id": "GwZaS6N3K-2L"
      }
    },
    {
      "cell_type": "code",
      "source": [
        "sns.factorplot('Dependents', data=df, kind=\"count\", hue='Loan_Status')"
      ],
      "metadata": {
        "colab": {
          "base_uri": "https://localhost:8080/",
          "height": 387
        },
        "id": "P9k2p-UEK74x",
        "outputId": "0eb0e057-d713-4e0b-c2af-45037c0b9464"
      },
      "execution_count": 54,
      "outputs": [
        {
          "output_type": "execute_result",
          "data": {
            "text/plain": [
              "<seaborn.axisgrid.FacetGrid at 0x7fb7bfb1fc50>"
            ]
          },
          "metadata": {},
          "execution_count": 54
        },
        {
          "output_type": "display_data",
          "data": {
            "image/png": "[encoded data removed]",
            "text/plain": [
              "<Figure size 428.625x360 with 1 Axes>"
            ]
          },
          "metadata": {
            "needs_background": "light"
          }
        }
      ]
    },
    {
      "cell_type": "markdown",
      "source": [
        "mostly who don't have any dependent went for Loan."
      ],
      "metadata": {
        "id": "l9Xs0MQTMLwT"
      }
    },
    {
      "cell_type": "code",
      "source": [
        "a = sns.factorplot('Dependents', data=df, kind=\"count\", hue='Education')\n",
        "a.set_xticklabels(rotation=60)"
      ],
      "metadata": {
        "colab": {
          "base_uri": "https://localhost:8080/",
          "height": 395
        },
        "id": "PtZvN00LLXrZ",
        "outputId": "2b1dc5bc-31da-402b-c6e3-6c3fe8fa5a9d"
      },
      "execution_count": 59,
      "outputs": [
        {
          "output_type": "execute_result",
          "data": {
            "text/plain": [
              "<seaborn.axisgrid.FacetGrid at 0x7fb7bed43750>"
            ]
          },
          "metadata": {},
          "execution_count": 59
        },
        {
          "output_type": "display_data",
          "data": {
            "image/png": "[encoded data removed]",
            "text/plain": [
              "<Figure size 463.375x360 with 1 Axes>"
            ]
          },
          "metadata": {
            "needs_background": "light"
          }
        }
      ]
    },
    {
      "cell_type": "markdown",
      "source": [
        "So,mostly those who have no dependent are graduated."
      ],
      "metadata": {
        "id": "8ZJXuQsmNauD"
      }
    },
    {
      "cell_type": "code",
      "source": [
        "plt.figure(figsize=(10,5))\n",
        "plt.xlim(0,1000)\n",
        "plt.ylabel('LoanAmount')\n",
        "sns.boxplot(x=df['LoanAmount'])\n",
        "plt.show()"
      ],
      "metadata": {
        "colab": {
          "base_uri": "https://localhost:8080/",
          "height": 334
        },
        "id": "Nr8ndUR4OLAC",
        "outputId": "570b1ea0-e6b4-441b-b956-d68230635556"
      },
      "execution_count": 62,
      "outputs": [
        {
          "output_type": "display_data",
          "data": {
            "image/png": "[encoded data removed]",
            "text/plain": [
              "<Figure size 720x360 with 1 Axes>"
            ]
          },
          "metadata": {
            "needs_background": "light"
          }
        }
      ]
    },
    {
      "cell_type": "markdown",
      "source": [
        "So,most of them went to get loan amount between 100 to 160"
      ],
      "metadata": {
        "id": "5B8wvN9dOx_5"
      }
    },
    {
      "cell_type": "code",
      "source": [
        "df.columns"
      ],
      "metadata": {
        "colab": {
          "base_uri": "https://localhost:8080/"
        },
        "id": "vGmjpsgIPbhX",
        "outputId": "75a2983a-3e7b-440b-f5d6-dc20d850bf8e"
      },
      "execution_count": 64,
      "outputs": [
        {
          "output_type": "execute_result",
          "data": {
            "text/plain": [
              "Index(['Gender', 'Married', 'Dependents', 'Education', 'Self_Employed',\n",
              "       'ApplicantIncome', 'CoapplicantIncome', 'LoanAmount',\n",
              "       'Loan_Amount_Term', 'Credit_History', 'Property_Area', 'Loan_Status'],\n",
              "      dtype='object')"
            ]
          },
          "metadata": {},
          "execution_count": 64
        }
      ]
    },
    {
      "cell_type": "code",
      "source": [
        "#checking with loan status based on income and loan amount\n",
        "plt.figure(figsize=(14,8))\n",
        "sns.lineplot(x=\"LoanAmount\", y=\"ApplicantIncome\", hue='Loan_Status', data=df)\n",
        "plt.show()"
      ],
      "metadata": {
        "colab": {
          "base_uri": "https://localhost:8080/",
          "height": 496
        },
        "id": "88vGF-X4OomZ",
        "outputId": "8a3ee362-1203-4f53-dbab-12c67147f589"
      },
      "execution_count": 66,
      "outputs": [
        {
          "output_type": "display_data",
          "data": {
            "image/png": "[encoded data removed]",
            "text/plain": [
              "<Figure size 1008x576 with 1 Axes>"
            ]
          },
          "metadata": {
            "needs_background": "light"
          }
        }
      ]
    },
    {
      "cell_type": "markdown",
      "source": [
        "So,the person who is asking loan for between 340 to 370 and havng above 60000 of income got response as \"N\" for thier loan_status"
      ],
      "metadata": {
        "id": "fchVLJlfQdOb"
      }
    },
    {
      "cell_type": "code",
      "source": [
        "#Since there are objective type columns,so we can use Label encoder method\n",
        "\n",
        "from sklearn.preprocessing import LabelEncoder\n",
        "\n",
        "df['Gender'] = LabelEncoder().fit_transform(df['Gender'])\n",
        "df['Married'] = LabelEncoder().fit_transform(df['Married'])\n",
        "df['Dependents'] = LabelEncoder().fit_transform(df['Dependents'])\n",
        "df['Education'] = LabelEncoder().fit_transform(df['Education'])\n",
        "df['Self_Employed'] = LabelEncoder().fit_transform(df['Self_Employed'])\n",
        "df['Property_Area'] = LabelEncoder().fit_transform(df['Property_Area'])\n",
        "\n",
        "df['Loan_Status'] = LabelEncoder().fit_transform(df['Loan_Status'])\n",
        "df['Credit_History'] = LabelEncoder().fit_transform(df['Credit_History'])\n"
      ],
      "metadata": {
        "id": "fsnWHhP9PuNn"
      },
      "execution_count": 70,
      "outputs": []
    },
    {
      "cell_type": "code",
      "source": [
        "df.head()"
      ],
      "metadata": {
        "colab": {
          "base_uri": "https://localhost:8080/",
          "height": 206
        },
        "id": "C4pD5o9kRkJ9",
        "outputId": "39828b5d-399d-46b1-a981-39c7362abb20"
      },
      "execution_count": 71,
      "outputs": [
        {
          "output_type": "execute_result",
          "data": {
            "text/html": [
              "\n",
              "  <div id=\"df-97a41288-5b66-4329-9636-d387cc513cdb\">\n",
              "    <div class=\"colab-df-container\">\n",
              "      <div>\n",
              "<style scoped>\n",
              "    .dataframe tbody tr th:only-of-type {\n",
              "        vertical-align: middle;\n",
              "    }\n",
              "\n",
              "    .dataframe tbody tr th {\n",
              "        vertical-align: top;\n",
              "    }\n",
              "\n",
              "    .dataframe thead th {\n",
              "        text-align: right;\n",
              "    }\n",
              "</style>\n",
              "<table border=\"1\" class=\"dataframe\">\n",
              "  <thead>\n",
              "    <tr style=\"text-align: right;\">\n",
              "      <th></th>\n",
              "      <th>Gender</th>\n",
              "      <th>Married</th>\n",
              "      <th>Dependents</th>\n",
              "      <th>Education</th>\n",
              "      <th>Self_Employed</th>\n",
              "      <th>ApplicantIncome</th>\n",
              "      <th>CoapplicantIncome</th>\n",
              "      <th>LoanAmount</th>\n",
              "      <th>Loan_Amount_Term</th>\n",
              "      <th>Credit_History</th>\n",
              "      <th>Property_Area</th>\n",
              "      <th>Loan_Status</th>\n",
              "    </tr>\n",
              "  </thead>\n",
              "  <tbody>\n",
              "    <tr>\n",
              "      <th>0</th>\n",
              "      <td>1</td>\n",
              "      <td>0</td>\n",
              "      <td>0</td>\n",
              "      <td>0</td>\n",
              "      <td>0</td>\n",
              "      <td>5849</td>\n",
              "      <td>0.0</td>\n",
              "      <td>146.412162</td>\n",
              "      <td>360.0</td>\n",
              "      <td>1</td>\n",
              "      <td>2</td>\n",
              "      <td>1</td>\n",
              "    </tr>\n",
              "    <tr>\n",
              "      <th>1</th>\n",
              "      <td>1</td>\n",
              "      <td>1</td>\n",
              "      <td>1</td>\n",
              "      <td>0</td>\n",
              "      <td>0</td>\n",
              "      <td>4583</td>\n",
              "      <td>1508.0</td>\n",
              "      <td>128.000000</td>\n",
              "      <td>360.0</td>\n",
              "      <td>1</td>\n",
              "      <td>0</td>\n",
              "      <td>0</td>\n",
              "    </tr>\n",
              "    <tr>\n",
              "      <th>2</th>\n",
              "      <td>1</td>\n",
              "      <td>1</td>\n",
              "      <td>0</td>\n",
              "      <td>0</td>\n",
              "      <td>1</td>\n",
              "      <td>3000</td>\n",
              "      <td>0.0</td>\n",
              "      <td>66.000000</td>\n",
              "      <td>360.0</td>\n",
              "      <td>1</td>\n",
              "      <td>2</td>\n",
              "      <td>1</td>\n",
              "    </tr>\n",
              "    <tr>\n",
              "      <th>3</th>\n",
              "      <td>1</td>\n",
              "      <td>1</td>\n",
              "      <td>0</td>\n",
              "      <td>1</td>\n",
              "      <td>0</td>\n",
              "      <td>2583</td>\n",
              "      <td>2358.0</td>\n",
              "      <td>120.000000</td>\n",
              "      <td>360.0</td>\n",
              "      <td>1</td>\n",
              "      <td>2</td>\n",
              "      <td>1</td>\n",
              "    </tr>\n",
              "    <tr>\n",
              "      <th>4</th>\n",
              "      <td>1</td>\n",
              "      <td>0</td>\n",
              "      <td>0</td>\n",
              "      <td>0</td>\n",
              "      <td>0</td>\n",
              "      <td>6000</td>\n",
              "      <td>0.0</td>\n",
              "      <td>141.000000</td>\n",
              "      <td>360.0</td>\n",
              "      <td>1</td>\n",
              "      <td>2</td>\n",
              "      <td>1</td>\n",
              "    </tr>\n",
              "  </tbody>\n",
              "</table>\n",
              "</div>\n",
              "      <button class=\"colab-df-convert\" onclick=\"convertToInteractive('df-97a41288-5b66-4329-9636-d387cc513cdb')\"\n",
              "              title=\"Convert this dataframe to an interactive table.\"\n",
              "              style=\"display:none;\">\n",
              "        \n",
              "  <svg xmlns=\"http://www.w3.org/2000/svg\" height=\"24px\"viewBox=\"0 0 24 24\"\n",
              "       width=\"24px\">\n",
              "    <path d=\"M0 0h24v24H0V0z\" fill=\"none\"/>\n",
              "    <path d=\"M18.56 5.44l.94 2.06.94-2.06 2.06-.94-2.06-.94-.94-2.06-.94 2.06-2.06.94zm-11 1L8.5 8.5l.94-2.06 2.06-.94-2.06-.94L8.5 2.5l-.94 2.06-2.06.94zm10 10l.94 2.06.94-2.06 2.06-.94-2.06-.94-.94-2.06-.94 2.06-2.06.94z\"/><path d=\"M17.41 7.96l-1.37-1.37c-.4-.4-.92-.59-1.43-.59-.52 0-1.04.2-1.43.59L10.3 9.45l-7.72 7.72c-.78.78-.78 2.05 0 2.83L4 21.41c.39.39.9.59 1.41.59.51 0 1.02-.2 1.41-.59l7.78-7.78 2.81-2.81c.8-.78.8-2.07 0-2.86zM5.41 20L4 18.59l7.72-7.72 1.47 1.35L5.41 20z\"/>\n",
              "  </svg>\n",
              "      </button>\n",
              "      \n",
              "  <style>\n",
              "    .colab-df-container {\n",
              "      display:flex;\n",
              "      flex-wrap:wrap;\n",
              "      gap: 12px;\n",
              "    }\n",
              "\n",
              "    .colab-df-convert {\n",
              "      background-color: #E8F0FE;\n",
              "      border: none;\n",
              "      border-radius: 50%;\n",
              "      cursor: pointer;\n",
              "      display: none;\n",
              "      fill: #1967D2;\n",
              "      height: 32px;\n",
              "      padding: 0 0 0 0;\n",
              "      width: 32px;\n",
              "    }\n",
              "\n",
              "    .colab-df-convert:hover {\n",
              "      background-color: #E2EBFA;\n",
              "      box-shadow: 0px 1px 2px rgba(60, 64, 67, 0.3), 0px 1px 3px 1px rgba(60, 64, 67, 0.15);\n",
              "      fill: #174EA6;\n",
              "    }\n",
              "\n",
              "    [theme=dark] .colab-df-convert {\n",
              "      background-color: #3B4455;\n",
              "      fill: #D2E3FC;\n",
              "    }\n",
              "\n",
              "    [theme=dark] .colab-df-convert:hover {\n",
              "      background-color: #434B5C;\n",
              "      box-shadow: 0px 1px 3px 1px rgba(0, 0, 0, 0.15);\n",
              "      filter: drop-shadow(0px 1px 2px rgba(0, 0, 0, 0.3));\n",
              "      fill: #FFFFFF;\n",
              "    }\n",
              "  </style>\n",
              "\n",
              "      <script>\n",
              "        const buttonEl =\n",
              "          document.querySelector('#df-97a41288-5b66-4329-9636-d387cc513cdb button.colab-df-convert');\n",
              "        buttonEl.style.display =\n",
              "          google.colab.kernel.accessAllowed ? 'block' : 'none';\n",
              "\n",
              "        async function convertToInteractive(key) {\n",
              "          const element = document.querySelector('#df-97a41288-5b66-4329-9636-d387cc513cdb');\n",
              "          const dataTable =\n",
              "            await google.colab.kernel.invokeFunction('convertToInteractive',\n",
              "                                                     [key], {});\n",
              "          if (!dataTable) return;\n",
              "\n",
              "          const docLinkHtml = 'Like what you see? Visit the ' +\n",
              "            '<a target=\"_blank\" href=https://colab.research.google.com/notebooks/data_table.ipynb>data table notebook</a>'\n",
              "            + ' to learn more about interactive tables.';\n",
              "          element.innerHTML = '';\n",
              "          dataTable['output_type'] = 'display_data';\n",
              "          await google.colab.output.renderOutput(dataTable, element);\n",
              "          const docLink = document.createElement('div');\n",
              "          docLink.innerHTML = docLinkHtml;\n",
              "          element.appendChild(docLink);\n",
              "        }\n",
              "      </script>\n",
              "    </div>\n",
              "  </div>\n",
              "  "
            ],
            "text/plain": [
              "   Gender  Married  Dependents  ...  Credit_History  Property_Area  Loan_Status\n",
              "0       1        0           0  ...               1              2            1\n",
              "1       1        1           1  ...               1              0            0\n",
              "2       1        1           0  ...               1              2            1\n",
              "3       1        1           0  ...               1              2            1\n",
              "4       1        0           0  ...               1              2            1\n",
              "\n",
              "[5 rows x 12 columns]"
            ]
          },
          "metadata": {},
          "execution_count": 71
        }
      ]
    },
    {
      "cell_type": "markdown",
      "source": [
        "## Correlation"
      ],
      "metadata": {
        "id": "p42X2teFR9_J"
      }
    },
    {
      "cell_type": "code",
      "source": [
        "df.corr()"
      ],
      "metadata": {
        "colab": {
          "base_uri": "https://localhost:8080/",
          "height": 490
        },
        "id": "3XFVeMYrRnpN",
        "outputId": "5ea5c3c4-c84b-4450-ed1c-cbeb64386515"
      },
      "execution_count": 72,
      "outputs": [
        {
          "output_type": "execute_result",
          "data": {
            "text/html": [
              "\n",
              "  <div id=\"df-aefcb93d-579a-4fbf-979f-a8506f76a59f\">\n",
              "    <div class=\"colab-df-container\">\n",
              "      <div>\n",
              "<style scoped>\n",
              "    .dataframe tbody tr th:only-of-type {\n",
              "        vertical-align: middle;\n",
              "    }\n",
              "\n",
              "    .dataframe tbody tr th {\n",
              "        vertical-align: top;\n",
              "    }\n",
              "\n",
              "    .dataframe thead th {\n",
              "        text-align: right;\n",
              "    }\n",
              "</style>\n",
              "<table border=\"1\" class=\"dataframe\">\n",
              "  <thead>\n",
              "    <tr style=\"text-align: right;\">\n",
              "      <th></th>\n",
              "      <th>Gender</th>\n",
              "      <th>Married</th>\n",
              "      <th>Dependents</th>\n",
              "      <th>Education</th>\n",
              "      <th>Self_Employed</th>\n",
              "      <th>ApplicantIncome</th>\n",
              "      <th>CoapplicantIncome</th>\n",
              "      <th>LoanAmount</th>\n",
              "      <th>Loan_Amount_Term</th>\n",
              "      <th>Credit_History</th>\n",
              "      <th>Property_Area</th>\n",
              "      <th>Loan_Status</th>\n",
              "    </tr>\n",
              "  </thead>\n",
              "  <tbody>\n",
              "    <tr>\n",
              "      <th>Gender</th>\n",
              "      <td>1.000000</td>\n",
              "      <td>0.364569</td>\n",
              "      <td>0.172914</td>\n",
              "      <td>0.045364</td>\n",
              "      <td>-0.000525</td>\n",
              "      <td>0.058809</td>\n",
              "      <td>0.082912</td>\n",
              "      <td>0.107930</td>\n",
              "      <td>-0.073567</td>\n",
              "      <td>0.009170</td>\n",
              "      <td>-0.025752</td>\n",
              "      <td>0.017987</td>\n",
              "    </tr>\n",
              "    <tr>\n",
              "      <th>Married</th>\n",
              "      <td>0.364569</td>\n",
              "      <td>1.000000</td>\n",
              "      <td>0.334216</td>\n",
              "      <td>0.012304</td>\n",
              "      <td>0.004489</td>\n",
              "      <td>0.051708</td>\n",
              "      <td>0.075948</td>\n",
              "      <td>0.147141</td>\n",
              "      <td>-0.100863</td>\n",
              "      <td>0.010938</td>\n",
              "      <td>0.004257</td>\n",
              "      <td>0.091478</td>\n",
              "    </tr>\n",
              "    <tr>\n",
              "      <th>Dependents</th>\n",
              "      <td>0.172914</td>\n",
              "      <td>0.334216</td>\n",
              "      <td>1.000000</td>\n",
              "      <td>0.055752</td>\n",
              "      <td>0.056798</td>\n",
              "      <td>0.118202</td>\n",
              "      <td>0.030430</td>\n",
              "      <td>0.163106</td>\n",
              "      <td>-0.101054</td>\n",
              "      <td>-0.040160</td>\n",
              "      <td>-0.000244</td>\n",
              "      <td>0.010118</td>\n",
              "    </tr>\n",
              "    <tr>\n",
              "      <th>Education</th>\n",
              "      <td>0.045364</td>\n",
              "      <td>0.012304</td>\n",
              "      <td>0.055752</td>\n",
              "      <td>1.000000</td>\n",
              "      <td>-0.010383</td>\n",
              "      <td>-0.140760</td>\n",
              "      <td>-0.062290</td>\n",
              "      <td>-0.166998</td>\n",
              "      <td>-0.077242</td>\n",
              "      <td>-0.073658</td>\n",
              "      <td>-0.065243</td>\n",
              "      <td>-0.085884</td>\n",
              "    </tr>\n",
              "    <tr>\n",
              "      <th>Self_Employed</th>\n",
              "      <td>-0.000525</td>\n",
              "      <td>0.004489</td>\n",
              "      <td>0.056798</td>\n",
              "      <td>-0.010383</td>\n",
              "      <td>1.000000</td>\n",
              "      <td>0.127180</td>\n",
              "      <td>-0.016100</td>\n",
              "      <td>0.115260</td>\n",
              "      <td>-0.033943</td>\n",
              "      <td>-0.001550</td>\n",
              "      <td>-0.030860</td>\n",
              "      <td>-0.003700</td>\n",
              "    </tr>\n",
              "    <tr>\n",
              "      <th>ApplicantIncome</th>\n",
              "      <td>0.058809</td>\n",
              "      <td>0.051708</td>\n",
              "      <td>0.118202</td>\n",
              "      <td>-0.140760</td>\n",
              "      <td>0.127180</td>\n",
              "      <td>1.000000</td>\n",
              "      <td>-0.116605</td>\n",
              "      <td>0.565620</td>\n",
              "      <td>-0.045242</td>\n",
              "      <td>-0.018615</td>\n",
              "      <td>-0.009500</td>\n",
              "      <td>-0.004710</td>\n",
              "    </tr>\n",
              "    <tr>\n",
              "      <th>CoapplicantIncome</th>\n",
              "      <td>0.082912</td>\n",
              "      <td>0.075948</td>\n",
              "      <td>0.030430</td>\n",
              "      <td>-0.062290</td>\n",
              "      <td>-0.016100</td>\n",
              "      <td>-0.116605</td>\n",
              "      <td>1.000000</td>\n",
              "      <td>0.187828</td>\n",
              "      <td>-0.059675</td>\n",
              "      <td>0.011134</td>\n",
              "      <td>0.010522</td>\n",
              "      <td>-0.059187</td>\n",
              "    </tr>\n",
              "    <tr>\n",
              "      <th>LoanAmount</th>\n",
              "      <td>0.107930</td>\n",
              "      <td>0.147141</td>\n",
              "      <td>0.163106</td>\n",
              "      <td>-0.166998</td>\n",
              "      <td>0.115260</td>\n",
              "      <td>0.565620</td>\n",
              "      <td>0.187828</td>\n",
              "      <td>1.000000</td>\n",
              "      <td>0.038801</td>\n",
              "      <td>-0.001431</td>\n",
              "      <td>-0.044776</td>\n",
              "      <td>-0.036416</td>\n",
              "    </tr>\n",
              "    <tr>\n",
              "      <th>Loan_Amount_Term</th>\n",
              "      <td>-0.073567</td>\n",
              "      <td>-0.100863</td>\n",
              "      <td>-0.101054</td>\n",
              "      <td>-0.077242</td>\n",
              "      <td>-0.033943</td>\n",
              "      <td>-0.045242</td>\n",
              "      <td>-0.059675</td>\n",
              "      <td>0.038801</td>\n",
              "      <td>1.000000</td>\n",
              "      <td>0.000432</td>\n",
              "      <td>-0.077620</td>\n",
              "      <td>-0.020974</td>\n",
              "    </tr>\n",
              "    <tr>\n",
              "      <th>Credit_History</th>\n",
              "      <td>0.009170</td>\n",
              "      <td>0.010938</td>\n",
              "      <td>-0.040160</td>\n",
              "      <td>-0.073658</td>\n",
              "      <td>-0.001550</td>\n",
              "      <td>-0.018615</td>\n",
              "      <td>0.011134</td>\n",
              "      <td>-0.001431</td>\n",
              "      <td>0.000432</td>\n",
              "      <td>1.000000</td>\n",
              "      <td>0.001963</td>\n",
              "      <td>0.540556</td>\n",
              "    </tr>\n",
              "    <tr>\n",
              "      <th>Property_Area</th>\n",
              "      <td>-0.025752</td>\n",
              "      <td>0.004257</td>\n",
              "      <td>-0.000244</td>\n",
              "      <td>-0.065243</td>\n",
              "      <td>-0.030860</td>\n",
              "      <td>-0.009500</td>\n",
              "      <td>0.010522</td>\n",
              "      <td>-0.044776</td>\n",
              "      <td>-0.077620</td>\n",
              "      <td>0.001963</td>\n",
              "      <td>1.000000</td>\n",
              "      <td>0.032112</td>\n",
              "    </tr>\n",
              "    <tr>\n",
              "      <th>Loan_Status</th>\n",
              "      <td>0.017987</td>\n",
              "      <td>0.091478</td>\n",
              "      <td>0.010118</td>\n",
              "      <td>-0.085884</td>\n",
              "      <td>-0.003700</td>\n",
              "      <td>-0.004710</td>\n",
              "      <td>-0.059187</td>\n",
              "      <td>-0.036416</td>\n",
              "      <td>-0.020974</td>\n",
              "      <td>0.540556</td>\n",
              "      <td>0.032112</td>\n",
              "      <td>1.000000</td>\n",
              "    </tr>\n",
              "  </tbody>\n",
              "</table>\n",
              "</div>\n",
              "      <button class=\"colab-df-convert\" onclick=\"convertToInteractive('df-aefcb93d-579a-4fbf-979f-a8506f76a59f')\"\n",
              "              title=\"Convert this dataframe to an interactive table.\"\n",
              "              style=\"display:none;\">\n",
              "        \n",
              "  <svg xmlns=\"http://www.w3.org/2000/svg\" height=\"24px\"viewBox=\"0 0 24 24\"\n",
              "       width=\"24px\">\n",
              "    <path d=\"M0 0h24v24H0V0z\" fill=\"none\"/>\n",
              "    <path d=\"M18.56 5.44l.94 2.06.94-2.06 2.06-.94-2.06-.94-.94-2.06-.94 2.06-2.06.94zm-11 1L8.5 8.5l.94-2.06 2.06-.94-2.06-.94L8.5 2.5l-.94 2.06-2.06.94zm10 10l.94 2.06.94-2.06 2.06-.94-2.06-.94-.94-2.06-.94 2.06-2.06.94z\"/><path d=\"M17.41 7.96l-1.37-1.37c-.4-.4-.92-.59-1.43-.59-.52 0-1.04.2-1.43.59L10.3 9.45l-7.72 7.72c-.78.78-.78 2.05 0 2.83L4 21.41c.39.39.9.59 1.41.59.51 0 1.02-.2 1.41-.59l7.78-7.78 2.81-2.81c.8-.78.8-2.07 0-2.86zM5.41 20L4 18.59l7.72-7.72 1.47 1.35L5.41 20z\"/>\n",
              "  </svg>\n",
              "      </button>\n",
              "      \n",
              "  <style>\n",
              "    .colab-df-container {\n",
              "      display:flex;\n",
              "      flex-wrap:wrap;\n",
              "      gap: 12px;\n",
              "    }\n",
              "\n",
              "    .colab-df-convert {\n",
              "      background-color: #E8F0FE;\n",
              "      border: none;\n",
              "      border-radius: 50%;\n",
              "      cursor: pointer;\n",
              "      display: none;\n",
              "      fill: #1967D2;\n",
              "      height: 32px;\n",
              "      padding: 0 0 0 0;\n",
              "      width: 32px;\n",
              "    }\n",
              "\n",
              "    .colab-df-convert:hover {\n",
              "      background-color: #E2EBFA;\n",
              "      box-shadow: 0px 1px 2px rgba(60, 64, 67, 0.3), 0px 1px 3px 1px rgba(60, 64, 67, 0.15);\n",
              "      fill: #174EA6;\n",
              "    }\n",
              "\n",
              "    [theme=dark] .colab-df-convert {\n",
              "      background-color: #3B4455;\n",
              "      fill: #D2E3FC;\n",
              "    }\n",
              "\n",
              "    [theme=dark] .colab-df-convert:hover {\n",
              "      background-color: #434B5C;\n",
              "      box-shadow: 0px 1px 3px 1px rgba(0, 0, 0, 0.15);\n",
              "      filter: drop-shadow(0px 1px 2px rgba(0, 0, 0, 0.3));\n",
              "      fill: #FFFFFF;\n",
              "    }\n",
              "  </style>\n",
              "\n",
              "      <script>\n",
              "        const buttonEl =\n",
              "          document.querySelector('#df-aefcb93d-579a-4fbf-979f-a8506f76a59f button.colab-df-convert');\n",
              "        buttonEl.style.display =\n",
              "          google.colab.kernel.accessAllowed ? 'block' : 'none';\n",
              "\n",
              "        async function convertToInteractive(key) {\n",
              "          const element = document.querySelector('#df-aefcb93d-579a-4fbf-979f-a8506f76a59f');\n",
              "          const dataTable =\n",
              "            await google.colab.kernel.invokeFunction('convertToInteractive',\n",
              "                                                     [key], {});\n",
              "          if (!dataTable) return;\n",
              "\n",
              "          const docLinkHtml = 'Like what you see? Visit the ' +\n",
              "            '<a target=\"_blank\" href=https://colab.research.google.com/notebooks/data_table.ipynb>data table notebook</a>'\n",
              "            + ' to learn more about interactive tables.';\n",
              "          element.innerHTML = '';\n",
              "          dataTable['output_type'] = 'display_data';\n",
              "          await google.colab.output.renderOutput(dataTable, element);\n",
              "          const docLink = document.createElement('div');\n",
              "          docLink.innerHTML = docLinkHtml;\n",
              "          element.appendChild(docLink);\n",
              "        }\n",
              "      </script>\n",
              "    </div>\n",
              "  </div>\n",
              "  "
            ],
            "text/plain": [
              "                     Gender   Married  ...  Property_Area  Loan_Status\n",
              "Gender             1.000000  0.364569  ...      -0.025752     0.017987\n",
              "Married            0.364569  1.000000  ...       0.004257     0.091478\n",
              "Dependents         0.172914  0.334216  ...      -0.000244     0.010118\n",
              "Education          0.045364  0.012304  ...      -0.065243    -0.085884\n",
              "Self_Employed     -0.000525  0.004489  ...      -0.030860    -0.003700\n",
              "ApplicantIncome    0.058809  0.051708  ...      -0.009500    -0.004710\n",
              "CoapplicantIncome  0.082912  0.075948  ...       0.010522    -0.059187\n",
              "LoanAmount         0.107930  0.147141  ...      -0.044776    -0.036416\n",
              "Loan_Amount_Term  -0.073567 -0.100863  ...      -0.077620    -0.020974\n",
              "Credit_History     0.009170  0.010938  ...       0.001963     0.540556\n",
              "Property_Area     -0.025752  0.004257  ...       1.000000     0.032112\n",
              "Loan_Status        0.017987  0.091478  ...       0.032112     1.000000\n",
              "\n",
              "[12 rows x 12 columns]"
            ]
          },
          "metadata": {},
          "execution_count": 72
        }
      ]
    },
    {
      "cell_type": "code",
      "source": [
        "#with target variable\n",
        "df.corr()['Loan_Status'].sort_values()"
      ],
      "metadata": {
        "colab": {
          "base_uri": "https://localhost:8080/"
        },
        "id": "SW5E7710SAgO",
        "outputId": "fc8ce2cd-6e9d-414e-ff0c-330a8b4d701e"
      },
      "execution_count": 73,
      "outputs": [
        {
          "output_type": "execute_result",
          "data": {
            "text/plain": [
              "Education           -0.085884\n",
              "CoapplicantIncome   -0.059187\n",
              "LoanAmount          -0.036416\n",
              "Loan_Amount_Term    -0.020974\n",
              "ApplicantIncome     -0.004710\n",
              "Self_Employed       -0.003700\n",
              "Dependents           0.010118\n",
              "Gender               0.017987\n",
              "Property_Area        0.032112\n",
              "Married              0.091478\n",
              "Credit_History       0.540556\n",
              "Loan_Status          1.000000\n",
              "Name: Loan_Status, dtype: float64"
            ]
          },
          "metadata": {},
          "execution_count": 73
        }
      ]
    },
    {
      "cell_type": "code",
      "source": [
        "#plotting the correlation matrix using heatmap\n",
        "\n",
        "corr_matrix = df.corr()\n",
        "plt.figure(figsize=[20,13])\n",
        "sns.heatmap(corr_matrix,annot=True)\n",
        "plt.title(\"Correlation matrix\")\n",
        "plt.show()"
      ],
      "metadata": {
        "colab": {
          "base_uri": "https://localhost:8080/",
          "height": 857
        },
        "id": "HrUo6aNRSGQG",
        "outputId": "ca263cb3-e0d3-4fdb-ad03-cfce853f0023"
      },
      "execution_count": 74,
      "outputs": [
        {
          "output_type": "display_data",
          "data": {
            "image/png": "[encoded data removed]",
            "text/plain": [
              "<Figure size 1440x936 with 2 Axes>"
            ]
          },
          "metadata": {
            "needs_background": "light"
          }
        }
      ]
    },
    {
      "cell_type": "markdown",
      "source": [
        "### with this,there are both positive and negativs correlations with target variable,\n",
        "#### 1) only Credit_History has good correlation(54%) with target variable and rest all columns have a less correlation(<=10%) with target variable."
      ],
      "metadata": {
        "id": "a0WhOG7ISQQw"
      }
    },
    {
      "cell_type": "markdown",
      "source": [
        "## Checking with outliers"
      ],
      "metadata": {
        "id": "HM_J1N2hS1G3"
      }
    },
    {
      "cell_type": "code",
      "source": [
        "column_list = df.columns.values\n",
        "n_col = 31\n",
        "n_row = 25\n",
        "plt.figure(figsize = (2*n_col,4*n_col))\n",
        "for i in range(len(column_list)):\n",
        "  plt.subplot(n_row,n_col,i+1)\n",
        "  sns.boxplot(df[column_list[i]],color='orange',orient='h')\n",
        "  plt.tight_layout()"
      ],
      "metadata": {
        "colab": {
          "base_uri": "https://localhost:8080/",
          "height": 308
        },
        "id": "hm3R-GxASLFd",
        "outputId": "f76946d7-ad58-4bd9-a19e-0e118964d338"
      },
      "execution_count": 75,
      "outputs": [
        {
          "output_type": "display_data",
          "data": {
            "image/png": "[encoded data removed]",
            "text/plain": [
              "<Figure size 4464x8928 with 12 Axes>"
            ]
          },
          "metadata": {
            "needs_background": "light"
          }
        }
      ]
    },
    {
      "cell_type": "markdown",
      "source": [
        "So,there are outliers present in columns like \"ApplicantIncome\",\"CoapplicantIncome\",\"Loan_Amount_Term\" and \"LoanAmount\""
      ],
      "metadata": {
        "id": "fH_4nCCFTAke"
      }
    },
    {
      "cell_type": "markdown",
      "source": [
        "## checking with Skewness"
      ],
      "metadata": {
        "id": "5IwNzQd_TrTY"
      }
    },
    {
      "cell_type": "code",
      "source": [
        "df.skew().sort_values()"
      ],
      "metadata": {
        "colab": {
          "base_uri": "https://localhost:8080/"
        },
        "id": "wfQOdOe7S4ou",
        "outputId": "7b2502aa-596c-49ed-b9ba-57ce381f170d"
      },
      "execution_count": 76,
      "outputs": [
        {
          "output_type": "execute_result",
          "data": {
            "text/plain": [
              "Loan_Amount_Term    -2.389680\n",
              "Credit_History      -2.021971\n",
              "Gender              -1.648795\n",
              "Loan_Status         -0.809998\n",
              "Married             -0.644850\n",
              "Property_Area       -0.066196\n",
              "Dependents           1.015551\n",
              "Education            1.367622\n",
              "Self_Employed        2.159796\n",
              "LoanAmount           2.726601\n",
              "ApplicantIncome      6.539513\n",
              "CoapplicantIncome    7.491531\n",
              "dtype: float64"
            ]
          },
          "metadata": {},
          "execution_count": 76
        }
      ]
    },
    {
      "cell_type": "markdown",
      "source": [
        "So,there is more skewness in \"CoapplicantIncome\" and \"ApplicantIncome\" compared to other columns."
      ],
      "metadata": {
        "id": "P69H_G4ETx4H"
      }
    },
    {
      "cell_type": "markdown",
      "source": [
        "## Removing the outliers"
      ],
      "metadata": {
        "id": "_5e_SrOZUH4V"
      }
    },
    {
      "cell_type": "code",
      "source": [
        "#with z-score technique\n",
        "\n",
        "from scipy.stats import zscore\n",
        "import numpy as np\n",
        "z_n = np.abs(zscore(df))\n",
        "z_n.shape"
      ],
      "metadata": {
        "colab": {
          "base_uri": "https://localhost:8080/"
        },
        "id": "K0S0zuGvTtvm",
        "outputId": "e2cdd6a2-7b4d-40eb-c9e0-e86346ea2368"
      },
      "execution_count": 77,
      "outputs": [
        {
          "output_type": "execute_result",
          "data": {
            "text/plain": [
              "(614, 12)"
            ]
          },
          "metadata": {},
          "execution_count": 77
        }
      ]
    },
    {
      "cell_type": "code",
      "source": [
        "threshold = 3\n",
        "\n",
        "df_new = df[(z_n<threshold).all(axis=1)]\n",
        "print(df.shape)\n",
        "print(df_new.shape)\n",
        "\n",
        "#printing the total number of dropped rows\n",
        "print(df.shape[0]-df_new.shape[0])"
      ],
      "metadata": {
        "colab": {
          "base_uri": "https://localhost:8080/"
        },
        "id": "PWjJuPzMUKbl",
        "outputId": "74c6a1b4-96bc-4398-a611-5ee1139ac50b"
      },
      "execution_count": 78,
      "outputs": [
        {
          "output_type": "stream",
          "name": "stdout",
          "text": [
            "(614, 12)\n",
            "(577, 12)\n",
            "37\n"
          ]
        }
      ]
    },
    {
      "cell_type": "markdown",
      "source": [
        "## calcuating the percentage of data loss"
      ],
      "metadata": {
        "id": "kG5IdYXqUPu3"
      }
    },
    {
      "cell_type": "code",
      "source": [
        "loss_perc = (df.shape[0]-df_new.shape[0])/df.shape[0]*100\n",
        "print(\"data loss percentage:{:.2f}%\".format(loss_perc))"
      ],
      "metadata": {
        "colab": {
          "base_uri": "https://localhost:8080/"
        },
        "id": "WO4t-TZZUMxN",
        "outputId": "7132f261-90a5-496d-8ca3-0c63134a1f24"
      },
      "execution_count": 79,
      "outputs": [
        {
          "output_type": "stream",
          "name": "stdout",
          "text": [
            "data loss percentage:6.03%\n"
          ]
        }
      ]
    },
    {
      "cell_type": "markdown",
      "source": [
        "there is a 6.03% data loss which is good to proceed for further."
      ],
      "metadata": {
        "id": "0qdpMajaUX5A"
      }
    },
    {
      "cell_type": "markdown",
      "source": [
        "## Dividing the data into features and vectors"
      ],
      "metadata": {
        "id": "Z3qRz97RUefN"
      }
    },
    {
      "cell_type": "code",
      "source": [
        "y = df_new[[\"Loan_Status\"]]\n",
        "x = df_new.drop([\"Loan_Status\"],axis=1)"
      ],
      "metadata": {
        "id": "41LyHj6QUSI1"
      },
      "execution_count": 81,
      "outputs": []
    },
    {
      "cell_type": "markdown",
      "source": [
        "## Checking with multicollinearity"
      ],
      "metadata": {
        "id": "3LeWRz0EUqK9"
      }
    },
    {
      "cell_type": "code",
      "source": [
        "from statsmodels.stats.outliers_influence import variance_inflation_factor\n",
        "def calc_vif_value(X):\n",
        "\n",
        "    # Calculating VIF\n",
        "    vif = pd.DataFrame()\n",
        "    vif[\"variables\"] = X.columns\n",
        "    vif[\"VIF\"] = [variance_inflation_factor(X.values, i) for i in range(X.shape[1])]\n",
        "\n",
        "    return(vif)"
      ],
      "metadata": {
        "id": "NoP6qDzMUkW1"
      },
      "execution_count": 82,
      "outputs": []
    },
    {
      "cell_type": "code",
      "source": [
        "calc_vif_value(x)"
      ],
      "metadata": {
        "colab": {
          "base_uri": "https://localhost:8080/",
          "height": 394
        },
        "id": "GYm3QHZRUssc",
        "outputId": "a50871db-d602-4071-b176-c2f7e8e6818e"
      },
      "execution_count": 83,
      "outputs": [
        {
          "output_type": "execute_result",
          "data": {
            "text/html": [
              "\n",
              "  <div id=\"df-190903fe-8239-4b99-976c-651b9fdbae4b\">\n",
              "    <div class=\"colab-df-container\">\n",
              "      <div>\n",
              "<style scoped>\n",
              "    .dataframe tbody tr th:only-of-type {\n",
              "        vertical-align: middle;\n",
              "    }\n",
              "\n",
              "    .dataframe tbody tr th {\n",
              "        vertical-align: top;\n",
              "    }\n",
              "\n",
              "    .dataframe thead th {\n",
              "        text-align: right;\n",
              "    }\n",
              "</style>\n",
              "<table border=\"1\" class=\"dataframe\">\n",
              "  <thead>\n",
              "    <tr style=\"text-align: right;\">\n",
              "      <th></th>\n",
              "      <th>variables</th>\n",
              "      <th>VIF</th>\n",
              "    </tr>\n",
              "  </thead>\n",
              "  <tbody>\n",
              "    <tr>\n",
              "      <th>0</th>\n",
              "      <td>Gender</td>\n",
              "      <td>6.203820</td>\n",
              "    </tr>\n",
              "    <tr>\n",
              "      <th>1</th>\n",
              "      <td>Married</td>\n",
              "      <td>3.797198</td>\n",
              "    </tr>\n",
              "    <tr>\n",
              "      <th>2</th>\n",
              "      <td>Dependents</td>\n",
              "      <td>1.784757</td>\n",
              "    </tr>\n",
              "    <tr>\n",
              "      <th>3</th>\n",
              "      <td>Education</td>\n",
              "      <td>1.322720</td>\n",
              "    </tr>\n",
              "    <tr>\n",
              "      <th>4</th>\n",
              "      <td>Self_Employed</td>\n",
              "      <td>1.226922</td>\n",
              "    </tr>\n",
              "    <tr>\n",
              "      <th>5</th>\n",
              "      <td>ApplicantIncome</td>\n",
              "      <td>5.477211</td>\n",
              "    </tr>\n",
              "    <tr>\n",
              "      <th>6</th>\n",
              "      <td>CoapplicantIncome</td>\n",
              "      <td>2.493247</td>\n",
              "    </tr>\n",
              "    <tr>\n",
              "      <th>7</th>\n",
              "      <td>LoanAmount</td>\n",
              "      <td>11.377859</td>\n",
              "    </tr>\n",
              "    <tr>\n",
              "      <th>8</th>\n",
              "      <td>Loan_Amount_Term</td>\n",
              "      <td>13.269711</td>\n",
              "    </tr>\n",
              "    <tr>\n",
              "      <th>9</th>\n",
              "      <td>Credit_History</td>\n",
              "      <td>6.324759</td>\n",
              "    </tr>\n",
              "    <tr>\n",
              "      <th>10</th>\n",
              "      <td>Property_Area</td>\n",
              "      <td>2.606637</td>\n",
              "    </tr>\n",
              "  </tbody>\n",
              "</table>\n",
              "</div>\n",
              "      <button class=\"colab-df-convert\" onclick=\"convertToInteractive('df-190903fe-8239-4b99-976c-651b9fdbae4b')\"\n",
              "              title=\"Convert this dataframe to an interactive table.\"\n",
              "              style=\"display:none;\">\n",
              "        \n",
              "  <svg xmlns=\"http://www.w3.org/2000/svg\" height=\"24px\"viewBox=\"0 0 24 24\"\n",
              "       width=\"24px\">\n",
              "    <path d=\"M0 0h24v24H0V0z\" fill=\"none\"/>\n",
              "    <path d=\"M18.56 5.44l.94 2.06.94-2.06 2.06-.94-2.06-.94-.94-2.06-.94 2.06-2.06.94zm-11 1L8.5 8.5l.94-2.06 2.06-.94-2.06-.94L8.5 2.5l-.94 2.06-2.06.94zm10 10l.94 2.06.94-2.06 2.06-.94-2.06-.94-.94-2.06-.94 2.06-2.06.94z\"/><path d=\"M17.41 7.96l-1.37-1.37c-.4-.4-.92-.59-1.43-.59-.52 0-1.04.2-1.43.59L10.3 9.45l-7.72 7.72c-.78.78-.78 2.05 0 2.83L4 21.41c.39.39.9.59 1.41.59.51 0 1.02-.2 1.41-.59l7.78-7.78 2.81-2.81c.8-.78.8-2.07 0-2.86zM5.41 20L4 18.59l7.72-7.72 1.47 1.35L5.41 20z\"/>\n",
              "  </svg>\n",
              "      </button>\n",
              "      \n",
              "  <style>\n",
              "    .colab-df-container {\n",
              "      display:flex;\n",
              "      flex-wrap:wrap;\n",
              "      gap: 12px;\n",
              "    }\n",
              "\n",
              "    .colab-df-convert {\n",
              "      background-color: #E8F0FE;\n",
              "      border: none;\n",
              "      border-radius: 50%;\n",
              "      cursor: pointer;\n",
              "      display: none;\n",
              "      fill: #1967D2;\n",
              "      height: 32px;\n",
              "      padding: 0 0 0 0;\n",
              "      width: 32px;\n",
              "    }\n",
              "\n",
              "    .colab-df-convert:hover {\n",
              "      background-color: #E2EBFA;\n",
              "      box-shadow: 0px 1px 2px rgba(60, 64, 67, 0.3), 0px 1px 3px 1px rgba(60, 64, 67, 0.15);\n",
              "      fill: #174EA6;\n",
              "    }\n",
              "\n",
              "    [theme=dark] .colab-df-convert {\n",
              "      background-color: #3B4455;\n",
              "      fill: #D2E3FC;\n",
              "    }\n",
              "\n",
              "    [theme=dark] .colab-df-convert:hover {\n",
              "      background-color: #434B5C;\n",
              "      box-shadow: 0px 1px 3px 1px rgba(0, 0, 0, 0.15);\n",
              "      filter: drop-shadow(0px 1px 2px rgba(0, 0, 0, 0.3));\n",
              "      fill: #FFFFFF;\n",
              "    }\n",
              "  </style>\n",
              "\n",
              "      <script>\n",
              "        const buttonEl =\n",
              "          document.querySelector('#df-190903fe-8239-4b99-976c-651b9fdbae4b button.colab-df-convert');\n",
              "        buttonEl.style.display =\n",
              "          google.colab.kernel.accessAllowed ? 'block' : 'none';\n",
              "\n",
              "        async function convertToInteractive(key) {\n",
              "          const element = document.querySelector('#df-190903fe-8239-4b99-976c-651b9fdbae4b');\n",
              "          const dataTable =\n",
              "            await google.colab.kernel.invokeFunction('convertToInteractive',\n",
              "                                                     [key], {});\n",
              "          if (!dataTable) return;\n",
              "\n",
              "          const docLinkHtml = 'Like what you see? Visit the ' +\n",
              "            '<a target=\"_blank\" href=https://colab.research.google.com/notebooks/data_table.ipynb>data table notebook</a>'\n",
              "            + ' to learn more about interactive tables.';\n",
              "          element.innerHTML = '';\n",
              "          dataTable['output_type'] = 'display_data';\n",
              "          await google.colab.output.renderOutput(dataTable, element);\n",
              "          const docLink = document.createElement('div');\n",
              "          docLink.innerHTML = docLinkHtml;\n",
              "          element.appendChild(docLink);\n",
              "        }\n",
              "      </script>\n",
              "    </div>\n",
              "  </div>\n",
              "  "
            ],
            "text/plain": [
              "            variables        VIF\n",
              "0              Gender   6.203820\n",
              "1             Married   3.797198\n",
              "2          Dependents   1.784757\n",
              "3           Education   1.322720\n",
              "4       Self_Employed   1.226922\n",
              "5     ApplicantIncome   5.477211\n",
              "6   CoapplicantIncome   2.493247\n",
              "7          LoanAmount  11.377859\n",
              "8    Loan_Amount_Term  13.269711\n",
              "9      Credit_History   6.324759\n",
              "10      Property_Area   2.606637"
            ]
          },
          "metadata": {},
          "execution_count": 83
        }
      ]
    },
    {
      "cell_type": "markdown",
      "source": [
        "## Reducing the multicollinearity"
      ],
      "metadata": {
        "id": "uBc66KGmUytX"
      }
    },
    {
      "cell_type": "code",
      "source": [
        "x[\"Loan_Amount_Term_LoanAmount\"] = df.apply(lambda x_1: x_1['Loan_Amount_Term'] - x_1['LoanAmount'],axis=1)"
      ],
      "metadata": {
        "id": "ynPq1IF0Uuv9"
      },
      "execution_count": 85,
      "outputs": []
    },
    {
      "cell_type": "code",
      "source": [
        "x= x.drop([\"Loan_Amount_Term\",\"LoanAmount\"],axis=1)"
      ],
      "metadata": {
        "id": "1FB9wYCGVAd0"
      },
      "execution_count": 86,
      "outputs": []
    },
    {
      "cell_type": "code",
      "source": [
        "calc_vif_value(x)"
      ],
      "metadata": {
        "colab": {
          "base_uri": "https://localhost:8080/",
          "height": 363
        },
        "id": "MZYTJQXCVL0b",
        "outputId": "4b96a096-fce9-48ce-b373-585dd266f795"
      },
      "execution_count": 87,
      "outputs": [
        {
          "output_type": "execute_result",
          "data": {
            "text/html": [
              "\n",
              "  <div id=\"df-427ee7de-9262-4a6e-a6e6-155b5b51f5df\">\n",
              "    <div class=\"colab-df-container\">\n",
              "      <div>\n",
              "<style scoped>\n",
              "    .dataframe tbody tr th:only-of-type {\n",
              "        vertical-align: middle;\n",
              "    }\n",
              "\n",
              "    .dataframe tbody tr th {\n",
              "        vertical-align: top;\n",
              "    }\n",
              "\n",
              "    .dataframe thead th {\n",
              "        text-align: right;\n",
              "    }\n",
              "</style>\n",
              "<table border=\"1\" class=\"dataframe\">\n",
              "  <thead>\n",
              "    <tr style=\"text-align: right;\">\n",
              "      <th></th>\n",
              "      <th>variables</th>\n",
              "      <th>VIF</th>\n",
              "    </tr>\n",
              "  </thead>\n",
              "  <tbody>\n",
              "    <tr>\n",
              "      <th>0</th>\n",
              "      <td>Gender</td>\n",
              "      <td>5.963215</td>\n",
              "    </tr>\n",
              "    <tr>\n",
              "      <th>1</th>\n",
              "      <td>Married</td>\n",
              "      <td>3.784897</td>\n",
              "    </tr>\n",
              "    <tr>\n",
              "      <th>2</th>\n",
              "      <td>Dependents</td>\n",
              "      <td>1.762850</td>\n",
              "    </tr>\n",
              "    <tr>\n",
              "      <th>3</th>\n",
              "      <td>Education</td>\n",
              "      <td>1.320969</td>\n",
              "    </tr>\n",
              "    <tr>\n",
              "      <th>4</th>\n",
              "      <td>Self_Employed</td>\n",
              "      <td>1.226810</td>\n",
              "    </tr>\n",
              "    <tr>\n",
              "      <th>5</th>\n",
              "      <td>ApplicantIncome</td>\n",
              "      <td>3.400127</td>\n",
              "    </tr>\n",
              "    <tr>\n",
              "      <th>6</th>\n",
              "      <td>CoapplicantIncome</td>\n",
              "      <td>1.923465</td>\n",
              "    </tr>\n",
              "    <tr>\n",
              "      <th>7</th>\n",
              "      <td>Credit_History</td>\n",
              "      <td>5.957809</td>\n",
              "    </tr>\n",
              "    <tr>\n",
              "      <th>8</th>\n",
              "      <td>Property_Area</td>\n",
              "      <td>2.575284</td>\n",
              "    </tr>\n",
              "    <tr>\n",
              "      <th>9</th>\n",
              "      <td>Loan_Amount_Term_LoanAmount</td>\n",
              "      <td>5.353651</td>\n",
              "    </tr>\n",
              "  </tbody>\n",
              "</table>\n",
              "</div>\n",
              "      <button class=\"colab-df-convert\" onclick=\"convertToInteractive('df-427ee7de-9262-4a6e-a6e6-155b5b51f5df')\"\n",
              "              title=\"Convert this dataframe to an interactive table.\"\n",
              "              style=\"display:none;\">\n",
              "        \n",
              "  <svg xmlns=\"http://www.w3.org/2000/svg\" height=\"24px\"viewBox=\"0 0 24 24\"\n",
              "       width=\"24px\">\n",
              "    <path d=\"M0 0h24v24H0V0z\" fill=\"none\"/>\n",
              "    <path d=\"M18.56 5.44l.94 2.06.94-2.06 2.06-.94-2.06-.94-.94-2.06-.94 2.06-2.06.94zm-11 1L8.5 8.5l.94-2.06 2.06-.94-2.06-.94L8.5 2.5l-.94 2.06-2.06.94zm10 10l.94 2.06.94-2.06 2.06-.94-2.06-.94-.94-2.06-.94 2.06-2.06.94z\"/><path d=\"M17.41 7.96l-1.37-1.37c-.4-.4-.92-.59-1.43-.59-.52 0-1.04.2-1.43.59L10.3 9.45l-7.72 7.72c-.78.78-.78 2.05 0 2.83L4 21.41c.39.39.9.59 1.41.59.51 0 1.02-.2 1.41-.59l7.78-7.78 2.81-2.81c.8-.78.8-2.07 0-2.86zM5.41 20L4 18.59l7.72-7.72 1.47 1.35L5.41 20z\"/>\n",
              "  </svg>\n",
              "      </button>\n",
              "      \n",
              "  <style>\n",
              "    .colab-df-container {\n",
              "      display:flex;\n",
              "      flex-wrap:wrap;\n",
              "      gap: 12px;\n",
              "    }\n",
              "\n",
              "    .colab-df-convert {\n",
              "      background-color: #E8F0FE;\n",
              "      border: none;\n",
              "      border-radius: 50%;\n",
              "      cursor: pointer;\n",
              "      display: none;\n",
              "      fill: #1967D2;\n",
              "      height: 32px;\n",
              "      padding: 0 0 0 0;\n",
              "      width: 32px;\n",
              "    }\n",
              "\n",
              "    .colab-df-convert:hover {\n",
              "      background-color: #E2EBFA;\n",
              "      box-shadow: 0px 1px 2px rgba(60, 64, 67, 0.3), 0px 1px 3px 1px rgba(60, 64, 67, 0.15);\n",
              "      fill: #174EA6;\n",
              "    }\n",
              "\n",
              "    [theme=dark] .colab-df-convert {\n",
              "      background-color: #3B4455;\n",
              "      fill: #D2E3FC;\n",
              "    }\n",
              "\n",
              "    [theme=dark] .colab-df-convert:hover {\n",
              "      background-color: #434B5C;\n",
              "      box-shadow: 0px 1px 3px 1px rgba(0, 0, 0, 0.15);\n",
              "      filter: drop-shadow(0px 1px 2px rgba(0, 0, 0, 0.3));\n",
              "      fill: #FFFFFF;\n",
              "    }\n",
              "  </style>\n",
              "\n",
              "      <script>\n",
              "        const buttonEl =\n",
              "          document.querySelector('#df-427ee7de-9262-4a6e-a6e6-155b5b51f5df button.colab-df-convert');\n",
              "        buttonEl.style.display =\n",
              "          google.colab.kernel.accessAllowed ? 'block' : 'none';\n",
              "\n",
              "        async function convertToInteractive(key) {\n",
              "          const element = document.querySelector('#df-427ee7de-9262-4a6e-a6e6-155b5b51f5df');\n",
              "          const dataTable =\n",
              "            await google.colab.kernel.invokeFunction('convertToInteractive',\n",
              "                                                     [key], {});\n",
              "          if (!dataTable) return;\n",
              "\n",
              "          const docLinkHtml = 'Like what you see? Visit the ' +\n",
              "            '<a target=\"_blank\" href=https://colab.research.google.com/notebooks/data_table.ipynb>data table notebook</a>'\n",
              "            + ' to learn more about interactive tables.';\n",
              "          element.innerHTML = '';\n",
              "          dataTable['output_type'] = 'display_data';\n",
              "          await google.colab.output.renderOutput(dataTable, element);\n",
              "          const docLink = document.createElement('div');\n",
              "          docLink.innerHTML = docLinkHtml;\n",
              "          element.appendChild(docLink);\n",
              "        }\n",
              "      </script>\n",
              "    </div>\n",
              "  </div>\n",
              "  "
            ],
            "text/plain": [
              "                     variables       VIF\n",
              "0                       Gender  5.963215\n",
              "1                      Married  3.784897\n",
              "2                   Dependents  1.762850\n",
              "3                    Education  1.320969\n",
              "4                Self_Employed  1.226810\n",
              "5              ApplicantIncome  3.400127\n",
              "6            CoapplicantIncome  1.923465\n",
              "7               Credit_History  5.957809\n",
              "8                Property_Area  2.575284\n",
              "9  Loan_Amount_Term_LoanAmount  5.353651"
            ]
          },
          "metadata": {},
          "execution_count": 87
        }
      ]
    },
    {
      "cell_type": "markdown",
      "source": [
        "Now,its much better with the previous values"
      ],
      "metadata": {
        "id": "gT9rNRhcVQod"
      }
    },
    {
      "cell_type": "markdown",
      "source": [
        "## Transforming data to eliminate skewness"
      ],
      "metadata": {
        "id": "KnDVR_KxVS7M"
      }
    },
    {
      "cell_type": "code",
      "source": [
        "from sklearn.preprocessing import power_transform\n",
        "x = power_transform(x)\n",
        "x[:5]"
      ],
      "metadata": {
        "colab": {
          "base_uri": "https://localhost:8080/"
        },
        "id": "pWH87RS7VMo7",
        "outputId": "f1eaaf23-1b16-4b15-871b-692026dd2496"
      },
      "execution_count": 88,
      "outputs": [
        {
          "output_type": "execute_result",
          "data": {
            "text/plain": [
              "array([[ 0.47713685, -1.36251079, -0.80924269, -0.54196123, -0.38058018,\n",
              "         0.68177996, -1.12244561,  0.41851254,  1.19480641, -0.03335237],\n",
              "       [ 0.47713685,  0.73393914,  0.90286851, -0.54196123, -0.38058018,\n",
              "         0.23478308,  0.74411669,  0.41851254, -1.34019905,  0.23579775],\n",
              "       [ 0.47713685,  0.73393914, -0.80924269, -0.54196123,  2.62756724,\n",
              "        -0.5272005 , -1.12244561,  0.41851254,  1.19480641,  1.1833118 ],\n",
              "       [ 0.47713685,  0.73393914, -0.80924269,  1.84515044, -0.38058018,\n",
              "        -0.79197189,  0.89578634,  0.41851254,  1.19480641,  0.35458205],\n",
              "       [ 0.47713685, -1.36251079, -0.80924269, -0.54196123, -0.38058018,\n",
              "         0.72884778, -1.12244561,  0.41851254,  1.19480641,  0.04513646]])"
            ]
          },
          "metadata": {},
          "execution_count": 88
        }
      ]
    },
    {
      "cell_type": "code",
      "source": [
        "from sklearn.preprocessing import StandardScaler\n",
        "sc = StandardScaler()\n",
        "x = sc.fit_transform(x)\n",
        "x[:5]"
      ],
      "metadata": {
        "colab": {
          "base_uri": "https://localhost:8080/"
        },
        "id": "ccTU3z_NVVic",
        "outputId": "f1f78236-8d64-408b-ce97-8e0a919a618e"
      },
      "execution_count": 90,
      "outputs": [
        {
          "output_type": "execute_result",
          "data": {
            "text/plain": [
              "array([[ 0.47713685, -1.36251079, -0.80924269, -0.54196123, -0.38058018,\n",
              "         0.68177996, -1.12244561,  0.41851254,  1.19480641, -0.03335237],\n",
              "       [ 0.47713685,  0.73393914,  0.90286851, -0.54196123, -0.38058018,\n",
              "         0.23478308,  0.74411669,  0.41851254, -1.34019905,  0.23579775],\n",
              "       [ 0.47713685,  0.73393914, -0.80924269, -0.54196123,  2.62756724,\n",
              "        -0.5272005 , -1.12244561,  0.41851254,  1.19480641,  1.1833118 ],\n",
              "       [ 0.47713685,  0.73393914, -0.80924269,  1.84515044, -0.38058018,\n",
              "        -0.79197189,  0.89578634,  0.41851254,  1.19480641,  0.35458205],\n",
              "       [ 0.47713685, -1.36251079, -0.80924269, -0.54196123, -0.38058018,\n",
              "         0.72884778, -1.12244561,  0.41851254,  1.19480641,  0.04513646]])"
            ]
          },
          "metadata": {},
          "execution_count": 90
        }
      ]
    },
    {
      "cell_type": "code",
      "source": [
        "x_n1 = pd.DataFrame(x) #to check with skewness again\n",
        "x_n1.skew()"
      ],
      "metadata": {
        "colab": {
          "base_uri": "https://localhost:8080/"
        },
        "id": "crYMGKr3VmjE",
        "outputId": "4c3350b5-dcc6-4e79-c3be-03ac7a01f9a5"
      },
      "execution_count": 91,
      "outputs": [
        {
          "output_type": "execute_result",
          "data": {
            "text/plain": [
              "0   -1.622920\n",
              "1   -0.630211\n",
              "2    0.478360\n",
              "3    1.306588\n",
              "4    2.252848\n",
              "5    0.027981\n",
              "6   -0.191876\n",
              "7   -1.976043\n",
              "8   -0.155094\n",
              "9   -0.426546\n",
              "dtype: float64"
            ]
          },
          "metadata": {},
          "execution_count": 91
        }
      ]
    },
    {
      "cell_type": "markdown",
      "source": [
        "Its much better with skewness values compared to previous values"
      ],
      "metadata": {
        "id": "64Z9vqIGWDGV"
      }
    },
    {
      "cell_type": "markdown",
      "source": [
        "## Selecting a best random state"
      ],
      "metadata": {
        "id": "GUB9IkAjWGdm"
      }
    },
    {
      "cell_type": "code",
      "source": [
        "#importing a necessary libraries\n",
        "from sklearn.linear_model import LogisticRegression\n",
        "from sklearn.metrics import accuracy_score\n",
        "from sklearn.metrics import confusion_matrix,classification_report\n",
        "from sklearn.model_selection import train_test_split\n",
        "\n",
        "accu_score = 0\n",
        "maxRS = 0 #best random state value for max accuracy_score\n",
        "for i in range(1,200):\n",
        "  x_train,x_test,y_train,y_test = train_test_split(x,y,test_size =.20,random_state = i)\n",
        "  LR = LogisticRegression()\n",
        "  LR.fit(x_train,y_train)\n",
        "  predic = LR.predict(x_test)\n",
        "  acc = accuracy_score(y_test,predic)\n",
        "  if acc > accu_score:\n",
        "    accu_score = acc\n",
        "    maxRS = i\n",
        "print(\"Best accuracy_score is \",accu_score,\" on Random state \",maxRS)"
      ],
      "metadata": {
        "colab": {
          "base_uri": "https://localhost:8080/"
        },
        "id": "Op6VwGaJV0JM",
        "outputId": "e65de89f-3911-417c-c640-9e2d63124a97"
      },
      "execution_count": 92,
      "outputs": [
        {
          "output_type": "stream",
          "name": "stdout",
          "text": [
            "Best accuracy_score is  0.9051724137931034  on Random state  12\n"
          ]
        }
      ]
    },
    {
      "cell_type": "code",
      "source": [
        "x_train,x_test,y_train,y_test = train_test_split(x,y,test_size =.20,random_state = 12)"
      ],
      "metadata": {
        "id": "kYpw2z8iWUtr"
      },
      "execution_count": 93,
      "outputs": []
    },
    {
      "cell_type": "code",
      "source": [
        "print(x_train.shape,y_train.shape)"
      ],
      "metadata": {
        "colab": {
          "base_uri": "https://localhost:8080/"
        },
        "id": "6AHf9d3qWbfD",
        "outputId": "2890ca17-48fc-4ccd-a864-0a7b594bb125"
      },
      "execution_count": 94,
      "outputs": [
        {
          "output_type": "stream",
          "name": "stdout",
          "text": [
            "(461, 10) (461, 1)\n"
          ]
        }
      ]
    },
    {
      "cell_type": "code",
      "source": [
        "print(x_test.shape,y_test.shape)"
      ],
      "metadata": {
        "colab": {
          "base_uri": "https://localhost:8080/"
        },
        "id": "i1oJdfI5WdW2",
        "outputId": "8d8cca4a-965c-4ee9-a57a-a0bf51d6241e"
      },
      "execution_count": 95,
      "outputs": [
        {
          "output_type": "stream",
          "name": "stdout",
          "text": [
            "(116, 10) (116, 1)\n"
          ]
        }
      ]
    },
    {
      "cell_type": "code",
      "source": [
        "# To predict the Loan_status,we can consider Logistic regressiom model\n",
        "LR = LogisticRegression()\n",
        "LR.fit(x_train,y_train)\n",
        "predic_1 = LR.predict(x_test)\n",
        "print(\"accuracy_score is {:0.3f}\".format(accuracy_score(y_test,predic_1)))\n",
        "\n",
        "#Since the class imbalance exists so, we can use F1-score as evaluation metrics\n",
        "from sklearn.metrics import f1_score\n",
        "print(\"f1_score is {:0.3f}\".format(f1_score(y_test,predic_1)))\n",
        "\n",
        "#confusion matrix and classification report\n",
        "\n",
        "print(confusion_matrix(y_test,predic_1))\n",
        "print(classification_report(y_test,predic_1))"
      ],
      "metadata": {
        "colab": {
          "base_uri": "https://localhost:8080/"
        },
        "id": "gNqx5D5DWfMr",
        "outputId": "b49e110c-6396-47f9-825b-62eb21fb9041"
      },
      "execution_count": 96,
      "outputs": [
        {
          "output_type": "stream",
          "name": "stdout",
          "text": [
            "accuracy_score is 0.905\n",
            "f1_score is 0.941\n",
            "[[17 10]\n",
            " [ 1 88]]\n",
            "              precision    recall  f1-score   support\n",
            "\n",
            "           0       0.94      0.63      0.76        27\n",
            "           1       0.90      0.99      0.94        89\n",
            "\n",
            "    accuracy                           0.91       116\n",
            "   macro avg       0.92      0.81      0.85       116\n",
            "weighted avg       0.91      0.91      0.90       116\n",
            "\n"
          ]
        }
      ]
    },
    {
      "cell_type": "code",
      "source": [
        "#using DecisionTree classifier\n",
        "from sklearn.tree import DecisionTreeClassifier\n",
        "\n",
        "DT = DecisionTreeClassifier()\n",
        "DT.fit(x_train,y_train)\n",
        "predic_2 = DT.predict(x_test)\n",
        "print(\"accuracy_score is {:0.3f}\".format(accuracy_score(y_test,predic_2)))\n",
        "\n",
        "#Since the class imbalance exists so, we can use F1-score as evaluation metrics\n",
        "from sklearn.metrics import f1_score\n",
        "print(\"f1_score is {:0.3f}\".format(f1_score(y_test,predic_2)))\n",
        "\n",
        "#confusion matrix and classification report\n",
        "\n",
        "print(confusion_matrix(y_test,predic_2))\n",
        "print(classification_report(y_test,predic_2))"
      ],
      "metadata": {
        "colab": {
          "base_uri": "https://localhost:8080/"
        },
        "id": "Ro9UdZixWjSr",
        "outputId": "eb454e13-7e56-43ae-f0b1-ec0ef600f0f2"
      },
      "execution_count": 97,
      "outputs": [
        {
          "output_type": "stream",
          "name": "stdout",
          "text": [
            "accuracy_score is 0.759\n",
            "f1_score is 0.825\n",
            "[[22  5]\n",
            " [23 66]]\n",
            "              precision    recall  f1-score   support\n",
            "\n",
            "           0       0.49      0.81      0.61        27\n",
            "           1       0.93      0.74      0.82        89\n",
            "\n",
            "    accuracy                           0.76       116\n",
            "   macro avg       0.71      0.78      0.72       116\n",
            "weighted avg       0.83      0.76      0.78       116\n",
            "\n"
          ]
        }
      ]
    },
    {
      "cell_type": "code",
      "source": [
        "#Using KNN Classifier\n",
        "from sklearn.neighbors import KNeighborsClassifier\n",
        "\n",
        "KN = KNeighborsClassifier()\n",
        "KN.fit(x_train,y_train)\n",
        "predic_3 = KN.predict(x_test)\n",
        "print(\"accuracy_score is {:0.3f}\".format(accuracy_score(y_test,predic_3)))\n",
        "\n",
        "#Since the class imbalance exists so, we can use F1-score as evaluation metrics\n",
        "from sklearn.metrics import f1_score\n",
        "print(\"f1_score is {:0.3f}\".format(f1_score(y_test,predic_3)))\n",
        "\n",
        "#confusion matrix and classification report\n",
        "\n",
        "print(confusion_matrix(y_test,predic_3))\n",
        "print(classification_report(y_test,predic_3))"
      ],
      "metadata": {
        "colab": {
          "base_uri": "https://localhost:8080/"
        },
        "id": "ImCLRgouWvzL",
        "outputId": "3b2f153d-80d7-4b4a-9bf9-1bcd5e5c01f8"
      },
      "execution_count": 98,
      "outputs": [
        {
          "output_type": "stream",
          "name": "stdout",
          "text": [
            "accuracy_score is 0.853\n",
            "f1_score is 0.906\n",
            "[[17 10]\n",
            " [ 7 82]]\n",
            "              precision    recall  f1-score   support\n",
            "\n",
            "           0       0.71      0.63      0.67        27\n",
            "           1       0.89      0.92      0.91        89\n",
            "\n",
            "    accuracy                           0.85       116\n",
            "   macro avg       0.80      0.78      0.79       116\n",
            "weighted avg       0.85      0.85      0.85       116\n",
            "\n"
          ]
        }
      ]
    },
    {
      "cell_type": "code",
      "source": [
        "#Using Random forest Classifer\n",
        "from sklearn.ensemble import RandomForestClassifier\n",
        "\n",
        "RF = RandomForestClassifier()\n",
        "RF.fit(x_train,y_train)\n",
        "predic_4 = RF.predict(x_test)\n",
        "print(\"accuracy_score is {:0.3f}\".format(accuracy_score(y_test,predic_4)))\n",
        "\n",
        "#Since the class imbalance exists so, we can use F1-score as evaluation metrics\n",
        "from sklearn.metrics import f1_score\n",
        "print(\"f1_score is {:0.3f}\".format(f1_score(y_test,predic_4)))\n",
        "\n",
        "#confusion matrix and classification report\n",
        "\n",
        "print(confusion_matrix(y_test,predic_4))\n",
        "print(classification_report(y_test,predic_4))"
      ],
      "metadata": {
        "colab": {
          "base_uri": "https://localhost:8080/"
        },
        "id": "HFyPtd_6Wx8y",
        "outputId": "635b0c32-f846-4398-d69f-454df5cf559b"
      },
      "execution_count": 99,
      "outputs": [
        {
          "output_type": "stream",
          "name": "stdout",
          "text": [
            "accuracy_score is 0.853\n",
            "f1_score is 0.905\n",
            "[[18  9]\n",
            " [ 8 81]]\n",
            "              precision    recall  f1-score   support\n",
            "\n",
            "           0       0.69      0.67      0.68        27\n",
            "           1       0.90      0.91      0.91        89\n",
            "\n",
            "    accuracy                           0.85       116\n",
            "   macro avg       0.80      0.79      0.79       116\n",
            "weighted avg       0.85      0.85      0.85       116\n",
            "\n"
          ]
        }
      ]
    },
    {
      "cell_type": "markdown",
      "source": [
        "f1_score and accuracy is high for logistic regression model"
      ],
      "metadata": {
        "id": "MkHgEgUqXUMN"
      }
    },
    {
      "cell_type": "markdown",
      "source": [
        "## Cross Validation to check with overfitting"
      ],
      "metadata": {
        "id": "r6g-giRvXXRk"
      }
    },
    {
      "cell_type": "code",
      "source": [
        "from sklearn.model_selection import cross_val_score\n",
        "\n",
        "#for Logistic regression model\n",
        "L_cr = cross_val_score(LR,x,y,cv=5)\n",
        "print(\"cross validation for Logistics regression model : \",L_cr.mean())"
      ],
      "metadata": {
        "colab": {
          "base_uri": "https://localhost:8080/"
        },
        "id": "F5ccG1GAW0Hr",
        "outputId": "7a40d7a4-646c-4696-8c98-ba366ec7fc6c"
      },
      "execution_count": 100,
      "outputs": [
        {
          "output_type": "stream",
          "name": "stdout",
          "text": [
            "cross validation for Logistics regression model :  0.8180809595202397\n"
          ]
        }
      ]
    },
    {
      "cell_type": "code",
      "source": [
        "L_cr = cross_val_score(KN,x,y,cv=5)\n",
        "print(\"cross validation for KNN classifier model : \",L_cr.mean())"
      ],
      "metadata": {
        "colab": {
          "base_uri": "https://localhost:8080/"
        },
        "id": "4KNQjEYyXagL",
        "outputId": "38ee2d49-e3f1-4deb-b5f0-324ad8810b79"
      },
      "execution_count": 101,
      "outputs": [
        {
          "output_type": "stream",
          "name": "stdout",
          "text": [
            "cross validation for KNN classifier model :  0.7834482758620689\n"
          ]
        }
      ]
    },
    {
      "cell_type": "code",
      "source": [
        "L_cr = cross_val_score(DT,x,y,cv=5)\n",
        "print(\"cross validation for Decision tree model : \",L_cr.mean())"
      ],
      "metadata": {
        "colab": {
          "base_uri": "https://localhost:8080/"
        },
        "id": "8YSyrMKHXdBr",
        "outputId": "95ed91da-6198-415d-d230-37a978270f13"
      },
      "execution_count": 102,
      "outputs": [
        {
          "output_type": "stream",
          "name": "stdout",
          "text": [
            "cross validation for Decision tree model :  0.7176311844077962\n"
          ]
        }
      ]
    },
    {
      "cell_type": "code",
      "source": [
        "L_cr = cross_val_score(RF,x,y,cv=5)\n",
        "print(\"cross validation for Random forest model : \",L_cr.mean())"
      ],
      "metadata": {
        "colab": {
          "base_uri": "https://localhost:8080/"
        },
        "id": "jCbOIwREXe4z",
        "outputId": "435b7cd7-2dd2-469b-e9db-0265cf5a450d"
      },
      "execution_count": 103,
      "outputs": [
        {
          "output_type": "stream",
          "name": "stdout",
          "text": [
            "cross validation for Random forest model :  0.7955472263868065\n"
          ]
        }
      ]
    },
    {
      "cell_type": "markdown",
      "source": [
        "here also,the CV score is more for Logstic regression model. So, I will take my final model as logistic regression model"
      ],
      "metadata": {
        "id": "BJWU2jRXXmPR"
      }
    },
    {
      "cell_type": "markdown",
      "source": [
        "## Hyper parameter tuning"
      ],
      "metadata": {
        "id": "Bb8LCv1JXozV"
      }
    },
    {
      "cell_type": "code",
      "source": [
        "from sklearn.model_selection import GridSearchCV\n",
        "\n",
        "params_list = {'penalty':['l1','l2','elasticnet','none'],\n",
        "               'solver':['newton-cg','lbfgs','liblinear','sag','saga'],\n",
        "               'multi_class':['auto','ovr','multinomial'],\n",
        "               'C':[100, 10, 1.0, 0.1, 0.01]\n",
        "               }\n",
        "GCV = GridSearchCV(LogisticRegression(),params_list,cv=5,scoring=\"accuracy\")\n",
        "GCV.fit(x_train,y_train)\n",
        "\n",
        "#printing the best parameter\n",
        "GCV.best_params_"
      ],
      "metadata": {
        "colab": {
          "base_uri": "https://localhost:8080/"
        },
        "id": "_G639_pAXgk7",
        "outputId": "471fc908-ed02-4b89-f097-003d83c728b9"
      },
      "execution_count": 107,
      "outputs": [
        {
          "output_type": "execute_result",
          "data": {
            "text/plain": [
              "{'C': 0.1, 'multi_class': 'auto', 'penalty': 'l1', 'solver': 'liblinear'}"
            ]
          },
          "metadata": {},
          "execution_count": 107
        }
      ]
    },
    {
      "cell_type": "code",
      "source": [
        "#now predicting with best parameters\n",
        "\n",
        "GCV_predic = GCV.best_estimator_.predict(x_test)\n",
        "\n",
        "#getting the final accuracy\n",
        "print(\"accuarcy_score is\",accuracy_score(y_test,GCV_predic))\n",
        "print(\"f1_score is\",f1_score(y_test,GCV_predic))"
      ],
      "metadata": {
        "colab": {
          "base_uri": "https://localhost:8080/"
        },
        "id": "CjEsryH_Xrar",
        "outputId": "fc53bfbd-64b6-4fb4-b5c3-d8eb012c6a65"
      },
      "execution_count": 109,
      "outputs": [
        {
          "output_type": "stream",
          "name": "stdout",
          "text": [
            "accuarcy_score is 0.9051724137931034\n",
            "f1_score is 0.9411764705882354\n"
          ]
        }
      ]
    },
    {
      "cell_type": "code",
      "source": [
        "from sklearn.metrics import plot_roc_curve\n",
        "plot_roc_curve(GCV.best_estimator_,x_test,y_test)\n",
        "plt.title(\"ROC AUC plot\")\n",
        "plt.show()"
      ],
      "metadata": {
        "colab": {
          "base_uri": "https://localhost:8080/",
          "height": 294
        },
        "id": "xuVPDjcVXxlL",
        "outputId": "a9e15917-ffb3-4eca-eaef-cef13d51d7db"
      },
      "execution_count": 111,
      "outputs": [
        {
          "output_type": "display_data",
          "data": {
            "image/png": "[encoded data removed]",
            "text/plain": [
              "<Figure size 432x288 with 1 Axes>"
            ]
          },
          "metadata": {
            "needs_background": "light"
          }
        }
      ]
    },
    {
      "cell_type": "markdown",
      "source": [
        "from the above graph we got AUC score is 81%"
      ],
      "metadata": {
        "id": "8yiPXNQXYvH_"
      }
    },
    {
      "cell_type": "code",
      "source": [
        "import joblib\n",
        "joblib.dump(GCV.best_estimator_,\"Loan_Application_Status_Prediction.pkl\")"
      ],
      "metadata": {
        "colab": {
          "base_uri": "https://localhost:8080/"
        },
        "id": "jmVmpKe8Yph9",
        "outputId": "57178838-b39a-48a3-bc9d-95e7d2aa2f9d"
      },
      "execution_count": 112,
      "outputs": [
        {
          "output_type": "execute_result",
          "data": {
            "text/plain": [
              "['Loan_Application_Status_Prediction.pkl']"
            ]
          },
          "metadata": {},
          "execution_count": 112
        }
      ]
    }
  ]
}