{
  "nbformat": 4,
  "nbformat_minor": 0,
  "metadata": {
    "colab": {
      "name": "HR_Analytics_Project.ipynb",
      "provenance": [],
      "collapsed_sections": []
    },
    "kernelspec": {
      "name": "python3",
      "display_name": "Python 3"
    },
    "language_info": {
      "name": "python"
    }
  },
  "cells": [
    {
      "cell_type": "markdown",
      "source": [
        "# HR Analytics Project- Understanding the Attrition in HR\n",
        "\n",
        "Every year a lot of companies hire a number of employees. The companies invest time and money in training those employees, not just this but there are training programs within the companies for their existing employees as well. The aim of these programs is to increase the effectiveness of their employees. But where HR Analytics fit in this? and is it just about improving the performance of employees?\n",
        "\n",
        "### Attrition affecting Companies\n",
        "\n",
        "A major problem in high employee attrition is its cost to an organization. Job postings, hiring processes, paperwork, and new hire training are some of the common expenses of losing employees and replacing them. Additionally, regular employee turnover prohibits your organization from increasing its collective knowledge base and experience over time. This is especially concerning if your business is customer-facing, as customers often prefer to interact with familiar people. Errors and issues are more likely if you constantly have new workers."
      ],
      "metadata": {
        "id": "Bxelrxbey9KB"
      }
    },
    {
      "cell_type": "code",
      "source": [
        "# Importing packages\n",
        "import pandas as pd\n",
        "import numpy as np\n",
        "import matplotlib.pyplot as plt\n",
        "import seaborn as sns"
      ],
      "metadata": {
        "id": "acOWRcfzy-o-"
      },
      "execution_count": 136,
      "outputs": []
    },
    {
      "cell_type": "code",
      "source": [
        "#reading a dataset\n",
        "df = pd.read_csv('WA_Fn-UseC_-HR-Employee-Attrition.csv')\n",
        "df.head()"
      ],
      "metadata": {
        "colab": {
          "base_uri": "https://localhost:8080/",
          "height": 356
        },
        "id": "8A4gkVIbya3p",
        "outputId": "fd0fa273-d58e-478b-cd85-2a82df40012f"
      },
      "execution_count": 146,
      "outputs": [
        {
          "output_type": "execute_result",
          "data": {
            "text/html": [
              "\n",
              "  <div id=\"df-cfbd2395-846f-4b73-9e5b-03523f63eb78\">\n",
              "    <div class=\"colab-df-container\">\n",
              "      <div>\n",
              "<style scoped>\n",
              "    .dataframe tbody tr th:only-of-type {\n",
              "        vertical-align: middle;\n",
              "    }\n",
              "\n",
              "    .dataframe tbody tr th {\n",
              "        vertical-align: top;\n",
              "    }\n",
              "\n",
              "    .dataframe thead th {\n",
              "        text-align: right;\n",
              "    }\n",
              "</style>\n",
              "<table border=\"1\" class=\"dataframe\">\n",
              "  <thead>\n",
              "    <tr style=\"text-align: right;\">\n",
              "      <th></th>\n",
              "      <th>Age</th>\n",
              "      <th>Attrition</th>\n",
              "      <th>BusinessTravel</th>\n",
              "      <th>DailyRate</th>\n",
              "      <th>Department</th>\n",
              "      <th>DistanceFromHome</th>\n",
              "      <th>Education</th>\n",
              "      <th>EducationField</th>\n",
              "      <th>EmployeeCount</th>\n",
              "      <th>EmployeeNumber</th>\n",
              "      <th>EnvironmentSatisfaction</th>\n",
              "      <th>Gender</th>\n",
              "      <th>HourlyRate</th>\n",
              "      <th>JobInvolvement</th>\n",
              "      <th>JobLevel</th>\n",
              "      <th>JobRole</th>\n",
              "      <th>JobSatisfaction</th>\n",
              "      <th>MaritalStatus</th>\n",
              "      <th>MonthlyIncome</th>\n",
              "      <th>MonthlyRate</th>\n",
              "      <th>NumCompaniesWorked</th>\n",
              "      <th>Over18</th>\n",
              "      <th>OverTime</th>\n",
              "      <th>PercentSalaryHike</th>\n",
              "      <th>PerformanceRating</th>\n",
              "      <th>RelationshipSatisfaction</th>\n",
              "      <th>StandardHours</th>\n",
              "      <th>StockOptionLevel</th>\n",
              "      <th>TotalWorkingYears</th>\n",
              "      <th>TrainingTimesLastYear</th>\n",
              "      <th>WorkLifeBalance</th>\n",
              "      <th>YearsAtCompany</th>\n",
              "      <th>YearsInCurrentRole</th>\n",
              "      <th>YearsSinceLastPromotion</th>\n",
              "      <th>YearsWithCurrManager</th>\n",
              "    </tr>\n",
              "  </thead>\n",
              "  <tbody>\n",
              "    <tr>\n",
              "      <th>0</th>\n",
              "      <td>41</td>\n",
              "      <td>Yes</td>\n",
              "      <td>Travel_Rarely</td>\n",
              "      <td>1102</td>\n",
              "      <td>Sales</td>\n",
              "      <td>1</td>\n",
              "      <td>2</td>\n",
              "      <td>Life Sciences</td>\n",
              "      <td>1</td>\n",
              "      <td>1</td>\n",
              "      <td>2</td>\n",
              "      <td>Female</td>\n",
              "      <td>94</td>\n",
              "      <td>3</td>\n",
              "      <td>2</td>\n",
              "      <td>Sales Executive</td>\n",
              "      <td>4</td>\n",
              "      <td>Single</td>\n",
              "      <td>5993</td>\n",
              "      <td>19479</td>\n",
              "      <td>8</td>\n",
              "      <td>Y</td>\n",
              "      <td>Yes</td>\n",
              "      <td>11</td>\n",
              "      <td>3</td>\n",
              "      <td>1</td>\n",
              "      <td>80</td>\n",
              "      <td>0</td>\n",
              "      <td>8</td>\n",
              "      <td>0</td>\n",
              "      <td>1</td>\n",
              "      <td>6</td>\n",
              "      <td>4</td>\n",
              "      <td>0</td>\n",
              "      <td>5</td>\n",
              "    </tr>\n",
              "    <tr>\n",
              "      <th>1</th>\n",
              "      <td>49</td>\n",
              "      <td>No</td>\n",
              "      <td>Travel_Frequently</td>\n",
              "      <td>279</td>\n",
              "      <td>Research &amp; Development</td>\n",
              "      <td>8</td>\n",
              "      <td>1</td>\n",
              "      <td>Life Sciences</td>\n",
              "      <td>1</td>\n",
              "      <td>2</td>\n",
              "      <td>3</td>\n",
              "      <td>Male</td>\n",
              "      <td>61</td>\n",
              "      <td>2</td>\n",
              "      <td>2</td>\n",
              "      <td>Research Scientist</td>\n",
              "      <td>2</td>\n",
              "      <td>Married</td>\n",
              "      <td>5130</td>\n",
              "      <td>24907</td>\n",
              "      <td>1</td>\n",
              "      <td>Y</td>\n",
              "      <td>No</td>\n",
              "      <td>23</td>\n",
              "      <td>4</td>\n",
              "      <td>4</td>\n",
              "      <td>80</td>\n",
              "      <td>1</td>\n",
              "      <td>10</td>\n",
              "      <td>3</td>\n",
              "      <td>3</td>\n",
              "      <td>10</td>\n",
              "      <td>7</td>\n",
              "      <td>1</td>\n",
              "      <td>7</td>\n",
              "    </tr>\n",
              "    <tr>\n",
              "      <th>2</th>\n",
              "      <td>37</td>\n",
              "      <td>Yes</td>\n",
              "      <td>Travel_Rarely</td>\n",
              "      <td>1373</td>\n",
              "      <td>Research &amp; Development</td>\n",
              "      <td>2</td>\n",
              "      <td>2</td>\n",
              "      <td>Other</td>\n",
              "      <td>1</td>\n",
              "      <td>4</td>\n",
              "      <td>4</td>\n",
              "      <td>Male</td>\n",
              "      <td>92</td>\n",
              "      <td>2</td>\n",
              "      <td>1</td>\n",
              "      <td>Laboratory Technician</td>\n",
              "      <td>3</td>\n",
              "      <td>Single</td>\n",
              "      <td>2090</td>\n",
              "      <td>2396</td>\n",
              "      <td>6</td>\n",
              "      <td>Y</td>\n",
              "      <td>Yes</td>\n",
              "      <td>15</td>\n",
              "      <td>3</td>\n",
              "      <td>2</td>\n",
              "      <td>80</td>\n",
              "      <td>0</td>\n",
              "      <td>7</td>\n",
              "      <td>3</td>\n",
              "      <td>3</td>\n",
              "      <td>0</td>\n",
              "      <td>0</td>\n",
              "      <td>0</td>\n",
              "      <td>0</td>\n",
              "    </tr>\n",
              "    <tr>\n",
              "      <th>3</th>\n",
              "      <td>33</td>\n",
              "      <td>No</td>\n",
              "      <td>Travel_Frequently</td>\n",
              "      <td>1392</td>\n",
              "      <td>Research &amp; Development</td>\n",
              "      <td>3</td>\n",
              "      <td>4</td>\n",
              "      <td>Life Sciences</td>\n",
              "      <td>1</td>\n",
              "      <td>5</td>\n",
              "      <td>4</td>\n",
              "      <td>Female</td>\n",
              "      <td>56</td>\n",
              "      <td>3</td>\n",
              "      <td>1</td>\n",
              "      <td>Research Scientist</td>\n",
              "      <td>3</td>\n",
              "      <td>Married</td>\n",
              "      <td>2909</td>\n",
              "      <td>23159</td>\n",
              "      <td>1</td>\n",
              "      <td>Y</td>\n",
              "      <td>Yes</td>\n",
              "      <td>11</td>\n",
              "      <td>3</td>\n",
              "      <td>3</td>\n",
              "      <td>80</td>\n",
              "      <td>0</td>\n",
              "      <td>8</td>\n",
              "      <td>3</td>\n",
              "      <td>3</td>\n",
              "      <td>8</td>\n",
              "      <td>7</td>\n",
              "      <td>3</td>\n",
              "      <td>0</td>\n",
              "    </tr>\n",
              "    <tr>\n",
              "      <th>4</th>\n",
              "      <td>27</td>\n",
              "      <td>No</td>\n",
              "      <td>Travel_Rarely</td>\n",
              "      <td>591</td>\n",
              "      <td>Research &amp; Development</td>\n",
              "      <td>2</td>\n",
              "      <td>1</td>\n",
              "      <td>Medical</td>\n",
              "      <td>1</td>\n",
              "      <td>7</td>\n",
              "      <td>1</td>\n",
              "      <td>Male</td>\n",
              "      <td>40</td>\n",
              "      <td>3</td>\n",
              "      <td>1</td>\n",
              "      <td>Laboratory Technician</td>\n",
              "      <td>2</td>\n",
              "      <td>Married</td>\n",
              "      <td>3468</td>\n",
              "      <td>16632</td>\n",
              "      <td>9</td>\n",
              "      <td>Y</td>\n",
              "      <td>No</td>\n",
              "      <td>12</td>\n",
              "      <td>3</td>\n",
              "      <td>4</td>\n",
              "      <td>80</td>\n",
              "      <td>1</td>\n",
              "      <td>6</td>\n",
              "      <td>3</td>\n",
              "      <td>3</td>\n",
              "      <td>2</td>\n",
              "      <td>2</td>\n",
              "      <td>2</td>\n",
              "      <td>2</td>\n",
              "    </tr>\n",
              "  </tbody>\n",
              "</table>\n",
              "</div>\n",
              "      <button class=\"colab-df-convert\" onclick=\"convertToInteractive('df-cfbd2395-846f-4b73-9e5b-03523f63eb78')\"\n",
              "              title=\"Convert this dataframe to an interactive table.\"\n",
              "              style=\"display:none;\">\n",
              "        \n",
              "  <svg xmlns=\"http://www.w3.org/2000/svg\" height=\"24px\"viewBox=\"0 0 24 24\"\n",
              "       width=\"24px\">\n",
              "    <path d=\"M0 0h24v24H0V0z\" fill=\"none\"/>\n",
              "    <path d=\"M18.56 5.44l.94 2.06.94-2.06 2.06-.94-2.06-.94-.94-2.06-.94 2.06-2.06.94zm-11 1L8.5 8.5l.94-2.06 2.06-.94-2.06-.94L8.5 2.5l-.94 2.06-2.06.94zm10 10l.94 2.06.94-2.06 2.06-.94-2.06-.94-.94-2.06-.94 2.06-2.06.94z\"/><path d=\"M17.41 7.96l-1.37-1.37c-.4-.4-.92-.59-1.43-.59-.52 0-1.04.2-1.43.59L10.3 9.45l-7.72 7.72c-.78.78-.78 2.05 0 2.83L4 21.41c.39.39.9.59 1.41.59.51 0 1.02-.2 1.41-.59l7.78-7.78 2.81-2.81c.8-.78.8-2.07 0-2.86zM5.41 20L4 18.59l7.72-7.72 1.47 1.35L5.41 20z\"/>\n",
              "  </svg>\n",
              "      </button>\n",
              "      \n",
              "  <style>\n",
              "    .colab-df-container {\n",
              "      display:flex;\n",
              "      flex-wrap:wrap;\n",
              "      gap: 12px;\n",
              "    }\n",
              "\n",
              "    .colab-df-convert {\n",
              "      background-color: #E8F0FE;\n",
              "      border: none;\n",
              "      border-radius: 50%;\n",
              "      cursor: pointer;\n",
              "      display: none;\n",
              "      fill: #1967D2;\n",
              "      height: 32px;\n",
              "      padding: 0 0 0 0;\n",
              "      width: 32px;\n",
              "    }\n",
              "\n",
              "    .colab-df-convert:hover {\n",
              "      background-color: #E2EBFA;\n",
              "      box-shadow: 0px 1px 2px rgba(60, 64, 67, 0.3), 0px 1px 3px 1px rgba(60, 64, 67, 0.15);\n",
              "      fill: #174EA6;\n",
              "    }\n",
              "\n",
              "    [theme=dark] .colab-df-convert {\n",
              "      background-color: #3B4455;\n",
              "      fill: #D2E3FC;\n",
              "    }\n",
              "\n",
              "    [theme=dark] .colab-df-convert:hover {\n",
              "      background-color: #434B5C;\n",
              "      box-shadow: 0px 1px 3px 1px rgba(0, 0, 0, 0.15);\n",
              "      filter: drop-shadow(0px 1px 2px rgba(0, 0, 0, 0.3));\n",
              "      fill: #FFFFFF;\n",
              "    }\n",
              "  </style>\n",
              "\n",
              "      <script>\n",
              "        const buttonEl =\n",
              "          document.querySelector('#df-cfbd2395-846f-4b73-9e5b-03523f63eb78 button.colab-df-convert');\n",
              "        buttonEl.style.display =\n",
              "          google.colab.kernel.accessAllowed ? 'block' : 'none';\n",
              "\n",
              "        async function convertToInteractive(key) {\n",
              "          const element = document.querySelector('#df-cfbd2395-846f-4b73-9e5b-03523f63eb78');\n",
              "          const dataTable =\n",
              "            await google.colab.kernel.invokeFunction('convertToInteractive',\n",
              "                                                     [key], {});\n",
              "          if (!dataTable) return;\n",
              "\n",
              "          const docLinkHtml = 'Like what you see? Visit the ' +\n",
              "            '<a target=\"_blank\" href=https://colab.research.google.com/notebooks/data_table.ipynb>data table notebook</a>'\n",
              "            + ' to learn more about interactive tables.';\n",
              "          element.innerHTML = '';\n",
              "          dataTable['output_type'] = 'display_data';\n",
              "          await google.colab.output.renderOutput(dataTable, element);\n",
              "          const docLink = document.createElement('div');\n",
              "          docLink.innerHTML = docLinkHtml;\n",
              "          element.appendChild(docLink);\n",
              "        }\n",
              "      </script>\n",
              "    </div>\n",
              "  </div>\n",
              "  "
            ],
            "text/plain": [
              "   Age Attrition  ... YearsSinceLastPromotion  YearsWithCurrManager\n",
              "0   41       Yes  ...                       0                     5\n",
              "1   49        No  ...                       1                     7\n",
              "2   37       Yes  ...                       0                     0\n",
              "3   33        No  ...                       3                     0\n",
              "4   27        No  ...                       2                     2\n",
              "\n",
              "[5 rows x 35 columns]"
            ]
          },
          "metadata": {},
          "execution_count": 146
        }
      ]
    },
    {
      "cell_type": "markdown",
      "source": [
        "with the above observation of dataset,our target variable is Attrition and we are going to predict Attrition considering the features like Department,EducationField ,etc., which are given in the dataset"
      ],
      "metadata": {
        "id": "nv8jF7QLwi7J"
      }
    },
    {
      "cell_type": "code",
      "source": [
        "df.duplicated().sum()"
      ],
      "metadata": {
        "colab": {
          "base_uri": "https://localhost:8080/"
        },
        "id": "BP-n709jwWC6",
        "outputId": "c2b42a63-c4ea-4540-ec5d-655fb3d4a3d4"
      },
      "execution_count": 147,
      "outputs": [
        {
          "output_type": "execute_result",
          "data": {
            "text/plain": [
              "0"
            ]
          },
          "metadata": {},
          "execution_count": 147
        }
      ]
    },
    {
      "cell_type": "markdown",
      "source": [
        "So,there are no duplicate records"
      ],
      "metadata": {
        "id": "JXy3wFHHwc84"
      }
    },
    {
      "cell_type": "code",
      "source": [
        "df['Over18'].value_counts()"
      ],
      "metadata": {
        "colab": {
          "base_uri": "https://localhost:8080/"
        },
        "id": "ChcvGYwh42G4",
        "outputId": "9fee9a67-3a63-41f0-f4ac-d10ec8a871ef"
      },
      "execution_count": 148,
      "outputs": [
        {
          "output_type": "execute_result",
          "data": {
            "text/plain": [
              "Y    1470\n",
              "Name: Over18, dtype: int64"
            ]
          },
          "metadata": {},
          "execution_count": 148
        }
      ]
    },
    {
      "cell_type": "code",
      "source": [
        "#with that,we can remove column \"Over18\" which is consisting of just one value as \"y\"\n",
        "df = df.drop(['Over18'],axis=1)"
      ],
      "metadata": {
        "id": "ph9dOEV_5AKn"
      },
      "execution_count": 149,
      "outputs": []
    },
    {
      "cell_type": "code",
      "source": [
        "df['StandardHours'].value_counts()"
      ],
      "metadata": {
        "colab": {
          "base_uri": "https://localhost:8080/"
        },
        "id": "C39DNg775mcn",
        "outputId": "d779155b-9655-4034-e4ac-3eecb3378a90"
      },
      "execution_count": 150,
      "outputs": [
        {
          "output_type": "execute_result",
          "data": {
            "text/plain": [
              "80    1470\n",
              "Name: StandardHours, dtype: int64"
            ]
          },
          "metadata": {},
          "execution_count": 150
        }
      ]
    },
    {
      "cell_type": "code",
      "source": [
        "#with that,we can remove column \"StandardHours\" which is consisting of just one value as \"80\"\n",
        "df = df.drop(['StandardHours'],axis=1)"
      ],
      "metadata": {
        "id": "Uc9uD17S5i12"
      },
      "execution_count": 151,
      "outputs": []
    },
    {
      "cell_type": "code",
      "source": [
        "df['EmployeeCount'].value_counts()"
      ],
      "metadata": {
        "colab": {
          "base_uri": "https://localhost:8080/"
        },
        "id": "AAWTCI3v58Kq",
        "outputId": "9c9460ed-5fff-4299-bf0b-59d8c74a50d8"
      },
      "execution_count": 152,
      "outputs": [
        {
          "output_type": "execute_result",
          "data": {
            "text/plain": [
              "1    1470\n",
              "Name: EmployeeCount, dtype: int64"
            ]
          },
          "metadata": {},
          "execution_count": 152
        }
      ]
    },
    {
      "cell_type": "code",
      "source": [
        "#with that,we can remove column \"EmployeeCount\" which is consisting of just one value as \"1\"\n",
        "df = df.drop(['EmployeeCount'],axis=1)"
      ],
      "metadata": {
        "id": "J1DDS1nH6ISy"
      },
      "execution_count": 153,
      "outputs": []
    },
    {
      "cell_type": "code",
      "source": [
        "#we can also drop \"EmployeeNumber\" column which is consisting of unique id numbers for each employee.\n",
        "df = df.drop(['EmployeeNumber'],axis=1)"
      ],
      "metadata": {
        "id": "sGh73g1E6kLZ"
      },
      "execution_count": 154,
      "outputs": []
    },
    {
      "cell_type": "code",
      "source": [
        "#to check how many rows and columns in dataframe\n",
        "df.shape"
      ],
      "metadata": {
        "colab": {
          "base_uri": "https://localhost:8080/"
        },
        "id": "9VWdD53FyfzV",
        "outputId": "3f8eba0b-68d5-4c9c-9ddb-4b6b951f45d3"
      },
      "execution_count": 155,
      "outputs": [
        {
          "output_type": "execute_result",
          "data": {
            "text/plain": [
              "(1470, 31)"
            ]
          },
          "metadata": {},
          "execution_count": 155
        }
      ]
    },
    {
      "cell_type": "code",
      "source": [
        "#to get the info of this dataframe\n",
        "df.info()"
      ],
      "metadata": {
        "colab": {
          "base_uri": "https://localhost:8080/"
        },
        "id": "7tRL9yBj1sbw",
        "outputId": "48b60ffb-17d3-433f-f646-3384e8688f77"
      },
      "execution_count": 156,
      "outputs": [
        {
          "output_type": "stream",
          "name": "stdout",
          "text": [
            "<class 'pandas.core.frame.DataFrame'>\n",
            "RangeIndex: 1470 entries, 0 to 1469\n",
            "Data columns (total 31 columns):\n",
            " #   Column                    Non-Null Count  Dtype \n",
            "---  ------                    --------------  ----- \n",
            " 0   Age                       1470 non-null   int64 \n",
            " 1   Attrition                 1470 non-null   object\n",
            " 2   BusinessTravel            1470 non-null   object\n",
            " 3   DailyRate                 1470 non-null   int64 \n",
            " 4   Department                1470 non-null   object\n",
            " 5   DistanceFromHome          1470 non-null   int64 \n",
            " 6   Education                 1470 non-null   int64 \n",
            " 7   EducationField            1470 non-null   object\n",
            " 8   EnvironmentSatisfaction   1470 non-null   int64 \n",
            " 9   Gender                    1470 non-null   object\n",
            " 10  HourlyRate                1470 non-null   int64 \n",
            " 11  JobInvolvement            1470 non-null   int64 \n",
            " 12  JobLevel                  1470 non-null   int64 \n",
            " 13  JobRole                   1470 non-null   object\n",
            " 14  JobSatisfaction           1470 non-null   int64 \n",
            " 15  MaritalStatus             1470 non-null   object\n",
            " 16  MonthlyIncome             1470 non-null   int64 \n",
            " 17  MonthlyRate               1470 non-null   int64 \n",
            " 18  NumCompaniesWorked        1470 non-null   int64 \n",
            " 19  OverTime                  1470 non-null   object\n",
            " 20  PercentSalaryHike         1470 non-null   int64 \n",
            " 21  PerformanceRating         1470 non-null   int64 \n",
            " 22  RelationshipSatisfaction  1470 non-null   int64 \n",
            " 23  StockOptionLevel          1470 non-null   int64 \n",
            " 24  TotalWorkingYears         1470 non-null   int64 \n",
            " 25  TrainingTimesLastYear     1470 non-null   int64 \n",
            " 26  WorkLifeBalance           1470 non-null   int64 \n",
            " 27  YearsAtCompany            1470 non-null   int64 \n",
            " 28  YearsInCurrentRole        1470 non-null   int64 \n",
            " 29  YearsSinceLastPromotion   1470 non-null   int64 \n",
            " 30  YearsWithCurrManager      1470 non-null   int64 \n",
            "dtypes: int64(23), object(8)\n",
            "memory usage: 356.1+ KB\n"
          ]
        }
      ]
    },
    {
      "cell_type": "markdown",
      "source": [
        "with above details,we can observe all the datatypes of each column along with memory consumption of dataset"
      ],
      "metadata": {
        "id": "fBRYXPUh1zzI"
      }
    },
    {
      "cell_type": "code",
      "source": [
        "#to get statistics information\n",
        "df.describe()"
      ],
      "metadata": {
        "colab": {
          "base_uri": "https://localhost:8080/",
          "height": 364
        },
        "id": "SmhaN66_1u72",
        "outputId": "947fb531-57ac-4bf9-df02-d7e2ecd1ef0b"
      },
      "execution_count": 157,
      "outputs": [
        {
          "output_type": "execute_result",
          "data": {
            "text/html": [
              "\n",
              "  <div id=\"df-38edc075-3048-47b6-acb3-da9453d4cffb\">\n",
              "    <div class=\"colab-df-container\">\n",
              "      <div>\n",
              "<style scoped>\n",
              "    .dataframe tbody tr th:only-of-type {\n",
              "        vertical-align: middle;\n",
              "    }\n",
              "\n",
              "    .dataframe tbody tr th {\n",
              "        vertical-align: top;\n",
              "    }\n",
              "\n",
              "    .dataframe thead th {\n",
              "        text-align: right;\n",
              "    }\n",
              "</style>\n",
              "<table border=\"1\" class=\"dataframe\">\n",
              "  <thead>\n",
              "    <tr style=\"text-align: right;\">\n",
              "      <th></th>\n",
              "      <th>Age</th>\n",
              "      <th>DailyRate</th>\n",
              "      <th>DistanceFromHome</th>\n",
              "      <th>Education</th>\n",
              "      <th>EnvironmentSatisfaction</th>\n",
              "      <th>HourlyRate</th>\n",
              "      <th>JobInvolvement</th>\n",
              "      <th>JobLevel</th>\n",
              "      <th>JobSatisfaction</th>\n",
              "      <th>MonthlyIncome</th>\n",
              "      <th>MonthlyRate</th>\n",
              "      <th>NumCompaniesWorked</th>\n",
              "      <th>PercentSalaryHike</th>\n",
              "      <th>PerformanceRating</th>\n",
              "      <th>RelationshipSatisfaction</th>\n",
              "      <th>StockOptionLevel</th>\n",
              "      <th>TotalWorkingYears</th>\n",
              "      <th>TrainingTimesLastYear</th>\n",
              "      <th>WorkLifeBalance</th>\n",
              "      <th>YearsAtCompany</th>\n",
              "      <th>YearsInCurrentRole</th>\n",
              "      <th>YearsSinceLastPromotion</th>\n",
              "      <th>YearsWithCurrManager</th>\n",
              "    </tr>\n",
              "  </thead>\n",
              "  <tbody>\n",
              "    <tr>\n",
              "      <th>count</th>\n",
              "      <td>1470.000000</td>\n",
              "      <td>1470.000000</td>\n",
              "      <td>1470.000000</td>\n",
              "      <td>1470.000000</td>\n",
              "      <td>1470.000000</td>\n",
              "      <td>1470.000000</td>\n",
              "      <td>1470.000000</td>\n",
              "      <td>1470.000000</td>\n",
              "      <td>1470.000000</td>\n",
              "      <td>1470.000000</td>\n",
              "      <td>1470.000000</td>\n",
              "      <td>1470.000000</td>\n",
              "      <td>1470.000000</td>\n",
              "      <td>1470.000000</td>\n",
              "      <td>1470.000000</td>\n",
              "      <td>1470.000000</td>\n",
              "      <td>1470.000000</td>\n",
              "      <td>1470.000000</td>\n",
              "      <td>1470.000000</td>\n",
              "      <td>1470.000000</td>\n",
              "      <td>1470.000000</td>\n",
              "      <td>1470.000000</td>\n",
              "      <td>1470.000000</td>\n",
              "    </tr>\n",
              "    <tr>\n",
              "      <th>mean</th>\n",
              "      <td>36.923810</td>\n",
              "      <td>802.485714</td>\n",
              "      <td>9.192517</td>\n",
              "      <td>2.912925</td>\n",
              "      <td>2.721769</td>\n",
              "      <td>65.891156</td>\n",
              "      <td>2.729932</td>\n",
              "      <td>2.063946</td>\n",
              "      <td>2.728571</td>\n",
              "      <td>6502.931293</td>\n",
              "      <td>14313.103401</td>\n",
              "      <td>2.693197</td>\n",
              "      <td>15.209524</td>\n",
              "      <td>3.153741</td>\n",
              "      <td>2.712245</td>\n",
              "      <td>0.793878</td>\n",
              "      <td>11.279592</td>\n",
              "      <td>2.799320</td>\n",
              "      <td>2.761224</td>\n",
              "      <td>7.008163</td>\n",
              "      <td>4.229252</td>\n",
              "      <td>2.187755</td>\n",
              "      <td>4.123129</td>\n",
              "    </tr>\n",
              "    <tr>\n",
              "      <th>std</th>\n",
              "      <td>9.135373</td>\n",
              "      <td>403.509100</td>\n",
              "      <td>8.106864</td>\n",
              "      <td>1.024165</td>\n",
              "      <td>1.093082</td>\n",
              "      <td>20.329428</td>\n",
              "      <td>0.711561</td>\n",
              "      <td>1.106940</td>\n",
              "      <td>1.102846</td>\n",
              "      <td>4707.956783</td>\n",
              "      <td>7117.786044</td>\n",
              "      <td>2.498009</td>\n",
              "      <td>3.659938</td>\n",
              "      <td>0.360824</td>\n",
              "      <td>1.081209</td>\n",
              "      <td>0.852077</td>\n",
              "      <td>7.780782</td>\n",
              "      <td>1.289271</td>\n",
              "      <td>0.706476</td>\n",
              "      <td>6.126525</td>\n",
              "      <td>3.623137</td>\n",
              "      <td>3.222430</td>\n",
              "      <td>3.568136</td>\n",
              "    </tr>\n",
              "    <tr>\n",
              "      <th>min</th>\n",
              "      <td>18.000000</td>\n",
              "      <td>102.000000</td>\n",
              "      <td>1.000000</td>\n",
              "      <td>1.000000</td>\n",
              "      <td>1.000000</td>\n",
              "      <td>30.000000</td>\n",
              "      <td>1.000000</td>\n",
              "      <td>1.000000</td>\n",
              "      <td>1.000000</td>\n",
              "      <td>1009.000000</td>\n",
              "      <td>2094.000000</td>\n",
              "      <td>0.000000</td>\n",
              "      <td>11.000000</td>\n",
              "      <td>3.000000</td>\n",
              "      <td>1.000000</td>\n",
              "      <td>0.000000</td>\n",
              "      <td>0.000000</td>\n",
              "      <td>0.000000</td>\n",
              "      <td>1.000000</td>\n",
              "      <td>0.000000</td>\n",
              "      <td>0.000000</td>\n",
              "      <td>0.000000</td>\n",
              "      <td>0.000000</td>\n",
              "    </tr>\n",
              "    <tr>\n",
              "      <th>25%</th>\n",
              "      <td>30.000000</td>\n",
              "      <td>465.000000</td>\n",
              "      <td>2.000000</td>\n",
              "      <td>2.000000</td>\n",
              "      <td>2.000000</td>\n",
              "      <td>48.000000</td>\n",
              "      <td>2.000000</td>\n",
              "      <td>1.000000</td>\n",
              "      <td>2.000000</td>\n",
              "      <td>2911.000000</td>\n",
              "      <td>8047.000000</td>\n",
              "      <td>1.000000</td>\n",
              "      <td>12.000000</td>\n",
              "      <td>3.000000</td>\n",
              "      <td>2.000000</td>\n",
              "      <td>0.000000</td>\n",
              "      <td>6.000000</td>\n",
              "      <td>2.000000</td>\n",
              "      <td>2.000000</td>\n",
              "      <td>3.000000</td>\n",
              "      <td>2.000000</td>\n",
              "      <td>0.000000</td>\n",
              "      <td>2.000000</td>\n",
              "    </tr>\n",
              "    <tr>\n",
              "      <th>50%</th>\n",
              "      <td>36.000000</td>\n",
              "      <td>802.000000</td>\n",
              "      <td>7.000000</td>\n",
              "      <td>3.000000</td>\n",
              "      <td>3.000000</td>\n",
              "      <td>66.000000</td>\n",
              "      <td>3.000000</td>\n",
              "      <td>2.000000</td>\n",
              "      <td>3.000000</td>\n",
              "      <td>4919.000000</td>\n",
              "      <td>14235.500000</td>\n",
              "      <td>2.000000</td>\n",
              "      <td>14.000000</td>\n",
              "      <td>3.000000</td>\n",
              "      <td>3.000000</td>\n",
              "      <td>1.000000</td>\n",
              "      <td>10.000000</td>\n",
              "      <td>3.000000</td>\n",
              "      <td>3.000000</td>\n",
              "      <td>5.000000</td>\n",
              "      <td>3.000000</td>\n",
              "      <td>1.000000</td>\n",
              "      <td>3.000000</td>\n",
              "    </tr>\n",
              "    <tr>\n",
              "      <th>75%</th>\n",
              "      <td>43.000000</td>\n",
              "      <td>1157.000000</td>\n",
              "      <td>14.000000</td>\n",
              "      <td>4.000000</td>\n",
              "      <td>4.000000</td>\n",
              "      <td>83.750000</td>\n",
              "      <td>3.000000</td>\n",
              "      <td>3.000000</td>\n",
              "      <td>4.000000</td>\n",
              "      <td>8379.000000</td>\n",
              "      <td>20461.500000</td>\n",
              "      <td>4.000000</td>\n",
              "      <td>18.000000</td>\n",
              "      <td>3.000000</td>\n",
              "      <td>4.000000</td>\n",
              "      <td>1.000000</td>\n",
              "      <td>15.000000</td>\n",
              "      <td>3.000000</td>\n",
              "      <td>3.000000</td>\n",
              "      <td>9.000000</td>\n",
              "      <td>7.000000</td>\n",
              "      <td>3.000000</td>\n",
              "      <td>7.000000</td>\n",
              "    </tr>\n",
              "    <tr>\n",
              "      <th>max</th>\n",
              "      <td>60.000000</td>\n",
              "      <td>1499.000000</td>\n",
              "      <td>29.000000</td>\n",
              "      <td>5.000000</td>\n",
              "      <td>4.000000</td>\n",
              "      <td>100.000000</td>\n",
              "      <td>4.000000</td>\n",
              "      <td>5.000000</td>\n",
              "      <td>4.000000</td>\n",
              "      <td>19999.000000</td>\n",
              "      <td>26999.000000</td>\n",
              "      <td>9.000000</td>\n",
              "      <td>25.000000</td>\n",
              "      <td>4.000000</td>\n",
              "      <td>4.000000</td>\n",
              "      <td>3.000000</td>\n",
              "      <td>40.000000</td>\n",
              "      <td>6.000000</td>\n",
              "      <td>4.000000</td>\n",
              "      <td>40.000000</td>\n",
              "      <td>18.000000</td>\n",
              "      <td>15.000000</td>\n",
              "      <td>17.000000</td>\n",
              "    </tr>\n",
              "  </tbody>\n",
              "</table>\n",
              "</div>\n",
              "      <button class=\"colab-df-convert\" onclick=\"convertToInteractive('df-38edc075-3048-47b6-acb3-da9453d4cffb')\"\n",
              "              title=\"Convert this dataframe to an interactive table.\"\n",
              "              style=\"display:none;\">\n",
              "        \n",
              "  <svg xmlns=\"http://www.w3.org/2000/svg\" height=\"24px\"viewBox=\"0 0 24 24\"\n",
              "       width=\"24px\">\n",
              "    <path d=\"M0 0h24v24H0V0z\" fill=\"none\"/>\n",
              "    <path d=\"M18.56 5.44l.94 2.06.94-2.06 2.06-.94-2.06-.94-.94-2.06-.94 2.06-2.06.94zm-11 1L8.5 8.5l.94-2.06 2.06-.94-2.06-.94L8.5 2.5l-.94 2.06-2.06.94zm10 10l.94 2.06.94-2.06 2.06-.94-2.06-.94-.94-2.06-.94 2.06-2.06.94z\"/><path d=\"M17.41 7.96l-1.37-1.37c-.4-.4-.92-.59-1.43-.59-.52 0-1.04.2-1.43.59L10.3 9.45l-7.72 7.72c-.78.78-.78 2.05 0 2.83L4 21.41c.39.39.9.59 1.41.59.51 0 1.02-.2 1.41-.59l7.78-7.78 2.81-2.81c.8-.78.8-2.07 0-2.86zM5.41 20L4 18.59l7.72-7.72 1.47 1.35L5.41 20z\"/>\n",
              "  </svg>\n",
              "      </button>\n",
              "      \n",
              "  <style>\n",
              "    .colab-df-container {\n",
              "      display:flex;\n",
              "      flex-wrap:wrap;\n",
              "      gap: 12px;\n",
              "    }\n",
              "\n",
              "    .colab-df-convert {\n",
              "      background-color: #E8F0FE;\n",
              "      border: none;\n",
              "      border-radius: 50%;\n",
              "      cursor: pointer;\n",
              "      display: none;\n",
              "      fill: #1967D2;\n",
              "      height: 32px;\n",
              "      padding: 0 0 0 0;\n",
              "      width: 32px;\n",
              "    }\n",
              "\n",
              "    .colab-df-convert:hover {\n",
              "      background-color: #E2EBFA;\n",
              "      box-shadow: 0px 1px 2px rgba(60, 64, 67, 0.3), 0px 1px 3px 1px rgba(60, 64, 67, 0.15);\n",
              "      fill: #174EA6;\n",
              "    }\n",
              "\n",
              "    [theme=dark] .colab-df-convert {\n",
              "      background-color: #3B4455;\n",
              "      fill: #D2E3FC;\n",
              "    }\n",
              "\n",
              "    [theme=dark] .colab-df-convert:hover {\n",
              "      background-color: #434B5C;\n",
              "      box-shadow: 0px 1px 3px 1px rgba(0, 0, 0, 0.15);\n",
              "      filter: drop-shadow(0px 1px 2px rgba(0, 0, 0, 0.3));\n",
              "      fill: #FFFFFF;\n",
              "    }\n",
              "  </style>\n",
              "\n",
              "      <script>\n",
              "        const buttonEl =\n",
              "          document.querySelector('#df-38edc075-3048-47b6-acb3-da9453d4cffb button.colab-df-convert');\n",
              "        buttonEl.style.display =\n",
              "          google.colab.kernel.accessAllowed ? 'block' : 'none';\n",
              "\n",
              "        async function convertToInteractive(key) {\n",
              "          const element = document.querySelector('#df-38edc075-3048-47b6-acb3-da9453d4cffb');\n",
              "          const dataTable =\n",
              "            await google.colab.kernel.invokeFunction('convertToInteractive',\n",
              "                                                     [key], {});\n",
              "          if (!dataTable) return;\n",
              "\n",
              "          const docLinkHtml = 'Like what you see? Visit the ' +\n",
              "            '<a target=\"_blank\" href=https://colab.research.google.com/notebooks/data_table.ipynb>data table notebook</a>'\n",
              "            + ' to learn more about interactive tables.';\n",
              "          element.innerHTML = '';\n",
              "          dataTable['output_type'] = 'display_data';\n",
              "          await google.colab.output.renderOutput(dataTable, element);\n",
              "          const docLink = document.createElement('div');\n",
              "          docLink.innerHTML = docLinkHtml;\n",
              "          element.appendChild(docLink);\n",
              "        }\n",
              "      </script>\n",
              "    </div>\n",
              "  </div>\n",
              "  "
            ],
            "text/plain": [
              "               Age    DailyRate  ...  YearsSinceLastPromotion  YearsWithCurrManager\n",
              "count  1470.000000  1470.000000  ...              1470.000000           1470.000000\n",
              "mean     36.923810   802.485714  ...                 2.187755              4.123129\n",
              "std       9.135373   403.509100  ...                 3.222430              3.568136\n",
              "min      18.000000   102.000000  ...                 0.000000              0.000000\n",
              "25%      30.000000   465.000000  ...                 0.000000              2.000000\n",
              "50%      36.000000   802.000000  ...                 1.000000              3.000000\n",
              "75%      43.000000  1157.000000  ...                 3.000000              7.000000\n",
              "max      60.000000  1499.000000  ...                15.000000             17.000000\n",
              "\n",
              "[8 rows x 23 columns]"
            ]
          },
          "metadata": {},
          "execution_count": 157
        }
      ]
    },
    {
      "cell_type": "markdown",
      "source": [
        "with above information,we can see there no missing values in any column and we can also observe the fact that many columns contains a minimum value of even 0 value,which means the value can even go with zero amount as well."
      ],
      "metadata": {
        "id": "K56cpuCo1_2A"
      }
    },
    {
      "cell_type": "code",
      "source": [
        "#to check all the values count in dependent variable 'wins(W)'\n",
        "df['Attrition'].value_counts()"
      ],
      "metadata": {
        "colab": {
          "base_uri": "https://localhost:8080/"
        },
        "id": "9WygTYKD12fe",
        "outputId": "b13b4b9f-663c-46b8-c4ae-e774da243ef0"
      },
      "execution_count": 158,
      "outputs": [
        {
          "output_type": "execute_result",
          "data": {
            "text/plain": [
              "No     1233\n",
              "Yes     237\n",
              "Name: Attrition, dtype: int64"
            ]
          },
          "metadata": {},
          "execution_count": 158
        }
      ]
    },
    {
      "cell_type": "markdown",
      "source": [
        "with this,we can say that its a imbalanced data"
      ],
      "metadata": {
        "id": "lHZR6K5v2WGh"
      }
    },
    {
      "cell_type": "code",
      "source": [
        "#to check whether any null values present in dataframe\n",
        "df.isnull().sum()"
      ],
      "metadata": {
        "colab": {
          "base_uri": "https://localhost:8080/"
        },
        "id": "DWrIyLLo2Pef",
        "outputId": "a021032f-fe93-4ba8-f138-bdb6dd04cdab"
      },
      "execution_count": 159,
      "outputs": [
        {
          "output_type": "execute_result",
          "data": {
            "text/plain": [
              "Age                         0\n",
              "Attrition                   0\n",
              "BusinessTravel              0\n",
              "DailyRate                   0\n",
              "Department                  0\n",
              "DistanceFromHome            0\n",
              "Education                   0\n",
              "EducationField              0\n",
              "EnvironmentSatisfaction     0\n",
              "Gender                      0\n",
              "HourlyRate                  0\n",
              "JobInvolvement              0\n",
              "JobLevel                    0\n",
              "JobRole                     0\n",
              "JobSatisfaction             0\n",
              "MaritalStatus               0\n",
              "MonthlyIncome               0\n",
              "MonthlyRate                 0\n",
              "NumCompaniesWorked          0\n",
              "OverTime                    0\n",
              "PercentSalaryHike           0\n",
              "PerformanceRating           0\n",
              "RelationshipSatisfaction    0\n",
              "StockOptionLevel            0\n",
              "TotalWorkingYears           0\n",
              "TrainingTimesLastYear       0\n",
              "WorkLifeBalance             0\n",
              "YearsAtCompany              0\n",
              "YearsInCurrentRole          0\n",
              "YearsSinceLastPromotion     0\n",
              "YearsWithCurrManager        0\n",
              "dtype: int64"
            ]
          },
          "metadata": {},
          "execution_count": 159
        }
      ]
    },
    {
      "cell_type": "markdown",
      "source": [
        "So,there are no null values in the dataset"
      ],
      "metadata": {
        "id": "czrbWLLc3jtQ"
      }
    },
    {
      "cell_type": "markdown",
      "source": [
        "# Visualization"
      ],
      "metadata": {
        "id": "teVFlu163tLP"
      }
    },
    {
      "cell_type": "code",
      "source": [
        "#visualize the histogram of wins\n",
        "plt.hist(df['Attrition'])\n",
        "plt.xlabel('Attrition')\n",
        "plt.title('histogram of Attrition')"
      ],
      "metadata": {
        "colab": {
          "base_uri": "https://localhost:8080/",
          "height": 313
        },
        "id": "jg4jQJ3R3qSe",
        "outputId": "b33f42b4-bac6-4f82-e69d-a087d070b6c9"
      },
      "execution_count": 160,
      "outputs": [
        {
          "output_type": "execute_result",
          "data": {
            "text/plain": [
              "Text(0.5, 1.0, 'histogram of Attrition')"
            ]
          },
          "metadata": {},
          "execution_count": 160
        },
        {
          "output_type": "display_data",
          "data": {
            "image/png": "[encoded data removed]",
            "text/plain": [
              "<Figure size 432x288 with 1 Axes>"
            ]
          },
          "metadata": {
            "needs_background": "light"
          }
        }
      ]
    },
    {
      "cell_type": "markdown",
      "source": [
        "we can clearly see that \"NO\" values are more occuring then \"YES\" values.\n",
        "SO,we can deal with this kind of imbalanced data by using a F1-score as our metrics evaluation method after training the model"
      ],
      "metadata": {
        "id": "k-7Qpq5P3_N4"
      }
    },
    {
      "cell_type": "code",
      "source": [
        "import warnings\n",
        "warnings.filterwarnings('ignore') #to remove warning messages"
      ],
      "metadata": {
        "id": "a7HnEeU939qo"
      },
      "execution_count": 161,
      "outputs": []
    },
    {
      "cell_type": "code",
      "source": [
        "sns.factorplot('Gender', data=df, kind=\"count\") ## Let's check gender"
      ],
      "metadata": {
        "colab": {
          "base_uri": "https://localhost:8080/",
          "height": 387
        },
        "id": "uiI6gYZc7xaY",
        "outputId": "fba80cea-f260-49d9-c339-bc4ff17e245d"
      },
      "execution_count": 162,
      "outputs": [
        {
          "output_type": "execute_result",
          "data": {
            "text/plain": [
              "<seaborn.axisgrid.FacetGrid at 0x7f21666e6390>"
            ]
          },
          "metadata": {},
          "execution_count": 162
        },
        {
          "output_type": "display_data",
          "data": {
            "image/png": "[encoded data removed]",
            "text/plain": [
              "<Figure size 360x360 with 1 Axes>"
            ]
          },
          "metadata": {
            "needs_background": "light"
          }
        }
      ]
    },
    {
      "cell_type": "markdown",
      "source": [
        "So,there are more records on male employee then female employee"
      ],
      "metadata": {
        "id": "2SGBr9B676IR"
      }
    },
    {
      "cell_type": "code",
      "source": [
        "# Now let's seperate the genders by MaritalStatus  using 'hue' arguement \n",
        "\n",
        "sns.factorplot('Gender', data=df, kind=\"count\", hue='MaritalStatus')"
      ],
      "metadata": {
        "colab": {
          "base_uri": "https://localhost:8080/",
          "height": 387
        },
        "id": "uGiFwXlB723e",
        "outputId": "991b2b9f-a2cc-4774-8e34-ff166c03503d"
      },
      "execution_count": 163,
      "outputs": [
        {
          "output_type": "execute_result",
          "data": {
            "text/plain": [
              "<seaborn.axisgrid.FacetGrid at 0x7f2165c875d0>"
            ]
          },
          "metadata": {},
          "execution_count": 163
        },
        {
          "output_type": "display_data",
          "data": {
            "image/png": "[encoded data removed]",
            "text/plain": [
              "<Figure size 440.375x360 with 1 Axes>"
            ]
          },
          "metadata": {
            "needs_background": "light"
          }
        }
      ]
    },
    {
      "cell_type": "markdown",
      "source": [
        "So,most records on employees who are married and minimum records are on divorced employee."
      ],
      "metadata": {
        "id": "QMssOnkt8rJ4"
      }
    },
    {
      "cell_type": "code",
      "source": [
        "# Now let's seperate the BusinessTravel by Department  using 'hue' arguement \n",
        "\n",
        "sns.factorplot('BusinessTravel', data=df, kind=\"count\", hue='Department')"
      ],
      "metadata": {
        "colab": {
          "base_uri": "https://localhost:8080/",
          "height": 387
        },
        "id": "SQM1M6of8iPX",
        "outputId": "28d302b0-1b8e-4a6c-d2c0-51889ca9821a"
      },
      "execution_count": 164,
      "outputs": [
        {
          "output_type": "execute_result",
          "data": {
            "text/plain": [
              "<seaborn.axisgrid.FacetGrid at 0x7f216628bdd0>"
            ]
          },
          "metadata": {},
          "execution_count": 164
        },
        {
          "output_type": "display_data",
          "data": {
            "image/png": "[encoded data removed]",
            "text/plain": [
              "<Figure size 522.875x360 with 1 Axes>"
            ]
          },
          "metadata": {
            "needs_background": "light"
          }
        }
      ]
    },
    {
      "cell_type": "markdown",
      "source": [
        "So,employees are more who travels rarely and most employees are in Research & Development department"
      ],
      "metadata": {
        "id": "_f0n4i1G9zRB"
      }
    },
    {
      "cell_type": "code",
      "source": [
        "a = sns.factorplot('JobRole', data=df, kind=\"count\")\n",
        "a.set_xticklabels(rotation=90)"
      ],
      "metadata": {
        "colab": {
          "base_uri": "https://localhost:8080/",
          "height": 510
        },
        "id": "LtggzajO9Etm",
        "outputId": "e6060fe1-318e-4013-9f23-7020c70a6ae6"
      },
      "execution_count": 165,
      "outputs": [
        {
          "output_type": "execute_result",
          "data": {
            "text/plain": [
              "<seaborn.axisgrid.FacetGrid at 0x7f2165b5f510>"
            ]
          },
          "metadata": {},
          "execution_count": 165
        },
        {
          "output_type": "display_data",
          "data": {
            "image/png": "[encoded data removed]",
            "text/plain": [
              "<Figure size 360x360 with 1 Axes>"
            ]
          },
          "metadata": {
            "needs_background": "light"
          }
        }
      ]
    },
    {
      "cell_type": "markdown",
      "source": [
        "So,most employees are working in as Sales Executive"
      ],
      "metadata": {
        "id": "niMcqd7E_S3R"
      }
    },
    {
      "cell_type": "code",
      "source": [
        "a = sns.factorplot('EducationField', data=df, kind=\"count\")\n",
        "a.set_xticklabels(rotation=60)"
      ],
      "metadata": {
        "colab": {
          "base_uri": "https://localhost:8080/",
          "height": 460
        },
        "id": "uQXMWeNM-h0W",
        "outputId": "b1f4dd85-18b5-49be-b7ed-7246fe0b8983"
      },
      "execution_count": 166,
      "outputs": [
        {
          "output_type": "execute_result",
          "data": {
            "text/plain": [
              "<seaborn.axisgrid.FacetGrid at 0x7f21665d0910>"
            ]
          },
          "metadata": {},
          "execution_count": 166
        },
        {
          "output_type": "display_data",
          "data": {
            "image/png": "[encoded data removed]",
            "text/plain": [
              "<Figure size 360x360 with 1 Axes>"
            ]
          },
          "metadata": {
            "needs_background": "light"
          }
        }
      ]
    },
    {
      "cell_type": "markdown",
      "source": [
        "So,there are more employees whose education field has been the \"life sciences\""
      ],
      "metadata": {
        "id": "ubleSEnP_t5w"
      }
    },
    {
      "cell_type": "code",
      "source": [
        "#Since there are objective type columns,so we can use Label encoder method\n",
        "\n",
        "from sklearn.preprocessing import LabelEncoder\n",
        "\n",
        "df['Attrition'] = LabelEncoder().fit_transform(df['Attrition'])\n",
        "df['BusinessTravel'] = LabelEncoder().fit_transform(df['BusinessTravel'])\n",
        "df['Department'] = LabelEncoder().fit_transform(df['Department'])\n",
        "df['EducationField'] = LabelEncoder().fit_transform(df['EducationField'])\n",
        "df['JobRole'] = LabelEncoder().fit_transform(df['JobRole'])\n",
        "df['MaritalStatus'] = LabelEncoder().fit_transform(df['MaritalStatus'])\n",
        "df['OverTime'] = LabelEncoder().fit_transform(df['OverTime'])\n",
        "df['Gender'] = LabelEncoder().fit_transform(df['Gender'])"
      ],
      "metadata": {
        "id": "yZoe7Ci9DMMG"
      },
      "execution_count": 167,
      "outputs": []
    },
    {
      "cell_type": "code",
      "source": [
        "df.head()"
      ],
      "metadata": {
        "colab": {
          "base_uri": "https://localhost:8080/",
          "height": 270
        },
        "id": "Nytn4Ax9fbF3",
        "outputId": "62061520-9086-4823-d3ce-6ecc0565e311"
      },
      "execution_count": 168,
      "outputs": [
        {
          "output_type": "execute_result",
          "data": {
            "text/html": [
              "\n",
              "  <div id=\"df-a6bcc7a0-0153-4b43-999e-972d168fd8e7\">\n",
              "    <div class=\"colab-df-container\">\n",
              "      <div>\n",
              "<style scoped>\n",
              "    .dataframe tbody tr th:only-of-type {\n",
              "        vertical-align: middle;\n",
              "    }\n",
              "\n",
              "    .dataframe tbody tr th {\n",
              "        vertical-align: top;\n",
              "    }\n",
              "\n",
              "    .dataframe thead th {\n",
              "        text-align: right;\n",
              "    }\n",
              "</style>\n",
              "<table border=\"1\" class=\"dataframe\">\n",
              "  <thead>\n",
              "    <tr style=\"text-align: right;\">\n",
              "      <th></th>\n",
              "      <th>Age</th>\n",
              "      <th>Attrition</th>\n",
              "      <th>BusinessTravel</th>\n",
              "      <th>DailyRate</th>\n",
              "      <th>Department</th>\n",
              "      <th>DistanceFromHome</th>\n",
              "      <th>Education</th>\n",
              "      <th>EducationField</th>\n",
              "      <th>EnvironmentSatisfaction</th>\n",
              "      <th>Gender</th>\n",
              "      <th>HourlyRate</th>\n",
              "      <th>JobInvolvement</th>\n",
              "      <th>JobLevel</th>\n",
              "      <th>JobRole</th>\n",
              "      <th>JobSatisfaction</th>\n",
              "      <th>MaritalStatus</th>\n",
              "      <th>MonthlyIncome</th>\n",
              "      <th>MonthlyRate</th>\n",
              "      <th>NumCompaniesWorked</th>\n",
              "      <th>OverTime</th>\n",
              "      <th>PercentSalaryHike</th>\n",
              "      <th>PerformanceRating</th>\n",
              "      <th>RelationshipSatisfaction</th>\n",
              "      <th>StockOptionLevel</th>\n",
              "      <th>TotalWorkingYears</th>\n",
              "      <th>TrainingTimesLastYear</th>\n",
              "      <th>WorkLifeBalance</th>\n",
              "      <th>YearsAtCompany</th>\n",
              "      <th>YearsInCurrentRole</th>\n",
              "      <th>YearsSinceLastPromotion</th>\n",
              "      <th>YearsWithCurrManager</th>\n",
              "    </tr>\n",
              "  </thead>\n",
              "  <tbody>\n",
              "    <tr>\n",
              "      <th>0</th>\n",
              "      <td>41</td>\n",
              "      <td>1</td>\n",
              "      <td>2</td>\n",
              "      <td>1102</td>\n",
              "      <td>2</td>\n",
              "      <td>1</td>\n",
              "      <td>2</td>\n",
              "      <td>1</td>\n",
              "      <td>2</td>\n",
              "      <td>0</td>\n",
              "      <td>94</td>\n",
              "      <td>3</td>\n",
              "      <td>2</td>\n",
              "      <td>7</td>\n",
              "      <td>4</td>\n",
              "      <td>2</td>\n",
              "      <td>5993</td>\n",
              "      <td>19479</td>\n",
              "      <td>8</td>\n",
              "      <td>1</td>\n",
              "      <td>11</td>\n",
              "      <td>3</td>\n",
              "      <td>1</td>\n",
              "      <td>0</td>\n",
              "      <td>8</td>\n",
              "      <td>0</td>\n",
              "      <td>1</td>\n",
              "      <td>6</td>\n",
              "      <td>4</td>\n",
              "      <td>0</td>\n",
              "      <td>5</td>\n",
              "    </tr>\n",
              "    <tr>\n",
              "      <th>1</th>\n",
              "      <td>49</td>\n",
              "      <td>0</td>\n",
              "      <td>1</td>\n",
              "      <td>279</td>\n",
              "      <td>1</td>\n",
              "      <td>8</td>\n",
              "      <td>1</td>\n",
              "      <td>1</td>\n",
              "      <td>3</td>\n",
              "      <td>1</td>\n",
              "      <td>61</td>\n",
              "      <td>2</td>\n",
              "      <td>2</td>\n",
              "      <td>6</td>\n",
              "      <td>2</td>\n",
              "      <td>1</td>\n",
              "      <td>5130</td>\n",
              "      <td>24907</td>\n",
              "      <td>1</td>\n",
              "      <td>0</td>\n",
              "      <td>23</td>\n",
              "      <td>4</td>\n",
              "      <td>4</td>\n",
              "      <td>1</td>\n",
              "      <td>10</td>\n",
              "      <td>3</td>\n",
              "      <td>3</td>\n",
              "      <td>10</td>\n",
              "      <td>7</td>\n",
              "      <td>1</td>\n",
              "      <td>7</td>\n",
              "    </tr>\n",
              "    <tr>\n",
              "      <th>2</th>\n",
              "      <td>37</td>\n",
              "      <td>1</td>\n",
              "      <td>2</td>\n",
              "      <td>1373</td>\n",
              "      <td>1</td>\n",
              "      <td>2</td>\n",
              "      <td>2</td>\n",
              "      <td>4</td>\n",
              "      <td>4</td>\n",
              "      <td>1</td>\n",
              "      <td>92</td>\n",
              "      <td>2</td>\n",
              "      <td>1</td>\n",
              "      <td>2</td>\n",
              "      <td>3</td>\n",
              "      <td>2</td>\n",
              "      <td>2090</td>\n",
              "      <td>2396</td>\n",
              "      <td>6</td>\n",
              "      <td>1</td>\n",
              "      <td>15</td>\n",
              "      <td>3</td>\n",
              "      <td>2</td>\n",
              "      <td>0</td>\n",
              "      <td>7</td>\n",
              "      <td>3</td>\n",
              "      <td>3</td>\n",
              "      <td>0</td>\n",
              "      <td>0</td>\n",
              "      <td>0</td>\n",
              "      <td>0</td>\n",
              "    </tr>\n",
              "    <tr>\n",
              "      <th>3</th>\n",
              "      <td>33</td>\n",
              "      <td>0</td>\n",
              "      <td>1</td>\n",
              "      <td>1392</td>\n",
              "      <td>1</td>\n",
              "      <td>3</td>\n",
              "      <td>4</td>\n",
              "      <td>1</td>\n",
              "      <td>4</td>\n",
              "      <td>0</td>\n",
              "      <td>56</td>\n",
              "      <td>3</td>\n",
              "      <td>1</td>\n",
              "      <td>6</td>\n",
              "      <td>3</td>\n",
              "      <td>1</td>\n",
              "      <td>2909</td>\n",
              "      <td>23159</td>\n",
              "      <td>1</td>\n",
              "      <td>1</td>\n",
              "      <td>11</td>\n",
              "      <td>3</td>\n",
              "      <td>3</td>\n",
              "      <td>0</td>\n",
              "      <td>8</td>\n",
              "      <td>3</td>\n",
              "      <td>3</td>\n",
              "      <td>8</td>\n",
              "      <td>7</td>\n",
              "      <td>3</td>\n",
              "      <td>0</td>\n",
              "    </tr>\n",
              "    <tr>\n",
              "      <th>4</th>\n",
              "      <td>27</td>\n",
              "      <td>0</td>\n",
              "      <td>2</td>\n",
              "      <td>591</td>\n",
              "      <td>1</td>\n",
              "      <td>2</td>\n",
              "      <td>1</td>\n",
              "      <td>3</td>\n",
              "      <td>1</td>\n",
              "      <td>1</td>\n",
              "      <td>40</td>\n",
              "      <td>3</td>\n",
              "      <td>1</td>\n",
              "      <td>2</td>\n",
              "      <td>2</td>\n",
              "      <td>1</td>\n",
              "      <td>3468</td>\n",
              "      <td>16632</td>\n",
              "      <td>9</td>\n",
              "      <td>0</td>\n",
              "      <td>12</td>\n",
              "      <td>3</td>\n",
              "      <td>4</td>\n",
              "      <td>1</td>\n",
              "      <td>6</td>\n",
              "      <td>3</td>\n",
              "      <td>3</td>\n",
              "      <td>2</td>\n",
              "      <td>2</td>\n",
              "      <td>2</td>\n",
              "      <td>2</td>\n",
              "    </tr>\n",
              "  </tbody>\n",
              "</table>\n",
              "</div>\n",
              "      <button class=\"colab-df-convert\" onclick=\"convertToInteractive('df-a6bcc7a0-0153-4b43-999e-972d168fd8e7')\"\n",
              "              title=\"Convert this dataframe to an interactive table.\"\n",
              "              style=\"display:none;\">\n",
              "        \n",
              "  <svg xmlns=\"http://www.w3.org/2000/svg\" height=\"24px\"viewBox=\"0 0 24 24\"\n",
              "       width=\"24px\">\n",
              "    <path d=\"M0 0h24v24H0V0z\" fill=\"none\"/>\n",
              "    <path d=\"M18.56 5.44l.94 2.06.94-2.06 2.06-.94-2.06-.94-.94-2.06-.94 2.06-2.06.94zm-11 1L8.5 8.5l.94-2.06 2.06-.94-2.06-.94L8.5 2.5l-.94 2.06-2.06.94zm10 10l.94 2.06.94-2.06 2.06-.94-2.06-.94-.94-2.06-.94 2.06-2.06.94z\"/><path d=\"M17.41 7.96l-1.37-1.37c-.4-.4-.92-.59-1.43-.59-.52 0-1.04.2-1.43.59L10.3 9.45l-7.72 7.72c-.78.78-.78 2.05 0 2.83L4 21.41c.39.39.9.59 1.41.59.51 0 1.02-.2 1.41-.59l7.78-7.78 2.81-2.81c.8-.78.8-2.07 0-2.86zM5.41 20L4 18.59l7.72-7.72 1.47 1.35L5.41 20z\"/>\n",
              "  </svg>\n",
              "      </button>\n",
              "      \n",
              "  <style>\n",
              "    .colab-df-container {\n",
              "      display:flex;\n",
              "      flex-wrap:wrap;\n",
              "      gap: 12px;\n",
              "    }\n",
              "\n",
              "    .colab-df-convert {\n",
              "      background-color: #E8F0FE;\n",
              "      border: none;\n",
              "      border-radius: 50%;\n",
              "      cursor: pointer;\n",
              "      display: none;\n",
              "      fill: #1967D2;\n",
              "      height: 32px;\n",
              "      padding: 0 0 0 0;\n",
              "      width: 32px;\n",
              "    }\n",
              "\n",
              "    .colab-df-convert:hover {\n",
              "      background-color: #E2EBFA;\n",
              "      box-shadow: 0px 1px 2px rgba(60, 64, 67, 0.3), 0px 1px 3px 1px rgba(60, 64, 67, 0.15);\n",
              "      fill: #174EA6;\n",
              "    }\n",
              "\n",
              "    [theme=dark] .colab-df-convert {\n",
              "      background-color: #3B4455;\n",
              "      fill: #D2E3FC;\n",
              "    }\n",
              "\n",
              "    [theme=dark] .colab-df-convert:hover {\n",
              "      background-color: #434B5C;\n",
              "      box-shadow: 0px 1px 3px 1px rgba(0, 0, 0, 0.15);\n",
              "      filter: drop-shadow(0px 1px 2px rgba(0, 0, 0, 0.3));\n",
              "      fill: #FFFFFF;\n",
              "    }\n",
              "  </style>\n",
              "\n",
              "      <script>\n",
              "        const buttonEl =\n",
              "          document.querySelector('#df-a6bcc7a0-0153-4b43-999e-972d168fd8e7 button.colab-df-convert');\n",
              "        buttonEl.style.display =\n",
              "          google.colab.kernel.accessAllowed ? 'block' : 'none';\n",
              "\n",
              "        async function convertToInteractive(key) {\n",
              "          const element = document.querySelector('#df-a6bcc7a0-0153-4b43-999e-972d168fd8e7');\n",
              "          const dataTable =\n",
              "            await google.colab.kernel.invokeFunction('convertToInteractive',\n",
              "                                                     [key], {});\n",
              "          if (!dataTable) return;\n",
              "\n",
              "          const docLinkHtml = 'Like what you see? Visit the ' +\n",
              "            '<a target=\"_blank\" href=https://colab.research.google.com/notebooks/data_table.ipynb>data table notebook</a>'\n",
              "            + ' to learn more about interactive tables.';\n",
              "          element.innerHTML = '';\n",
              "          dataTable['output_type'] = 'display_data';\n",
              "          await google.colab.output.renderOutput(dataTable, element);\n",
              "          const docLink = document.createElement('div');\n",
              "          docLink.innerHTML = docLinkHtml;\n",
              "          element.appendChild(docLink);\n",
              "        }\n",
              "      </script>\n",
              "    </div>\n",
              "  </div>\n",
              "  "
            ],
            "text/plain": [
              "   Age  Attrition  ...  YearsSinceLastPromotion  YearsWithCurrManager\n",
              "0   41          1  ...                        0                     5\n",
              "1   49          0  ...                        1                     7\n",
              "2   37          1  ...                        0                     0\n",
              "3   33          0  ...                        3                     0\n",
              "4   27          0  ...                        2                     2\n",
              "\n",
              "[5 rows x 31 columns]"
            ]
          },
          "metadata": {},
          "execution_count": 168
        }
      ]
    },
    {
      "cell_type": "markdown",
      "source": [
        "# Correlation"
      ],
      "metadata": {
        "id": "q-ezmuAngFY5"
      }
    },
    {
      "cell_type": "code",
      "source": [
        "df.corr()"
      ],
      "metadata": {
        "colab": {
          "base_uri": "https://localhost:8080/",
          "height": 1000
        },
        "id": "nXLmJv1bf9lH",
        "outputId": "bad7066e-77a6-47e2-9aa7-9f6909954c03"
      },
      "execution_count": 169,
      "outputs": [
        {
          "output_type": "execute_result",
          "data": {
            "text/html": [
              "\n",
              "  <div id=\"df-079ab494-711d-45db-9c4a-0d3ed9653d5c\">\n",
              "    <div class=\"colab-df-container\">\n",
              "      <div>\n",
              "<style scoped>\n",
              "    .dataframe tbody tr th:only-of-type {\n",
              "        vertical-align: middle;\n",
              "    }\n",
              "\n",
              "    .dataframe tbody tr th {\n",
              "        vertical-align: top;\n",
              "    }\n",
              "\n",
              "    .dataframe thead th {\n",
              "        text-align: right;\n",
              "    }\n",
              "</style>\n",
              "<table border=\"1\" class=\"dataframe\">\n",
              "  <thead>\n",
              "    <tr style=\"text-align: right;\">\n",
              "      <th></th>\n",
              "      <th>Age</th>\n",
              "      <th>Attrition</th>\n",
              "      <th>BusinessTravel</th>\n",
              "      <th>DailyRate</th>\n",
              "      <th>Department</th>\n",
              "      <th>DistanceFromHome</th>\n",
              "      <th>Education</th>\n",
              "      <th>EducationField</th>\n",
              "      <th>EnvironmentSatisfaction</th>\n",
              "      <th>Gender</th>\n",
              "      <th>HourlyRate</th>\n",
              "      <th>JobInvolvement</th>\n",
              "      <th>JobLevel</th>\n",
              "      <th>JobRole</th>\n",
              "      <th>JobSatisfaction</th>\n",
              "      <th>MaritalStatus</th>\n",
              "      <th>MonthlyIncome</th>\n",
              "      <th>MonthlyRate</th>\n",
              "      <th>NumCompaniesWorked</th>\n",
              "      <th>OverTime</th>\n",
              "      <th>PercentSalaryHike</th>\n",
              "      <th>PerformanceRating</th>\n",
              "      <th>RelationshipSatisfaction</th>\n",
              "      <th>StockOptionLevel</th>\n",
              "      <th>TotalWorkingYears</th>\n",
              "      <th>TrainingTimesLastYear</th>\n",
              "      <th>WorkLifeBalance</th>\n",
              "      <th>YearsAtCompany</th>\n",
              "      <th>YearsInCurrentRole</th>\n",
              "      <th>YearsSinceLastPromotion</th>\n",
              "      <th>YearsWithCurrManager</th>\n",
              "    </tr>\n",
              "  </thead>\n",
              "  <tbody>\n",
              "    <tr>\n",
              "      <th>Age</th>\n",
              "      <td>1.000000</td>\n",
              "      <td>-0.159205</td>\n",
              "      <td>0.024751</td>\n",
              "      <td>0.010661</td>\n",
              "      <td>-0.031882</td>\n",
              "      <td>-0.001686</td>\n",
              "      <td>0.208034</td>\n",
              "      <td>-0.040873</td>\n",
              "      <td>0.010146</td>\n",
              "      <td>-0.036311</td>\n",
              "      <td>0.024287</td>\n",
              "      <td>0.029820</td>\n",
              "      <td>0.509604</td>\n",
              "      <td>-0.122427</td>\n",
              "      <td>-0.004892</td>\n",
              "      <td>-0.095029</td>\n",
              "      <td>0.497855</td>\n",
              "      <td>0.028051</td>\n",
              "      <td>0.299635</td>\n",
              "      <td>0.028062</td>\n",
              "      <td>0.003634</td>\n",
              "      <td>0.001904</td>\n",
              "      <td>0.053535</td>\n",
              "      <td>0.037510</td>\n",
              "      <td>0.680381</td>\n",
              "      <td>-0.019621</td>\n",
              "      <td>-0.021490</td>\n",
              "      <td>0.311309</td>\n",
              "      <td>0.212901</td>\n",
              "      <td>0.216513</td>\n",
              "      <td>0.202089</td>\n",
              "    </tr>\n",
              "    <tr>\n",
              "      <th>Attrition</th>\n",
              "      <td>-0.159205</td>\n",
              "      <td>1.000000</td>\n",
              "      <td>0.000074</td>\n",
              "      <td>-0.056652</td>\n",
              "      <td>0.063991</td>\n",
              "      <td>0.077924</td>\n",
              "      <td>-0.031373</td>\n",
              "      <td>0.026846</td>\n",
              "      <td>-0.103369</td>\n",
              "      <td>0.029453</td>\n",
              "      <td>-0.006846</td>\n",
              "      <td>-0.130016</td>\n",
              "      <td>-0.169105</td>\n",
              "      <td>0.067151</td>\n",
              "      <td>-0.103481</td>\n",
              "      <td>0.162070</td>\n",
              "      <td>-0.159840</td>\n",
              "      <td>0.015170</td>\n",
              "      <td>0.043494</td>\n",
              "      <td>0.246118</td>\n",
              "      <td>-0.013478</td>\n",
              "      <td>0.002889</td>\n",
              "      <td>-0.045872</td>\n",
              "      <td>-0.137145</td>\n",
              "      <td>-0.171063</td>\n",
              "      <td>-0.059478</td>\n",
              "      <td>-0.063939</td>\n",
              "      <td>-0.134392</td>\n",
              "      <td>-0.160545</td>\n",
              "      <td>-0.033019</td>\n",
              "      <td>-0.156199</td>\n",
              "    </tr>\n",
              "    <tr>\n",
              "      <th>BusinessTravel</th>\n",
              "      <td>0.024751</td>\n",
              "      <td>0.000074</td>\n",
              "      <td>1.000000</td>\n",
              "      <td>-0.004086</td>\n",
              "      <td>-0.009044</td>\n",
              "      <td>-0.024469</td>\n",
              "      <td>0.000757</td>\n",
              "      <td>0.023724</td>\n",
              "      <td>0.004174</td>\n",
              "      <td>-0.032981</td>\n",
              "      <td>0.026528</td>\n",
              "      <td>0.039062</td>\n",
              "      <td>0.019311</td>\n",
              "      <td>0.002724</td>\n",
              "      <td>-0.033962</td>\n",
              "      <td>0.024001</td>\n",
              "      <td>0.034319</td>\n",
              "      <td>-0.014107</td>\n",
              "      <td>0.020875</td>\n",
              "      <td>0.016543</td>\n",
              "      <td>-0.029377</td>\n",
              "      <td>-0.026341</td>\n",
              "      <td>-0.035986</td>\n",
              "      <td>-0.016727</td>\n",
              "      <td>0.034226</td>\n",
              "      <td>0.015240</td>\n",
              "      <td>-0.011256</td>\n",
              "      <td>-0.014575</td>\n",
              "      <td>-0.011497</td>\n",
              "      <td>-0.032591</td>\n",
              "      <td>-0.022636</td>\n",
              "    </tr>\n",
              "    <tr>\n",
              "      <th>DailyRate</th>\n",
              "      <td>0.010661</td>\n",
              "      <td>-0.056652</td>\n",
              "      <td>-0.004086</td>\n",
              "      <td>1.000000</td>\n",
              "      <td>0.007109</td>\n",
              "      <td>-0.004985</td>\n",
              "      <td>-0.016806</td>\n",
              "      <td>0.037709</td>\n",
              "      <td>0.018355</td>\n",
              "      <td>-0.011716</td>\n",
              "      <td>0.023381</td>\n",
              "      <td>0.046135</td>\n",
              "      <td>0.002966</td>\n",
              "      <td>-0.009472</td>\n",
              "      <td>0.030571</td>\n",
              "      <td>-0.069586</td>\n",
              "      <td>0.007707</td>\n",
              "      <td>-0.032182</td>\n",
              "      <td>0.038153</td>\n",
              "      <td>0.009135</td>\n",
              "      <td>0.022704</td>\n",
              "      <td>0.000473</td>\n",
              "      <td>0.007846</td>\n",
              "      <td>0.042143</td>\n",
              "      <td>0.014515</td>\n",
              "      <td>0.002453</td>\n",
              "      <td>-0.037848</td>\n",
              "      <td>-0.034055</td>\n",
              "      <td>0.009932</td>\n",
              "      <td>-0.033229</td>\n",
              "      <td>-0.026363</td>\n",
              "    </tr>\n",
              "    <tr>\n",
              "      <th>Department</th>\n",
              "      <td>-0.031882</td>\n",
              "      <td>0.063991</td>\n",
              "      <td>-0.009044</td>\n",
              "      <td>0.007109</td>\n",
              "      <td>1.000000</td>\n",
              "      <td>0.017225</td>\n",
              "      <td>0.007996</td>\n",
              "      <td>0.013720</td>\n",
              "      <td>-0.019395</td>\n",
              "      <td>-0.041583</td>\n",
              "      <td>-0.004144</td>\n",
              "      <td>-0.024586</td>\n",
              "      <td>0.101963</td>\n",
              "      <td>0.662431</td>\n",
              "      <td>0.021001</td>\n",
              "      <td>0.056073</td>\n",
              "      <td>0.053130</td>\n",
              "      <td>0.023642</td>\n",
              "      <td>-0.035882</td>\n",
              "      <td>0.007481</td>\n",
              "      <td>-0.007840</td>\n",
              "      <td>-0.024604</td>\n",
              "      <td>-0.022414</td>\n",
              "      <td>-0.012193</td>\n",
              "      <td>-0.015762</td>\n",
              "      <td>0.036875</td>\n",
              "      <td>0.026383</td>\n",
              "      <td>0.022920</td>\n",
              "      <td>0.056315</td>\n",
              "      <td>0.040061</td>\n",
              "      <td>0.034282</td>\n",
              "    </tr>\n",
              "    <tr>\n",
              "      <th>DistanceFromHome</th>\n",
              "      <td>-0.001686</td>\n",
              "      <td>0.077924</td>\n",
              "      <td>-0.024469</td>\n",
              "      <td>-0.004985</td>\n",
              "      <td>0.017225</td>\n",
              "      <td>1.000000</td>\n",
              "      <td>0.021042</td>\n",
              "      <td>0.002013</td>\n",
              "      <td>-0.016075</td>\n",
              "      <td>-0.001851</td>\n",
              "      <td>0.031131</td>\n",
              "      <td>0.008783</td>\n",
              "      <td>0.005303</td>\n",
              "      <td>-0.001015</td>\n",
              "      <td>-0.003669</td>\n",
              "      <td>-0.014437</td>\n",
              "      <td>-0.017014</td>\n",
              "      <td>0.027473</td>\n",
              "      <td>-0.029251</td>\n",
              "      <td>0.025514</td>\n",
              "      <td>0.040235</td>\n",
              "      <td>0.027110</td>\n",
              "      <td>0.006557</td>\n",
              "      <td>0.044872</td>\n",
              "      <td>0.004628</td>\n",
              "      <td>-0.036942</td>\n",
              "      <td>-0.026556</td>\n",
              "      <td>0.009508</td>\n",
              "      <td>0.018845</td>\n",
              "      <td>0.010029</td>\n",
              "      <td>0.014406</td>\n",
              "    </tr>\n",
              "    <tr>\n",
              "      <th>Education</th>\n",
              "      <td>0.208034</td>\n",
              "      <td>-0.031373</td>\n",
              "      <td>0.000757</td>\n",
              "      <td>-0.016806</td>\n",
              "      <td>0.007996</td>\n",
              "      <td>0.021042</td>\n",
              "      <td>1.000000</td>\n",
              "      <td>-0.039592</td>\n",
              "      <td>-0.027128</td>\n",
              "      <td>-0.016547</td>\n",
              "      <td>0.016775</td>\n",
              "      <td>0.042438</td>\n",
              "      <td>0.101589</td>\n",
              "      <td>0.004236</td>\n",
              "      <td>-0.011296</td>\n",
              "      <td>0.004053</td>\n",
              "      <td>0.094961</td>\n",
              "      <td>-0.026084</td>\n",
              "      <td>0.126317</td>\n",
              "      <td>-0.020322</td>\n",
              "      <td>-0.011111</td>\n",
              "      <td>-0.024539</td>\n",
              "      <td>-0.009118</td>\n",
              "      <td>0.018422</td>\n",
              "      <td>0.148280</td>\n",
              "      <td>-0.025100</td>\n",
              "      <td>0.009819</td>\n",
              "      <td>0.069114</td>\n",
              "      <td>0.060236</td>\n",
              "      <td>0.054254</td>\n",
              "      <td>0.069065</td>\n",
              "    </tr>\n",
              "    <tr>\n",
              "      <th>EducationField</th>\n",
              "      <td>-0.040873</td>\n",
              "      <td>0.026846</td>\n",
              "      <td>0.023724</td>\n",
              "      <td>0.037709</td>\n",
              "      <td>0.013720</td>\n",
              "      <td>0.002013</td>\n",
              "      <td>-0.039592</td>\n",
              "      <td>1.000000</td>\n",
              "      <td>0.043163</td>\n",
              "      <td>-0.002504</td>\n",
              "      <td>-0.021941</td>\n",
              "      <td>-0.002655</td>\n",
              "      <td>-0.044933</td>\n",
              "      <td>0.015599</td>\n",
              "      <td>-0.034401</td>\n",
              "      <td>0.014420</td>\n",
              "      <td>-0.041070</td>\n",
              "      <td>-0.027182</td>\n",
              "      <td>-0.008663</td>\n",
              "      <td>0.002259</td>\n",
              "      <td>-0.011214</td>\n",
              "      <td>-0.005614</td>\n",
              "      <td>-0.004378</td>\n",
              "      <td>-0.016185</td>\n",
              "      <td>-0.027848</td>\n",
              "      <td>0.049195</td>\n",
              "      <td>0.041191</td>\n",
              "      <td>-0.018692</td>\n",
              "      <td>-0.010506</td>\n",
              "      <td>0.002326</td>\n",
              "      <td>-0.004130</td>\n",
              "    </tr>\n",
              "    <tr>\n",
              "      <th>EnvironmentSatisfaction</th>\n",
              "      <td>0.010146</td>\n",
              "      <td>-0.103369</td>\n",
              "      <td>0.004174</td>\n",
              "      <td>0.018355</td>\n",
              "      <td>-0.019395</td>\n",
              "      <td>-0.016075</td>\n",
              "      <td>-0.027128</td>\n",
              "      <td>0.043163</td>\n",
              "      <td>1.000000</td>\n",
              "      <td>0.000508</td>\n",
              "      <td>-0.049857</td>\n",
              "      <td>-0.008278</td>\n",
              "      <td>0.001212</td>\n",
              "      <td>-0.017321</td>\n",
              "      <td>-0.006784</td>\n",
              "      <td>-0.003593</td>\n",
              "      <td>-0.006259</td>\n",
              "      <td>0.037600</td>\n",
              "      <td>0.012594</td>\n",
              "      <td>0.070132</td>\n",
              "      <td>-0.031701</td>\n",
              "      <td>-0.029548</td>\n",
              "      <td>0.007665</td>\n",
              "      <td>0.003432</td>\n",
              "      <td>-0.002693</td>\n",
              "      <td>-0.019359</td>\n",
              "      <td>0.027627</td>\n",
              "      <td>0.001458</td>\n",
              "      <td>0.018007</td>\n",
              "      <td>0.016194</td>\n",
              "      <td>-0.004999</td>\n",
              "    </tr>\n",
              "    <tr>\n",
              "      <th>Gender</th>\n",
              "      <td>-0.036311</td>\n",
              "      <td>0.029453</td>\n",
              "      <td>-0.032981</td>\n",
              "      <td>-0.011716</td>\n",
              "      <td>-0.041583</td>\n",
              "      <td>-0.001851</td>\n",
              "      <td>-0.016547</td>\n",
              "      <td>-0.002504</td>\n",
              "      <td>0.000508</td>\n",
              "      <td>1.000000</td>\n",
              "      <td>-0.000478</td>\n",
              "      <td>0.017960</td>\n",
              "      <td>-0.039403</td>\n",
              "      <td>-0.039723</td>\n",
              "      <td>0.033252</td>\n",
              "      <td>-0.047183</td>\n",
              "      <td>-0.031858</td>\n",
              "      <td>-0.041482</td>\n",
              "      <td>-0.039147</td>\n",
              "      <td>-0.041924</td>\n",
              "      <td>0.002733</td>\n",
              "      <td>-0.013859</td>\n",
              "      <td>0.022868</td>\n",
              "      <td>0.012716</td>\n",
              "      <td>-0.046881</td>\n",
              "      <td>-0.038787</td>\n",
              "      <td>-0.002753</td>\n",
              "      <td>-0.029747</td>\n",
              "      <td>-0.041483</td>\n",
              "      <td>-0.026985</td>\n",
              "      <td>-0.030599</td>\n",
              "    </tr>\n",
              "    <tr>\n",
              "      <th>HourlyRate</th>\n",
              "      <td>0.024287</td>\n",
              "      <td>-0.006846</td>\n",
              "      <td>0.026528</td>\n",
              "      <td>0.023381</td>\n",
              "      <td>-0.004144</td>\n",
              "      <td>0.031131</td>\n",
              "      <td>0.016775</td>\n",
              "      <td>-0.021941</td>\n",
              "      <td>-0.049857</td>\n",
              "      <td>-0.000478</td>\n",
              "      <td>1.000000</td>\n",
              "      <td>0.042861</td>\n",
              "      <td>-0.027853</td>\n",
              "      <td>-0.018861</td>\n",
              "      <td>-0.071335</td>\n",
              "      <td>-0.017861</td>\n",
              "      <td>-0.015794</td>\n",
              "      <td>-0.015297</td>\n",
              "      <td>0.022157</td>\n",
              "      <td>-0.007782</td>\n",
              "      <td>-0.009062</td>\n",
              "      <td>-0.002172</td>\n",
              "      <td>0.001330</td>\n",
              "      <td>0.050263</td>\n",
              "      <td>-0.002334</td>\n",
              "      <td>-0.008548</td>\n",
              "      <td>-0.004607</td>\n",
              "      <td>-0.019582</td>\n",
              "      <td>-0.024106</td>\n",
              "      <td>-0.026716</td>\n",
              "      <td>-0.020123</td>\n",
              "    </tr>\n",
              "    <tr>\n",
              "      <th>JobInvolvement</th>\n",
              "      <td>0.029820</td>\n",
              "      <td>-0.130016</td>\n",
              "      <td>0.039062</td>\n",
              "      <td>0.046135</td>\n",
              "      <td>-0.024586</td>\n",
              "      <td>0.008783</td>\n",
              "      <td>0.042438</td>\n",
              "      <td>-0.002655</td>\n",
              "      <td>-0.008278</td>\n",
              "      <td>0.017960</td>\n",
              "      <td>0.042861</td>\n",
              "      <td>1.000000</td>\n",
              "      <td>-0.012630</td>\n",
              "      <td>0.006616</td>\n",
              "      <td>-0.021476</td>\n",
              "      <td>-0.038497</td>\n",
              "      <td>-0.015271</td>\n",
              "      <td>-0.016322</td>\n",
              "      <td>0.015012</td>\n",
              "      <td>-0.003507</td>\n",
              "      <td>-0.017205</td>\n",
              "      <td>-0.029071</td>\n",
              "      <td>0.034297</td>\n",
              "      <td>0.021523</td>\n",
              "      <td>-0.005533</td>\n",
              "      <td>-0.015338</td>\n",
              "      <td>-0.014617</td>\n",
              "      <td>-0.021355</td>\n",
              "      <td>0.008717</td>\n",
              "      <td>-0.024184</td>\n",
              "      <td>0.025976</td>\n",
              "    </tr>\n",
              "    <tr>\n",
              "      <th>JobLevel</th>\n",
              "      <td>0.509604</td>\n",
              "      <td>-0.169105</td>\n",
              "      <td>0.019311</td>\n",
              "      <td>0.002966</td>\n",
              "      <td>0.101963</td>\n",
              "      <td>0.005303</td>\n",
              "      <td>0.101589</td>\n",
              "      <td>-0.044933</td>\n",
              "      <td>0.001212</td>\n",
              "      <td>-0.039403</td>\n",
              "      <td>-0.027853</td>\n",
              "      <td>-0.012630</td>\n",
              "      <td>1.000000</td>\n",
              "      <td>-0.085457</td>\n",
              "      <td>-0.001944</td>\n",
              "      <td>-0.076769</td>\n",
              "      <td>0.950300</td>\n",
              "      <td>0.039563</td>\n",
              "      <td>0.142501</td>\n",
              "      <td>0.000544</td>\n",
              "      <td>-0.034730</td>\n",
              "      <td>-0.021222</td>\n",
              "      <td>0.021642</td>\n",
              "      <td>0.013984</td>\n",
              "      <td>0.782208</td>\n",
              "      <td>-0.018191</td>\n",
              "      <td>0.037818</td>\n",
              "      <td>0.534739</td>\n",
              "      <td>0.389447</td>\n",
              "      <td>0.353885</td>\n",
              "      <td>0.375281</td>\n",
              "    </tr>\n",
              "    <tr>\n",
              "      <th>JobRole</th>\n",
              "      <td>-0.122427</td>\n",
              "      <td>0.067151</td>\n",
              "      <td>0.002724</td>\n",
              "      <td>-0.009472</td>\n",
              "      <td>0.662431</td>\n",
              "      <td>-0.001015</td>\n",
              "      <td>0.004236</td>\n",
              "      <td>0.015599</td>\n",
              "      <td>-0.017321</td>\n",
              "      <td>-0.039723</td>\n",
              "      <td>-0.018861</td>\n",
              "      <td>0.006616</td>\n",
              "      <td>-0.085457</td>\n",
              "      <td>1.000000</td>\n",
              "      <td>0.017537</td>\n",
              "      <td>0.067957</td>\n",
              "      <td>-0.093951</td>\n",
              "      <td>0.005290</td>\n",
              "      <td>-0.056368</td>\n",
              "      <td>0.040662</td>\n",
              "      <td>-0.000848</td>\n",
              "      <td>-0.024233</td>\n",
              "      <td>-0.020218</td>\n",
              "      <td>-0.019171</td>\n",
              "      <td>-0.145439</td>\n",
              "      <td>0.001342</td>\n",
              "      <td>0.027764</td>\n",
              "      <td>-0.083657</td>\n",
              "      <td>-0.028354</td>\n",
              "      <td>-0.046384</td>\n",
              "      <td>-0.041150</td>\n",
              "    </tr>\n",
              "    <tr>\n",
              "      <th>JobSatisfaction</th>\n",
              "      <td>-0.004892</td>\n",
              "      <td>-0.103481</td>\n",
              "      <td>-0.033962</td>\n",
              "      <td>0.030571</td>\n",
              "      <td>0.021001</td>\n",
              "      <td>-0.003669</td>\n",
              "      <td>-0.011296</td>\n",
              "      <td>-0.034401</td>\n",
              "      <td>-0.006784</td>\n",
              "      <td>0.033252</td>\n",
              "      <td>-0.071335</td>\n",
              "      <td>-0.021476</td>\n",
              "      <td>-0.001944</td>\n",
              "      <td>0.017537</td>\n",
              "      <td>1.000000</td>\n",
              "      <td>0.024360</td>\n",
              "      <td>-0.007157</td>\n",
              "      <td>0.000644</td>\n",
              "      <td>-0.055699</td>\n",
              "      <td>0.024539</td>\n",
              "      <td>0.020002</td>\n",
              "      <td>0.002297</td>\n",
              "      <td>-0.012454</td>\n",
              "      <td>0.010690</td>\n",
              "      <td>-0.020185</td>\n",
              "      <td>-0.005779</td>\n",
              "      <td>-0.019459</td>\n",
              "      <td>-0.003803</td>\n",
              "      <td>-0.002305</td>\n",
              "      <td>-0.018214</td>\n",
              "      <td>-0.027656</td>\n",
              "    </tr>\n",
              "    <tr>\n",
              "      <th>MaritalStatus</th>\n",
              "      <td>-0.095029</td>\n",
              "      <td>0.162070</td>\n",
              "      <td>0.024001</td>\n",
              "      <td>-0.069586</td>\n",
              "      <td>0.056073</td>\n",
              "      <td>-0.014437</td>\n",
              "      <td>0.004053</td>\n",
              "      <td>0.014420</td>\n",
              "      <td>-0.003593</td>\n",
              "      <td>-0.047183</td>\n",
              "      <td>-0.017861</td>\n",
              "      <td>-0.038497</td>\n",
              "      <td>-0.076769</td>\n",
              "      <td>0.067957</td>\n",
              "      <td>0.024360</td>\n",
              "      <td>1.000000</td>\n",
              "      <td>-0.075450</td>\n",
              "      <td>0.023937</td>\n",
              "      <td>-0.035505</td>\n",
              "      <td>-0.017521</td>\n",
              "      <td>0.012492</td>\n",
              "      <td>0.005207</td>\n",
              "      <td>0.022549</td>\n",
              "      <td>-0.662577</td>\n",
              "      <td>-0.077886</td>\n",
              "      <td>0.010629</td>\n",
              "      <td>0.014708</td>\n",
              "      <td>-0.059986</td>\n",
              "      <td>-0.065822</td>\n",
              "      <td>-0.030915</td>\n",
              "      <td>-0.038570</td>\n",
              "    </tr>\n",
              "    <tr>\n",
              "      <th>MonthlyIncome</th>\n",
              "      <td>0.497855</td>\n",
              "      <td>-0.159840</td>\n",
              "      <td>0.034319</td>\n",
              "      <td>0.007707</td>\n",
              "      <td>0.053130</td>\n",
              "      <td>-0.017014</td>\n",
              "      <td>0.094961</td>\n",
              "      <td>-0.041070</td>\n",
              "      <td>-0.006259</td>\n",
              "      <td>-0.031858</td>\n",
              "      <td>-0.015794</td>\n",
              "      <td>-0.015271</td>\n",
              "      <td>0.950300</td>\n",
              "      <td>-0.093951</td>\n",
              "      <td>-0.007157</td>\n",
              "      <td>-0.075450</td>\n",
              "      <td>1.000000</td>\n",
              "      <td>0.034814</td>\n",
              "      <td>0.149515</td>\n",
              "      <td>0.006089</td>\n",
              "      <td>-0.027269</td>\n",
              "      <td>-0.017120</td>\n",
              "      <td>0.025873</td>\n",
              "      <td>0.005408</td>\n",
              "      <td>0.772893</td>\n",
              "      <td>-0.021736</td>\n",
              "      <td>0.030683</td>\n",
              "      <td>0.514285</td>\n",
              "      <td>0.363818</td>\n",
              "      <td>0.344978</td>\n",
              "      <td>0.344079</td>\n",
              "    </tr>\n",
              "    <tr>\n",
              "      <th>MonthlyRate</th>\n",
              "      <td>0.028051</td>\n",
              "      <td>0.015170</td>\n",
              "      <td>-0.014107</td>\n",
              "      <td>-0.032182</td>\n",
              "      <td>0.023642</td>\n",
              "      <td>0.027473</td>\n",
              "      <td>-0.026084</td>\n",
              "      <td>-0.027182</td>\n",
              "      <td>0.037600</td>\n",
              "      <td>-0.041482</td>\n",
              "      <td>-0.015297</td>\n",
              "      <td>-0.016322</td>\n",
              "      <td>0.039563</td>\n",
              "      <td>0.005290</td>\n",
              "      <td>0.000644</td>\n",
              "      <td>0.023937</td>\n",
              "      <td>0.034814</td>\n",
              "      <td>1.000000</td>\n",
              "      <td>0.017521</td>\n",
              "      <td>0.021431</td>\n",
              "      <td>-0.006429</td>\n",
              "      <td>-0.009811</td>\n",
              "      <td>-0.004085</td>\n",
              "      <td>-0.034323</td>\n",
              "      <td>0.026442</td>\n",
              "      <td>0.001467</td>\n",
              "      <td>0.007963</td>\n",
              "      <td>-0.023655</td>\n",
              "      <td>-0.012815</td>\n",
              "      <td>0.001567</td>\n",
              "      <td>-0.036746</td>\n",
              "    </tr>\n",
              "    <tr>\n",
              "      <th>NumCompaniesWorked</th>\n",
              "      <td>0.299635</td>\n",
              "      <td>0.043494</td>\n",
              "      <td>0.020875</td>\n",
              "      <td>0.038153</td>\n",
              "      <td>-0.035882</td>\n",
              "      <td>-0.029251</td>\n",
              "      <td>0.126317</td>\n",
              "      <td>-0.008663</td>\n",
              "      <td>0.012594</td>\n",
              "      <td>-0.039147</td>\n",
              "      <td>0.022157</td>\n",
              "      <td>0.015012</td>\n",
              "      <td>0.142501</td>\n",
              "      <td>-0.056368</td>\n",
              "      <td>-0.055699</td>\n",
              "      <td>-0.035505</td>\n",
              "      <td>0.149515</td>\n",
              "      <td>0.017521</td>\n",
              "      <td>1.000000</td>\n",
              "      <td>-0.020786</td>\n",
              "      <td>-0.010238</td>\n",
              "      <td>-0.014095</td>\n",
              "      <td>0.052733</td>\n",
              "      <td>0.030075</td>\n",
              "      <td>0.237639</td>\n",
              "      <td>-0.066054</td>\n",
              "      <td>-0.008366</td>\n",
              "      <td>-0.118421</td>\n",
              "      <td>-0.090754</td>\n",
              "      <td>-0.036814</td>\n",
              "      <td>-0.110319</td>\n",
              "    </tr>\n",
              "    <tr>\n",
              "      <th>OverTime</th>\n",
              "      <td>0.028062</td>\n",
              "      <td>0.246118</td>\n",
              "      <td>0.016543</td>\n",
              "      <td>0.009135</td>\n",
              "      <td>0.007481</td>\n",
              "      <td>0.025514</td>\n",
              "      <td>-0.020322</td>\n",
              "      <td>0.002259</td>\n",
              "      <td>0.070132</td>\n",
              "      <td>-0.041924</td>\n",
              "      <td>-0.007782</td>\n",
              "      <td>-0.003507</td>\n",
              "      <td>0.000544</td>\n",
              "      <td>0.040662</td>\n",
              "      <td>0.024539</td>\n",
              "      <td>-0.017521</td>\n",
              "      <td>0.006089</td>\n",
              "      <td>0.021431</td>\n",
              "      <td>-0.020786</td>\n",
              "      <td>1.000000</td>\n",
              "      <td>-0.005433</td>\n",
              "      <td>0.004369</td>\n",
              "      <td>0.048493</td>\n",
              "      <td>-0.000449</td>\n",
              "      <td>0.012754</td>\n",
              "      <td>-0.079113</td>\n",
              "      <td>-0.027092</td>\n",
              "      <td>-0.011687</td>\n",
              "      <td>-0.029758</td>\n",
              "      <td>-0.012239</td>\n",
              "      <td>-0.041586</td>\n",
              "    </tr>\n",
              "    <tr>\n",
              "      <th>PercentSalaryHike</th>\n",
              "      <td>0.003634</td>\n",
              "      <td>-0.013478</td>\n",
              "      <td>-0.029377</td>\n",
              "      <td>0.022704</td>\n",
              "      <td>-0.007840</td>\n",
              "      <td>0.040235</td>\n",
              "      <td>-0.011111</td>\n",
              "      <td>-0.011214</td>\n",
              "      <td>-0.031701</td>\n",
              "      <td>0.002733</td>\n",
              "      <td>-0.009062</td>\n",
              "      <td>-0.017205</td>\n",
              "      <td>-0.034730</td>\n",
              "      <td>-0.000848</td>\n",
              "      <td>0.020002</td>\n",
              "      <td>0.012492</td>\n",
              "      <td>-0.027269</td>\n",
              "      <td>-0.006429</td>\n",
              "      <td>-0.010238</td>\n",
              "      <td>-0.005433</td>\n",
              "      <td>1.000000</td>\n",
              "      <td>0.773550</td>\n",
              "      <td>-0.040490</td>\n",
              "      <td>0.007528</td>\n",
              "      <td>-0.020608</td>\n",
              "      <td>-0.005221</td>\n",
              "      <td>-0.003280</td>\n",
              "      <td>-0.035991</td>\n",
              "      <td>-0.001520</td>\n",
              "      <td>-0.022154</td>\n",
              "      <td>-0.011985</td>\n",
              "    </tr>\n",
              "    <tr>\n",
              "      <th>PerformanceRating</th>\n",
              "      <td>0.001904</td>\n",
              "      <td>0.002889</td>\n",
              "      <td>-0.026341</td>\n",
              "      <td>0.000473</td>\n",
              "      <td>-0.024604</td>\n",
              "      <td>0.027110</td>\n",
              "      <td>-0.024539</td>\n",
              "      <td>-0.005614</td>\n",
              "      <td>-0.029548</td>\n",
              "      <td>-0.013859</td>\n",
              "      <td>-0.002172</td>\n",
              "      <td>-0.029071</td>\n",
              "      <td>-0.021222</td>\n",
              "      <td>-0.024233</td>\n",
              "      <td>0.002297</td>\n",
              "      <td>0.005207</td>\n",
              "      <td>-0.017120</td>\n",
              "      <td>-0.009811</td>\n",
              "      <td>-0.014095</td>\n",
              "      <td>0.004369</td>\n",
              "      <td>0.773550</td>\n",
              "      <td>1.000000</td>\n",
              "      <td>-0.031351</td>\n",
              "      <td>0.003506</td>\n",
              "      <td>0.006744</td>\n",
              "      <td>-0.015579</td>\n",
              "      <td>0.002572</td>\n",
              "      <td>0.003435</td>\n",
              "      <td>0.034986</td>\n",
              "      <td>0.017896</td>\n",
              "      <td>0.022827</td>\n",
              "    </tr>\n",
              "    <tr>\n",
              "      <th>RelationshipSatisfaction</th>\n",
              "      <td>0.053535</td>\n",
              "      <td>-0.045872</td>\n",
              "      <td>-0.035986</td>\n",
              "      <td>0.007846</td>\n",
              "      <td>-0.022414</td>\n",
              "      <td>0.006557</td>\n",
              "      <td>-0.009118</td>\n",
              "      <td>-0.004378</td>\n",
              "      <td>0.007665</td>\n",
              "      <td>0.022868</td>\n",
              "      <td>0.001330</td>\n",
              "      <td>0.034297</td>\n",
              "      <td>0.021642</td>\n",
              "      <td>-0.020218</td>\n",
              "      <td>-0.012454</td>\n",
              "      <td>0.022549</td>\n",
              "      <td>0.025873</td>\n",
              "      <td>-0.004085</td>\n",
              "      <td>0.052733</td>\n",
              "      <td>0.048493</td>\n",
              "      <td>-0.040490</td>\n",
              "      <td>-0.031351</td>\n",
              "      <td>1.000000</td>\n",
              "      <td>-0.045952</td>\n",
              "      <td>0.024054</td>\n",
              "      <td>0.002497</td>\n",
              "      <td>0.019604</td>\n",
              "      <td>0.019367</td>\n",
              "      <td>-0.015123</td>\n",
              "      <td>0.033493</td>\n",
              "      <td>-0.000867</td>\n",
              "    </tr>\n",
              "    <tr>\n",
              "      <th>StockOptionLevel</th>\n",
              "      <td>0.037510</td>\n",
              "      <td>-0.137145</td>\n",
              "      <td>-0.016727</td>\n",
              "      <td>0.042143</td>\n",
              "      <td>-0.012193</td>\n",
              "      <td>0.044872</td>\n",
              "      <td>0.018422</td>\n",
              "      <td>-0.016185</td>\n",
              "      <td>0.003432</td>\n",
              "      <td>0.012716</td>\n",
              "      <td>0.050263</td>\n",
              "      <td>0.021523</td>\n",
              "      <td>0.013984</td>\n",
              "      <td>-0.019171</td>\n",
              "      <td>0.010690</td>\n",
              "      <td>-0.662577</td>\n",
              "      <td>0.005408</td>\n",
              "      <td>-0.034323</td>\n",
              "      <td>0.030075</td>\n",
              "      <td>-0.000449</td>\n",
              "      <td>0.007528</td>\n",
              "      <td>0.003506</td>\n",
              "      <td>-0.045952</td>\n",
              "      <td>1.000000</td>\n",
              "      <td>0.010136</td>\n",
              "      <td>0.011274</td>\n",
              "      <td>0.004129</td>\n",
              "      <td>0.015058</td>\n",
              "      <td>0.050818</td>\n",
              "      <td>0.014352</td>\n",
              "      <td>0.024698</td>\n",
              "    </tr>\n",
              "    <tr>\n",
              "      <th>TotalWorkingYears</th>\n",
              "      <td>0.680381</td>\n",
              "      <td>-0.171063</td>\n",
              "      <td>0.034226</td>\n",
              "      <td>0.014515</td>\n",
              "      <td>-0.015762</td>\n",
              "      <td>0.004628</td>\n",
              "      <td>0.148280</td>\n",
              "      <td>-0.027848</td>\n",
              "      <td>-0.002693</td>\n",
              "      <td>-0.046881</td>\n",
              "      <td>-0.002334</td>\n",
              "      <td>-0.005533</td>\n",
              "      <td>0.782208</td>\n",
              "      <td>-0.145439</td>\n",
              "      <td>-0.020185</td>\n",
              "      <td>-0.077886</td>\n",
              "      <td>0.772893</td>\n",
              "      <td>0.026442</td>\n",
              "      <td>0.237639</td>\n",
              "      <td>0.012754</td>\n",
              "      <td>-0.020608</td>\n",
              "      <td>0.006744</td>\n",
              "      <td>0.024054</td>\n",
              "      <td>0.010136</td>\n",
              "      <td>1.000000</td>\n",
              "      <td>-0.035662</td>\n",
              "      <td>0.001008</td>\n",
              "      <td>0.628133</td>\n",
              "      <td>0.460365</td>\n",
              "      <td>0.404858</td>\n",
              "      <td>0.459188</td>\n",
              "    </tr>\n",
              "    <tr>\n",
              "      <th>TrainingTimesLastYear</th>\n",
              "      <td>-0.019621</td>\n",
              "      <td>-0.059478</td>\n",
              "      <td>0.015240</td>\n",
              "      <td>0.002453</td>\n",
              "      <td>0.036875</td>\n",
              "      <td>-0.036942</td>\n",
              "      <td>-0.025100</td>\n",
              "      <td>0.049195</td>\n",
              "      <td>-0.019359</td>\n",
              "      <td>-0.038787</td>\n",
              "      <td>-0.008548</td>\n",
              "      <td>-0.015338</td>\n",
              "      <td>-0.018191</td>\n",
              "      <td>0.001342</td>\n",
              "      <td>-0.005779</td>\n",
              "      <td>0.010629</td>\n",
              "      <td>-0.021736</td>\n",
              "      <td>0.001467</td>\n",
              "      <td>-0.066054</td>\n",
              "      <td>-0.079113</td>\n",
              "      <td>-0.005221</td>\n",
              "      <td>-0.015579</td>\n",
              "      <td>0.002497</td>\n",
              "      <td>0.011274</td>\n",
              "      <td>-0.035662</td>\n",
              "      <td>1.000000</td>\n",
              "      <td>0.028072</td>\n",
              "      <td>0.003569</td>\n",
              "      <td>-0.005738</td>\n",
              "      <td>-0.002067</td>\n",
              "      <td>-0.004096</td>\n",
              "    </tr>\n",
              "    <tr>\n",
              "      <th>WorkLifeBalance</th>\n",
              "      <td>-0.021490</td>\n",
              "      <td>-0.063939</td>\n",
              "      <td>-0.011256</td>\n",
              "      <td>-0.037848</td>\n",
              "      <td>0.026383</td>\n",
              "      <td>-0.026556</td>\n",
              "      <td>0.009819</td>\n",
              "      <td>0.041191</td>\n",
              "      <td>0.027627</td>\n",
              "      <td>-0.002753</td>\n",
              "      <td>-0.004607</td>\n",
              "      <td>-0.014617</td>\n",
              "      <td>0.037818</td>\n",
              "      <td>0.027764</td>\n",
              "      <td>-0.019459</td>\n",
              "      <td>0.014708</td>\n",
              "      <td>0.030683</td>\n",
              "      <td>0.007963</td>\n",
              "      <td>-0.008366</td>\n",
              "      <td>-0.027092</td>\n",
              "      <td>-0.003280</td>\n",
              "      <td>0.002572</td>\n",
              "      <td>0.019604</td>\n",
              "      <td>0.004129</td>\n",
              "      <td>0.001008</td>\n",
              "      <td>0.028072</td>\n",
              "      <td>1.000000</td>\n",
              "      <td>0.012089</td>\n",
              "      <td>0.049856</td>\n",
              "      <td>0.008941</td>\n",
              "      <td>0.002759</td>\n",
              "    </tr>\n",
              "    <tr>\n",
              "      <th>YearsAtCompany</th>\n",
              "      <td>0.311309</td>\n",
              "      <td>-0.134392</td>\n",
              "      <td>-0.014575</td>\n",
              "      <td>-0.034055</td>\n",
              "      <td>0.022920</td>\n",
              "      <td>0.009508</td>\n",
              "      <td>0.069114</td>\n",
              "      <td>-0.018692</td>\n",
              "      <td>0.001458</td>\n",
              "      <td>-0.029747</td>\n",
              "      <td>-0.019582</td>\n",
              "      <td>-0.021355</td>\n",
              "      <td>0.534739</td>\n",
              "      <td>-0.083657</td>\n",
              "      <td>-0.003803</td>\n",
              "      <td>-0.059986</td>\n",
              "      <td>0.514285</td>\n",
              "      <td>-0.023655</td>\n",
              "      <td>-0.118421</td>\n",
              "      <td>-0.011687</td>\n",
              "      <td>-0.035991</td>\n",
              "      <td>0.003435</td>\n",
              "      <td>0.019367</td>\n",
              "      <td>0.015058</td>\n",
              "      <td>0.628133</td>\n",
              "      <td>0.003569</td>\n",
              "      <td>0.012089</td>\n",
              "      <td>1.000000</td>\n",
              "      <td>0.758754</td>\n",
              "      <td>0.618409</td>\n",
              "      <td>0.769212</td>\n",
              "    </tr>\n",
              "    <tr>\n",
              "      <th>YearsInCurrentRole</th>\n",
              "      <td>0.212901</td>\n",
              "      <td>-0.160545</td>\n",
              "      <td>-0.011497</td>\n",
              "      <td>0.009932</td>\n",
              "      <td>0.056315</td>\n",
              "      <td>0.018845</td>\n",
              "      <td>0.060236</td>\n",
              "      <td>-0.010506</td>\n",
              "      <td>0.018007</td>\n",
              "      <td>-0.041483</td>\n",
              "      <td>-0.024106</td>\n",
              "      <td>0.008717</td>\n",
              "      <td>0.389447</td>\n",
              "      <td>-0.028354</td>\n",
              "      <td>-0.002305</td>\n",
              "      <td>-0.065822</td>\n",
              "      <td>0.363818</td>\n",
              "      <td>-0.012815</td>\n",
              "      <td>-0.090754</td>\n",
              "      <td>-0.029758</td>\n",
              "      <td>-0.001520</td>\n",
              "      <td>0.034986</td>\n",
              "      <td>-0.015123</td>\n",
              "      <td>0.050818</td>\n",
              "      <td>0.460365</td>\n",
              "      <td>-0.005738</td>\n",
              "      <td>0.049856</td>\n",
              "      <td>0.758754</td>\n",
              "      <td>1.000000</td>\n",
              "      <td>0.548056</td>\n",
              "      <td>0.714365</td>\n",
              "    </tr>\n",
              "    <tr>\n",
              "      <th>YearsSinceLastPromotion</th>\n",
              "      <td>0.216513</td>\n",
              "      <td>-0.033019</td>\n",
              "      <td>-0.032591</td>\n",
              "      <td>-0.033229</td>\n",
              "      <td>0.040061</td>\n",
              "      <td>0.010029</td>\n",
              "      <td>0.054254</td>\n",
              "      <td>0.002326</td>\n",
              "      <td>0.016194</td>\n",
              "      <td>-0.026985</td>\n",
              "      <td>-0.026716</td>\n",
              "      <td>-0.024184</td>\n",
              "      <td>0.353885</td>\n",
              "      <td>-0.046384</td>\n",
              "      <td>-0.018214</td>\n",
              "      <td>-0.030915</td>\n",
              "      <td>0.344978</td>\n",
              "      <td>0.001567</td>\n",
              "      <td>-0.036814</td>\n",
              "      <td>-0.012239</td>\n",
              "      <td>-0.022154</td>\n",
              "      <td>0.017896</td>\n",
              "      <td>0.033493</td>\n",
              "      <td>0.014352</td>\n",
              "      <td>0.404858</td>\n",
              "      <td>-0.002067</td>\n",
              "      <td>0.008941</td>\n",
              "      <td>0.618409</td>\n",
              "      <td>0.548056</td>\n",
              "      <td>1.000000</td>\n",
              "      <td>0.510224</td>\n",
              "    </tr>\n",
              "    <tr>\n",
              "      <th>YearsWithCurrManager</th>\n",
              "      <td>0.202089</td>\n",
              "      <td>-0.156199</td>\n",
              "      <td>-0.022636</td>\n",
              "      <td>-0.026363</td>\n",
              "      <td>0.034282</td>\n",
              "      <td>0.014406</td>\n",
              "      <td>0.069065</td>\n",
              "      <td>-0.004130</td>\n",
              "      <td>-0.004999</td>\n",
              "      <td>-0.030599</td>\n",
              "      <td>-0.020123</td>\n",
              "      <td>0.025976</td>\n",
              "      <td>0.375281</td>\n",
              "      <td>-0.041150</td>\n",
              "      <td>-0.027656</td>\n",
              "      <td>-0.038570</td>\n",
              "      <td>0.344079</td>\n",
              "      <td>-0.036746</td>\n",
              "      <td>-0.110319</td>\n",
              "      <td>-0.041586</td>\n",
              "      <td>-0.011985</td>\n",
              "      <td>0.022827</td>\n",
              "      <td>-0.000867</td>\n",
              "      <td>0.024698</td>\n",
              "      <td>0.459188</td>\n",
              "      <td>-0.004096</td>\n",
              "      <td>0.002759</td>\n",
              "      <td>0.769212</td>\n",
              "      <td>0.714365</td>\n",
              "      <td>0.510224</td>\n",
              "      <td>1.000000</td>\n",
              "    </tr>\n",
              "  </tbody>\n",
              "</table>\n",
              "</div>\n",
              "      <button class=\"colab-df-convert\" onclick=\"convertToInteractive('df-079ab494-711d-45db-9c4a-0d3ed9653d5c')\"\n",
              "              title=\"Convert this dataframe to an interactive table.\"\n",
              "              style=\"display:none;\">\n",
              "        \n",
              "  <svg xmlns=\"http://www.w3.org/2000/svg\" height=\"24px\"viewBox=\"0 0 24 24\"\n",
              "       width=\"24px\">\n",
              "    <path d=\"M0 0h24v24H0V0z\" fill=\"none\"/>\n",
              "    <path d=\"M18.56 5.44l.94 2.06.94-2.06 2.06-.94-2.06-.94-.94-2.06-.94 2.06-2.06.94zm-11 1L8.5 8.5l.94-2.06 2.06-.94-2.06-.94L8.5 2.5l-.94 2.06-2.06.94zm10 10l.94 2.06.94-2.06 2.06-.94-2.06-.94-.94-2.06-.94 2.06-2.06.94z\"/><path d=\"M17.41 7.96l-1.37-1.37c-.4-.4-.92-.59-1.43-.59-.52 0-1.04.2-1.43.59L10.3 9.45l-7.72 7.72c-.78.78-.78 2.05 0 2.83L4 21.41c.39.39.9.59 1.41.59.51 0 1.02-.2 1.41-.59l7.78-7.78 2.81-2.81c.8-.78.8-2.07 0-2.86zM5.41 20L4 18.59l7.72-7.72 1.47 1.35L5.41 20z\"/>\n",
              "  </svg>\n",
              "      </button>\n",
              "      \n",
              "  <style>\n",
              "    .colab-df-container {\n",
              "      display:flex;\n",
              "      flex-wrap:wrap;\n",
              "      gap: 12px;\n",
              "    }\n",
              "\n",
              "    .colab-df-convert {\n",
              "      background-color: #E8F0FE;\n",
              "      border: none;\n",
              "      border-radius: 50%;\n",
              "      cursor: pointer;\n",
              "      display: none;\n",
              "      fill: #1967D2;\n",
              "      height: 32px;\n",
              "      padding: 0 0 0 0;\n",
              "      width: 32px;\n",
              "    }\n",
              "\n",
              "    .colab-df-convert:hover {\n",
              "      background-color: #E2EBFA;\n",
              "      box-shadow: 0px 1px 2px rgba(60, 64, 67, 0.3), 0px 1px 3px 1px rgba(60, 64, 67, 0.15);\n",
              "      fill: #174EA6;\n",
              "    }\n",
              "\n",
              "    [theme=dark] .colab-df-convert {\n",
              "      background-color: #3B4455;\n",
              "      fill: #D2E3FC;\n",
              "    }\n",
              "\n",
              "    [theme=dark] .colab-df-convert:hover {\n",
              "      background-color: #434B5C;\n",
              "      box-shadow: 0px 1px 3px 1px rgba(0, 0, 0, 0.15);\n",
              "      filter: drop-shadow(0px 1px 2px rgba(0, 0, 0, 0.3));\n",
              "      fill: #FFFFFF;\n",
              "    }\n",
              "  </style>\n",
              "\n",
              "      <script>\n",
              "        const buttonEl =\n",
              "          document.querySelector('#df-079ab494-711d-45db-9c4a-0d3ed9653d5c button.colab-df-convert');\n",
              "        buttonEl.style.display =\n",
              "          google.colab.kernel.accessAllowed ? 'block' : 'none';\n",
              "\n",
              "        async function convertToInteractive(key) {\n",
              "          const element = document.querySelector('#df-079ab494-711d-45db-9c4a-0d3ed9653d5c');\n",
              "          const dataTable =\n",
              "            await google.colab.kernel.invokeFunction('convertToInteractive',\n",
              "                                                     [key], {});\n",
              "          if (!dataTable) return;\n",
              "\n",
              "          const docLinkHtml = 'Like what you see? Visit the ' +\n",
              "            '<a target=\"_blank\" href=https://colab.research.google.com/notebooks/data_table.ipynb>data table notebook</a>'\n",
              "            + ' to learn more about interactive tables.';\n",
              "          element.innerHTML = '';\n",
              "          dataTable['output_type'] = 'display_data';\n",
              "          await google.colab.output.renderOutput(dataTable, element);\n",
              "          const docLink = document.createElement('div');\n",
              "          docLink.innerHTML = docLinkHtml;\n",
              "          element.appendChild(docLink);\n",
              "        }\n",
              "      </script>\n",
              "    </div>\n",
              "  </div>\n",
              "  "
            ],
            "text/plain": [
              "                               Age  ...  YearsWithCurrManager\n",
              "Age                       1.000000  ...              0.202089\n",
              "Attrition                -0.159205  ...             -0.156199\n",
              "BusinessTravel            0.024751  ...             -0.022636\n",
              "DailyRate                 0.010661  ...             -0.026363\n",
              "Department               -0.031882  ...              0.034282\n",
              "DistanceFromHome         -0.001686  ...              0.014406\n",
              "Education                 0.208034  ...              0.069065\n",
              "EducationField           -0.040873  ...             -0.004130\n",
              "EnvironmentSatisfaction   0.010146  ...             -0.004999\n",
              "Gender                   -0.036311  ...             -0.030599\n",
              "HourlyRate                0.024287  ...             -0.020123\n",
              "JobInvolvement            0.029820  ...              0.025976\n",
              "JobLevel                  0.509604  ...              0.375281\n",
              "JobRole                  -0.122427  ...             -0.041150\n",
              "JobSatisfaction          -0.004892  ...             -0.027656\n",
              "MaritalStatus            -0.095029  ...             -0.038570\n",
              "MonthlyIncome             0.497855  ...              0.344079\n",
              "MonthlyRate               0.028051  ...             -0.036746\n",
              "NumCompaniesWorked        0.299635  ...             -0.110319\n",
              "OverTime                  0.028062  ...             -0.041586\n",
              "PercentSalaryHike         0.003634  ...             -0.011985\n",
              "PerformanceRating         0.001904  ...              0.022827\n",
              "RelationshipSatisfaction  0.053535  ...             -0.000867\n",
              "StockOptionLevel          0.037510  ...              0.024698\n",
              "TotalWorkingYears         0.680381  ...              0.459188\n",
              "TrainingTimesLastYear    -0.019621  ...             -0.004096\n",
              "WorkLifeBalance          -0.021490  ...              0.002759\n",
              "YearsAtCompany            0.311309  ...              0.769212\n",
              "YearsInCurrentRole        0.212901  ...              0.714365\n",
              "YearsSinceLastPromotion   0.216513  ...              0.510224\n",
              "YearsWithCurrManager      0.202089  ...              1.000000\n",
              "\n",
              "[31 rows x 31 columns]"
            ]
          },
          "metadata": {},
          "execution_count": 169
        }
      ]
    },
    {
      "cell_type": "code",
      "source": [
        "#with target variable\n",
        "df.corr()['Attrition'].sort_values()"
      ],
      "metadata": {
        "colab": {
          "base_uri": "https://localhost:8080/"
        },
        "id": "buKGSJ62gNGt",
        "outputId": "8ddef82a-7a76-491f-f97c-c1623b1b52ec"
      },
      "execution_count": 170,
      "outputs": [
        {
          "output_type": "execute_result",
          "data": {
            "text/plain": [
              "TotalWorkingYears          -0.171063\n",
              "JobLevel                   -0.169105\n",
              "YearsInCurrentRole         -0.160545\n",
              "MonthlyIncome              -0.159840\n",
              "Age                        -0.159205\n",
              "YearsWithCurrManager       -0.156199\n",
              "StockOptionLevel           -0.137145\n",
              "YearsAtCompany             -0.134392\n",
              "JobInvolvement             -0.130016\n",
              "JobSatisfaction            -0.103481\n",
              "EnvironmentSatisfaction    -0.103369\n",
              "WorkLifeBalance            -0.063939\n",
              "TrainingTimesLastYear      -0.059478\n",
              "DailyRate                  -0.056652\n",
              "RelationshipSatisfaction   -0.045872\n",
              "YearsSinceLastPromotion    -0.033019\n",
              "Education                  -0.031373\n",
              "PercentSalaryHike          -0.013478\n",
              "HourlyRate                 -0.006846\n",
              "BusinessTravel              0.000074\n",
              "PerformanceRating           0.002889\n",
              "MonthlyRate                 0.015170\n",
              "EducationField              0.026846\n",
              "Gender                      0.029453\n",
              "NumCompaniesWorked          0.043494\n",
              "Department                  0.063991\n",
              "JobRole                     0.067151\n",
              "DistanceFromHome            0.077924\n",
              "MaritalStatus               0.162070\n",
              "OverTime                    0.246118\n",
              "Attrition                   1.000000\n",
              "Name: Attrition, dtype: float64"
            ]
          },
          "metadata": {},
          "execution_count": 170
        }
      ]
    },
    {
      "cell_type": "markdown",
      "source": [
        "looks like there is less correlation between target variables and all independent variables"
      ],
      "metadata": {
        "id": "tASXZHcTghfC"
      }
    },
    {
      "cell_type": "code",
      "source": [
        "#plotting the correlation matrix using heatmap\n",
        "\n",
        "corr_matrix = df.corr()\n",
        "plt.figure(figsize=[20,13])\n",
        "sns.heatmap(corr_matrix,annot=True)\n",
        "plt.title(\"Correlation matrix\")\n",
        "plt.show()"
      ],
      "metadata": {
        "colab": {
          "base_uri": "https://localhost:8080/",
          "height": 884
        },
        "id": "OPoUXWZZgUm2",
        "outputId": "641f53ea-9845-443e-8115-0947f6dc4dff"
      },
      "execution_count": 171,
      "outputs": [
        {
          "output_type": "display_data",
          "data": {
            "image/png": "[encoded data removed]",
            "text/plain": [
              "<Figure size 1440x936 with 2 Axes>"
            ]
          },
          "metadata": {
            "needs_background": "light"
          }
        }
      ]
    },
    {
      "cell_type": "markdown",
      "source": [
        "### with this,\n",
        "### 1) 'PercentSalaryHike' and 'HourlyRate' both columns have least neagtive correlation(~1%) with \"Attrition\".\n",
        "### 2) 'TotalWorkingYears' has highest negative correlation(~17%) with \"Attrition\".\n",
        "### 3) 'BusinessTravel'(<1%),'PerformanceRating'(1%) and 'MonthlyRate' (~1%) columns have least positive correlation with \"Attrition\".\n",
        "### 4) 'OverTime' column has highest positive correlation(~25%) with \"Attrition\""
      ],
      "metadata": {
        "id": "Vutl5z9_hFno"
      }
    },
    {
      "cell_type": "markdown",
      "source": [
        "## Checking with outliers"
      ],
      "metadata": {
        "id": "06Aeo_2fi5kB"
      }
    },
    {
      "cell_type": "code",
      "source": [
        "df1 = df.iloc[:,:8]\n",
        "df2 = df.iloc[:,8:16]\n",
        "df3 = df.iloc[:,16:24]\n",
        "df4 = df.iloc[:,24:]"
      ],
      "metadata": {
        "id": "06cdhNKNjuOY"
      },
      "execution_count": 172,
      "outputs": []
    },
    {
      "cell_type": "code",
      "source": [
        "column_list = df1.columns.values\n",
        "n_col = 31\n",
        "n_row = 25\n",
        "plt.figure(figsize = (2*n_col,4*n_col))\n",
        "for i in range(len(column_list)):\n",
        "  plt.subplot(n_row,n_col,i+1)\n",
        "  sns.boxplot(df[column_list[i]],color='orange',orient='h')\n",
        "  plt.tight_layout()"
      ],
      "metadata": {
        "colab": {
          "base_uri": "https://localhost:8080/",
          "height": 377
        },
        "id": "NYRyvhY2g5uu",
        "outputId": "5c5d41bb-4675-42c9-d18d-bf07550e5985"
      },
      "execution_count": 173,
      "outputs": [
        {
          "output_type": "display_data",
          "data": {
            "image/png": "[encoded data removed]",
            "text/plain": [
              "<Figure size 4464x8928 with 8 Axes>"
            ]
          },
          "metadata": {
            "needs_background": "light"
          }
        }
      ]
    },
    {
      "cell_type": "markdown",
      "source": [
        "No outliers present in above columns"
      ],
      "metadata": {
        "id": "J2gWmE9llPOa"
      }
    },
    {
      "cell_type": "code",
      "source": [
        "column_list = df2.columns.values\n",
        "n_col = 31\n",
        "n_row = 25\n",
        "plt.figure(figsize = (2*n_col,4*n_col))\n",
        "for i in range(len(column_list)):\n",
        "  plt.subplot(n_row,n_col,i+1)\n",
        "  sns.boxplot(df2[column_list[i]],color='orange',orient='h')\n",
        "  plt.tight_layout()"
      ],
      "metadata": {
        "colab": {
          "base_uri": "https://localhost:8080/",
          "height": 377
        },
        "id": "pB9EOvr9i_AP",
        "outputId": "7bc61d60-2444-4237-ad7f-137d45a6b012"
      },
      "execution_count": 174,
      "outputs": [
        {
          "output_type": "display_data",
          "data": {
            "image/png": "[encoded data removed]",
            "text/plain": [
              "<Figure size 4464x8928 with 8 Axes>"
            ]
          },
          "metadata": {
            "needs_background": "light"
          }
        }
      ]
    },
    {
      "cell_type": "markdown",
      "source": [
        "no Outliers present in above graph"
      ],
      "metadata": {
        "id": "BhlMBVXWlYBH"
      }
    },
    {
      "cell_type": "code",
      "source": [
        "column_list = df3.columns.values\n",
        "n_col = 31\n",
        "n_row = 25\n",
        "plt.figure(figsize = (2*n_col,4*n_col))\n",
        "for i in range(len(column_list)):\n",
        "  plt.subplot(n_row,n_col,i+1)\n",
        "  sns.boxplot(df3[column_list[i]],color='orange',orient='h')\n",
        "  plt.tight_layout()"
      ],
      "metadata": {
        "colab": {
          "base_uri": "https://localhost:8080/",
          "height": 377
        },
        "id": "USp_DaKlkTeu",
        "outputId": "45359680-b9af-4d22-9128-ebf41ade6eb1"
      },
      "execution_count": 175,
      "outputs": [
        {
          "output_type": "display_data",
          "data": {
            "image/png": "[encoded data removed]",
            "text/plain": [
              "<Figure size 4464x8928 with 8 Axes>"
            ]
          },
          "metadata": {
            "needs_background": "light"
          }
        }
      ]
    },
    {
      "cell_type": "markdown",
      "source": [
        "Now,we can see there are outliers in \"monthlyincome\" along with few outliers appearing in other three columns."
      ],
      "metadata": {
        "id": "tmcMAHTMlexo"
      }
    },
    {
      "cell_type": "code",
      "source": [
        "column_list = df4.columns.values\n",
        "n_col = 31\n",
        "n_row = 25\n",
        "plt.figure(figsize = (2*n_col,4*n_col))\n",
        "for i in range(len(column_list)):\n",
        "  plt.subplot(n_row,n_col,i+1)\n",
        "  sns.boxplot(df4[column_list[i]],color='orange',orient='h')\n",
        "  plt.tight_layout()"
      ],
      "metadata": {
        "colab": {
          "base_uri": "https://localhost:8080/",
          "height": 377
        },
        "id": "1bTluDb5lBIm",
        "outputId": "e7df2e44-6ab8-4b9b-8293-41ac95641496"
      },
      "execution_count": 176,
      "outputs": [
        {
          "output_type": "display_data",
          "data": {
            "image/png": "[encoded data removed]",
            "text/plain": [
              "<Figure size 4464x8928 with 7 Axes>"
            ]
          },
          "metadata": {
            "needs_background": "light"
          }
        }
      ]
    },
    {
      "cell_type": "markdown",
      "source": [
        "with above observation,we can see that \"TotalWorkingyears\",\"YearsAtcompany\",\"Yearssincelastpromotion\" columns have more number of outliers.wheras columns like \"trainingTmeslastyear\",\"YearsinCurrentRole\",\"Yearswthcurrmanager\" also contains a few outliers in it."
      ],
      "metadata": {
        "id": "YadfRuLml1uQ"
      }
    },
    {
      "cell_type": "markdown",
      "source": [
        "## checking with Skewness"
      ],
      "metadata": {
        "id": "t0wc0uV3mntp"
      }
    },
    {
      "cell_type": "code",
      "source": [
        "df.skew().sort_values()"
      ],
      "metadata": {
        "colab": {
          "base_uri": "https://localhost:8080/"
        },
        "id": "PNQL2nOxlJvO",
        "outputId": "5a1d9b3a-e8e3-4256-eb44-b6a0f17c5bd0"
      },
      "execution_count": 177,
      "outputs": [
        {
          "output_type": "execute_result",
          "data": {
            "text/plain": [
              "BusinessTravel             -1.439006\n",
              "WorkLifeBalance            -0.552480\n",
              "JobInvolvement             -0.498419\n",
              "Gender                     -0.408665\n",
              "JobRole                    -0.357270\n",
              "JobSatisfaction            -0.329672\n",
              "EnvironmentSatisfaction    -0.321654\n",
              "RelationshipSatisfaction   -0.302828\n",
              "Education                  -0.289681\n",
              "MaritalStatus              -0.152175\n",
              "HourlyRate                 -0.032311\n",
              "DailyRate                  -0.003519\n",
              "MonthlyRate                 0.018578\n",
              "Department                  0.172231\n",
              "Age                         0.413286\n",
              "EducationField              0.550371\n",
              "TrainingTimesLastYear       0.553124\n",
              "PercentSalaryHike           0.821128\n",
              "YearsWithCurrManager        0.833451\n",
              "YearsInCurrentRole          0.917363\n",
              "DistanceFromHome            0.958118\n",
              "OverTime                    0.964489\n",
              "StockOptionLevel            0.968980\n",
              "JobLevel                    1.025401\n",
              "NumCompaniesWorked          1.026471\n",
              "TotalWorkingYears           1.117172\n",
              "MonthlyIncome               1.369817\n",
              "YearsAtCompany              1.764529\n",
              "Attrition                   1.844366\n",
              "PerformanceRating           1.921883\n",
              "YearsSinceLastPromotion     1.984290\n",
              "dtype: float64"
            ]
          },
          "metadata": {},
          "execution_count": 177
        }
      ]
    },
    {
      "cell_type": "markdown",
      "source": [
        "by setting up the threshold for skewness in the range of -1 to +1"
      ],
      "metadata": {
        "id": "xplabGAdnb1p"
      }
    },
    {
      "cell_type": "markdown",
      "source": [
        "# Data cleaning"
      ],
      "metadata": {
        "id": "dh-Tc8UdnxpR"
      }
    },
    {
      "cell_type": "markdown",
      "source": [
        "### With tha above observations,\n",
        "### 1)Columns like \"PerformanceRating\" and \"BusinessTravel\" have less correlation with target variable and also have skewness of more than 1.\n",
        "### 2)Columns like \"YearsSinceLastPromotion\",\"MonthlyIncome\", \"YearsAtCompany\" and \"TotalWorkingYears\" have more number of outliers and also have skewness of more than 1.\n",
        "### So,we can remove all these columns from dataframe."
      ],
      "metadata": {
        "id": "20cUmHpIoAoo"
      }
    },
    {
      "cell_type": "code",
      "source": [
        "df.columns"
      ],
      "metadata": {
        "colab": {
          "base_uri": "https://localhost:8080/"
        },
        "id": "FJa87h7BqDch",
        "outputId": "e2986d90-585a-4042-c96c-6da48dce3be6"
      },
      "execution_count": 178,
      "outputs": [
        {
          "output_type": "execute_result",
          "data": {
            "text/plain": [
              "Index(['Age', 'Attrition', 'BusinessTravel', 'DailyRate', 'Department',\n",
              "       'DistanceFromHome', 'Education', 'EducationField',\n",
              "       'EnvironmentSatisfaction', 'Gender', 'HourlyRate', 'JobInvolvement',\n",
              "       'JobLevel', 'JobRole', 'JobSatisfaction', 'MaritalStatus',\n",
              "       'MonthlyIncome', 'MonthlyRate', 'NumCompaniesWorked', 'OverTime',\n",
              "       'PercentSalaryHike', 'PerformanceRating', 'RelationshipSatisfaction',\n",
              "       'StockOptionLevel', 'TotalWorkingYears', 'TrainingTimesLastYear',\n",
              "       'WorkLifeBalance', 'YearsAtCompany', 'YearsInCurrentRole',\n",
              "       'YearsSinceLastPromotion', 'YearsWithCurrManager'],\n",
              "      dtype='object')"
            ]
          },
          "metadata": {},
          "execution_count": 178
        }
      ]
    },
    {
      "cell_type": "code",
      "source": [
        "df = df.drop(['BusinessTravel','PerformanceRating','YearsSinceLastPromotion','MonthlyIncome',\"YearsAtCompany\",'TotalWorkingYears'],axis=1)"
      ],
      "metadata": {
        "id": "PaCDuDC7msuu"
      },
      "execution_count": 179,
      "outputs": []
    },
    {
      "cell_type": "code",
      "source": [
        "df.head()"
      ],
      "metadata": {
        "colab": {
          "base_uri": "https://localhost:8080/",
          "height": 270
        },
        "id": "OHDJDP4qqhas",
        "outputId": "5789fc03-4b07-413f-f5ca-5a62bec7d525"
      },
      "execution_count": 180,
      "outputs": [
        {
          "output_type": "execute_result",
          "data": {
            "text/html": [
              "\n",
              "  <div id=\"df-eebc868f-829e-4696-aa29-9107ca282bcc\">\n",
              "    <div class=\"colab-df-container\">\n",
              "      <div>\n",
              "<style scoped>\n",
              "    .dataframe tbody tr th:only-of-type {\n",
              "        vertical-align: middle;\n",
              "    }\n",
              "\n",
              "    .dataframe tbody tr th {\n",
              "        vertical-align: top;\n",
              "    }\n",
              "\n",
              "    .dataframe thead th {\n",
              "        text-align: right;\n",
              "    }\n",
              "</style>\n",
              "<table border=\"1\" class=\"dataframe\">\n",
              "  <thead>\n",
              "    <tr style=\"text-align: right;\">\n",
              "      <th></th>\n",
              "      <th>Age</th>\n",
              "      <th>Attrition</th>\n",
              "      <th>DailyRate</th>\n",
              "      <th>Department</th>\n",
              "      <th>DistanceFromHome</th>\n",
              "      <th>Education</th>\n",
              "      <th>EducationField</th>\n",
              "      <th>EnvironmentSatisfaction</th>\n",
              "      <th>Gender</th>\n",
              "      <th>HourlyRate</th>\n",
              "      <th>JobInvolvement</th>\n",
              "      <th>JobLevel</th>\n",
              "      <th>JobRole</th>\n",
              "      <th>JobSatisfaction</th>\n",
              "      <th>MaritalStatus</th>\n",
              "      <th>MonthlyRate</th>\n",
              "      <th>NumCompaniesWorked</th>\n",
              "      <th>OverTime</th>\n",
              "      <th>PercentSalaryHike</th>\n",
              "      <th>RelationshipSatisfaction</th>\n",
              "      <th>StockOptionLevel</th>\n",
              "      <th>TrainingTimesLastYear</th>\n",
              "      <th>WorkLifeBalance</th>\n",
              "      <th>YearsInCurrentRole</th>\n",
              "      <th>YearsWithCurrManager</th>\n",
              "    </tr>\n",
              "  </thead>\n",
              "  <tbody>\n",
              "    <tr>\n",
              "      <th>0</th>\n",
              "      <td>41</td>\n",
              "      <td>1</td>\n",
              "      <td>1102</td>\n",
              "      <td>2</td>\n",
              "      <td>1</td>\n",
              "      <td>2</td>\n",
              "      <td>1</td>\n",
              "      <td>2</td>\n",
              "      <td>0</td>\n",
              "      <td>94</td>\n",
              "      <td>3</td>\n",
              "      <td>2</td>\n",
              "      <td>7</td>\n",
              "      <td>4</td>\n",
              "      <td>2</td>\n",
              "      <td>19479</td>\n",
              "      <td>8</td>\n",
              "      <td>1</td>\n",
              "      <td>11</td>\n",
              "      <td>1</td>\n",
              "      <td>0</td>\n",
              "      <td>0</td>\n",
              "      <td>1</td>\n",
              "      <td>4</td>\n",
              "      <td>5</td>\n",
              "    </tr>\n",
              "    <tr>\n",
              "      <th>1</th>\n",
              "      <td>49</td>\n",
              "      <td>0</td>\n",
              "      <td>279</td>\n",
              "      <td>1</td>\n",
              "      <td>8</td>\n",
              "      <td>1</td>\n",
              "      <td>1</td>\n",
              "      <td>3</td>\n",
              "      <td>1</td>\n",
              "      <td>61</td>\n",
              "      <td>2</td>\n",
              "      <td>2</td>\n",
              "      <td>6</td>\n",
              "      <td>2</td>\n",
              "      <td>1</td>\n",
              "      <td>24907</td>\n",
              "      <td>1</td>\n",
              "      <td>0</td>\n",
              "      <td>23</td>\n",
              "      <td>4</td>\n",
              "      <td>1</td>\n",
              "      <td>3</td>\n",
              "      <td>3</td>\n",
              "      <td>7</td>\n",
              "      <td>7</td>\n",
              "    </tr>\n",
              "    <tr>\n",
              "      <th>2</th>\n",
              "      <td>37</td>\n",
              "      <td>1</td>\n",
              "      <td>1373</td>\n",
              "      <td>1</td>\n",
              "      <td>2</td>\n",
              "      <td>2</td>\n",
              "      <td>4</td>\n",
              "      <td>4</td>\n",
              "      <td>1</td>\n",
              "      <td>92</td>\n",
              "      <td>2</td>\n",
              "      <td>1</td>\n",
              "      <td>2</td>\n",
              "      <td>3</td>\n",
              "      <td>2</td>\n",
              "      <td>2396</td>\n",
              "      <td>6</td>\n",
              "      <td>1</td>\n",
              "      <td>15</td>\n",
              "      <td>2</td>\n",
              "      <td>0</td>\n",
              "      <td>3</td>\n",
              "      <td>3</td>\n",
              "      <td>0</td>\n",
              "      <td>0</td>\n",
              "    </tr>\n",
              "    <tr>\n",
              "      <th>3</th>\n",
              "      <td>33</td>\n",
              "      <td>0</td>\n",
              "      <td>1392</td>\n",
              "      <td>1</td>\n",
              "      <td>3</td>\n",
              "      <td>4</td>\n",
              "      <td>1</td>\n",
              "      <td>4</td>\n",
              "      <td>0</td>\n",
              "      <td>56</td>\n",
              "      <td>3</td>\n",
              "      <td>1</td>\n",
              "      <td>6</td>\n",
              "      <td>3</td>\n",
              "      <td>1</td>\n",
              "      <td>23159</td>\n",
              "      <td>1</td>\n",
              "      <td>1</td>\n",
              "      <td>11</td>\n",
              "      <td>3</td>\n",
              "      <td>0</td>\n",
              "      <td>3</td>\n",
              "      <td>3</td>\n",
              "      <td>7</td>\n",
              "      <td>0</td>\n",
              "    </tr>\n",
              "    <tr>\n",
              "      <th>4</th>\n",
              "      <td>27</td>\n",
              "      <td>0</td>\n",
              "      <td>591</td>\n",
              "      <td>1</td>\n",
              "      <td>2</td>\n",
              "      <td>1</td>\n",
              "      <td>3</td>\n",
              "      <td>1</td>\n",
              "      <td>1</td>\n",
              "      <td>40</td>\n",
              "      <td>3</td>\n",
              "      <td>1</td>\n",
              "      <td>2</td>\n",
              "      <td>2</td>\n",
              "      <td>1</td>\n",
              "      <td>16632</td>\n",
              "      <td>9</td>\n",
              "      <td>0</td>\n",
              "      <td>12</td>\n",
              "      <td>4</td>\n",
              "      <td>1</td>\n",
              "      <td>3</td>\n",
              "      <td>3</td>\n",
              "      <td>2</td>\n",
              "      <td>2</td>\n",
              "    </tr>\n",
              "  </tbody>\n",
              "</table>\n",
              "</div>\n",
              "      <button class=\"colab-df-convert\" onclick=\"convertToInteractive('df-eebc868f-829e-4696-aa29-9107ca282bcc')\"\n",
              "              title=\"Convert this dataframe to an interactive table.\"\n",
              "              style=\"display:none;\">\n",
              "        \n",
              "  <svg xmlns=\"http://www.w3.org/2000/svg\" height=\"24px\"viewBox=\"0 0 24 24\"\n",
              "       width=\"24px\">\n",
              "    <path d=\"M0 0h24v24H0V0z\" fill=\"none\"/>\n",
              "    <path d=\"M18.56 5.44l.94 2.06.94-2.06 2.06-.94-2.06-.94-.94-2.06-.94 2.06-2.06.94zm-11 1L8.5 8.5l.94-2.06 2.06-.94-2.06-.94L8.5 2.5l-.94 2.06-2.06.94zm10 10l.94 2.06.94-2.06 2.06-.94-2.06-.94-.94-2.06-.94 2.06-2.06.94z\"/><path d=\"M17.41 7.96l-1.37-1.37c-.4-.4-.92-.59-1.43-.59-.52 0-1.04.2-1.43.59L10.3 9.45l-7.72 7.72c-.78.78-.78 2.05 0 2.83L4 21.41c.39.39.9.59 1.41.59.51 0 1.02-.2 1.41-.59l7.78-7.78 2.81-2.81c.8-.78.8-2.07 0-2.86zM5.41 20L4 18.59l7.72-7.72 1.47 1.35L5.41 20z\"/>\n",
              "  </svg>\n",
              "      </button>\n",
              "      \n",
              "  <style>\n",
              "    .colab-df-container {\n",
              "      display:flex;\n",
              "      flex-wrap:wrap;\n",
              "      gap: 12px;\n",
              "    }\n",
              "\n",
              "    .colab-df-convert {\n",
              "      background-color: #E8F0FE;\n",
              "      border: none;\n",
              "      border-radius: 50%;\n",
              "      cursor: pointer;\n",
              "      display: none;\n",
              "      fill: #1967D2;\n",
              "      height: 32px;\n",
              "      padding: 0 0 0 0;\n",
              "      width: 32px;\n",
              "    }\n",
              "\n",
              "    .colab-df-convert:hover {\n",
              "      background-color: #E2EBFA;\n",
              "      box-shadow: 0px 1px 2px rgba(60, 64, 67, 0.3), 0px 1px 3px 1px rgba(60, 64, 67, 0.15);\n",
              "      fill: #174EA6;\n",
              "    }\n",
              "\n",
              "    [theme=dark] .colab-df-convert {\n",
              "      background-color: #3B4455;\n",
              "      fill: #D2E3FC;\n",
              "    }\n",
              "\n",
              "    [theme=dark] .colab-df-convert:hover {\n",
              "      background-color: #434B5C;\n",
              "      box-shadow: 0px 1px 3px 1px rgba(0, 0, 0, 0.15);\n",
              "      filter: drop-shadow(0px 1px 2px rgba(0, 0, 0, 0.3));\n",
              "      fill: #FFFFFF;\n",
              "    }\n",
              "  </style>\n",
              "\n",
              "      <script>\n",
              "        const buttonEl =\n",
              "          document.querySelector('#df-eebc868f-829e-4696-aa29-9107ca282bcc button.colab-df-convert');\n",
              "        buttonEl.style.display =\n",
              "          google.colab.kernel.accessAllowed ? 'block' : 'none';\n",
              "\n",
              "        async function convertToInteractive(key) {\n",
              "          const element = document.querySelector('#df-eebc868f-829e-4696-aa29-9107ca282bcc');\n",
              "          const dataTable =\n",
              "            await google.colab.kernel.invokeFunction('convertToInteractive',\n",
              "                                                     [key], {});\n",
              "          if (!dataTable) return;\n",
              "\n",
              "          const docLinkHtml = 'Like what you see? Visit the ' +\n",
              "            '<a target=\"_blank\" href=https://colab.research.google.com/notebooks/data_table.ipynb>data table notebook</a>'\n",
              "            + ' to learn more about interactive tables.';\n",
              "          element.innerHTML = '';\n",
              "          dataTable['output_type'] = 'display_data';\n",
              "          await google.colab.output.renderOutput(dataTable, element);\n",
              "          const docLink = document.createElement('div');\n",
              "          docLink.innerHTML = docLinkHtml;\n",
              "          element.appendChild(docLink);\n",
              "        }\n",
              "      </script>\n",
              "    </div>\n",
              "  </div>\n",
              "  "
            ],
            "text/plain": [
              "   Age  Attrition  ...  YearsInCurrentRole  YearsWithCurrManager\n",
              "0   41          1  ...                   4                     5\n",
              "1   49          0  ...                   7                     7\n",
              "2   37          1  ...                   0                     0\n",
              "3   33          0  ...                   7                     0\n",
              "4   27          0  ...                   2                     2\n",
              "\n",
              "[5 rows x 25 columns]"
            ]
          },
          "metadata": {},
          "execution_count": 180
        }
      ]
    },
    {
      "cell_type": "markdown",
      "source": [
        "## Removing the outliers"
      ],
      "metadata": {
        "id": "Ce8VWUJEqpEi"
      }
    },
    {
      "cell_type": "code",
      "source": [
        "#with z-score technique\n",
        "\n",
        "from scipy.stats import zscore\n",
        "import numpy as np\n",
        "z_n = np.abs(zscore(df))\n",
        "z_n.shape"
      ],
      "metadata": {
        "colab": {
          "base_uri": "https://localhost:8080/"
        },
        "id": "6HOmOYsWqi9F",
        "outputId": "ee88fed7-a9c4-453e-ea90-42b4ce78560d"
      },
      "execution_count": 181,
      "outputs": [
        {
          "output_type": "execute_result",
          "data": {
            "text/plain": [
              "(1470, 25)"
            ]
          },
          "metadata": {},
          "execution_count": 181
        }
      ]
    },
    {
      "cell_type": "code",
      "source": [
        "threshold = 3\n",
        "\n",
        "df_new = df[(z_n<threshold).all(axis=1)]\n",
        "print(df.shape)\n",
        "print(df_new.shape)\n",
        "\n",
        "#printing the total number of dropped rows\n",
        "print(df.shape[0]-df_new.shape[0])"
      ],
      "metadata": {
        "colab": {
          "base_uri": "https://localhost:8080/"
        },
        "id": "kWxLw4_HqsvO",
        "outputId": "a12c59c5-d3a2-45a1-a60a-d3674c2f3a43"
      },
      "execution_count": 182,
      "outputs": [
        {
          "output_type": "stream",
          "name": "stdout",
          "text": [
            "(1470, 25)\n",
            "(1445, 25)\n",
            "25\n"
          ]
        }
      ]
    },
    {
      "cell_type": "markdown",
      "source": [
        "### calcuating the percentage of data loss"
      ],
      "metadata": {
        "id": "Io9eJnWArLdR"
      }
    },
    {
      "cell_type": "code",
      "source": [
        "loss_perc = (df.shape[0]-df_new.shape[0])/df.shape[0]*100\n",
        "print(\"data loss percentage:{:.2f}%\".format(loss_perc))"
      ],
      "metadata": {
        "colab": {
          "base_uri": "https://localhost:8080/"
        },
        "id": "sDsKgZJCrIu-",
        "outputId": "f0ed5364-a907-4fd1-8640-64826875db70"
      },
      "execution_count": 183,
      "outputs": [
        {
          "output_type": "stream",
          "name": "stdout",
          "text": [
            "data loss percentage:1.70%\n"
          ]
        }
      ]
    },
    {
      "cell_type": "markdown",
      "source": [
        "there is a 1.70% data loss which is good to proceed for further"
      ],
      "metadata": {
        "id": "FRsRea5arRJ5"
      }
    },
    {
      "cell_type": "markdown",
      "source": [
        "## Dividing the data into features and vectors"
      ],
      "metadata": {
        "id": "t5zZNCmFrYUQ"
      }
    },
    {
      "cell_type": "code",
      "source": [
        "y = df_new[[\"Attrition\"]]\n",
        "x = df_new.drop([\"Attrition\"],axis=1)"
      ],
      "metadata": {
        "id": "CfAK46TsrOTe"
      },
      "execution_count": 184,
      "outputs": []
    },
    {
      "cell_type": "markdown",
      "source": [
        "## Checking with multicollinearity"
      ],
      "metadata": {
        "id": "eCLlKZTXrieA"
      }
    },
    {
      "cell_type": "code",
      "source": [
        "from statsmodels.stats.outliers_influence import variance_inflation_factor\n",
        "def calc_vif_value(X):\n",
        "\n",
        "    # Calculating VIF\n",
        "    vif = pd.DataFrame()\n",
        "    vif[\"variables\"] = X.columns\n",
        "    vif[\"VIF\"] = [variance_inflation_factor(X.values, i) for i in range(X.shape[1])]\n",
        "\n",
        "    return(vif)"
      ],
      "metadata": {
        "id": "e5dSF6QurfLt"
      },
      "execution_count": 185,
      "outputs": []
    },
    {
      "cell_type": "code",
      "source": [
        "calc_vif_value(x)"
      ],
      "metadata": {
        "colab": {
          "base_uri": "https://localhost:8080/",
          "height": 801
        },
        "id": "L090Yfryr2mh",
        "outputId": "12d9ba4a-fb9e-467b-dae4-d3e9dd36b147"
      },
      "execution_count": 186,
      "outputs": [
        {
          "output_type": "execute_result",
          "data": {
            "text/html": [
              "\n",
              "  <div id=\"df-913827f0-8ce1-4575-9362-a78b1e5e02ce\">\n",
              "    <div class=\"colab-df-container\">\n",
              "      <div>\n",
              "<style scoped>\n",
              "    .dataframe tbody tr th:only-of-type {\n",
              "        vertical-align: middle;\n",
              "    }\n",
              "\n",
              "    .dataframe tbody tr th {\n",
              "        vertical-align: top;\n",
              "    }\n",
              "\n",
              "    .dataframe thead th {\n",
              "        text-align: right;\n",
              "    }\n",
              "</style>\n",
              "<table border=\"1\" class=\"dataframe\">\n",
              "  <thead>\n",
              "    <tr style=\"text-align: right;\">\n",
              "      <th></th>\n",
              "      <th>variables</th>\n",
              "      <th>VIF</th>\n",
              "    </tr>\n",
              "  </thead>\n",
              "  <tbody>\n",
              "    <tr>\n",
              "      <th>0</th>\n",
              "      <td>Age</td>\n",
              "      <td>24.355684</td>\n",
              "    </tr>\n",
              "    <tr>\n",
              "      <th>1</th>\n",
              "      <td>DailyRate</td>\n",
              "      <td>4.965145</td>\n",
              "    </tr>\n",
              "    <tr>\n",
              "      <th>2</th>\n",
              "      <td>Department</td>\n",
              "      <td>12.651258</td>\n",
              "    </tr>\n",
              "    <tr>\n",
              "      <th>3</th>\n",
              "      <td>DistanceFromHome</td>\n",
              "      <td>2.303707</td>\n",
              "    </tr>\n",
              "    <tr>\n",
              "      <th>4</th>\n",
              "      <td>Education</td>\n",
              "      <td>9.297401</td>\n",
              "    </tr>\n",
              "    <tr>\n",
              "      <th>5</th>\n",
              "      <td>EducationField</td>\n",
              "      <td>3.824860</td>\n",
              "    </tr>\n",
              "    <tr>\n",
              "      <th>6</th>\n",
              "      <td>EnvironmentSatisfaction</td>\n",
              "      <td>7.002248</td>\n",
              "    </tr>\n",
              "    <tr>\n",
              "      <th>7</th>\n",
              "      <td>Gender</td>\n",
              "      <td>2.500496</td>\n",
              "    </tr>\n",
              "    <tr>\n",
              "      <th>8</th>\n",
              "      <td>HourlyRate</td>\n",
              "      <td>10.835432</td>\n",
              "    </tr>\n",
              "    <tr>\n",
              "      <th>9</th>\n",
              "      <td>JobInvolvement</td>\n",
              "      <td>14.317297</td>\n",
              "    </tr>\n",
              "    <tr>\n",
              "      <th>10</th>\n",
              "      <td>JobLevel</td>\n",
              "      <td>7.207210</td>\n",
              "    </tr>\n",
              "    <tr>\n",
              "      <th>11</th>\n",
              "      <td>JobRole</td>\n",
              "      <td>8.065798</td>\n",
              "    </tr>\n",
              "    <tr>\n",
              "      <th>12</th>\n",
              "      <td>JobSatisfaction</td>\n",
              "      <td>6.911987</td>\n",
              "    </tr>\n",
              "    <tr>\n",
              "      <th>13</th>\n",
              "      <td>MaritalStatus</td>\n",
              "      <td>5.642976</td>\n",
              "    </tr>\n",
              "    <tr>\n",
              "      <th>14</th>\n",
              "      <td>MonthlyRate</td>\n",
              "      <td>5.011830</td>\n",
              "    </tr>\n",
              "    <tr>\n",
              "      <th>15</th>\n",
              "      <td>NumCompaniesWorked</td>\n",
              "      <td>2.527821</td>\n",
              "    </tr>\n",
              "    <tr>\n",
              "      <th>16</th>\n",
              "      <td>OverTime</td>\n",
              "      <td>1.432536</td>\n",
              "    </tr>\n",
              "    <tr>\n",
              "      <th>17</th>\n",
              "      <td>PercentSalaryHike</td>\n",
              "      <td>15.994998</td>\n",
              "    </tr>\n",
              "    <tr>\n",
              "      <th>18</th>\n",
              "      <td>RelationshipSatisfaction</td>\n",
              "      <td>7.110562</td>\n",
              "    </tr>\n",
              "    <tr>\n",
              "      <th>19</th>\n",
              "      <td>StockOptionLevel</td>\n",
              "      <td>3.259987</td>\n",
              "    </tr>\n",
              "    <tr>\n",
              "      <th>20</th>\n",
              "      <td>TrainingTimesLastYear</td>\n",
              "      <td>5.603847</td>\n",
              "    </tr>\n",
              "    <tr>\n",
              "      <th>21</th>\n",
              "      <td>WorkLifeBalance</td>\n",
              "      <td>14.713868</td>\n",
              "    </tr>\n",
              "    <tr>\n",
              "      <th>22</th>\n",
              "      <td>YearsInCurrentRole</td>\n",
              "      <td>5.285521</td>\n",
              "    </tr>\n",
              "    <tr>\n",
              "      <th>23</th>\n",
              "      <td>YearsWithCurrManager</td>\n",
              "      <td>5.214726</td>\n",
              "    </tr>\n",
              "  </tbody>\n",
              "</table>\n",
              "</div>\n",
              "      <button class=\"colab-df-convert\" onclick=\"convertToInteractive('df-913827f0-8ce1-4575-9362-a78b1e5e02ce')\"\n",
              "              title=\"Convert this dataframe to an interactive table.\"\n",
              "              style=\"display:none;\">\n",
              "        \n",
              "  <svg xmlns=\"http://www.w3.org/2000/svg\" height=\"24px\"viewBox=\"0 0 24 24\"\n",
              "       width=\"24px\">\n",
              "    <path d=\"M0 0h24v24H0V0z\" fill=\"none\"/>\n",
              "    <path d=\"M18.56 5.44l.94 2.06.94-2.06 2.06-.94-2.06-.94-.94-2.06-.94 2.06-2.06.94zm-11 1L8.5 8.5l.94-2.06 2.06-.94-2.06-.94L8.5 2.5l-.94 2.06-2.06.94zm10 10l.94 2.06.94-2.06 2.06-.94-2.06-.94-.94-2.06-.94 2.06-2.06.94z\"/><path d=\"M17.41 7.96l-1.37-1.37c-.4-.4-.92-.59-1.43-.59-.52 0-1.04.2-1.43.59L10.3 9.45l-7.72 7.72c-.78.78-.78 2.05 0 2.83L4 21.41c.39.39.9.59 1.41.59.51 0 1.02-.2 1.41-.59l7.78-7.78 2.81-2.81c.8-.78.8-2.07 0-2.86zM5.41 20L4 18.59l7.72-7.72 1.47 1.35L5.41 20z\"/>\n",
              "  </svg>\n",
              "      </button>\n",
              "      \n",
              "  <style>\n",
              "    .colab-df-container {\n",
              "      display:flex;\n",
              "      flex-wrap:wrap;\n",
              "      gap: 12px;\n",
              "    }\n",
              "\n",
              "    .colab-df-convert {\n",
              "      background-color: #E8F0FE;\n",
              "      border: none;\n",
              "      border-radius: 50%;\n",
              "      cursor: pointer;\n",
              "      display: none;\n",
              "      fill: #1967D2;\n",
              "      height: 32px;\n",
              "      padding: 0 0 0 0;\n",
              "      width: 32px;\n",
              "    }\n",
              "\n",
              "    .colab-df-convert:hover {\n",
              "      background-color: #E2EBFA;\n",
              "      box-shadow: 0px 1px 2px rgba(60, 64, 67, 0.3), 0px 1px 3px 1px rgba(60, 64, 67, 0.15);\n",
              "      fill: #174EA6;\n",
              "    }\n",
              "\n",
              "    [theme=dark] .colab-df-convert {\n",
              "      background-color: #3B4455;\n",
              "      fill: #D2E3FC;\n",
              "    }\n",
              "\n",
              "    [theme=dark] .colab-df-convert:hover {\n",
              "      background-color: #434B5C;\n",
              "      box-shadow: 0px 1px 3px 1px rgba(0, 0, 0, 0.15);\n",
              "      filter: drop-shadow(0px 1px 2px rgba(0, 0, 0, 0.3));\n",
              "      fill: #FFFFFF;\n",
              "    }\n",
              "  </style>\n",
              "\n",
              "      <script>\n",
              "        const buttonEl =\n",
              "          document.querySelector('#df-913827f0-8ce1-4575-9362-a78b1e5e02ce button.colab-df-convert');\n",
              "        buttonEl.style.display =\n",
              "          google.colab.kernel.accessAllowed ? 'block' : 'none';\n",
              "\n",
              "        async function convertToInteractive(key) {\n",
              "          const element = document.querySelector('#df-913827f0-8ce1-4575-9362-a78b1e5e02ce');\n",
              "          const dataTable =\n",
              "            await google.colab.kernel.invokeFunction('convertToInteractive',\n",
              "                                                     [key], {});\n",
              "          if (!dataTable) return;\n",
              "\n",
              "          const docLinkHtml = 'Like what you see? Visit the ' +\n",
              "            '<a target=\"_blank\" href=https://colab.research.google.com/notebooks/data_table.ipynb>data table notebook</a>'\n",
              "            + ' to learn more about interactive tables.';\n",
              "          element.innerHTML = '';\n",
              "          dataTable['output_type'] = 'display_data';\n",
              "          await google.colab.output.renderOutput(dataTable, element);\n",
              "          const docLink = document.createElement('div');\n",
              "          docLink.innerHTML = docLinkHtml;\n",
              "          element.appendChild(docLink);\n",
              "        }\n",
              "      </script>\n",
              "    </div>\n",
              "  </div>\n",
              "  "
            ],
            "text/plain": [
              "                   variables        VIF\n",
              "0                        Age  24.355684\n",
              "1                  DailyRate   4.965145\n",
              "2                 Department  12.651258\n",
              "3           DistanceFromHome   2.303707\n",
              "4                  Education   9.297401\n",
              "5             EducationField   3.824860\n",
              "6    EnvironmentSatisfaction   7.002248\n",
              "7                     Gender   2.500496\n",
              "8                 HourlyRate  10.835432\n",
              "9             JobInvolvement  14.317297\n",
              "10                  JobLevel   7.207210\n",
              "11                   JobRole   8.065798\n",
              "12           JobSatisfaction   6.911987\n",
              "13             MaritalStatus   5.642976\n",
              "14               MonthlyRate   5.011830\n",
              "15        NumCompaniesWorked   2.527821\n",
              "16                  OverTime   1.432536\n",
              "17         PercentSalaryHike  15.994998\n",
              "18  RelationshipSatisfaction   7.110562\n",
              "19          StockOptionLevel   3.259987\n",
              "20     TrainingTimesLastYear   5.603847\n",
              "21           WorkLifeBalance  14.713868\n",
              "22        YearsInCurrentRole   5.285521\n",
              "23      YearsWithCurrManager   5.214726"
            ]
          },
          "metadata": {},
          "execution_count": 186
        }
      ]
    },
    {
      "cell_type": "markdown",
      "source": [
        "### Reducing the multicollinearity"
      ],
      "metadata": {
        "id": "tn_G_oZ8r_0w"
      }
    },
    {
      "cell_type": "code",
      "source": [
        "x[\"Age_PercentSalaryHike\"] = df.apply(lambda x_1: x_1['Age'] - x_1['PercentSalaryHike'],axis=1)\n",
        "x[\"WorkLifeBalance_JobInvolvement\"] = df.apply(lambda x_1: x_1['WorkLifeBalance'] - x_1['JobInvolvement'],axis=1)\n",
        "x[\"Department_HourlyRate\"] = df.apply(lambda x_1: x_1['Department'] - x_1['HourlyRate'],axis=1)"
      ],
      "metadata": {
        "id": "4u22N9q2sXvw"
      },
      "execution_count": 187,
      "outputs": []
    },
    {
      "cell_type": "code",
      "source": [
        "x= x.drop([\"Age\",\"PercentSalaryHike\"],axis=1)\n",
        "x = x.drop([\"WorkLifeBalance\",\"JobInvolvement\"],axis=1)\n",
        "x = x.drop([\"Department\",\"HourlyRate\"],axis=1)"
      ],
      "metadata": {
        "id": "ZcuzeYBLr4dF"
      },
      "execution_count": 188,
      "outputs": []
    },
    {
      "cell_type": "code",
      "source": [
        "calc_vif_value(x)"
      ],
      "metadata": {
        "colab": {
          "base_uri": "https://localhost:8080/",
          "height": 707
        },
        "id": "5m9a5Fx8svQp",
        "outputId": "cb5c3766-263e-432a-ce58-f32a6ef2b552"
      },
      "execution_count": 189,
      "outputs": [
        {
          "output_type": "execute_result",
          "data": {
            "text/html": [
              "\n",
              "  <div id=\"df-6d21918f-78ec-4885-90ac-d48617445727\">\n",
              "    <div class=\"colab-df-container\">\n",
              "      <div>\n",
              "<style scoped>\n",
              "    .dataframe tbody tr th:only-of-type {\n",
              "        vertical-align: middle;\n",
              "    }\n",
              "\n",
              "    .dataframe tbody tr th {\n",
              "        vertical-align: top;\n",
              "    }\n",
              "\n",
              "    .dataframe thead th {\n",
              "        text-align: right;\n",
              "    }\n",
              "</style>\n",
              "<table border=\"1\" class=\"dataframe\">\n",
              "  <thead>\n",
              "    <tr style=\"text-align: right;\">\n",
              "      <th></th>\n",
              "      <th>variables</th>\n",
              "      <th>VIF</th>\n",
              "    </tr>\n",
              "  </thead>\n",
              "  <tbody>\n",
              "    <tr>\n",
              "      <th>0</th>\n",
              "      <td>DailyRate</td>\n",
              "      <td>4.834241</td>\n",
              "    </tr>\n",
              "    <tr>\n",
              "      <th>1</th>\n",
              "      <td>DistanceFromHome</td>\n",
              "      <td>2.283203</td>\n",
              "    </tr>\n",
              "    <tr>\n",
              "      <th>2</th>\n",
              "      <td>Education</td>\n",
              "      <td>8.764730</td>\n",
              "    </tr>\n",
              "    <tr>\n",
              "      <th>3</th>\n",
              "      <td>EducationField</td>\n",
              "      <td>3.748290</td>\n",
              "    </tr>\n",
              "    <tr>\n",
              "      <th>4</th>\n",
              "      <td>EnvironmentSatisfaction</td>\n",
              "      <td>6.757479</td>\n",
              "    </tr>\n",
              "    <tr>\n",
              "      <th>5</th>\n",
              "      <td>Gender</td>\n",
              "      <td>2.460481</td>\n",
              "    </tr>\n",
              "    <tr>\n",
              "      <th>6</th>\n",
              "      <td>JobLevel</td>\n",
              "      <td>6.678204</td>\n",
              "    </tr>\n",
              "    <tr>\n",
              "      <th>7</th>\n",
              "      <td>JobRole</td>\n",
              "      <td>4.130981</td>\n",
              "    </tr>\n",
              "    <tr>\n",
              "      <th>8</th>\n",
              "      <td>JobSatisfaction</td>\n",
              "      <td>6.635422</td>\n",
              "    </tr>\n",
              "    <tr>\n",
              "      <th>9</th>\n",
              "      <td>MaritalStatus</td>\n",
              "      <td>5.376706</td>\n",
              "    </tr>\n",
              "    <tr>\n",
              "      <th>10</th>\n",
              "      <td>MonthlyRate</td>\n",
              "      <td>4.890322</td>\n",
              "    </tr>\n",
              "    <tr>\n",
              "      <th>11</th>\n",
              "      <td>NumCompaniesWorked</td>\n",
              "      <td>2.487814</td>\n",
              "    </tr>\n",
              "    <tr>\n",
              "      <th>12</th>\n",
              "      <td>OverTime</td>\n",
              "      <td>1.429433</td>\n",
              "    </tr>\n",
              "    <tr>\n",
              "      <th>13</th>\n",
              "      <td>RelationshipSatisfaction</td>\n",
              "      <td>6.831798</td>\n",
              "    </tr>\n",
              "    <tr>\n",
              "      <th>14</th>\n",
              "      <td>StockOptionLevel</td>\n",
              "      <td>3.143458</td>\n",
              "    </tr>\n",
              "    <tr>\n",
              "      <th>15</th>\n",
              "      <td>TrainingTimesLastYear</td>\n",
              "      <td>5.393178</td>\n",
              "    </tr>\n",
              "    <tr>\n",
              "      <th>16</th>\n",
              "      <td>YearsInCurrentRole</td>\n",
              "      <td>5.268614</td>\n",
              "    </tr>\n",
              "    <tr>\n",
              "      <th>17</th>\n",
              "      <td>YearsWithCurrManager</td>\n",
              "      <td>5.205503</td>\n",
              "    </tr>\n",
              "    <tr>\n",
              "      <th>18</th>\n",
              "      <td>Age_PercentSalaryHike</td>\n",
              "      <td>8.369497</td>\n",
              "    </tr>\n",
              "    <tr>\n",
              "      <th>19</th>\n",
              "      <td>WorkLifeBalance_JobInvolvement</td>\n",
              "      <td>1.018102</td>\n",
              "    </tr>\n",
              "    <tr>\n",
              "      <th>20</th>\n",
              "      <td>Department_HourlyRate</td>\n",
              "      <td>9.624048</td>\n",
              "    </tr>\n",
              "  </tbody>\n",
              "</table>\n",
              "</div>\n",
              "      <button class=\"colab-df-convert\" onclick=\"convertToInteractive('df-6d21918f-78ec-4885-90ac-d48617445727')\"\n",
              "              title=\"Convert this dataframe to an interactive table.\"\n",
              "              style=\"display:none;\">\n",
              "        \n",
              "  <svg xmlns=\"http://www.w3.org/2000/svg\" height=\"24px\"viewBox=\"0 0 24 24\"\n",
              "       width=\"24px\">\n",
              "    <path d=\"M0 0h24v24H0V0z\" fill=\"none\"/>\n",
              "    <path d=\"M18.56 5.44l.94 2.06.94-2.06 2.06-.94-2.06-.94-.94-2.06-.94 2.06-2.06.94zm-11 1L8.5 8.5l.94-2.06 2.06-.94-2.06-.94L8.5 2.5l-.94 2.06-2.06.94zm10 10l.94 2.06.94-2.06 2.06-.94-2.06-.94-.94-2.06-.94 2.06-2.06.94z\"/><path d=\"M17.41 7.96l-1.37-1.37c-.4-.4-.92-.59-1.43-.59-.52 0-1.04.2-1.43.59L10.3 9.45l-7.72 7.72c-.78.78-.78 2.05 0 2.83L4 21.41c.39.39.9.59 1.41.59.51 0 1.02-.2 1.41-.59l7.78-7.78 2.81-2.81c.8-.78.8-2.07 0-2.86zM5.41 20L4 18.59l7.72-7.72 1.47 1.35L5.41 20z\"/>\n",
              "  </svg>\n",
              "      </button>\n",
              "      \n",
              "  <style>\n",
              "    .colab-df-container {\n",
              "      display:flex;\n",
              "      flex-wrap:wrap;\n",
              "      gap: 12px;\n",
              "    }\n",
              "\n",
              "    .colab-df-convert {\n",
              "      background-color: #E8F0FE;\n",
              "      border: none;\n",
              "      border-radius: 50%;\n",
              "      cursor: pointer;\n",
              "      display: none;\n",
              "      fill: #1967D2;\n",
              "      height: 32px;\n",
              "      padding: 0 0 0 0;\n",
              "      width: 32px;\n",
              "    }\n",
              "\n",
              "    .colab-df-convert:hover {\n",
              "      background-color: #E2EBFA;\n",
              "      box-shadow: 0px 1px 2px rgba(60, 64, 67, 0.3), 0px 1px 3px 1px rgba(60, 64, 67, 0.15);\n",
              "      fill: #174EA6;\n",
              "    }\n",
              "\n",
              "    [theme=dark] .colab-df-convert {\n",
              "      background-color: #3B4455;\n",
              "      fill: #D2E3FC;\n",
              "    }\n",
              "\n",
              "    [theme=dark] .colab-df-convert:hover {\n",
              "      background-color: #434B5C;\n",
              "      box-shadow: 0px 1px 3px 1px rgba(0, 0, 0, 0.15);\n",
              "      filter: drop-shadow(0px 1px 2px rgba(0, 0, 0, 0.3));\n",
              "      fill: #FFFFFF;\n",
              "    }\n",
              "  </style>\n",
              "\n",
              "      <script>\n",
              "        const buttonEl =\n",
              "          document.querySelector('#df-6d21918f-78ec-4885-90ac-d48617445727 button.colab-df-convert');\n",
              "        buttonEl.style.display =\n",
              "          google.colab.kernel.accessAllowed ? 'block' : 'none';\n",
              "\n",
              "        async function convertToInteractive(key) {\n",
              "          const element = document.querySelector('#df-6d21918f-78ec-4885-90ac-d48617445727');\n",
              "          const dataTable =\n",
              "            await google.colab.kernel.invokeFunction('convertToInteractive',\n",
              "                                                     [key], {});\n",
              "          if (!dataTable) return;\n",
              "\n",
              "          const docLinkHtml = 'Like what you see? Visit the ' +\n",
              "            '<a target=\"_blank\" href=https://colab.research.google.com/notebooks/data_table.ipynb>data table notebook</a>'\n",
              "            + ' to learn more about interactive tables.';\n",
              "          element.innerHTML = '';\n",
              "          dataTable['output_type'] = 'display_data';\n",
              "          await google.colab.output.renderOutput(dataTable, element);\n",
              "          const docLink = document.createElement('div');\n",
              "          docLink.innerHTML = docLinkHtml;\n",
              "          element.appendChild(docLink);\n",
              "        }\n",
              "      </script>\n",
              "    </div>\n",
              "  </div>\n",
              "  "
            ],
            "text/plain": [
              "                         variables       VIF\n",
              "0                        DailyRate  4.834241\n",
              "1                 DistanceFromHome  2.283203\n",
              "2                        Education  8.764730\n",
              "3                   EducationField  3.748290\n",
              "4          EnvironmentSatisfaction  6.757479\n",
              "5                           Gender  2.460481\n",
              "6                         JobLevel  6.678204\n",
              "7                          JobRole  4.130981\n",
              "8                  JobSatisfaction  6.635422\n",
              "9                    MaritalStatus  5.376706\n",
              "10                     MonthlyRate  4.890322\n",
              "11              NumCompaniesWorked  2.487814\n",
              "12                        OverTime  1.429433\n",
              "13        RelationshipSatisfaction  6.831798\n",
              "14                StockOptionLevel  3.143458\n",
              "15           TrainingTimesLastYear  5.393178\n",
              "16              YearsInCurrentRole  5.268614\n",
              "17            YearsWithCurrManager  5.205503\n",
              "18           Age_PercentSalaryHike  8.369497\n",
              "19  WorkLifeBalance_JobInvolvement  1.018102\n",
              "20           Department_HourlyRate  9.624048"
            ]
          },
          "metadata": {},
          "execution_count": 189
        }
      ]
    },
    {
      "cell_type": "markdown",
      "source": [
        "Now,its much better with the previous values"
      ],
      "metadata": {
        "id": "IzPhtUPRt0Gx"
      }
    },
    {
      "cell_type": "markdown",
      "source": [
        "## Transforming data to eliminate skewness"
      ],
      "metadata": {
        "id": "byiQoa7UuAwp"
      }
    },
    {
      "cell_type": "code",
      "source": [
        "from sklearn.preprocessing import power_transform\n",
        "x = power_transform(x)\n",
        "x[:5]"
      ],
      "metadata": {
        "colab": {
          "base_uri": "https://localhost:8080/"
        },
        "id": "-xb4kGmTtMaJ",
        "outputId": "9a3afe79-453d-47ec-d736-b97184afa84d"
      },
      "execution_count": 190,
      "outputs": [
        {
          "output_type": "execute_result",
          "data": {
            "text/plain": [
              "array([[ 0.75507026, -1.49244581, -0.90978241, -0.96098587, -0.71378927,\n",
              "        -1.22828358,  0.26777544,  1.03459175,  1.19013098,  1.23315508,\n",
              "         0.74457901,  1.62050975,  1.58075594, -1.53026323, -1.08557575,\n",
              "        -2.58064427,  0.23121958,  0.52529484,  0.86721048, -1.98951411,\n",
              "        -1.32070858],\n",
              "       [-1.34217869,  0.24626587, -1.76813882, -0.96098587,  0.20372452,\n",
              "         0.81414424,  0.26777544,  0.61686941, -0.71519503, -0.13583322,\n",
              "         1.4009283 , -0.56555193, -0.63260872,  1.22733082,  0.54943443,\n",
              "         0.21803647,  0.93302132,  0.95965359,  0.47905416,  0.96589368,\n",
              "         0.19850969],\n",
              "       [ 1.33978769, -1.02912668, -0.90978241,  1.2458677 ,  1.21074448,\n",
              "         0.81414424, -1.16284055, -1.00752372,  0.19231026,  1.23315508,\n",
              "        -1.89355609,  1.27209045,  1.58075594, -0.70356727, -1.08557575,\n",
              "         0.21803647, -1.5857131 , -1.54026201,  0.08168088,  0.96589368,\n",
              "        -1.27488276],\n",
              "       [ 1.37963762, -0.69799381,  1.0867191 , -0.96098587,  1.21074448,\n",
              "        -1.22828358, -1.16284055,  0.61686941,  0.19231026, -0.13583322,\n",
              "         1.1943781 , -0.56555193,  1.58075594,  0.22149186, -1.08557575,\n",
              "         0.21803647,  0.93302132, -1.54026201,  0.08168088, -0.03479813,\n",
              "         0.44782839],\n",
              "       [-0.46245115, -1.02912668, -1.76813882,  0.69439463, -1.52351384,\n",
              "         0.81414424, -1.16284055, -1.00752372, -0.71519503, -0.13583322,\n",
              "         0.38010263,  1.76464883, -0.63260872,  1.22733082,  0.54943443,\n",
              "         0.21803647, -0.43499851, -0.39322447, -0.64210101, -0.03479813,\n",
              "         1.27603937]])"
            ]
          },
          "metadata": {},
          "execution_count": 190
        }
      ]
    },
    {
      "cell_type": "code",
      "source": [
        "x_n1 = pd.DataFrame(x)\n",
        "x_n1.skew()"
      ],
      "metadata": {
        "colab": {
          "base_uri": "https://localhost:8080/"
        },
        "id": "NKstNuUeuD81",
        "outputId": "09c05533-8d92-48fc-9b5a-d1256c37032d"
      },
      "execution_count": 191,
      "outputs": [
        {
          "output_type": "execute_result",
          "data": {
            "text/plain": [
              "0    -0.197102\n",
              "1    -0.007307\n",
              "2    -0.099535\n",
              "3    -0.009425\n",
              "4    -0.206012\n",
              "5    -0.414570\n",
              "6     0.106123\n",
              "7    -0.323834\n",
              "8    -0.213674\n",
              "9    -0.157826\n",
              "10   -0.183638\n",
              "11    0.015440\n",
              "12    0.949133\n",
              "13   -0.195154\n",
              "14    0.089303\n",
              "15    0.057609\n",
              "16   -0.071192\n",
              "17   -0.077428\n",
              "18    0.037999\n",
              "19    0.000924\n",
              "20    0.109972\n",
              "dtype: float64"
            ]
          },
          "metadata": {},
          "execution_count": 191
        }
      ]
    },
    {
      "cell_type": "markdown",
      "source": [
        "Its much better with skewness values compared to previous values"
      ],
      "metadata": {
        "id": "hvgHLTeEuXsZ"
      }
    },
    {
      "cell_type": "markdown",
      "source": [
        "## Selecting a best random state"
      ],
      "metadata": {
        "id": "wK6-OuwMvlDJ"
      }
    },
    {
      "cell_type": "code",
      "source": [
        "#importing a necessary libraries\n",
        "from sklearn.linear_model import LogisticRegression\n",
        "from sklearn.metrics import accuracy_score\n",
        "from sklearn.metrics import confusion_matrix,classification_report\n",
        "from sklearn.model_selection import train_test_split\n",
        "\n",
        "accu_score = 0\n",
        "maxRS = 0 #best random state value for max accuracy_score\n",
        "for i in range(1,200):\n",
        "  x_train,x_test,y_train,y_test = train_test_split(x,y,test_size =.20,random_state = i)\n",
        "  LR = LogisticRegression()\n",
        "  LR.fit(x_train,y_train)\n",
        "  predic = LR.predict(x_test)\n",
        "  acc = accuracy_score(y_test,predic)\n",
        "  if acc > accu_score:\n",
        "    accu_score = acc\n",
        "    maxRS = i\n",
        "print(\"Best accuracy_score is \",accu_score,\" on Random state \",maxRS)"
      ],
      "metadata": {
        "colab": {
          "base_uri": "https://localhost:8080/"
        },
        "id": "o57_Trv_uKqF",
        "outputId": "b383c0d7-b95f-4374-8311-77090794d2dc"
      },
      "execution_count": 192,
      "outputs": [
        {
          "output_type": "stream",
          "name": "stdout",
          "text": [
            "Best accuracy_score is  0.9100346020761245  on Random state  71\n"
          ]
        }
      ]
    },
    {
      "cell_type": "code",
      "source": [
        "x_train,x_test,y_train,y_test = train_test_split(x,y,test_size =.20,random_state = 71)"
      ],
      "metadata": {
        "id": "GmEKuIVgw5u1"
      },
      "execution_count": 193,
      "outputs": []
    },
    {
      "cell_type": "code",
      "source": [
        "print(x_train.shape,y_train.shape)"
      ],
      "metadata": {
        "colab": {
          "base_uri": "https://localhost:8080/"
        },
        "id": "UsgrrizixRun",
        "outputId": "092934ee-3946-4425-c938-9f1f5bb87121"
      },
      "execution_count": 194,
      "outputs": [
        {
          "output_type": "stream",
          "name": "stdout",
          "text": [
            "(1156, 21) (1156, 1)\n"
          ]
        }
      ]
    },
    {
      "cell_type": "code",
      "source": [
        "print(x_test.shape,y_test.shape)"
      ],
      "metadata": {
        "colab": {
          "base_uri": "https://localhost:8080/"
        },
        "id": "D7QonCjBxYQ-",
        "outputId": "a97873a7-bee5-4e94-80c0-2268ccce4ca5"
      },
      "execution_count": 195,
      "outputs": [
        {
          "output_type": "stream",
          "name": "stdout",
          "text": [
            "(289, 21) (289, 1)\n"
          ]
        }
      ]
    },
    {
      "cell_type": "code",
      "source": [
        "# To predict the Attrition status,we can consider Logistic regressiom model\n",
        "LR = LogisticRegression()\n",
        "LR.fit(x_train,y_train)\n",
        "predic_1 = LR.predict(x_test)\n",
        "print(\"accuracy_score is {:0.3f}\".format(accuracy_score(y_test,predic_1)))\n",
        "\n",
        "#Since the class imbalance exists so, we can use F1-score as evaluation metrics\n",
        "from sklearn.metrics import f1_score\n",
        "print(\"f1_score is {:0.3f}\".format(f1_score(y_test,predic_1)))\n",
        "\n",
        "#confusion matrix and classification report\n",
        "\n",
        "print(confusion_matrix(y_test,predic_1))\n",
        "print(classification_report(y_test,predic_1))"
      ],
      "metadata": {
        "colab": {
          "base_uri": "https://localhost:8080/"
        },
        "id": "mHEvg6_Uxaf2",
        "outputId": "418c5b96-6d11-4ec2-b6e5-ea53961ae0da"
      },
      "execution_count": 211,
      "outputs": [
        {
          "output_type": "stream",
          "name": "stdout",
          "text": [
            "accuracy_score is 0.910\n",
            "f1_score is 0.458\n",
            "[[252   1]\n",
            " [ 25  11]]\n",
            "              precision    recall  f1-score   support\n",
            "\n",
            "           0       0.91      1.00      0.95       253\n",
            "           1       0.92      0.31      0.46        36\n",
            "\n",
            "    accuracy                           0.91       289\n",
            "   macro avg       0.91      0.65      0.70       289\n",
            "weighted avg       0.91      0.91      0.89       289\n",
            "\n"
          ]
        }
      ]
    },
    {
      "cell_type": "code",
      "source": [
        "#using DecisionTree classifier\n",
        "from sklearn.tree import DecisionTreeClassifier\n",
        "\n",
        "DT = DecisionTreeClassifier()\n",
        "DT.fit(x_train,y_train)\n",
        "predic_2 = DT.predict(x_test)\n",
        "print(\"accuracy_score is {:0.3f}\".format(accuracy_score(y_test,predic_2)))\n",
        "\n",
        "#Since the class imbalance exists so, we can use F1-score as evaluation metrics\n",
        "from sklearn.metrics import f1_score\n",
        "print(\"f1_score is {:0.3f}\".format(f1_score(y_test,predic_2)))\n",
        "\n",
        "#confusion matrix and classification report\n",
        "\n",
        "print(confusion_matrix(y_test,predic_2))\n",
        "print(classification_report(y_test,predic_2))"
      ],
      "metadata": {
        "colab": {
          "base_uri": "https://localhost:8080/"
        },
        "id": "u09QXi5FyPMj",
        "outputId": "1381d201-6246-42e7-b3dd-1f7977460045"
      },
      "execution_count": 208,
      "outputs": [
        {
          "output_type": "stream",
          "name": "stdout",
          "text": [
            "accuracy_score is 0.806\n",
            "f1_score is 0.349\n",
            "[[218  35]\n",
            " [ 21  15]]\n",
            "              precision    recall  f1-score   support\n",
            "\n",
            "           0       0.91      0.86      0.89       253\n",
            "           1       0.30      0.42      0.35        36\n",
            "\n",
            "    accuracy                           0.81       289\n",
            "   macro avg       0.61      0.64      0.62       289\n",
            "weighted avg       0.84      0.81      0.82       289\n",
            "\n"
          ]
        }
      ]
    },
    {
      "cell_type": "code",
      "source": [
        "#Using KNN Classifier\n",
        "from sklearn.neighbors import KNeighborsClassifier\n",
        "\n",
        "KN = KNeighborsClassifier()\n",
        "KN.fit(x_train,y_train)\n",
        "predic_3 = KN.predict(x_test)\n",
        "print(\"accuracy_score is {:0.3f}\".format(accuracy_score(y_test,predic_3)))\n",
        "\n",
        "#Since the class imbalance exists so, we can use F1-score as evaluation metrics\n",
        "from sklearn.metrics import f1_score\n",
        "print(\"f1_score is {:0.3f}\".format(f1_score(y_test,predic_3)))\n",
        "\n",
        "#confusion matrix and classification report\n",
        "\n",
        "print(confusion_matrix(y_test,predic_3))\n",
        "print(classification_report(y_test,predic_3))"
      ],
      "metadata": {
        "colab": {
          "base_uri": "https://localhost:8080/"
        },
        "id": "rhhvpLBbxrK1",
        "outputId": "dc7d42f7-c213-45b8-f9f3-262b54acd4d2"
      },
      "execution_count": 209,
      "outputs": [
        {
          "output_type": "stream",
          "name": "stdout",
          "text": [
            "accuracy_score is 0.879\n",
            "f1_score is 0.286\n",
            "[[247   6]\n",
            " [ 29   7]]\n",
            "              precision    recall  f1-score   support\n",
            "\n",
            "           0       0.89      0.98      0.93       253\n",
            "           1       0.54      0.19      0.29        36\n",
            "\n",
            "    accuracy                           0.88       289\n",
            "   macro avg       0.72      0.59      0.61       289\n",
            "weighted avg       0.85      0.88      0.85       289\n",
            "\n"
          ]
        }
      ]
    },
    {
      "cell_type": "code",
      "source": [
        "#Using Random forest Classifer\n",
        "from sklearn.ensemble import RandomForestClassifier\n",
        "\n",
        "RF = RandomForestClassifier()\n",
        "RF.fit(x_train,y_train)\n",
        "predic_4 = RF.predict(x_test)\n",
        "print(\"accuracy_score is {:0.3f}\".format(accuracy_score(y_test,predic_4)))\n",
        "\n",
        "#Since the class imbalance exists so, we can use F1-score as evaluation metrics\n",
        "from sklearn.metrics import f1_score\n",
        "print(\"f1_score is {:0.3f}\".format(f1_score(y_test,predic_4)))\n",
        "\n",
        "#confusion matrix and classification report\n",
        "\n",
        "print(confusion_matrix(y_test,predic_4))\n",
        "print(classification_report(y_test,predic_4))"
      ],
      "metadata": {
        "colab": {
          "base_uri": "https://localhost:8080/"
        },
        "id": "eFVjIWy30EFl",
        "outputId": "6450ee0a-a692-4245-aa80-5b4bdd07f255"
      },
      "execution_count": 212,
      "outputs": [
        {
          "output_type": "stream",
          "name": "stdout",
          "text": [
            "accuracy_score is 0.896\n",
            "f1_score is 0.318\n",
            "[[252   1]\n",
            " [ 29   7]]\n",
            "              precision    recall  f1-score   support\n",
            "\n",
            "           0       0.90      1.00      0.94       253\n",
            "           1       0.88      0.19      0.32        36\n",
            "\n",
            "    accuracy                           0.90       289\n",
            "   macro avg       0.89      0.60      0.63       289\n",
            "weighted avg       0.89      0.90      0.87       289\n",
            "\n"
          ]
        }
      ]
    },
    {
      "cell_type": "markdown",
      "source": [
        "f1_score and accuracy is high for logistic regression model"
      ],
      "metadata": {
        "id": "GCLJyhGX0bti"
      }
    },
    {
      "cell_type": "markdown",
      "source": [
        "## Cross Validation to check with overfitting"
      ],
      "metadata": {
        "id": "rW8Vb2hC0vVJ"
      }
    },
    {
      "cell_type": "code",
      "source": [
        "from sklearn.model_selection import cross_val_score\n",
        "\n",
        "#for Logistic regression model\n",
        "L_cr = cross_val_score(LR,x,y,cv=5)\n",
        "print(\"cross validation for Logistics regression model : \",L_cr.mean())"
      ],
      "metadata": {
        "colab": {
          "base_uri": "https://localhost:8080/"
        },
        "id": "SESHtybR0SqV",
        "outputId": "4f07ad47-a320-4970-de63-ee08d0932a59"
      },
      "execution_count": 213,
      "outputs": [
        {
          "output_type": "stream",
          "name": "stdout",
          "text": [
            "cross validation for Logistics regression model :  0.8622837370242215\n"
          ]
        }
      ]
    },
    {
      "cell_type": "code",
      "source": [
        "L_cr = cross_val_score(KN,x,y,cv=5)\n",
        "print(\"cross validation for KNN classifier model : \",L_cr.mean())"
      ],
      "metadata": {
        "colab": {
          "base_uri": "https://localhost:8080/"
        },
        "id": "jZhtTh-I09D3",
        "outputId": "bcec807c-b74e-4b0d-b1d3-9cde15b0ca41"
      },
      "execution_count": 214,
      "outputs": [
        {
          "output_type": "stream",
          "name": "stdout",
          "text": [
            "cross validation for KNN classifier model :  0.8401384083044983\n"
          ]
        }
      ]
    },
    {
      "cell_type": "code",
      "source": [
        "L_cr = cross_val_score(DT,x,y,cv=5)\n",
        "print(\"cross validation for Decision tree model : \",L_cr.mean())"
      ],
      "metadata": {
        "colab": {
          "base_uri": "https://localhost:8080/"
        },
        "id": "-BDPwP3W0_mt",
        "outputId": "0f075c07-fff2-4d01-e6df-a39800f7d2b3"
      },
      "execution_count": 215,
      "outputs": [
        {
          "output_type": "stream",
          "name": "stdout",
          "text": [
            "cross validation for Decision tree model :  0.7647058823529411\n"
          ]
        }
      ]
    },
    {
      "cell_type": "code",
      "source": [
        "L_cr = cross_val_score(RF,x,y,cv=5)\n",
        "print(\"cross validation for Random forest model : \",L_cr.mean())"
      ],
      "metadata": {
        "colab": {
          "base_uri": "https://localhost:8080/"
        },
        "id": "AGLFSlTG1B3O",
        "outputId": "9f08e9d0-0e44-4434-c758-a79c7c0ec08c"
      },
      "execution_count": 216,
      "outputs": [
        {
          "output_type": "stream",
          "name": "stdout",
          "text": [
            "cross validation for Random forest model :  0.853287197231834\n"
          ]
        }
      ]
    },
    {
      "cell_type": "markdown",
      "source": [
        "here also,the CV score is more for Logstic regression model.\n",
        "So, I will take my final model as logistic regression model"
      ],
      "metadata": {
        "id": "SioZiskz1Ko6"
      }
    },
    {
      "cell_type": "markdown",
      "source": [
        "## Hyper parameter tuning"
      ],
      "metadata": {
        "id": "rkd2AyZP2DBz"
      }
    },
    {
      "cell_type": "code",
      "source": [
        "from sklearn.model_selection import GridSearchCV\n",
        "\n",
        "params_list = {'penalty':['l1','l2','elasticnet','none'],\n",
        "               'solver':['newton-cg','lbfgs','liblinear','sag','saga'],\n",
        "               'multi_class':['auto','ovr','multinomial']}\n",
        "GCV = GridSearchCV(LogisticRegression(),params_list,cv=5,scoring=\"accuracy\")\n",
        "GCV.fit(x_train,y_train)\n",
        "\n",
        "#printing the best parameter\n",
        "GCV.best_params_"
      ],
      "metadata": {
        "colab": {
          "base_uri": "https://localhost:8080/"
        },
        "id": "AoJ2r4ac1ERd",
        "outputId": "b3d4abd4-307e-4a35-e070-2c2a6db2575a"
      },
      "execution_count": 217,
      "outputs": [
        {
          "output_type": "execute_result",
          "data": {
            "text/plain": [
              "{'multi_class': 'auto', 'penalty': 'l2', 'solver': 'newton-cg'}"
            ]
          },
          "metadata": {},
          "execution_count": 217
        }
      ]
    },
    {
      "cell_type": "code",
      "source": [
        "#now predicting with best parameters\n",
        "\n",
        "GCV_predic = GCV.best_estimator_.predict(x_test)\n",
        "\n",
        "#getting the final accuracy\n",
        "accuracy_score(y_test,GCV_predic)\n",
        "#f1_score(y_test,GCV_predic)"
      ],
      "metadata": {
        "colab": {
          "base_uri": "https://localhost:8080/"
        },
        "id": "EjOKxeA23Rx3",
        "outputId": "550eedb4-6c2b-46e1-8544-869c740d1cd3"
      },
      "execution_count": 221,
      "outputs": [
        {
          "output_type": "execute_result",
          "data": {
            "text/plain": [
              "0.9100346020761245"
            ]
          },
          "metadata": {},
          "execution_count": 221
        }
      ]
    },
    {
      "cell_type": "markdown",
      "source": [
        "it was almost same accuracy and f1_score compared with before tuning the mocdel"
      ],
      "metadata": {
        "id": "0kWnQ8bV4Bqt"
      }
    },
    {
      "cell_type": "code",
      "source": [
        "from sklearn.metrics import plot_roc_curve\n",
        "plot_roc_curve(GCV.best_estimator_,x_test,y_test)\n",
        "plt.title(\"ROC AUC plot\")\n",
        "plt.show()"
      ],
      "metadata": {
        "colab": {
          "base_uri": "https://localhost:8080/",
          "height": 294
        },
        "id": "82Va_AnJ3g6r",
        "outputId": "4d8cbe72-7c47-4f4d-b838-3bb7931b9fbc"
      },
      "execution_count": 222,
      "outputs": [
        {
          "output_type": "display_data",
          "data": {
            "image/png": "[encoded data removed]",
            "text/plain": [
              "<Figure size 432x288 with 1 Axes>"
            ]
          },
          "metadata": {
            "needs_background": "light"
          }
        }
      ]
    },
    {
      "cell_type": "markdown",
      "source": [
        "from the above graph we got AUC score is 90%."
      ],
      "metadata": {
        "id": "A6YRNtj24Lo5"
      }
    },
    {
      "cell_type": "code",
      "source": [
        "import joblib\n",
        "joblib.dump(GCV.best_estimator_,\"HR_Analytics_Project.pkl\")"
      ],
      "metadata": {
        "colab": {
          "base_uri": "https://localhost:8080/"
        },
        "id": "gUVymLt43aB2",
        "outputId": "7906d4cb-ddfa-47a4-cfd8-979cadcfba85"
      },
      "execution_count": 223,
      "outputs": [
        {
          "output_type": "execute_result",
          "data": {
            "text/plain": [
              "['HR_Analytics_Project.pkl']"
            ]
          },
          "metadata": {},
          "execution_count": 223
        }
      ]
    }
  ]
}