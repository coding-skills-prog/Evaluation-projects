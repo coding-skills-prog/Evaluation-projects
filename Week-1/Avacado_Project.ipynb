{
  "nbformat": 4,
  "nbformat_minor": 0,
  "metadata": {
    "colab": {
      "name": "Avacado_Project.ipynb",
      "provenance": [],
      "collapsed_sections": []
    },
    "kernelspec": {
      "name": "python3",
      "display_name": "Python 3"
    },
    "language_info": {
      "name": "python"
    }
  },
  "cells": [
    {
      "cell_type": "markdown",
      "source": [
        "## Avocado is a fruit consumed by people heavily in the United States. \n",
        "\n",
        "The table below represents weekly 2018 retail scan data for National retail volume (units) and price. Retail scan data comes directly from retailers’ cash registers based on actual retail sales of Hass avocados. \n",
        "\n",
        "Starting in 2013, the table below reflects an expanded, multi-outlet retail data set. Multi-outlet reporting includes an aggregation of the following channels: grocery, mass, club, drug, dollar and military. The Average Price (of avocados) in the table reflects a per unit (per avocado) cost, even when multiple units (avocados) are sold in bags. \n",
        "\n",
        "The Product Lookup codes (PLU’s) in the table are only for Hass avocados. Other varieties of avocados (e.g. greenskins) are not included in this table."
      ],
      "metadata": {
        "id": "kl9g5KetU3dr"
      }
    },
    {
      "cell_type": "markdown",
      "source": [
        "Some relevant columns in the dataset:\n",
        "\n",
        "->Date - The date of the observation\n",
        "\n",
        "->AveragePrice - the average price of a single avocado\n",
        "\n",
        "->type - conventional or organic\n",
        "\n",
        "->year - the year\n",
        "\n",
        "->Region - the city or region of the observation\n",
        "\n",
        "->Total Volume - Total number of avocados sold\n",
        "\n",
        "->4046 - Total number of avocados with PLU 4046 sold\n",
        "\n",
        "->4225 - Total number of avocados with PLU 4225 sold\n",
        "\n",
        "->4770 - Total number of avocados with PLU 4770 sold"
      ],
      "metadata": {
        "id": "_R6Z6yj4XMbi"
      }
    },
    {
      "cell_type": "markdown",
      "source": [
        "# a)To predict the average price considering the features like total bags,small bags,etc., which are given in the dataset(Regression approach)"
      ],
      "metadata": {
        "id": "cXnjGNjqWylD"
      }
    },
    {
      "cell_type": "code",
      "source": [
        "# Importing packages\n",
        "import pandas as pd\n",
        "import numpy as np\n",
        "import matplotlib.pyplot as plt\n",
        "import seaborn as sns"
      ],
      "metadata": {
        "id": "UvyUp0PyU42K"
      },
      "execution_count": 284,
      "outputs": []
    },
    {
      "cell_type": "code",
      "source": [
        "#reading a dataset\n",
        "df = pd.read_csv('avocado.csv')\n",
        "df.head()"
      ],
      "metadata": {
        "colab": {
          "base_uri": "https://localhost:8080/",
          "height": 354
        },
        "id": "zMOywBenU5Yy",
        "outputId": "15a526cc-1b3e-4f02-dfe5-1b613be8a0e8"
      },
      "execution_count": 285,
      "outputs": [
        {
          "output_type": "execute_result",
          "data": {
            "text/html": [
              "\n",
              "  <div id=\"df-e6853f3d-c39a-474c-84bf-81f08bdd8537\">\n",
              "    <div class=\"colab-df-container\">\n",
              "      <div>\n",
              "<style scoped>\n",
              "    .dataframe tbody tr th:only-of-type {\n",
              "        vertical-align: middle;\n",
              "    }\n",
              "\n",
              "    .dataframe tbody tr th {\n",
              "        vertical-align: top;\n",
              "    }\n",
              "\n",
              "    .dataframe thead th {\n",
              "        text-align: right;\n",
              "    }\n",
              "</style>\n",
              "<table border=\"1\" class=\"dataframe\">\n",
              "  <thead>\n",
              "    <tr style=\"text-align: right;\">\n",
              "      <th></th>\n",
              "      <th>Unnamed: 0</th>\n",
              "      <th>Date</th>\n",
              "      <th>AveragePrice</th>\n",
              "      <th>Total Volume</th>\n",
              "      <th>4046</th>\n",
              "      <th>4225</th>\n",
              "      <th>4770</th>\n",
              "      <th>Total Bags</th>\n",
              "      <th>Small Bags</th>\n",
              "      <th>Large Bags</th>\n",
              "      <th>XLarge Bags</th>\n",
              "      <th>type</th>\n",
              "      <th>year</th>\n",
              "      <th>region</th>\n",
              "    </tr>\n",
              "  </thead>\n",
              "  <tbody>\n",
              "    <tr>\n",
              "      <th>0</th>\n",
              "      <td>0</td>\n",
              "      <td>2015-12-27</td>\n",
              "      <td>1.33</td>\n",
              "      <td>64236.62</td>\n",
              "      <td>1036.74</td>\n",
              "      <td>54454.85</td>\n",
              "      <td>48.16</td>\n",
              "      <td>8696.87</td>\n",
              "      <td>8603.62</td>\n",
              "      <td>93.25</td>\n",
              "      <td>0.0</td>\n",
              "      <td>conventional</td>\n",
              "      <td>2015</td>\n",
              "      <td>Albany</td>\n",
              "    </tr>\n",
              "    <tr>\n",
              "      <th>1</th>\n",
              "      <td>1</td>\n",
              "      <td>2015-12-20</td>\n",
              "      <td>1.35</td>\n",
              "      <td>54876.98</td>\n",
              "      <td>674.28</td>\n",
              "      <td>44638.81</td>\n",
              "      <td>58.33</td>\n",
              "      <td>9505.56</td>\n",
              "      <td>9408.07</td>\n",
              "      <td>97.49</td>\n",
              "      <td>0.0</td>\n",
              "      <td>conventional</td>\n",
              "      <td>2015</td>\n",
              "      <td>Albany</td>\n",
              "    </tr>\n",
              "    <tr>\n",
              "      <th>2</th>\n",
              "      <td>2</td>\n",
              "      <td>2015-12-13</td>\n",
              "      <td>0.93</td>\n",
              "      <td>118220.22</td>\n",
              "      <td>794.70</td>\n",
              "      <td>109149.67</td>\n",
              "      <td>130.50</td>\n",
              "      <td>8145.35</td>\n",
              "      <td>8042.21</td>\n",
              "      <td>103.14</td>\n",
              "      <td>0.0</td>\n",
              "      <td>conventional</td>\n",
              "      <td>2015</td>\n",
              "      <td>Albany</td>\n",
              "    </tr>\n",
              "    <tr>\n",
              "      <th>3</th>\n",
              "      <td>3</td>\n",
              "      <td>2015-12-06</td>\n",
              "      <td>1.08</td>\n",
              "      <td>78992.15</td>\n",
              "      <td>1132.00</td>\n",
              "      <td>71976.41</td>\n",
              "      <td>72.58</td>\n",
              "      <td>5811.16</td>\n",
              "      <td>5677.40</td>\n",
              "      <td>133.76</td>\n",
              "      <td>0.0</td>\n",
              "      <td>conventional</td>\n",
              "      <td>2015</td>\n",
              "      <td>Albany</td>\n",
              "    </tr>\n",
              "    <tr>\n",
              "      <th>4</th>\n",
              "      <td>4</td>\n",
              "      <td>2015-11-29</td>\n",
              "      <td>1.28</td>\n",
              "      <td>51039.60</td>\n",
              "      <td>941.48</td>\n",
              "      <td>43838.39</td>\n",
              "      <td>75.78</td>\n",
              "      <td>6183.95</td>\n",
              "      <td>5986.26</td>\n",
              "      <td>197.69</td>\n",
              "      <td>0.0</td>\n",
              "      <td>conventional</td>\n",
              "      <td>2015</td>\n",
              "      <td>Albany</td>\n",
              "    </tr>\n",
              "  </tbody>\n",
              "</table>\n",
              "</div>\n",
              "      <button class=\"colab-df-convert\" onclick=\"convertToInteractive('df-e6853f3d-c39a-474c-84bf-81f08bdd8537')\"\n",
              "              title=\"Convert this dataframe to an interactive table.\"\n",
              "              style=\"display:none;\">\n",
              "        \n",
              "  <svg xmlns=\"http://www.w3.org/2000/svg\" height=\"24px\"viewBox=\"0 0 24 24\"\n",
              "       width=\"24px\">\n",
              "    <path d=\"M0 0h24v24H0V0z\" fill=\"none\"/>\n",
              "    <path d=\"M18.56 5.44l.94 2.06.94-2.06 2.06-.94-2.06-.94-.94-2.06-.94 2.06-2.06.94zm-11 1L8.5 8.5l.94-2.06 2.06-.94-2.06-.94L8.5 2.5l-.94 2.06-2.06.94zm10 10l.94 2.06.94-2.06 2.06-.94-2.06-.94-.94-2.06-.94 2.06-2.06.94z\"/><path d=\"M17.41 7.96l-1.37-1.37c-.4-.4-.92-.59-1.43-.59-.52 0-1.04.2-1.43.59L10.3 9.45l-7.72 7.72c-.78.78-.78 2.05 0 2.83L4 21.41c.39.39.9.59 1.41.59.51 0 1.02-.2 1.41-.59l7.78-7.78 2.81-2.81c.8-.78.8-2.07 0-2.86zM5.41 20L4 18.59l7.72-7.72 1.47 1.35L5.41 20z\"/>\n",
              "  </svg>\n",
              "      </button>\n",
              "      \n",
              "  <style>\n",
              "    .colab-df-container {\n",
              "      display:flex;\n",
              "      flex-wrap:wrap;\n",
              "      gap: 12px;\n",
              "    }\n",
              "\n",
              "    .colab-df-convert {\n",
              "      background-color: #E8F0FE;\n",
              "      border: none;\n",
              "      border-radius: 50%;\n",
              "      cursor: pointer;\n",
              "      display: none;\n",
              "      fill: #1967D2;\n",
              "      height: 32px;\n",
              "      padding: 0 0 0 0;\n",
              "      width: 32px;\n",
              "    }\n",
              "\n",
              "    .colab-df-convert:hover {\n",
              "      background-color: #E2EBFA;\n",
              "      box-shadow: 0px 1px 2px rgba(60, 64, 67, 0.3), 0px 1px 3px 1px rgba(60, 64, 67, 0.15);\n",
              "      fill: #174EA6;\n",
              "    }\n",
              "\n",
              "    [theme=dark] .colab-df-convert {\n",
              "      background-color: #3B4455;\n",
              "      fill: #D2E3FC;\n",
              "    }\n",
              "\n",
              "    [theme=dark] .colab-df-convert:hover {\n",
              "      background-color: #434B5C;\n",
              "      box-shadow: 0px 1px 3px 1px rgba(0, 0, 0, 0.15);\n",
              "      filter: drop-shadow(0px 1px 2px rgba(0, 0, 0, 0.3));\n",
              "      fill: #FFFFFF;\n",
              "    }\n",
              "  </style>\n",
              "\n",
              "      <script>\n",
              "        const buttonEl =\n",
              "          document.querySelector('#df-e6853f3d-c39a-474c-84bf-81f08bdd8537 button.colab-df-convert');\n",
              "        buttonEl.style.display =\n",
              "          google.colab.kernel.accessAllowed ? 'block' : 'none';\n",
              "\n",
              "        async function convertToInteractive(key) {\n",
              "          const element = document.querySelector('#df-e6853f3d-c39a-474c-84bf-81f08bdd8537');\n",
              "          const dataTable =\n",
              "            await google.colab.kernel.invokeFunction('convertToInteractive',\n",
              "                                                     [key], {});\n",
              "          if (!dataTable) return;\n",
              "\n",
              "          const docLinkHtml = 'Like what you see? Visit the ' +\n",
              "            '<a target=\"_blank\" href=https://colab.research.google.com/notebooks/data_table.ipynb>data table notebook</a>'\n",
              "            + ' to learn more about interactive tables.';\n",
              "          element.innerHTML = '';\n",
              "          dataTable['output_type'] = 'display_data';\n",
              "          await google.colab.output.renderOutput(dataTable, element);\n",
              "          const docLink = document.createElement('div');\n",
              "          docLink.innerHTML = docLinkHtml;\n",
              "          element.appendChild(docLink);\n",
              "        }\n",
              "      </script>\n",
              "    </div>\n",
              "  </div>\n",
              "  "
            ],
            "text/plain": [
              "   Unnamed: 0        Date  AveragePrice  ...          type  year  region\n",
              "0           0  2015-12-27          1.33  ...  conventional  2015  Albany\n",
              "1           1  2015-12-20          1.35  ...  conventional  2015  Albany\n",
              "2           2  2015-12-13          0.93  ...  conventional  2015  Albany\n",
              "3           3  2015-12-06          1.08  ...  conventional  2015  Albany\n",
              "4           4  2015-11-29          1.28  ...  conventional  2015  Albany\n",
              "\n",
              "[5 rows x 14 columns]"
            ]
          },
          "metadata": {},
          "execution_count": 285
        }
      ]
    },
    {
      "cell_type": "markdown",
      "source": [
        "with this,we have got the target variable as \"AveragePrice\" which we need predict considering the features given n the dataset."
      ],
      "metadata": {
        "id": "wxIjHQc1X6fm"
      }
    },
    {
      "cell_type": "code",
      "source": [
        "#since the column \"Unnamed: 0\" is just containing an id numbers.So, we can just remove that column from dataframe.\n",
        "df = df.drop([\"Unnamed: 0\"],axis=1)"
      ],
      "metadata": {
        "id": "Tvif7DzQU_dp"
      },
      "execution_count": 286,
      "outputs": []
    },
    {
      "cell_type": "code",
      "source": [
        "df.head()"
      ],
      "metadata": {
        "colab": {
          "base_uri": "https://localhost:8080/",
          "height": 250
        },
        "id": "PeNPUUDuV5yr",
        "outputId": "a5f67edc-0e8c-49a7-8c37-f29ca27dc2f4"
      },
      "execution_count": 287,
      "outputs": [
        {
          "output_type": "execute_result",
          "data": {
            "text/html": [
              "\n",
              "  <div id=\"df-564622cc-2f7e-4f1b-9644-b8b6b66e096d\">\n",
              "    <div class=\"colab-df-container\">\n",
              "      <div>\n",
              "<style scoped>\n",
              "    .dataframe tbody tr th:only-of-type {\n",
              "        vertical-align: middle;\n",
              "    }\n",
              "\n",
              "    .dataframe tbody tr th {\n",
              "        vertical-align: top;\n",
              "    }\n",
              "\n",
              "    .dataframe thead th {\n",
              "        text-align: right;\n",
              "    }\n",
              "</style>\n",
              "<table border=\"1\" class=\"dataframe\">\n",
              "  <thead>\n",
              "    <tr style=\"text-align: right;\">\n",
              "      <th></th>\n",
              "      <th>Date</th>\n",
              "      <th>AveragePrice</th>\n",
              "      <th>Total Volume</th>\n",
              "      <th>4046</th>\n",
              "      <th>4225</th>\n",
              "      <th>4770</th>\n",
              "      <th>Total Bags</th>\n",
              "      <th>Small Bags</th>\n",
              "      <th>Large Bags</th>\n",
              "      <th>XLarge Bags</th>\n",
              "      <th>type</th>\n",
              "      <th>year</th>\n",
              "      <th>region</th>\n",
              "    </tr>\n",
              "  </thead>\n",
              "  <tbody>\n",
              "    <tr>\n",
              "      <th>0</th>\n",
              "      <td>2015-12-27</td>\n",
              "      <td>1.33</td>\n",
              "      <td>64236.62</td>\n",
              "      <td>1036.74</td>\n",
              "      <td>54454.85</td>\n",
              "      <td>48.16</td>\n",
              "      <td>8696.87</td>\n",
              "      <td>8603.62</td>\n",
              "      <td>93.25</td>\n",
              "      <td>0.0</td>\n",
              "      <td>conventional</td>\n",
              "      <td>2015</td>\n",
              "      <td>Albany</td>\n",
              "    </tr>\n",
              "    <tr>\n",
              "      <th>1</th>\n",
              "      <td>2015-12-20</td>\n",
              "      <td>1.35</td>\n",
              "      <td>54876.98</td>\n",
              "      <td>674.28</td>\n",
              "      <td>44638.81</td>\n",
              "      <td>58.33</td>\n",
              "      <td>9505.56</td>\n",
              "      <td>9408.07</td>\n",
              "      <td>97.49</td>\n",
              "      <td>0.0</td>\n",
              "      <td>conventional</td>\n",
              "      <td>2015</td>\n",
              "      <td>Albany</td>\n",
              "    </tr>\n",
              "    <tr>\n",
              "      <th>2</th>\n",
              "      <td>2015-12-13</td>\n",
              "      <td>0.93</td>\n",
              "      <td>118220.22</td>\n",
              "      <td>794.70</td>\n",
              "      <td>109149.67</td>\n",
              "      <td>130.50</td>\n",
              "      <td>8145.35</td>\n",
              "      <td>8042.21</td>\n",
              "      <td>103.14</td>\n",
              "      <td>0.0</td>\n",
              "      <td>conventional</td>\n",
              "      <td>2015</td>\n",
              "      <td>Albany</td>\n",
              "    </tr>\n",
              "    <tr>\n",
              "      <th>3</th>\n",
              "      <td>2015-12-06</td>\n",
              "      <td>1.08</td>\n",
              "      <td>78992.15</td>\n",
              "      <td>1132.00</td>\n",
              "      <td>71976.41</td>\n",
              "      <td>72.58</td>\n",
              "      <td>5811.16</td>\n",
              "      <td>5677.40</td>\n",
              "      <td>133.76</td>\n",
              "      <td>0.0</td>\n",
              "      <td>conventional</td>\n",
              "      <td>2015</td>\n",
              "      <td>Albany</td>\n",
              "    </tr>\n",
              "    <tr>\n",
              "      <th>4</th>\n",
              "      <td>2015-11-29</td>\n",
              "      <td>1.28</td>\n",
              "      <td>51039.60</td>\n",
              "      <td>941.48</td>\n",
              "      <td>43838.39</td>\n",
              "      <td>75.78</td>\n",
              "      <td>6183.95</td>\n",
              "      <td>5986.26</td>\n",
              "      <td>197.69</td>\n",
              "      <td>0.0</td>\n",
              "      <td>conventional</td>\n",
              "      <td>2015</td>\n",
              "      <td>Albany</td>\n",
              "    </tr>\n",
              "  </tbody>\n",
              "</table>\n",
              "</div>\n",
              "      <button class=\"colab-df-convert\" onclick=\"convertToInteractive('df-564622cc-2f7e-4f1b-9644-b8b6b66e096d')\"\n",
              "              title=\"Convert this dataframe to an interactive table.\"\n",
              "              style=\"display:none;\">\n",
              "        \n",
              "  <svg xmlns=\"http://www.w3.org/2000/svg\" height=\"24px\"viewBox=\"0 0 24 24\"\n",
              "       width=\"24px\">\n",
              "    <path d=\"M0 0h24v24H0V0z\" fill=\"none\"/>\n",
              "    <path d=\"M18.56 5.44l.94 2.06.94-2.06 2.06-.94-2.06-.94-.94-2.06-.94 2.06-2.06.94zm-11 1L8.5 8.5l.94-2.06 2.06-.94-2.06-.94L8.5 2.5l-.94 2.06-2.06.94zm10 10l.94 2.06.94-2.06 2.06-.94-2.06-.94-.94-2.06-.94 2.06-2.06.94z\"/><path d=\"M17.41 7.96l-1.37-1.37c-.4-.4-.92-.59-1.43-.59-.52 0-1.04.2-1.43.59L10.3 9.45l-7.72 7.72c-.78.78-.78 2.05 0 2.83L4 21.41c.39.39.9.59 1.41.59.51 0 1.02-.2 1.41-.59l7.78-7.78 2.81-2.81c.8-.78.8-2.07 0-2.86zM5.41 20L4 18.59l7.72-7.72 1.47 1.35L5.41 20z\"/>\n",
              "  </svg>\n",
              "      </button>\n",
              "      \n",
              "  <style>\n",
              "    .colab-df-container {\n",
              "      display:flex;\n",
              "      flex-wrap:wrap;\n",
              "      gap: 12px;\n",
              "    }\n",
              "\n",
              "    .colab-df-convert {\n",
              "      background-color: #E8F0FE;\n",
              "      border: none;\n",
              "      border-radius: 50%;\n",
              "      cursor: pointer;\n",
              "      display: none;\n",
              "      fill: #1967D2;\n",
              "      height: 32px;\n",
              "      padding: 0 0 0 0;\n",
              "      width: 32px;\n",
              "    }\n",
              "\n",
              "    .colab-df-convert:hover {\n",
              "      background-color: #E2EBFA;\n",
              "      box-shadow: 0px 1px 2px rgba(60, 64, 67, 0.3), 0px 1px 3px 1px rgba(60, 64, 67, 0.15);\n",
              "      fill: #174EA6;\n",
              "    }\n",
              "\n",
              "    [theme=dark] .colab-df-convert {\n",
              "      background-color: #3B4455;\n",
              "      fill: #D2E3FC;\n",
              "    }\n",
              "\n",
              "    [theme=dark] .colab-df-convert:hover {\n",
              "      background-color: #434B5C;\n",
              "      box-shadow: 0px 1px 3px 1px rgba(0, 0, 0, 0.15);\n",
              "      filter: drop-shadow(0px 1px 2px rgba(0, 0, 0, 0.3));\n",
              "      fill: #FFFFFF;\n",
              "    }\n",
              "  </style>\n",
              "\n",
              "      <script>\n",
              "        const buttonEl =\n",
              "          document.querySelector('#df-564622cc-2f7e-4f1b-9644-b8b6b66e096d button.colab-df-convert');\n",
              "        buttonEl.style.display =\n",
              "          google.colab.kernel.accessAllowed ? 'block' : 'none';\n",
              "\n",
              "        async function convertToInteractive(key) {\n",
              "          const element = document.querySelector('#df-564622cc-2f7e-4f1b-9644-b8b6b66e096d');\n",
              "          const dataTable =\n",
              "            await google.colab.kernel.invokeFunction('convertToInteractive',\n",
              "                                                     [key], {});\n",
              "          if (!dataTable) return;\n",
              "\n",
              "          const docLinkHtml = 'Like what you see? Visit the ' +\n",
              "            '<a target=\"_blank\" href=https://colab.research.google.com/notebooks/data_table.ipynb>data table notebook</a>'\n",
              "            + ' to learn more about interactive tables.';\n",
              "          element.innerHTML = '';\n",
              "          dataTable['output_type'] = 'display_data';\n",
              "          await google.colab.output.renderOutput(dataTable, element);\n",
              "          const docLink = document.createElement('div');\n",
              "          docLink.innerHTML = docLinkHtml;\n",
              "          element.appendChild(docLink);\n",
              "        }\n",
              "      </script>\n",
              "    </div>\n",
              "  </div>\n",
              "  "
            ],
            "text/plain": [
              "         Date  AveragePrice  Total Volume  ...          type  year  region\n",
              "0  2015-12-27          1.33      64236.62  ...  conventional  2015  Albany\n",
              "1  2015-12-20          1.35      54876.98  ...  conventional  2015  Albany\n",
              "2  2015-12-13          0.93     118220.22  ...  conventional  2015  Albany\n",
              "3  2015-12-06          1.08      78992.15  ...  conventional  2015  Albany\n",
              "4  2015-11-29          1.28      51039.60  ...  conventional  2015  Albany\n",
              "\n",
              "[5 rows x 13 columns]"
            ]
          },
          "metadata": {},
          "execution_count": 287
        }
      ]
    },
    {
      "cell_type": "code",
      "source": [
        "df['AveragePrice'].value_counts()"
      ],
      "metadata": {
        "colab": {
          "base_uri": "https://localhost:8080/"
        },
        "id": "GYpgr_PDZixq",
        "outputId": "91ad8d71-e050-4d2b-96e7-c8e1b90f5d8f"
      },
      "execution_count": 288,
      "outputs": [
        {
          "output_type": "execute_result",
          "data": {
            "text/plain": [
              "1.15    202\n",
              "1.18    199\n",
              "1.08    194\n",
              "1.26    193\n",
              "1.13    192\n",
              "       ... \n",
              "3.05      1\n",
              "3.03      1\n",
              "2.91      1\n",
              "0.48      1\n",
              "2.96      1\n",
              "Name: AveragePrice, Length: 259, dtype: int64"
            ]
          },
          "metadata": {},
          "execution_count": 288
        }
      ]
    },
    {
      "cell_type": "markdown",
      "source": [
        "It seems like the output values are appearing to be dfferent for number of records"
      ],
      "metadata": {
        "id": "bAdaRTmGaKFj"
      }
    },
    {
      "cell_type": "code",
      "source": [
        "#to check how many rows and columns in dataframe\n",
        "df.shape"
      ],
      "metadata": {
        "colab": {
          "base_uri": "https://localhost:8080/"
        },
        "id": "G_vMg7kwZ7d6",
        "outputId": "04b3a681-d914-4458-d491-757ba8816821"
      },
      "execution_count": 289,
      "outputs": [
        {
          "output_type": "execute_result",
          "data": {
            "text/plain": [
              "(18249, 13)"
            ]
          },
          "metadata": {},
          "execution_count": 289
        }
      ]
    },
    {
      "cell_type": "markdown",
      "source": [
        "looks like,its a big dataset consisting of 18249 records having 13 columns."
      ],
      "metadata": {
        "id": "2czRRXiJagaC"
      }
    },
    {
      "cell_type": "code",
      "source": [
        "#to get the info of this dataframe\n",
        "df.info()"
      ],
      "metadata": {
        "colab": {
          "base_uri": "https://localhost:8080/"
        },
        "id": "TrbU4z-Iaesx",
        "outputId": "3ac36d00-7120-4972-9ab4-3b309153d902"
      },
      "execution_count": 290,
      "outputs": [
        {
          "output_type": "stream",
          "name": "stdout",
          "text": [
            "<class 'pandas.core.frame.DataFrame'>\n",
            "RangeIndex: 18249 entries, 0 to 18248\n",
            "Data columns (total 13 columns):\n",
            " #   Column        Non-Null Count  Dtype  \n",
            "---  ------        --------------  -----  \n",
            " 0   Date          18249 non-null  object \n",
            " 1   AveragePrice  18249 non-null  float64\n",
            " 2   Total Volume  18249 non-null  float64\n",
            " 3   4046          18249 non-null  float64\n",
            " 4   4225          18249 non-null  float64\n",
            " 5   4770          18249 non-null  float64\n",
            " 6   Total Bags    18249 non-null  float64\n",
            " 7   Small Bags    18249 non-null  float64\n",
            " 8   Large Bags    18249 non-null  float64\n",
            " 9   XLarge Bags   18249 non-null  float64\n",
            " 10  type          18249 non-null  object \n",
            " 11  year          18249 non-null  int64  \n",
            " 12  region        18249 non-null  object \n",
            "dtypes: float64(9), int64(1), object(3)\n",
            "memory usage: 1.8+ MB\n"
          ]
        }
      ]
    },
    {
      "cell_type": "markdown",
      "source": [
        "with above details,we can observe all the datatypes of each column along with memory consumption of dataset"
      ],
      "metadata": {
        "id": "ZMsjh3cBbDW5"
      }
    },
    {
      "cell_type": "code",
      "source": [
        "#Now,we already have year column.\n",
        "#So,we can break it down the data(objective type) column into month and day columns which will be more convinient,\n",
        "#so that we can drop \"data\" column.\n",
        "\n",
        "df['Date']=pd.to_datetime(df['Date'])  #first we can convert the objective type to date type\n",
        "\n",
        "df['month']=df['Date'].apply(lambda x_m:x_m.month)   #getting the month values\n",
        "df['day']=df['Date'].apply(lambda x_d:x_d.day)       #getting the day values"
      ],
      "metadata": {
        "id": "1HqoBYuIaytA"
      },
      "execution_count": 291,
      "outputs": []
    },
    {
      "cell_type": "code",
      "source": [
        "df = df.drop(['Date'],axis=1)"
      ],
      "metadata": {
        "id": "GGdfZEM1cQ15"
      },
      "execution_count": 292,
      "outputs": []
    },
    {
      "cell_type": "code",
      "source": [
        "df.head()"
      ],
      "metadata": {
        "colab": {
          "base_uri": "https://localhost:8080/",
          "height": 250
        },
        "id": "kDqJ7OXycXUA",
        "outputId": "3f5313b7-628c-4ea1-e72d-d604770e018a"
      },
      "execution_count": 293,
      "outputs": [
        {
          "output_type": "execute_result",
          "data": {
            "text/html": [
              "\n",
              "  <div id=\"df-510e32a8-b81f-44d3-91af-af84b52da009\">\n",
              "    <div class=\"colab-df-container\">\n",
              "      <div>\n",
              "<style scoped>\n",
              "    .dataframe tbody tr th:only-of-type {\n",
              "        vertical-align: middle;\n",
              "    }\n",
              "\n",
              "    .dataframe tbody tr th {\n",
              "        vertical-align: top;\n",
              "    }\n",
              "\n",
              "    .dataframe thead th {\n",
              "        text-align: right;\n",
              "    }\n",
              "</style>\n",
              "<table border=\"1\" class=\"dataframe\">\n",
              "  <thead>\n",
              "    <tr style=\"text-align: right;\">\n",
              "      <th></th>\n",
              "      <th>AveragePrice</th>\n",
              "      <th>Total Volume</th>\n",
              "      <th>4046</th>\n",
              "      <th>4225</th>\n",
              "      <th>4770</th>\n",
              "      <th>Total Bags</th>\n",
              "      <th>Small Bags</th>\n",
              "      <th>Large Bags</th>\n",
              "      <th>XLarge Bags</th>\n",
              "      <th>type</th>\n",
              "      <th>year</th>\n",
              "      <th>region</th>\n",
              "      <th>month</th>\n",
              "      <th>day</th>\n",
              "    </tr>\n",
              "  </thead>\n",
              "  <tbody>\n",
              "    <tr>\n",
              "      <th>0</th>\n",
              "      <td>1.33</td>\n",
              "      <td>64236.62</td>\n",
              "      <td>1036.74</td>\n",
              "      <td>54454.85</td>\n",
              "      <td>48.16</td>\n",
              "      <td>8696.87</td>\n",
              "      <td>8603.62</td>\n",
              "      <td>93.25</td>\n",
              "      <td>0.0</td>\n",
              "      <td>conventional</td>\n",
              "      <td>2015</td>\n",
              "      <td>Albany</td>\n",
              "      <td>12</td>\n",
              "      <td>27</td>\n",
              "    </tr>\n",
              "    <tr>\n",
              "      <th>1</th>\n",
              "      <td>1.35</td>\n",
              "      <td>54876.98</td>\n",
              "      <td>674.28</td>\n",
              "      <td>44638.81</td>\n",
              "      <td>58.33</td>\n",
              "      <td>9505.56</td>\n",
              "      <td>9408.07</td>\n",
              "      <td>97.49</td>\n",
              "      <td>0.0</td>\n",
              "      <td>conventional</td>\n",
              "      <td>2015</td>\n",
              "      <td>Albany</td>\n",
              "      <td>12</td>\n",
              "      <td>20</td>\n",
              "    </tr>\n",
              "    <tr>\n",
              "      <th>2</th>\n",
              "      <td>0.93</td>\n",
              "      <td>118220.22</td>\n",
              "      <td>794.70</td>\n",
              "      <td>109149.67</td>\n",
              "      <td>130.50</td>\n",
              "      <td>8145.35</td>\n",
              "      <td>8042.21</td>\n",
              "      <td>103.14</td>\n",
              "      <td>0.0</td>\n",
              "      <td>conventional</td>\n",
              "      <td>2015</td>\n",
              "      <td>Albany</td>\n",
              "      <td>12</td>\n",
              "      <td>13</td>\n",
              "    </tr>\n",
              "    <tr>\n",
              "      <th>3</th>\n",
              "      <td>1.08</td>\n",
              "      <td>78992.15</td>\n",
              "      <td>1132.00</td>\n",
              "      <td>71976.41</td>\n",
              "      <td>72.58</td>\n",
              "      <td>5811.16</td>\n",
              "      <td>5677.40</td>\n",
              "      <td>133.76</td>\n",
              "      <td>0.0</td>\n",
              "      <td>conventional</td>\n",
              "      <td>2015</td>\n",
              "      <td>Albany</td>\n",
              "      <td>12</td>\n",
              "      <td>6</td>\n",
              "    </tr>\n",
              "    <tr>\n",
              "      <th>4</th>\n",
              "      <td>1.28</td>\n",
              "      <td>51039.60</td>\n",
              "      <td>941.48</td>\n",
              "      <td>43838.39</td>\n",
              "      <td>75.78</td>\n",
              "      <td>6183.95</td>\n",
              "      <td>5986.26</td>\n",
              "      <td>197.69</td>\n",
              "      <td>0.0</td>\n",
              "      <td>conventional</td>\n",
              "      <td>2015</td>\n",
              "      <td>Albany</td>\n",
              "      <td>11</td>\n",
              "      <td>29</td>\n",
              "    </tr>\n",
              "  </tbody>\n",
              "</table>\n",
              "</div>\n",
              "      <button class=\"colab-df-convert\" onclick=\"convertToInteractive('df-510e32a8-b81f-44d3-91af-af84b52da009')\"\n",
              "              title=\"Convert this dataframe to an interactive table.\"\n",
              "              style=\"display:none;\">\n",
              "        \n",
              "  <svg xmlns=\"http://www.w3.org/2000/svg\" height=\"24px\"viewBox=\"0 0 24 24\"\n",
              "       width=\"24px\">\n",
              "    <path d=\"M0 0h24v24H0V0z\" fill=\"none\"/>\n",
              "    <path d=\"M18.56 5.44l.94 2.06.94-2.06 2.06-.94-2.06-.94-.94-2.06-.94 2.06-2.06.94zm-11 1L8.5 8.5l.94-2.06 2.06-.94-2.06-.94L8.5 2.5l-.94 2.06-2.06.94zm10 10l.94 2.06.94-2.06 2.06-.94-2.06-.94-.94-2.06-.94 2.06-2.06.94z\"/><path d=\"M17.41 7.96l-1.37-1.37c-.4-.4-.92-.59-1.43-.59-.52 0-1.04.2-1.43.59L10.3 9.45l-7.72 7.72c-.78.78-.78 2.05 0 2.83L4 21.41c.39.39.9.59 1.41.59.51 0 1.02-.2 1.41-.59l7.78-7.78 2.81-2.81c.8-.78.8-2.07 0-2.86zM5.41 20L4 18.59l7.72-7.72 1.47 1.35L5.41 20z\"/>\n",
              "  </svg>\n",
              "      </button>\n",
              "      \n",
              "  <style>\n",
              "    .colab-df-container {\n",
              "      display:flex;\n",
              "      flex-wrap:wrap;\n",
              "      gap: 12px;\n",
              "    }\n",
              "\n",
              "    .colab-df-convert {\n",
              "      background-color: #E8F0FE;\n",
              "      border: none;\n",
              "      border-radius: 50%;\n",
              "      cursor: pointer;\n",
              "      display: none;\n",
              "      fill: #1967D2;\n",
              "      height: 32px;\n",
              "      padding: 0 0 0 0;\n",
              "      width: 32px;\n",
              "    }\n",
              "\n",
              "    .colab-df-convert:hover {\n",
              "      background-color: #E2EBFA;\n",
              "      box-shadow: 0px 1px 2px rgba(60, 64, 67, 0.3), 0px 1px 3px 1px rgba(60, 64, 67, 0.15);\n",
              "      fill: #174EA6;\n",
              "    }\n",
              "\n",
              "    [theme=dark] .colab-df-convert {\n",
              "      background-color: #3B4455;\n",
              "      fill: #D2E3FC;\n",
              "    }\n",
              "\n",
              "    [theme=dark] .colab-df-convert:hover {\n",
              "      background-color: #434B5C;\n",
              "      box-shadow: 0px 1px 3px 1px rgba(0, 0, 0, 0.15);\n",
              "      filter: drop-shadow(0px 1px 2px rgba(0, 0, 0, 0.3));\n",
              "      fill: #FFFFFF;\n",
              "    }\n",
              "  </style>\n",
              "\n",
              "      <script>\n",
              "        const buttonEl =\n",
              "          document.querySelector('#df-510e32a8-b81f-44d3-91af-af84b52da009 button.colab-df-convert');\n",
              "        buttonEl.style.display =\n",
              "          google.colab.kernel.accessAllowed ? 'block' : 'none';\n",
              "\n",
              "        async function convertToInteractive(key) {\n",
              "          const element = document.querySelector('#df-510e32a8-b81f-44d3-91af-af84b52da009');\n",
              "          const dataTable =\n",
              "            await google.colab.kernel.invokeFunction('convertToInteractive',\n",
              "                                                     [key], {});\n",
              "          if (!dataTable) return;\n",
              "\n",
              "          const docLinkHtml = 'Like what you see? Visit the ' +\n",
              "            '<a target=\"_blank\" href=https://colab.research.google.com/notebooks/data_table.ipynb>data table notebook</a>'\n",
              "            + ' to learn more about interactive tables.';\n",
              "          element.innerHTML = '';\n",
              "          dataTable['output_type'] = 'display_data';\n",
              "          await google.colab.output.renderOutput(dataTable, element);\n",
              "          const docLink = document.createElement('div');\n",
              "          docLink.innerHTML = docLinkHtml;\n",
              "          element.appendChild(docLink);\n",
              "        }\n",
              "      </script>\n",
              "    </div>\n",
              "  </div>\n",
              "  "
            ],
            "text/plain": [
              "   AveragePrice  Total Volume     4046       4225  ...  year  region  month  day\n",
              "0          1.33      64236.62  1036.74   54454.85  ...  2015  Albany     12   27\n",
              "1          1.35      54876.98   674.28   44638.81  ...  2015  Albany     12   20\n",
              "2          0.93     118220.22   794.70  109149.67  ...  2015  Albany     12   13\n",
              "3          1.08      78992.15  1132.00   71976.41  ...  2015  Albany     12    6\n",
              "4          1.28      51039.60   941.48   43838.39  ...  2015  Albany     11   29\n",
              "\n",
              "[5 rows x 14 columns]"
            ]
          },
          "metadata": {},
          "execution_count": 293
        }
      ]
    },
    {
      "cell_type": "code",
      "source": [
        "#to get statistics information\n",
        "df.describe()"
      ],
      "metadata": {
        "colab": {
          "base_uri": "https://localhost:8080/",
          "height": 381
        },
        "id": "rSICxGTVcZzY",
        "outputId": "0e10fde0-c253-42c0-a6cf-25cdac522734"
      },
      "execution_count": 294,
      "outputs": [
        {
          "output_type": "execute_result",
          "data": {
            "text/html": [
              "\n",
              "  <div id=\"df-3948e8d0-cb53-4403-84c1-c877a4c15399\">\n",
              "    <div class=\"colab-df-container\">\n",
              "      <div>\n",
              "<style scoped>\n",
              "    .dataframe tbody tr th:only-of-type {\n",
              "        vertical-align: middle;\n",
              "    }\n",
              "\n",
              "    .dataframe tbody tr th {\n",
              "        vertical-align: top;\n",
              "    }\n",
              "\n",
              "    .dataframe thead th {\n",
              "        text-align: right;\n",
              "    }\n",
              "</style>\n",
              "<table border=\"1\" class=\"dataframe\">\n",
              "  <thead>\n",
              "    <tr style=\"text-align: right;\">\n",
              "      <th></th>\n",
              "      <th>AveragePrice</th>\n",
              "      <th>Total Volume</th>\n",
              "      <th>4046</th>\n",
              "      <th>4225</th>\n",
              "      <th>4770</th>\n",
              "      <th>Total Bags</th>\n",
              "      <th>Small Bags</th>\n",
              "      <th>Large Bags</th>\n",
              "      <th>XLarge Bags</th>\n",
              "      <th>year</th>\n",
              "      <th>month</th>\n",
              "      <th>day</th>\n",
              "    </tr>\n",
              "  </thead>\n",
              "  <tbody>\n",
              "    <tr>\n",
              "      <th>count</th>\n",
              "      <td>18249.000000</td>\n",
              "      <td>1.824900e+04</td>\n",
              "      <td>1.824900e+04</td>\n",
              "      <td>1.824900e+04</td>\n",
              "      <td>1.824900e+04</td>\n",
              "      <td>1.824900e+04</td>\n",
              "      <td>1.824900e+04</td>\n",
              "      <td>1.824900e+04</td>\n",
              "      <td>18249.000000</td>\n",
              "      <td>18249.000000</td>\n",
              "      <td>18249.000000</td>\n",
              "      <td>18249.000000</td>\n",
              "    </tr>\n",
              "    <tr>\n",
              "      <th>mean</th>\n",
              "      <td>1.405978</td>\n",
              "      <td>8.506440e+05</td>\n",
              "      <td>2.930084e+05</td>\n",
              "      <td>2.951546e+05</td>\n",
              "      <td>2.283974e+04</td>\n",
              "      <td>2.396392e+05</td>\n",
              "      <td>1.821947e+05</td>\n",
              "      <td>5.433809e+04</td>\n",
              "      <td>3106.426507</td>\n",
              "      <td>2016.147899</td>\n",
              "      <td>6.177215</td>\n",
              "      <td>15.662612</td>\n",
              "    </tr>\n",
              "    <tr>\n",
              "      <th>std</th>\n",
              "      <td>0.402677</td>\n",
              "      <td>3.453545e+06</td>\n",
              "      <td>1.264989e+06</td>\n",
              "      <td>1.204120e+06</td>\n",
              "      <td>1.074641e+05</td>\n",
              "      <td>9.862424e+05</td>\n",
              "      <td>7.461785e+05</td>\n",
              "      <td>2.439660e+05</td>\n",
              "      <td>17692.894652</td>\n",
              "      <td>0.939938</td>\n",
              "      <td>3.534130</td>\n",
              "      <td>8.776281</td>\n",
              "    </tr>\n",
              "    <tr>\n",
              "      <th>min</th>\n",
              "      <td>0.440000</td>\n",
              "      <td>8.456000e+01</td>\n",
              "      <td>0.000000e+00</td>\n",
              "      <td>0.000000e+00</td>\n",
              "      <td>0.000000e+00</td>\n",
              "      <td>0.000000e+00</td>\n",
              "      <td>0.000000e+00</td>\n",
              "      <td>0.000000e+00</td>\n",
              "      <td>0.000000</td>\n",
              "      <td>2015.000000</td>\n",
              "      <td>1.000000</td>\n",
              "      <td>1.000000</td>\n",
              "    </tr>\n",
              "    <tr>\n",
              "      <th>25%</th>\n",
              "      <td>1.100000</td>\n",
              "      <td>1.083858e+04</td>\n",
              "      <td>8.540700e+02</td>\n",
              "      <td>3.008780e+03</td>\n",
              "      <td>0.000000e+00</td>\n",
              "      <td>5.088640e+03</td>\n",
              "      <td>2.849420e+03</td>\n",
              "      <td>1.274700e+02</td>\n",
              "      <td>0.000000</td>\n",
              "      <td>2015.000000</td>\n",
              "      <td>3.000000</td>\n",
              "      <td>8.000000</td>\n",
              "    </tr>\n",
              "    <tr>\n",
              "      <th>50%</th>\n",
              "      <td>1.370000</td>\n",
              "      <td>1.073768e+05</td>\n",
              "      <td>8.645300e+03</td>\n",
              "      <td>2.906102e+04</td>\n",
              "      <td>1.849900e+02</td>\n",
              "      <td>3.974383e+04</td>\n",
              "      <td>2.636282e+04</td>\n",
              "      <td>2.647710e+03</td>\n",
              "      <td>0.000000</td>\n",
              "      <td>2016.000000</td>\n",
              "      <td>6.000000</td>\n",
              "      <td>16.000000</td>\n",
              "    </tr>\n",
              "    <tr>\n",
              "      <th>75%</th>\n",
              "      <td>1.660000</td>\n",
              "      <td>4.329623e+05</td>\n",
              "      <td>1.110202e+05</td>\n",
              "      <td>1.502069e+05</td>\n",
              "      <td>6.243420e+03</td>\n",
              "      <td>1.107834e+05</td>\n",
              "      <td>8.333767e+04</td>\n",
              "      <td>2.202925e+04</td>\n",
              "      <td>132.500000</td>\n",
              "      <td>2017.000000</td>\n",
              "      <td>9.000000</td>\n",
              "      <td>23.000000</td>\n",
              "    </tr>\n",
              "    <tr>\n",
              "      <th>max</th>\n",
              "      <td>3.250000</td>\n",
              "      <td>6.250565e+07</td>\n",
              "      <td>2.274362e+07</td>\n",
              "      <td>2.047057e+07</td>\n",
              "      <td>2.546439e+06</td>\n",
              "      <td>1.937313e+07</td>\n",
              "      <td>1.338459e+07</td>\n",
              "      <td>5.719097e+06</td>\n",
              "      <td>551693.650000</td>\n",
              "      <td>2018.000000</td>\n",
              "      <td>12.000000</td>\n",
              "      <td>31.000000</td>\n",
              "    </tr>\n",
              "  </tbody>\n",
              "</table>\n",
              "</div>\n",
              "      <button class=\"colab-df-convert\" onclick=\"convertToInteractive('df-3948e8d0-cb53-4403-84c1-c877a4c15399')\"\n",
              "              title=\"Convert this dataframe to an interactive table.\"\n",
              "              style=\"display:none;\">\n",
              "        \n",
              "  <svg xmlns=\"http://www.w3.org/2000/svg\" height=\"24px\"viewBox=\"0 0 24 24\"\n",
              "       width=\"24px\">\n",
              "    <path d=\"M0 0h24v24H0V0z\" fill=\"none\"/>\n",
              "    <path d=\"M18.56 5.44l.94 2.06.94-2.06 2.06-.94-2.06-.94-.94-2.06-.94 2.06-2.06.94zm-11 1L8.5 8.5l.94-2.06 2.06-.94-2.06-.94L8.5 2.5l-.94 2.06-2.06.94zm10 10l.94 2.06.94-2.06 2.06-.94-2.06-.94-.94-2.06-.94 2.06-2.06.94z\"/><path d=\"M17.41 7.96l-1.37-1.37c-.4-.4-.92-.59-1.43-.59-.52 0-1.04.2-1.43.59L10.3 9.45l-7.72 7.72c-.78.78-.78 2.05 0 2.83L4 21.41c.39.39.9.59 1.41.59.51 0 1.02-.2 1.41-.59l7.78-7.78 2.81-2.81c.8-.78.8-2.07 0-2.86zM5.41 20L4 18.59l7.72-7.72 1.47 1.35L5.41 20z\"/>\n",
              "  </svg>\n",
              "      </button>\n",
              "      \n",
              "  <style>\n",
              "    .colab-df-container {\n",
              "      display:flex;\n",
              "      flex-wrap:wrap;\n",
              "      gap: 12px;\n",
              "    }\n",
              "\n",
              "    .colab-df-convert {\n",
              "      background-color: #E8F0FE;\n",
              "      border: none;\n",
              "      border-radius: 50%;\n",
              "      cursor: pointer;\n",
              "      display: none;\n",
              "      fill: #1967D2;\n",
              "      height: 32px;\n",
              "      padding: 0 0 0 0;\n",
              "      width: 32px;\n",
              "    }\n",
              "\n",
              "    .colab-df-convert:hover {\n",
              "      background-color: #E2EBFA;\n",
              "      box-shadow: 0px 1px 2px rgba(60, 64, 67, 0.3), 0px 1px 3px 1px rgba(60, 64, 67, 0.15);\n",
              "      fill: #174EA6;\n",
              "    }\n",
              "\n",
              "    [theme=dark] .colab-df-convert {\n",
              "      background-color: #3B4455;\n",
              "      fill: #D2E3FC;\n",
              "    }\n",
              "\n",
              "    [theme=dark] .colab-df-convert:hover {\n",
              "      background-color: #434B5C;\n",
              "      box-shadow: 0px 1px 3px 1px rgba(0, 0, 0, 0.15);\n",
              "      filter: drop-shadow(0px 1px 2px rgba(0, 0, 0, 0.3));\n",
              "      fill: #FFFFFF;\n",
              "    }\n",
              "  </style>\n",
              "\n",
              "      <script>\n",
              "        const buttonEl =\n",
              "          document.querySelector('#df-3948e8d0-cb53-4403-84c1-c877a4c15399 button.colab-df-convert');\n",
              "        buttonEl.style.display =\n",
              "          google.colab.kernel.accessAllowed ? 'block' : 'none';\n",
              "\n",
              "        async function convertToInteractive(key) {\n",
              "          const element = document.querySelector('#df-3948e8d0-cb53-4403-84c1-c877a4c15399');\n",
              "          const dataTable =\n",
              "            await google.colab.kernel.invokeFunction('convertToInteractive',\n",
              "                                                     [key], {});\n",
              "          if (!dataTable) return;\n",
              "\n",
              "          const docLinkHtml = 'Like what you see? Visit the ' +\n",
              "            '<a target=\"_blank\" href=https://colab.research.google.com/notebooks/data_table.ipynb>data table notebook</a>'\n",
              "            + ' to learn more about interactive tables.';\n",
              "          element.innerHTML = '';\n",
              "          dataTable['output_type'] = 'display_data';\n",
              "          await google.colab.output.renderOutput(dataTable, element);\n",
              "          const docLink = document.createElement('div');\n",
              "          docLink.innerHTML = docLinkHtml;\n",
              "          element.appendChild(docLink);\n",
              "        }\n",
              "      </script>\n",
              "    </div>\n",
              "  </div>\n",
              "  "
            ],
            "text/plain": [
              "       AveragePrice  Total Volume  ...         month           day\n",
              "count  18249.000000  1.824900e+04  ...  18249.000000  18249.000000\n",
              "mean       1.405978  8.506440e+05  ...      6.177215     15.662612\n",
              "std        0.402677  3.453545e+06  ...      3.534130      8.776281\n",
              "min        0.440000  8.456000e+01  ...      1.000000      1.000000\n",
              "25%        1.100000  1.083858e+04  ...      3.000000      8.000000\n",
              "50%        1.370000  1.073768e+05  ...      6.000000     16.000000\n",
              "75%        1.660000  4.329623e+05  ...      9.000000     23.000000\n",
              "max        3.250000  6.250565e+07  ...     12.000000     31.000000\n",
              "\n",
              "[8 rows x 12 columns]"
            ]
          },
          "metadata": {},
          "execution_count": 294
        }
      ]
    },
    {
      "cell_type": "markdown",
      "source": [
        "with above information,we can see there no missing values in any column and we can also observe the fact that many columns contains a minimum value of even 0 value,which means the value can even go with zero amount as well."
      ],
      "metadata": {
        "id": "uVXdaAn3cwiK"
      }
    },
    {
      "cell_type": "code",
      "source": [
        "#to check whether any null values present in dataframe\n",
        "df.isnull().sum()"
      ],
      "metadata": {
        "colab": {
          "base_uri": "https://localhost:8080/"
        },
        "id": "szZ3pmr0dA0h",
        "outputId": "0c31a5e2-af30-4800-a498-f92f825ea69e"
      },
      "execution_count": 295,
      "outputs": [
        {
          "output_type": "execute_result",
          "data": {
            "text/plain": [
              "AveragePrice    0\n",
              "Total Volume    0\n",
              "4046            0\n",
              "4225            0\n",
              "4770            0\n",
              "Total Bags      0\n",
              "Small Bags      0\n",
              "Large Bags      0\n",
              "XLarge Bags     0\n",
              "type            0\n",
              "year            0\n",
              "region          0\n",
              "month           0\n",
              "day             0\n",
              "dtype: int64"
            ]
          },
          "metadata": {},
          "execution_count": 295
        }
      ]
    },
    {
      "cell_type": "code",
      "source": [
        "df.columns"
      ],
      "metadata": {
        "colab": {
          "base_uri": "https://localhost:8080/"
        },
        "id": "hBNTOgfldGSB",
        "outputId": "f657d564-b208-45c1-c477-5e7b6d3bdc3d"
      },
      "execution_count": 296,
      "outputs": [
        {
          "output_type": "execute_result",
          "data": {
            "text/plain": [
              "Index(['AveragePrice', 'Total Volume', '4046', '4225', '4770', 'Total Bags',\n",
              "       'Small Bags', 'Large Bags', 'XLarge Bags', 'type', 'year', 'region',\n",
              "       'month', 'day'],\n",
              "      dtype='object')"
            ]
          },
          "metadata": {},
          "execution_count": 296
        }
      ]
    },
    {
      "cell_type": "code",
      "source": [
        "df.duplicated().sum()"
      ],
      "metadata": {
        "colab": {
          "base_uri": "https://localhost:8080/"
        },
        "id": "a-7vNbsTgnOj",
        "outputId": "733c164b-1bb0-4e49-cc84-07b523963ba6"
      },
      "execution_count": 297,
      "outputs": [
        {
          "output_type": "execute_result",
          "data": {
            "text/plain": [
              "0"
            ]
          },
          "metadata": {},
          "execution_count": 297
        }
      ]
    },
    {
      "cell_type": "markdown",
      "source": [
        "there are no duplicate records in dataset"
      ],
      "metadata": {
        "id": "KAkWRkvTgru7"
      }
    },
    {
      "cell_type": "markdown",
      "source": [
        "## Visualization"
      ],
      "metadata": {
        "id": "PH9NONGUdS7L"
      }
    },
    {
      "cell_type": "code",
      "source": [
        "#visualize the histogram of wins\n",
        "plt.hist(df['AveragePrice'])\n",
        "plt.xlabel('average price')\n",
        "plt.title('histogram of avg price')"
      ],
      "metadata": {
        "colab": {
          "base_uri": "https://localhost:8080/",
          "height": 313
        },
        "id": "rCXDHj7pdJTx",
        "outputId": "ae11c8d4-bce8-42fa-d601-cdffbdd919e4"
      },
      "execution_count": 298,
      "outputs": [
        {
          "output_type": "execute_result",
          "data": {
            "text/plain": [
              "Text(0.5, 1.0, 'histogram of avg price')"
            ]
          },
          "metadata": {},
          "execution_count": 298
        },
        {
          "output_type": "display_data",
          "data": {
            "image/png": "[encoded data removed]",
            "text/plain": [
              "<Figure size 432x288 with 1 Axes>"
            ]
          },
          "metadata": {
            "needs_background": "light"
          }
        }
      ]
    },
    {
      "cell_type": "markdown",
      "source": [
        "So,values in the range of 1 to 1.5 are appearing most of the times compared with other values"
      ],
      "metadata": {
        "id": "XARNEQgedj_L"
      }
    },
    {
      "cell_type": "code",
      "source": [
        "#usng the lineplot to see the average price variance on different months\n",
        "\n",
        "plt.figure(figsize=(14,8))\n",
        "sns.lineplot(x=\"month\", y=\"AveragePrice\", hue='type', data=df)\n",
        "plt.show()"
      ],
      "metadata": {
        "colab": {
          "base_uri": "https://localhost:8080/",
          "height": 496
        },
        "id": "eteOSwcLdjBL",
        "outputId": "79456587-6d8f-459f-8f2b-ec66971ab270"
      },
      "execution_count": 299,
      "outputs": [
        {
          "output_type": "display_data",
          "data": {
            "image/png": "[encoded data removed]",
            "text/plain": [
              "<Figure size 1008x576 with 1 Axes>"
            ]
          },
          "metadata": {
            "needs_background": "light"
          }
        }
      ]
    },
    {
      "cell_type": "markdown",
      "source": [
        "So,it seems like the avergae price goes to peak in month of 8(August),\n",
        "9(September) and 10(october) and also the average price is much higher for organic type when compared with conventional type"
      ],
      "metadata": {
        "id": "1jl4OTbMeyXs"
      }
    },
    {
      "cell_type": "code",
      "source": [
        "plt.figure(figsize=(14,8))\n",
        "sns.lineplot(x=\"day\", y=\"AveragePrice\", hue='type', data=df)\n",
        "plt.show()"
      ],
      "metadata": {
        "colab": {
          "base_uri": "https://localhost:8080/",
          "height": 496
        },
        "id": "JVzkf4dKdc_x",
        "outputId": "83277393-e294-4a7a-c34d-4175d207d9ce"
      },
      "execution_count": 300,
      "outputs": [
        {
          "output_type": "display_data",
          "data": {
            "image/png": "[encoded data removed]",
            "text/plain": [
              "<Figure size 1008x576 with 1 Axes>"
            ]
          },
          "metadata": {
            "needs_background": "light"
          }
        }
      ]
    },
    {
      "cell_type": "markdown",
      "source": [
        "So,there is no dependency on which day the average price will go up or down."
      ],
      "metadata": {
        "id": "TjMC_iVTfopU"
      }
    },
    {
      "cell_type": "code",
      "source": [
        "import warnings\n",
        "warnings.filterwarnings('ignore') #to remove warning messages"
      ],
      "metadata": {
        "id": "9XweK_nDf-mo"
      },
      "execution_count": 301,
      "outputs": []
    },
    {
      "cell_type": "code",
      "source": [
        "#with year\n",
        "\n",
        "plt.figure(figsize=(14,8))\n",
        "sns.lineplot(x=\"year\", y=\"AveragePrice\", hue='type', data=df)\n",
        "plt.show()"
      ],
      "metadata": {
        "colab": {
          "base_uri": "https://localhost:8080/",
          "height": 496
        },
        "id": "u5zzd2UShPgK",
        "outputId": "8a2bffa6-f528-41bd-bed8-3244da05837e"
      },
      "execution_count": 302,
      "outputs": [
        {
          "output_type": "display_data",
          "data": {
            "image/png": "[encoded data removed]",
            "text/plain": [
              "<Figure size 1008x576 with 1 Axes>"
            ]
          },
          "metadata": {
            "needs_background": "light"
          }
        }
      ]
    },
    {
      "cell_type": "markdown",
      "source": [
        "With above observation,we can say that the average price was at its peak in year 2017 for types(conventional and organc) even after having all the ups and downs from last two years."
      ],
      "metadata": {
        "id": "zZGesiK7i640"
      }
    },
    {
      "cell_type": "code",
      "source": [
        "df['region'].value_counts().sort_values()"
      ],
      "metadata": {
        "colab": {
          "base_uri": "https://localhost:8080/"
        },
        "id": "rOAeLPDGjgfb",
        "outputId": "55aaab28-230c-4859-8e36-80c6a4cb47f6"
      },
      "execution_count": 303,
      "outputs": [
        {
          "output_type": "execute_result",
          "data": {
            "text/plain": [
              "WestTexNewMexico       335\n",
              "Denver                 338\n",
              "Houston                338\n",
              "Louisville             338\n",
              "Albany                 338\n",
              "SanFrancisco           338\n",
              "LosAngeles             338\n",
              "NewOrleansMobile       338\n",
              "Tampa                  338\n",
              "Nashville              338\n",
              "Southeast              338\n",
              "RichmondNorfolk        338\n",
              "GreatLakes             338\n",
              "Charlotte              338\n",
              "Syracuse               338\n",
              "LasVegas               338\n",
              "Indianapolis           338\n",
              "SanDiego               338\n",
              "Seattle                338\n",
              "Chicago                338\n",
              "Northeast              338\n",
              "Boise                  338\n",
              "Jacksonville           338\n",
              "SouthCentral           338\n",
              "Portland               338\n",
              "DallasFtWorth          338\n",
              "Spokane                338\n",
              "Atlanta                338\n",
              "Philadelphia           338\n",
              "Boston                 338\n",
              "HarrisburgScranton     338\n",
              "West                   338\n",
              "PhoenixTucson          338\n",
              "NorthernNewEngland     338\n",
              "BaltimoreWashington    338\n",
              "RaleighGreensboro      338\n",
              "NewYork                338\n",
              "Detroit                338\n",
              "BuffaloRochester       338\n",
              "California             338\n",
              "TotalUS                338\n",
              "Midsouth               338\n",
              "Plains                 338\n",
              "Columbus               338\n",
              "Sacramento             338\n",
              "CincinnatiDayton       338\n",
              "SouthCarolina          338\n",
              "Roanoke                338\n",
              "StLouis                338\n",
              "MiamiFtLauderdale      338\n",
              "GrandRapids            338\n",
              "Pittsburgh             338\n",
              "Orlando                338\n",
              "HartfordSpringfield    338\n",
              "Name: region, dtype: int64"
            ]
          },
          "metadata": {},
          "execution_count": 303
        }
      ]
    },
    {
      "cell_type": "markdown",
      "source": [
        "so,there are equal number of records of all unique region types"
      ],
      "metadata": {
        "id": "1NwotG_9j7YL"
      }
    },
    {
      "cell_type": "code",
      "source": [
        "df.columns"
      ],
      "metadata": {
        "colab": {
          "base_uri": "https://localhost:8080/"
        },
        "id": "jnXhn7mIkT9C",
        "outputId": "3d01a34a-da1d-4046-a7eb-1617fb03a530"
      },
      "execution_count": 304,
      "outputs": [
        {
          "output_type": "execute_result",
          "data": {
            "text/plain": [
              "Index(['AveragePrice', 'Total Volume', '4046', '4225', '4770', 'Total Bags',\n",
              "       'Small Bags', 'Large Bags', 'XLarge Bags', 'type', 'year', 'region',\n",
              "       'month', 'day'],\n",
              "      dtype='object')"
            ]
          },
          "metadata": {},
          "execution_count": 304
        }
      ]
    },
    {
      "cell_type": "code",
      "source": [
        "#Using a pairlot with regression method\n",
        "\n",
        "sns.pairplot(df, x_vars=['Total Volume', '4046','4225','4770'], y_vars='AveragePrice', height=6, aspect=0.6, kind='reg')"
      ],
      "metadata": {
        "colab": {
          "base_uri": "https://localhost:8080/",
          "height": 462
        },
        "id": "VRoNPP7Ej1KT",
        "outputId": "fc097678-3982-4732-d924-ac60455abb64"
      },
      "execution_count": 305,
      "outputs": [
        {
          "output_type": "execute_result",
          "data": {
            "text/plain": [
              "<seaborn.axisgrid.PairGrid at 0x7fd9c3b84d10>"
            ]
          },
          "metadata": {},
          "execution_count": 305
        },
        {
          "output_type": "display_data",
          "data": {
            "image/png": "[encoded data removed]",
            "text/plain": [
              "<Figure size 1036.8x432 with 4 Axes>"
            ]
          },
          "metadata": {
            "needs_background": "light"
          }
        }
      ]
    },
    {
      "cell_type": "code",
      "source": [
        "sns.pairplot(df, x_vars=['Total Bags', 'Small Bags','Large Bags','XLarge Bags'], y_vars='AveragePrice', height=6, aspect=0.6, kind='reg')"
      ],
      "metadata": {
        "colab": {
          "base_uri": "https://localhost:8080/",
          "height": 462
        },
        "id": "n4_OVg-WhWtY",
        "outputId": "21f6dbb1-cbce-41a0-9668-7073d213ae18"
      },
      "execution_count": 306,
      "outputs": [
        {
          "output_type": "execute_result",
          "data": {
            "text/plain": [
              "<seaborn.axisgrid.PairGrid at 0x7fd9bd71ec90>"
            ]
          },
          "metadata": {},
          "execution_count": 306
        },
        {
          "output_type": "display_data",
          "data": {
            "image/png": "[encoded data removed]",
            "text/plain": [
              "<Figure size 1036.8x432 with 4 Axes>"
            ]
          },
          "metadata": {
            "needs_background": "light"
          }
        }
      ]
    },
    {
      "cell_type": "markdown",
      "source": [
        "looks like all columns are not at all in good shape to show any kind of linearity with target variable(averageprice)."
      ],
      "metadata": {
        "id": "sFwxsuKWlOJj"
      }
    },
    {
      "cell_type": "code",
      "source": [
        "#with region and average price by considering the year as hue\n",
        "fact_plt = sns.factorplot('AveragePrice','region',data=df,hue='year',size=20,aspect=0.5,\n",
        "                  join = False \n",
        "              )"
      ],
      "metadata": {
        "colab": {
          "base_uri": "https://localhost:8080/",
          "height": 1000
        },
        "id": "vT5xhBVPk--K",
        "outputId": "3243a652-4cf1-4561-ccac-e915f4196a9c"
      },
      "execution_count": 307,
      "outputs": [
        {
          "output_type": "display_data",
          "data": {
            "image/png": "[encoded data removed]",
            "text/plain": [
              "<Figure size 781.375x1440 with 1 Axes>"
            ]
          },
          "metadata": {
            "needs_background": "light"
          }
        }
      ]
    },
    {
      "cell_type": "markdown",
      "source": [
        "So,with ths we can say that the average price was went at its peak in some regions like SanFrancisco,HartfortSpringfield,charlotte,NewYork \n",
        "compared to other regions,also in year 2017 the price was went high in all regions with that there was a lot of demand on Avacado during the year 2017."
      ],
      "metadata": {
        "id": "SxdYwhqLosg8"
      }
    },
    {
      "cell_type": "code",
      "source": [
        "#Since there are objective type columns,so we can use Label encoder method\n",
        "\n",
        "from sklearn.preprocessing import LabelEncoder\n",
        "\n",
        "df['type'] = LabelEncoder().fit_transform(df['type'])\n",
        "df['region'] = LabelEncoder().fit_transform(df['region'])"
      ],
      "metadata": {
        "id": "2BA4lyX3p-r6"
      },
      "execution_count": 309,
      "outputs": []
    },
    {
      "cell_type": "code",
      "source": [
        "df.head()"
      ],
      "metadata": {
        "colab": {
          "base_uri": "https://localhost:8080/",
          "height": 206
        },
        "id": "VwmzD5scqOv7",
        "outputId": "a560d43e-b0ab-418b-d3a4-1930dc38cfb5"
      },
      "execution_count": 310,
      "outputs": [
        {
          "output_type": "execute_result",
          "data": {
            "text/html": [
              "\n",
              "  <div id=\"df-f29c2d1e-f9fb-4c47-9a0e-814f3bd5a773\">\n",
              "    <div class=\"colab-df-container\">\n",
              "      <div>\n",
              "<style scoped>\n",
              "    .dataframe tbody tr th:only-of-type {\n",
              "        vertical-align: middle;\n",
              "    }\n",
              "\n",
              "    .dataframe tbody tr th {\n",
              "        vertical-align: top;\n",
              "    }\n",
              "\n",
              "    .dataframe thead th {\n",
              "        text-align: right;\n",
              "    }\n",
              "</style>\n",
              "<table border=\"1\" class=\"dataframe\">\n",
              "  <thead>\n",
              "    <tr style=\"text-align: right;\">\n",
              "      <th></th>\n",
              "      <th>AveragePrice</th>\n",
              "      <th>Total Volume</th>\n",
              "      <th>4046</th>\n",
              "      <th>4225</th>\n",
              "      <th>4770</th>\n",
              "      <th>Total Bags</th>\n",
              "      <th>Small Bags</th>\n",
              "      <th>Large Bags</th>\n",
              "      <th>XLarge Bags</th>\n",
              "      <th>type</th>\n",
              "      <th>year</th>\n",
              "      <th>region</th>\n",
              "      <th>month</th>\n",
              "      <th>day</th>\n",
              "    </tr>\n",
              "  </thead>\n",
              "  <tbody>\n",
              "    <tr>\n",
              "      <th>0</th>\n",
              "      <td>1.33</td>\n",
              "      <td>64236.62</td>\n",
              "      <td>1036.74</td>\n",
              "      <td>54454.85</td>\n",
              "      <td>48.16</td>\n",
              "      <td>8696.87</td>\n",
              "      <td>8603.62</td>\n",
              "      <td>93.25</td>\n",
              "      <td>0.0</td>\n",
              "      <td>0</td>\n",
              "      <td>2015</td>\n",
              "      <td>0</td>\n",
              "      <td>12</td>\n",
              "      <td>27</td>\n",
              "    </tr>\n",
              "    <tr>\n",
              "      <th>1</th>\n",
              "      <td>1.35</td>\n",
              "      <td>54876.98</td>\n",
              "      <td>674.28</td>\n",
              "      <td>44638.81</td>\n",
              "      <td>58.33</td>\n",
              "      <td>9505.56</td>\n",
              "      <td>9408.07</td>\n",
              "      <td>97.49</td>\n",
              "      <td>0.0</td>\n",
              "      <td>0</td>\n",
              "      <td>2015</td>\n",
              "      <td>0</td>\n",
              "      <td>12</td>\n",
              "      <td>20</td>\n",
              "    </tr>\n",
              "    <tr>\n",
              "      <th>2</th>\n",
              "      <td>0.93</td>\n",
              "      <td>118220.22</td>\n",
              "      <td>794.70</td>\n",
              "      <td>109149.67</td>\n",
              "      <td>130.50</td>\n",
              "      <td>8145.35</td>\n",
              "      <td>8042.21</td>\n",
              "      <td>103.14</td>\n",
              "      <td>0.0</td>\n",
              "      <td>0</td>\n",
              "      <td>2015</td>\n",
              "      <td>0</td>\n",
              "      <td>12</td>\n",
              "      <td>13</td>\n",
              "    </tr>\n",
              "    <tr>\n",
              "      <th>3</th>\n",
              "      <td>1.08</td>\n",
              "      <td>78992.15</td>\n",
              "      <td>1132.00</td>\n",
              "      <td>71976.41</td>\n",
              "      <td>72.58</td>\n",
              "      <td>5811.16</td>\n",
              "      <td>5677.40</td>\n",
              "      <td>133.76</td>\n",
              "      <td>0.0</td>\n",
              "      <td>0</td>\n",
              "      <td>2015</td>\n",
              "      <td>0</td>\n",
              "      <td>12</td>\n",
              "      <td>6</td>\n",
              "    </tr>\n",
              "    <tr>\n",
              "      <th>4</th>\n",
              "      <td>1.28</td>\n",
              "      <td>51039.60</td>\n",
              "      <td>941.48</td>\n",
              "      <td>43838.39</td>\n",
              "      <td>75.78</td>\n",
              "      <td>6183.95</td>\n",
              "      <td>5986.26</td>\n",
              "      <td>197.69</td>\n",
              "      <td>0.0</td>\n",
              "      <td>0</td>\n",
              "      <td>2015</td>\n",
              "      <td>0</td>\n",
              "      <td>11</td>\n",
              "      <td>29</td>\n",
              "    </tr>\n",
              "  </tbody>\n",
              "</table>\n",
              "</div>\n",
              "      <button class=\"colab-df-convert\" onclick=\"convertToInteractive('df-f29c2d1e-f9fb-4c47-9a0e-814f3bd5a773')\"\n",
              "              title=\"Convert this dataframe to an interactive table.\"\n",
              "              style=\"display:none;\">\n",
              "        \n",
              "  <svg xmlns=\"http://www.w3.org/2000/svg\" height=\"24px\"viewBox=\"0 0 24 24\"\n",
              "       width=\"24px\">\n",
              "    <path d=\"M0 0h24v24H0V0z\" fill=\"none\"/>\n",
              "    <path d=\"M18.56 5.44l.94 2.06.94-2.06 2.06-.94-2.06-.94-.94-2.06-.94 2.06-2.06.94zm-11 1L8.5 8.5l.94-2.06 2.06-.94-2.06-.94L8.5 2.5l-.94 2.06-2.06.94zm10 10l.94 2.06.94-2.06 2.06-.94-2.06-.94-.94-2.06-.94 2.06-2.06.94z\"/><path d=\"M17.41 7.96l-1.37-1.37c-.4-.4-.92-.59-1.43-.59-.52 0-1.04.2-1.43.59L10.3 9.45l-7.72 7.72c-.78.78-.78 2.05 0 2.83L4 21.41c.39.39.9.59 1.41.59.51 0 1.02-.2 1.41-.59l7.78-7.78 2.81-2.81c.8-.78.8-2.07 0-2.86zM5.41 20L4 18.59l7.72-7.72 1.47 1.35L5.41 20z\"/>\n",
              "  </svg>\n",
              "      </button>\n",
              "      \n",
              "  <style>\n",
              "    .colab-df-container {\n",
              "      display:flex;\n",
              "      flex-wrap:wrap;\n",
              "      gap: 12px;\n",
              "    }\n",
              "\n",
              "    .colab-df-convert {\n",
              "      background-color: #E8F0FE;\n",
              "      border: none;\n",
              "      border-radius: 50%;\n",
              "      cursor: pointer;\n",
              "      display: none;\n",
              "      fill: #1967D2;\n",
              "      height: 32px;\n",
              "      padding: 0 0 0 0;\n",
              "      width: 32px;\n",
              "    }\n",
              "\n",
              "    .colab-df-convert:hover {\n",
              "      background-color: #E2EBFA;\n",
              "      box-shadow: 0px 1px 2px rgba(60, 64, 67, 0.3), 0px 1px 3px 1px rgba(60, 64, 67, 0.15);\n",
              "      fill: #174EA6;\n",
              "    }\n",
              "\n",
              "    [theme=dark] .colab-df-convert {\n",
              "      background-color: #3B4455;\n",
              "      fill: #D2E3FC;\n",
              "    }\n",
              "\n",
              "    [theme=dark] .colab-df-convert:hover {\n",
              "      background-color: #434B5C;\n",
              "      box-shadow: 0px 1px 3px 1px rgba(0, 0, 0, 0.15);\n",
              "      filter: drop-shadow(0px 1px 2px rgba(0, 0, 0, 0.3));\n",
              "      fill: #FFFFFF;\n",
              "    }\n",
              "  </style>\n",
              "\n",
              "      <script>\n",
              "        const buttonEl =\n",
              "          document.querySelector('#df-f29c2d1e-f9fb-4c47-9a0e-814f3bd5a773 button.colab-df-convert');\n",
              "        buttonEl.style.display =\n",
              "          google.colab.kernel.accessAllowed ? 'block' : 'none';\n",
              "\n",
              "        async function convertToInteractive(key) {\n",
              "          const element = document.querySelector('#df-f29c2d1e-f9fb-4c47-9a0e-814f3bd5a773');\n",
              "          const dataTable =\n",
              "            await google.colab.kernel.invokeFunction('convertToInteractive',\n",
              "                                                     [key], {});\n",
              "          if (!dataTable) return;\n",
              "\n",
              "          const docLinkHtml = 'Like what you see? Visit the ' +\n",
              "            '<a target=\"_blank\" href=https://colab.research.google.com/notebooks/data_table.ipynb>data table notebook</a>'\n",
              "            + ' to learn more about interactive tables.';\n",
              "          element.innerHTML = '';\n",
              "          dataTable['output_type'] = 'display_data';\n",
              "          await google.colab.output.renderOutput(dataTable, element);\n",
              "          const docLink = document.createElement('div');\n",
              "          docLink.innerHTML = docLinkHtml;\n",
              "          element.appendChild(docLink);\n",
              "        }\n",
              "      </script>\n",
              "    </div>\n",
              "  </div>\n",
              "  "
            ],
            "text/plain": [
              "   AveragePrice  Total Volume     4046       4225  ...  year  region  month  day\n",
              "0          1.33      64236.62  1036.74   54454.85  ...  2015       0     12   27\n",
              "1          1.35      54876.98   674.28   44638.81  ...  2015       0     12   20\n",
              "2          0.93     118220.22   794.70  109149.67  ...  2015       0     12   13\n",
              "3          1.08      78992.15  1132.00   71976.41  ...  2015       0     12    6\n",
              "4          1.28      51039.60   941.48   43838.39  ...  2015       0     11   29\n",
              "\n",
              "[5 rows x 14 columns]"
            ]
          },
          "metadata": {},
          "execution_count": 310
        }
      ]
    },
    {
      "cell_type": "markdown",
      "source": [
        "## Correlation"
      ],
      "metadata": {
        "id": "yRSGVBPbpxzO"
      }
    },
    {
      "cell_type": "code",
      "source": [
        "df.corr()"
      ],
      "metadata": {
        "colab": {
          "base_uri": "https://localhost:8080/",
          "height": 570
        },
        "id": "9ZFAY_kQl66R",
        "outputId": "9b8d5acd-4be9-4dcd-a717-28d82f11bdff"
      },
      "execution_count": 311,
      "outputs": [
        {
          "output_type": "execute_result",
          "data": {
            "text/html": [
              "\n",
              "  <div id=\"df-83b50667-b79f-44c5-a1d5-6cb03b0836c0\">\n",
              "    <div class=\"colab-df-container\">\n",
              "      <div>\n",
              "<style scoped>\n",
              "    .dataframe tbody tr th:only-of-type {\n",
              "        vertical-align: middle;\n",
              "    }\n",
              "\n",
              "    .dataframe tbody tr th {\n",
              "        vertical-align: top;\n",
              "    }\n",
              "\n",
              "    .dataframe thead th {\n",
              "        text-align: right;\n",
              "    }\n",
              "</style>\n",
              "<table border=\"1\" class=\"dataframe\">\n",
              "  <thead>\n",
              "    <tr style=\"text-align: right;\">\n",
              "      <th></th>\n",
              "      <th>AveragePrice</th>\n",
              "      <th>Total Volume</th>\n",
              "      <th>4046</th>\n",
              "      <th>4225</th>\n",
              "      <th>4770</th>\n",
              "      <th>Total Bags</th>\n",
              "      <th>Small Bags</th>\n",
              "      <th>Large Bags</th>\n",
              "      <th>XLarge Bags</th>\n",
              "      <th>type</th>\n",
              "      <th>year</th>\n",
              "      <th>region</th>\n",
              "      <th>month</th>\n",
              "      <th>day</th>\n",
              "    </tr>\n",
              "  </thead>\n",
              "  <tbody>\n",
              "    <tr>\n",
              "      <th>AveragePrice</th>\n",
              "      <td>1.000000</td>\n",
              "      <td>-0.192752</td>\n",
              "      <td>-0.208317</td>\n",
              "      <td>-0.172928</td>\n",
              "      <td>-0.179446</td>\n",
              "      <td>-0.177088</td>\n",
              "      <td>-0.174730</td>\n",
              "      <td>-0.172940</td>\n",
              "      <td>-0.117592</td>\n",
              "      <td>0.615845</td>\n",
              "      <td>0.093197</td>\n",
              "      <td>-0.011716</td>\n",
              "      <td>0.162409</td>\n",
              "      <td>0.027386</td>\n",
              "    </tr>\n",
              "    <tr>\n",
              "      <th>Total Volume</th>\n",
              "      <td>-0.192752</td>\n",
              "      <td>1.000000</td>\n",
              "      <td>0.977863</td>\n",
              "      <td>0.974181</td>\n",
              "      <td>0.872202</td>\n",
              "      <td>0.963047</td>\n",
              "      <td>0.967238</td>\n",
              "      <td>0.880640</td>\n",
              "      <td>0.747157</td>\n",
              "      <td>-0.232434</td>\n",
              "      <td>0.017193</td>\n",
              "      <td>0.174176</td>\n",
              "      <td>-0.024689</td>\n",
              "      <td>-0.009747</td>\n",
              "    </tr>\n",
              "    <tr>\n",
              "      <th>4046</th>\n",
              "      <td>-0.208317</td>\n",
              "      <td>0.977863</td>\n",
              "      <td>1.000000</td>\n",
              "      <td>0.926110</td>\n",
              "      <td>0.833389</td>\n",
              "      <td>0.920057</td>\n",
              "      <td>0.925280</td>\n",
              "      <td>0.838645</td>\n",
              "      <td>0.699377</td>\n",
              "      <td>-0.225819</td>\n",
              "      <td>0.003353</td>\n",
              "      <td>0.192073</td>\n",
              "      <td>-0.025803</td>\n",
              "      <td>-0.010159</td>\n",
              "    </tr>\n",
              "    <tr>\n",
              "      <th>4225</th>\n",
              "      <td>-0.172928</td>\n",
              "      <td>0.974181</td>\n",
              "      <td>0.926110</td>\n",
              "      <td>1.000000</td>\n",
              "      <td>0.887855</td>\n",
              "      <td>0.905787</td>\n",
              "      <td>0.916031</td>\n",
              "      <td>0.810015</td>\n",
              "      <td>0.688809</td>\n",
              "      <td>-0.232289</td>\n",
              "      <td>-0.009559</td>\n",
              "      <td>0.145726</td>\n",
              "      <td>-0.022108</td>\n",
              "      <td>-0.012393</td>\n",
              "    </tr>\n",
              "    <tr>\n",
              "      <th>4770</th>\n",
              "      <td>-0.179446</td>\n",
              "      <td>0.872202</td>\n",
              "      <td>0.833389</td>\n",
              "      <td>0.887855</td>\n",
              "      <td>1.000000</td>\n",
              "      <td>0.792314</td>\n",
              "      <td>0.802733</td>\n",
              "      <td>0.698471</td>\n",
              "      <td>0.679861</td>\n",
              "      <td>-0.210027</td>\n",
              "      <td>-0.036531</td>\n",
              "      <td>0.095252</td>\n",
              "      <td>-0.033424</td>\n",
              "      <td>-0.009009</td>\n",
              "    </tr>\n",
              "    <tr>\n",
              "      <th>Total Bags</th>\n",
              "      <td>-0.177088</td>\n",
              "      <td>0.963047</td>\n",
              "      <td>0.920057</td>\n",
              "      <td>0.905787</td>\n",
              "      <td>0.792314</td>\n",
              "      <td>1.000000</td>\n",
              "      <td>0.994335</td>\n",
              "      <td>0.943009</td>\n",
              "      <td>0.804233</td>\n",
              "      <td>-0.217788</td>\n",
              "      <td>0.071552</td>\n",
              "      <td>0.175256</td>\n",
              "      <td>-0.022724</td>\n",
              "      <td>-0.004988</td>\n",
              "    </tr>\n",
              "    <tr>\n",
              "      <th>Small Bags</th>\n",
              "      <td>-0.174730</td>\n",
              "      <td>0.967238</td>\n",
              "      <td>0.925280</td>\n",
              "      <td>0.916031</td>\n",
              "      <td>0.802733</td>\n",
              "      <td>0.994335</td>\n",
              "      <td>1.000000</td>\n",
              "      <td>0.902589</td>\n",
              "      <td>0.806845</td>\n",
              "      <td>-0.220535</td>\n",
              "      <td>0.063915</td>\n",
              "      <td>0.164702</td>\n",
              "      <td>-0.023126</td>\n",
              "      <td>-0.003870</td>\n",
              "    </tr>\n",
              "    <tr>\n",
              "      <th>Large Bags</th>\n",
              "      <td>-0.172940</td>\n",
              "      <td>0.880640</td>\n",
              "      <td>0.838645</td>\n",
              "      <td>0.810015</td>\n",
              "      <td>0.698471</td>\n",
              "      <td>0.943009</td>\n",
              "      <td>0.902589</td>\n",
              "      <td>1.000000</td>\n",
              "      <td>0.710858</td>\n",
              "      <td>-0.193177</td>\n",
              "      <td>0.087891</td>\n",
              "      <td>0.198768</td>\n",
              "      <td>-0.020187</td>\n",
              "      <td>-0.008352</td>\n",
              "    </tr>\n",
              "    <tr>\n",
              "      <th>XLarge Bags</th>\n",
              "      <td>-0.117592</td>\n",
              "      <td>0.747157</td>\n",
              "      <td>0.699377</td>\n",
              "      <td>0.688809</td>\n",
              "      <td>0.679861</td>\n",
              "      <td>0.804233</td>\n",
              "      <td>0.806845</td>\n",
              "      <td>0.710858</td>\n",
              "      <td>1.000000</td>\n",
              "      <td>-0.175483</td>\n",
              "      <td>0.081033</td>\n",
              "      <td>0.082281</td>\n",
              "      <td>-0.012969</td>\n",
              "      <td>0.000319</td>\n",
              "    </tr>\n",
              "    <tr>\n",
              "      <th>type</th>\n",
              "      <td>0.615845</td>\n",
              "      <td>-0.232434</td>\n",
              "      <td>-0.225819</td>\n",
              "      <td>-0.232289</td>\n",
              "      <td>-0.210027</td>\n",
              "      <td>-0.217788</td>\n",
              "      <td>-0.220535</td>\n",
              "      <td>-0.193177</td>\n",
              "      <td>-0.175483</td>\n",
              "      <td>1.000000</td>\n",
              "      <td>-0.000032</td>\n",
              "      <td>-0.000280</td>\n",
              "      <td>-0.000085</td>\n",
              "      <td>-0.000013</td>\n",
              "    </tr>\n",
              "    <tr>\n",
              "      <th>year</th>\n",
              "      <td>0.093197</td>\n",
              "      <td>0.017193</td>\n",
              "      <td>0.003353</td>\n",
              "      <td>-0.009559</td>\n",
              "      <td>-0.036531</td>\n",
              "      <td>0.071552</td>\n",
              "      <td>0.063915</td>\n",
              "      <td>0.087891</td>\n",
              "      <td>0.081033</td>\n",
              "      <td>-0.000032</td>\n",
              "      <td>1.000000</td>\n",
              "      <td>-0.000055</td>\n",
              "      <td>-0.177050</td>\n",
              "      <td>0.004475</td>\n",
              "    </tr>\n",
              "    <tr>\n",
              "      <th>region</th>\n",
              "      <td>-0.011716</td>\n",
              "      <td>0.174176</td>\n",
              "      <td>0.192073</td>\n",
              "      <td>0.145726</td>\n",
              "      <td>0.095252</td>\n",
              "      <td>0.175256</td>\n",
              "      <td>0.164702</td>\n",
              "      <td>0.198768</td>\n",
              "      <td>0.082281</td>\n",
              "      <td>-0.000280</td>\n",
              "      <td>-0.000055</td>\n",
              "      <td>1.000000</td>\n",
              "      <td>-0.000144</td>\n",
              "      <td>-0.000021</td>\n",
              "    </tr>\n",
              "    <tr>\n",
              "      <th>month</th>\n",
              "      <td>0.162409</td>\n",
              "      <td>-0.024689</td>\n",
              "      <td>-0.025803</td>\n",
              "      <td>-0.022108</td>\n",
              "      <td>-0.033424</td>\n",
              "      <td>-0.022724</td>\n",
              "      <td>-0.023126</td>\n",
              "      <td>-0.020187</td>\n",
              "      <td>-0.012969</td>\n",
              "      <td>-0.000085</td>\n",
              "      <td>-0.177050</td>\n",
              "      <td>-0.000144</td>\n",
              "      <td>1.000000</td>\n",
              "      <td>0.010621</td>\n",
              "    </tr>\n",
              "    <tr>\n",
              "      <th>day</th>\n",
              "      <td>0.027386</td>\n",
              "      <td>-0.009747</td>\n",
              "      <td>-0.010159</td>\n",
              "      <td>-0.012393</td>\n",
              "      <td>-0.009009</td>\n",
              "      <td>-0.004988</td>\n",
              "      <td>-0.003870</td>\n",
              "      <td>-0.008352</td>\n",
              "      <td>0.000319</td>\n",
              "      <td>-0.000013</td>\n",
              "      <td>0.004475</td>\n",
              "      <td>-0.000021</td>\n",
              "      <td>0.010621</td>\n",
              "      <td>1.000000</td>\n",
              "    </tr>\n",
              "  </tbody>\n",
              "</table>\n",
              "</div>\n",
              "      <button class=\"colab-df-convert\" onclick=\"convertToInteractive('df-83b50667-b79f-44c5-a1d5-6cb03b0836c0')\"\n",
              "              title=\"Convert this dataframe to an interactive table.\"\n",
              "              style=\"display:none;\">\n",
              "        \n",
              "  <svg xmlns=\"http://www.w3.org/2000/svg\" height=\"24px\"viewBox=\"0 0 24 24\"\n",
              "       width=\"24px\">\n",
              "    <path d=\"M0 0h24v24H0V0z\" fill=\"none\"/>\n",
              "    <path d=\"M18.56 5.44l.94 2.06.94-2.06 2.06-.94-2.06-.94-.94-2.06-.94 2.06-2.06.94zm-11 1L8.5 8.5l.94-2.06 2.06-.94-2.06-.94L8.5 2.5l-.94 2.06-2.06.94zm10 10l.94 2.06.94-2.06 2.06-.94-2.06-.94-.94-2.06-.94 2.06-2.06.94z\"/><path d=\"M17.41 7.96l-1.37-1.37c-.4-.4-.92-.59-1.43-.59-.52 0-1.04.2-1.43.59L10.3 9.45l-7.72 7.72c-.78.78-.78 2.05 0 2.83L4 21.41c.39.39.9.59 1.41.59.51 0 1.02-.2 1.41-.59l7.78-7.78 2.81-2.81c.8-.78.8-2.07 0-2.86zM5.41 20L4 18.59l7.72-7.72 1.47 1.35L5.41 20z\"/>\n",
              "  </svg>\n",
              "      </button>\n",
              "      \n",
              "  <style>\n",
              "    .colab-df-container {\n",
              "      display:flex;\n",
              "      flex-wrap:wrap;\n",
              "      gap: 12px;\n",
              "    }\n",
              "\n",
              "    .colab-df-convert {\n",
              "      background-color: #E8F0FE;\n",
              "      border: none;\n",
              "      border-radius: 50%;\n",
              "      cursor: pointer;\n",
              "      display: none;\n",
              "      fill: #1967D2;\n",
              "      height: 32px;\n",
              "      padding: 0 0 0 0;\n",
              "      width: 32px;\n",
              "    }\n",
              "\n",
              "    .colab-df-convert:hover {\n",
              "      background-color: #E2EBFA;\n",
              "      box-shadow: 0px 1px 2px rgba(60, 64, 67, 0.3), 0px 1px 3px 1px rgba(60, 64, 67, 0.15);\n",
              "      fill: #174EA6;\n",
              "    }\n",
              "\n",
              "    [theme=dark] .colab-df-convert {\n",
              "      background-color: #3B4455;\n",
              "      fill: #D2E3FC;\n",
              "    }\n",
              "\n",
              "    [theme=dark] .colab-df-convert:hover {\n",
              "      background-color: #434B5C;\n",
              "      box-shadow: 0px 1px 3px 1px rgba(0, 0, 0, 0.15);\n",
              "      filter: drop-shadow(0px 1px 2px rgba(0, 0, 0, 0.3));\n",
              "      fill: #FFFFFF;\n",
              "    }\n",
              "  </style>\n",
              "\n",
              "      <script>\n",
              "        const buttonEl =\n",
              "          document.querySelector('#df-83b50667-b79f-44c5-a1d5-6cb03b0836c0 button.colab-df-convert');\n",
              "        buttonEl.style.display =\n",
              "          google.colab.kernel.accessAllowed ? 'block' : 'none';\n",
              "\n",
              "        async function convertToInteractive(key) {\n",
              "          const element = document.querySelector('#df-83b50667-b79f-44c5-a1d5-6cb03b0836c0');\n",
              "          const dataTable =\n",
              "            await google.colab.kernel.invokeFunction('convertToInteractive',\n",
              "                                                     [key], {});\n",
              "          if (!dataTable) return;\n",
              "\n",
              "          const docLinkHtml = 'Like what you see? Visit the ' +\n",
              "            '<a target=\"_blank\" href=https://colab.research.google.com/notebooks/data_table.ipynb>data table notebook</a>'\n",
              "            + ' to learn more about interactive tables.';\n",
              "          element.innerHTML = '';\n",
              "          dataTable['output_type'] = 'display_data';\n",
              "          await google.colab.output.renderOutput(dataTable, element);\n",
              "          const docLink = document.createElement('div');\n",
              "          docLink.innerHTML = docLinkHtml;\n",
              "          element.appendChild(docLink);\n",
              "        }\n",
              "      </script>\n",
              "    </div>\n",
              "  </div>\n",
              "  "
            ],
            "text/plain": [
              "              AveragePrice  Total Volume  ...     month       day\n",
              "AveragePrice      1.000000     -0.192752  ...  0.162409  0.027386\n",
              "Total Volume     -0.192752      1.000000  ... -0.024689 -0.009747\n",
              "4046             -0.208317      0.977863  ... -0.025803 -0.010159\n",
              "4225             -0.172928      0.974181  ... -0.022108 -0.012393\n",
              "4770             -0.179446      0.872202  ... -0.033424 -0.009009\n",
              "Total Bags       -0.177088      0.963047  ... -0.022724 -0.004988\n",
              "Small Bags       -0.174730      0.967238  ... -0.023126 -0.003870\n",
              "Large Bags       -0.172940      0.880640  ... -0.020187 -0.008352\n",
              "XLarge Bags      -0.117592      0.747157  ... -0.012969  0.000319\n",
              "type              0.615845     -0.232434  ... -0.000085 -0.000013\n",
              "year              0.093197      0.017193  ... -0.177050  0.004475\n",
              "region           -0.011716      0.174176  ... -0.000144 -0.000021\n",
              "month             0.162409     -0.024689  ...  1.000000  0.010621\n",
              "day               0.027386     -0.009747  ...  0.010621  1.000000\n",
              "\n",
              "[14 rows x 14 columns]"
            ]
          },
          "metadata": {},
          "execution_count": 311
        }
      ]
    },
    {
      "cell_type": "code",
      "source": [
        "#w.r.t \"avg price\"\n",
        "\n",
        "df.corr()['AveragePrice'].sort_values()"
      ],
      "metadata": {
        "colab": {
          "base_uri": "https://localhost:8080/"
        },
        "id": "JI2RUGJOp0ah",
        "outputId": "3c7c6b9a-d91c-4978-d0c0-f27c97a29066"
      },
      "execution_count": 312,
      "outputs": [
        {
          "output_type": "execute_result",
          "data": {
            "text/plain": [
              "4046           -0.208317\n",
              "Total Volume   -0.192752\n",
              "4770           -0.179446\n",
              "Total Bags     -0.177088\n",
              "Small Bags     -0.174730\n",
              "Large Bags     -0.172940\n",
              "4225           -0.172928\n",
              "XLarge Bags    -0.117592\n",
              "region         -0.011716\n",
              "day             0.027386\n",
              "year            0.093197\n",
              "month           0.162409\n",
              "type            0.615845\n",
              "AveragePrice    1.000000\n",
              "Name: AveragePrice, dtype: float64"
            ]
          },
          "metadata": {},
          "execution_count": 312
        }
      ]
    },
    {
      "cell_type": "code",
      "source": [
        "#plotting the correlation matrix using heatmap\n",
        "\n",
        "corr_matrix = df.corr()\n",
        "plt.figure(figsize=[18,8])\n",
        "sns.heatmap(corr_matrix,annot=True)\n",
        "plt.title(\"Correlation matrix\")\n",
        "plt.show()"
      ],
      "metadata": {
        "colab": {
          "base_uri": "https://localhost:8080/",
          "height": 554
        },
        "id": "afLVX365qZ1J",
        "outputId": "c6986522-5fcd-4035-ec80-490102995aa3"
      },
      "execution_count": 313,
      "outputs": [
        {
          "output_type": "display_data",
          "data": {
            "image/png": "[encoded data removed]",
            "text/plain": [
              "<Figure size 1296x576 with 2 Axes>"
            ]
          },
          "metadata": {
            "needs_background": "light"
          }
        }
      ]
    },
    {
      "cell_type": "markdown",
      "source": [
        "#### with this,\n",
        "\n",
        "#### 1)\"region\" has least neagtive correlation(~1%) with \"averageprice\".\n",
        "#### 2)column \"4046\" has highest negative correlation(21%) with \"averageprice\".\n",
        "#### 3)\"type\" has highest positive correlation(62%) with \"averageprice\"\n",
        "#### 4)both columns like year and day have least positive correlation with \"averageprice\"."
      ],
      "metadata": {
        "id": "R9MdusXGquy0"
      }
    },
    {
      "cell_type": "markdown",
      "source": [
        "## Checking with outliers"
      ],
      "metadata": {
        "id": "GrG0EljpsMbM"
      }
    },
    {
      "cell_type": "code",
      "source": [
        "df1 = df.iloc[:,:8]\n",
        "df2 = df.iloc[:,8:]"
      ],
      "metadata": {
        "id": "tGUczQ2Fsows"
      },
      "execution_count": 314,
      "outputs": []
    },
    {
      "cell_type": "code",
      "source": [
        "column_list = df1.columns.values\n",
        "n_col = 31\n",
        "n_row = 25\n",
        "plt.figure(figsize = (1.5*n_col,4*n_col))\n",
        "for i in range(len(column_list)):\n",
        "  plt.subplot(n_row,n_col,i+1)\n",
        "  sns.boxplot(df1[column_list[i]],color='orange',orient='h')\n",
        "  plt.tight_layout()"
      ],
      "metadata": {
        "colab": {
          "base_uri": "https://localhost:8080/",
          "height": 377
        },
        "id": "wmnV5rIZqjKQ",
        "outputId": "e892ec97-8ab2-442e-e2f0-000deeca5208"
      },
      "execution_count": 315,
      "outputs": [
        {
          "output_type": "display_data",
          "data": {
            "image/png": "[encoded data removed]",
            "text/plain": [
              "<Figure size 3348x8928 with 8 Axes>"
            ]
          },
          "metadata": {
            "needs_background": "light"
          }
        }
      ]
    },
    {
      "cell_type": "code",
      "source": [
        "column_list = df2.columns.values\n",
        "n_col = 31\n",
        "n_row = 25\n",
        "plt.figure(figsize = (1.5*n_col,4*n_col))\n",
        "for i in range(len(column_list)):\n",
        "  plt.subplot(n_row,n_col,i+1)\n",
        "  sns.boxplot(df2[column_list[i]],color='orange',orient='h')\n",
        "  plt.tight_layout()"
      ],
      "metadata": {
        "colab": {
          "base_uri": "https://localhost:8080/",
          "height": 377
        },
        "id": "Ek0WU3Vesg7Q",
        "outputId": "b3d92daa-352d-4f85-abde-078e86675d50"
      },
      "execution_count": 316,
      "outputs": [
        {
          "output_type": "display_data",
          "data": {
            "image/png": "[encoded data removed]",
            "text/plain": [
              "<Figure size 3348x8928 with 6 Axes>"
            ]
          },
          "metadata": {
            "needs_background": "light"
          }
        }
      ]
    },
    {
      "cell_type": "markdown",
      "source": [
        "By observing above plots,there are lot of outliers in columns like\n",
        "\"XLarge Bags\",\"large bags\",\"small bags\",\"total bags\",\"4770\",\"4225\",\n",
        "\"4046\",\"total volume\"."
      ],
      "metadata": {
        "id": "MaGQd7kMtUWc"
      }
    },
    {
      "cell_type": "markdown",
      "source": [
        "## checking with Skewness"
      ],
      "metadata": {
        "id": "wTdROkCxt5fU"
      }
    },
    {
      "cell_type": "code",
      "source": [
        "df.skew().sort_values()"
      ],
      "metadata": {
        "colab": {
          "base_uri": "https://localhost:8080/"
        },
        "id": "bV4kxqKttGEx",
        "outputId": "2037acdb-44cf-4b80-a439-de2846064ca5"
      },
      "execution_count": 317,
      "outputs": [
        {
          "output_type": "execute_result",
          "data": {
            "text/plain": [
              "region           0.000030\n",
              "type             0.000329\n",
              "day              0.014310\n",
              "month            0.106617\n",
              "year             0.215339\n",
              "AveragePrice     0.580303\n",
              "4046             8.648220\n",
              "4225             8.942466\n",
              "Total Volume     9.007687\n",
              "Small Bags       9.540660\n",
              "Total Bags       9.756072\n",
              "Large Bags       9.796455\n",
              "4770            10.159396\n",
              "XLarge Bags     13.139751\n",
              "dtype: float64"
            ]
          },
          "metadata": {},
          "execution_count": 317
        }
      ]
    },
    {
      "cell_type": "markdown",
      "source": [
        "there is high skewness across various columns"
      ],
      "metadata": {
        "id": "gxfwIm-YyArl"
      }
    },
    {
      "cell_type": "markdown",
      "source": [
        "## Data cleaning"
      ],
      "metadata": {
        "id": "BUw9jAZUvg_s"
      }
    },
    {
      "cell_type": "markdown",
      "source": [
        "## Removing the outliers"
      ],
      "metadata": {
        "id": "mWsMy-i2viuz"
      }
    },
    {
      "cell_type": "code",
      "source": [
        "from scipy.stats import zscore\n",
        "import numpy as np\n",
        "z_n = np.abs(zscore(df))\n",
        "z_n.shape\n",
        "\n",
        "threshold = 3\n",
        "\n",
        "df_new = df[(z_n<threshold).all(axis=1)]\n",
        "print(df.shape)\n",
        "print(df_new.shape)\n",
        "\n",
        "#printing the total number of dropped rows\n",
        "print(df.shape[0]-df_new.shape[0])\n",
        "\n",
        "# calcuating the percentage of data loss\n",
        "loss_perc = (df.shape[0]-df_new.shape[0])/df.shape[0]*100\n",
        "print(\"data loss percentage:{:.2f}%\".format(loss_perc))"
      ],
      "metadata": {
        "colab": {
          "base_uri": "https://localhost:8080/"
        },
        "id": "xN8M1XAqMrHG",
        "outputId": "3d8d3d1d-a3e2-424b-d22f-96f3da9e4838"
      },
      "execution_count": 320,
      "outputs": [
        {
          "output_type": "stream",
          "name": "stdout",
          "text": [
            "(18249, 14)\n",
            "(17651, 14)\n",
            "598\n",
            "data loss percentage:3.28%\n"
          ]
        }
      ]
    },
    {
      "cell_type": "markdown",
      "source": [
        "there is a 3.28% data loss which is good to proceed for further"
      ],
      "metadata": {
        "id": "SoE5NlEnvz4c"
      }
    },
    {
      "cell_type": "markdown",
      "source": [
        "## Dividing the data into features and vectors"
      ],
      "metadata": {
        "id": "eMsufvkev_67"
      }
    },
    {
      "cell_type": "code",
      "source": [
        "y = df[[\"AveragePrice\"]]\n",
        "x = df.drop([\"AveragePrice\"],axis=1)"
      ],
      "metadata": {
        "id": "qv7qCPQfwC30"
      },
      "execution_count": 386,
      "outputs": []
    },
    {
      "cell_type": "markdown",
      "source": [
        "## Checking with multicollinearity"
      ],
      "metadata": {
        "id": "6DjqIO81v39z"
      }
    },
    {
      "cell_type": "code",
      "source": [
        "from statsmodels.stats.outliers_influence import variance_inflation_factor\n",
        "def calc_vif_value(X):\n",
        "\n",
        "    # Calculating VIF\n",
        "    vif = pd.DataFrame()\n",
        "    vif[\"variables\"] = X.columns\n",
        "    vif[\"VIF\"] = [variance_inflation_factor(X.values, i) for i in range(X.shape[1])]\n",
        "\n",
        "    return(vif)"
      ],
      "metadata": {
        "id": "XbmBe-Vpvvnw"
      },
      "execution_count": 387,
      "outputs": []
    },
    {
      "cell_type": "code",
      "source": [
        "calc_vif_value(x)"
      ],
      "metadata": {
        "colab": {
          "base_uri": "https://localhost:8080/",
          "height": 456
        },
        "id": "9Uc_lU7cv6go",
        "outputId": "23c62151-8985-49d6-f3b5-b66147245e01"
      },
      "execution_count": 388,
      "outputs": [
        {
          "output_type": "execute_result",
          "data": {
            "text/html": [
              "\n",
              "  <div id=\"df-145c4c45-b720-47be-88be-65a1b4231770\">\n",
              "    <div class=\"colab-df-container\">\n",
              "      <div>\n",
              "<style scoped>\n",
              "    .dataframe tbody tr th:only-of-type {\n",
              "        vertical-align: middle;\n",
              "    }\n",
              "\n",
              "    .dataframe tbody tr th {\n",
              "        vertical-align: top;\n",
              "    }\n",
              "\n",
              "    .dataframe thead th {\n",
              "        text-align: right;\n",
              "    }\n",
              "</style>\n",
              "<table border=\"1\" class=\"dataframe\">\n",
              "  <thead>\n",
              "    <tr style=\"text-align: right;\">\n",
              "      <th></th>\n",
              "      <th>variables</th>\n",
              "      <th>VIF</th>\n",
              "    </tr>\n",
              "  </thead>\n",
              "  <tbody>\n",
              "    <tr>\n",
              "      <th>0</th>\n",
              "      <td>Total Volume</td>\n",
              "      <td>5.212907e+09</td>\n",
              "    </tr>\n",
              "    <tr>\n",
              "      <th>1</th>\n",
              "      <td>4046</td>\n",
              "      <td>6.947630e+08</td>\n",
              "    </tr>\n",
              "    <tr>\n",
              "      <th>2</th>\n",
              "      <td>4225</td>\n",
              "      <td>6.333557e+08</td>\n",
              "    </tr>\n",
              "    <tr>\n",
              "      <th>3</th>\n",
              "      <td>4770</td>\n",
              "      <td>4.973838e+06</td>\n",
              "    </tr>\n",
              "    <tr>\n",
              "      <th>4</th>\n",
              "      <td>Total Bags</td>\n",
              "      <td>2.502000e+14</td>\n",
              "    </tr>\n",
              "    <tr>\n",
              "      <th>5</th>\n",
              "      <td>Small Bags</td>\n",
              "      <td>1.429714e+14</td>\n",
              "    </tr>\n",
              "    <tr>\n",
              "      <th>6</th>\n",
              "      <td>Large Bags</td>\n",
              "      <td>1.521486e+13</td>\n",
              "    </tr>\n",
              "    <tr>\n",
              "      <th>7</th>\n",
              "      <td>XLarge Bags</td>\n",
              "      <td>7.856874e+10</td>\n",
              "    </tr>\n",
              "    <tr>\n",
              "      <th>8</th>\n",
              "      <td>type</td>\n",
              "      <td>2.123126e+00</td>\n",
              "    </tr>\n",
              "    <tr>\n",
              "      <th>9</th>\n",
              "      <td>year</td>\n",
              "      <td>1.125114e+01</td>\n",
              "    </tr>\n",
              "    <tr>\n",
              "      <th>10</th>\n",
              "      <td>region</td>\n",
              "      <td>4.160506e+00</td>\n",
              "    </tr>\n",
              "    <tr>\n",
              "      <th>11</th>\n",
              "      <td>month</td>\n",
              "      <td>4.063486e+00</td>\n",
              "    </tr>\n",
              "    <tr>\n",
              "      <th>12</th>\n",
              "      <td>day</td>\n",
              "      <td>4.188894e+00</td>\n",
              "    </tr>\n",
              "  </tbody>\n",
              "</table>\n",
              "</div>\n",
              "      <button class=\"colab-df-convert\" onclick=\"convertToInteractive('df-145c4c45-b720-47be-88be-65a1b4231770')\"\n",
              "              title=\"Convert this dataframe to an interactive table.\"\n",
              "              style=\"display:none;\">\n",
              "        \n",
              "  <svg xmlns=\"http://www.w3.org/2000/svg\" height=\"24px\"viewBox=\"0 0 24 24\"\n",
              "       width=\"24px\">\n",
              "    <path d=\"M0 0h24v24H0V0z\" fill=\"none\"/>\n",
              "    <path d=\"M18.56 5.44l.94 2.06.94-2.06 2.06-.94-2.06-.94-.94-2.06-.94 2.06-2.06.94zm-11 1L8.5 8.5l.94-2.06 2.06-.94-2.06-.94L8.5 2.5l-.94 2.06-2.06.94zm10 10l.94 2.06.94-2.06 2.06-.94-2.06-.94-.94-2.06-.94 2.06-2.06.94z\"/><path d=\"M17.41 7.96l-1.37-1.37c-.4-.4-.92-.59-1.43-.59-.52 0-1.04.2-1.43.59L10.3 9.45l-7.72 7.72c-.78.78-.78 2.05 0 2.83L4 21.41c.39.39.9.59 1.41.59.51 0 1.02-.2 1.41-.59l7.78-7.78 2.81-2.81c.8-.78.8-2.07 0-2.86zM5.41 20L4 18.59l7.72-7.72 1.47 1.35L5.41 20z\"/>\n",
              "  </svg>\n",
              "      </button>\n",
              "      \n",
              "  <style>\n",
              "    .colab-df-container {\n",
              "      display:flex;\n",
              "      flex-wrap:wrap;\n",
              "      gap: 12px;\n",
              "    }\n",
              "\n",
              "    .colab-df-convert {\n",
              "      background-color: #E8F0FE;\n",
              "      border: none;\n",
              "      border-radius: 50%;\n",
              "      cursor: pointer;\n",
              "      display: none;\n",
              "      fill: #1967D2;\n",
              "      height: 32px;\n",
              "      padding: 0 0 0 0;\n",
              "      width: 32px;\n",
              "    }\n",
              "\n",
              "    .colab-df-convert:hover {\n",
              "      background-color: #E2EBFA;\n",
              "      box-shadow: 0px 1px 2px rgba(60, 64, 67, 0.3), 0px 1px 3px 1px rgba(60, 64, 67, 0.15);\n",
              "      fill: #174EA6;\n",
              "    }\n",
              "\n",
              "    [theme=dark] .colab-df-convert {\n",
              "      background-color: #3B4455;\n",
              "      fill: #D2E3FC;\n",
              "    }\n",
              "\n",
              "    [theme=dark] .colab-df-convert:hover {\n",
              "      background-color: #434B5C;\n",
              "      box-shadow: 0px 1px 3px 1px rgba(0, 0, 0, 0.15);\n",
              "      filter: drop-shadow(0px 1px 2px rgba(0, 0, 0, 0.3));\n",
              "      fill: #FFFFFF;\n",
              "    }\n",
              "  </style>\n",
              "\n",
              "      <script>\n",
              "        const buttonEl =\n",
              "          document.querySelector('#df-145c4c45-b720-47be-88be-65a1b4231770 button.colab-df-convert');\n",
              "        buttonEl.style.display =\n",
              "          google.colab.kernel.accessAllowed ? 'block' : 'none';\n",
              "\n",
              "        async function convertToInteractive(key) {\n",
              "          const element = document.querySelector('#df-145c4c45-b720-47be-88be-65a1b4231770');\n",
              "          const dataTable =\n",
              "            await google.colab.kernel.invokeFunction('convertToInteractive',\n",
              "                                                     [key], {});\n",
              "          if (!dataTable) return;\n",
              "\n",
              "          const docLinkHtml = 'Like what you see? Visit the ' +\n",
              "            '<a target=\"_blank\" href=https://colab.research.google.com/notebooks/data_table.ipynb>data table notebook</a>'\n",
              "            + ' to learn more about interactive tables.';\n",
              "          element.innerHTML = '';\n",
              "          dataTable['output_type'] = 'display_data';\n",
              "          await google.colab.output.renderOutput(dataTable, element);\n",
              "          const docLink = document.createElement('div');\n",
              "          docLink.innerHTML = docLinkHtml;\n",
              "          element.appendChild(docLink);\n",
              "        }\n",
              "      </script>\n",
              "    </div>\n",
              "  </div>\n",
              "  "
            ],
            "text/plain": [
              "       variables           VIF\n",
              "0   Total Volume  5.212907e+09\n",
              "1           4046  6.947630e+08\n",
              "2           4225  6.333557e+08\n",
              "3           4770  4.973838e+06\n",
              "4     Total Bags  2.502000e+14\n",
              "5     Small Bags  1.429714e+14\n",
              "6     Large Bags  1.521486e+13\n",
              "7    XLarge Bags  7.856874e+10\n",
              "8           type  2.123126e+00\n",
              "9           year  1.125114e+01\n",
              "10        region  4.160506e+00\n",
              "11         month  4.063486e+00\n",
              "12           day  4.188894e+00"
            ]
          },
          "metadata": {},
          "execution_count": 388
        }
      ]
    },
    {
      "cell_type": "markdown",
      "source": [
        "with these values,we dont have to worry about multicollniearty"
      ],
      "metadata": {
        "id": "c2SLIsDOaYDR"
      }
    },
    {
      "cell_type": "markdown",
      "source": [
        "## Transforming data to eliminate skewness"
      ],
      "metadata": {
        "id": "nxdz0Kl-049j"
      }
    },
    {
      "cell_type": "code",
      "source": [
        "from sklearn.preprocessing import power_transform\n",
        "x = power_transform(x)\n",
        "x[:5]"
      ],
      "metadata": {
        "colab": {
          "base_uri": "https://localhost:8080/"
        },
        "id": "MqIz3UZu8Jxb",
        "outputId": "d12300a9-ff48-43e3-83ff-8a36aeff8536"
      },
      "execution_count": 389,
      "outputs": [
        {
          "output_type": "execute_result",
          "data": {
            "text/plain": [
              "array([[-0.08660524, -0.65861896,  0.30731294, -0.24725029, -0.52400415,\n",
              "        -0.34062722, -0.77335071, -0.69984934, -0.99983562, -1.22189489,\n",
              "        -2.01155231,  1.49434741,  1.22928497],\n",
              "       [-0.15574567, -0.77686953,  0.23164739, -0.20104091, -0.48589   ,\n",
              "        -0.30642542, -0.76343481, -0.69984934, -0.99983562, -1.22189489,\n",
              "        -2.01155231,  1.49434741,  0.54100493],\n",
              "       [ 0.17932662, -0.73194656,  0.57950332, -0.00707235, -0.55201765,\n",
              "        -0.36630323, -0.75081989, -0.69984934, -0.99983562, -1.22189489,\n",
              "        -2.01155231,  1.49434741, -0.21556953],\n",
              "       [ 0.00387582, -0.63419995,  0.41509958, -0.14832171, -0.69544917,\n",
              "        -0.49685333, -0.69186542, -0.69984934, -0.99983562, -1.22189489,\n",
              "        -2.01155231,  1.49434741, -1.09131053],\n",
              "       [-0.18763999, -0.68529328,  0.22480599, -0.13791834, -0.66915713,\n",
              "        -0.47720107, -0.60097539, -0.69984934, -0.99983562, -1.22189489,\n",
              "        -2.01155231,  1.27843782,  1.41672699]])"
            ]
          },
          "metadata": {},
          "execution_count": 389
        }
      ]
    },
    {
      "cell_type": "code",
      "source": [
        "from sklearn.preprocessing import StandardScaler\n",
        "sc = StandardScaler()\n",
        "x = sc.fit_transform(x)\n",
        "x"
      ],
      "metadata": {
        "colab": {
          "base_uri": "https://localhost:8080/"
        },
        "id": "I6JmSNlwzYIx",
        "outputId": "5a20fbf4-c9b2-41fc-fd1e-d9afff1eba8d"
      },
      "execution_count": 390,
      "outputs": [
        {
          "output_type": "execute_result",
          "data": {
            "text/plain": [
              "array([[-0.08660524, -0.65861896,  0.30731294, ..., -2.01155231,\n",
              "         1.49434741,  1.22928497],\n",
              "       [-0.15574567, -0.77686953,  0.23164739, ..., -2.01155231,\n",
              "         1.49434741,  0.54100493],\n",
              "       [ 0.17932662, -0.73194656,  0.57950332, ..., -2.01155231,\n",
              "         1.49434741, -0.21556953],\n",
              "       ...,\n",
              "       [-0.77150535, -0.61983119, -0.77249619, ...,  1.54383806,\n",
              "        -1.64204669,  0.64284151],\n",
              "       [-0.69807719, -0.55028196, -0.71054316, ...,  1.54383806,\n",
              "        -1.64204669, -0.10195902],\n",
              "       [-0.66380937, -0.36790819, -0.78517306, ...,  1.54383806,\n",
              "        -1.64204669, -0.95485351]])"
            ]
          },
          "metadata": {},
          "execution_count": 390
        }
      ]
    },
    {
      "cell_type": "code",
      "source": [
        "x_n1 = pd.DataFrame(x)\n",
        "x_n1.skew()"
      ],
      "metadata": {
        "colab": {
          "base_uri": "https://localhost:8080/"
        },
        "id": "Q_OBt9GY07z3",
        "outputId": "c816efef-3306-4e64-a1b8-dc5a46253024"
      },
      "execution_count": 391,
      "outputs": [
        {
          "output_type": "execute_result",
          "data": {
            "text/plain": [
              "0     0.011171\n",
              "1    -0.022679\n",
              "2    -0.017740\n",
              "3     0.032184\n",
              "4    -0.001626\n",
              "5     0.007058\n",
              "6    -0.073809\n",
              "7     0.793520\n",
              "8     0.000329\n",
              "9     0.213156\n",
              "10   -0.261443\n",
              "11   -0.146584\n",
              "12   -0.208462\n",
              "dtype: float64"
            ]
          },
          "metadata": {},
          "execution_count": 391
        }
      ]
    },
    {
      "cell_type": "markdown",
      "source": [
        "With these values,we can say that skewness has been removed premodominently compared to previous skew values"
      ],
      "metadata": {
        "id": "VEC20F_e1YxV"
      }
    },
    {
      "cell_type": "code",
      "source": [
        "from sklearn.preprocessing import StandardScaler\n",
        "sc = StandardScaler()\n",
        "y = sc.fit_transform(y)\n",
        "y"
      ],
      "metadata": {
        "colab": {
          "base_uri": "https://localhost:8080/"
        },
        "id": "gOcaJxHx9Bag",
        "outputId": "8299e5f8-dafa-44ec-e44d-17f1bbfe19ff"
      },
      "execution_count": 334,
      "outputs": [
        {
          "output_type": "execute_result",
          "data": {
            "text/plain": [
              "array([[-0.18868864],\n",
              "       [-0.13901962],\n",
              "       [-1.18206895],\n",
              "       ...,\n",
              "       [ 1.15237477],\n",
              "       [ 1.30138182],\n",
              "       [ 0.53151208]])"
            ]
          },
          "metadata": {},
          "execution_count": 334
        }
      ]
    },
    {
      "cell_type": "markdown",
      "source": [
        "## Selecting a best random state"
      ],
      "metadata": {
        "id": "xbNVkXwn-7p0"
      }
    },
    {
      "cell_type": "code",
      "source": [
        "#importing a necessary libraries\n",
        "from sklearn.linear_model import BayesianRidge \n",
        "from sklearn.metrics import r2_score\n",
        "from sklearn.model_selection import train_test_split\n",
        "\n",
        "#Evaluating model performance\n",
        "# Now data is preprocessed and we can go for selecting best random state\n",
        "Max_score = 0\n",
        "maxRS = 0 #best random state value for max r2_score\n",
        "for i in range(1,200):\n",
        "  x_train,x_test,y_train,y_test = train_test_split(x,y,test_size =.20,random_state = i)\n",
        "  Bay = BayesianRidge()\n",
        "  Bay.fit(x_train,y_train)\n",
        "  predic = Bay.predict(x_test)\n",
        "  acc = r2_score(y_test,predic)\n",
        "  if acc > Max_score:\n",
        "    Max_score = acc\n",
        "    maxRS = i\n",
        "print(\"Best R2_score is \",Max_score,\" on Random state \",maxRS)"
      ],
      "metadata": {
        "colab": {
          "base_uri": "https://localhost:8080/"
        },
        "id": "WBZgDWbn9zpQ",
        "outputId": "c7362e25-890e-475e-86b8-15f26d8f53e3"
      },
      "execution_count": 335,
      "outputs": [
        {
          "output_type": "stream",
          "name": "stdout",
          "text": [
            "Best R2_score is  0.593347635405569  on Random state  188\n"
          ]
        }
      ]
    },
    {
      "cell_type": "code",
      "source": [
        "x_train, x_test, y_train, y_test = train_test_split(x, y,test_size =.20,random_state=188)"
      ],
      "metadata": {
        "id": "AO5OixhQ_Bz4"
      },
      "execution_count": 336,
      "outputs": []
    },
    {
      "cell_type": "code",
      "source": [
        "print(x_train.shape,y_train.shape)"
      ],
      "metadata": {
        "colab": {
          "base_uri": "https://localhost:8080/"
        },
        "id": "bE23jU7H_I1Q",
        "outputId": "56a6a187-dc25-4eaf-b1c6-2f8e0a241cba"
      },
      "execution_count": 337,
      "outputs": [
        {
          "output_type": "stream",
          "name": "stdout",
          "text": [
            "(14599, 13) (14599, 1)\n"
          ]
        }
      ]
    },
    {
      "cell_type": "code",
      "source": [
        "print(x_test.shape,y_test.shape)"
      ],
      "metadata": {
        "colab": {
          "base_uri": "https://localhost:8080/"
        },
        "id": "yQzZOCmG_L9g",
        "outputId": "11ace8ce-5495-40f4-8cdd-2a20b3d45a81"
      },
      "execution_count": 338,
      "outputs": [
        {
          "output_type": "stream",
          "name": "stdout",
          "text": [
            "(3650, 13) (3650, 1)\n"
          ]
        }
      ]
    },
    {
      "cell_type": "code",
      "source": [
        "#importing metrics\n",
        "from sklearn.metrics import mean_squared_error,mean_absolute_error"
      ],
      "metadata": {
        "id": "lilyuLxk_NoY"
      },
      "execution_count": 339,
      "outputs": []
    },
    {
      "cell_type": "code",
      "source": [
        "#to predict the wins we can consider Linearregression model\n",
        "\n",
        "from sklearn.linear_model import LinearRegression \n",
        "LR = LinearRegression()\n",
        "LR.fit(x_train,y_train)\n",
        "predic_1 = LR.predict(x_test)\n",
        "print(\"r2_score is {:0.3f}\".format(r2_score(y_test,predic_1)))\n",
        "print(\"mse is {:0.3f}\".format(mean_squared_error(y_test,predic_1)))\n",
        "print(\"rmse is {:0.3f}\".format(mean_squared_error(y_test,predic_1,squared=False)))\n",
        "print(\"mae is {:0.3f}\".format(mean_absolute_error(y_test,predic_1)))"
      ],
      "metadata": {
        "colab": {
          "base_uri": "https://localhost:8080/"
        },
        "id": "Qs6I1kqR_SF4",
        "outputId": "f1580ac2-92e2-473f-ddda-bd49f53c8790"
      },
      "execution_count": 364,
      "outputs": [
        {
          "output_type": "stream",
          "name": "stdout",
          "text": [
            "r2_score is 0.577\n",
            "mse is 0.424\n",
            "rmse is 0.651\n",
            "mae is 0.504\n"
          ]
        }
      ]
    },
    {
      "cell_type": "code",
      "source": [
        "from sklearn.model_selection import cross_val_score"
      ],
      "metadata": {
        "id": "1eY0OvYveFuc"
      },
      "execution_count": 365,
      "outputs": []
    },
    {
      "cell_type": "code",
      "source": [
        "#funtion to check accuracy of model using cross validation score\n",
        "\n",
        "def model_accuracy(model,X_train=x_train,y_train=y_train):\n",
        "    accuracies = cross_val_score(estimator = model, X = x_train, y = y_train, cv = 10) #CVS\n",
        "    print(\"Accuracy: {:.2f} %\".format(accuracies.mean()*100))\n",
        "    #print(\"Standard Deviation: {:.2f} %\".format(accuracies.std()*100))"
      ],
      "metadata": {
        "id": "4Nc28qseK9TR"
      },
      "execution_count": 366,
      "outputs": []
    },
    {
      "cell_type": "code",
      "source": [
        "model_accuracy(LR)"
      ],
      "metadata": {
        "colab": {
          "base_uri": "https://localhost:8080/"
        },
        "id": "lnrZzU4lLOmu",
        "outputId": "9ab4dba4-ff9a-4dab-ad48-b4215c0df6e4"
      },
      "execution_count": 367,
      "outputs": [
        {
          "output_type": "stream",
          "name": "stdout",
          "text": [
            "Accuracy: 56.67 %\n"
          ]
        }
      ]
    },
    {
      "cell_type": "code",
      "source": [
        "#using BayesianRidge model \n",
        "from sklearn.linear_model import BayesianRidge \n",
        "Bay = BayesianRidge()\n",
        "Bay.fit(x_train,y_train)\n",
        "predic_2 = Bay.predict(x_test)\n",
        "print(\"r2_score is {:0.3f}\".format(r2_score(y_test,predic_2)))\n",
        "print(\"mse is {:0.3f}\".format(mean_squared_error(y_test,predic_2)))\n",
        "print(\"rmse is {:0.3f}\".format(mean_squared_error(y_test,predic_2,squared=False)))\n",
        "print(\"mae is {:0.3f}\".format(mean_absolute_error(y_test,predic_2)))\n"
      ],
      "metadata": {
        "colab": {
          "base_uri": "https://localhost:8080/"
        },
        "id": "h4E607p0_Vux",
        "outputId": "67a13223-e341-4aac-ce43-f9d3c70f848a"
      },
      "execution_count": 368,
      "outputs": [
        {
          "output_type": "stream",
          "name": "stdout",
          "text": [
            "r2_score is 0.577\n",
            "mse is 0.424\n",
            "rmse is 0.651\n",
            "mae is 0.504\n"
          ]
        }
      ]
    },
    {
      "cell_type": "code",
      "source": [
        "model_accuracy(Bay)"
      ],
      "metadata": {
        "colab": {
          "base_uri": "https://localhost:8080/"
        },
        "id": "I8QCiGfMdPCG",
        "outputId": "e422fcbc-4875-4b6f-e5e9-3cf86d5301f7"
      },
      "execution_count": 369,
      "outputs": [
        {
          "output_type": "stream",
          "name": "stdout",
          "text": [
            "Accuracy: 56.67 %\n"
          ]
        }
      ]
    },
    {
      "cell_type": "code",
      "source": [
        "from sklearn.ensemble import RandomForestRegressor\n",
        "RF = RandomForestRegressor()\n",
        "RF.fit(x_train,y_train)\n",
        "predic_3 = RF.predict(x_test)\n",
        "print(\"r2_score is {:0.3f}\".format(r2_score(y_test,predic_3)))\n",
        "print(\"mse is {:0.3f}\".format(mean_squared_error(y_test,predic_3)))\n",
        "print(\"rmse is {:0.3f}\".format(mean_squared_error(y_test,predic_3,squared=False)))\n",
        "print(\"mae is {:0.3f}\".format(mean_absolute_error(y_test,predic_3)))"
      ],
      "metadata": {
        "colab": {
          "base_uri": "https://localhost:8080/"
        },
        "id": "LRGt1xDw_ZGI",
        "outputId": "421984bc-d157-48e7-dda6-a073e11e664a"
      },
      "execution_count": 370,
      "outputs": [
        {
          "output_type": "stream",
          "name": "stdout",
          "text": [
            "r2_score is 0.897\n",
            "mse is 0.103\n",
            "rmse is 0.321\n",
            "mae is 0.224\n"
          ]
        }
      ]
    },
    {
      "cell_type": "code",
      "source": [
        "model_accuracy(RF)"
      ],
      "metadata": {
        "colab": {
          "base_uri": "https://localhost:8080/"
        },
        "id": "XLIoEk-0OajN",
        "outputId": "b0d2d814-367e-426b-e31a-f6544eff59bd"
      },
      "execution_count": 374,
      "outputs": [
        {
          "output_type": "stream",
          "name": "stdout",
          "text": [
            "Accuracy: 88.46 %\n"
          ]
        }
      ]
    },
    {
      "cell_type": "code",
      "source": [
        "#using Decisiontree regressor\n",
        "from sklearn.tree import DecisionTreeRegressor\n",
        "DT = DecisionTreeRegressor()\n",
        "DT.fit(x_train,y_train)\n",
        "predic_4 = DT.predict(x_test)\n",
        "print(\"r2_score is {:0.3f}\".format(r2_score(y_test,predic_4)))\n",
        "print(\"mse is {:0.3f}\".format(mean_squared_error(y_test,predic_4)))\n",
        "print(\"rmse is {:0.3f}\".format(mean_squared_error(y_test,predic_4,squared=False)))\n",
        "print(\"mae is {:0.3f}\".format(mean_absolute_error(y_test,predic_4)))"
      ],
      "metadata": {
        "colab": {
          "base_uri": "https://localhost:8080/"
        },
        "id": "L5DkOFM1_fbx",
        "outputId": "d205c681-4a2d-4875-9745-16a1ed585a16"
      },
      "execution_count": 375,
      "outputs": [
        {
          "output_type": "stream",
          "name": "stdout",
          "text": [
            "r2_score is 0.765\n",
            "mse is 0.235\n",
            "rmse is 0.485\n",
            "mae is 0.313\n"
          ]
        }
      ]
    },
    {
      "cell_type": "code",
      "source": [
        "model_accuracy(DT)"
      ],
      "metadata": {
        "colab": {
          "base_uri": "https://localhost:8080/"
        },
        "id": "_unW9yMyd0_1",
        "outputId": "3191f0cb-05aa-415a-d193-0da9eb1a4b44"
      },
      "execution_count": 373,
      "outputs": [
        {
          "output_type": "stream",
          "name": "stdout",
          "text": [
            "Accuracy: 75.25 %\n"
          ]
        }
      ]
    },
    {
      "cell_type": "markdown",
      "source": [
        "So,out of all these models RandomForestRegressor model has more accuracy(even after checking with CVS) and least rmse value.\n",
        "So, I will take my final model as RandomForestRegressor."
      ],
      "metadata": {
        "id": "xg5_tOACBHNG"
      }
    },
    {
      "cell_type": "markdown",
      "source": [
        "## Hyper Paramter tuning"
      ],
      "metadata": {
        "id": "rMohr-uCfOyO"
      }
    },
    {
      "cell_type": "code",
      "source": [
        "from sklearn.model_selection import GridSearchCV\n",
        "\n",
        "params_list = {'bootstrap':[True,False],\n",
        "               'max_depth':[1,2,3,None],\n",
        "               'max_features' :['auto','sqrt','log2'],\n",
        "               'max_leaf_nodes':[2,3,4,None]\n",
        "              }\n",
        "GCV = GridSearchCV(RandomForestRegressor(),params_list,cv=5,scoring=\"neg_root_mean_squared_error\")\n",
        "GCV.fit(x_train,y_train)\n",
        "\n",
        "#printing the best parameter\n",
        "GCV.best_params_"
      ],
      "metadata": {
        "colab": {
          "base_uri": "https://localhost:8080/"
        },
        "id": "C1JnWnQtAdZI",
        "outputId": "2722371c-1739-400c-e81d-c212d2de3d94"
      },
      "execution_count": 380,
      "outputs": [
        {
          "output_type": "execute_result",
          "data": {
            "text/plain": [
              "{'bootstrap': False,\n",
              " 'max_depth': None,\n",
              " 'max_features': 'log2',\n",
              " 'max_leaf_nodes': None}"
            ]
          },
          "metadata": {},
          "execution_count": 380
        }
      ]
    },
    {
      "cell_type": "code",
      "source": [
        "#now predicting with best parameters\n",
        "GCV_predic = GCV.best_estimator_.predict(x_test)\n",
        "\n",
        "#getting the r2_score\n",
        "r2_score(y_test,GCV_predic)"
      ],
      "metadata": {
        "colab": {
          "base_uri": "https://localhost:8080/"
        },
        "id": "DX1N5urUBkFA",
        "outputId": "15a5d9ed-5ffa-45fd-9d35-bc2837952c6b"
      },
      "execution_count": 392,
      "outputs": [
        {
          "output_type": "execute_result",
          "data": {
            "text/plain": [
              "0.9066130758537027"
            ]
          },
          "metadata": {},
          "execution_count": 392
        }
      ]
    },
    {
      "cell_type": "code",
      "source": [
        "import joblib\n",
        "joblib.dump(GCV.best_estimator_,\"Avacado_Project1.pkl\")"
      ],
      "metadata": {
        "colab": {
          "base_uri": "https://localhost:8080/"
        },
        "id": "veeUoDO5CrNp",
        "outputId": "f376dadb-75b8-43d0-9fe8-4b978ae4643a"
      },
      "execution_count": 393,
      "outputs": [
        {
          "output_type": "execute_result",
          "data": {
            "text/plain": [
              "['Avacado_Project1.pkl']"
            ]
          },
          "metadata": {},
          "execution_count": 393
        }
      ]
    },
    {
      "cell_type": "markdown",
      "source": [
        "\n",
        "\n",
        "\n",
        "---\n",
        "\n",
        "\n",
        "\n",
        "---\n",
        "\n",
        "\n",
        "\n"
      ],
      "metadata": {
        "id": "NT3NPbXlEepk"
      }
    },
    {
      "cell_type": "markdown",
      "source": [
        "# b) To find the region considering the features given in dataset(classification approach)"
      ],
      "metadata": {
        "id": "5g_raIrTEQV9"
      }
    },
    {
      "cell_type": "code",
      "source": [
        "y = df[[\"region\"]]\n",
        "x = df.drop([\"region\"],axis=1)"
      ],
      "metadata": {
        "id": "TXdogNNQFePw"
      },
      "execution_count": 438,
      "outputs": []
    },
    {
      "cell_type": "code",
      "source": [
        "from sklearn.preprocessing import power_transform\n",
        "x = power_transform(x)\n",
        "x[:5]"
      ],
      "metadata": {
        "colab": {
          "base_uri": "https://localhost:8080/"
        },
        "id": "YpdsIwTE9nWU",
        "outputId": "7c79d484-9cb9-4d71-c40b-57fc8822270c"
      },
      "execution_count": 439,
      "outputs": [
        {
          "output_type": "execute_result",
          "data": {
            "text/plain": [
              "array([[-0.08624822, -0.08660524, -0.65861896,  0.30731294, -0.24725029,\n",
              "        -0.52400415, -0.34062722, -0.77335071, -0.69984934, -0.99983562,\n",
              "        -1.22189489,  1.49434741,  1.22928497],\n",
              "       [-0.03402196, -0.15574567, -0.77686953,  0.23164739, -0.20104091,\n",
              "        -0.48589   , -0.30642542, -0.76343481, -0.69984934, -0.99983562,\n",
              "        -1.22189489,  1.49434741,  0.54100493],\n",
              "       [-1.27393796,  0.17932662, -0.73194656,  0.57950332, -0.00707235,\n",
              "        -0.55201765, -0.36630323, -0.75081989, -0.69984934, -0.99983562,\n",
              "        -1.22189489,  1.49434741, -0.21556953],\n",
              "       [-0.79342128,  0.00387582, -0.63419995,  0.41509958, -0.14832171,\n",
              "        -0.69544917, -0.49685333, -0.69186542, -0.69984934, -0.99983562,\n",
              "        -1.22189489,  1.49434741, -1.09131053],\n",
              "       [-0.2194403 , -0.18763999, -0.68529328,  0.22480599, -0.13791834,\n",
              "        -0.66915713, -0.47720107, -0.60097539, -0.69984934, -0.99983562,\n",
              "        -1.22189489,  1.27843782,  1.41672699]])"
            ]
          },
          "metadata": {},
          "execution_count": 439
        }
      ]
    },
    {
      "cell_type": "code",
      "source": [
        "from sklearn.preprocessing import StandardScaler\n",
        "sc = StandardScaler()\n",
        "x = sc.fit_transform(x)\n",
        "x"
      ],
      "metadata": {
        "colab": {
          "base_uri": "https://localhost:8080/"
        },
        "id": "T1ocHrc1HFCS",
        "outputId": "82257a8b-05df-41fe-8910-c83192d38af5"
      },
      "execution_count": 440,
      "outputs": [
        {
          "output_type": "execute_result",
          "data": {
            "text/plain": [
              "array([[-0.08624822, -0.08660524, -0.65861896, ..., -1.22187884,\n",
              "         1.49434741,  1.22928497],\n",
              "       [-0.03402196, -0.15574567, -0.77686953, ..., -1.22187884,\n",
              "         1.49434741,  0.54100493],\n",
              "       [-1.27393796,  0.17932662, -0.73194656, ..., -1.22187884,\n",
              "         1.49434741, -0.21556953],\n",
              "       ...,\n",
              "       [ 1.14779044, -0.77150535, -0.61983119, ...,  1.96856389,\n",
              "        -1.64204669,  0.64284151],\n",
              "       [ 1.2658763 , -0.69807719, -0.55028196, ...,  1.96856389,\n",
              "        -1.64204669, -0.10195902],\n",
              "       [ 0.61828746, -0.66380937, -0.36790819, ...,  1.96856389,\n",
              "        -1.64204669, -0.95485351]])"
            ]
          },
          "metadata": {},
          "execution_count": 440
        }
      ]
    },
    {
      "cell_type": "markdown",
      "source": [
        "## Selecting a best random state"
      ],
      "metadata": {
        "id": "YkewRhBhH2o1"
      }
    },
    {
      "cell_type": "code",
      "source": [
        "#importing a necessary libraries\n",
        "from sklearn.tree import DecisionTreeClassifier\n",
        "from sklearn.metrics import accuracy_score\n",
        "from sklearn.metrics import confusion_matrix,classification_report\n",
        "from sklearn.model_selection import train_test_split\n",
        "\n",
        "accu_score = 0\n",
        "maxRS = 0 #best random state value for max accuracy_score\n",
        "for i in range(1,100):\n",
        "  x_train,x_test,y_train,y_test = train_test_split(x,y,test_size =.20,random_state = i)\n",
        "  DT = DecisionTreeClassifier()\n",
        "  DT.fit(x_train,y_train)\n",
        "  predic = DT.predict(x_test)\n",
        "  acc = accuracy_score(y_test,predic)\n",
        "  if acc > accu_score:\n",
        "    accu_score = acc\n",
        "    maxRS = i\n",
        "print(\"Best accuracy_score is \",accu_score,\" on Random state \",maxRS)"
      ],
      "metadata": {
        "colab": {
          "base_uri": "https://localhost:8080/"
        },
        "id": "U2IdjM1eHGho",
        "outputId": "4f458a18-b7fd-4ab1-b228-3c1522190ede"
      },
      "execution_count": 442,
      "outputs": [
        {
          "output_type": "stream",
          "name": "stdout",
          "text": [
            "Best accuracy_score is  0.8104109589041096  on Random state  22\n"
          ]
        }
      ]
    },
    {
      "cell_type": "code",
      "source": [
        "x_train,x_test,y_train,y_test = train_test_split(x,y,test_size =.20,random_state = 22)"
      ],
      "metadata": {
        "id": "s1Op6oZWIImP"
      },
      "execution_count": 443,
      "outputs": []
    },
    {
      "cell_type": "code",
      "source": [
        "print(x_train.shape,y_train.shape)"
      ],
      "metadata": {
        "colab": {
          "base_uri": "https://localhost:8080/"
        },
        "id": "ztHe6oppkFWe",
        "outputId": "0a234b16-6d75-4d83-a6ae-554319ff7b3e"
      },
      "execution_count": 444,
      "outputs": [
        {
          "output_type": "stream",
          "name": "stdout",
          "text": [
            "(14599, 13) (14599, 1)\n"
          ]
        }
      ]
    },
    {
      "cell_type": "code",
      "source": [
        "print(x_test.shape,y_test.shape)"
      ],
      "metadata": {
        "colab": {
          "base_uri": "https://localhost:8080/"
        },
        "id": "6JOcIpFDkFZD",
        "outputId": "8295957a-eb40-44ba-886f-bf3bd4d05269"
      },
      "execution_count": 445,
      "outputs": [
        {
          "output_type": "stream",
          "name": "stdout",
          "text": [
            "(3650, 13) (3650, 1)\n"
          ]
        }
      ]
    },
    {
      "cell_type": "code",
      "source": [
        "# To predict the region,we can consider Decision tree model\n",
        "DT = DecisionTreeClassifier()\n",
        "DT.fit(x_train,y_train)\n",
        "predic_2 = DT.predict(x_test)\n",
        "print(\"accuracy_score is {:0.3f}\".format(accuracy_score(y_test,predic_2)))\n",
        "\n",
        "#confusion matrix and classification report\n",
        "\n",
        "print(confusion_matrix(y_test,predic_2))\n",
        "print(classification_report(y_test,predic_2))"
      ],
      "metadata": {
        "colab": {
          "base_uri": "https://localhost:8080/"
        },
        "id": "USmHqvY2kFb0",
        "outputId": "3c6d408f-02e5-4cf7-8912-cba4f7a2fe06"
      },
      "execution_count": 452,
      "outputs": [
        {
          "output_type": "stream",
          "name": "stdout",
          "text": [
            "accuracy_score is 0.816\n",
            "[[57  0  0 ...  0  0  0]\n",
            " [ 0 50  0 ...  0  0  3]\n",
            " [ 0  0 58 ...  0  0  2]\n",
            " ...\n",
            " [ 0  0  0 ... 59  0  0]\n",
            " [ 0  0  0 ...  0 66  0]\n",
            " [ 0  1  1 ...  0  0 44]]\n",
            "              precision    recall  f1-score   support\n",
            "\n",
            "           0       0.88      0.73      0.80        78\n",
            "           1       0.65      0.77      0.70        65\n",
            "           2       0.81      0.91      0.85        64\n",
            "           3       0.80      0.86      0.83        70\n",
            "           4       0.88      0.88      0.88        76\n",
            "           5       0.67      0.76      0.71        67\n",
            "           6       0.97      0.95      0.96        80\n",
            "           7       0.81      0.88      0.84        64\n",
            "           8       0.96      0.96      0.96        68\n",
            "           9       0.87      0.88      0.87        74\n",
            "          10       0.73      0.73      0.73        70\n",
            "          11       0.84      0.87      0.86        62\n",
            "          12       0.90      0.82      0.86        68\n",
            "          13       0.77      0.73      0.75        64\n",
            "          14       0.85      0.69      0.76        64\n",
            "          15       0.93      1.00      0.96        68\n",
            "          16       0.94      0.93      0.94        70\n",
            "          17       0.88      0.72      0.79        61\n",
            "          18       0.77      0.81      0.79        63\n",
            "          19       0.80      0.92      0.85        61\n",
            "          20       0.86      0.91      0.89        70\n",
            "          21       0.65      0.73      0.69        62\n",
            "          22       0.89      0.90      0.89        70\n",
            "          23       0.80      0.78      0.79        58\n",
            "          24       0.59      0.62      0.60        65\n",
            "          25       0.91      0.88      0.89        72\n",
            "          26       0.63      0.68      0.65        68\n",
            "          27       0.80      0.88      0.84        64\n",
            "          28       0.88      0.88      0.88        68\n",
            "          29       0.95      0.92      0.93        62\n",
            "          30       0.88      0.88      0.88        64\n",
            "          31       0.67      0.58      0.62        71\n",
            "          32       0.77      0.74      0.76        74\n",
            "          33       0.76      0.82      0.79        66\n",
            "          34       0.87      0.79      0.83        77\n",
            "          35       0.87      0.86      0.87        80\n",
            "          36       0.71      0.74      0.72        65\n",
            "          37       0.78      0.78      0.78        89\n",
            "          38       0.75      0.75      0.75        57\n",
            "          39       0.86      0.88      0.87        77\n",
            "          40       0.83      0.87      0.85        62\n",
            "          41       0.70      0.72      0.71        61\n",
            "          42       0.96      0.94      0.95        72\n",
            "          43       0.84      0.77      0.81        62\n",
            "          44       0.83      0.67      0.74        66\n",
            "          45       0.90      0.97      0.94        68\n",
            "          46       0.94      0.98      0.96        60\n",
            "          47       0.89      0.61      0.72        69\n",
            "          48       0.75      0.79      0.77        66\n",
            "          49       0.82      0.82      0.82        72\n",
            "          50       0.43      0.53      0.47        57\n",
            "          51       0.98      1.00      0.99        59\n",
            "          52       0.99      0.93      0.96        71\n",
            "          53       0.68      0.64      0.66        69\n",
            "\n",
            "    accuracy                           0.82      3650\n",
            "   macro avg       0.82      0.81      0.81      3650\n",
            "weighted avg       0.82      0.82      0.82      3650\n",
            "\n"
          ]
        }
      ]
    },
    {
      "cell_type": "code",
      "source": [
        "LR = LogisticRegression()\n",
        "LR.fit(x_train,y_train)\n",
        "predic_1 = LR.predict(x_test)\n",
        "print(\"accuracy_score is {:0.3f}\".format(accuracy_score(y_test,predic_1)))\n",
        "\n",
        "#confusion matrix and classification report\n",
        "\n",
        "print(confusion_matrix(y_test,predic_1))\n",
        "print(classification_report(y_test,predic_1))"
      ],
      "metadata": {
        "colab": {
          "base_uri": "https://localhost:8080/"
        },
        "id": "pvcUKaF7kFew",
        "outputId": "60fe9b10-581b-47b3-8caa-6eb578b08822"
      },
      "execution_count": 453,
      "outputs": [
        {
          "output_type": "stream",
          "name": "stdout",
          "text": [
            "accuracy_score is 0.546\n",
            "[[52  0  0 ...  0  0  0]\n",
            " [ 0 23  0 ...  0  0  0]\n",
            " [ 0  0 37 ...  0  0  4]\n",
            " ...\n",
            " [ 0  0  0 ... 59  0  0]\n",
            " [ 0  0  0 ...  0 64  0]\n",
            " [ 0  2  0 ...  0  0 14]]\n",
            "              precision    recall  f1-score   support\n",
            "\n",
            "           0       0.68      0.67      0.67        78\n",
            "           1       0.21      0.35      0.26        65\n",
            "           2       0.69      0.58      0.63        64\n",
            "           3       0.54      0.43      0.48        70\n",
            "           4       0.48      0.53      0.50        76\n",
            "           5       0.61      0.49      0.55        67\n",
            "           6       0.85      0.94      0.89        80\n",
            "           7       0.44      0.56      0.50        64\n",
            "           8       0.70      0.87      0.78        68\n",
            "           9       0.59      0.74      0.65        74\n",
            "          10       0.57      0.54      0.55        70\n",
            "          11       0.51      0.65      0.57        62\n",
            "          12       0.49      0.44      0.47        68\n",
            "          13       0.38      0.23      0.29        64\n",
            "          14       0.58      0.53      0.55        64\n",
            "          15       0.75      0.65      0.69        68\n",
            "          16       0.53      0.39      0.45        70\n",
            "          17       0.48      0.51      0.49        61\n",
            "          18       0.37      0.41      0.39        63\n",
            "          19       0.53      0.67      0.59        61\n",
            "          20       0.50      0.63      0.56        70\n",
            "          21       0.40      0.31      0.35        62\n",
            "          22       0.68      0.70      0.69        70\n",
            "          23       0.56      0.69      0.62        58\n",
            "          24       0.03      0.02      0.02        65\n",
            "          25       0.54      0.78      0.64        72\n",
            "          26       0.24      0.16      0.19        68\n",
            "          27       0.31      0.45      0.37        64\n",
            "          28       0.63      0.60      0.62        68\n",
            "          29       0.74      0.82      0.78        62\n",
            "          30       0.65      0.56      0.61        64\n",
            "          31       0.42      0.35      0.38        71\n",
            "          32       0.61      0.58      0.60        74\n",
            "          33       0.36      0.45      0.40        66\n",
            "          34       0.30      0.29      0.29        77\n",
            "          35       0.64      0.46      0.54        80\n",
            "          36       0.58      0.40      0.47        65\n",
            "          37       0.62      0.49      0.55        89\n",
            "          38       0.45      0.56      0.50        57\n",
            "          39       0.45      0.56      0.50        77\n",
            "          40       0.61      0.77      0.68        62\n",
            "          41       0.39      0.31      0.35        61\n",
            "          42       0.84      0.78      0.81        72\n",
            "          43       0.69      0.55      0.61        62\n",
            "          44       0.36      0.45      0.40        66\n",
            "          45       0.89      0.93      0.91        68\n",
            "          46       0.74      0.70      0.72        60\n",
            "          47       0.54      0.61      0.57        69\n",
            "          48       0.38      0.17      0.23        66\n",
            "          49       0.58      0.72      0.65        72\n",
            "          50       0.30      0.25      0.27        57\n",
            "          51       1.00      1.00      1.00        59\n",
            "          52       0.89      0.90      0.90        71\n",
            "          53       0.35      0.20      0.26        69\n",
            "\n",
            "    accuracy                           0.55      3650\n",
            "   macro avg       0.54      0.54      0.54      3650\n",
            "weighted avg       0.54      0.55      0.54      3650\n",
            "\n"
          ]
        }
      ]
    },
    {
      "cell_type": "code",
      "source": [
        "#Using KNN Classifier\n",
        "from sklearn.neighbors import KNeighborsClassifier\n",
        "\n",
        "KN = KNeighborsClassifier()\n",
        "KN.fit(x_train,y_train)\n",
        "predic_3 = KN.predict(x_test)\n",
        "print(\"accuracy_score is {:0.3f}\".format(accuracy_score(y_test,predic_3)))\n",
        "\n",
        "#confusion matrix and classification report\n",
        "\n",
        "print(confusion_matrix(y_test,predic_3))\n",
        "print(classification_report(y_test,predic_3))"
      ],
      "metadata": {
        "colab": {
          "base_uri": "https://localhost:8080/"
        },
        "id": "aClvoqXKkFhE",
        "outputId": "fd58ad87-ce56-470b-8d9e-943244c55e0f"
      },
      "execution_count": 454,
      "outputs": [
        {
          "output_type": "stream",
          "name": "stdout",
          "text": [
            "accuracy_score is 0.654\n",
            "[[63  0  0 ...  0  0  0]\n",
            " [ 0 41  0 ...  0  0  1]\n",
            " [ 0  0 60 ...  0  0  0]\n",
            " ...\n",
            " [ 0  0  0 ... 59  0  0]\n",
            " [ 0  0  0 ...  0 56  0]\n",
            " [ 0  3  0 ...  0  0 32]]\n",
            "              precision    recall  f1-score   support\n",
            "\n",
            "           0       0.59      0.81      0.68        78\n",
            "           1       0.38      0.63      0.47        65\n",
            "           2       0.67      0.94      0.78        64\n",
            "           3       0.69      0.73      0.71        70\n",
            "           4       0.64      0.72      0.68        76\n",
            "           5       0.48      0.55      0.51        67\n",
            "           6       0.90      0.89      0.89        80\n",
            "           7       0.46      0.73      0.56        64\n",
            "           8       0.86      0.87      0.86        68\n",
            "           9       0.42      0.57      0.48        74\n",
            "          10       0.35      0.47      0.40        70\n",
            "          11       0.58      0.85      0.69        62\n",
            "          12       0.89      0.84      0.86        68\n",
            "          13       0.46      0.45      0.46        64\n",
            "          14       0.79      0.86      0.82        64\n",
            "          15       0.73      0.88      0.80        68\n",
            "          16       0.79      0.70      0.74        70\n",
            "          17       0.72      0.62      0.67        61\n",
            "          18       0.64      0.62      0.63        63\n",
            "          19       0.45      0.54      0.49        61\n",
            "          20       0.70      0.70      0.70        70\n",
            "          21       0.47      0.58      0.52        62\n",
            "          22       0.88      0.87      0.88        70\n",
            "          23       0.70      0.57      0.63        58\n",
            "          24       0.38      0.34      0.36        65\n",
            "          25       0.76      0.79      0.78        72\n",
            "          26       0.53      0.49      0.51        68\n",
            "          27       0.58      0.53      0.55        64\n",
            "          28       0.88      0.88      0.88        68\n",
            "          29       0.95      0.87      0.91        62\n",
            "          30       0.80      0.67      0.73        64\n",
            "          31       0.34      0.32      0.33        71\n",
            "          32       0.81      0.68      0.74        74\n",
            "          33       0.49      0.47      0.48        66\n",
            "          34       0.87      0.77      0.81        77\n",
            "          35       0.92      0.86      0.89        80\n",
            "          36       0.61      0.58      0.60        65\n",
            "          37       0.58      0.43      0.49        89\n",
            "          38       0.45      0.47      0.46        57\n",
            "          39       0.67      0.40      0.50        77\n",
            "          40       0.57      0.69      0.62        62\n",
            "          41       0.59      0.48      0.53        61\n",
            "          42       0.96      0.75      0.84        72\n",
            "          43       0.73      0.53      0.62        62\n",
            "          44       0.50      0.38      0.43        66\n",
            "          45       0.82      0.93      0.87        68\n",
            "          46       0.92      0.78      0.85        60\n",
            "          47       0.75      0.65      0.70        69\n",
            "          48       0.80      0.55      0.65        66\n",
            "          49       0.64      0.51      0.57        72\n",
            "          50       0.20      0.16      0.18        57\n",
            "          51       1.00      1.00      1.00        59\n",
            "          52       0.97      0.79      0.87        71\n",
            "          53       0.63      0.46      0.53        69\n",
            "\n",
            "    accuracy                           0.65      3650\n",
            "   macro avg       0.67      0.65      0.65      3650\n",
            "weighted avg       0.67      0.65      0.65      3650\n",
            "\n"
          ]
        }
      ]
    },
    {
      "cell_type": "code",
      "source": [
        "#Using Random forest Classifer\n",
        "from sklearn.ensemble import RandomForestClassifier\n",
        "\n",
        "RF = RandomForestClassifier()\n",
        "RF.fit(x_train,y_train)\n",
        "predic_4 = RF.predict(x_test)\n",
        "print(\"accuracy_score is {:0.3f}\".format(accuracy_score(y_test,predic_4)))\n",
        "\n",
        "#confusion matrix and classification report\n",
        "\n",
        "print(confusion_matrix(y_test,predic_4))\n",
        "print(classification_report(y_test,predic_4))"
      ],
      "metadata": {
        "colab": {
          "base_uri": "https://localhost:8080/"
        },
        "id": "XsvOnRzukFjV",
        "outputId": "c658f659-f4ba-4792-8455-08ee3e334137"
      },
      "execution_count": 456,
      "outputs": [
        {
          "output_type": "stream",
          "name": "stdout",
          "text": [
            "accuracy_score is 0.921\n",
            "[[75  0  0 ...  0  0  0]\n",
            " [ 0 61  0 ...  0  0  0]\n",
            " [ 0  0 64 ...  0  0  0]\n",
            " ...\n",
            " [ 0  0  0 ... 59  0  0]\n",
            " [ 0  0  0 ...  0 70  0]\n",
            " [ 0  0  1 ...  0  0 58]]\n",
            "              precision    recall  f1-score   support\n",
            "\n",
            "           0       0.87      0.96      0.91        78\n",
            "           1       0.84      0.94      0.88        65\n",
            "           2       0.96      1.00      0.98        64\n",
            "           3       0.89      0.91      0.90        70\n",
            "           4       0.96      0.99      0.97        76\n",
            "           5       0.88      0.79      0.83        67\n",
            "           6       0.98      0.99      0.98        80\n",
            "           7       0.89      0.92      0.91        64\n",
            "           8       0.99      1.00      0.99        68\n",
            "           9       0.96      0.92      0.94        74\n",
            "          10       0.78      0.84      0.81        70\n",
            "          11       0.92      0.97      0.94        62\n",
            "          12       0.99      0.97      0.98        68\n",
            "          13       0.88      0.81      0.85        64\n",
            "          14       0.92      0.91      0.91        64\n",
            "          15       0.98      0.96      0.97        68\n",
            "          16       0.97      0.94      0.96        70\n",
            "          17       0.90      0.90      0.90        61\n",
            "          18       0.92      0.90      0.91        63\n",
            "          19       0.92      0.93      0.93        61\n",
            "          20       0.99      0.97      0.98        70\n",
            "          21       0.77      0.90      0.83        62\n",
            "          22       0.99      0.99      0.99        70\n",
            "          23       0.86      0.84      0.85        58\n",
            "          24       0.78      0.75      0.77        65\n",
            "          25       0.95      0.99      0.97        72\n",
            "          26       0.84      0.82      0.83        68\n",
            "          27       0.95      0.97      0.96        64\n",
            "          28       0.99      0.97      0.98        68\n",
            "          29       1.00      0.98      0.99        62\n",
            "          30       0.98      0.97      0.98        64\n",
            "          31       0.84      0.76      0.80        71\n",
            "          32       0.93      0.86      0.90        74\n",
            "          33       0.91      0.92      0.92        66\n",
            "          34       0.95      0.97      0.96        77\n",
            "          35       1.00      0.96      0.98        80\n",
            "          36       0.83      0.85      0.84        65\n",
            "          37       0.95      0.92      0.94        89\n",
            "          38       0.93      0.98      0.96        57\n",
            "          39       0.93      0.99      0.96        77\n",
            "          40       0.90      0.90      0.90        62\n",
            "          41       0.90      0.93      0.92        61\n",
            "          42       0.97      0.96      0.97        72\n",
            "          43       0.91      0.85      0.88        62\n",
            "          44       0.98      0.92      0.95        66\n",
            "          45       0.97      1.00      0.99        68\n",
            "          46       0.98      1.00      0.99        60\n",
            "          47       0.95      0.84      0.89        69\n",
            "          48       0.94      0.88      0.91        66\n",
            "          49       0.94      0.90      0.92        72\n",
            "          50       0.62      0.68      0.65        57\n",
            "          51       0.98      1.00      0.99        59\n",
            "          52       1.00      0.99      0.99        71\n",
            "          53       0.88      0.84      0.86        69\n",
            "\n",
            "    accuracy                           0.92      3650\n",
            "   macro avg       0.92      0.92      0.92      3650\n",
            "weighted avg       0.92      0.92      0.92      3650\n",
            "\n"
          ]
        }
      ]
    },
    {
      "cell_type": "markdown",
      "source": [
        "Randomforest model has more accuracy then all these models"
      ],
      "metadata": {
        "id": "sj3WL-bXHbG1"
      }
    },
    {
      "cell_type": "markdown",
      "source": [
        "## Cross Validation to check with overfitting"
      ],
      "metadata": {
        "id": "osLXepH6HnYE"
      }
    },
    {
      "cell_type": "code",
      "source": [
        "from sklearn.model_selection import cross_val_score\n",
        "\n",
        "#for Logistic regression model\n",
        "L_cr = cross_val_score(LR,x,y,cv=5)\n",
        "print(\"cross validation for Logistics regression model : \",L_cr.mean())"
      ],
      "metadata": {
        "colab": {
          "base_uri": "https://localhost:8080/"
        },
        "id": "WCnbHTsokFmU",
        "outputId": "ee888cda-16ab-4372-e292-d63ad44afc70"
      },
      "execution_count": 457,
      "outputs": [
        {
          "output_type": "stream",
          "name": "stdout",
          "text": [
            "cross validation for Logistics regression model :  0.4065919805388603\n"
          ]
        }
      ]
    },
    {
      "cell_type": "code",
      "source": [
        "L_cr = cross_val_score(KN,x,y,cv=5)\n",
        "print(\"cross validation for KNN classifier model : \",L_cr.mean())"
      ],
      "metadata": {
        "colab": {
          "base_uri": "https://localhost:8080/"
        },
        "id": "-64kX4s1kFoG",
        "outputId": "6e97d3be-ad42-4c11-fec5-ee29b32e7bcc"
      },
      "execution_count": 458,
      "outputs": [
        {
          "output_type": "stream",
          "name": "stdout",
          "text": [
            "cross validation for KNN classifier model :  0.4462659614005714\n"
          ]
        }
      ]
    },
    {
      "cell_type": "code",
      "source": [
        "L_cr = cross_val_score(DT,x,y,cv=5)\n",
        "print(\"cross validation for Decision tree model : \",L_cr.mean())"
      ],
      "metadata": {
        "colab": {
          "base_uri": "https://localhost:8080/"
        },
        "id": "-9iJ52hykFqr",
        "outputId": "77459c53-aa76-47fd-ebae-a956394f44c1"
      },
      "execution_count": 459,
      "outputs": [
        {
          "output_type": "stream",
          "name": "stdout",
          "text": [
            "cross validation for Decision tree model :  0.5466527065024382\n"
          ]
        }
      ]
    },
    {
      "cell_type": "code",
      "source": [
        "L_cr = cross_val_score(RF,x,y,cv=5)\n",
        "print(\"cross validation for Random forest model : \",L_cr.mean())"
      ],
      "metadata": {
        "colab": {
          "base_uri": "https://localhost:8080/"
        },
        "id": "ApNRFUtrH6xv",
        "outputId": "4912c23c-15e4-4d83-9432-fcd7aa3fe9df"
      },
      "execution_count": 460,
      "outputs": [
        {
          "output_type": "stream",
          "name": "stdout",
          "text": [
            "cross validation for Random forest model :  0.6777250288125477\n"
          ]
        }
      ]
    },
    {
      "cell_type": "markdown",
      "source": [
        "with this,I can conclude that my final model is Random forest."
      ],
      "metadata": {
        "id": "50UBDcELIMXs"
      }
    },
    {
      "cell_type": "markdown",
      "source": [
        "## Hyper parameter tuning"
      ],
      "metadata": {
        "id": "UQNBHIZTIJ9U"
      }
    },
    {
      "cell_type": "code",
      "source": [
        "from sklearn.model_selection import GridSearchCV\n",
        "\n",
        "params_list = {'criterion':['gini','entropy'],\n",
        "               'max_features':['auto','sqrt','log2'],\n",
        "               'min_impurity_decrease':[0.0,0.1,0.2,0.3],\n",
        "               'max_depth':[1,2,3,4,None]}\n",
        "GCV = GridSearchCV(RandomForestClassifier(),params_list,cv=5,scoring=\"accuracy\")\n",
        "GCV.fit(x_train,y_train)\n",
        "\n",
        "#printing the best parameter\n",
        "GCV.best_params_"
      ],
      "metadata": {
        "id": "LvS-U6KoQoic"
      },
      "execution_count": null,
      "outputs": []
    },
    {
      "cell_type": "markdown",
      "source": [
        "Since the datset s very large and also Im not even able to tune even a single and its taking a way too much of time. "
      ],
      "metadata": {
        "id": "VIzod8H9QLNk"
      }
    },
    {
      "cell_type": "code",
      "source": [
        "#now predicting with best parameters\n",
        "\n",
        "GCV_predic = GCV.best_estimator_.predict(x_test)\n",
        "\n",
        "#getting the final accuracy\n",
        "accuracy_score(y_test,GCV_predic)\n",
        "#f1_score(y_test,GCV_predic)"
      ],
      "metadata": {
        "id": "YlnhilsPJaSv"
      },
      "execution_count": null,
      "outputs": []
    },
    {
      "cell_type": "code",
      "source": [
        "from sklearn.metrics import plot_roc_curve\n",
        "plot_roc_curve(GCV.best_estimator_,x_test,y_test)\n",
        "plt.title(\"ROC AUC plot\")\n",
        "plt.show()"
      ],
      "metadata": {
        "id": "qGx4i3zWJjwv"
      },
      "execution_count": null,
      "outputs": []
    },
    {
      "cell_type": "code",
      "source": [
        "import joblib\n",
        "joblib.dump(GCV.best_estimator_,\"HR_Analytics_Project2.pkl\")"
      ],
      "metadata": {
        "id": "tJg-85KpQrsM"
      },
      "execution_count": null,
      "outputs": []
    }
  ]
}