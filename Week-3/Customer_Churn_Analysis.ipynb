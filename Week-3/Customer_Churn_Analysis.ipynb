{
  "nbformat": 4,
  "nbformat_minor": 0,
  "metadata": {
    "colab": {
      "name": "Customer_Churn_Analysis.ipynb",
      "provenance": [],
      "collapsed_sections": []
    },
    "kernelspec": {
      "name": "python3",
      "display_name": "Python 3"
    },
    "language_info": {
      "name": "python"
    }
  },
  "cells": [
    {
      "cell_type": "markdown",
      "source": [
        "#### Problem Statement:\n",
        "\n",
        "Customer churn is when a company’s customers stop doing business with that company. Businesses are very keen on measuring churn because keeping an existing customer is far less expensive than acquiring a new customer. New business involves working leads through a sales funnel, using marketing and sales budgets to gain additional customers. Existing customers will often have a higher volume of service consumption and can generate additional customer referrals.\n",
        "\n",
        "Customer retention can be achieved with good customer service and products. But the most effective way for a company to prevent attrition of customers is to truly know them. The vast volumes of data collected about customers can be used to build churn prediction models. Knowing who is most likely to defect means that a company can prioritise focused marketing efforts on that subset of their customer base.\n",
        "\n",
        "Preventing customer churn is critically important to the telecommunications sector, as the barriers to entry for switching services are so low. "
      ],
      "metadata": {
        "id": "f8_zpBADjqsq"
      }
    },
    {
      "cell_type": "code",
      "execution_count": 1,
      "metadata": {
        "id": "7KhXU4oOjK8m"
      },
      "outputs": [],
      "source": [
        "# Importing packages\n",
        "import pandas as pd\n",
        "import numpy as np\n",
        "import matplotlib.pyplot as plt\n",
        "import seaborn as sns"
      ]
    },
    {
      "cell_type": "code",
      "source": [
        "#reading a dataset\n",
        "df = pd.read_csv('Telecom_customer_churn.csv')\n",
        "df.head()"
      ],
      "metadata": {
        "colab": {
          "base_uri": "https://localhost:8080/",
          "height": 356
        },
        "id": "_CWKFe0zj5gx",
        "outputId": "31e5a5a1-3001-4994-bfca-478269ed349f"
      },
      "execution_count": 2,
      "outputs": [
        {
          "output_type": "execute_result",
          "data": {
            "text/html": [
              "\n",
              "  <div id=\"df-94fc889f-f237-4f93-83e6-2df89df35a48\">\n",
              "    <div class=\"colab-df-container\">\n",
              "      <div>\n",
              "<style scoped>\n",
              "    .dataframe tbody tr th:only-of-type {\n",
              "        vertical-align: middle;\n",
              "    }\n",
              "\n",
              "    .dataframe tbody tr th {\n",
              "        vertical-align: top;\n",
              "    }\n",
              "\n",
              "    .dataframe thead th {\n",
              "        text-align: right;\n",
              "    }\n",
              "</style>\n",
              "<table border=\"1\" class=\"dataframe\">\n",
              "  <thead>\n",
              "    <tr style=\"text-align: right;\">\n",
              "      <th></th>\n",
              "      <th>customerID</th>\n",
              "      <th>gender</th>\n",
              "      <th>SeniorCitizen</th>\n",
              "      <th>Partner</th>\n",
              "      <th>Dependents</th>\n",
              "      <th>tenure</th>\n",
              "      <th>PhoneService</th>\n",
              "      <th>MultipleLines</th>\n",
              "      <th>InternetService</th>\n",
              "      <th>OnlineSecurity</th>\n",
              "      <th>OnlineBackup</th>\n",
              "      <th>DeviceProtection</th>\n",
              "      <th>TechSupport</th>\n",
              "      <th>StreamingTV</th>\n",
              "      <th>StreamingMovies</th>\n",
              "      <th>Contract</th>\n",
              "      <th>PaperlessBilling</th>\n",
              "      <th>PaymentMethod</th>\n",
              "      <th>MonthlyCharges</th>\n",
              "      <th>TotalCharges</th>\n",
              "      <th>Churn</th>\n",
              "    </tr>\n",
              "  </thead>\n",
              "  <tbody>\n",
              "    <tr>\n",
              "      <th>0</th>\n",
              "      <td>7590-VHVEG</td>\n",
              "      <td>Female</td>\n",
              "      <td>0</td>\n",
              "      <td>Yes</td>\n",
              "      <td>No</td>\n",
              "      <td>1</td>\n",
              "      <td>No</td>\n",
              "      <td>No phone service</td>\n",
              "      <td>DSL</td>\n",
              "      <td>No</td>\n",
              "      <td>Yes</td>\n",
              "      <td>No</td>\n",
              "      <td>No</td>\n",
              "      <td>No</td>\n",
              "      <td>No</td>\n",
              "      <td>Month-to-month</td>\n",
              "      <td>Yes</td>\n",
              "      <td>Electronic check</td>\n",
              "      <td>29.85</td>\n",
              "      <td>29.85</td>\n",
              "      <td>No</td>\n",
              "    </tr>\n",
              "    <tr>\n",
              "      <th>1</th>\n",
              "      <td>5575-GNVDE</td>\n",
              "      <td>Male</td>\n",
              "      <td>0</td>\n",
              "      <td>No</td>\n",
              "      <td>No</td>\n",
              "      <td>34</td>\n",
              "      <td>Yes</td>\n",
              "      <td>No</td>\n",
              "      <td>DSL</td>\n",
              "      <td>Yes</td>\n",
              "      <td>No</td>\n",
              "      <td>Yes</td>\n",
              "      <td>No</td>\n",
              "      <td>No</td>\n",
              "      <td>No</td>\n",
              "      <td>One year</td>\n",
              "      <td>No</td>\n",
              "      <td>Mailed check</td>\n",
              "      <td>56.95</td>\n",
              "      <td>1889.5</td>\n",
              "      <td>No</td>\n",
              "    </tr>\n",
              "    <tr>\n",
              "      <th>2</th>\n",
              "      <td>3668-QPYBK</td>\n",
              "      <td>Male</td>\n",
              "      <td>0</td>\n",
              "      <td>No</td>\n",
              "      <td>No</td>\n",
              "      <td>2</td>\n",
              "      <td>Yes</td>\n",
              "      <td>No</td>\n",
              "      <td>DSL</td>\n",
              "      <td>Yes</td>\n",
              "      <td>Yes</td>\n",
              "      <td>No</td>\n",
              "      <td>No</td>\n",
              "      <td>No</td>\n",
              "      <td>No</td>\n",
              "      <td>Month-to-month</td>\n",
              "      <td>Yes</td>\n",
              "      <td>Mailed check</td>\n",
              "      <td>53.85</td>\n",
              "      <td>108.15</td>\n",
              "      <td>Yes</td>\n",
              "    </tr>\n",
              "    <tr>\n",
              "      <th>3</th>\n",
              "      <td>7795-CFOCW</td>\n",
              "      <td>Male</td>\n",
              "      <td>0</td>\n",
              "      <td>No</td>\n",
              "      <td>No</td>\n",
              "      <td>45</td>\n",
              "      <td>No</td>\n",
              "      <td>No phone service</td>\n",
              "      <td>DSL</td>\n",
              "      <td>Yes</td>\n",
              "      <td>No</td>\n",
              "      <td>Yes</td>\n",
              "      <td>Yes</td>\n",
              "      <td>No</td>\n",
              "      <td>No</td>\n",
              "      <td>One year</td>\n",
              "      <td>No</td>\n",
              "      <td>Bank transfer (automatic)</td>\n",
              "      <td>42.30</td>\n",
              "      <td>1840.75</td>\n",
              "      <td>No</td>\n",
              "    </tr>\n",
              "    <tr>\n",
              "      <th>4</th>\n",
              "      <td>9237-HQITU</td>\n",
              "      <td>Female</td>\n",
              "      <td>0</td>\n",
              "      <td>No</td>\n",
              "      <td>No</td>\n",
              "      <td>2</td>\n",
              "      <td>Yes</td>\n",
              "      <td>No</td>\n",
              "      <td>Fiber optic</td>\n",
              "      <td>No</td>\n",
              "      <td>No</td>\n",
              "      <td>No</td>\n",
              "      <td>No</td>\n",
              "      <td>No</td>\n",
              "      <td>No</td>\n",
              "      <td>Month-to-month</td>\n",
              "      <td>Yes</td>\n",
              "      <td>Electronic check</td>\n",
              "      <td>70.70</td>\n",
              "      <td>151.65</td>\n",
              "      <td>Yes</td>\n",
              "    </tr>\n",
              "  </tbody>\n",
              "</table>\n",
              "</div>\n",
              "      <button class=\"colab-df-convert\" onclick=\"convertToInteractive('df-94fc889f-f237-4f93-83e6-2df89df35a48')\"\n",
              "              title=\"Convert this dataframe to an interactive table.\"\n",
              "              style=\"display:none;\">\n",
              "        \n",
              "  <svg xmlns=\"http://www.w3.org/2000/svg\" height=\"24px\"viewBox=\"0 0 24 24\"\n",
              "       width=\"24px\">\n",
              "    <path d=\"M0 0h24v24H0V0z\" fill=\"none\"/>\n",
              "    <path d=\"M18.56 5.44l.94 2.06.94-2.06 2.06-.94-2.06-.94-.94-2.06-.94 2.06-2.06.94zm-11 1L8.5 8.5l.94-2.06 2.06-.94-2.06-.94L8.5 2.5l-.94 2.06-2.06.94zm10 10l.94 2.06.94-2.06 2.06-.94-2.06-.94-.94-2.06-.94 2.06-2.06.94z\"/><path d=\"M17.41 7.96l-1.37-1.37c-.4-.4-.92-.59-1.43-.59-.52 0-1.04.2-1.43.59L10.3 9.45l-7.72 7.72c-.78.78-.78 2.05 0 2.83L4 21.41c.39.39.9.59 1.41.59.51 0 1.02-.2 1.41-.59l7.78-7.78 2.81-2.81c.8-.78.8-2.07 0-2.86zM5.41 20L4 18.59l7.72-7.72 1.47 1.35L5.41 20z\"/>\n",
              "  </svg>\n",
              "      </button>\n",
              "      \n",
              "  <style>\n",
              "    .colab-df-container {\n",
              "      display:flex;\n",
              "      flex-wrap:wrap;\n",
              "      gap: 12px;\n",
              "    }\n",
              "\n",
              "    .colab-df-convert {\n",
              "      background-color: #E8F0FE;\n",
              "      border: none;\n",
              "      border-radius: 50%;\n",
              "      cursor: pointer;\n",
              "      display: none;\n",
              "      fill: #1967D2;\n",
              "      height: 32px;\n",
              "      padding: 0 0 0 0;\n",
              "      width: 32px;\n",
              "    }\n",
              "\n",
              "    .colab-df-convert:hover {\n",
              "      background-color: #E2EBFA;\n",
              "      box-shadow: 0px 1px 2px rgba(60, 64, 67, 0.3), 0px 1px 3px 1px rgba(60, 64, 67, 0.15);\n",
              "      fill: #174EA6;\n",
              "    }\n",
              "\n",
              "    [theme=dark] .colab-df-convert {\n",
              "      background-color: #3B4455;\n",
              "      fill: #D2E3FC;\n",
              "    }\n",
              "\n",
              "    [theme=dark] .colab-df-convert:hover {\n",
              "      background-color: #434B5C;\n",
              "      box-shadow: 0px 1px 3px 1px rgba(0, 0, 0, 0.15);\n",
              "      filter: drop-shadow(0px 1px 2px rgba(0, 0, 0, 0.3));\n",
              "      fill: #FFFFFF;\n",
              "    }\n",
              "  </style>\n",
              "\n",
              "      <script>\n",
              "        const buttonEl =\n",
              "          document.querySelector('#df-94fc889f-f237-4f93-83e6-2df89df35a48 button.colab-df-convert');\n",
              "        buttonEl.style.display =\n",
              "          google.colab.kernel.accessAllowed ? 'block' : 'none';\n",
              "\n",
              "        async function convertToInteractive(key) {\n",
              "          const element = document.querySelector('#df-94fc889f-f237-4f93-83e6-2df89df35a48');\n",
              "          const dataTable =\n",
              "            await google.colab.kernel.invokeFunction('convertToInteractive',\n",
              "                                                     [key], {});\n",
              "          if (!dataTable) return;\n",
              "\n",
              "          const docLinkHtml = 'Like what you see? Visit the ' +\n",
              "            '<a target=\"_blank\" href=https://colab.research.google.com/notebooks/data_table.ipynb>data table notebook</a>'\n",
              "            + ' to learn more about interactive tables.';\n",
              "          element.innerHTML = '';\n",
              "          dataTable['output_type'] = 'display_data';\n",
              "          await google.colab.output.renderOutput(dataTable, element);\n",
              "          const docLink = document.createElement('div');\n",
              "          docLink.innerHTML = docLinkHtml;\n",
              "          element.appendChild(docLink);\n",
              "        }\n",
              "      </script>\n",
              "    </div>\n",
              "  </div>\n",
              "  "
            ],
            "text/plain": [
              "   customerID  gender  SeniorCitizen  ... MonthlyCharges TotalCharges  Churn\n",
              "0  7590-VHVEG  Female              0  ...          29.85        29.85     No\n",
              "1  5575-GNVDE    Male              0  ...          56.95       1889.5     No\n",
              "2  3668-QPYBK    Male              0  ...          53.85       108.15    Yes\n",
              "3  7795-CFOCW    Male              0  ...          42.30      1840.75     No\n",
              "4  9237-HQITU  Female              0  ...          70.70       151.65    Yes\n",
              "\n",
              "[5 rows x 21 columns]"
            ]
          },
          "metadata": {},
          "execution_count": 2
        }
      ]
    },
    {
      "cell_type": "markdown",
      "source": [
        "Here,we got dependent variable as \"Churn\" column which consists of \"YES\" or \"NO\" values."
      ],
      "metadata": {
        "id": "HjRQHPVQkH5U"
      }
    },
    {
      "cell_type": "code",
      "source": [
        "#to check how many rows and columns in dataframe\n",
        "df.shape"
      ],
      "metadata": {
        "colab": {
          "base_uri": "https://localhost:8080/"
        },
        "id": "1UgdcmRYkDZW",
        "outputId": "b86ba552-b445-4f0d-de50-05a6931823d8"
      },
      "execution_count": 3,
      "outputs": [
        {
          "output_type": "execute_result",
          "data": {
            "text/plain": [
              "(7043, 21)"
            ]
          },
          "metadata": {},
          "execution_count": 3
        }
      ]
    },
    {
      "cell_type": "code",
      "source": [
        "#to get the info of this dataframe\n",
        "df.info()"
      ],
      "metadata": {
        "colab": {
          "base_uri": "https://localhost:8080/"
        },
        "id": "jPrITFc7kOIA",
        "outputId": "f5d81e53-7f43-400d-d51a-c171bd3adbcc"
      },
      "execution_count": 4,
      "outputs": [
        {
          "output_type": "stream",
          "name": "stdout",
          "text": [
            "<class 'pandas.core.frame.DataFrame'>\n",
            "RangeIndex: 7043 entries, 0 to 7042\n",
            "Data columns (total 21 columns):\n",
            " #   Column            Non-Null Count  Dtype  \n",
            "---  ------            --------------  -----  \n",
            " 0   customerID        7043 non-null   object \n",
            " 1   gender            7043 non-null   object \n",
            " 2   SeniorCitizen     7043 non-null   int64  \n",
            " 3   Partner           7043 non-null   object \n",
            " 4   Dependents        7043 non-null   object \n",
            " 5   tenure            7043 non-null   int64  \n",
            " 6   PhoneService      7043 non-null   object \n",
            " 7   MultipleLines     7043 non-null   object \n",
            " 8   InternetService   7043 non-null   object \n",
            " 9   OnlineSecurity    7043 non-null   object \n",
            " 10  OnlineBackup      7043 non-null   object \n",
            " 11  DeviceProtection  7043 non-null   object \n",
            " 12  TechSupport       7043 non-null   object \n",
            " 13  StreamingTV       7043 non-null   object \n",
            " 14  StreamingMovies   7043 non-null   object \n",
            " 15  Contract          7043 non-null   object \n",
            " 16  PaperlessBilling  7043 non-null   object \n",
            " 17  PaymentMethod     7043 non-null   object \n",
            " 18  MonthlyCharges    7043 non-null   float64\n",
            " 19  TotalCharges      7043 non-null   object \n",
            " 20  Churn             7043 non-null   object \n",
            "dtypes: float64(1), int64(2), object(18)\n",
            "memory usage: 1.1+ MB\n"
          ]
        }
      ]
    },
    {
      "cell_type": "markdown",
      "source": [
        "with above details,we can observe all the datatypes of each column along with memory consumption of dataset"
      ],
      "metadata": {
        "id": "G9hKweq-kTvR"
      }
    },
    {
      "cell_type": "code",
      "source": [
        "df.duplicated().sum()  #to check with duplicate records"
      ],
      "metadata": {
        "colab": {
          "base_uri": "https://localhost:8080/"
        },
        "id": "6ykK7caukRNA",
        "outputId": "94a7a6e7-73f8-4996-d714-7c73ebf6252a"
      },
      "execution_count": 5,
      "outputs": [
        {
          "output_type": "execute_result",
          "data": {
            "text/plain": [
              "0"
            ]
          },
          "metadata": {},
          "execution_count": 5
        }
      ]
    },
    {
      "cell_type": "code",
      "source": [
        "df['Churn'].value_counts()"
      ],
      "metadata": {
        "colab": {
          "base_uri": "https://localhost:8080/"
        },
        "id": "kV7I8sJmkWta",
        "outputId": "1512e3d9-4adc-4c96-b680-667aaef10d89"
      },
      "execution_count": 6,
      "outputs": [
        {
          "output_type": "execute_result",
          "data": {
            "text/plain": [
              "No     5174\n",
              "Yes    1869\n",
              "Name: Churn, dtype: int64"
            ]
          },
          "metadata": {},
          "execution_count": 6
        }
      ]
    },
    {
      "cell_type": "markdown",
      "source": [
        "there are more records on \"NO\""
      ],
      "metadata": {
        "id": "ktDk_GmDkbtQ"
      }
    },
    {
      "cell_type": "code",
      "source": [
        "#to get statistics information\n",
        "df.describe()"
      ],
      "metadata": {
        "colab": {
          "base_uri": "https://localhost:8080/",
          "height": 300
        },
        "id": "PNh-1MaWkZfg",
        "outputId": "334ffb77-835e-43a2-b6ce-ad4fcfe16494"
      },
      "execution_count": 7,
      "outputs": [
        {
          "output_type": "execute_result",
          "data": {
            "text/html": [
              "\n",
              "  <div id=\"df-4ae444c3-4bf8-46da-a238-9f16f4d7ad85\">\n",
              "    <div class=\"colab-df-container\">\n",
              "      <div>\n",
              "<style scoped>\n",
              "    .dataframe tbody tr th:only-of-type {\n",
              "        vertical-align: middle;\n",
              "    }\n",
              "\n",
              "    .dataframe tbody tr th {\n",
              "        vertical-align: top;\n",
              "    }\n",
              "\n",
              "    .dataframe thead th {\n",
              "        text-align: right;\n",
              "    }\n",
              "</style>\n",
              "<table border=\"1\" class=\"dataframe\">\n",
              "  <thead>\n",
              "    <tr style=\"text-align: right;\">\n",
              "      <th></th>\n",
              "      <th>SeniorCitizen</th>\n",
              "      <th>tenure</th>\n",
              "      <th>MonthlyCharges</th>\n",
              "    </tr>\n",
              "  </thead>\n",
              "  <tbody>\n",
              "    <tr>\n",
              "      <th>count</th>\n",
              "      <td>7043.000000</td>\n",
              "      <td>7043.000000</td>\n",
              "      <td>7043.000000</td>\n",
              "    </tr>\n",
              "    <tr>\n",
              "      <th>mean</th>\n",
              "      <td>0.162147</td>\n",
              "      <td>32.371149</td>\n",
              "      <td>64.761692</td>\n",
              "    </tr>\n",
              "    <tr>\n",
              "      <th>std</th>\n",
              "      <td>0.368612</td>\n",
              "      <td>24.559481</td>\n",
              "      <td>30.090047</td>\n",
              "    </tr>\n",
              "    <tr>\n",
              "      <th>min</th>\n",
              "      <td>0.000000</td>\n",
              "      <td>0.000000</td>\n",
              "      <td>18.250000</td>\n",
              "    </tr>\n",
              "    <tr>\n",
              "      <th>25%</th>\n",
              "      <td>0.000000</td>\n",
              "      <td>9.000000</td>\n",
              "      <td>35.500000</td>\n",
              "    </tr>\n",
              "    <tr>\n",
              "      <th>50%</th>\n",
              "      <td>0.000000</td>\n",
              "      <td>29.000000</td>\n",
              "      <td>70.350000</td>\n",
              "    </tr>\n",
              "    <tr>\n",
              "      <th>75%</th>\n",
              "      <td>0.000000</td>\n",
              "      <td>55.000000</td>\n",
              "      <td>89.850000</td>\n",
              "    </tr>\n",
              "    <tr>\n",
              "      <th>max</th>\n",
              "      <td>1.000000</td>\n",
              "      <td>72.000000</td>\n",
              "      <td>118.750000</td>\n",
              "    </tr>\n",
              "  </tbody>\n",
              "</table>\n",
              "</div>\n",
              "      <button class=\"colab-df-convert\" onclick=\"convertToInteractive('df-4ae444c3-4bf8-46da-a238-9f16f4d7ad85')\"\n",
              "              title=\"Convert this dataframe to an interactive table.\"\n",
              "              style=\"display:none;\">\n",
              "        \n",
              "  <svg xmlns=\"http://www.w3.org/2000/svg\" height=\"24px\"viewBox=\"0 0 24 24\"\n",
              "       width=\"24px\">\n",
              "    <path d=\"M0 0h24v24H0V0z\" fill=\"none\"/>\n",
              "    <path d=\"M18.56 5.44l.94 2.06.94-2.06 2.06-.94-2.06-.94-.94-2.06-.94 2.06-2.06.94zm-11 1L8.5 8.5l.94-2.06 2.06-.94-2.06-.94L8.5 2.5l-.94 2.06-2.06.94zm10 10l.94 2.06.94-2.06 2.06-.94-2.06-.94-.94-2.06-.94 2.06-2.06.94z\"/><path d=\"M17.41 7.96l-1.37-1.37c-.4-.4-.92-.59-1.43-.59-.52 0-1.04.2-1.43.59L10.3 9.45l-7.72 7.72c-.78.78-.78 2.05 0 2.83L4 21.41c.39.39.9.59 1.41.59.51 0 1.02-.2 1.41-.59l7.78-7.78 2.81-2.81c.8-.78.8-2.07 0-2.86zM5.41 20L4 18.59l7.72-7.72 1.47 1.35L5.41 20z\"/>\n",
              "  </svg>\n",
              "      </button>\n",
              "      \n",
              "  <style>\n",
              "    .colab-df-container {\n",
              "      display:flex;\n",
              "      flex-wrap:wrap;\n",
              "      gap: 12px;\n",
              "    }\n",
              "\n",
              "    .colab-df-convert {\n",
              "      background-color: #E8F0FE;\n",
              "      border: none;\n",
              "      border-radius: 50%;\n",
              "      cursor: pointer;\n",
              "      display: none;\n",
              "      fill: #1967D2;\n",
              "      height: 32px;\n",
              "      padding: 0 0 0 0;\n",
              "      width: 32px;\n",
              "    }\n",
              "\n",
              "    .colab-df-convert:hover {\n",
              "      background-color: #E2EBFA;\n",
              "      box-shadow: 0px 1px 2px rgba(60, 64, 67, 0.3), 0px 1px 3px 1px rgba(60, 64, 67, 0.15);\n",
              "      fill: #174EA6;\n",
              "    }\n",
              "\n",
              "    [theme=dark] .colab-df-convert {\n",
              "      background-color: #3B4455;\n",
              "      fill: #D2E3FC;\n",
              "    }\n",
              "\n",
              "    [theme=dark] .colab-df-convert:hover {\n",
              "      background-color: #434B5C;\n",
              "      box-shadow: 0px 1px 3px 1px rgba(0, 0, 0, 0.15);\n",
              "      filter: drop-shadow(0px 1px 2px rgba(0, 0, 0, 0.3));\n",
              "      fill: #FFFFFF;\n",
              "    }\n",
              "  </style>\n",
              "\n",
              "      <script>\n",
              "        const buttonEl =\n",
              "          document.querySelector('#df-4ae444c3-4bf8-46da-a238-9f16f4d7ad85 button.colab-df-convert');\n",
              "        buttonEl.style.display =\n",
              "          google.colab.kernel.accessAllowed ? 'block' : 'none';\n",
              "\n",
              "        async function convertToInteractive(key) {\n",
              "          const element = document.querySelector('#df-4ae444c3-4bf8-46da-a238-9f16f4d7ad85');\n",
              "          const dataTable =\n",
              "            await google.colab.kernel.invokeFunction('convertToInteractive',\n",
              "                                                     [key], {});\n",
              "          if (!dataTable) return;\n",
              "\n",
              "          const docLinkHtml = 'Like what you see? Visit the ' +\n",
              "            '<a target=\"_blank\" href=https://colab.research.google.com/notebooks/data_table.ipynb>data table notebook</a>'\n",
              "            + ' to learn more about interactive tables.';\n",
              "          element.innerHTML = '';\n",
              "          dataTable['output_type'] = 'display_data';\n",
              "          await google.colab.output.renderOutput(dataTable, element);\n",
              "          const docLink = document.createElement('div');\n",
              "          docLink.innerHTML = docLinkHtml;\n",
              "          element.appendChild(docLink);\n",
              "        }\n",
              "      </script>\n",
              "    </div>\n",
              "  </div>\n",
              "  "
            ],
            "text/plain": [
              "       SeniorCitizen       tenure  MonthlyCharges\n",
              "count    7043.000000  7043.000000     7043.000000\n",
              "mean        0.162147    32.371149       64.761692\n",
              "std         0.368612    24.559481       30.090047\n",
              "min         0.000000     0.000000       18.250000\n",
              "25%         0.000000     9.000000       35.500000\n",
              "50%         0.000000    29.000000       70.350000\n",
              "75%         0.000000    55.000000       89.850000\n",
              "max         1.000000    72.000000      118.750000"
            ]
          },
          "metadata": {},
          "execution_count": 7
        }
      ]
    },
    {
      "cell_type": "markdown",
      "source": [
        "with above information,we can observe the fact that many columns contains a minimum value of even 0 value,which means the value can even go with zero amount as well."
      ],
      "metadata": {
        "id": "EwNmOk_pklmR"
      }
    },
    {
      "cell_type": "code",
      "source": [
        "#to check whether any null values present in dataframe\n",
        "df.isnull().sum()"
      ],
      "metadata": {
        "colab": {
          "base_uri": "https://localhost:8080/"
        },
        "id": "jzi44svfkfD4",
        "outputId": "bc67f624-672b-4557-f3b5-e07d4d9f8635"
      },
      "execution_count": 8,
      "outputs": [
        {
          "output_type": "execute_result",
          "data": {
            "text/plain": [
              "customerID          0\n",
              "gender              0\n",
              "SeniorCitizen       0\n",
              "Partner             0\n",
              "Dependents          0\n",
              "tenure              0\n",
              "PhoneService        0\n",
              "MultipleLines       0\n",
              "InternetService     0\n",
              "OnlineSecurity      0\n",
              "OnlineBackup        0\n",
              "DeviceProtection    0\n",
              "TechSupport         0\n",
              "StreamingTV         0\n",
              "StreamingMovies     0\n",
              "Contract            0\n",
              "PaperlessBilling    0\n",
              "PaymentMethod       0\n",
              "MonthlyCharges      0\n",
              "TotalCharges        0\n",
              "Churn               0\n",
              "dtype: int64"
            ]
          },
          "metadata": {},
          "execution_count": 8
        }
      ]
    },
    {
      "cell_type": "markdown",
      "source": [
        "we can see there no missing values in any column."
      ],
      "metadata": {
        "id": "8u6k5S8ekzws"
      }
    },
    {
      "cell_type": "markdown",
      "source": [
        "## EDA"
      ],
      "metadata": {
        "id": "r0pEbvrYk4ka"
      }
    },
    {
      "cell_type": "code",
      "source": [
        "#visualize \"Churn\" with histogram\n",
        "\n",
        "plt.hist(df['Churn'])\n",
        "plt.xlabel('Churn')\n",
        "plt.title('histogram of Churn')"
      ],
      "metadata": {
        "colab": {
          "base_uri": "https://localhost:8080/",
          "height": 313
        },
        "id": "GpIcyWnJkn0Q",
        "outputId": "263ff661-a3f4-48af-c1ea-0f3f0f1767f9"
      },
      "execution_count": 9,
      "outputs": [
        {
          "output_type": "execute_result",
          "data": {
            "text/plain": [
              "Text(0.5, 1.0, 'histogram of Churn')"
            ]
          },
          "metadata": {},
          "execution_count": 9
        },
        {
          "output_type": "display_data",
          "data": {
            "image/png": "[encoded data removed]",
            "text/plain": [
              "<Figure size 432x288 with 1 Axes>"
            ]
          },
          "metadata": {
            "needs_background": "light"
          }
        }
      ]
    },
    {
      "cell_type": "markdown",
      "source": [
        "we can clearly see that \"NO\" values are more occuring then \"YES\" values. SO,we can deal with this kind of imbalanced data by using a F1-score as our metrics evaluation method while training the model"
      ],
      "metadata": {
        "id": "AtgoaIWplA8x"
      }
    },
    {
      "cell_type": "code",
      "source": [
        "import warnings\n",
        "warnings.filterwarnings('ignore') #to remove warning messages"
      ],
      "metadata": {
        "id": "uSccf4Tlk-WU"
      },
      "execution_count": 10,
      "outputs": []
    },
    {
      "cell_type": "code",
      "source": [
        "len(df['customerID'].unique())"
      ],
      "metadata": {
        "colab": {
          "base_uri": "https://localhost:8080/"
        },
        "id": "eDptyVAGlIIA",
        "outputId": "40bcef19-a55c-40ca-fdb8-ea931a7eb1c9"
      },
      "execution_count": 12,
      "outputs": [
        {
          "output_type": "execute_result",
          "data": {
            "text/plain": [
              "7043"
            ]
          },
          "metadata": {},
          "execution_count": 12
        }
      ]
    },
    {
      "cell_type": "markdown",
      "source": [
        "So,we can clearly see that customerID column has unique values for all rows which won't contribute much in building a model.\n",
        "So,we can remove this column."
      ],
      "metadata": {
        "id": "FvPS4BZxlcRS"
      }
    },
    {
      "cell_type": "code",
      "source": [
        "df = df.drop([\"customerID\"],axis=1)"
      ],
      "metadata": {
        "id": "jyNFjYPllYLy"
      },
      "execution_count": 13,
      "outputs": []
    },
    {
      "cell_type": "code",
      "source": [
        "sns.factorplot('gender', data=df, kind=\"count\") ## Let's check Gender"
      ],
      "metadata": {
        "colab": {
          "base_uri": "https://localhost:8080/",
          "height": 387
        },
        "id": "_OCX0D89l0Mq",
        "outputId": "25d585e6-405e-4015-e1ed-d45a5f0c1e7e"
      },
      "execution_count": 15,
      "outputs": [
        {
          "output_type": "execute_result",
          "data": {
            "text/plain": [
              "<seaborn.axisgrid.FacetGrid at 0x7fc11eeaf650>"
            ]
          },
          "metadata": {},
          "execution_count": 15
        },
        {
          "output_type": "display_data",
          "data": {
            "image/png": "[encoded data removed]",
            "text/plain": [
              "<Figure size 360x360 with 1 Axes>"
            ]
          },
          "metadata": {
            "needs_background": "light"
          }
        }
      ]
    },
    {
      "cell_type": "markdown",
      "source": [
        "So,for both male and female have same reords."
      ],
      "metadata": {
        "id": "cyoGIgzymD70"
      }
    },
    {
      "cell_type": "code",
      "source": [
        "sns.factorplot('SeniorCitizen', data=df, kind=\"count\", hue='Churn')"
      ],
      "metadata": {
        "colab": {
          "base_uri": "https://localhost:8080/",
          "height": 387
        },
        "id": "L2AXvsO-mAnA",
        "outputId": "c2539753-07b2-45be-ab7b-d90d6c0c81e3"
      },
      "execution_count": 17,
      "outputs": [
        {
          "output_type": "execute_result",
          "data": {
            "text/plain": [
              "<seaborn.axisgrid.FacetGrid at 0x7fc11c563950>"
            ]
          },
          "metadata": {},
          "execution_count": 17
        },
        {
          "output_type": "display_data",
          "data": {
            "image/png": "[encoded data removed]",
            "text/plain": [
              "<Figure size 412x360 with 1 Axes>"
            ]
          },
          "metadata": {
            "needs_background": "light"
          }
        }
      ]
    },
    {
      "cell_type": "markdown",
      "source": [
        "So,mostly seniour citizen people have almost same intention for both \"YES\" and \"NO\" to Churn.\n",
        "\n",
        "But other then Senior citizen people have mostly intended to say \"NO\" to Churn rather then saying \"YES\" to churn."
      ],
      "metadata": {
        "id": "rZ8GkcSsm0eT"
      }
    },
    {
      "cell_type": "code",
      "source": [
        "sns.factorplot('InternetService', data=df, kind=\"count\", hue='PhoneService')"
      ],
      "metadata": {
        "colab": {
          "base_uri": "https://localhost:8080/",
          "height": 387
        },
        "id": "eh5zKECCmSs4",
        "outputId": "5936dd3d-5be9-41bf-a577-35d38a14aed5"
      },
      "execution_count": 25,
      "outputs": [
        {
          "output_type": "execute_result",
          "data": {
            "text/plain": [
              "<seaborn.axisgrid.FacetGrid at 0x7fc11bff6610>"
            ]
          },
          "metadata": {},
          "execution_count": 25
        },
        {
          "output_type": "display_data",
          "data": {
            "image/png": "[encoded data removed]",
            "text/plain": [
              "<Figure size 435.75x360 with 1 Axes>"
            ]
          },
          "metadata": {
            "needs_background": "light"
          }
        }
      ]
    },
    {
      "cell_type": "markdown",
      "source": [
        "So,mostly those who have phone service also have internet service of \"Fiber optic\".\n",
        "\n",
        "And those who don't have a Phoneservice they usually go \"DSL\" as their Internet service."
      ],
      "metadata": {
        "id": "rUY7Ko_bo9Q8"
      }
    },
    {
      "cell_type": "code",
      "source": [
        "sns.factorplot('Contract', data=df, kind=\"count\") "
      ],
      "metadata": {
        "colab": {
          "base_uri": "https://localhost:8080/",
          "height": 387
        },
        "id": "kNcncVajn_RS",
        "outputId": "f118fd86-aed9-403d-84d6-14680a70c822"
      },
      "execution_count": 29,
      "outputs": [
        {
          "output_type": "execute_result",
          "data": {
            "text/plain": [
              "<seaborn.axisgrid.FacetGrid at 0x7fc11ba0b310>"
            ]
          },
          "metadata": {},
          "execution_count": 29
        },
        {
          "output_type": "display_data",
          "data": {
            "image/png": "[encoded data removed]",
            "text/plain": [
              "<Figure size 360x360 with 1 Axes>"
            ]
          },
          "metadata": {
            "needs_background": "light"
          }
        }
      ]
    },
    {
      "cell_type": "markdown",
      "source": [
        "So,most of them have a contract of month-to-month."
      ],
      "metadata": {
        "id": "IGUUtEdWqd1p"
      }
    },
    {
      "cell_type": "code",
      "source": [
        "sns.factorplot('OnlineBackup', data=df, kind=\"count\", hue='DeviceProtection')"
      ],
      "metadata": {
        "colab": {
          "base_uri": "https://localhost:8080/",
          "height": 387
        },
        "id": "cNKFSpUgpzth",
        "outputId": "50483004-add1-4840-d8b9-b16e3eea2a05"
      },
      "execution_count": 31,
      "outputs": [
        {
          "output_type": "execute_result",
          "data": {
            "text/plain": [
              "<seaborn.axisgrid.FacetGrid at 0x7fc11b99d510>"
            ]
          },
          "metadata": {},
          "execution_count": 31
        },
        {
          "output_type": "display_data",
          "data": {
            "image/png": "[encoded data removed]",
            "text/plain": [
              "<Figure size 491.25x360 with 1 Axes>"
            ]
          },
          "metadata": {
            "needs_background": "light"
          }
        }
      ]
    },
    {
      "cell_type": "markdown",
      "source": [
        "SO,Most of people who didn't had Device protection they also didn't had Online backup as well."
      ],
      "metadata": {
        "id": "kWcplGObq2rE"
      }
    },
    {
      "cell_type": "code",
      "source": [
        "sns.factorplot('StreamingTV', data=df, kind=\"count\", hue='Contract')"
      ],
      "metadata": {
        "colab": {
          "base_uri": "https://localhost:8080/",
          "height": 387
        },
        "id": "86RpKGpsqrwq",
        "outputId": "749fc63b-58c0-459c-e982-fe7a960d1822"
      },
      "execution_count": 33,
      "outputs": [
        {
          "output_type": "execute_result",
          "data": {
            "text/plain": [
              "<seaborn.axisgrid.FacetGrid at 0x7fc11b928e50>"
            ]
          },
          "metadata": {},
          "execution_count": 33
        },
        {
          "output_type": "display_data",
          "data": {
            "image/png": "[encoded data removed]",
            "text/plain": [
              "<Figure size 476.75x360 with 1 Axes>"
            ]
          },
          "metadata": {
            "needs_background": "light"
          }
        }
      ]
    },
    {
      "cell_type": "markdown",
      "source": [
        "So,most of people who didn't had no internet service they mostly likely to have a contract of Two year."
      ],
      "metadata": {
        "id": "KnlkUxFBrhHx"
      }
    },
    {
      "cell_type": "code",
      "source": [
        "sns.factorplot('Churn', data=df, kind=\"count\", hue='Contract')"
      ],
      "metadata": {
        "colab": {
          "base_uri": "https://localhost:8080/",
          "height": 387
        },
        "id": "-kAu7VhgrTZd",
        "outputId": "0068a9d1-b0f1-4037-8c31-2e5100fc5748"
      },
      "execution_count": 34,
      "outputs": [
        {
          "output_type": "execute_result",
          "data": {
            "text/plain": [
              "<seaborn.axisgrid.FacetGrid at 0x7fc11b7dca10>"
            ]
          },
          "metadata": {},
          "execution_count": 34
        },
        {
          "output_type": "display_data",
          "data": {
            "image/png": "[encoded data removed]",
            "text/plain": [
              "<Figure size 476.75x360 with 1 Axes>"
            ]
          },
          "metadata": {
            "needs_background": "light"
          }
        }
      ]
    },
    {
      "cell_type": "markdown",
      "source": [
        "So,those people who had a contract of One year/Two year they most likely are saying \"NO\" Churn."
      ],
      "metadata": {
        "id": "8j_cJpeur_fI"
      }
    },
    {
      "cell_type": "code",
      "source": [
        "#Since there are objective type columns,so we can use Label encoder method.\n",
        "\n",
        "from sklearn.preprocessing import LabelEncoder\n",
        "\n",
        "df['gender'] = LabelEncoder().fit_transform(df['gender'])\n",
        "df['Dependents'] = LabelEncoder().fit_transform(df['Dependents'])\n",
        "df['Partner'] = LabelEncoder().fit_transform(df['Partner'])\n",
        "df['PhoneService'] = LabelEncoder().fit_transform(df['PhoneService'])\n",
        "df['MultipleLines'] = LabelEncoder().fit_transform(df['MultipleLines'])\n",
        "df['InternetService'] = LabelEncoder().fit_transform(df['InternetService'])\n",
        "df['OnlineSecurity'] = LabelEncoder().fit_transform(df['OnlineSecurity'])\n",
        "df['OnlineBackup'] = LabelEncoder().fit_transform(df['OnlineBackup'])\n",
        "\n",
        "df['DeviceProtection'] = LabelEncoder().fit_transform(df['DeviceProtection'])\n",
        "df['TechSupport'] = LabelEncoder().fit_transform(df['TechSupport'])\n",
        "df['StreamingTV'] = LabelEncoder().fit_transform(df['StreamingTV'])\n",
        "df['StreamingMovies'] = LabelEncoder().fit_transform(df['StreamingMovies'])\n",
        "df['Contract'] = LabelEncoder().fit_transform(df['Contract'])\n",
        "df['PaperlessBilling'] = LabelEncoder().fit_transform(df['PaperlessBilling'])\n",
        "\n",
        "df['PaymentMethod'] = LabelEncoder().fit_transform(df['PaymentMethod'])\n",
        "df['TotalCharges'] = LabelEncoder().fit_transform(df['TotalCharges'])\n",
        "df['Churn'] = LabelEncoder().fit_transform(df['Churn'])"
      ],
      "metadata": {
        "id": "Ay0TTjYSsgLj"
      },
      "execution_count": 38,
      "outputs": []
    },
    {
      "cell_type": "code",
      "source": [
        "df.info()"
      ],
      "metadata": {
        "colab": {
          "base_uri": "https://localhost:8080/"
        },
        "id": "4l39L1sbtymS",
        "outputId": "9ba974d1-956e-4499-f262-8baf4b0ba3ce"
      },
      "execution_count": 39,
      "outputs": [
        {
          "output_type": "stream",
          "name": "stdout",
          "text": [
            "<class 'pandas.core.frame.DataFrame'>\n",
            "RangeIndex: 7043 entries, 0 to 7042\n",
            "Data columns (total 20 columns):\n",
            " #   Column            Non-Null Count  Dtype  \n",
            "---  ------            --------------  -----  \n",
            " 0   gender            7043 non-null   int64  \n",
            " 1   SeniorCitizen     7043 non-null   int64  \n",
            " 2   Partner           7043 non-null   int64  \n",
            " 3   Dependents        7043 non-null   int64  \n",
            " 4   tenure            7043 non-null   int64  \n",
            " 5   PhoneService      7043 non-null   int64  \n",
            " 6   MultipleLines     7043 non-null   int64  \n",
            " 7   InternetService   7043 non-null   int64  \n",
            " 8   OnlineSecurity    7043 non-null   int64  \n",
            " 9   OnlineBackup      7043 non-null   int64  \n",
            " 10  DeviceProtection  7043 non-null   int64  \n",
            " 11  TechSupport       7043 non-null   int64  \n",
            " 12  StreamingTV       7043 non-null   int64  \n",
            " 13  StreamingMovies   7043 non-null   int64  \n",
            " 14  Contract          7043 non-null   int64  \n",
            " 15  PaperlessBilling  7043 non-null   int64  \n",
            " 16  PaymentMethod     7043 non-null   int64  \n",
            " 17  MonthlyCharges    7043 non-null   float64\n",
            " 18  TotalCharges      7043 non-null   int64  \n",
            " 19  Churn             7043 non-null   int64  \n",
            "dtypes: float64(1), int64(19)\n",
            "memory usage: 1.1 MB\n"
          ]
        }
      ]
    },
    {
      "cell_type": "markdown",
      "source": [
        "So,now there are no objective type columns present in dataframe."
      ],
      "metadata": {
        "id": "DQCwqO0vt6ES"
      }
    },
    {
      "cell_type": "markdown",
      "source": [
        "## Correlation"
      ],
      "metadata": {
        "id": "rLVuDDi3t8QL"
      }
    },
    {
      "cell_type": "code",
      "source": [
        "df.corr()"
      ],
      "metadata": {
        "colab": {
          "base_uri": "https://localhost:8080/",
          "height": 740
        },
        "id": "8tQgP1kJt2pq",
        "outputId": "66464e8f-4c05-479b-b517-e359c39b6ece"
      },
      "execution_count": 40,
      "outputs": [
        {
          "output_type": "execute_result",
          "data": {
            "text/html": [
              "\n",
              "  <div id=\"df-3bd6bc3d-8927-498f-856e-631b5cccedf5\">\n",
              "    <div class=\"colab-df-container\">\n",
              "      <div>\n",
              "<style scoped>\n",
              "    .dataframe tbody tr th:only-of-type {\n",
              "        vertical-align: middle;\n",
              "    }\n",
              "\n",
              "    .dataframe tbody tr th {\n",
              "        vertical-align: top;\n",
              "    }\n",
              "\n",
              "    .dataframe thead th {\n",
              "        text-align: right;\n",
              "    }\n",
              "</style>\n",
              "<table border=\"1\" class=\"dataframe\">\n",
              "  <thead>\n",
              "    <tr style=\"text-align: right;\">\n",
              "      <th></th>\n",
              "      <th>gender</th>\n",
              "      <th>SeniorCitizen</th>\n",
              "      <th>Partner</th>\n",
              "      <th>Dependents</th>\n",
              "      <th>tenure</th>\n",
              "      <th>PhoneService</th>\n",
              "      <th>MultipleLines</th>\n",
              "      <th>InternetService</th>\n",
              "      <th>OnlineSecurity</th>\n",
              "      <th>OnlineBackup</th>\n",
              "      <th>DeviceProtection</th>\n",
              "      <th>TechSupport</th>\n",
              "      <th>StreamingTV</th>\n",
              "      <th>StreamingMovies</th>\n",
              "      <th>Contract</th>\n",
              "      <th>PaperlessBilling</th>\n",
              "      <th>PaymentMethod</th>\n",
              "      <th>MonthlyCharges</th>\n",
              "      <th>TotalCharges</th>\n",
              "      <th>Churn</th>\n",
              "    </tr>\n",
              "  </thead>\n",
              "  <tbody>\n",
              "    <tr>\n",
              "      <th>gender</th>\n",
              "      <td>1.000000</td>\n",
              "      <td>-0.001874</td>\n",
              "      <td>-0.001808</td>\n",
              "      <td>0.010517</td>\n",
              "      <td>0.005106</td>\n",
              "      <td>-0.006488</td>\n",
              "      <td>-0.006739</td>\n",
              "      <td>-0.000863</td>\n",
              "      <td>-0.015017</td>\n",
              "      <td>-0.012057</td>\n",
              "      <td>0.000549</td>\n",
              "      <td>-0.006825</td>\n",
              "      <td>-0.006421</td>\n",
              "      <td>-0.008743</td>\n",
              "      <td>0.000126</td>\n",
              "      <td>-0.011754</td>\n",
              "      <td>0.017352</td>\n",
              "      <td>-0.014569</td>\n",
              "      <td>-0.005291</td>\n",
              "      <td>-0.008612</td>\n",
              "    </tr>\n",
              "    <tr>\n",
              "      <th>SeniorCitizen</th>\n",
              "      <td>-0.001874</td>\n",
              "      <td>1.000000</td>\n",
              "      <td>0.016479</td>\n",
              "      <td>-0.211185</td>\n",
              "      <td>0.016567</td>\n",
              "      <td>0.008576</td>\n",
              "      <td>0.146185</td>\n",
              "      <td>-0.032310</td>\n",
              "      <td>-0.128221</td>\n",
              "      <td>-0.013632</td>\n",
              "      <td>-0.021398</td>\n",
              "      <td>-0.151268</td>\n",
              "      <td>0.030776</td>\n",
              "      <td>0.047266</td>\n",
              "      <td>-0.142554</td>\n",
              "      <td>0.156530</td>\n",
              "      <td>-0.038551</td>\n",
              "      <td>0.220173</td>\n",
              "      <td>0.037653</td>\n",
              "      <td>0.150889</td>\n",
              "    </tr>\n",
              "    <tr>\n",
              "      <th>Partner</th>\n",
              "      <td>-0.001808</td>\n",
              "      <td>0.016479</td>\n",
              "      <td>1.000000</td>\n",
              "      <td>0.452676</td>\n",
              "      <td>0.379697</td>\n",
              "      <td>0.017706</td>\n",
              "      <td>0.142410</td>\n",
              "      <td>0.000891</td>\n",
              "      <td>0.150828</td>\n",
              "      <td>0.153130</td>\n",
              "      <td>0.166330</td>\n",
              "      <td>0.126733</td>\n",
              "      <td>0.137341</td>\n",
              "      <td>0.129574</td>\n",
              "      <td>0.294806</td>\n",
              "      <td>-0.014877</td>\n",
              "      <td>-0.154798</td>\n",
              "      <td>0.096848</td>\n",
              "      <td>0.059568</td>\n",
              "      <td>-0.150448</td>\n",
              "    </tr>\n",
              "    <tr>\n",
              "      <th>Dependents</th>\n",
              "      <td>0.010517</td>\n",
              "      <td>-0.211185</td>\n",
              "      <td>0.452676</td>\n",
              "      <td>1.000000</td>\n",
              "      <td>0.159712</td>\n",
              "      <td>-0.001762</td>\n",
              "      <td>-0.024991</td>\n",
              "      <td>0.044590</td>\n",
              "      <td>0.152166</td>\n",
              "      <td>0.091015</td>\n",
              "      <td>0.080537</td>\n",
              "      <td>0.133524</td>\n",
              "      <td>0.046885</td>\n",
              "      <td>0.021321</td>\n",
              "      <td>0.243187</td>\n",
              "      <td>-0.111377</td>\n",
              "      <td>-0.040292</td>\n",
              "      <td>-0.113890</td>\n",
              "      <td>-0.009572</td>\n",
              "      <td>-0.164221</td>\n",
              "    </tr>\n",
              "    <tr>\n",
              "      <th>tenure</th>\n",
              "      <td>0.005106</td>\n",
              "      <td>0.016567</td>\n",
              "      <td>0.379697</td>\n",
              "      <td>0.159712</td>\n",
              "      <td>1.000000</td>\n",
              "      <td>0.008448</td>\n",
              "      <td>0.343032</td>\n",
              "      <td>-0.030359</td>\n",
              "      <td>0.325468</td>\n",
              "      <td>0.370876</td>\n",
              "      <td>0.371105</td>\n",
              "      <td>0.322942</td>\n",
              "      <td>0.289373</td>\n",
              "      <td>0.296866</td>\n",
              "      <td>0.671607</td>\n",
              "      <td>0.006152</td>\n",
              "      <td>-0.370436</td>\n",
              "      <td>0.247900</td>\n",
              "      <td>0.158523</td>\n",
              "      <td>-0.352229</td>\n",
              "    </tr>\n",
              "    <tr>\n",
              "      <th>PhoneService</th>\n",
              "      <td>-0.006488</td>\n",
              "      <td>0.008576</td>\n",
              "      <td>0.017706</td>\n",
              "      <td>-0.001762</td>\n",
              "      <td>0.008448</td>\n",
              "      <td>1.000000</td>\n",
              "      <td>-0.020538</td>\n",
              "      <td>0.387436</td>\n",
              "      <td>-0.015198</td>\n",
              "      <td>0.024105</td>\n",
              "      <td>0.003727</td>\n",
              "      <td>-0.019158</td>\n",
              "      <td>0.055353</td>\n",
              "      <td>0.043870</td>\n",
              "      <td>0.002247</td>\n",
              "      <td>0.016505</td>\n",
              "      <td>-0.004184</td>\n",
              "      <td>0.247398</td>\n",
              "      <td>0.083195</td>\n",
              "      <td>0.011942</td>\n",
              "    </tr>\n",
              "    <tr>\n",
              "      <th>MultipleLines</th>\n",
              "      <td>-0.006739</td>\n",
              "      <td>0.146185</td>\n",
              "      <td>0.142410</td>\n",
              "      <td>-0.024991</td>\n",
              "      <td>0.343032</td>\n",
              "      <td>-0.020538</td>\n",
              "      <td>1.000000</td>\n",
              "      <td>-0.109216</td>\n",
              "      <td>0.007141</td>\n",
              "      <td>0.117327</td>\n",
              "      <td>0.122318</td>\n",
              "      <td>0.011466</td>\n",
              "      <td>0.175059</td>\n",
              "      <td>0.180957</td>\n",
              "      <td>0.110842</td>\n",
              "      <td>0.165146</td>\n",
              "      <td>-0.176793</td>\n",
              "      <td>0.433576</td>\n",
              "      <td>0.114955</td>\n",
              "      <td>0.038037</td>\n",
              "    </tr>\n",
              "    <tr>\n",
              "      <th>InternetService</th>\n",
              "      <td>-0.000863</td>\n",
              "      <td>-0.032310</td>\n",
              "      <td>0.000891</td>\n",
              "      <td>0.044590</td>\n",
              "      <td>-0.030359</td>\n",
              "      <td>0.387436</td>\n",
              "      <td>-0.109216</td>\n",
              "      <td>1.000000</td>\n",
              "      <td>-0.028416</td>\n",
              "      <td>0.036138</td>\n",
              "      <td>0.044944</td>\n",
              "      <td>-0.026047</td>\n",
              "      <td>0.107417</td>\n",
              "      <td>0.098350</td>\n",
              "      <td>0.099721</td>\n",
              "      <td>-0.138625</td>\n",
              "      <td>0.086140</td>\n",
              "      <td>-0.323260</td>\n",
              "      <td>-0.055724</td>\n",
              "      <td>-0.047291</td>\n",
              "    </tr>\n",
              "    <tr>\n",
              "      <th>OnlineSecurity</th>\n",
              "      <td>-0.015017</td>\n",
              "      <td>-0.128221</td>\n",
              "      <td>0.150828</td>\n",
              "      <td>0.152166</td>\n",
              "      <td>0.325468</td>\n",
              "      <td>-0.015198</td>\n",
              "      <td>0.007141</td>\n",
              "      <td>-0.028416</td>\n",
              "      <td>1.000000</td>\n",
              "      <td>0.185126</td>\n",
              "      <td>0.175985</td>\n",
              "      <td>0.285028</td>\n",
              "      <td>0.044669</td>\n",
              "      <td>0.055954</td>\n",
              "      <td>0.374416</td>\n",
              "      <td>-0.157641</td>\n",
              "      <td>-0.096726</td>\n",
              "      <td>-0.053878</td>\n",
              "      <td>0.042357</td>\n",
              "      <td>-0.289309</td>\n",
              "    </tr>\n",
              "    <tr>\n",
              "      <th>OnlineBackup</th>\n",
              "      <td>-0.012057</td>\n",
              "      <td>-0.013632</td>\n",
              "      <td>0.153130</td>\n",
              "      <td>0.091015</td>\n",
              "      <td>0.370876</td>\n",
              "      <td>0.024105</td>\n",
              "      <td>0.117327</td>\n",
              "      <td>0.036138</td>\n",
              "      <td>0.185126</td>\n",
              "      <td>1.000000</td>\n",
              "      <td>0.187757</td>\n",
              "      <td>0.195748</td>\n",
              "      <td>0.147186</td>\n",
              "      <td>0.136722</td>\n",
              "      <td>0.280980</td>\n",
              "      <td>-0.013370</td>\n",
              "      <td>-0.124847</td>\n",
              "      <td>0.119777</td>\n",
              "      <td>0.090756</td>\n",
              "      <td>-0.195525</td>\n",
              "    </tr>\n",
              "    <tr>\n",
              "      <th>DeviceProtection</th>\n",
              "      <td>0.000549</td>\n",
              "      <td>-0.021398</td>\n",
              "      <td>0.166330</td>\n",
              "      <td>0.080537</td>\n",
              "      <td>0.371105</td>\n",
              "      <td>0.003727</td>\n",
              "      <td>0.122318</td>\n",
              "      <td>0.044944</td>\n",
              "      <td>0.175985</td>\n",
              "      <td>0.187757</td>\n",
              "      <td>1.000000</td>\n",
              "      <td>0.240593</td>\n",
              "      <td>0.276652</td>\n",
              "      <td>0.288799</td>\n",
              "      <td>0.350277</td>\n",
              "      <td>-0.038234</td>\n",
              "      <td>-0.135750</td>\n",
              "      <td>0.163652</td>\n",
              "      <td>0.105905</td>\n",
              "      <td>-0.178134</td>\n",
              "    </tr>\n",
              "    <tr>\n",
              "      <th>TechSupport</th>\n",
              "      <td>-0.006825</td>\n",
              "      <td>-0.151268</td>\n",
              "      <td>0.126733</td>\n",
              "      <td>0.133524</td>\n",
              "      <td>0.322942</td>\n",
              "      <td>-0.019158</td>\n",
              "      <td>0.011466</td>\n",
              "      <td>-0.026047</td>\n",
              "      <td>0.285028</td>\n",
              "      <td>0.195748</td>\n",
              "      <td>0.240593</td>\n",
              "      <td>1.000000</td>\n",
              "      <td>0.161305</td>\n",
              "      <td>0.161316</td>\n",
              "      <td>0.425367</td>\n",
              "      <td>-0.113600</td>\n",
              "      <td>-0.104670</td>\n",
              "      <td>-0.008682</td>\n",
              "      <td>0.057488</td>\n",
              "      <td>-0.282492</td>\n",
              "    </tr>\n",
              "    <tr>\n",
              "      <th>StreamingTV</th>\n",
              "      <td>-0.006421</td>\n",
              "      <td>0.030776</td>\n",
              "      <td>0.137341</td>\n",
              "      <td>0.046885</td>\n",
              "      <td>0.289373</td>\n",
              "      <td>0.055353</td>\n",
              "      <td>0.175059</td>\n",
              "      <td>0.107417</td>\n",
              "      <td>0.044669</td>\n",
              "      <td>0.147186</td>\n",
              "      <td>0.276652</td>\n",
              "      <td>0.161305</td>\n",
              "      <td>1.000000</td>\n",
              "      <td>0.434772</td>\n",
              "      <td>0.227116</td>\n",
              "      <td>0.096642</td>\n",
              "      <td>-0.104234</td>\n",
              "      <td>0.336706</td>\n",
              "      <td>0.138173</td>\n",
              "      <td>-0.036581</td>\n",
              "    </tr>\n",
              "    <tr>\n",
              "      <th>StreamingMovies</th>\n",
              "      <td>-0.008743</td>\n",
              "      <td>0.047266</td>\n",
              "      <td>0.129574</td>\n",
              "      <td>0.021321</td>\n",
              "      <td>0.296866</td>\n",
              "      <td>0.043870</td>\n",
              "      <td>0.180957</td>\n",
              "      <td>0.098350</td>\n",
              "      <td>0.055954</td>\n",
              "      <td>0.136722</td>\n",
              "      <td>0.288799</td>\n",
              "      <td>0.161316</td>\n",
              "      <td>0.434772</td>\n",
              "      <td>1.000000</td>\n",
              "      <td>0.231226</td>\n",
              "      <td>0.083700</td>\n",
              "      <td>-0.111241</td>\n",
              "      <td>0.335459</td>\n",
              "      <td>0.145366</td>\n",
              "      <td>-0.038492</td>\n",
              "    </tr>\n",
              "    <tr>\n",
              "      <th>Contract</th>\n",
              "      <td>0.000126</td>\n",
              "      <td>-0.142554</td>\n",
              "      <td>0.294806</td>\n",
              "      <td>0.243187</td>\n",
              "      <td>0.671607</td>\n",
              "      <td>0.002247</td>\n",
              "      <td>0.110842</td>\n",
              "      <td>0.099721</td>\n",
              "      <td>0.374416</td>\n",
              "      <td>0.280980</td>\n",
              "      <td>0.350277</td>\n",
              "      <td>0.425367</td>\n",
              "      <td>0.227116</td>\n",
              "      <td>0.231226</td>\n",
              "      <td>1.000000</td>\n",
              "      <td>-0.176733</td>\n",
              "      <td>-0.227543</td>\n",
              "      <td>-0.074195</td>\n",
              "      <td>0.106178</td>\n",
              "      <td>-0.396713</td>\n",
              "    </tr>\n",
              "    <tr>\n",
              "      <th>PaperlessBilling</th>\n",
              "      <td>-0.011754</td>\n",
              "      <td>0.156530</td>\n",
              "      <td>-0.014877</td>\n",
              "      <td>-0.111377</td>\n",
              "      <td>0.006152</td>\n",
              "      <td>0.016505</td>\n",
              "      <td>0.165146</td>\n",
              "      <td>-0.138625</td>\n",
              "      <td>-0.157641</td>\n",
              "      <td>-0.013370</td>\n",
              "      <td>-0.038234</td>\n",
              "      <td>-0.113600</td>\n",
              "      <td>0.096642</td>\n",
              "      <td>0.083700</td>\n",
              "      <td>-0.176733</td>\n",
              "      <td>1.000000</td>\n",
              "      <td>-0.062904</td>\n",
              "      <td>0.352150</td>\n",
              "      <td>0.100957</td>\n",
              "      <td>0.191825</td>\n",
              "    </tr>\n",
              "    <tr>\n",
              "      <th>PaymentMethod</th>\n",
              "      <td>0.017352</td>\n",
              "      <td>-0.038551</td>\n",
              "      <td>-0.154798</td>\n",
              "      <td>-0.040292</td>\n",
              "      <td>-0.370436</td>\n",
              "      <td>-0.004184</td>\n",
              "      <td>-0.176793</td>\n",
              "      <td>0.086140</td>\n",
              "      <td>-0.096726</td>\n",
              "      <td>-0.124847</td>\n",
              "      <td>-0.135750</td>\n",
              "      <td>-0.104670</td>\n",
              "      <td>-0.104234</td>\n",
              "      <td>-0.111241</td>\n",
              "      <td>-0.227543</td>\n",
              "      <td>-0.062904</td>\n",
              "      <td>1.000000</td>\n",
              "      <td>-0.193407</td>\n",
              "      <td>-0.067477</td>\n",
              "      <td>0.107062</td>\n",
              "    </tr>\n",
              "    <tr>\n",
              "      <th>MonthlyCharges</th>\n",
              "      <td>-0.014569</td>\n",
              "      <td>0.220173</td>\n",
              "      <td>0.096848</td>\n",
              "      <td>-0.113890</td>\n",
              "      <td>0.247900</td>\n",
              "      <td>0.247398</td>\n",
              "      <td>0.433576</td>\n",
              "      <td>-0.323260</td>\n",
              "      <td>-0.053878</td>\n",
              "      <td>0.119777</td>\n",
              "      <td>0.163652</td>\n",
              "      <td>-0.008682</td>\n",
              "      <td>0.336706</td>\n",
              "      <td>0.335459</td>\n",
              "      <td>-0.074195</td>\n",
              "      <td>0.352150</td>\n",
              "      <td>-0.193407</td>\n",
              "      <td>1.000000</td>\n",
              "      <td>0.279875</td>\n",
              "      <td>0.193356</td>\n",
              "    </tr>\n",
              "    <tr>\n",
              "      <th>TotalCharges</th>\n",
              "      <td>-0.005291</td>\n",
              "      <td>0.037653</td>\n",
              "      <td>0.059568</td>\n",
              "      <td>-0.009572</td>\n",
              "      <td>0.158523</td>\n",
              "      <td>0.083195</td>\n",
              "      <td>0.114955</td>\n",
              "      <td>-0.055724</td>\n",
              "      <td>0.042357</td>\n",
              "      <td>0.090756</td>\n",
              "      <td>0.105905</td>\n",
              "      <td>0.057488</td>\n",
              "      <td>0.138173</td>\n",
              "      <td>0.145366</td>\n",
              "      <td>0.106178</td>\n",
              "      <td>0.100957</td>\n",
              "      <td>-0.067477</td>\n",
              "      <td>0.279875</td>\n",
              "      <td>1.000000</td>\n",
              "      <td>0.014479</td>\n",
              "    </tr>\n",
              "    <tr>\n",
              "      <th>Churn</th>\n",
              "      <td>-0.008612</td>\n",
              "      <td>0.150889</td>\n",
              "      <td>-0.150448</td>\n",
              "      <td>-0.164221</td>\n",
              "      <td>-0.352229</td>\n",
              "      <td>0.011942</td>\n",
              "      <td>0.038037</td>\n",
              "      <td>-0.047291</td>\n",
              "      <td>-0.289309</td>\n",
              "      <td>-0.195525</td>\n",
              "      <td>-0.178134</td>\n",
              "      <td>-0.282492</td>\n",
              "      <td>-0.036581</td>\n",
              "      <td>-0.038492</td>\n",
              "      <td>-0.396713</td>\n",
              "      <td>0.191825</td>\n",
              "      <td>0.107062</td>\n",
              "      <td>0.193356</td>\n",
              "      <td>0.014479</td>\n",
              "      <td>1.000000</td>\n",
              "    </tr>\n",
              "  </tbody>\n",
              "</table>\n",
              "</div>\n",
              "      <button class=\"colab-df-convert\" onclick=\"convertToInteractive('df-3bd6bc3d-8927-498f-856e-631b5cccedf5')\"\n",
              "              title=\"Convert this dataframe to an interactive table.\"\n",
              "              style=\"display:none;\">\n",
              "        \n",
              "  <svg xmlns=\"http://www.w3.org/2000/svg\" height=\"24px\"viewBox=\"0 0 24 24\"\n",
              "       width=\"24px\">\n",
              "    <path d=\"M0 0h24v24H0V0z\" fill=\"none\"/>\n",
              "    <path d=\"M18.56 5.44l.94 2.06.94-2.06 2.06-.94-2.06-.94-.94-2.06-.94 2.06-2.06.94zm-11 1L8.5 8.5l.94-2.06 2.06-.94-2.06-.94L8.5 2.5l-.94 2.06-2.06.94zm10 10l.94 2.06.94-2.06 2.06-.94-2.06-.94-.94-2.06-.94 2.06-2.06.94z\"/><path d=\"M17.41 7.96l-1.37-1.37c-.4-.4-.92-.59-1.43-.59-.52 0-1.04.2-1.43.59L10.3 9.45l-7.72 7.72c-.78.78-.78 2.05 0 2.83L4 21.41c.39.39.9.59 1.41.59.51 0 1.02-.2 1.41-.59l7.78-7.78 2.81-2.81c.8-.78.8-2.07 0-2.86zM5.41 20L4 18.59l7.72-7.72 1.47 1.35L5.41 20z\"/>\n",
              "  </svg>\n",
              "      </button>\n",
              "      \n",
              "  <style>\n",
              "    .colab-df-container {\n",
              "      display:flex;\n",
              "      flex-wrap:wrap;\n",
              "      gap: 12px;\n",
              "    }\n",
              "\n",
              "    .colab-df-convert {\n",
              "      background-color: #E8F0FE;\n",
              "      border: none;\n",
              "      border-radius: 50%;\n",
              "      cursor: pointer;\n",
              "      display: none;\n",
              "      fill: #1967D2;\n",
              "      height: 32px;\n",
              "      padding: 0 0 0 0;\n",
              "      width: 32px;\n",
              "    }\n",
              "\n",
              "    .colab-df-convert:hover {\n",
              "      background-color: #E2EBFA;\n",
              "      box-shadow: 0px 1px 2px rgba(60, 64, 67, 0.3), 0px 1px 3px 1px rgba(60, 64, 67, 0.15);\n",
              "      fill: #174EA6;\n",
              "    }\n",
              "\n",
              "    [theme=dark] .colab-df-convert {\n",
              "      background-color: #3B4455;\n",
              "      fill: #D2E3FC;\n",
              "    }\n",
              "\n",
              "    [theme=dark] .colab-df-convert:hover {\n",
              "      background-color: #434B5C;\n",
              "      box-shadow: 0px 1px 3px 1px rgba(0, 0, 0, 0.15);\n",
              "      filter: drop-shadow(0px 1px 2px rgba(0, 0, 0, 0.3));\n",
              "      fill: #FFFFFF;\n",
              "    }\n",
              "  </style>\n",
              "\n",
              "      <script>\n",
              "        const buttonEl =\n",
              "          document.querySelector('#df-3bd6bc3d-8927-498f-856e-631b5cccedf5 button.colab-df-convert');\n",
              "        buttonEl.style.display =\n",
              "          google.colab.kernel.accessAllowed ? 'block' : 'none';\n",
              "\n",
              "        async function convertToInteractive(key) {\n",
              "          const element = document.querySelector('#df-3bd6bc3d-8927-498f-856e-631b5cccedf5');\n",
              "          const dataTable =\n",
              "            await google.colab.kernel.invokeFunction('convertToInteractive',\n",
              "                                                     [key], {});\n",
              "          if (!dataTable) return;\n",
              "\n",
              "          const docLinkHtml = 'Like what you see? Visit the ' +\n",
              "            '<a target=\"_blank\" href=https://colab.research.google.com/notebooks/data_table.ipynb>data table notebook</a>'\n",
              "            + ' to learn more about interactive tables.';\n",
              "          element.innerHTML = '';\n",
              "          dataTable['output_type'] = 'display_data';\n",
              "          await google.colab.output.renderOutput(dataTable, element);\n",
              "          const docLink = document.createElement('div');\n",
              "          docLink.innerHTML = docLinkHtml;\n",
              "          element.appendChild(docLink);\n",
              "        }\n",
              "      </script>\n",
              "    </div>\n",
              "  </div>\n",
              "  "
            ],
            "text/plain": [
              "                    gender  SeniorCitizen  ...  TotalCharges     Churn\n",
              "gender            1.000000      -0.001874  ...     -0.005291 -0.008612\n",
              "SeniorCitizen    -0.001874       1.000000  ...      0.037653  0.150889\n",
              "Partner          -0.001808       0.016479  ...      0.059568 -0.150448\n",
              "Dependents        0.010517      -0.211185  ...     -0.009572 -0.164221\n",
              "tenure            0.005106       0.016567  ...      0.158523 -0.352229\n",
              "PhoneService     -0.006488       0.008576  ...      0.083195  0.011942\n",
              "MultipleLines    -0.006739       0.146185  ...      0.114955  0.038037\n",
              "InternetService  -0.000863      -0.032310  ...     -0.055724 -0.047291\n",
              "OnlineSecurity   -0.015017      -0.128221  ...      0.042357 -0.289309\n",
              "OnlineBackup     -0.012057      -0.013632  ...      0.090756 -0.195525\n",
              "DeviceProtection  0.000549      -0.021398  ...      0.105905 -0.178134\n",
              "TechSupport      -0.006825      -0.151268  ...      0.057488 -0.282492\n",
              "StreamingTV      -0.006421       0.030776  ...      0.138173 -0.036581\n",
              "StreamingMovies  -0.008743       0.047266  ...      0.145366 -0.038492\n",
              "Contract          0.000126      -0.142554  ...      0.106178 -0.396713\n",
              "PaperlessBilling -0.011754       0.156530  ...      0.100957  0.191825\n",
              "PaymentMethod     0.017352      -0.038551  ...     -0.067477  0.107062\n",
              "MonthlyCharges   -0.014569       0.220173  ...      0.279875  0.193356\n",
              "TotalCharges     -0.005291       0.037653  ...      1.000000  0.014479\n",
              "Churn            -0.008612       0.150889  ...      0.014479  1.000000\n",
              "\n",
              "[20 rows x 20 columns]"
            ]
          },
          "metadata": {},
          "execution_count": 40
        }
      ]
    },
    {
      "cell_type": "code",
      "source": [
        "#with target variable\n",
        "df.corr()['Churn'].sort_values()"
      ],
      "metadata": {
        "colab": {
          "base_uri": "https://localhost:8080/"
        },
        "id": "MezA01hXt-P6",
        "outputId": "19a31dcf-bc67-4db7-9537-4ac9fa28a284"
      },
      "execution_count": 41,
      "outputs": [
        {
          "output_type": "execute_result",
          "data": {
            "text/plain": [
              "Contract           -0.396713\n",
              "tenure             -0.352229\n",
              "OnlineSecurity     -0.289309\n",
              "TechSupport        -0.282492\n",
              "OnlineBackup       -0.195525\n",
              "DeviceProtection   -0.178134\n",
              "Dependents         -0.164221\n",
              "Partner            -0.150448\n",
              "InternetService    -0.047291\n",
              "StreamingMovies    -0.038492\n",
              "StreamingTV        -0.036581\n",
              "gender             -0.008612\n",
              "PhoneService        0.011942\n",
              "TotalCharges        0.014479\n",
              "MultipleLines       0.038037\n",
              "PaymentMethod       0.107062\n",
              "SeniorCitizen       0.150889\n",
              "PaperlessBilling    0.191825\n",
              "MonthlyCharges      0.193356\n",
              "Churn               1.000000\n",
              "Name: Churn, dtype: float64"
            ]
          },
          "metadata": {},
          "execution_count": 41
        }
      ]
    },
    {
      "cell_type": "code",
      "source": [
        "#plotting the correlation matrix using heatmap\n",
        "\n",
        "corr_matrix = df.corr()\n",
        "plt.figure(figsize=[25,18])\n",
        "sns.heatmap(corr_matrix,annot=True)\n",
        "plt.title(\"Correlation matrix\")\n",
        "plt.show()"
      ],
      "metadata": {
        "colab": {
          "base_uri": "https://localhost:8080/",
          "height": 896
        },
        "id": "zg1SScDBuCgJ",
        "outputId": "11128ccf-37c2-4b6e-e35a-d0b924231fb2"
      },
      "execution_count": 42,
      "outputs": [
        {
          "output_type": "display_data",
          "data": {
            "image/png": "[encoded data removed]",
            "text/plain": [
              "<Figure size 1800x1296 with 2 Axes>"
            ]
          },
          "metadata": {
            "needs_background": "light"
          }
        }
      ]
    },
    {
      "cell_type": "markdown",
      "source": [
        "### with this,there are both positive and negativs correlations with target variable,\n",
        "#### \"Contract\" has highest negative correlation(40%) with target variable.\n",
        "#### \"gender\" has least negative correlation(<1%).\n",
        "#### columns like \"PaperlessBilling\" and \"MonthlyCharges\" have highest positivr correlation(19%) with target variable.\n",
        "#### columns like \"MultipleLines\",\"TotalCharges\" and \"PhoneService\" has least positive correlation(<5%).\n",
        "\n"
      ],
      "metadata": {
        "id": "icou77ZWuPwp"
      }
    },
    {
      "cell_type": "markdown",
      "source": [
        "## Checking with outliers"
      ],
      "metadata": {
        "id": "MJCQbHSuvSIb"
      }
    },
    {
      "cell_type": "code",
      "source": [
        "df1 = df.iloc[:,:8]\n",
        "df2 = df.iloc[:,8:16]\n",
        "df3 = df.iloc[:,16:]"
      ],
      "metadata": {
        "id": "EC-cCQ0vuHJi"
      },
      "execution_count": 43,
      "outputs": []
    },
    {
      "cell_type": "code",
      "source": [
        "column_list = df1.columns.values\n",
        "n_col = 31\n",
        "n_row = 25\n",
        "plt.figure(figsize = (2*n_col,4*n_col))\n",
        "for i in range(len(column_list)):\n",
        "  plt.subplot(n_row,n_col,i+1)\n",
        "  sns.boxplot(df[column_list[i]],color='orange',orient='h')\n",
        "  plt.tight_layout()"
      ],
      "metadata": {
        "colab": {
          "base_uri": "https://localhost:8080/",
          "height": 361
        },
        "id": "3WdRKGQlvaT0",
        "outputId": "024b921a-2b10-4521-eb6b-7c69e159a882"
      },
      "execution_count": 44,
      "outputs": [
        {
          "output_type": "display_data",
          "data": {
            "image/png": "[encoded data removed]",
            "text/plain": [
              "<Figure size 4464x8928 with 8 Axes>"
            ]
          },
          "metadata": {
            "needs_background": "light"
          }
        }
      ]
    },
    {
      "cell_type": "code",
      "source": [
        "column_list = df2.columns.values\n",
        "n_col = 31\n",
        "n_row = 25\n",
        "plt.figure(figsize = (2*n_col,4*n_col))\n",
        "for i in range(len(column_list)):\n",
        "  plt.subplot(n_row,n_col,i+1)\n",
        "  sns.boxplot(df[column_list[i]],color='orange',orient='h')\n",
        "  plt.tight_layout()"
      ],
      "metadata": {
        "colab": {
          "base_uri": "https://localhost:8080/",
          "height": 360
        },
        "id": "bfLLDs_rvgVV",
        "outputId": "5d1922e5-9e8b-4ae2-9d63-eb585c5d0758"
      },
      "execution_count": 45,
      "outputs": [
        {
          "output_type": "display_data",
          "data": {
            "image/png": "[encoded data removed]",
            "text/plain": [
              "<Figure size 4464x8928 with 8 Axes>"
            ]
          },
          "metadata": {
            "needs_background": "light"
          }
        }
      ]
    },
    {
      "cell_type": "code",
      "source": [
        "column_list = df3.columns.values\n",
        "n_col = 31\n",
        "n_row = 25\n",
        "plt.figure(figsize = (2*n_col,4*n_col))\n",
        "for i in range(len(column_list)):\n",
        "  plt.subplot(n_row,n_col,i+1)\n",
        "  sns.boxplot(df[column_list[i]],color='orange',orient='h')\n",
        "  plt.tight_layout()"
      ],
      "metadata": {
        "colab": {
          "base_uri": "https://localhost:8080/",
          "height": 377
        },
        "id": "-5nqyidPvjQV",
        "outputId": "6d53c07a-41d3-4a85-87b2-93ee1174b1e0"
      },
      "execution_count": 46,
      "outputs": [
        {
          "output_type": "display_data",
          "data": {
            "image/png": "[encoded data removed]",
            "text/plain": [
              "<Figure size 4464x8928 with 4 Axes>"
            ]
          },
          "metadata": {
            "needs_background": "light"
          }
        }
      ]
    },
    {
      "cell_type": "markdown",
      "source": [
        "So,just the outliers present in columns such as \"SeniorCitzen\" and \"PhoneService\"."
      ],
      "metadata": {
        "id": "GHjLbf3TvsWK"
      }
    },
    {
      "cell_type": "markdown",
      "source": [
        "## checking with Skewness"
      ],
      "metadata": {
        "id": "gW-ewOhhv35r"
      }
    },
    {
      "cell_type": "code",
      "source": [
        "df.skew().sort_values()"
      ],
      "metadata": {
        "colab": {
          "base_uri": "https://localhost:8080/"
        },
        "id": "QZaM-lmsvkkl",
        "outputId": "08bf7dd5-9449-4878-dc4e-edf765480650"
      },
      "execution_count": 47,
      "outputs": [
        {
          "output_type": "execute_result",
          "data": {
            "text/plain": [
              "PhoneService       -2.727153\n",
              "PaperlessBilling   -0.375396\n",
              "MonthlyCharges     -0.220524\n",
              "PaymentMethod      -0.170129\n",
              "gender             -0.019031\n",
              "StreamingMovies     0.014657\n",
              "TotalCharges        0.015857\n",
              "StreamingTV         0.028486\n",
              "Partner             0.067922\n",
              "MultipleLines       0.118719\n",
              "OnlineBackup        0.182930\n",
              "DeviceProtection    0.186847\n",
              "InternetService     0.205423\n",
              "tenure              0.239540\n",
              "TechSupport         0.402365\n",
              "OnlineSecurity      0.416985\n",
              "Contract            0.630959\n",
              "Dependents          0.875199\n",
              "Churn               1.063031\n",
              "SeniorCitizen       1.833633\n",
              "dtype: float64"
            ]
          },
          "metadata": {},
          "execution_count": 47
        }
      ]
    },
    {
      "cell_type": "markdown",
      "source": [
        "So,there is more skewness in \"PhoneService\" and \"SeniorCitizen\" compared to other columns."
      ],
      "metadata": {
        "id": "LtdU8tyuv_K7"
      }
    },
    {
      "cell_type": "code",
      "source": [
        "#With above all observations,we can clearly see that these two columns \"PhoneService\" and \"SeniorCitizen\" have least correlation with\n",
        "#target variable and consisting of more outliers also these columns have a more skewness in it.\n",
        "#By this these columns are not much able to contribute in building a model,so we can neglect these columns by removing it.\n",
        "\n",
        "#So,we can drop these two columns from dataframe.\n",
        "df = df.drop([\"SeniorCitizen\",\"PhoneService\"],axis = 1)"
      ],
      "metadata": {
        "id": "x_4C5rLpws6-"
      },
      "execution_count": 50,
      "outputs": []
    },
    {
      "cell_type": "markdown",
      "source": [
        "## Removing the outliers"
      ],
      "metadata": {
        "id": "naOv2TowwF-j"
      }
    },
    {
      "cell_type": "code",
      "source": [
        "#with z-score technique\n",
        "\n",
        "from scipy.stats import zscore\n",
        "import numpy as np\n",
        "z_n = np.abs(zscore(df))\n",
        "z_n.shape"
      ],
      "metadata": {
        "colab": {
          "base_uri": "https://localhost:8080/"
        },
        "id": "kmThzC2uv7Eq",
        "outputId": "0c792a9e-a919-42fc-8a85-c596e5ab3d0f"
      },
      "execution_count": 51,
      "outputs": [
        {
          "output_type": "execute_result",
          "data": {
            "text/plain": [
              "(7043, 18)"
            ]
          },
          "metadata": {},
          "execution_count": 51
        }
      ]
    },
    {
      "cell_type": "code",
      "source": [
        "threshold = 3\n",
        "\n",
        "df_new = df[(z_n<threshold).all(axis=1)]\n",
        "print(df.shape)\n",
        "print(df_new.shape)"
      ],
      "metadata": {
        "colab": {
          "base_uri": "https://localhost:8080/"
        },
        "id": "U-QKspkowI6N",
        "outputId": "cf07379a-2709-4060-c129-3e020968f981"
      },
      "execution_count": 52,
      "outputs": [
        {
          "output_type": "stream",
          "name": "stdout",
          "text": [
            "(7043, 18)\n",
            "(7043, 18)\n"
          ]
        }
      ]
    },
    {
      "cell_type": "markdown",
      "source": [
        "So,clearly there are no ouliers present by this we dont have to remove any records."
      ],
      "metadata": {
        "id": "lElxPY9Mxwog"
      }
    },
    {
      "cell_type": "markdown",
      "source": [
        "## Dividing the data into features and vectors"
      ],
      "metadata": {
        "id": "62Jzhoj6x8h3"
      }
    },
    {
      "cell_type": "code",
      "source": [
        "y = df_new[[\"Churn\"]]\n",
        "x = df_new.drop([\"Churn\"],axis=1)"
      ],
      "metadata": {
        "id": "u7yzO_xewKrc"
      },
      "execution_count": 53,
      "outputs": []
    },
    {
      "cell_type": "markdown",
      "source": [
        "## Checking with multicollinearity\n"
      ],
      "metadata": {
        "id": "w3W39bnVyCcv"
      }
    },
    {
      "cell_type": "code",
      "source": [
        "from statsmodels.stats.outliers_influence import variance_inflation_factor\n",
        "def calc_vif_value(X):\n",
        "\n",
        "    # Calculating VIF\n",
        "    vif = pd.DataFrame()\n",
        "    vif[\"variables\"] = X.columns\n",
        "    vif[\"VIF\"] = [variance_inflation_factor(X.values, i) for i in range(X.shape[1])]\n",
        "\n",
        "    return(vif)"
      ],
      "metadata": {
        "id": "AEdGKjxlyAYV"
      },
      "execution_count": 54,
      "outputs": []
    },
    {
      "cell_type": "code",
      "source": [
        "calc_vif_value(x)"
      ],
      "metadata": {
        "colab": {
          "base_uri": "https://localhost:8080/",
          "height": 582
        },
        "id": "pwMGT_IiyE6s",
        "outputId": "0043d61c-2b19-4aa0-d541-2e3c94c6cc49"
      },
      "execution_count": 55,
      "outputs": [
        {
          "output_type": "execute_result",
          "data": {
            "text/html": [
              "\n",
              "  <div id=\"df-12573f4c-67fb-4dfd-bc49-84e380a9c380\">\n",
              "    <div class=\"colab-df-container\">\n",
              "      <div>\n",
              "<style scoped>\n",
              "    .dataframe tbody tr th:only-of-type {\n",
              "        vertical-align: middle;\n",
              "    }\n",
              "\n",
              "    .dataframe tbody tr th {\n",
              "        vertical-align: top;\n",
              "    }\n",
              "\n",
              "    .dataframe thead th {\n",
              "        text-align: right;\n",
              "    }\n",
              "</style>\n",
              "<table border=\"1\" class=\"dataframe\">\n",
              "  <thead>\n",
              "    <tr style=\"text-align: right;\">\n",
              "      <th></th>\n",
              "      <th>variables</th>\n",
              "      <th>VIF</th>\n",
              "    </tr>\n",
              "  </thead>\n",
              "  <tbody>\n",
              "    <tr>\n",
              "      <th>0</th>\n",
              "      <td>gender</td>\n",
              "      <td>1.914173</td>\n",
              "    </tr>\n",
              "    <tr>\n",
              "      <th>1</th>\n",
              "      <td>Partner</td>\n",
              "      <td>2.789483</td>\n",
              "    </tr>\n",
              "    <tr>\n",
              "      <th>2</th>\n",
              "      <td>Dependents</td>\n",
              "      <td>1.877976</td>\n",
              "    </tr>\n",
              "    <tr>\n",
              "      <th>3</th>\n",
              "      <td>tenure</td>\n",
              "      <td>7.451513</td>\n",
              "    </tr>\n",
              "    <tr>\n",
              "      <th>4</th>\n",
              "      <td>MultipleLines</td>\n",
              "      <td>2.671018</td>\n",
              "    </tr>\n",
              "    <tr>\n",
              "      <th>5</th>\n",
              "      <td>InternetService</td>\n",
              "      <td>2.422215</td>\n",
              "    </tr>\n",
              "    <tr>\n",
              "      <th>6</th>\n",
              "      <td>OnlineSecurity</td>\n",
              "      <td>2.228043</td>\n",
              "    </tr>\n",
              "    <tr>\n",
              "      <th>7</th>\n",
              "      <td>OnlineBackup</td>\n",
              "      <td>2.436113</td>\n",
              "    </tr>\n",
              "    <tr>\n",
              "      <th>8</th>\n",
              "      <td>DeviceProtection</td>\n",
              "      <td>2.617899</td>\n",
              "    </tr>\n",
              "    <tr>\n",
              "      <th>9</th>\n",
              "      <td>TechSupport</td>\n",
              "      <td>2.354972</td>\n",
              "    </tr>\n",
              "    <tr>\n",
              "      <th>10</th>\n",
              "      <td>StreamingTV</td>\n",
              "      <td>3.148208</td>\n",
              "    </tr>\n",
              "    <tr>\n",
              "      <th>11</th>\n",
              "      <td>StreamingMovies</td>\n",
              "      <td>3.174967</td>\n",
              "    </tr>\n",
              "    <tr>\n",
              "      <th>12</th>\n",
              "      <td>Contract</td>\n",
              "      <td>4.118945</td>\n",
              "    </tr>\n",
              "    <tr>\n",
              "      <th>13</th>\n",
              "      <td>PaperlessBilling</td>\n",
              "      <td>2.821461</td>\n",
              "    </tr>\n",
              "    <tr>\n",
              "      <th>14</th>\n",
              "      <td>PaymentMethod</td>\n",
              "      <td>2.806183</td>\n",
              "    </tr>\n",
              "    <tr>\n",
              "      <th>15</th>\n",
              "      <td>MonthlyCharges</td>\n",
              "      <td>9.303563</td>\n",
              "    </tr>\n",
              "    <tr>\n",
              "      <th>16</th>\n",
              "      <td>TotalCharges</td>\n",
              "      <td>4.220488</td>\n",
              "    </tr>\n",
              "  </tbody>\n",
              "</table>\n",
              "</div>\n",
              "      <button class=\"colab-df-convert\" onclick=\"convertToInteractive('df-12573f4c-67fb-4dfd-bc49-84e380a9c380')\"\n",
              "              title=\"Convert this dataframe to an interactive table.\"\n",
              "              style=\"display:none;\">\n",
              "        \n",
              "  <svg xmlns=\"http://www.w3.org/2000/svg\" height=\"24px\"viewBox=\"0 0 24 24\"\n",
              "       width=\"24px\">\n",
              "    <path d=\"M0 0h24v24H0V0z\" fill=\"none\"/>\n",
              "    <path d=\"M18.56 5.44l.94 2.06.94-2.06 2.06-.94-2.06-.94-.94-2.06-.94 2.06-2.06.94zm-11 1L8.5 8.5l.94-2.06 2.06-.94-2.06-.94L8.5 2.5l-.94 2.06-2.06.94zm10 10l.94 2.06.94-2.06 2.06-.94-2.06-.94-.94-2.06-.94 2.06-2.06.94z\"/><path d=\"M17.41 7.96l-1.37-1.37c-.4-.4-.92-.59-1.43-.59-.52 0-1.04.2-1.43.59L10.3 9.45l-7.72 7.72c-.78.78-.78 2.05 0 2.83L4 21.41c.39.39.9.59 1.41.59.51 0 1.02-.2 1.41-.59l7.78-7.78 2.81-2.81c.8-.78.8-2.07 0-2.86zM5.41 20L4 18.59l7.72-7.72 1.47 1.35L5.41 20z\"/>\n",
              "  </svg>\n",
              "      </button>\n",
              "      \n",
              "  <style>\n",
              "    .colab-df-container {\n",
              "      display:flex;\n",
              "      flex-wrap:wrap;\n",
              "      gap: 12px;\n",
              "    }\n",
              "\n",
              "    .colab-df-convert {\n",
              "      background-color: #E8F0FE;\n",
              "      border: none;\n",
              "      border-radius: 50%;\n",
              "      cursor: pointer;\n",
              "      display: none;\n",
              "      fill: #1967D2;\n",
              "      height: 32px;\n",
              "      padding: 0 0 0 0;\n",
              "      width: 32px;\n",
              "    }\n",
              "\n",
              "    .colab-df-convert:hover {\n",
              "      background-color: #E2EBFA;\n",
              "      box-shadow: 0px 1px 2px rgba(60, 64, 67, 0.3), 0px 1px 3px 1px rgba(60, 64, 67, 0.15);\n",
              "      fill: #174EA6;\n",
              "    }\n",
              "\n",
              "    [theme=dark] .colab-df-convert {\n",
              "      background-color: #3B4455;\n",
              "      fill: #D2E3FC;\n",
              "    }\n",
              "\n",
              "    [theme=dark] .colab-df-convert:hover {\n",
              "      background-color: #434B5C;\n",
              "      box-shadow: 0px 1px 3px 1px rgba(0, 0, 0, 0.15);\n",
              "      filter: drop-shadow(0px 1px 2px rgba(0, 0, 0, 0.3));\n",
              "      fill: #FFFFFF;\n",
              "    }\n",
              "  </style>\n",
              "\n",
              "      <script>\n",
              "        const buttonEl =\n",
              "          document.querySelector('#df-12573f4c-67fb-4dfd-bc49-84e380a9c380 button.colab-df-convert');\n",
              "        buttonEl.style.display =\n",
              "          google.colab.kernel.accessAllowed ? 'block' : 'none';\n",
              "\n",
              "        async function convertToInteractive(key) {\n",
              "          const element = document.querySelector('#df-12573f4c-67fb-4dfd-bc49-84e380a9c380');\n",
              "          const dataTable =\n",
              "            await google.colab.kernel.invokeFunction('convertToInteractive',\n",
              "                                                     [key], {});\n",
              "          if (!dataTable) return;\n",
              "\n",
              "          const docLinkHtml = 'Like what you see? Visit the ' +\n",
              "            '<a target=\"_blank\" href=https://colab.research.google.com/notebooks/data_table.ipynb>data table notebook</a>'\n",
              "            + ' to learn more about interactive tables.';\n",
              "          element.innerHTML = '';\n",
              "          dataTable['output_type'] = 'display_data';\n",
              "          await google.colab.output.renderOutput(dataTable, element);\n",
              "          const docLink = document.createElement('div');\n",
              "          docLink.innerHTML = docLinkHtml;\n",
              "          element.appendChild(docLink);\n",
              "        }\n",
              "      </script>\n",
              "    </div>\n",
              "  </div>\n",
              "  "
            ],
            "text/plain": [
              "           variables       VIF\n",
              "0             gender  1.914173\n",
              "1            Partner  2.789483\n",
              "2         Dependents  1.877976\n",
              "3             tenure  7.451513\n",
              "4      MultipleLines  2.671018\n",
              "5    InternetService  2.422215\n",
              "6     OnlineSecurity  2.228043\n",
              "7       OnlineBackup  2.436113\n",
              "8   DeviceProtection  2.617899\n",
              "9        TechSupport  2.354972\n",
              "10       StreamingTV  3.148208\n",
              "11   StreamingMovies  3.174967\n",
              "12          Contract  4.118945\n",
              "13  PaperlessBilling  2.821461\n",
              "14     PaymentMethod  2.806183\n",
              "15    MonthlyCharges  9.303563\n",
              "16      TotalCharges  4.220488"
            ]
          },
          "metadata": {},
          "execution_count": 55
        }
      ]
    },
    {
      "cell_type": "markdown",
      "source": [
        "So,all values are in desirable range."
      ],
      "metadata": {
        "id": "YX3WKqlZyJN9"
      }
    },
    {
      "cell_type": "markdown",
      "source": [
        "## Transforming data to eliminate skewness"
      ],
      "metadata": {
        "id": "0DF9YgR1yMbs"
      }
    },
    {
      "cell_type": "code",
      "source": [
        "from sklearn.preprocessing import power_transform\n",
        "x = power_transform(x)\n",
        "x[:5]"
      ],
      "metadata": {
        "colab": {
          "base_uri": "https://localhost:8080/"
        },
        "id": "Mhvb2-Q_yGaA",
        "outputId": "a299984d-c7df-42c6-f066-af426e1e2b71"
      },
      "execution_count": 56,
      "outputs": [
        {
          "output_type": "execute_result",
          "data": {
            "text/plain": [
              "array([[-1.00955867,  1.03453023, -0.65401193, -1.6443435 ,  0.33458513,\n",
              "        -1.25256794, -0.97719949,  1.16193616, -1.07701219, -0.98322672,\n",
              "        -1.15152597, -1.15823949, -0.88852373,  0.8297975 ,  0.40968472,\n",
              "        -1.1585412 , -0.28254766],\n",
              "       [ 0.99053183, -0.96662231, -0.65401193,  0.29720527, -1.01501452,\n",
              "        -1.25256794,  1.25870222, -1.07880023,  1.16353868, -0.98322672,\n",
              "        -1.15152597, -1.15823949,  0.79042388, -1.20511329,  1.31889872,\n",
              "        -0.23949171, -0.88438245],\n",
              "       [ 0.99053183, -0.96662231, -0.65401193, -1.49544443, -1.01501452,\n",
              "        -1.25256794,  1.25870222,  1.16193616, -1.07701219, -0.98322672,\n",
              "        -1.15152597, -1.15823949, -0.88852373,  0.8297975 ,  1.31889872,\n",
              "        -0.34266505, -1.93709705],\n",
              "       [ 0.99053183, -0.96662231, -0.65401193,  0.64632675,  0.33458513,\n",
              "        -1.25256794,  1.25870222, -1.07880023,  1.16353868,  1.25262474,\n",
              "        -1.15152597, -1.15823949,  0.79042388, -1.20511329, -1.48983732,\n",
              "        -0.73107888, -0.92643023],\n",
              "       [-1.00955867, -0.96662231, -0.65401193, -1.49544443, -1.01501452,\n",
              "         0.29025382, -0.97719949, -1.07880023, -1.07701219, -0.98322672,\n",
              "        -1.15152597, -1.15823949, -0.88852373,  0.8297975 ,  0.40968472,\n",
              "         0.21354491, -1.24995495]])"
            ]
          },
          "metadata": {},
          "execution_count": 56
        }
      ]
    },
    {
      "cell_type": "code",
      "source": [
        "from sklearn.preprocessing import StandardScaler\n",
        "sc = StandardScaler()\n",
        "x = sc.fit_transform(x)\n",
        "x[:5]\n"
      ],
      "metadata": {
        "colab": {
          "base_uri": "https://localhost:8080/"
        },
        "id": "3tqSES64yOm1",
        "outputId": "e1bc09d8-a828-4ab2-a02f-bfbc3c3bdcb3"
      },
      "execution_count": 57,
      "outputs": [
        {
          "output_type": "execute_result",
          "data": {
            "text/plain": [
              "array([[-1.00955867,  1.03453023, -0.65401193, -1.6443435 ,  0.33458513,\n",
              "        -1.25256794, -0.97719949,  1.16193616, -1.07701219, -0.98322672,\n",
              "        -1.15152597, -1.15823949, -0.88852373,  0.8297975 ,  0.40968472,\n",
              "        -1.1585412 , -0.28254766],\n",
              "       [ 0.99053183, -0.96662231, -0.65401193,  0.29720527, -1.01501452,\n",
              "        -1.25256794,  1.25870222, -1.07880023,  1.16353868, -0.98322672,\n",
              "        -1.15152597, -1.15823949,  0.79042388, -1.20511329,  1.31889872,\n",
              "        -0.23949171, -0.88438245],\n",
              "       [ 0.99053183, -0.96662231, -0.65401193, -1.49544443, -1.01501452,\n",
              "        -1.25256794,  1.25870222,  1.16193616, -1.07701219, -0.98322672,\n",
              "        -1.15152597, -1.15823949, -0.88852373,  0.8297975 ,  1.31889872,\n",
              "        -0.34266505, -1.93709705],\n",
              "       [ 0.99053183, -0.96662231, -0.65401193,  0.64632675,  0.33458513,\n",
              "        -1.25256794,  1.25870222, -1.07880023,  1.16353868,  1.25262474,\n",
              "        -1.15152597, -1.15823949,  0.79042388, -1.20511329, -1.48983732,\n",
              "        -0.73107888, -0.92643023],\n",
              "       [-1.00955867, -0.96662231, -0.65401193, -1.49544443, -1.01501452,\n",
              "         0.29025382, -0.97719949, -1.07880023, -1.07701219, -0.98322672,\n",
              "        -1.15152597, -1.15823949, -0.88852373,  0.8297975 ,  0.40968472,\n",
              "         0.21354491, -1.24995495]])"
            ]
          },
          "metadata": {},
          "execution_count": 57
        }
      ]
    },
    {
      "cell_type": "code",
      "source": [
        "x_n1 = pd.DataFrame(x) #to check with skewness again\n",
        "x_n1.skew()"
      ],
      "metadata": {
        "colab": {
          "base_uri": "https://localhost:8080/"
        },
        "id": "tXNJRJCdyRZK",
        "outputId": "6b66d503-40e2-4703-f5dd-744070c033e3"
      },
      "execution_count": 58,
      "outputs": [
        {
          "output_type": "execute_result",
          "data": {
            "text/plain": [
              "0    -0.019031\n",
              "1     0.067922\n",
              "2     0.875199\n",
              "3    -0.243325\n",
              "4     0.033697\n",
              "5    -0.072384\n",
              "6     0.149362\n",
              "7    -0.001417\n",
              "8     0.001051\n",
              "9     0.139751\n",
              "10   -0.097211\n",
              "11   -0.105641\n",
              "12    0.302174\n",
              "13   -0.375396\n",
              "14   -0.207559\n",
              "15   -0.259035\n",
              "16   -0.290854\n",
              "dtype: float64"
            ]
          },
          "metadata": {},
          "execution_count": 58
        }
      ]
    },
    {
      "cell_type": "markdown",
      "source": [
        "So,the skewness has been significantly reduced compred to previous values."
      ],
      "metadata": {
        "id": "N7DsueyTyW3v"
      }
    },
    {
      "cell_type": "markdown",
      "source": [
        "## Selecting a best random state"
      ],
      "metadata": {
        "id": "ovZAuwqBygpu"
      }
    },
    {
      "cell_type": "code",
      "source": [
        "#importing a necessary libraries\n",
        "from sklearn.linear_model import LogisticRegression\n",
        "from sklearn.metrics import accuracy_score\n",
        "from sklearn.metrics import confusion_matrix,classification_report\n",
        "from sklearn.model_selection import train_test_split\n",
        "\n",
        "accu_score = 0\n",
        "maxRS = 0 #best random state value for max accuracy_score\n",
        "for i in range(1,200):\n",
        "  x_train,x_test,y_train,y_test = train_test_split(x,y,test_size =.20,random_state = i)\n",
        "  LR = LogisticRegression()\n",
        "  LR.fit(x_train,y_train)\n",
        "  predic = LR.predict(x_test)\n",
        "  acc = accuracy_score(y_test,predic)\n",
        "  if acc > accu_score:\n",
        "    accu_score = acc\n",
        "    maxRS = i\n",
        "print(\"Best accuracy_score is \",accu_score,\" on Random state \",maxRS)"
      ],
      "metadata": {
        "colab": {
          "base_uri": "https://localhost:8080/"
        },
        "id": "T4-SRSADyTgS",
        "outputId": "359d4d1c-ae36-48b1-9682-a0d25415f9a9"
      },
      "execution_count": 59,
      "outputs": [
        {
          "output_type": "stream",
          "name": "stdout",
          "text": [
            "Best accuracy_score is  0.8254080908445706  on Random state  35\n"
          ]
        }
      ]
    },
    {
      "cell_type": "code",
      "source": [
        "x_train,x_test,y_train,y_test = train_test_split(x,y,test_size =.20,random_state = 35)"
      ],
      "metadata": {
        "id": "W-hp6_H4yk1f"
      },
      "execution_count": 60,
      "outputs": []
    },
    {
      "cell_type": "code",
      "source": [
        "print(x_train.shape,y_train.shape)"
      ],
      "metadata": {
        "colab": {
          "base_uri": "https://localhost:8080/"
        },
        "id": "KAtmqWfvyp7d",
        "outputId": "1b4f609e-1552-438b-fd0a-a7da5119ad29"
      },
      "execution_count": 61,
      "outputs": [
        {
          "output_type": "stream",
          "name": "stdout",
          "text": [
            "(5634, 17) (5634, 1)\n"
          ]
        }
      ]
    },
    {
      "cell_type": "code",
      "source": [
        "print(x_test.shape,y_test.shape)"
      ],
      "metadata": {
        "colab": {
          "base_uri": "https://localhost:8080/"
        },
        "id": "5dB5Wbyxyrmy",
        "outputId": "8ccc7272-7ed1-42fe-e206-f54155d662af"
      },
      "execution_count": 62,
      "outputs": [
        {
          "output_type": "stream",
          "name": "stdout",
          "text": [
            "(1409, 17) (1409, 1)\n"
          ]
        }
      ]
    },
    {
      "cell_type": "code",
      "source": [
        "# To predict the Loan_status,we can consider Logistic regressiom model\n",
        "LR = LogisticRegression()\n",
        "LR.fit(x_train,y_train)\n",
        "predic_1 = LR.predict(x_test)\n",
        "print(\"accuracy_score is {:0.3f}\".format(accuracy_score(y_test,predic_1)))\n",
        "\n",
        "#Since the class imbalance exists so, we can use F1-score as evaluation metrics\n",
        "from sklearn.metrics import f1_score\n",
        "print(\"f1_score is {:0.3f}\".format(f1_score(y_test,predic_1)))\n",
        "\n",
        "#confusion matrix and classification report\n",
        "\n",
        "print(confusion_matrix(y_test,predic_1))\n",
        "print(classification_report(y_test,predic_1))"
      ],
      "metadata": {
        "colab": {
          "base_uri": "https://localhost:8080/"
        },
        "id": "BTo0RoypytkM",
        "outputId": "6d691bf2-8796-44c2-a34b-44a0a6791721"
      },
      "execution_count": 63,
      "outputs": [
        {
          "output_type": "stream",
          "name": "stdout",
          "text": [
            "accuracy_score is 0.825\n",
            "f1_score is 0.602\n",
            "[[977  85]\n",
            " [161 186]]\n",
            "              precision    recall  f1-score   support\n",
            "\n",
            "           0       0.86      0.92      0.89      1062\n",
            "           1       0.69      0.54      0.60       347\n",
            "\n",
            "    accuracy                           0.83      1409\n",
            "   macro avg       0.77      0.73      0.75      1409\n",
            "weighted avg       0.82      0.83      0.82      1409\n",
            "\n"
          ]
        }
      ]
    },
    {
      "cell_type": "code",
      "source": [
        "#using DecisionTree classifier\n",
        "from sklearn.tree import DecisionTreeClassifier\n",
        "\n",
        "DT = DecisionTreeClassifier()\n",
        "DT.fit(x_train,y_train)\n",
        "predic_2 = DT.predict(x_test)\n",
        "print(\"accuracy_score is {:0.3f}\".format(accuracy_score(y_test,predic_2)))\n",
        "\n",
        "#Since the class imbalance exists so, we can use F1-score as evaluation metrics\n",
        "from sklearn.metrics import f1_score\n",
        "print(\"f1_score is {:0.3f}\".format(f1_score(y_test,predic_2)))\n",
        "\n",
        "#confusion matrix and classification report\n",
        "\n",
        "print(confusion_matrix(y_test,predic_2))\n",
        "print(classification_report(y_test,predic_2))"
      ],
      "metadata": {
        "colab": {
          "base_uri": "https://localhost:8080/"
        },
        "id": "vYo3njGnyv26",
        "outputId": "6f957e6c-4049-4a6b-e903-9b9bab697e71"
      },
      "execution_count": 64,
      "outputs": [
        {
          "output_type": "stream",
          "name": "stdout",
          "text": [
            "accuracy_score is 0.730\n",
            "f1_score is 0.482\n",
            "[[852 210]\n",
            " [170 177]]\n",
            "              precision    recall  f1-score   support\n",
            "\n",
            "           0       0.83      0.80      0.82      1062\n",
            "           1       0.46      0.51      0.48       347\n",
            "\n",
            "    accuracy                           0.73      1409\n",
            "   macro avg       0.65      0.66      0.65      1409\n",
            "weighted avg       0.74      0.73      0.74      1409\n",
            "\n"
          ]
        }
      ]
    },
    {
      "cell_type": "code",
      "source": [
        "#Using KNN Classifier\n",
        "from sklearn.neighbors import KNeighborsClassifier\n",
        "\n",
        "KN = KNeighborsClassifier()\n",
        "KN.fit(x_train,y_train)\n",
        "predic_3 = KN.predict(x_test)\n",
        "print(\"accuracy_score is {:0.3f}\".format(accuracy_score(y_test,predic_3)))\n",
        "\n",
        "#Since the class imbalance exists so, we can use F1-score as evaluation metrics\n",
        "from sklearn.metrics import f1_score\n",
        "print(\"f1_score is {:0.3f}\".format(f1_score(y_test,predic_3)))\n",
        "\n",
        "#confusion matrix and classification report\n",
        "\n",
        "print(confusion_matrix(y_test,predic_3))\n",
        "print(classification_report(y_test,predic_3))"
      ],
      "metadata": {
        "colab": {
          "base_uri": "https://localhost:8080/"
        },
        "id": "kxj_81YuyyxK",
        "outputId": "03e8c843-73ca-4fea-da7d-5ce95fa1481b"
      },
      "execution_count": 65,
      "outputs": [
        {
          "output_type": "stream",
          "name": "stdout",
          "text": [
            "accuracy_score is 0.789\n",
            "f1_score is 0.547\n",
            "[[931 131]\n",
            " [167 180]]\n",
            "              precision    recall  f1-score   support\n",
            "\n",
            "           0       0.85      0.88      0.86      1062\n",
            "           1       0.58      0.52      0.55       347\n",
            "\n",
            "    accuracy                           0.79      1409\n",
            "   macro avg       0.71      0.70      0.70      1409\n",
            "weighted avg       0.78      0.79      0.78      1409\n",
            "\n"
          ]
        }
      ]
    },
    {
      "cell_type": "code",
      "source": [
        "#Using Random forest Classifer\n",
        "from sklearn.ensemble import RandomForestClassifier\n",
        "\n",
        "RF = RandomForestClassifier()\n",
        "RF.fit(x_train,y_train)\n",
        "predic_4 = RF.predict(x_test)\n",
        "print(\"accuracy_score is {:0.3f}\".format(accuracy_score(y_test,predic_4)))\n",
        "\n",
        "#Since the class imbalance exists so, we can use F1-score as evaluation metrics\n",
        "from sklearn.metrics import f1_score\n",
        "print(\"f1_score is {:0.3f}\".format(f1_score(y_test,predic_4)))\n",
        "\n",
        "#confusion matrix and classification report\n",
        "\n",
        "print(confusion_matrix(y_test,predic_4))\n",
        "print(classification_report(y_test,predic_4))"
      ],
      "metadata": {
        "colab": {
          "base_uri": "https://localhost:8080/"
        },
        "id": "HQEzZJxay1Tz",
        "outputId": "e3277e71-1a44-420e-baf3-0b8ab7e90436"
      },
      "execution_count": 66,
      "outputs": [
        {
          "output_type": "stream",
          "name": "stdout",
          "text": [
            "accuracy_score is 0.805\n",
            "f1_score is 0.539\n",
            "[[973  89]\n",
            " [186 161]]\n",
            "              precision    recall  f1-score   support\n",
            "\n",
            "           0       0.84      0.92      0.88      1062\n",
            "           1       0.64      0.46      0.54       347\n",
            "\n",
            "    accuracy                           0.80      1409\n",
            "   macro avg       0.74      0.69      0.71      1409\n",
            "weighted avg       0.79      0.80      0.79      1409\n",
            "\n"
          ]
        }
      ]
    },
    {
      "cell_type": "markdown",
      "source": [
        "f1_score is high for logistic regression model"
      ],
      "metadata": {
        "id": "KA8UpCMOy93d"
      }
    },
    {
      "cell_type": "markdown",
      "source": [
        "## Cross Validation to check with overfitting"
      ],
      "metadata": {
        "id": "yClV0Um1y_9r"
      }
    },
    {
      "cell_type": "code",
      "source": [
        "from sklearn.model_selection import cross_val_score\n",
        "\n",
        "#for Logistic regression model\n",
        "L_cr = cross_val_score(LR,x,y,cv=5)\n",
        "print(\"cross validation for Logistics regression model : \",L_cr.mean())"
      ],
      "metadata": {
        "colab": {
          "base_uri": "https://localhost:8080/"
        },
        "id": "d8sA5VCoy4Yy",
        "outputId": "e250eac7-13fd-4ef4-88ce-1ac2f2750770"
      },
      "execution_count": 67,
      "outputs": [
        {
          "output_type": "stream",
          "name": "stdout",
          "text": [
            "cross validation for Logistics regression model :  0.8037782679527711\n"
          ]
        }
      ]
    },
    {
      "cell_type": "code",
      "source": [
        "L_cr = cross_val_score(KN,x,y,cv=5)\n",
        "print(\"cross validation for KNN classifier model : \",L_cr.mean())"
      ],
      "metadata": {
        "colab": {
          "base_uri": "https://localhost:8080/"
        },
        "id": "S_hVmIHDzCXS",
        "outputId": "429e66a4-6686-4f87-de0c-95024c770863"
      },
      "execution_count": 68,
      "outputs": [
        {
          "output_type": "stream",
          "name": "stdout",
          "text": [
            "cross validation for KNN classifier model :  0.7630256387508871\n"
          ]
        }
      ]
    },
    {
      "cell_type": "code",
      "source": [
        "L_cr = cross_val_score(DT,x,y,cv=5)\n",
        "print(\"cross validation for Decision tree model : \",L_cr.mean())"
      ],
      "metadata": {
        "colab": {
          "base_uri": "https://localhost:8080/"
        },
        "id": "fxNkfOQPzHF4",
        "outputId": "39d201cc-1690-46ee-8326-09e5a6716667"
      },
      "execution_count": 69,
      "outputs": [
        {
          "output_type": "stream",
          "name": "stdout",
          "text": [
            "cross validation for Decision tree model :  0.7208566883347312\n"
          ]
        }
      ]
    },
    {
      "cell_type": "code",
      "source": [
        "L_cr = cross_val_score(RF,x,y,cv=5)\n",
        "print(\"cross validation for Random forest model : \",L_cr.mean())"
      ],
      "metadata": {
        "colab": {
          "base_uri": "https://localhost:8080/"
        },
        "id": "6fvqgRVqzJ2-",
        "outputId": "44a40af2-480e-407e-8b47-4c25576a28de"
      },
      "execution_count": 70,
      "outputs": [
        {
          "output_type": "stream",
          "name": "stdout",
          "text": [
            "cross validation for Random forest model :  0.7888687374991935\n"
          ]
        }
      ]
    },
    {
      "cell_type": "markdown",
      "source": [
        "here also,the CV score is more for Logstic regression model. So, I will take my final model as logistic regression model"
      ],
      "metadata": {
        "id": "D5WHGzb2zO6K"
      }
    },
    {
      "cell_type": "markdown",
      "source": [
        "## Hyper parameter tuning"
      ],
      "metadata": {
        "id": "peJ9jH1XzRCn"
      }
    },
    {
      "cell_type": "code",
      "source": [
        "from sklearn.model_selection import GridSearchCV\n",
        "\n",
        "params_list = {'penalty':['l1','l2','elasticnet','none'],\n",
        "               'solver':['newton-cg','lbfgs','liblinear','sag','saga'],\n",
        "               'multi_class':['auto','ovr','multinomial'],\n",
        "               'C':[100, 10, 1.0, 0.1, 0.01]\n",
        "               }\n",
        "GCV = GridSearchCV(LogisticRegression(),params_list,cv=5,scoring=\"accuracy\")\n",
        "GCV.fit(x_train,y_train)\n",
        "\n",
        "#printing the best parameter\n",
        "GCV.best_params_"
      ],
      "metadata": {
        "colab": {
          "base_uri": "https://localhost:8080/"
        },
        "id": "3plSfVxlzLgW",
        "outputId": "6347ca2a-f061-43fa-bd80-9afbdb168ec7"
      },
      "execution_count": 71,
      "outputs": [
        {
          "output_type": "execute_result",
          "data": {
            "text/plain": [
              "{'C': 0.01, 'multi_class': 'auto', 'penalty': 'l2', 'solver': 'newton-cg'}"
            ]
          },
          "metadata": {},
          "execution_count": 71
        }
      ]
    },
    {
      "cell_type": "code",
      "source": [
        "#now predicting with best parameters\n",
        "\n",
        "GCV_predic = GCV.best_estimator_.predict(x_test)\n",
        "\n",
        "#getting the final accuracy\n",
        "print(\"accuarcy_score is\",accuracy_score(y_test,GCV_predic))\n",
        "print(\"f1_score is\",f1_score(y_test,GCV_predic))"
      ],
      "metadata": {
        "colab": {
          "base_uri": "https://localhost:8080/"
        },
        "id": "JcGXFzHqzUBv",
        "outputId": "78083bb2-4fee-4b7e-8e8d-8defe20cb9c4"
      },
      "execution_count": 72,
      "outputs": [
        {
          "output_type": "stream",
          "name": "stdout",
          "text": [
            "accuarcy_score is 0.8225691980127751\n",
            "f1_score is 0.5874587458745875\n"
          ]
        }
      ]
    },
    {
      "cell_type": "code",
      "source": [
        "from sklearn.metrics import plot_roc_curve\n",
        "plot_roc_curve(GCV.best_estimator_,x_test,y_test)\n",
        "plt.title(\"ROC AUC plot\")\n",
        "plt.show()"
      ],
      "metadata": {
        "colab": {
          "base_uri": "https://localhost:8080/",
          "height": 294
        },
        "id": "aM4ldfKozXo4",
        "outputId": "7054483c-7181-4412-8b26-dd8081756839"
      },
      "execution_count": 73,
      "outputs": [
        {
          "output_type": "display_data",
          "data": {
            "image/png": "[encoded data removed]",
            "text/plain": [
              "<Figure size 432x288 with 1 Axes>"
            ]
          },
          "metadata": {
            "needs_background": "light"
          }
        }
      ]
    },
    {
      "cell_type": "markdown",
      "source": [
        "from the above graph we got AUC score is 86%"
      ],
      "metadata": {
        "id": "jmPdQ00xz4hB"
      }
    },
    {
      "cell_type": "code",
      "source": [
        "import joblib\n",
        "joblib.dump(GCV.best_estimator_,\"Customer_Churn_Analysis..pkl\")"
      ],
      "metadata": {
        "colab": {
          "base_uri": "https://localhost:8080/"
        },
        "id": "EC98WbNWzZTS",
        "outputId": "3c105a3e-fb24-4702-a59a-e9d1260ce633"
      },
      "execution_count": 74,
      "outputs": [
        {
          "output_type": "execute_result",
          "data": {
            "text/plain": [
              "['Customer_Churn_Analysis..pkl']"
            ]
          },
          "metadata": {},
          "execution_count": 74
        }
      ]
    }
  ]
}